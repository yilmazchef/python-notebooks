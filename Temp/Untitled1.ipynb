{
 "cells": [
  {
   "cell_type": "markdown",
   "metadata": {},
   "source": [
    "Install the sqlite3\n",
    "SQLite browser can be installed from https://sqlitebrowser.org/blog/portableapp-for-3-11-2-release-now-available/"
   ]
  },
  {
   "cell_type": "code",
   "execution_count": 1,
   "metadata": {},
   "outputs": [
    {
     "name": "stdout",
     "output_type": "stream",
     "text": [
      "['Binary', 'Cache', 'Connection', 'Cursor', 'DataError', 'DatabaseError', 'Date', 'DateFromTicks', 'Error', 'IntegrityError', 'InterfaceError', 'InternalError', 'NotSupportedError', 'OperationalError', 'OptimizedUnicode', 'PARSE_COLNAMES', 'PARSE_DECLTYPES', 'PrepareProtocol', 'ProgrammingError', 'Row', 'SQLITE_ALTER_TABLE', 'SQLITE_ANALYZE', 'SQLITE_ATTACH', 'SQLITE_CREATE_INDEX', 'SQLITE_CREATE_TABLE', 'SQLITE_CREATE_TEMP_INDEX', 'SQLITE_CREATE_TEMP_TABLE', 'SQLITE_CREATE_TEMP_TRIGGER', 'SQLITE_CREATE_TEMP_VIEW', 'SQLITE_CREATE_TRIGGER', 'SQLITE_CREATE_VIEW', 'SQLITE_CREATE_VTABLE', 'SQLITE_DELETE', 'SQLITE_DENY', 'SQLITE_DETACH', 'SQLITE_DONE', 'SQLITE_DROP_INDEX', 'SQLITE_DROP_TABLE', 'SQLITE_DROP_TEMP_INDEX', 'SQLITE_DROP_TEMP_TABLE', 'SQLITE_DROP_TEMP_TRIGGER', 'SQLITE_DROP_TEMP_VIEW', 'SQLITE_DROP_TRIGGER', 'SQLITE_DROP_VIEW', 'SQLITE_DROP_VTABLE', 'SQLITE_FUNCTION', 'SQLITE_IGNORE', 'SQLITE_INSERT', 'SQLITE_OK', 'SQLITE_PRAGMA', 'SQLITE_READ', 'SQLITE_RECURSIVE', 'SQLITE_REINDEX', 'SQLITE_SAVEPOINT', 'SQLITE_SELECT', 'SQLITE_TRANSACTION', 'SQLITE_UPDATE', 'Statement', 'Time', 'TimeFromTicks', 'Timestamp', 'TimestampFromTicks', 'Warning', '__builtins__', '__cached__', '__doc__', '__file__', '__loader__', '__name__', '__package__', '__path__', '__spec__', 'adapt', 'adapters', 'apilevel', 'collections', 'complete_statement', 'connect', 'converters', 'datetime', 'dbapi2', 'enable_callback_tracebacks', 'enable_shared_cache', 'paramstyle', 'register_adapter', 'register_converter', 'sqlite_version', 'sqlite_version_info', 'threadsafety', 'time', 'version', 'version_info']\n",
      "Opened database successfully\n"
     ]
    }
   ],
   "source": [
    "import sqlite3\n",
    "# print (SELECT SQLITE_VERSION())\n",
    "\n",
    "print (dir(sqlite3))\n",
    "conn = sqlite3.connect('test.db')# db location is in curretn directory only\n",
    "print (\"Opened database successfully\")"
   ]
  },
  {
   "cell_type": "code",
   "execution_count": 3,
   "metadata": {},
   "outputs": [
    {
     "name": "stdout",
     "output_type": "stream",
     "text": [
      "<class 'sqlite3.Connection'>\n"
     ]
    },
    {
     "data": {
      "text/plain": [
       "<sqlite3.Cursor at 0x1c103bf6880>"
      ]
     },
     "execution_count": 3,
     "metadata": {},
     "output_type": "execute_result"
    }
   ],
   "source": [
    "print (type(conn))\n",
    "conn = sqlite3.connect('my_database233231.db')\n",
    "\n",
    "# print dir(conn)\n",
    "conn.execute('''CREATE TABLE COMPANY0022\n",
    "            (ID INT PRIMARY KEY     NOT NULL,\n",
    "            NAME           TEXT    NOT NULL,\n",
    "            AGE            INT     NOT NULL,\n",
    "            ADDRESS        CHAR(50),\n",
    "            SALARY         REAL);''')"
   ]
  },
  {
   "cell_type": "code",
   "execution_count": 4,
   "metadata": {},
   "outputs": [],
   "source": [
    "# conn.execute(\"CREATE TABLE COMPANY56\\\n",
    "#          (ID INT PRIMARY KEY     NOT NULL,\\\n",
    "#          NAME           TEXT    NOT NULL,\\\n",
    "#          AGE            INT     NOT NULL,\\\n",
    "#          ADDRESS        CHAR(50),\\\n",
    "#          SALARY         REAL)\");\n",
    "\n",
    "\n",
    "# print \"Table created successfully\";\n",
    "# conn.execute(\"INSERT INTO COMPANY0022 (ID,NAME,AGE,ADDRESS,SALARY) \\\n",
    "#        VALUES (1, 'Paul', 32, 'California', 20000.00 )\");\n",
    "# conn.close()"
   ]
  },
  {
   "cell_type": "markdown",
   "metadata": {},
   "source": [
    "The DB-API spec requires that connecting to the database begins a new transaction, by default. You must commit to confirm any changes you make, or rollback to discard them.\n"
   ]
  },
  {
   "cell_type": "code",
   "execution_count": null,
   "metadata": {},
   "outputs": [],
   "source": [
    "import sqlite3\n",
    "\n",
    "conn = sqlite3.connect('my_database1.db',)\n",
    "print \"Opened database successfully\";\n",
    "print dir(conn)\n",
    "conn.execute(\"INSERT INTO COMPANY56 (ID,NAME,AGE,ADDRESS,SALARY) \\\n",
    "      VALUES (14, 'Paul', 32, 'California', 20000.00 )\");\n",
    "\n",
    "conn.execute(\"INSERT INTO COMPANY56 (ID,NAME,AGE,ADDRESS,SALARY) \\\n",
    "     VALUES (5, 'Allen', 25, 'Texas', 15000.00 )\");\n",
    "\n",
    "conn.execute(\"INSERT INTO COMPANY56 (ID,NAME,AGE,ADDRESS,SALARY) \\\n",
    "      VALUES (6, 'Teddy', 23, 'Norway', 20000.00 )\");\n",
    "\n",
    "conn.execute(\"INSERT INTO COMPANY56 (ID,NAME,AGE,ADDRESS,SALARY) \\\n",
    "      VALUES (7, 'Mark', 25, 'Rich-Mond ', 65000.00 )\");\n",
    "\n",
    "conn.commit()\n",
    "# print \"Records created successfully\";\n",
    "conn.close()\n"
   ]
  },
  {
   "cell_type": "code",
   "execution_count": 5,
   "metadata": {},
   "outputs": [],
   "source": [
    "\n",
    "# import sqlite3\n",
    "\n",
    "# conn = sqlite3.connect('my_database1.db')\n",
    "# print \"Opened database successfully\";\n",
    "\n",
    "# cursor = conn.execute(\"SELECT id, name, address, salary from COMPANY56\")\n",
    "# # # print type(cursor)\n",
    "# for a in cursor:\n",
    "#    print a\n",
    "#    print \"ID = \", a[0]\n",
    "#    print \"NAME = \", a[1]\n",
    "#    print \"ADDRESS = \", a[2]\n",
    "#    print \"SALARY = \", a[3], \"\\n\"\n",
    "\n",
    "# print \"Operation done successfully\";\n",
    "# conn.close()"
   ]
  },
  {
   "cell_type": "code",
   "execution_count": 6,
   "metadata": {},
   "outputs": [],
   "source": [
    "# import sqlite3\n",
    "\n",
    "# conn = sqlite3.connect('my_database1.db')\n",
    "# print \"Opened database successfully\";\n",
    "\n",
    "# conn.execute(\"DELETE from COMPANY56 where ID = 6;\")\n",
    "# conn.commit()\n",
    "# print \"Total number of rows deleted :\", conn.total_changes\n",
    "\n",
    "# cursor = conn.execute(\"SELECT id, name, address, salary from COMPANY56\")\n",
    "# for row in cursor:\n",
    "#    print \"ID = \", row[0]\n",
    "#    print \"NAME = \", row[1]\n",
    "#    print \"ADDRESS = \", row[2]\n",
    "#    print \"SALARY = \", row[3], \"\\n\"\n",
    "\n",
    "# print \"Operation done successfully\";\n",
    "# conn.close()\n",
    "\n"
   ]
  },
  {
   "cell_type": "code",
   "execution_count": 7,
   "metadata": {},
   "outputs": [],
   "source": [
    "# for oracle\n",
    "# sudo apt-get install cx_Oracle\n",
    "# pip install cx_Oracle\n",
    "# import cx_Oracle\n",
    "# print dir(cx_Oracle)\n",
    "# ip = '192.168.0.1'\n",
    "# port = 1521\n",
    "# SID = 'YOURSIDHERE'\n",
    "# dsn_tns = cx_Oracle.makedsn(ip, port, SID)\n",
    "# db = cx_Oracle.connect('username', 'password', dsn_tns)\n",
    "# connstr = 'usrname/password@server_IP:1521/orcl'\n",
    "\n",
    "# con = cx_Oracle.connect('pythonhol/welcome@127.0.0.1/orcl')\n",
    "# print con.version\n",
    "# con.close()\n",
    "#  \n",
    "# cnx = mysql.connector.connect(user='joe', database='test')\n",
    "# cnx = MySQLConnection(user='joe', database='test')"
   ]
  },
  {
   "cell_type": "code",
   "execution_count": 8,
   "metadata": {},
   "outputs": [],
   "source": [
    "# import mysql.connector\n",
    "# mydb = mysql.connector.connect(\n",
    "#   host=\"localhost\",\n",
    "#   user=\"root\",\n",
    "#   passwd=\"root123\"\n",
    "# )\n",
    "\n",
    "# print(mydb)# "
   ]
  },
  {
   "cell_type": "code",
   "execution_count": null,
   "metadata": {},
   "outputs": [],
   "source": [
    "# create a database named \"mydatabase\":\n",
    "# import mysql.connector\n",
    "# mydb = mysql.connector.connect(\n",
    "#   host=\"localhost\",\n",
    "#   user=\"root\",\n",
    "#   passwd=\"root123\"\n",
    "# )\n",
    "\n",
    "# # print(mydb)# \n",
    "# mycursor = mydb.cursor()\n",
    "# mycursor.execute(\"CREATE DATABASE mydatabase\")\n"
   ]
  }
 ],
 "metadata": {
  "kernelspec": {
   "display_name": "Python 3",
   "language": "python",
   "name": "python3"
  },
  "language_info": {
   "codemirror_mode": {
    "name": "ipython",
    "version": 3
   },
   "file_extension": ".py",
   "mimetype": "text/x-python",
   "name": "python",
   "nbconvert_exporter": "python",
   "pygments_lexer": "ipython3",
   "version": "3.7.3"
  }
 },
 "nbformat": 4,
 "nbformat_minor": 2
}
