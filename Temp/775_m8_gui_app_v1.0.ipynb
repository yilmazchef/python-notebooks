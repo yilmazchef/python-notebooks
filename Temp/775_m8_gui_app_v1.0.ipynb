{
 "cells": [
  {
   "cell_type": "code",
   "execution_count": 1,
   "metadata": {
    "collapsed": true
   },
   "outputs": [],
   "source": [
    "import ipywidgets as widgets\n",
    "from ipywidgets import HBox, VBox\n",
    "import numpy as np\n",
    "import matplotlib.pyplot as plt\n",
    "from IPython.display import display\n",
    "%matplotlib inline"
   ]
  },
  {
   "cell_type": "code",
   "execution_count": 2,
   "metadata": {},
   "outputs": [
    {
     "data": {
      "application/vnd.jupyter.widget-view+json": {
       "model_id": "561f7e1a7465469b898cf645a3d479b9",
       "version_major": 2,
       "version_minor": 0
      },
      "text/plain": [
       "A Jupyter Widget"
      ]
     },
     "metadata": {},
     "output_type": "display_data"
    }
   ],
   "source": [
    "freq_slider = widgets.FloatSlider(\n",
    "    value=2.,\n",
    "    min=1.,\n",
    "    max=10.0,\n",
    "    step=0.1,\n",
    "    description='Frequency:',\n",
    "    readout_format='.1f',\n",
    ")\n",
    "freq_slider"
   ]
  },
  {
   "cell_type": "code",
   "execution_count": 3,
   "metadata": {},
   "outputs": [
    {
     "data": {
      "application/vnd.jupyter.widget-view+json": {
       "model_id": "0f95b0980f4e4177a9309d456c02b20c",
       "version_major": 2,
       "version_minor": 0
      },
      "text/plain": [
       "A Jupyter Widget"
      ]
     },
     "metadata": {},
     "output_type": "display_data"
    }
   ],
   "source": [
    "range_slider = widgets.FloatRangeSlider(\n",
    "    value=[-1., +1.],\n",
    "    min=-5., max=+5., step=0.1,\n",
    "    description='xlimit:',\n",
    "    readout_format='.1f',\n",
    ")\n",
    "range_slider"
   ]
  },
  {
   "cell_type": "code",
   "execution_count": 4,
   "metadata": {},
   "outputs": [
    {
     "data": {
      "application/vnd.jupyter.widget-view+json": {
       "model_id": "4a309625c0614ddea609b60cd578a2b6",
       "version_major": 2,
       "version_minor": 0
      },
      "text/plain": [
       "A Jupyter Widget"
      ]
     },
     "metadata": {},
     "output_type": "display_data"
    }
   ],
   "source": [
    "grid_button = widgets.ToggleButton(\n",
    "    value=False,\n",
    "    description='Grid',\n",
    "    icon='check'\n",
    ")\n",
    "grid_button"
   ]
  },
  {
   "cell_type": "code",
   "execution_count": 5,
   "metadata": {},
   "outputs": [
    {
     "data": {
      "application/vnd.jupyter.widget-view+json": {
       "model_id": "4e776c4fa6fc40f391c0e89f69a1c4ae",
       "version_major": 2,
       "version_minor": 0
      },
      "text/plain": [
       "A Jupyter Widget"
      ]
     },
     "metadata": {},
     "output_type": "display_data"
    }
   ],
   "source": [
    "color_buttons = widgets.ToggleButtons(\n",
    "    options=['blue', 'red', 'green'],\n",
    "    description='Color:',\n",
    ")\n",
    "color_buttons"
   ]
  },
  {
   "cell_type": "code",
   "execution_count": 6,
   "metadata": {},
   "outputs": [
    {
     "data": {
      "application/vnd.jupyter.widget-view+json": {
       "model_id": "2e01fbf6f5df49cf90b191c18e55482b",
       "version_major": 2,
       "version_minor": 0
      },
      "text/plain": [
       "A Jupyter Widget"
      ]
     },
     "metadata": {},
     "output_type": "display_data"
    }
   ],
   "source": [
    "title_textbox = widgets.Text(\n",
    "    value='Hello World',\n",
    "    description='Title:',\n",
    ")\n",
    "title_textbox"
   ]
  },
  {
   "cell_type": "code",
   "execution_count": 7,
   "metadata": {},
   "outputs": [
    {
     "data": {
      "application/vnd.jupyter.widget-view+json": {
       "model_id": "ba9e9372eb3a48cc8624c523ae2ff997",
       "version_major": 2,
       "version_minor": 0
      },
      "text/plain": [
       "A Jupyter Widget"
      ]
     },
     "metadata": {},
     "output_type": "display_data"
    }
   ],
   "source": [
    "color_picker = widgets.ColorPicker(\n",
    "    concise=True,\n",
    "    description='Background color:',\n",
    "    value='#efefef',\n",
    ")\n",
    "color_picker"
   ]
  },
  {
   "cell_type": "code",
   "execution_count": 8,
   "metadata": {},
   "outputs": [
    {
     "data": {
      "application/vnd.jupyter.widget-view+json": {
       "model_id": "d4c404ccd8c847b8beeb65edee4856e3",
       "version_major": 2,
       "version_minor": 0
      },
      "text/plain": [
       "A Jupyter Widget"
      ]
     },
     "metadata": {},
     "output_type": "display_data"
    }
   ],
   "source": [
    "button = widgets.Button(\n",
    "    description='Plot',\n",
    ")\n",
    "button"
   ]
  },
  {
   "cell_type": "code",
   "execution_count": 9,
   "metadata": {
    "collapsed": true
   },
   "outputs": [],
   "source": [
    "def plot2(b=None):\n",
    "    xlim = range_slider.value\n",
    "    freq = freq_slider.value\n",
    "    grid = grid_button.value\n",
    "    color = color_buttons.value\n",
    "    title = title_textbox.value\n",
    "    bgcolor = color_picker.value\n",
    "\n",
    "    t = np.linspace(xlim[0], xlim[1], 1000)\n",
    "    f, ax = plt.subplots(1, 1, figsize=(8, 6))\n",
    "    ax.plot(t, np.sin(2 * np.pi * freq * t),\n",
    "            color=color)\n",
    "    ax.grid(grid)"
   ]
  },
  {
   "cell_type": "code",
   "execution_count": 10,
   "metadata": {
    "collapsed": true
   },
   "outputs": [],
   "source": [
    "@button.on_click\n",
    "def plot_on_click(b):\n",
    "    plot2()"
   ]
  },
  {
   "cell_type": "code",
   "execution_count": 11,
   "metadata": {
    "collapsed": true
   },
   "outputs": [],
   "source": [
    "tab1 = VBox(children=[freq_slider,\n",
    "                      range_slider,\n",
    "                      ])\n",
    "tab2 = VBox(children=[color_buttons,\n",
    "                      HBox(children=[title_textbox,\n",
    "                                     color_picker,\n",
    "                                     grid_button]),\n",
    "                                     ])"
   ]
  },
  {
   "cell_type": "code",
   "execution_count": 12,
   "metadata": {},
   "outputs": [
    {
     "data": {
      "application/vnd.jupyter.widget-view+json": {
       "model_id": "ceafb0a6ad1e458797fa662fb9cc6396",
       "version_major": 2,
       "version_minor": 0
      },
      "text/plain": [
       "A Jupyter Widget"
      ]
     },
     "metadata": {},
     "output_type": "display_data"
    },
    {
     "data": {
      "image/png": "[encoded data removed]",
      "text/plain": [
       "<matplotlib.figure.Figure at 0x7fd0d5de20b8>"
      ]
     },
     "metadata": {},
     "output_type": "display_data"
    }
   ],
   "source": [
    "tab = widgets.Tab(children=[tab1, tab2])\n",
    "tab.set_title(0, 'plot')\n",
    "tab.set_title(1, 'styling')\n",
    "VBox(children=[tab, button])"
   ]
  },
  {
   "cell_type": "code",
   "execution_count": null,
   "metadata": {
    "collapsed": true
   },
   "outputs": [],
   "source": []
  },
  {
   "cell_type": "code",
   "execution_count": null,
   "metadata": {
    "collapsed": true
   },
   "outputs": [],
   "source": []
  }
 ],
 "metadata": {
  "kernelspec": {
   "display_name": "Python 3",
   "language": "python",
   "name": "python3"
  },
  "language_info": {
   "codemirror_mode": {
    "name": "ipython",
    "version": 3
   },
   "file_extension": ".py",
   "mimetype": "text/x-python",
   "name": "python",
   "nbconvert_exporter": "python",
   "pygments_lexer": "ipython3",
   "version": "3.8.3"
  }
 },
 "nbformat": 4,
 "nbformat_minor": 2
}
