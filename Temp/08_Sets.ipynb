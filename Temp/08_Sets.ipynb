{
 "cells": [
  {
   "cell_type": "markdown",
   "metadata": {},
   "source": [
    "# SET"
   ]
  },
  {
   "cell_type": "markdown",
   "metadata": {},
   "source": [
    "![Interpeter](08_Sets.jpg)"
   ]
  },
  {
   "cell_type": "markdown",
   "metadata": {},
   "source": [
    "A set contains an unordered collection of unique and mutable objects.\n",
    "The set data type is, as the name implies, a Python implementation of the sets as they are known from mathematics.\n",
    "Sets never have sequence and no duplicates also\n"
   ]
  },
  {
   "cell_type": "markdown",
   "metadata": {},
   "source": [
    "![Interpeter](08_Sets1.jpg)"
   ]
  },
  {
   "cell_type": "code",
   "execution_count": null,
   "metadata": {},
   "outputs": [],
   "source": [
    "s=\"string\"# '' or \"\"\n",
    "l=list()#[]\n",
    "t=tuple()# ()\n",
    "s=set()# {}"
   ]
  },
  {
   "cell_type": "code",
   "execution_count": null,
   "metadata": {},
   "outputs": [],
   "source": [
    "cities ={\"Frankfurt\", \"Basel\",\"Freiburg\"}"
   ]
  },
  {
   "cell_type": "code",
   "execution_count": null,
   "metadata": {},
   "outputs": [],
   "source": [
    "cities"
   ]
  },
  {
   "cell_type": "code",
   "execution_count": null,
   "metadata": {},
   "outputs": [],
   "source": [
    "type(cities)"
   ]
  },
  {
   "cell_type": "code",
   "execution_count": null,
   "metadata": {},
   "outputs": [],
   "source": [
    "cities ={\"Frankfurt\", \"Basel\",\"Freiburg\",[\"bangalore\",\"delhi\"]}"
   ]
  },
  {
   "cell_type": "code",
   "execution_count": null,
   "metadata": {},
   "outputs": [],
   "source": [
    "cities ={\"Frankfurt\", \"Basel\",\"Freiburg\",(\"bangalore\",\"delhi\")}\n",
    "cities"
   ]
  },
  {
   "cell_type": "code",
   "execution_count": null,
   "metadata": {},
   "outputs": [],
   "source": [
    "cities=set()\n",
    "cities ={\"Frankfurt\", \"Basel\",\"Freiburg\",\"Basel\",1232}\n",
    "cities"
   ]
  },
  {
   "cell_type": "code",
   "execution_count": null,
   "metadata": {},
   "outputs": [],
   "source": [
    "cities.add(\"Strasbourg\")\n",
    "cities.add(100)\n",
    "cities"
   ]
  },
  {
   "cell_type": "code",
   "execution_count": null,
   "metadata": {},
   "outputs": [],
   "source": [
    "cities.add(\"bangalore\")\n",
    "cities"
   ]
  },
  {
   "cell_type": "code",
   "execution_count": null,
   "metadata": {},
   "outputs": [],
   "source": [
    "cities.add(\"bangalore\")\n",
    "cities"
   ]
  },
  {
   "cell_type": "code",
   "execution_count": null,
   "metadata": {},
   "outputs": [],
   "source": [
    "s={100, 'Basel', 'Strasbourg', 'bangalore'}\n",
    "abc=\"Delhi\"\n",
    "s.add(abc)\n",
    "s"
   ]
  },
  {
   "cell_type": "code",
   "execution_count": null,
   "metadata": {},
   "outputs": [],
   "source": [
    "s={100, 'Basel', 'Frankfurt', 'Freiburg', 'Strasbourg', 'bangalore'}\n",
    "abc=\"delhi\"\n",
    "abx=\"delhi\"\n",
    "s.add(abc)\n",
    "print(s)\n",
    "s.add(abx)\n",
    "print(s)"
   ]
  },
  {
   "cell_type": "code",
   "execution_count": null,
   "metadata": {},
   "outputs": [],
   "source": [
    "dir(set)"
   ]
  },
  {
   "cell_type": "code",
   "execution_count": null,
   "metadata": {},
   "outputs": [],
   "source": [
    "help(set)"
   ]
  },
  {
   "cell_type": "code",
   "execution_count": null,
   "metadata": {},
   "outputs": [],
   "source": [
    "cities = {\"Stuttgart\", \"Konstanz\", \"Freiburg\"}\n",
    "cities.clear()\n",
    "cities"
   ]
  },
  {
   "cell_type": "code",
   "execution_count": null,
   "metadata": {},
   "outputs": [],
   "source": [
    "cities = [\"Stuttgart\", \"Konstanz\", \"Freiburg\"]\n",
    "cities.clear()\n",
    "cities"
   ]
  },
  {
   "cell_type": "code",
   "execution_count": null,
   "metadata": {},
   "outputs": [],
   "source": [
    "cities = {\"Stuttgart\", \"Konstanz\", \"Freiburg\", (333,333),(333,333)}\n",
    "# del cities\n",
    "print(cities)"
   ]
  },
  {
   "cell_type": "code",
   "execution_count": null,
   "metadata": {},
   "outputs": [],
   "source": [
    "cities = {\"Stuttgart\", \"Konstanz\", \"Freiburg\", {333,33}}\n",
    "# del cities\n",
    "print(cities)"
   ]
  },
  {
   "cell_type": "markdown",
   "metadata": {},
   "source": [
    "# Question"
   ]
  },
  {
   "cell_type": "raw",
   "metadata": {},
   "source": [
    "Write a program to remove the duplicates of a list"
   ]
  },
  {
   "cell_type": "code",
   "execution_count": null,
   "metadata": {},
   "outputs": [],
   "source": [
    "l = [1,2,3,\"python\", 3, \"python\"]"
   ]
  },
  {
   "cell_type": "code",
   "execution_count": null,
   "metadata": {},
   "outputs": [],
   "source": [
    "s=set(l)"
   ]
  },
  {
   "cell_type": "code",
   "execution_count": null,
   "metadata": {},
   "outputs": [],
   "source": [
    "l=list(s)"
   ]
  },
  {
   "cell_type": "code",
   "execution_count": null,
   "metadata": {},
   "outputs": [],
   "source": [
    "l"
   ]
  },
  {
   "cell_type": "markdown",
   "metadata": {},
   "source": [
    "### Copy of SET"
   ]
  },
  {
   "cell_type": "code",
   "execution_count": null,
   "metadata": {},
   "outputs": [],
   "source": [
    "more_cities = {\"Winterthur\",\"Schaffhausen\",\"St. Gallen\"}"
   ]
  },
  {
   "cell_type": "code",
   "execution_count": null,
   "metadata": {},
   "outputs": [],
   "source": [
    "cities_backup = more_cities.copy()\n",
    "cities_backup"
   ]
  },
  {
   "cell_type": "code",
   "execution_count": null,
   "metadata": {},
   "outputs": [],
   "source": [
    "more_cities is cities_backup"
   ]
  },
  {
   "cell_type": "code",
   "execution_count": null,
   "metadata": {},
   "outputs": [],
   "source": [
    "cities_backup == more_cities"
   ]
  },
  {
   "cell_type": "code",
   "execution_count": null,
   "metadata": {},
   "outputs": [],
   "source": [
    "print(id(more_cities))\n",
    "print(id(cities_backup))"
   ]
  },
  {
   "cell_type": "markdown",
   "metadata": {},
   "source": [
    "### Another way to create a copy"
   ]
  },
  {
   "cell_type": "code",
   "execution_count": null,
   "metadata": {},
   "outputs": [],
   "source": [
    "more_cities = {\"Winterthur\",\"Schaffhausen\",\"St. Gallen\"}\n",
    "city2=more_cities"
   ]
  },
  {
   "cell_type": "code",
   "execution_count": null,
   "metadata": {},
   "outputs": [],
   "source": [
    "more_cities is city2"
   ]
  },
  {
   "cell_type": "code",
   "execution_count": null,
   "metadata": {},
   "outputs": [],
   "source": [
    "city2 == more_cities"
   ]
  },
  {
   "cell_type": "code",
   "execution_count": null,
   "metadata": {},
   "outputs": [],
   "source": [
    "del (city2)\n",
    "print(more_cities)"
   ]
  },
  {
   "cell_type": "markdown",
   "metadata": {},
   "source": [
    "### Operations on SET"
   ]
  },
  {
   "cell_type": "code",
   "execution_count": null,
   "metadata": {},
   "outputs": [],
   "source": [
    "x = {\"a\",\"b\",\"c\",\"d\",\"e\"}\n",
    "y = {\"b\",\"c\",\"j\"}\n",
    "z = {\"c\",\"d\"}"
   ]
  },
  {
   "cell_type": "code",
   "execution_count": null,
   "metadata": {},
   "outputs": [],
   "source": [
    "a=x-y\n",
    "a"
   ]
  },
  {
   "cell_type": "code",
   "execution_count": null,
   "metadata": {},
   "outputs": [],
   "source": [
    "b=y-x\n",
    "b"
   ]
  },
  {
   "cell_type": "code",
   "execution_count": null,
   "metadata": {},
   "outputs": [],
   "source": [
    "a=x.difference(y)# same as a=x-y\n",
    "a"
   ]
  },
  {
   "cell_type": "code",
   "execution_count": null,
   "metadata": {},
   "outputs": [],
   "source": [
    "y.difference(x)# same as a=y-x"
   ]
  },
  {
   "cell_type": "code",
   "execution_count": null,
   "metadata": {},
   "outputs": [],
   "source": [
    "x.difference(y).difference(z)"
   ]
  },
  {
   "cell_type": "code",
   "execution_count": null,
   "metadata": {},
   "outputs": [],
   "source": [
    "x-y-z"
   ]
  },
  {
   "cell_type": "code",
   "execution_count": null,
   "metadata": {},
   "outputs": [],
   "source": [
    "x"
   ]
  },
  {
   "cell_type": "markdown",
   "metadata": {},
   "source": [
    "# Difference update"
   ]
  },
  {
   "cell_type": "code",
   "execution_count": null,
   "metadata": {},
   "outputs": [],
   "source": [
    "x = {\"a\",\"b\",\"c\",\"d\",\"e\"}\n",
    "y = {\"b\",\"c\",\"j\"}"
   ]
  },
  {
   "cell_type": "code",
   "execution_count": null,
   "metadata": {},
   "outputs": [],
   "source": [
    "x.difference_update(y)  #  x=x-y"
   ]
  },
  {
   "cell_type": "code",
   "execution_count": null,
   "metadata": {},
   "outputs": [],
   "source": [
    "x"
   ]
  },
  {
   "cell_type": "code",
   "execution_count": null,
   "metadata": {},
   "outputs": [],
   "source": [
    "y.difference_update(x)  #y=y-x"
   ]
  },
  {
   "cell_type": "code",
   "execution_count": null,
   "metadata": {},
   "outputs": [],
   "source": [
    "y"
   ]
  },
  {
   "cell_type": "code",
   "execution_count": null,
   "metadata": {},
   "outputs": [],
   "source": [
    "x=x-y\n",
    "x"
   ]
  },
  {
   "cell_type": "code",
   "execution_count": null,
   "metadata": {},
   "outputs": [],
   "source": [
    "x = {\"a\",\"b\",\"c\",\"d\",\"e\",(333,333,3333,3333)}\n",
    "x.discard(333)"
   ]
  },
  {
   "cell_type": "code",
   "execution_count": null,
   "metadata": {},
   "outputs": [],
   "source": [
    "x"
   ]
  },
  {
   "cell_type": "code",
   "execution_count": null,
   "metadata": {},
   "outputs": [],
   "source": [
    "x.discard(\"a\")"
   ]
  },
  {
   "cell_type": "code",
   "execution_count": null,
   "metadata": {},
   "outputs": [],
   "source": [
    "x"
   ]
  },
  {
   "cell_type": "code",
   "execution_count": null,
   "metadata": {},
   "outputs": [],
   "source": [
    "x.discard(\"z\")"
   ]
  },
  {
   "cell_type": "code",
   "execution_count": null,
   "metadata": {},
   "outputs": [],
   "source": [
    "x = {\"a\",\"b\",\"c\",\"d\",\"e\"}\n",
    "x.remove(\"z\")"
   ]
  },
  {
   "cell_type": "code",
   "execution_count": null,
   "metadata": {},
   "outputs": [],
   "source": [
    "x"
   ]
  },
  {
   "cell_type": "code",
   "execution_count": null,
   "metadata": {},
   "outputs": [],
   "source": [
    "# x.remove(\"z\")\n",
    "l =[]\n",
    "dir(l)"
   ]
  },
  {
   "cell_type": "markdown",
   "metadata": {},
   "source": [
    "# Intersection\n",
    "![Interpeter](intersection-in-python.jpg)"
   ]
  },
  {
   "cell_type": "code",
   "execution_count": null,
   "metadata": {},
   "outputs": [],
   "source": [
    "x = {\"a\",\"b\",\"c\",\"d\",\"e\"}\n",
    "y = {\"c\",\"d\",\"e\",\"f\",\"g\"}"
   ]
  },
  {
   "cell_type": "code",
   "execution_count": null,
   "metadata": {},
   "outputs": [],
   "source": [
    "x.intersection(y)"
   ]
  },
  {
   "cell_type": "code",
   "execution_count": null,
   "metadata": {},
   "outputs": [],
   "source": [
    "x & y"
   ]
  },
  {
   "cell_type": "markdown",
   "metadata": {},
   "source": [
    "# isdisjoint()\n"
   ]
  },
  {
   "cell_type": "markdown",
   "metadata": {},
   "source": [
    "This method returns True if two sets have a null intersection.\n"
   ]
  },
  {
   "cell_type": "code",
   "execution_count": null,
   "metadata": {},
   "outputs": [],
   "source": [
    "x = {\"a\",\"b\",\"c\",\"d\",\"e\"}\n",
    "a = {\"a\",\"b\",\"c\",}\n",
    "y = {\"c\",\"d\",\"e\",\"f\",\"g\"}\n",
    "z={1,2,3}"
   ]
  },
  {
   "cell_type": "code",
   "execution_count": null,
   "metadata": {},
   "outputs": [],
   "source": [
    "a.isdisjoint(x)"
   ]
  },
  {
   "cell_type": "code",
   "execution_count": null,
   "metadata": {},
   "outputs": [],
   "source": [
    "z.isdisjoint(y)"
   ]
  },
  {
   "cell_type": "markdown",
   "metadata": {},
   "source": [
    "# Union\n"
   ]
  },
  {
   "cell_type": "markdown",
   "metadata": {},
   "source": [
    "![Interpeter](05_set_union_b.png)"
   ]
  },
  {
   "cell_type": "code",
   "execution_count": null,
   "metadata": {},
   "outputs": [],
   "source": [
    "x = {\"a\",\"b\",\"c\",\"d\",\"e\"}\n",
    "y = {\"c\",\"d\",\"f\",\"a\"}"
   ]
  },
  {
   "cell_type": "code",
   "execution_count": null,
   "metadata": {},
   "outputs": [],
   "source": [
    "x|y"
   ]
  },
  {
   "cell_type": "code",
   "execution_count": null,
   "metadata": {},
   "outputs": [],
   "source": [
    "x.union(y)"
   ]
  },
  {
   "cell_type": "markdown",
   "metadata": {},
   "source": [
    "### issubset()\n"
   ]
  },
  {
   "cell_type": "markdown",
   "metadata": {},
   "source": [
    "x.issubset(y) returns True, if x is a subset of y. \"<=\" is an abbreviation for \"Subset of\"\tand \">=\" for \"superset of\" \n",
    "\"<\" is used to check if a set is a proper subset of a set.\n"
   ]
  },
  {
   "cell_type": "code",
   "execution_count": null,
   "metadata": {},
   "outputs": [],
   "source": [
    "x = {\"a\",\"b\",\"c\",\"d\",\"e\"}\n",
    "y = {\"c\",\"d\"}\n",
    "z = {\"c\",\"d\",\"f\"}"
   ]
  },
  {
   "cell_type": "code",
   "execution_count": null,
   "metadata": {},
   "outputs": [],
   "source": [
    "x.issubset(y)"
   ]
  },
  {
   "cell_type": "code",
   "execution_count": null,
   "metadata": {},
   "outputs": [],
   "source": [
    "y.issubset(x)    "
   ]
  },
  {
   "cell_type": "code",
   "execution_count": null,
   "metadata": {},
   "outputs": [],
   "source": [
    "x < y"
   ]
  },
  {
   "cell_type": "code",
   "execution_count": null,
   "metadata": {},
   "outputs": [],
   "source": [
    "y < x # y is a proper subset of x"
   ]
  },
  {
   "cell_type": "code",
   "execution_count": null,
   "metadata": {},
   "outputs": [],
   "source": [
    "x < x # a set can never be a proper subset of oneself."
   ]
  },
  {
   "cell_type": "code",
   "execution_count": null,
   "metadata": {},
   "outputs": [],
   "source": [
    "x <= x"
   ]
  },
  {
   "cell_type": "code",
   "execution_count": null,
   "metadata": {},
   "outputs": [],
   "source": [
    "y1 = {\"c\",\"d\"}\n",
    "y2 = {\"c\",\"d\"}\n",
    "# y1<=y2\n",
    "y1.issubset(y1)"
   ]
  },
  {
   "cell_type": "markdown",
   "metadata": {},
   "source": [
    "# issuperset()\n",
    "\n"
   ]
  },
  {
   "cell_type": "markdown",
   "metadata": {},
   "source": [
    "x.issuperset(y) returns True, if x is a superset of y. \">=\" is an abbreviation for \"issuperset of\"\n",
    "\">\" is used to check if a set is a proper superset of a set.\n"
   ]
  },
  {
   "cell_type": "code",
   "execution_count": null,
   "metadata": {},
   "outputs": [],
   "source": [
    "x = {\"a\",\"b\",\"c\"} #karnataka\n",
    "y = {\"c\",\"b\",\"a\",\"d\"} #india"
   ]
  },
  {
   "cell_type": "code",
   "execution_count": null,
   "metadata": {},
   "outputs": [],
   "source": [
    "x.issuperset(y)"
   ]
  },
  {
   "cell_type": "code",
   "execution_count": null,
   "metadata": {},
   "outputs": [],
   "source": [
    "y.issuperset(x)"
   ]
  },
  {
   "cell_type": "markdown",
   "metadata": {},
   "source": [
    "# Symmetric difference  (a-b union b-a) A^B"
   ]
  },
  {
   "cell_type": "code",
   "execution_count": null,
   "metadata": {},
   "outputs": [],
   "source": [
    "A = {1, 2, 3, 4, 5, 6, 7, 8}\n",
    "B = {1, 3, 5, 6, 7, 8, 9}\n",
    "c = {11,3,4,5,}"
   ]
  },
  {
   "cell_type": "code",
   "execution_count": null,
   "metadata": {},
   "outputs": [],
   "source": [
    "A-B"
   ]
  },
  {
   "cell_type": "code",
   "execution_count": null,
   "metadata": {},
   "outputs": [],
   "source": [
    "B-A"
   ]
  },
  {
   "cell_type": "code",
   "execution_count": null,
   "metadata": {},
   "outputs": [],
   "source": [
    "(A-B) | (B-A)"
   ]
  },
  {
   "cell_type": "code",
   "execution_count": null,
   "metadata": {},
   "outputs": [],
   "source": [
    "A^B"
   ]
  },
  {
   "cell_type": "markdown",
   "metadata": {},
   "source": [
    "# The latter operations have equivalent operators as shown below:\n",
    "  Method                         Operator\n",
    "<number>     a.intersection(b)             a & b<br>\n",
    "<number> a.union(b)                         a|b <br>\n",
    "<number>a.difference(b)                 a - b <br>\n",
    "<number>a.symmetric_difference(b)          a ^ b  <br>\n",
    "<number>a.issubset(b)                   a <= b <br>\n",
    "<number>a.issuperset(b)                 a >= b <br>"
   ]
  },
  {
   "cell_type": "markdown",
   "metadata": {},
   "source": [
    "# Frozen Sets "
   ]
  },
  {
   "cell_type": "markdown",
   "metadata": {},
   "source": [
    "Frozen sets are immutable objects\n",
    "that only support methods and operators that produce a result without \n",
    "afecting the frozen set or sets to which they are applied.\n"
   ]
  },
  {
   "cell_type": "code",
   "execution_count": null,
   "metadata": {},
   "outputs": [],
   "source": [
    "frozen_set = frozenset([\"e\", \"f\", \"g\"])\n",
    "print(len(frozen_set))\n",
    "print (frozen_set)"
   ]
  },
  {
   "cell_type": "code",
   "execution_count": null,
   "metadata": {},
   "outputs": [],
   "source": [
    "frozen_set.add(\"d\")"
   ]
  },
  {
   "cell_type": "code",
   "execution_count": null,
   "metadata": {},
   "outputs": [],
   "source": [
    "# len(frozen_set)\n",
    "A={1, 2, 3, 4, 5, 6, 7, 8}\n",
    "len(A)"
   ]
  },
  {
   "cell_type": "code",
   "execution_count": null,
   "metadata": {},
   "outputs": [],
   "source": [
    "s=set()\n"
   ]
  },
  {
   "cell_type": "code",
   "execution_count": null,
   "metadata": {},
   "outputs": [],
   "source": [
    "l=[1,2,3]\n",
    "x\n",
    "# Set does not contain mutable data"
   ]
  },
  {
   "cell_type": "code",
   "execution_count": null,
   "metadata": {},
   "outputs": [],
   "source": [
    "t=(1,(1,2,3),3)\n",
    "x={(1,(1,2,3),3)}\n",
    "x\n",
    "print(x[0])# no index"
   ]
  },
  {
   "cell_type": "code",
   "execution_count": null,
   "metadata": {},
   "outputs": [],
   "source": [
    "l=[1,[1,2,3],3]\n",
    "x={l}\n",
    "x"
   ]
  },
  {
   "cell_type": "markdown",
   "metadata": {},
   "source": [
    "Frozensets are useful in situations where you want to use a set, but you need an immutable object. For example, you can’t define a set whose elements are also sets, because set elements must be immutable:\n"
   ]
  },
  {
   "cell_type": "code",
   "execution_count": null,
   "metadata": {},
   "outputs": [],
   "source": [
    "x1 = set(['foo'])\n",
    "# x2 = set(['bar'])\n",
    "# x3 = set(['baz'])\n",
    "# x = {x1, x2, x3}\n",
    "# x = {x1, x2, x3}"
   ]
  },
  {
   "cell_type": "markdown",
   "metadata": {},
   "source": [
    "If you really feel compelled to define a set of sets (hey, it could happen), you can do it if the elements are frozensets, because they are immutable:\n",
    "\n"
   ]
  },
  {
   "cell_type": "code",
   "execution_count": null,
   "metadata": {},
   "outputs": [],
   "source": [
    "x1 = frozenset(['foo'])\n",
    "x2 = frozenset(['bar'])\n",
    "x3 = frozenset(['baz'])\n",
    "x = {x1, x2, x3}\n",
    "x\n",
    "# for a in x:\n",
    "#     print(a)\n",
    "# print(x1|x2)"
   ]
  },
  {
   "cell_type": "markdown",
   "metadata": {},
   "source": [
    "# Assignment:\n",
    "* What is frozenset , difference between sets and frozenset\n",
    "* Remove duplicate values of a list a=[1,2,3,4,1,2,3,10]\n",
    "* What is the output when the following code is run by Python? For sets, do not worry about getting the exact order of the output correct.\n",
    " s1 = set( [7,9, 12, 7, 9] )\n",
    " s2 = set( ['abc', 12, 'b', 'car', 7, 10, 12 ])\n",
    " s3 = set( [12, 14, 12, 'ab'] )\n",
    " * print s1 & s2\n",
    " * print s1 | s2\n",
    " * print 'b' in s2\n",
    " * print 'ab' in s2\n",
    " * print 'ab' in s3\n",
    " * s2.discard(12)\n",
    " * print (s1 & s2) ^ s3\n",
    "\n",
    "* Given three sets, s1, s2, and s3, write a short segment of Python code to find the values that are in exactly one of the three sets. The result should be stored in a set called s. You may NOT use any loops.\n",
    "#\n",
    "#\n",
    "#"
   ]
  },
  {
   "cell_type": "code",
   "execution_count": null,
   "metadata": {},
   "outputs": [],
   "source": [
    "# s1={1,4,5,6,7}\n",
    "# s2={2,4,5,6,8}\n",
    "# s3={3,4,5,6,7,8}\n",
    "s1 = set( [7,9, 12, 7, 9] )\n",
    "s2 = set( ['abc', 12, 'b', 'car', 7, 10, 12 ])\n",
    "s3 = set( [12, 14, 12, 'ab'] )\n",
    "print ((s1 & s2))\n",
    "print((s1 & s2) ^ s3)"
   ]
  },
  {
   "cell_type": "code",
   "execution_count": null,
   "metadata": {},
   "outputs": [],
   "source": [
    "x=input()\n",
    "count=0\n",
    "v=(\"a\",\"e\",\"i\",\"o\",\"u\")\n",
    "for i in x:\n",
    "    if i in v:\n",
    "        count=count+1\n",
    "        print(count)\n"
   ]
  },
  {
   "cell_type": "markdown",
   "metadata": {},
   "source": [
    "Python Program to Count the Number of Vowels Present in a String using Sets"
   ]
  },
  {
   "cell_type": "code",
   "execution_count": null,
   "metadata": {},
   "outputs": [],
   "source": [
    "x=input()\n",
    "count=0\n",
    "v=(\"a\",\"e\",\"i\",\"o\",\"u\")\n",
    "for i in x:\n",
    "    if i in v:\n",
    "        count=count+1\n",
    "print(\"No of vowers in the string is \", count)\n"
   ]
  },
  {
   "cell_type": "markdown",
   "metadata": {},
   "source": [
    "#### Take 2 stirngs as input and find out common characters between strings"
   ]
  },
  {
   "cell_type": "code",
   "execution_count": null,
   "metadata": {},
   "outputs": [],
   "source": [
    "x=\"python\"\n",
    "y=\"pyt\"\n",
    "set(x)&set(y)\n"
   ]
  },
  {
   "cell_type": "code",
   "execution_count": null,
   "metadata": {},
   "outputs": [],
   "source": [
    "set(x)"
   ]
  },
  {
   "cell_type": "markdown",
   "metadata": {},
   "source": [
    "#### Program to Check Common Letters in Two Input Strings\n"
   ]
  },
  {
   "cell_type": "markdown",
   "metadata": {},
   "source": [
    "#### Task \n",
    "Given  sets of integers,  and , print their symmetric difference in ascending order. The term symmetric difference indicates those values that exist in either  or  but do not exist in both.\n",
    "\n",
    "#### Input Format\n",
    "\n",
    "The first line of input contains an integer, . \n",
    "The second line contains  space-separated integers. \n",
    "The third line contains an integer, . \n",
    "The fourth line contains  space-separated integers.\n",
    "\n",
    "#### Output Format\n",
    "\n",
    "Output the symmetric difference integers in ascending order, one per line.\n",
    "\n",
    "Sample Input\n",
    "\n",
    "4\n",
    "2 4 5 9\n",
    "4\n",
    "2 4 11 12\n",
    "\n",
    "Sample Output\n",
    "\n",
    "5\n",
    "9\n",
    "11\n",
    "12"
   ]
  },
  {
   "cell_type": "code",
   "execution_count": null,
   "metadata": {},
   "outputs": [],
   "source": [
    "x= input()\n",
    "x.split(\" \")"
   ]
  },
  {
   "cell_type": "code",
   "execution_count": null,
   "metadata": {},
   "outputs": [],
   "source": [
    "l=['333','2232','1232']\n",
    "l.sort()\n",
    "l\n"
   ]
  },
  {
   "cell_type": "code",
   "execution_count": null,
   "metadata": {
    "scrolled": true
   },
   "outputs": [],
   "source": [
    "for i in range(len(l)):\n",
    "    l[i]=int(l[i])\n",
    "print (l)\n",
    "listC = sorted(l, reverse=False)\n",
    "print (listC)"
   ]
  },
  {
   "cell_type": "code",
   "execution_count": null,
   "metadata": {},
   "outputs": [],
   "source": [
    "s=\"z\"\n",
    "sq=\"s\"\n",
    "s sq"
   ]
  },
  {
   "cell_type": "code",
   "execution_count": null,
   "metadata": {},
   "outputs": [],
   "source": [
    "import re\n",
    "s=('xxxx','abcxxxx')\n",
    "x= filter((lambda s: re.search(r'xxx',s)),s)?"
   ]
  },
  {
   "cell_type": "code",
   "execution_count": null,
   "metadata": {},
   "outputs": [],
   "source": [
    "x"
   ]
  },
  {
   "cell_type": "code",
   "execution_count": null,
   "metadata": {},
   "outputs": [],
   "source": []
  }
 ],
 "metadata": {
  "kernelspec": {
   "display_name": "Python 3",
   "language": "python",
   "name": "python3"
  },
  "language_info": {
   "codemirror_mode": {
    "name": "ipython",
    "version": 3
   },
   "file_extension": ".py",
   "mimetype": "text/x-python",
   "name": "python",
   "nbconvert_exporter": "python",
   "pygments_lexer": "ipython3",
   "version": "3.8.3"
  }
 },
 "nbformat": 4,
 "nbformat_minor": 2
}
