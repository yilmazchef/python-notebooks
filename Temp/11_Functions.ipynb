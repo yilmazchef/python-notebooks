{
 "cells": [
  {
   "cell_type": "markdown",
   "metadata": {},
   "source": [
    "# Functions\n"
   ]
  },
  {
   "cell_type": "markdown",
   "metadata": {},
   "source": [
    "### A piece of code which can be resued.\n",
    "Introduction to Functions\n",
    "\n",
    "What is a function in Python and how to create a function?\n",
    "\n",
    "Functions will be one of our main building blocks when we construct larger and larger amount of code to solve problems.\n",
    "\n",
    "So what is a function?\n",
    "\n",
    "A function groups a set of statements together to run the statements more than once. It allows us to specify parameters that can serve as inputs to the functions.\n",
    "\n",
    "Functions allow us to reuse the code instead of writing the code again and again. If you recall strings and lists, remember that len() function is used to find the length of a string. Since checking the length of a sequence is a common task, you would want to write a function that can do this repeatedly at command.\n",
    "\n",
    "Function is one of the most basic levels of reusing code in Python, and it will also allow us to start thinking of program design.\n",
    "\n"
   ]
  },
  {
   "cell_type": "code",
   "execution_count": 143,
   "metadata": {},
   "outputs": [
    {
     "data": {
      "text/plain": [
       "<function len(obj, /)>"
      ]
     },
     "execution_count": 143,
     "metadata": {},
     "output_type": "execute_result"
    }
   ],
   "source": [
    "len"
   ]
  },
  {
   "cell_type": "code",
   "execution_count": 144,
   "metadata": {},
   "outputs": [
    {
     "data": {
      "text/plain": [
       "builtin_function_or_method"
      ]
     },
     "execution_count": 144,
     "metadata": {},
     "output_type": "execute_result"
    }
   ],
   "source": [
    "type(len)"
   ]
  },
  {
   "cell_type": "code",
   "execution_count": 145,
   "metadata": {},
   "outputs": [
    {
     "name": "stdout",
     "output_type": "stream",
     "text": [
      "4\n"
     ]
    }
   ],
   "source": [
    "num_letters = len(\"four\")\n",
    "print(num_letters)"
   ]
  },
  {
   "cell_type": "code",
   "execution_count": 146,
   "metadata": {},
   "outputs": [
    {
     "name": "stdout",
     "output_type": "stream",
     "text": [
      "6\n",
      "[3, 4, 5]\n"
     ]
    }
   ],
   "source": [
    "l=[3,4,5,6]\n",
    "x=l.pop ()\n",
    "print (x)\n",
    "print(l)"
   ]
  },
  {
   "cell_type": "markdown",
   "metadata": {},
   "source": [
    "### def Statements\n",
    "\n",
    "Now, let us learn how to build a function and what is the syntax in Python.\n",
    "\n",
    "The syntax for def statements will be in the following form:"
   ]
  },
  {
   "cell_type": "code",
   "execution_count": 147,
   "metadata": {},
   "outputs": [
    {
     "name": "stdout",
     "output_type": "stream",
     "text": [
      "I am after function\n"
     ]
    }
   ],
   "source": [
    "def subject():\n",
    "    print( \"python class\")\n",
    "    print (\"I Am learning python\")\n",
    "print (\"I am after function\")"
   ]
  },
  {
   "cell_type": "code",
   "execution_count": 148,
   "metadata": {},
   "outputs": [
    {
     "name": "stdout",
     "output_type": "stream",
     "text": [
      "python class\n",
      "I Am learning python\n"
     ]
    }
   ],
   "source": [
    "def subject():\n",
    "    print( \"python class\")\n",
    "    print (\"I Am learning python\")\n",
    "subject()"
   ]
  },
  {
   "cell_type": "code",
   "execution_count": 149,
   "metadata": {},
   "outputs": [
    {
     "name": "stdout",
     "output_type": "stream",
     "text": [
      "python class\n",
      "I Am learning python\n",
      "python class\n",
      "I Am learning python\n",
      "python class\n",
      "I Am learning python\n",
      "python class\n",
      "I Am learning python\n"
     ]
    }
   ],
   "source": [
    "subject()\n",
    "subject()\n",
    "subject()\n",
    "subject()"
   ]
  },
  {
   "cell_type": "code",
   "execution_count": 150,
   "metadata": {},
   "outputs": [
    {
     "name": "stdout",
     "output_type": "stream",
     "text": [
      "I am before function\n",
      "python_subject\n",
      "python class\n",
      "I Am learning python\n",
      "I am after function\n"
     ]
    }
   ],
   "source": [
    "def python_subject():\n",
    "    print( \"python class\")\n",
    "    print (\"I Am learning python\")\n",
    "\n",
    "print (\"I am before function\")\n",
    "print(\"python_subject\")\n",
    "python_subject()# function call\n",
    "print (\"I am after function\")"
   ]
  },
  {
   "cell_type": "code",
   "execution_count": 151,
   "metadata": {},
   "outputs": [
    {
     "name": "stdout",
     "output_type": "stream",
     "text": [
      "python class\n",
      "I Am learning python\n"
     ]
    }
   ],
   "source": [
    "python_subject()"
   ]
  },
  {
   "cell_type": "code",
   "execution_count": 152,
   "metadata": {},
   "outputs": [
    {
     "name": "stdout",
     "output_type": "stream",
     "text": [
      "python class\n",
      "I Am learning python\n",
      "python class\n",
      "I Am learning python\n"
     ]
    }
   ],
   "source": [
    "python_subject()\n",
    "python_subject()"
   ]
  },
  {
   "cell_type": "code",
   "execution_count": 153,
   "metadata": {},
   "outputs": [
    {
     "name": "stdout",
     "output_type": "stream",
     "text": [
      "Java class\n",
      "I Am learning Java\n"
     ]
    }
   ],
   "source": [
    "def java_subject():\n",
    "    print( \"Java class\")\n",
    "    print (\"I Am learning Java\")\n",
    "java_subject()"
   ]
  },
  {
   "cell_type": "code",
   "execution_count": 154,
   "metadata": {},
   "outputs": [],
   "source": [
    "def printsubject(name):\n",
    "    print (\" I am learning \" ,name)"
   ]
  },
  {
   "cell_type": "code",
   "execution_count": 155,
   "metadata": {},
   "outputs": [
    {
     "name": "stdout",
     "output_type": "stream",
     "text": [
      " I am learning  python\n"
     ]
    }
   ],
   "source": [
    "printsubject(\"python\")"
   ]
  },
  {
   "cell_type": "code",
   "execution_count": 156,
   "metadata": {},
   "outputs": [
    {
     "name": "stdout",
     "output_type": "stream",
     "text": [
      " I am learning  java\n",
      " I am learning  JavaScript\n",
      " I am learning  scala\n",
      " I am learning  1000\n"
     ]
    }
   ],
   "source": [
    "printsubject(\"java\")\n",
    "printsubject(\"JavaScript\")\n",
    "printsubject(\"scala\")\n",
    "printsubject(1000)"
   ]
  },
  {
   "cell_type": "code",
   "execution_count": 157,
   "metadata": {},
   "outputs": [
    {
     "name": "stdout",
     "output_type": "stream",
     "text": [
      "enter subject name :data science\n",
      " I am learning  data science\n"
     ]
    }
   ],
   "source": [
    "x=input(\"enter subject name :\")\n",
    "printsubject(x)"
   ]
  },
  {
   "cell_type": "code",
   "execution_count": 158,
   "metadata": {},
   "outputs": [],
   "source": [
    "def printrevevrsesubject(name):\n",
    "\tprint (name[::-1])"
   ]
  },
  {
   "cell_type": "code",
   "execution_count": 159,
   "metadata": {},
   "outputs": [
    {
     "name": "stdout",
     "output_type": "stream",
     "text": [
      "nohtyp\n"
     ]
    }
   ],
   "source": [
    "printrevevrsesubject(\"python\")"
   ]
  },
  {
   "cell_type": "code",
   "execution_count": 160,
   "metadata": {},
   "outputs": [
    {
     "name": "stdout",
     "output_type": "stream",
     "text": [
      "tpircSavaj\n"
     ]
    }
   ],
   "source": [
    "printrevevrsesubject(\"javaScript\")"
   ]
  },
  {
   "cell_type": "code",
   "execution_count": 161,
   "metadata": {},
   "outputs": [
    {
     "name": "stdout",
     "output_type": "stream",
     "text": [
      "avaj\n"
     ]
    }
   ],
   "source": [
    "printrevevrsesubject(\"java\")"
   ]
  },
  {
   "cell_type": "code",
   "execution_count": 162,
   "metadata": {},
   "outputs": [
    {
     "name": "stdout",
     "output_type": "stream",
     "text": [
      "enter string machine learning\n",
      "gninrael enihcam\n"
     ]
    }
   ],
   "source": [
    "x=input(\"enter string \")\n",
    "printrevevrsesubject(x)"
   ]
  },
  {
   "cell_type": "code",
   "execution_count": 163,
   "metadata": {},
   "outputs": [],
   "source": [
    "def detail(age,name):\n",
    "    print (age,name)"
   ]
  },
  {
   "cell_type": "code",
   "execution_count": 164,
   "metadata": {},
   "outputs": [
    {
     "name": "stdout",
     "output_type": "stream",
     "text": [
      "richard 20\n"
     ]
    }
   ],
   "source": [
    "detail(\"richard\",20)"
   ]
  },
  {
   "cell_type": "code",
   "execution_count": 165,
   "metadata": {},
   "outputs": [],
   "source": [
    "def demofunction():\n",
    "    \"\"\"This function is for demo purpose\n",
    "    This function is anotehr line for demo purpose\"\"\"# docstring\n",
    "\n",
    "    print (\"demo \")\n",
    "    # this is to demo comments comments are writtern using #"
   ]
  },
  {
   "cell_type": "code",
   "execution_count": 166,
   "metadata": {},
   "outputs": [
    {
     "name": "stdout",
     "output_type": "stream",
     "text": [
      "Help on function demofunction in module __main__:\n",
      "\n",
      "demofunction()\n",
      "    This function is for demo purpose\n",
      "    This function is anotehr line for demo purpose\n",
      "\n"
     ]
    }
   ],
   "source": [
    "help(demofunction)"
   ]
  },
  {
   "cell_type": "code",
   "execution_count": 167,
   "metadata": {},
   "outputs": [
    {
     "name": "stdout",
     "output_type": "stream",
     "text": [
      "demo \n"
     ]
    }
   ],
   "source": [
    "demofunction()"
   ]
  },
  {
   "cell_type": "code",
   "execution_count": 168,
   "metadata": {},
   "outputs": [],
   "source": [
    "def increasesalary(salary):\n",
    "    newsalary=salary*1.10\n",
    "    print (\"Revised salary \",newsalary)"
   ]
  },
  {
   "cell_type": "code",
   "execution_count": 169,
   "metadata": {},
   "outputs": [
    {
     "name": "stdout",
     "output_type": "stream",
     "text": [
      "Revised salary  110.00000000000001\n"
     ]
    }
   ],
   "source": [
    "increasesalary(100)"
   ]
  },
  {
   "cell_type": "code",
   "execution_count": 170,
   "metadata": {},
   "outputs": [
    {
     "ename": "NameError",
     "evalue": "name 'newsalary' is not defined",
     "output_type": "error",
     "traceback": [
      "\u001b[1;31m---------------------------------------------------------------------------\u001b[0m",
      "\u001b[1;31mNameError\u001b[0m                                 Traceback (most recent call last)",
      "\u001b[1;32m<ipython-input-170-9fa61237a567>\u001b[0m in \u001b[0;36m<module>\u001b[1;34m\u001b[0m\n\u001b[1;32m----> 1\u001b[1;33m \u001b[0mbonus\u001b[0m\u001b[1;33m=\u001b[0m\u001b[1;36m2\u001b[0m\u001b[1;33m*\u001b[0m\u001b[0mnewsalary\u001b[0m\u001b[1;33m/\u001b[0m\u001b[1;36m100\u001b[0m\u001b[1;33m\u001b[0m\u001b[1;33m\u001b[0m\u001b[0m\n\u001b[0m\u001b[0;32m      2\u001b[0m \u001b[0mprint\u001b[0m \u001b[1;33m(\u001b[0m\u001b[1;34m\" Bonus is : \"\u001b[0m\u001b[1;33m,\u001b[0m \u001b[0mbonus\u001b[0m\u001b[1;33m)\u001b[0m\u001b[1;33m\u001b[0m\u001b[1;33m\u001b[0m\u001b[0m\n",
      "\u001b[1;31mNameError\u001b[0m: name 'newsalary' is not defined"
     ]
    }
   ],
   "source": [
    "bonus=2*newsalary/100\n",
    "print (\" Bonus is : \", bonus)"
   ]
  },
  {
   "cell_type": "code",
   "execution_count": 171,
   "metadata": {},
   "outputs": [
    {
     "name": "stdout",
     "output_type": "stream",
     "text": [
      "Revised salary  220.00000000000003\n",
      "220.00000000000003\n",
      " Bonus is :  4.4\n"
     ]
    }
   ],
   "source": [
    "def increasesalary(salary):\n",
    "    newsalary=salary*1.10\n",
    "    print (\"Revised salary \",newsalary)\n",
    "    return newsalary\n",
    "x=increasesalary(200)\n",
    "print (x)\n",
    "bonus=2*x/100\n",
    "print (\" Bonus is : \", bonus)"
   ]
  },
  {
   "cell_type": "code",
   "execution_count": 173,
   "metadata": {},
   "outputs": [
    {
     "name": "stdout",
     "output_type": "stream",
     "text": [
      "inside the function area:  200\n",
      "200\n",
      "<class 'int'>\n"
     ]
    }
   ],
   "source": [
    "def calculatearea(base,height):\n",
    "\tarea=base*height\n",
    "\tprint (\"inside the function area: \" ,area)\n",
    "\treturn area\n",
    "x=calculatearea(10,20)\n",
    "print (x)\n",
    "print (type(x))"
   ]
  },
  {
   "cell_type": "markdown",
   "metadata": {},
   "source": [
    "### Default Argument"
   ]
  },
  {
   "cell_type": "markdown",
   "metadata": {},
   "source": [
    "Default Argument: Python allows to call a function by specifying minimum possible arguments. \n",
    "In such cases the function \n",
    "assigns a default value which does not have a matching argument in function call.\n",
    "Default values are specified when the function is declared.\n",
    "the compiler looks at the prototype to see how many arguments a function uses and alerts the program \n",
    "for possible default values\n",
    "Default values are specified from right--> to left in the arguments list \n"
   ]
  },
  {
   "cell_type": "code",
   "execution_count": 190,
   "metadata": {},
   "outputs": [
    {
     "name": "stdout",
     "output_type": "stream",
     "text": [
      "1000.0\n"
     ]
    }
   ],
   "source": [
    "def calculatearea(base=20,height=100):\n",
    "\tarea=base*height/2\n",
    "\tprint (area)\n",
    "   \n",
    "# def calculatearea():\n",
    "#     print(\" i am in 3 parameter\")\n",
    "#     area=base*height/2\n",
    "#     print(area)\n",
    "calculatearea()\n",
    "# calculatearea(base=2,height=1)"
   ]
  },
  {
   "cell_type": "code",
   "execution_count": 191,
   "metadata": {},
   "outputs": [],
   "source": [
    "def calculatearea(base=20,height=100):\n",
    "\tarea=base*height/2\n",
    "\tprint(area)"
   ]
  },
  {
   "cell_type": "code",
   "execution_count": 192,
   "metadata": {},
   "outputs": [
    {
     "name": "stdout",
     "output_type": "stream",
     "text": [
      "1000.0\n"
     ]
    }
   ],
   "source": [
    "calculatearea()"
   ]
  },
  {
   "cell_type": "code",
   "execution_count": 193,
   "metadata": {},
   "outputs": [
    {
     "name": "stdout",
     "output_type": "stream",
     "text": [
      "50.0\n"
     ]
    }
   ],
   "source": [
    "calculatearea(height=5)"
   ]
  },
  {
   "cell_type": "code",
   "execution_count": 194,
   "metadata": {},
   "outputs": [
    {
     "name": "stdout",
     "output_type": "stream",
     "text": [
      "10.0\n"
     ]
    }
   ],
   "source": [
    "calculatearea(4,5)"
   ]
  },
  {
   "cell_type": "code",
   "execution_count": 195,
   "metadata": {},
   "outputs": [
    {
     "name": "stdout",
     "output_type": "stream",
     "text": [
      "200.0\n"
     ]
    }
   ],
   "source": [
    "calculatearea(4)"
   ]
  },
  {
   "cell_type": "code",
   "execution_count": 196,
   "metadata": {},
   "outputs": [
    {
     "name": "stdout",
     "output_type": "stream",
     "text": [
      "250.0\n"
     ]
    }
   ],
   "source": [
    "calculatearea(base=5)"
   ]
  },
  {
   "cell_type": "code",
   "execution_count": 198,
   "metadata": {},
   "outputs": [],
   "source": [
    "def parrot(voltage, state='a stiff', action='voom', parrottype='Norwegian Blue'):\n",
    "    print (\"-- This parrot wouldn't\", action)\n",
    "    print (\"--if you put\", voltage, \"volts through it.\")\n",
    "    print (\"-- Lovely plumage, the\", parrottype)\n",
    "    print (\"-- It's\", state, \"!\")"
   ]
  },
  {
   "cell_type": "code",
   "execution_count": 199,
   "metadata": {},
   "outputs": [
    {
     "name": "stdout",
     "output_type": "stream",
     "text": [
      "-- This parrot wouldn't voom\n",
      "--if you put a thousand volts through it.\n",
      "-- Lovely plumage, the Norwegian Blue\n",
      "-- It's pushing up the daisies !\n"
     ]
    }
   ],
   "source": [
    "parrot('a thousand', state='pushing up the daisies')  # 1 positional, 1 keyword"
   ]
  },
  {
   "cell_type": "code",
   "execution_count": 200,
   "metadata": {},
   "outputs": [
    {
     "name": "stdout",
     "output_type": "stream",
     "text": [
      "-- This parrot wouldn't jump\n",
      "--if you put a million volts through it.\n",
      "-- Lovely plumage, the Norwegian Blue\n",
      "-- It's bereft of life !\n"
     ]
    }
   ],
   "source": [
    "parrot('a million', 'bereft of life', 'jump')     # 3 positional arguments"
   ]
  },
  {
   "cell_type": "code",
   "execution_count": 204,
   "metadata": {},
   "outputs": [
    {
     "ename": "TypeError",
     "evalue": "parrot() got multiple values for argument 'state'",
     "output_type": "error",
     "traceback": [
      "\u001b[1;31m---------------------------------------------------------------------------\u001b[0m",
      "\u001b[1;31mTypeError\u001b[0m                                 Traceback (most recent call last)",
      "\u001b[1;32m<ipython-input-204-5f78f9bec76d>\u001b[0m in \u001b[0;36m<module>\u001b[1;34m\u001b[0m\n\u001b[1;32m----> 1\u001b[1;33m \u001b[0mparrot\u001b[0m\u001b[1;33m(\u001b[0m \u001b[1;34m'a million'\u001b[0m\u001b[1;33m,\u001b[0m\u001b[1;34m'bereft of life'\u001b[0m\u001b[1;33m,\u001b[0m\u001b[0mstate\u001b[0m\u001b[1;33m=\u001b[0m\u001b[1;34m'jump'\u001b[0m\u001b[1;33m)\u001b[0m     \u001b[1;31m# 3 positional arguments\u001b[0m\u001b[1;33m\u001b[0m\u001b[1;33m\u001b[0m\u001b[0m\n\u001b[0m",
      "\u001b[1;31mTypeError\u001b[0m: parrot() got multiple values for argument 'state'"
     ]
    }
   ],
   "source": [
    "parrot( 'a million','bereft of life',state='jump')     # 3 positional arguments"
   ]
  },
  {
   "cell_type": "code",
   "execution_count": null,
   "metadata": {},
   "outputs": [],
   "source": [
    "parrot(1000,'',\"wet\")# 1 positional argument"
   ]
  },
  {
   "cell_type": "markdown",
   "metadata": {},
   "source": [
    "# UnPacking of data"
   ]
  },
  {
   "cell_type": "code",
   "execution_count": 203,
   "metadata": {},
   "outputs": [
    {
     "data": {
      "text/plain": [
       "dict"
      ]
     },
     "execution_count": 203,
     "metadata": {},
     "output_type": "execute_result"
    }
   ],
   "source": [
    "d={}\n",
    "type(d)"
   ]
  },
  {
   "cell_type": "code",
   "execution_count": 205,
   "metadata": {},
   "outputs": [
    {
     "data": {
      "text/plain": [
       "{'name': 'Rakesh',\n",
       " 'age': 20,\n",
       " 'subject': 'java',\n",
       " 'level': 'beginner',\n",
       " 'second_subject': 'python'}"
      ]
     },
     "execution_count": 205,
     "metadata": {},
     "output_type": "execute_result"
    }
   ],
   "source": [
    "d ={}\n",
    "d['name']='Rakesh'\n",
    "d['age'] = 20\n",
    "d['subject']=\"java\"\n",
    "d[\"level\"]=\"beginner\"\n",
    "d[\"second_subject\"]= \"python\"\n",
    "# d['extra_subject']=\"java\"\n",
    "d"
   ]
  },
  {
   "cell_type": "code",
   "execution_count": 206,
   "metadata": {},
   "outputs": [],
   "source": [
    "def varlength(mclass,age,name,subject,second_subject,level):\n",
    "\tprint( name,age,subject,level,second_subject)"
   ]
  },
  {
   "cell_type": "code",
   "execution_count": 207,
   "metadata": {},
   "outputs": [
    {
     "name": "stdout",
     "output_type": "stream",
     "text": [
      "Rakesh 20 java beginner python\n"
     ]
    }
   ],
   "source": [
    "varlength(\"java\",**d)\n",
    "# print(d)"
   ]
  },
  {
   "cell_type": "code",
   "execution_count": null,
   "metadata": {},
   "outputs": [],
   "source": [
    "# def varlength(name,age,level,subject,second_subject,mclass):\n",
    "# \tprint( name,mclass,age,level)\n",
    "# d ={}\n",
    "# d['name']='Rakesh'\n",
    "# d['age'] = 20\n",
    "# d['subject']=\"java\"\n",
    "# d[\"level\"]=\"beginner\"\n",
    "# d[\"second_subject\"]= \"python\"\n",
    "# d['extra_subject']=\"java\"\n",
    "# d\n",
    "# varlength(**d, mclass=\"school\")\n"
   ]
  },
  {
   "cell_type": "code",
   "execution_count": null,
   "metadata": {},
   "outputs": [],
   "source": [
    "- Dictionary should be last parameter in function call\n",
    "- If you want to pass dictionary before anoter parameter , another parameter should be key value pair\n",
    "- If you want to have default paramter in function definition it should be after dictionary keys"
   ]
  },
  {
   "cell_type": "code",
   "execution_count": null,
   "metadata": {},
   "outputs": [],
   "source": [
    "def varlength(mclass,name,age,level,subject,second_subject):\n",
    "    print( name,mclass,age,level)\n",
    "    print(subject)\n",
    "d ={}\n",
    "d['name']='Rakesh'\n",
    "d['age'] = 20\n",
    "d['subject']=\"java\"\n",
    "d[\"level\"]=\"beginner\"\n",
    "d[\"second_subject\"]= \"python\"\n",
    "varlength(**d, mclass=\"school\")"
   ]
  },
  {
   "cell_type": "code",
   "execution_count": 211,
   "metadata": {},
   "outputs": [
    {
     "name": "stdout",
     "output_type": "stream",
     "text": [
      "Rakesh java 20 beginner\n",
      "java\n"
     ]
    }
   ],
   "source": [
    "def varlength(name,age,level,subject,second_subject,mclass=\"java\"):\n",
    "    print( name,mclass,age,level)\n",
    "    print(subject)\n",
    "d ={}\n",
    "d['name']='Rakesh'\n",
    "d['age'] = 20\n",
    "d['subject']=\"java\"\n",
    "d[\"level\"]=\"beginner\"\n",
    "d[\"second_subject\"]= \"python\"\n",
    "varlength(**d)"
   ]
  },
  {
   "cell_type": "code",
   "execution_count": 214,
   "metadata": {},
   "outputs": [],
   "source": [
    "def varlength(mclass,name,age,level,subject,second_subject):\n",
    "    print( name,mclass,age,level)\n",
    "    print(subject)\n",
    "d ={}\n",
    "d['name']='Rakesh'\n",
    "d['age'] = 20\n",
    "d['subject']=\"java\"\n",
    "d[\"level\"]=\"beginner\"\n",
    "d[\"second_subject\"]= \"python\"\n"
   ]
  },
  {
   "cell_type": "code",
   "execution_count": 215,
   "metadata": {},
   "outputs": [
    {
     "name": "stdout",
     "output_type": "stream",
     "text": [
      "Rakesh school 20 beginner\n",
      "java\n"
     ]
    }
   ],
   "source": [
    "varlength(\"school\",**d)"
   ]
  },
  {
   "cell_type": "code",
   "execution_count": 216,
   "metadata": {},
   "outputs": [],
   "source": [
    "def moreVarLen(f,h):\n",
    "    print(f)\n",
    "    print(h)"
   ]
  },
  {
   "cell_type": "code",
   "execution_count": 217,
   "metadata": {},
   "outputs": [
    {
     "name": "stdout",
     "output_type": "stream",
     "text": [
      "abc\n",
      "def\n"
     ]
    }
   ],
   "source": [
    "d = ('abc','def')\n",
    "moreVarLen(*d)"
   ]
  },
  {
   "cell_type": "code",
   "execution_count": 218,
   "metadata": {},
   "outputs": [
    {
     "name": "stdout",
     "output_type": "stream",
     "text": [
      "python abc\n",
      "def\n"
     ]
    }
   ],
   "source": [
    "def moreVarLen(x,y,z):\n",
    "    print (x,y)\n",
    "    print(z)\n",
    "d = ['abc','def']\n",
    "moreVarLen(\"python\",*d)"
   ]
  },
  {
   "cell_type": "code",
   "execution_count": 219,
   "metadata": {},
   "outputs": [
    {
     "name": "stdout",
     "output_type": "stream",
     "text": [
      "java abc\n",
      "def\n"
     ]
    }
   ],
   "source": [
    "def moreVarLen(x,y,z):\n",
    "    print (x,y)\n",
    "    print(z)\n",
    "d = ['abc','def']\n",
    "moreVarLen(\"java\",*d)"
   ]
  },
  {
   "cell_type": "code",
   "execution_count": 220,
   "metadata": {},
   "outputs": [
    {
     "name": "stdout",
     "output_type": "stream",
     "text": [
      "abc def\n",
      "java\n"
     ]
    }
   ],
   "source": [
    "def moreVarLen(x,y,z):\n",
    "    print (x,y)\n",
    "    print(z)\n",
    "d = ['abc','def']\n",
    "moreVarLen(*d,\"java\")"
   ]
  },
  {
   "cell_type": "code",
   "execution_count": 221,
   "metadata": {},
   "outputs": [
    {
     "name": "stdout",
     "output_type": "stream",
     "text": [
      "java abc\n",
      "[12, 11, 123]\n"
     ]
    }
   ],
   "source": [
    "def moreVarLen(x,y,z):\n",
    "    print (x,y)\n",
    "    print(z)\n",
    "d=['abc',[12,11,123]]\n",
    "moreVarLen(\"java\",*d)"
   ]
  },
  {
   "cell_type": "code",
   "execution_count": 236,
   "metadata": {},
   "outputs": [],
   "source": [
    "def moreVarLen(x,y,name,age):\n",
    "    print(x,y,name,age)    \n",
    "# \tprint( \" %s, %s , %s , %d\" %(x,y,name,age))"
   ]
  },
  {
   "cell_type": "code",
   "execution_count": 237,
   "metadata": {},
   "outputs": [
    {
     "name": "stdout",
     "output_type": "stream",
     "text": [
      "abc def Ashok 20\n"
     ]
    }
   ],
   "source": [
    "d1 ={}\n",
    "d1['name']='Ashok'\n",
    "d1['age'] = 20\n",
    "l = ['abc','def']\n",
    "moreVarLen(*l,**d1)"
   ]
  },
  {
   "cell_type": "markdown",
   "metadata": {},
   "source": [
    "## Pakcing of Data"
   ]
  },
  {
   "cell_type": "code",
   "execution_count": 238,
   "metadata": {},
   "outputs": [],
   "source": [
    "def revArgLen(**d):\n",
    "    print (d)\n",
    "    print(type(d))"
   ]
  },
  {
   "cell_type": "code",
   "execution_count": 239,
   "metadata": {},
   "outputs": [
    {
     "name": "stdout",
     "output_type": "stream",
     "text": [
      "{'name': 'abc', 'age': 20, 'subject': 'python'}\n",
      "<class 'dict'>\n"
     ]
    }
   ],
   "source": [
    "revArgLen(name='abc',age=20,subject=\"python\")"
   ]
  },
  {
   "cell_type": "markdown",
   "metadata": {},
   "source": [
    "## Packed data will be alwasy Tuple or dictionary"
   ]
  },
  {
   "cell_type": "code",
   "execution_count": 240,
   "metadata": {},
   "outputs": [],
   "source": [
    "def revArgLen(x,*t):\n",
    "\tprint (t)\n",
    "\tprint (type(t))"
   ]
  },
  {
   "cell_type": "code",
   "execution_count": 241,
   "metadata": {},
   "outputs": [
    {
     "name": "stdout",
     "output_type": "stream",
     "text": [
      "(33, 'python', 'java', 'abc')\n",
      "<class 'tuple'>\n"
     ]
    }
   ],
   "source": [
    "revArgLen(234,33,\"python\",\"java\",\"abc\")\n",
    "# revArgLen(234)"
   ]
  },
  {
   "cell_type": "code",
   "execution_count": 242,
   "metadata": {},
   "outputs": [
    {
     "name": "stdout",
     "output_type": "stream",
     "text": [
      "1 2 3 a b c\n"
     ]
    }
   ],
   "source": [
    "def revArgLen(x,y,z,x1,y1,z1):\n",
    "\tprint (x,y,z,x1,y1,z1)\n",
    "t=(1,2,3)\n",
    "l=(\"a\",\"b\",\"c\")\n",
    "revArgLen(*t,*l)"
   ]
  },
  {
   "cell_type": "code",
   "execution_count": 243,
   "metadata": {},
   "outputs": [
    {
     "name": "stdout",
     "output_type": "stream",
     "text": [
      "(1, 2, 3) ['x', 'y']\n"
     ]
    }
   ],
   "source": [
    "def revArgLen(x,y):\n",
    "\tprint (x,y)\n",
    "t=(1,2,3)\n",
    "# l=(\"a\",\"b\",\"c\")\n",
    "revArgLen((1,2,3),[\"x\",\"y\"])"
   ]
  },
  {
   "cell_type": "markdown",
   "metadata": {},
   "source": [
    "## Pass by Value /Reference\n",
    "It is neither pass-by-value or pass-by-reference - it is call-by-object.\n"
   ]
  },
  {
   "cell_type": "code",
   "execution_count": 244,
   "metadata": {},
   "outputs": [
    {
     "name": "stdout",
     "output_type": "stream",
     "text": [
      "1949475826560\n",
      "1949475823744\n",
      "['A', 'B', 'C']\n",
      "1949475826560\n",
      "['E', 'D']\n",
      "['E', 'D']\n"
     ]
    }
   ],
   "source": [
    "def set_list(list): \n",
    "    print(id(list))\n",
    "    list = [\"A\", \"B\", \"C\"] \n",
    "    print(id(list))\n",
    "    return list\n",
    "  \n",
    "def add(list): \n",
    "    list.append(\"D\") \n",
    "    print(id(list))\n",
    "    return list\n",
    "  \n",
    "my_list = [\"E\"] \n",
    "print(set_list(my_list)) \n",
    "print(add(my_list))\n",
    "print(my_list)"
   ]
  },
  {
   "cell_type": "code",
   "execution_count": 249,
   "metadata": {},
   "outputs": [
    {
     "name": "stdout",
     "output_type": "stream",
     "text": [
      "[1, 2, 3, 1, 2, 2]\n"
     ]
    }
   ],
   "source": [
    "def clear_a(x):\n",
    "  x += [1,2,2]\n",
    "\n",
    "\n",
    "def clear_b(x):\n",
    "  while x: x.pop()\n",
    "\n",
    "z = [1,2,3]\n",
    "clear_a(z) # z will not be changed\n",
    "# print(z)\n",
    "# clear_b(z) #\n",
    "print(z)"
   ]
  },
  {
   "cell_type": "code",
   "execution_count": 250,
   "metadata": {},
   "outputs": [
    {
     "name": "stdout",
     "output_type": "stream",
     "text": [
      "[0, 1]\n"
     ]
    }
   ],
   "source": [
    "def append_one(li):\n",
    "    li.append(1)\n",
    "x = [0]\n",
    "append_one(x)\n",
    "print (x)"
   ]
  },
  {
   "cell_type": "markdown",
   "metadata": {},
   "source": [
    "Here, the statement x = [0] makes a variable x (box) that points towards the object [0]\n",
    "\n",
    "On the function being called, a new box li is created. The contents of li is the SAME as the contents of box x. Both the boxes contain the same object. That is, both the variables point to the same object in memory. Hence, any change to the object pointed at by li will also be reflected by the object pointed at by x.\n",
    "\n",
    "In conclusion, the output of the above program will be:\n",
    "\n",
    "[0, 1]\n",
    "\n",
    "Note:\n",
    "\n",
    "If the variable li is reassigned in the function, then li will point to a seperate object in memory. x however, will continue pointing to the same object in memory it was pointing to earlier."
   ]
  },
  {
   "cell_type": "code",
   "execution_count": 251,
   "metadata": {},
   "outputs": [
    {
     "name": "stdout",
     "output_type": "stream",
     "text": [
      "[0]\n"
     ]
    }
   ],
   "source": [
    "def append_one(li):\n",
    "    li = [0, 1]\n",
    "x = [0]\n",
    "append_one(x)\n",
    "print (x)"
   ]
  },
  {
   "cell_type": "markdown",
   "metadata": {},
   "source": [
    "## Namespace"
   ]
  },
  {
   "cell_type": "code",
   "execution_count": 252,
   "metadata": {},
   "outputs": [
    {
     "name": "stdout",
     "output_type": "stream",
     "text": [
      "100\n"
     ]
    }
   ],
   "source": [
    "a=100\n",
    "def func():\n",
    "    print(a)\n",
    "func()"
   ]
  },
  {
   "cell_type": "code",
   "execution_count": 255,
   "metadata": {},
   "outputs": [
    {
     "name": "stdout",
     "output_type": "stream",
     "text": [
      "100\n"
     ]
    },
    {
     "ename": "NameError",
     "evalue": "name 'b_func1' is not defined",
     "output_type": "error",
     "traceback": [
      "\u001b[1;31m---------------------------------------------------------------------------\u001b[0m",
      "\u001b[1;31mNameError\u001b[0m                                 Traceback (most recent call last)",
      "\u001b[1;32m<ipython-input-255-5bc9acaca5b3>\u001b[0m in \u001b[0;36m<module>\u001b[1;34m\u001b[0m\n\u001b[0;32m      3\u001b[0m     \u001b[0mprint\u001b[0m\u001b[1;33m(\u001b[0m\u001b[0mb_func1\u001b[0m\u001b[1;33m)\u001b[0m\u001b[1;33m\u001b[0m\u001b[1;33m\u001b[0m\u001b[0m\n\u001b[0;32m      4\u001b[0m \u001b[0mfunc\u001b[0m\u001b[1;33m(\u001b[0m\u001b[1;33m)\u001b[0m\u001b[1;33m\u001b[0m\u001b[1;33m\u001b[0m\u001b[0m\n\u001b[1;32m----> 5\u001b[1;33m \u001b[0mprint\u001b[0m\u001b[1;33m(\u001b[0m\u001b[0mb_func1\u001b[0m\u001b[1;33m)\u001b[0m\u001b[1;33m\u001b[0m\u001b[1;33m\u001b[0m\u001b[0m\n\u001b[0m",
      "\u001b[1;31mNameError\u001b[0m: name 'b_func1' is not defined"
     ]
    }
   ],
   "source": [
    "def func():\n",
    "    b_func1=100\n",
    "    print(b_func1)\n",
    "func()\n",
    "print(b_func1)"
   ]
  },
  {
   "cell_type": "code",
   "execution_count": 256,
   "metadata": {},
   "outputs": [
    {
     "name": "stdout",
     "output_type": "stream",
     "text": [
      "100\n"
     ]
    }
   ],
   "source": [
    "b=\"python\"\n",
    "def func():\n",
    "    b=100\n",
    "    print(b)\n",
    "func()"
   ]
  },
  {
   "cell_type": "code",
   "execution_count": 257,
   "metadata": {},
   "outputs": [
    {
     "name": "stdout",
     "output_type": "stream",
     "text": [
      "insie of function d value  234\n",
      "234\n",
      "140726194033728\n",
      "1949471122064\n",
      "5454\n"
     ]
    }
   ],
   "source": [
    "a=5454\n",
    "def revArgLen(d):\n",
    "    a=d    # a= 234\n",
    "    print (\"insie of function d value \" ,d)\n",
    "    print (a)\n",
    "    print(id(a))\n",
    "revArgLen(234) \n",
    "print(id(a))\n",
    "print(a)"
   ]
  },
  {
   "cell_type": "code",
   "execution_count": 258,
   "metadata": {},
   "outputs": [
    {
     "name": "stdout",
     "output_type": "stream",
     "text": [
      "Inside function value of a inside func : python\n",
      "234\n",
      "Outside value of x : python\n",
      "value of a outside function : python\n"
     ]
    }
   ],
   "source": [
    "a=\"python\"\n",
    "def revArgLen(d):\n",
    "    print (\"Inside function value of a inside func :\",a)\n",
    "    print (d)\n",
    "    return a\n",
    "x=revArgLen(234) \n",
    "print(\"Outside value of x :\" ,x)\n",
    "print(\"value of a outside function :\",a)"
   ]
  },
  {
   "cell_type": "code",
   "execution_count": 259,
   "metadata": {},
   "outputs": [
    {
     "name": "stdout",
     "output_type": "stream",
     "text": [
      "global variable [ a_var inside a_func() ]\n",
      "global variable [ a_var outside a_func() ]\n"
     ]
    }
   ],
   "source": [
    "a_var = 'global variable'\n",
    "def a_func():\n",
    "    print (a_var, '[ a_var inside a_func() ]')\n",
    "a_func()\n",
    "print (a_var, '[ a_var outside a_func() ]')"
   ]
  },
  {
   "cell_type": "code",
   "execution_count": 260,
   "metadata": {},
   "outputs": [
    {
     "name": "stdout",
     "output_type": "stream",
     "text": [
      "1949474347760\n",
      "global value [ a_var inside a_func() ]\n",
      "global value [ a_var outside a_func() ]\n",
      "1949474346032\n"
     ]
    }
   ],
   "source": [
    "a_var = 'global value'\n",
    "def a_func():\n",
    "    a_var = 'global value'\n",
    "    print(id(a_var))\n",
    "    print (a_var, '[ a_var inside a_func() ]')\n",
    "a_func()\n",
    "print (a_var, '[ a_var outside a_func() ]')\n",
    "print(id(a_var))"
   ]
  },
  {
   "cell_type": "code",
   "execution_count": null,
   "metadata": {},
   "outputs": [],
   "source": [
    "a=\"python\""
   ]
  },
  {
   "cell_type": "code",
   "execution_count": 261,
   "metadata": {},
   "outputs": [
    {
     "name": "stdout",
     "output_type": "stream",
     "text": [
      "outside value [ b_var outside a_func() ]\n",
      "outside value [ b_var inside a_func() ]\n",
      "outside value [ b_var outside a_func() ]\n"
     ]
    }
   ],
   "source": [
    "b_var = 'outside value'# inside value\n",
    "# b_var = 'local value'\n",
    "def b_func():\n",
    "\tglobal b_var\n",
    "# \tb_var = 'inside value'\n",
    "\tprint(b_var, '[ b_var inside a_func() ]')\n",
    "print (b_var, '[ b_var outside a_func() ]')\n",
    "b_func()\n",
    "print(b_var, '[ b_var outside a_func() ]')"
   ]
  },
  {
   "cell_type": "code",
   "execution_count": 262,
   "metadata": {},
   "outputs": [
    {
     "name": "stdout",
     "output_type": "stream",
     "text": [
      "1 [ a_var outside a_func() ]\n",
      "2 [ a_var inside a_func() ]\n",
      "2 [ a_var outside a_func() ]\n"
     ]
    }
   ],
   "source": [
    "a_var = 1\n",
    "def a_func():\n",
    "\tglobal a_var\n",
    "\ta_var = a_var + 1\n",
    "\tprint (a_var, '[ a_var inside a_func() ]')\n",
    "print (a_var, '[ a_var outside a_func() ]')\n",
    "a_func()\n",
    "print (a_var, '[ a_var outside a_func() ]')"
   ]
  },
  {
   "cell_type": "code",
   "execution_count": 263,
   "metadata": {},
   "outputs": [
    {
     "name": "stdout",
     "output_type": "stream",
     "text": [
      "enclosed value\n",
      "local value\n",
      "in outer\n",
      "local value\n"
     ]
    }
   ],
   "source": [
    "a_var = 'global value'\n",
    "def outer():\n",
    "#     inner=\"inside function\"\n",
    "    a_var = 'enclosed value'\n",
    "    print (a_var)\n",
    "    b_var=\"in outer\"\n",
    "    def inner():\n",
    "        global a_var\n",
    "        a_var = 'local value'\n",
    "        print(a_var)\n",
    "        print(b_var)\n",
    "\n",
    "    inner()\n",
    "outer()\n",
    "print (a_var)"
   ]
  },
  {
   "cell_type": "code",
   "execution_count": 264,
   "metadata": {},
   "outputs": [
    {
     "name": "stdout",
     "output_type": "stream",
     "text": [
      "3.141592653589793\n",
      "pi value  #434\n",
      "outer before: local value\n",
      "in inner(): inner value\n",
      "outer after: local value\n",
      "global: global value\n",
      "#435\n"
     ]
    }
   ],
   "source": [
    "from math import pi\n",
    "a_var = 'global value'\n",
    "def outer():\n",
    "       a_var = 'local value'\n",
    "       pi=\"#434\"\n",
    "       print (\"pi value \",pi)\n",
    "       print('outer before:', a_var)\n",
    "       def inner():\n",
    "           a_var = 'inner value'\n",
    "           print('in inner():', a_var)\n",
    "       inner()\n",
    "       print(\"outer after:\", a_var)\n",
    "print (pi)\n",
    "outer()\n",
    "print(\"global:\", a_var)\n",
    "pi=\"#435\"\n",
    "print (pi)"
   ]
  },
  {
   "cell_type": "code",
   "execution_count": null,
   "metadata": {},
   "outputs": [],
   "source": [
    "Python fortunately doesn't allow this ambiguity. So, it will throw an error, as we can see in the following example:"
   ]
  },
  {
   "cell_type": "markdown",
   "metadata": {},
   "source": [
    "def f():\n",
    "    print(s)\n",
    "    s = \"I love London!\"\n",
    "    print(s)\n",
    " \n",
    "s = \"I love Paris!\"\n",
    "f()"
   ]
  },
  {
   "cell_type": "markdown",
   "metadata": {},
   "source": [
    "A variable can't be both local and global inside of a function. So Python decides that we want a local variable due to the assignment to s inside of f(), so the first print statement before the definition of s throws the error message above. Any variable which is changed or created inside of a function is local, if it hasn't been declared as a global variable. To tell Python, that we want to use the global variable, we have to explicitly state this by using the keyword \"global\", as can be seen in the following example:"
   ]
  },
  {
   "cell_type": "markdown",
   "metadata": {},
   "source": [
    "## Assignment"
   ]
  },
  {
   "cell_type": "markdown",
   "metadata": {},
   "source": [
    "Convert all previous assignment in to function form..... only one assignment"
   ]
  },
  {
   "cell_type": "markdown",
   "metadata": {},
   "source": [
    "Write a function called cube() with one number parameter and returns\n",
    "the value of that number raised to the third power. Test the\n",
    "function by displaying the result of calling your cube() function on\n",
    "a few different numbers.\n",
    "2. Write a function called greet() that takes one string parameter\n",
    "called name and displays the text \"Hello <name>!\", where <name> is\n",
    "replaced with the value of the name parameter."
   ]
  },
  {
   "cell_type": "markdown",
   "metadata": {},
   "source": [
    "Write a script called temperature.py that defines two functions:\n",
    "1. convert_cel_to_far() which takes one float parameter representing\n",
    "degrees Celsius and returns a float representing the same temperature\n",
    "in degrees Fahrenheit using the following formula:\n",
    "F = C * 9/5 + 32\n",
    "2. convert_far_to_cel() which take one float parameter representing\n",
    "degrees Fahrenheit and returns a float representing the same temperature\n",
    "in degrees Celsius using the following formula:\n",
    "C = (F - 32) * 5/9\n",
    "The script should first prompt the user to enter a temperature in degrees\n",
    "Fahrenheit and then display the temperature converted to Celsius.\n",
    "Then prompt the user to enter a temperature in degrees Celsius and\n",
    "display the temperature converted to Fahrenheit.\n",
    "All converted temperatures should be rounded to 2 decimal places.\n",
    "Here’s a sample run of the program:\n",
    "Enter a temperature in degrees F: 72\n",
    "72 degress F = 22.22 degrees C\n",
    "Enter a temperature in degrees C: 37\n",
    "37 degrees C = 98.60 degrees F"
   ]
  },
  {
   "cell_type": "code",
   "execution_count": null,
   "metadata": {},
   "outputs": [],
   "source": [
    "def multiply(x, y):\n",
    "    product = x * y\n",
    "    return product\n",
    "num = multiply(2, 4)\n",
    "print(num)"
   ]
  },
  {
   "cell_type": "code",
   "execution_count": null,
   "metadata": {},
   "outputs": [],
   "source": [
    "help(multiply)"
   ]
  },
  {
   "cell_type": "code",
   "execution_count": null,
   "metadata": {},
   "outputs": [],
   "source": [
    "def multiply(x, y):\n",
    "    \"\"\"Return the product of two numbers x and y.\"\"\"\n",
    "    product = x * y\n",
    "    return product"
   ]
  },
  {
   "cell_type": "code",
   "execution_count": null,
   "metadata": {},
   "outputs": [],
   "source": [
    "# help(len)\n",
    "help(multiply)"
   ]
  },
  {
   "cell_type": "code",
   "execution_count": null,
   "metadata": {},
   "outputs": [],
   "source": [
    "  /**\n",
    "         * @memberof lib\n",
    "         * @description This method sets the default audio language.\n",
    "         * @param {String} lang Language to be set as default for audio\n",
    "         * @returns {Boolean} true if success, false if not.\n",
    "         */"
   ]
  },
  {
   "cell_type": "code",
   "execution_count": null,
   "metadata": {},
   "outputs": [],
   "source": [
    "num = float(input(\"Enter a positive number: \"))\n",
    "while num <= 0:\n",
    "    print(\"That's not a positive number!\")\n",
    "    num = float(input(\"Enter a positive number: \"))"
   ]
  },
  {
   "cell_type": "code",
   "execution_count": null,
   "metadata": {},
   "outputs": [],
   "source": [
    "word = \"Python\"\n",
    "index = 0\n",
    "while index < len(word):\n",
    "    print(word[index])\n",
    "    index = index + 1"
   ]
  },
  {
   "cell_type": "code",
   "execution_count": null,
   "metadata": {},
   "outputs": [],
   "source": [
    "x = \"Hello World\"\n",
    "def func():\n",
    "    x = 2\n",
    "    print(f\"Inside 'func', x has the value {x}\")\n",
    "func()\n",
    "print(f\"Outside 'func', x has the value {x}\")"
   ]
  },
  {
   "cell_type": "code",
   "execution_count": null,
   "metadata": {},
   "outputs": [],
   "source": [
    "x = 5\n",
    "def outer_func():\n",
    "    y = 3\n",
    "    def inner_func():\n",
    "        z = x + y\n",
    "        return z\n",
    "    return inner_func()\n",
    "#     return 8\n",
    "\n",
    "outer_func()"
   ]
  },
  {
   "cell_type": "code",
   "execution_count": null,
   "metadata": {},
   "outputs": [],
   "source": [
    "total = 0\n",
    "def add_to_total(n):\n",
    "    total=5\n",
    "    total = total + n\n",
    "    print(total)\n",
    "add_to_total(5)\n",
    "print(total)"
   ]
  },
  {
   "cell_type": "code",
   "execution_count": null,
   "metadata": {},
   "outputs": [],
   "source": [
    "def test():\n",
    "    return \"python\"\n",
    "# x=calculatearea(10,20)\n",
    "print (x1)\n",
    "x1=test()#"
   ]
  },
  {
   "cell_type": "markdown",
   "metadata": {},
   "source": [
    "Create a function manipulate_data that does the following\n",
    "Accepts as the first parameter a string specifying the data structure to be used list, set or \n",
    "dictionary\n",
    "Accepts as the second parameter the data to be manipulated based on the data \n",
    "structure specified e.g [1, 4, 9, 16, 25] \n",
    "for a list data structure\n",
    "\n",
    "Based off the first parameter\n",
    "\n",
    "return the reverse of a list or\n",
    "add items \"ANDELA\", \"TIA\" and \"AFRICA\" to the set and return the resulting set\n",
    "return the keys of a dictionary.\n",
    "manipulate(\"list\",[1,2,3])"
   ]
  }
 ],
 "metadata": {
  "kernelspec": {
   "display_name": "Python 3",
   "language": "python",
   "name": "python3"
  },
  "language_info": {
   "codemirror_mode": {
    "name": "ipython",
    "version": 3
   },
   "file_extension": ".py",
   "mimetype": "text/x-python",
   "name": "python",
   "nbconvert_exporter": "python",
   "pygments_lexer": "ipython3",
   "version": "3.8.3"
  }
 },
 "nbformat": 4,
 "nbformat_minor": 2
}
