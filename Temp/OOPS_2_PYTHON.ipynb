{
 "cells": [
  {
   "cell_type": "code",
   "execution_count": 1,
   "metadata": {},
   "outputs": [
    {
     "name": "stdout",
     "output_type": "stream",
     "text": [
      "welcome to  State Bank Of India\n",
      "Enter Your Name :tony\n",
      "d - Deposite\n",
      "w - Withdraw\n",
      "e - Exit\n",
      "choose your option :d\n",
      "Enter Amount34567\n",
      "Balance after deposite is : 34567.0\n",
      "d - Deposite\n",
      "w - Withdraw\n",
      "e - Exit\n",
      "choose your option :w\n",
      "Enter Amount to Withdraw:500\n",
      "Balance after withdraw : 34067.0\n",
      "d - Deposite\n",
      "w - Withdraw\n",
      "e - Exit\n",
      "choose your option :q\n",
      "Invalid option......Please the Correct Option\n",
      "d - Deposite\n",
      "w - Withdraw\n",
      "e - Exit\n",
      "choose your option :e\n",
      "Thanks for Banking:\n"
     ]
    },
    {
     "ename": "SystemExit",
     "evalue": "",
     "output_type": "error",
     "traceback": [
      "An exception has occurred, use %tb to see the full traceback.\n",
      "\u001b[1;31mSystemExit\u001b[0m\n"
     ]
    }
   ],
   "source": [
    "import sys\n",
    "import warnings\n",
    "warnings.filterwarnings(\"ignore\")\n",
    "class Customer:\n",
    "    '''customer bank operations'''\n",
    "    bankName = \"State Bank Of India\"\n",
    "    def __init__(self,name,balance=0.0):\n",
    "        self.name = name\n",
    "        self.balance = balance\n",
    "    \n",
    "    def deposite(self,amount):\n",
    "        self.balance = self.balance+amount\n",
    "        print(\"Balance after deposite is :\",self.balance)\n",
    "        \n",
    "    def withdraw(self,amt):\n",
    "        if amt > self.balance:\n",
    "            print(\"Insufficient funds....... cannot perform this transaction\")\n",
    "            sys.exit()\n",
    "        self.balance = self.balance-amt\n",
    "        print(\"Balance after withdraw :\",self.balance)\n",
    "        \n",
    "print(\"welcome to \",Customer.bankName)\n",
    "name = input(\"Enter Your Name :\")\n",
    "c = Customer(name)\n",
    "\n",
    "while True:\n",
    "    print(\"d - Deposite\\nw - Withdraw\\ne - Exit\")\n",
    "    option = input(\"choose your option :\")\n",
    "    if option == \"d\" or option == \"D\":\n",
    "        amount = float(input(\"Enter Amount\"))\n",
    "        c.deposite(amount)\n",
    "    elif option == \"w\" or option == \"W\":\n",
    "        amount = float(input(\"Enter Amount to Withdraw:\"))\n",
    "        if amount %500 != 0:\n",
    "            print(\"Amount should be multiples of 500\")\n",
    "            amount = float(input(\"Enter Amount to Withdraw:\"))\n",
    "        c.withdraw(amount)\n",
    "    elif option == \"e\" or option == \"E\":\n",
    "        print(\"Thanks for Banking:\")\n",
    "        sys.exit()\n",
    "    else:\n",
    "        print(\"Invalid option......Please the Correct Option\")"
   ]
  },
  {
   "cell_type": "code",
   "execution_count": 2,
   "metadata": {},
   "outputs": [
    {
     "name": "stdout",
     "output_type": "stream",
     "text": [
      "Enter Your Name:tony\n",
      "Enter Your Marks:45\n",
      "Hi: tony\n",
      "your Marks are: 45\n",
      "You got THIRD GRADE:\n"
     ]
    }
   ],
   "source": [
    "class Student:\n",
    "    def __init__(self,name,marks):\n",
    "        self.name = name\n",
    "        self.marks = marks\n",
    "    def details(self):\n",
    "        print(\"Hi:\",self.name)\n",
    "        print(\"your Marks are:\",self.marks)\n",
    "    def grade(self): # Here we are accessing Instance variables marks so we use self as an argument in this method\n",
    "        if self.marks >= 60:\n",
    "            print(\"You got FIRST GRADE:\")\n",
    "        elif self.marks >=50:\n",
    "            print(\"You got SECOND GRADE:\")\n",
    "        elif self.marks >=35:\n",
    "            print(\"You got THIRD GRADE:\")\n",
    "        else:\n",
    "            print(\"You are FAILED:\")\n",
    "name = input(\"Enter Your Name:\")\n",
    "marks = int(input(\"Enter Your Marks:\"))\n",
    "s = Student(name,marks)\n",
    "s.details()\n",
    "s.grade()"
   ]
  },
  {
   "cell_type": "code",
   "execution_count": 3,
   "metadata": {},
   "outputs": [
    {
     "name": "stdout",
     "output_type": "stream",
     "text": [
      "Enter number of students:2\n",
      "Enter Your Name:tony\n",
      "Enter Your Marks:45\n",
      "Hi: tony\n",
      "your Marks are: 45\n",
      "You got THIRD GRADE:\n",
      "Enter Your Name:tommy\n",
      "Enter Your Marks:60\n",
      "Hi: tommy\n",
      "your Marks are: 60\n",
      "You got FIRST GRADE:\n"
     ]
    }
   ],
   "source": [
    "class Student:\n",
    "    def __init__(self,name,marks):\n",
    "        self.name = name\n",
    "        self.marks = marks\n",
    "    def details(self):\n",
    "        \n",
    "        print(\"Hi:\",self.name)\n",
    "        print(\"your Marks are:\",self.marks)\n",
    "        self.grade()\n",
    "    def grade(self): # Here we are accessing Instance variables marks so we use self as an argument in this method\n",
    "        if self.marks >= 60:\n",
    "            print(\"You got FIRST GRADE:\")\n",
    "        elif self.marks >=50:\n",
    "            print(\"You got SECOND GRADE:\")\n",
    "        elif self.marks >=35:\n",
    "            print(\"You got THIRD GRADE:\")\n",
    "        else:\n",
    "            print(\"You are FAILED:\")\n",
    "n = int(input(\"Enter number of students:\"))\n",
    "for i in range(n):    \n",
    "    name = input(\"Enter Your Name:\")\n",
    "    marks = int(input(\"Enter Your Marks:\"))\n",
    "    s = Student(name,marks)\n",
    "    s.details()"
   ]
  },
  {
   "cell_type": "code",
   "execution_count": 4,
   "metadata": {},
   "outputs": [
    {
     "name": "stdout",
     "output_type": "stream",
     "text": [
      "Raj\n",
      "500\n"
     ]
    }
   ],
   "source": [
    "class Student:\n",
    "    def setName(self,name):\n",
    "        self.name = name\n",
    "    def setMarks(self,marks):\n",
    "        self.marks = marks\n",
    "s = Student()\n",
    "s.setName(\"Raj\")\n",
    "s.setMarks(500)\n",
    "print(s.name)\n",
    "print(s.marks)"
   ]
  },
  {
   "cell_type": "code",
   "execution_count": 5,
   "metadata": {},
   "outputs": [
    {
     "name": "stdout",
     "output_type": "stream",
     "text": [
      "Raj\n",
      "500\n"
     ]
    }
   ],
   "source": [
    "class Student:\n",
    "    def setName(self,name):\n",
    "        self.name = name\n",
    "    def setMarks(self,marks):\n",
    "        self.marks = marks\n",
    "    def getName(self):\n",
    "        return self.name\n",
    "    def getMarks(self):\n",
    "        return self.marks\n",
    "    \n",
    "s = Student()\n",
    "s.setName(\"Raj\")\n",
    "s.setMarks(500)\n",
    "print(s.getName())\n",
    "print(s.getMarks())"
   ]
  },
  {
   "cell_type": "code",
   "execution_count": 6,
   "metadata": {},
   "outputs": [
    {
     "name": "stdout",
     "output_type": "stream",
     "text": [
      "Enter Number of Students:2\n",
      "Enter your Name:tony\n",
      "Enter your marks:60\n",
      "Hi tony\n",
      "Your Marks are  60\n",
      "\n",
      "Enter your Name:tommy\n",
      "Enter your marks:50\n",
      "Hi tommy\n",
      "Your Marks are  50\n",
      "\n"
     ]
    }
   ],
   "source": [
    "class Student:\n",
    "    def setName(self,name):\n",
    "        self.name = name\n",
    "    def getName(self):\n",
    "        return self.name\n",
    "    def setMarks(self,marks):\n",
    "        self.marks = marks\n",
    "    def getMarks(self):\n",
    "        return self.marks\n",
    "n = int(input(\"Enter Number of Students:\"))\n",
    "for i in range(n):\n",
    "    s = Student()\n",
    "    name = input(\"Enter your Name:\")\n",
    "    s.setName(name)\n",
    "    marks = int(input(\"Enter your marks:\"))\n",
    "    s.setMarks(marks)\n",
    "    \n",
    "    \n",
    "    print(\"Hi\",s.getName())\n",
    "    print(\"Your Marks are \",s.getMarks())\n",
    "    print()"
   ]
  },
  {
   "cell_type": "code",
   "execution_count": 7,
   "metadata": {},
   "outputs": [
    {
     "name": "stdout",
     "output_type": "stream",
     "text": [
      "7\n",
      "13\n"
     ]
    },
    {
     "data": {
      "text/plain": [
       "2.0"
      ]
     },
     "execution_count": 7,
     "metadata": {},
     "output_type": "execute_result"
    }
   ],
   "source": [
    "class Sree:\n",
    "    @staticmethod\n",
    "    def addition(x,y):\n",
    "        return (x+y)\n",
    "    @staticmethod\n",
    "    def multiplication(x,y):\n",
    "        return (x+y)\n",
    "    @staticmethod\n",
    "    def division(x,y):\n",
    "        return (x/y)\n",
    "print(Sree.addition(3,4))\n",
    "print(Sree.multiplication(6,7))\n",
    "s = Sree()\n",
    "s.division(8,4)"
   ]
  },
  {
   "cell_type": "code",
   "execution_count": 8,
   "metadata": {},
   "outputs": [
    {
     "name": "stdout",
     "output_type": "stream",
     "text": [
      "Employee Number: 587\n",
      "Employee Name: Raj\n",
      "Employee Salary: 50000\n"
     ]
    }
   ],
   "source": [
    "class Employee:\n",
    "    def __init__(self,eno,ename,esal):\n",
    "        self.eno = eno\n",
    "        self.ename = ename\n",
    "        self.esal = esal\n",
    "    def display(self):\n",
    "        print(\"Employee Number:\",self.eno)\n",
    "        print(\"Employee Name:\",self.ename)\n",
    "        print(\"Employee Salary:\",self.esal)\n",
    "class Manager:\n",
    "    def UpdateSalary(emp):\n",
    "        emp.esal = emp.esal + 10000\n",
    "        emp.display()\n",
    "e = Employee(587,\"Raj\",40000)\n",
    "Manager.UpdateSalary(e)"
   ]
  },
  {
   "cell_type": "code",
   "execution_count": 9,
   "metadata": {},
   "outputs": [
    {
     "name": "stdout",
     "output_type": "stream",
     "text": [
      "100\n"
     ]
    }
   ],
   "source": [
    "def f1(x):\n",
    "    print(x)\n",
    "y = 100\n",
    "f1(y)"
   ]
  },
  {
   "cell_type": "markdown",
   "metadata": {},
   "source": [
    "## Inner classes"
   ]
  },
  {
   "cell_type": "code",
   "execution_count": 10,
   "metadata": {},
   "outputs": [
    {
     "name": "stdout",
     "output_type": "stream",
     "text": [
      "Outer class object creation...\n",
      "Inner class object creation\n",
      "Inner class method\n"
     ]
    }
   ],
   "source": [
    "class Outer:\n",
    "    def __init__(self):\n",
    "        print(\"Outer class object creation...\")\n",
    "    class Inner:\n",
    "        def __init__(self):\n",
    "            print(\"Inner class object creation\")\n",
    "        def m1(self):\n",
    "            print(\"Inner class method\")\n",
    "o = Outer()\n",
    "i = o.Inner()\n",
    "i.m1()"
   ]
  },
  {
   "cell_type": "code",
   "execution_count": 11,
   "metadata": {},
   "outputs": [
    {
     "name": "stdout",
     "output_type": "stream",
     "text": [
      "Outer class object creation...\n",
      "Inner class object creation\n",
      "Inner class method\n"
     ]
    }
   ],
   "source": [
    "class Outer:\n",
    "    def __init__(self):\n",
    "        print(\"Outer class object creation...\")\n",
    "    class Inner:\n",
    "        def __init__(self):\n",
    "            print(\"Inner class object creation\")\n",
    "        def m1(self):\n",
    "            print(\"Inner class method\")\n",
    "i = Outer().Inner()\n",
    "i.m1()"
   ]
  },
  {
   "cell_type": "code",
   "execution_count": 12,
   "metadata": {},
   "outputs": [
    {
     "name": "stdout",
     "output_type": "stream",
     "text": [
      "Outer class object creation...\n",
      "Inner1 class object creation\n",
      "Inner1 class method\n",
      "Inner2 class object creation\n",
      "Inner2 class method\n"
     ]
    }
   ],
   "source": [
    "class Outer:\n",
    "    def __init__(self):\n",
    "        print(\"Outer class object creation...\")\n",
    "    class Inner1:\n",
    "        def __init__(self):\n",
    "            print(\"Inner1 class object creation\")\n",
    "        def m1(self):\n",
    "            print(\"Inner1 class method\")\n",
    "    class Inner2:\n",
    "        def __init__(self):\n",
    "            print(\"Inner2 class object creation\")\n",
    "        def m2(self):\n",
    "            print(\"Inner2 class method\")\n",
    "o = Outer()\n",
    "i1 = o.Inner1()\n",
    "i1.m1()\n",
    "i2 = o.Inner2()\n",
    "i2.m2()"
   ]
  },
  {
   "cell_type": "code",
   "execution_count": 13,
   "metadata": {},
   "outputs": [
    {
     "name": "stdout",
     "output_type": "stream",
     "text": [
      "outer class object creation\n",
      "Inner class object creation\n",
      "InnerInner class object creation\n",
      "InnerInner class object\n"
     ]
    }
   ],
   "source": [
    "class Outer:\n",
    "    def __init__(self):\n",
    "        print(\"outer class object creation\")\n",
    "    class Inner:\n",
    "        def __init__(self):\n",
    "            print(\"Inner class object creation\")\n",
    "        class InnerInner:\n",
    "            def __init__(self):\n",
    "                print(\"InnerInner class object creation\")\n",
    "            def m1(self):\n",
    "                print(\"InnerInner class object\")\n",
    "Outer().Inner().InnerInner().m1()"
   ]
  },
  {
   "cell_type": "code",
   "execution_count": 14,
   "metadata": {},
   "outputs": [
    {
     "name": "stdout",
     "output_type": "stream",
     "text": [
      "Human class object creation....\n",
      "Head class object created....\n",
      "Brain class object created....\n"
     ]
    }
   ],
   "source": [
    "class Human:\n",
    "    def __init__(self,name):\n",
    "        print(\"Human class object creation....\")\n",
    "        self.name = name\n",
    "        self.head = self.Head()\n",
    "    class Head:\n",
    "        def __init__(self):\n",
    "            print(\"Head class object created....\")\n",
    "            self.brain = self.Brain()\n",
    "        class Brain:\n",
    "            def __init__(self):\n",
    "                print(\"Brain class object created....\")\n",
    "        \n",
    "human = Human(\"raj\")        "
   ]
  },
  {
   "cell_type": "code",
   "execution_count": 15,
   "metadata": {},
   "outputs": [
    {
     "name": "stdout",
     "output_type": "stream",
     "text": [
      "Human object created....\n",
      "Head object created....\n",
      "Brain object created....\n",
      "Hello my name is Raj\n",
      "I am good at\n",
      "Talking.....\n",
      "Thinking.....\n"
     ]
    }
   ],
   "source": [
    "class Human:\n",
    "    def __init__(self,name):\n",
    "        print(\"Human object created....\")\n",
    "        self.name = name\n",
    "        self.head = self.Head()\n",
    "    def info(self):\n",
    "        print(\"Hello my name is\",self.name)\n",
    "        print(\"I am good at\")\n",
    "        self.head.talk()\n",
    "        self.head.brain.think()\n",
    "    class Head:\n",
    "        def __init__(self):\n",
    "            print(\"Head object created....\")\n",
    "            self.brain = self.Brain()\n",
    "        def talk(self):\n",
    "            print(\"Talking.....\")\n",
    "        class Brain:\n",
    "            def __init__(self):\n",
    "                print(\"Brain object created....\")\n",
    "            def think(self):\n",
    "                print(\"Thinking.....\")\n",
    "human = Human(\"Raj\")\n",
    "human.info()"
   ]
  },
  {
   "cell_type": "code",
   "execution_count": 17,
   "metadata": {},
   "outputs": [
    {
     "name": "stdout",
     "output_type": "stream",
     "text": [
      "Person object created...\n",
      "DOB object created...\n",
      "Name Raj\n",
      "DOB = 26/6/1997\n"
     ]
    }
   ],
   "source": [
    "class Person:\n",
    "    def __init__(self,name,dd,mm,yyyy):\n",
    "        print(\"Person object created...\")\n",
    "        self.name = name\n",
    "        self.dob = self.Dob(dd,mm,yyyy)\n",
    "    def info(self):\n",
    "        print(\"Name\",self.name)\n",
    "        self.dob.display()\n",
    "    class Dob:\n",
    "        def __init__(self,dd,mm,yyyy):\n",
    "            print(\"DOB object created...\")\n",
    "            self.dd = dd\n",
    "            self.mm = mm\n",
    "            self.yyyy = yyyy\n",
    "        def display(self):\n",
    "            print(\"DOB = {}/{}/{}\".format(self.dd,self.mm,self.yyyy))\n",
    "p = Person(\"Raj\",26,6,1997)\n",
    "p.info()\n",
    "            "
   ]
  },
  {
   "cell_type": "code",
   "execution_count": 1,
   "metadata": {},
   "outputs": [
    {
     "name": "stdout",
     "output_type": "stream",
     "text": [
      "sum 30\n",
      "diff -10\n",
      "mul 200\n",
      "div 0.5\n",
      "avg 15.0\n",
      "sum 300\n",
      "diff -100\n",
      "mul 20000\n",
      "div 0.5\n",
      "avg 150.0\n",
      "sum 3000\n",
      "diff -1000\n",
      "mul 2000000\n",
      "div 0.5\n",
      "avg 1500.0\n"
     ]
    }
   ],
   "source": [
    "class Test:\n",
    "    def m1(self):  # Nested Method\n",
    "        a = 10\n",
    "        b = 20\n",
    "        print(\"sum\",a+b)\n",
    "        print(\"diff\",a-b)\n",
    "        print(\"mul\",a*b)\n",
    "        print(\"div\",a/b)\n",
    "        print(\"avg\",(a+b)/2)\n",
    "        \n",
    "        \n",
    "        a = 100\n",
    "        b = 200\n",
    "        print(\"sum\",a+b)\n",
    "        print(\"diff\",a-b)\n",
    "        print(\"mul\",a*b)\n",
    "        print(\"div\",a/b)\n",
    "        print(\"avg\",(a+b)/2)\n",
    "         \n",
    "        \n",
    "        a = 1000\n",
    "        b = 2000\n",
    "        print(\"sum\",a+b)\n",
    "        print(\"diff\",a-b)\n",
    "        print(\"mul\",a*b)\n",
    "        print(\"div\",a/b)\n",
    "        print(\"avg\",(a+b)/2)\n",
    "t = Test()\n",
    "t.m1()"
   ]
  },
  {
   "cell_type": "code",
   "execution_count": 3,
   "metadata": {},
   "outputs": [
    {
     "name": "stdout",
     "output_type": "stream",
     "text": [
      "sum 30\n",
      "diff -10\n",
      "mul 200\n",
      "div 0.5\n",
      "avg 15.0\n",
      "\n",
      "sum 300\n",
      "diff -100\n",
      "mul 20000\n",
      "div 0.5\n",
      "avg 150.0\n",
      "\n",
      "sum 3000\n",
      "diff -1000\n",
      "mul 2000000\n",
      "div 0.5\n",
      "avg 1500.0\n",
      "\n"
     ]
    }
   ],
   "source": [
    "class Test:\n",
    "    def m1(self):  # Nested Method\n",
    "        def calc(a,b):\n",
    "            print(\"sum\",a+b)\n",
    "            print(\"diff\",a-b)\n",
    "            print(\"mul\",a*b)\n",
    "            print(\"div\",a/b)\n",
    "            print(\"avg\",(a+b)/2)\n",
    "            print()\n",
    "        calc(10,20)\n",
    "        calc(100,200)\n",
    "        calc(1000,2000)\n",
    "t = Test()\n",
    "t.m1()"
   ]
  },
  {
   "cell_type": "code",
   "execution_count": 4,
   "metadata": {},
   "outputs": [],
   "source": [
    "import gc"
   ]
  },
  {
   "cell_type": "code",
   "execution_count": 5,
   "metadata": {},
   "outputs": [
    {
     "data": {
      "text/plain": [
       "True"
      ]
     },
     "execution_count": 5,
     "metadata": {},
     "output_type": "execute_result"
    }
   ],
   "source": [
    "gc.isenabled()"
   ]
  },
  {
   "cell_type": "code",
   "execution_count": 1,
   "metadata": {},
   "outputs": [
    {
     "name": "stdout",
     "output_type": "stream",
     "text": [
      "object initialization\n",
      "object initialization\n",
      "object initialization\n",
      "This list no longer required making it eligible for GC\n",
      "performing cleaning up\n",
      "performing cleaning up\n",
      "performing cleaning up\n",
      "End of application\n"
     ]
    }
   ],
   "source": [
    "import time\n",
    "class Test:\n",
    "    def __init__(self):\n",
    "        print(\"object initialization\")\n",
    "    def __del__(self):\n",
    "        print(\"performing cleaning up\")\n",
    "l = [Test(),Test(),Test()]\n",
    "time.sleep(10)\n",
    "print(\"This list no longer required making it eligible for GC\")\n",
    "del l\n",
    "time.sleep(10)\n",
    "print(\"End of application\")"
   ]
  },
  {
   "cell_type": "code",
   "execution_count": 1,
   "metadata": {},
   "outputs": [
    {
     "name": "stdout",
     "output_type": "stream",
     "text": [
      "4\n"
     ]
    }
   ],
   "source": [
    "import sys\n",
    "class Test:\n",
    "    pass\n",
    "t1 = Test()\n",
    "t2 = t1\n",
    "t3 = t2\n",
    "print(sys.getrefcount(t3)) #self,t1,t2,t3"
   ]
  },
  {
   "cell_type": "code",
   "execution_count": 2,
   "metadata": {},
   "outputs": [
    {
     "name": "stdout",
     "output_type": "stream",
     "text": [
      "3\n"
     ]
    }
   ],
   "source": [
    "import sys\n",
    "class Test:\n",
    "    pass\n",
    "t1 = Test()\n",
    "t2 = t1\n",
    "t3 = t2\n",
    "del t1\n",
    "print(sys.getrefcount(t3))"
   ]
  },
  {
   "cell_type": "code",
   "execution_count": 4,
   "metadata": {},
   "outputs": [
    {
     "name": "stdout",
     "output_type": "stream",
     "text": [
      "2\n"
     ]
    }
   ],
   "source": [
    "import sys\n",
    "class Test:\n",
    "    pass\n",
    "t1 = Test()\n",
    "t2 = t1\n",
    "t3 = t2\n",
    "del t1\n",
    "del t2\n",
    "print(sys.getrefcount(t3))"
   ]
  },
  {
   "cell_type": "code",
   "execution_count": 1,
   "metadata": {},
   "outputs": [
    {
     "name": "stdout",
     "output_type": "stream",
     "text": [
      "m1 method\n",
      "m2 method\n"
     ]
    }
   ],
   "source": [
    "class Parent:\n",
    "    def m1(self):\n",
    "        print(\"m1 method\")\n",
    "class Child(Parent):\n",
    "    def m2(self):\n",
    "        print(\"m2 method\")\n",
    "c = Child()\n",
    "c.m1()\n",
    "c.m2()"
   ]
  },
  {
   "cell_type": "code",
   "execution_count": 7,
   "metadata": {},
   "outputs": [
    {
     "name": "stdout",
     "output_type": "stream",
     "text": [
      "Child constructor:\n",
      "Parent Constructor:\n",
      "The id of self in p: 2772859990320\n",
      "The id of self in c: 2772859990320\n",
      "The id of reference variable is: 2772859990320\n"
     ]
    }
   ],
   "source": [
    "class Parent:\n",
    "    def __init__(self):\n",
    "        print(\"Parent Constructor:\")\n",
    "        self.a = 888\n",
    "        print(\"The id of self in p:\",id(self))\n",
    "class Child(Parent):\n",
    "    def __init__(self):\n",
    "        print(\"Child constructor:\")\n",
    "        super().__init__()\n",
    "        self.b = 999\n",
    "        print(\"The id of self in c:\",id(self))\n",
    "c = Child()\n",
    "print(\"The id of reference variable is:\",id(c))\n",
    "    "
   ]
  },
  {
   "cell_type": "code",
   "execution_count": 14,
   "metadata": {},
   "outputs": [
    {
     "name": "stdout",
     "output_type": "stream",
     "text": [
      "Eating chicken and drinking beer\n",
      "disclaimer drinking is injurious to health\n",
      "Python coding based on requirement\n",
      "Name Raj\n",
      "Age 50\n",
      "Eno 587\n",
      "Esal 10000\n",
      "Car Info:\n",
      "\tCar name: Innova, \n",
      "\tmodel:2.5v, \n",
      "\tcolour:Grey\n"
     ]
    }
   ],
   "source": [
    "class Car:\n",
    "    def __init__(self,name,model,colour):\n",
    "        self.name = name\n",
    "        self.model = model\n",
    "        self.colour = colour\n",
    "    def getInfo(self):\n",
    "        print(\"\\tCar name: {}, \\n\\tmodel:{}, \\n\\tcolour:{}\".format(self.name,self.model,self.colour))\n",
    "class Person:\n",
    "    def __init__(self,name,age):\n",
    "        self.name = name\n",
    "        self.age = age\n",
    "    def EatndDrink(self):\n",
    "        print(\"Eating chicken and drinking beer\")\n",
    "        print(\"disclaimer drinking is injurious to health\")\n",
    "class Employee(Person):\n",
    "    def __init__(self,name,age,eno,esal,car):\n",
    "        super().__init__(name,age)\n",
    "        self.eno = eno\n",
    "        self.esal = esal\n",
    "        self.car = car\n",
    "    def Work(self):\n",
    "        print(\"Python coding based on requirement\")\n",
    "    def empInfo(self):\n",
    "        print(\"Name\",self.name)\n",
    "        print(\"Age\",self.age)\n",
    "        print(\"Eno\",self.eno)\n",
    "        print(\"Esal\",self.esal)\n",
    "        print(\"Car Info:\")\n",
    "        self.car.getInfo()\n",
    "car = Car(\"Innova\",\"2.5v\",\"Grey\")\n",
    "e = Employee(\"Raj\",50,587,10000,car)\n",
    "e.EatndDrink()\n",
    "e.Work()\n",
    "e.empInfo()"
   ]
  },
  {
   "cell_type": "code",
   "execution_count": null,
   "metadata": {},
   "outputs": [],
   "source": []
  },
  {
   "cell_type": "code",
   "execution_count": null,
   "metadata": {},
   "outputs": [],
   "source": []
  },
  {
   "cell_type": "code",
   "execution_count": null,
   "metadata": {},
   "outputs": [],
   "source": []
  },
  {
   "cell_type": "code",
   "execution_count": null,
   "metadata": {},
   "outputs": [],
   "source": []
  },
  {
   "cell_type": "code",
   "execution_count": null,
   "metadata": {},
   "outputs": [],
   "source": []
  },
  {
   "cell_type": "code",
   "execution_count": null,
   "metadata": {},
   "outputs": [],
   "source": []
  }
 ],
 "metadata": {
  "kernelspec": {
   "display_name": "Python 3",
   "language": "python",
   "name": "python3"
  },
  "language_info": {
   "codemirror_mode": {
    "name": "ipython",
    "version": 3
   },
   "file_extension": ".py",
   "mimetype": "text/x-python",
   "name": "python",
   "nbconvert_exporter": "python",
   "pygments_lexer": "ipython3",
   "version": "3.8.5"
  }
 },
 "nbformat": 4,
 "nbformat_minor": 4
}
