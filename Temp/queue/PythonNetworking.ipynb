{
 "nbformat": 4,
 "nbformat_minor": 0,
 "metadata": {
  "kernelspec": {
   "display_name": "Python 3",
   "language": "python",
   "name": "python3"
  },
  "language_info": {
   "codemirror_mode": {
    "name": "ipython",
    "version": 3
   },
   "file_extension": ".py",
   "mimetype": "text/x-python",
   "name": "python",
   "nbconvert_exporter": "python",
   "pygments_lexer": "ipython3",
   "version": "3.8.5"
  },
  "colab": {
   "name": "PythonNetworking.ipynb",
   "provenance": [],
   "include_colab_link": true
  }
 },
 "cells": [
  {
   "cell_type": "markdown",
   "metadata": {
    "id": "view-in-github",
    "colab_type": "text"
   },
   "source": [
    "<a href=\"https://colab.research.google.com/github/nadinfromc137/Networks/blob/main/PythonNetworking.ipynb\" target=\"_parent\"><img src=\"https://colab.research.google.com/assets/colab-badge.svg\" alt=\"Open In Colab\"/></a>"
   ]
  },
  {
   "cell_type": "markdown",
   "metadata": {
    "id": "4L1nfzVwPRvd"
   },
   "source": [
    "---------------------------------------------------------------------------------------------------------------------------\n",
    "Part2\n",
    "---------------------------------------------------------------------------------\n",
    "## python networking "
   ]
  },
  {
   "cell_type": "markdown",
   "metadata": {
    "id": "NYTRXc2VPRv8"
   },
   "source": [
    "###  In this Tutorial you will use the Module \"ipaddress\" that will help you to deal with ip addresses and network prefixes with more  ease.\n",
    "\n",
    " Firstly take a look on the documentation of the module in the pdf file attached, Then perform the following tasks "
   ]
  },
  {
   "cell_type": "code",
   "metadata": {
    "colab": {
     "base_uri": "https://localhost:8080/"
    },
    "id": "o0y58K9ZPRwA",
    "outputId": "c40b591c-df98-4310-a9c6-8c9535b4fef2"
   },
   "source": [
    "!pip install ipaddress\n",
    "import ipaddress  # using the ipaddress module\n",
    "\n",
    "# Code Starts Here\n",
    "# 1- print the number of hosts in the network 192.168.70.0/24 (0.5 mark)\n",
    "# 2- print the network mask and the length of the network prefix of network 192.168.70.0/24 (0.5 mark)\n",
    "# hint refer to the additional attribute section in the pdf\n",
    "\n",
    "my_network = ipaddress.ip_network('192.168.70.0/24')\n",
    "print(my_network.num_addresses)\n",
    "print(my_network.netmask)\n",
    "print(my_network.prefixlen)"
   ],
   "execution_count": 6,
   "outputs": [
    {
     "output_type": "stream",
     "text": [
      "Requirement already satisfied: ipaddress in /usr/local/lib/python3.7/dist-packages (1.0.23)\n",
      "256\n",
      "255.255.255.0\n",
      "24\n"
     ],
     "name": "stdout"
    }
   ]
  },
  {
   "cell_type": "code",
   "metadata": {
    "colab": {
     "base_uri": "https://localhost:8080/"
    },
    "id": "2vws58GLPRwE",
    "outputId": "65dba9ba-b693-4df3-b170-4a31d91565f4"
   },
   "source": [
    "# 2- print the hosts in the network 192.168.70.0/24 (0.5 mark)\n",
    "\n",
    "for my_host in my_network.hosts():\n",
    "    print(my_host)"
   ],
   "execution_count": 8,
   "outputs": [
    {
     "output_type": "stream",
     "text": [
      "192.168.70.1\n",
      "192.168.70.2\n",
      "192.168.70.3\n",
      "192.168.70.4\n",
      "192.168.70.5\n",
      "192.168.70.6\n",
      "192.168.70.7\n",
      "192.168.70.8\n",
      "192.168.70.9\n",
      "192.168.70.10\n",
      "192.168.70.11\n",
      "192.168.70.12\n",
      "192.168.70.13\n",
      "192.168.70.14\n",
      "192.168.70.15\n",
      "192.168.70.16\n",
      "192.168.70.17\n",
      "192.168.70.18\n",
      "192.168.70.19\n",
      "192.168.70.20\n",
      "192.168.70.21\n",
      "192.168.70.22\n",
      "192.168.70.23\n",
      "192.168.70.24\n",
      "192.168.70.25\n",
      "192.168.70.26\n",
      "192.168.70.27\n",
      "192.168.70.28\n",
      "192.168.70.29\n",
      "192.168.70.30\n",
      "192.168.70.31\n",
      "192.168.70.32\n",
      "192.168.70.33\n",
      "192.168.70.34\n",
      "192.168.70.35\n",
      "192.168.70.36\n",
      "192.168.70.37\n",
      "192.168.70.38\n",
      "192.168.70.39\n",
      "192.168.70.40\n",
      "192.168.70.41\n",
      "192.168.70.42\n",
      "192.168.70.43\n",
      "192.168.70.44\n",
      "192.168.70.45\n",
      "192.168.70.46\n",
      "192.168.70.47\n",
      "192.168.70.48\n",
      "192.168.70.49\n",
      "192.168.70.50\n",
      "192.168.70.51\n",
      "192.168.70.52\n",
      "192.168.70.53\n",
      "192.168.70.54\n",
      "192.168.70.55\n",
      "192.168.70.56\n",
      "192.168.70.57\n",
      "192.168.70.58\n",
      "192.168.70.59\n",
      "192.168.70.60\n",
      "192.168.70.61\n",
      "192.168.70.62\n",
      "192.168.70.63\n",
      "192.168.70.64\n",
      "192.168.70.65\n",
      "192.168.70.66\n",
      "192.168.70.67\n",
      "192.168.70.68\n",
      "192.168.70.69\n",
      "192.168.70.70\n",
      "192.168.70.71\n",
      "192.168.70.72\n",
      "192.168.70.73\n",
      "192.168.70.74\n",
      "192.168.70.75\n",
      "192.168.70.76\n",
      "192.168.70.77\n",
      "192.168.70.78\n",
      "192.168.70.79\n",
      "192.168.70.80\n",
      "192.168.70.81\n",
      "192.168.70.82\n",
      "192.168.70.83\n",
      "192.168.70.84\n",
      "192.168.70.85\n",
      "192.168.70.86\n",
      "192.168.70.87\n",
      "192.168.70.88\n",
      "192.168.70.89\n",
      "192.168.70.90\n",
      "192.168.70.91\n",
      "192.168.70.92\n",
      "192.168.70.93\n",
      "192.168.70.94\n",
      "192.168.70.95\n",
      "192.168.70.96\n",
      "192.168.70.97\n",
      "192.168.70.98\n",
      "192.168.70.99\n",
      "192.168.70.100\n",
      "192.168.70.101\n",
      "192.168.70.102\n",
      "192.168.70.103\n",
      "192.168.70.104\n",
      "192.168.70.105\n",
      "192.168.70.106\n",
      "192.168.70.107\n",
      "192.168.70.108\n",
      "192.168.70.109\n",
      "192.168.70.110\n",
      "192.168.70.111\n",
      "192.168.70.112\n",
      "192.168.70.113\n",
      "192.168.70.114\n",
      "192.168.70.115\n",
      "192.168.70.116\n",
      "192.168.70.117\n",
      "192.168.70.118\n",
      "192.168.70.119\n",
      "192.168.70.120\n",
      "192.168.70.121\n",
      "192.168.70.122\n",
      "192.168.70.123\n",
      "192.168.70.124\n",
      "192.168.70.125\n",
      "192.168.70.126\n",
      "192.168.70.127\n",
      "192.168.70.128\n",
      "192.168.70.129\n",
      "192.168.70.130\n",
      "192.168.70.131\n",
      "192.168.70.132\n",
      "192.168.70.133\n",
      "192.168.70.134\n",
      "192.168.70.135\n",
      "192.168.70.136\n",
      "192.168.70.137\n",
      "192.168.70.138\n",
      "192.168.70.139\n",
      "192.168.70.140\n",
      "192.168.70.141\n",
      "192.168.70.142\n",
      "192.168.70.143\n",
      "192.168.70.144\n",
      "192.168.70.145\n",
      "192.168.70.146\n",
      "192.168.70.147\n",
      "192.168.70.148\n",
      "192.168.70.149\n",
      "192.168.70.150\n",
      "192.168.70.151\n",
      "192.168.70.152\n",
      "192.168.70.153\n",
      "192.168.70.154\n",
      "192.168.70.155\n",
      "192.168.70.156\n",
      "192.168.70.157\n",
      "192.168.70.158\n",
      "192.168.70.159\n",
      "192.168.70.160\n",
      "192.168.70.161\n",
      "192.168.70.162\n",
      "192.168.70.163\n",
      "192.168.70.164\n",
      "192.168.70.165\n",
      "192.168.70.166\n",
      "192.168.70.167\n",
      "192.168.70.168\n",
      "192.168.70.169\n",
      "192.168.70.170\n",
      "192.168.70.171\n",
      "192.168.70.172\n",
      "192.168.70.173\n",
      "192.168.70.174\n",
      "192.168.70.175\n",
      "192.168.70.176\n",
      "192.168.70.177\n",
      "192.168.70.178\n",
      "192.168.70.179\n",
      "192.168.70.180\n",
      "192.168.70.181\n",
      "192.168.70.182\n",
      "192.168.70.183\n",
      "192.168.70.184\n",
      "192.168.70.185\n",
      "192.168.70.186\n",
      "192.168.70.187\n",
      "192.168.70.188\n",
      "192.168.70.189\n",
      "192.168.70.190\n",
      "192.168.70.191\n",
      "192.168.70.192\n",
      "192.168.70.193\n",
      "192.168.70.194\n",
      "192.168.70.195\n",
      "192.168.70.196\n",
      "192.168.70.197\n",
      "192.168.70.198\n",
      "192.168.70.199\n",
      "192.168.70.200\n",
      "192.168.70.201\n",
      "192.168.70.202\n",
      "192.168.70.203\n",
      "192.168.70.204\n",
      "192.168.70.205\n",
      "192.168.70.206\n",
      "192.168.70.207\n",
      "192.168.70.208\n",
      "192.168.70.209\n",
      "192.168.70.210\n",
      "192.168.70.211\n",
      "192.168.70.212\n",
      "192.168.70.213\n",
      "192.168.70.214\n",
      "192.168.70.215\n",
      "192.168.70.216\n",
      "192.168.70.217\n",
      "192.168.70.218\n",
      "192.168.70.219\n",
      "192.168.70.220\n",
      "192.168.70.221\n",
      "192.168.70.222\n",
      "192.168.70.223\n",
      "192.168.70.224\n",
      "192.168.70.225\n",
      "192.168.70.226\n",
      "192.168.70.227\n",
      "192.168.70.228\n",
      "192.168.70.229\n",
      "192.168.70.230\n",
      "192.168.70.231\n",
      "192.168.70.232\n",
      "192.168.70.233\n",
      "192.168.70.234\n",
      "192.168.70.235\n",
      "192.168.70.236\n",
      "192.168.70.237\n",
      "192.168.70.238\n",
      "192.168.70.239\n",
      "192.168.70.240\n",
      "192.168.70.241\n",
      "192.168.70.242\n",
      "192.168.70.243\n",
      "192.168.70.244\n",
      "192.168.70.245\n",
      "192.168.70.246\n",
      "192.168.70.247\n",
      "192.168.70.248\n",
      "192.168.70.249\n",
      "192.168.70.250\n",
      "192.168.70.251\n",
      "192.168.70.252\n",
      "192.168.70.253\n",
      "192.168.70.254\n"
     ],
     "name": "stdout"
    }
   ]
  },
  {
   "cell_type": "code",
   "metadata": {
    "colab": {
     "base_uri": "https://localhost:8080/"
    },
    "id": "gm74KxhAPRwJ",
    "outputId": "fd911dff-5336-478c-fee2-eac6f9a90278"
   },
   "source": [
    "# 3- take an ip address from the user and check and prints a message indicating whether\n",
    "# this address belongs to the network 192.168.70.0/24 or not (0.5 mark)\n",
    "\n",
    "user_ip = input(\"Enter an IP address\")\n",
    "xx = ipaddress.ip_address(user_ip)\n",
    "xx in ipaddress.ip_network('192.168.70.0/24')\n"
   ],
   "execution_count": 14,
   "outputs": [
    {
     "output_type": "stream",
     "text": [
      "Enter an IP address192.168.70.12\n"
     ],
     "name": "stdout"
    },
    {
     "output_type": "execute_result",
     "data": {
      "text/plain": [
       "True"
      ]
     },
     "metadata": {
      "tags": []
     },
     "execution_count": 14
    }
   ]
  },
  {
   "cell_type": "code",
   "metadata": {
    "id": "oqh7frqFPRwL"
   },
   "source": [
    "# 4- define function routing_table() (4 marks)\n",
    "# this function takes its inputs from the user to build its routing table\n",
    "# the routing table should look like the following :\n",
    "#-------------------------------------------------\n",
    "#    Network           |   output port number    |\n",
    "#-------------------------------------------------\n",
    "#  192.160.50.0/24    |    1                     |\n",
    "#  192.160.50.0/24    |    2                     |\n",
    "#  192.160.50.0/24    |    3                     |\n",
    "#  192.160.50.0/24    |    4                     |\n",
    "#  else               |    0                     |\n",
    "#-------------------------------------------------\n",
    "# the function returns  the routing table as a list of networks and relative output ports interfaces\n",
    "# the function should ask the user for the number of required interfaces first \n",
    "# then it asks the user to fill the routing table entries accordingly \n",
    "# if the user entered the character '0' as an egress interface then the function set this as default interface \n",
    "# in all cases the routing table should contain a default output interface in case of any network address\n",
    "# arrive at the router while it is out of the range of its routing entries\n",
    "#hint you can use list of dictionaries \n",
    "# Your Code Starts Here \n",
    "\n",
    "def routing_table():\n",
    "    network_ips = []\n",
    "    output_port = []\n",
    "    req_interface = input('Enter number of required interfaces:')\n",
    "    for i in range(req_interface):\n",
    "        input(network_ips[i])\n",
    "        input(output_port[i])\n"
   ],
   "execution_count": null,
   "outputs": []
  },
  {
   "cell_type": "code",
   "metadata": {
    "id": "OqK7HhG7PRwP"
   },
   "source": [
    "\n",
    "DL = routing_table()\n",
    "print(DL)\n"
   ],
   "execution_count": null,
   "outputs": []
  },
  {
   "cell_type": "markdown",
   "metadata": {
    "id": "BBeNnt_JPRwR"
   },
   "source": [
    "### Test the function routing_table() with the following test case\n",
    "\n",
    "number of interfaces = 4\n",
    "\n",
    "Network1: 192.168.0.0/24  --> 1\n",
    "\n",
    "Network2: 192.168.0.0/16  --> 2\n",
    "\n",
    "Network3: 150.20.70.0/24  --> 0\n",
    "\n",
    "Network4: 170.200.30.192/26  --> 3\n"
   ]
  },
  {
   "cell_type": "code",
   "metadata": {
    "id": "VhU1zNo9PRwT"
   },
   "source": [
    "# 5- define function forward (4 marks)\n",
    "# the function takes as input the routing table as returned from function routing_table() and an ip address as string.\n",
    "# the function should perform the longest prefix match between the ip and the returning table\n",
    "# then the function should decide (return and print) the suitable interface to forward the packet with the input ip to.\n",
    "# Your Code Starts Here\n",
    "\n",
    "def forward(routing_table):\n",
    "    pass\n",
    "\n",
    "#the function output be similar or same to the following:\n",
    "#the interface  192.168.0.1 will be forwarded through port  1 "
   ],
   "execution_count": null,
   "outputs": []
  },
  {
   "cell_type": "markdown",
   "metadata": {
    "id": "Go9oxHw8PRwW",
    "pycharm": {
     "name": "#%% md\n"
    }
   },
   "source": [
    "### Test the function forward() with the following test cases\n",
    "\n",
    "forward(DL,\"192.168.0.1\")\n",
    "\n",
    "forward(DL,'192.168.50.1')\n",
    "\n",
    "forward(DL,'150.20.70.2')\n",
    "\n",
    "forward(DL,'190.169.0.1')\n",
    "\n",
    "forward(DL,'190.169.0.1')\n",
    "\n",
    "forward(DL,'170.200.30.240')"
   ]
  }
 ]
}