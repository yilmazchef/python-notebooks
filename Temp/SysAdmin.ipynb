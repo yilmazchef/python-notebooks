{
 "cells": [
  {
   "cell_type": "code",
   "execution_count": null,
   "metadata": {},
   "outputs": [],
   "source": [
    "import os\n",
    "stage = os.environ[\"STAGE\"].upper()\n",
    "output = f\"We're running in {stage}\"\n",
    "if stage.startswith(\"PROD\"):\n",
    "    output = \"DANGER!!! - \" + output\n",
    "print(output)"
   ]
  },
  {
   "cell_type": "code",
   "execution_count": null,
   "metadata": {},
   "outputs": [],
   "source": [
    "# If the 'STAGE' environment variable isn’t set, then we want to default to 'DEV', and we\n",
    "# can do that by using the os.getenv function:\n",
    "import os\n",
    "stage = os.getenv(\"STAGE\", \"dev\").upper()\n",
    "output = f\"We're running in {stage}\"\n",
    "if stage.startswith(\"PROD\"):\n",
    "    output = \"DANGER!!! - \" + output\n",
    "print(output)"
   ]
  },
  {
   "cell_type": "code",
   "execution_count": null,
   "metadata": {},
   "outputs": [],
   "source": [
    "import argparse\n",
    "parser = argparse.ArgumentParser()\n",
    "parser.add_argument('filename', help='the file to read')\n",
    "args = parser.parse_args()\n",
    "print(args)"
   ]
  },
  {
   "cell_type": "code",
   "execution_count": null,
   "metadata": {},
   "outputs": [],
   "source": [
    "#  Search for files and list results with file permissions\n",
    "import stat, sys, os, string, subprocess\n",
    "\n",
    "#Getting search pattern from user and assigning it to a list\n",
    "\n",
    "    #run a 'find' command and assign results to a variable\n",
    "pattern = input(\"Enter the file pattern to search for:\\n\")\n",
    "commandString = \"find \" + pattern\n",
    "commandOutput = subprocess.getoutput(commandString)\n",
    "findResults = string.split(commandOutput, \"\\n\")\n",
    "\n",
    "    #output find results, along with permissions\n",
    "print (\"Files:\")\n",
    "print (commandOutput)\n",
    "print (\"-----------------\")"
   ]
  },
  {
   "cell_type": "code",
   "execution_count": null,
   "metadata": {},
   "outputs": [],
   "source": [
    "import subprocess\n",
    "help(subprocess)"
   ]
  },
  {
   "cell_type": "code",
   "execution_count": 39,
   "metadata": {},
   "outputs": [
    {
     "name": "stdout",
     "output_type": "stream",
     "text": [
      "Status of Scipy_Intro.ipynb:\n"
     ]
    },
    {
     "ename": "FileNotFoundError",
     "evalue": "[WinError 2] The system cannot find the file specified: 'Scipy_Intro.ipynb'",
     "output_type": "error",
     "traceback": [
      "\u001b[1;31m---------------------------------------------------------------------------\u001b[0m",
      "\u001b[1;31mFileNotFoundError\u001b[0m                         Traceback (most recent call last)",
      "\u001b[1;32m<ipython-input-39-40f0dc0e1a55>\u001b[0m in \u001b[0;36m<module>\u001b[1;34m\u001b[0m\n\u001b[0;32m     12\u001b[0m \u001b[1;31m# using os.stat() method\u001b[0m\u001b[1;33m\u001b[0m\u001b[1;33m\u001b[0m\u001b[1;33m\u001b[0m\u001b[0m\n\u001b[0;32m     13\u001b[0m \u001b[0mprint\u001b[0m\u001b[1;33m(\u001b[0m\u001b[1;34m\"Status of %s:\"\u001b[0m \u001b[1;33m%\u001b[0m\u001b[0mfilename\u001b[0m\u001b[1;33m)\u001b[0m\u001b[1;33m\u001b[0m\u001b[1;33m\u001b[0m\u001b[0m\n\u001b[1;32m---> 14\u001b[1;33m \u001b[0mstatus\u001b[0m \u001b[1;33m=\u001b[0m \u001b[0mos\u001b[0m\u001b[1;33m.\u001b[0m\u001b[0mstat\u001b[0m\u001b[1;33m(\u001b[0m\u001b[0mfilename\u001b[0m\u001b[1;33m)\u001b[0m\u001b[1;33m\u001b[0m\u001b[1;33m\u001b[0m\u001b[0m\n\u001b[0m\u001b[0;32m     15\u001b[0m \u001b[1;33m\u001b[0m\u001b[0m\n\u001b[0;32m     16\u001b[0m \u001b[1;31m# os.stat() method will return a\u001b[0m\u001b[1;33m\u001b[0m\u001b[1;33m\u001b[0m\u001b[1;33m\u001b[0m\u001b[0m\n",
      "\u001b[1;31mFileNotFoundError\u001b[0m: [WinError 2] The system cannot find the file specified: 'Scipy_Intro.ipynb'"
     ]
    }
   ],
   "source": [
    "# Python program to get file permission mask \n",
    "# of a given file \n",
    "  \n",
    "# Import os module \n",
    "import os \n",
    "  \n",
    "# File \n",
    "filename = \"Scipy_Intro.ipynb\"\n",
    "  \n",
    "  \n",
    "# Now get the status of the file \n",
    "# using os.stat() method \n",
    "print(\"Status of %s:\" %filename) \n",
    "status = os.stat(filename) \n",
    "  \n",
    "# os.stat() method will return a \n",
    "# stat_result’ object of ‘os.stat_result’ class \n",
    "# which will represent  \n",
    "# the status of file. \n",
    "print(status) \n",
    "  \n",
    "# st_mode attribute of \n",
    "# returned 'stat_result' object \n",
    "# will represent the file type and \n",
    "# file mode bits (permissions). \n",
    "print(\"\\nFile type and file permission mask:\", status.st_mode) \n",
    "  \n",
    "  \n",
    "# st_mode attribute is an integer value \n",
    "# but we are interested in octal value \n",
    "# for file's permission mask \n",
    "  \n",
    "# So we will change the integer value \n",
    "# to octal value \n",
    "print(\"File type and file permission mask(in octal):\", \n",
    "                                  oct(status.st_mode)) \n",
    "  \n",
    "# last 3 octal digit  \n",
    "# represents the file permission mask \n",
    "# and upper parts tells the file type  \n",
    "# so to get the file's permission  \n",
    "# we will extract last 3 octal digit \n",
    "# of status.st_mode \n",
    "print(\"\\nFile permission mask (in octal):\", oct(status.st_mode)[-3:]) \n",
    "  \n",
    "# Alternate way \n",
    "print(\"File permission mask (in octal):\", oct(status.st_mode & 0o777)) \n"
   ]
  },
  {
   "cell_type": "code",
   "execution_count": null,
   "metadata": {},
   "outputs": [],
   "source": [
    "import glob, os\n",
    "os.chdir(\"advance2\")\n",
    "for file in glob.glob(\"*.txt\"):\n",
    "    print(file)"
   ]
  },
  {
   "cell_type": "code",
   "execution_count": null,
   "metadata": {},
   "outputs": [],
   "source": [
    "# Linux\n",
    "import os\n",
    "path = os.getcwd() \n",
    "print(os.listdir(path))\n",
    "# for file in os.listdir(\"advance2\"):\n",
    "#     if file.endswith(\".txt\"):\n",
    "#         print(os.path.join(\"/mydir\", file))"
   ]
  },
  {
   "cell_type": "code",
   "execution_count": 38,
   "metadata": {},
   "outputs": [
    {
     "ename": "AttributeError",
     "evalue": "module 'os' has no attribute 'getuid'",
     "output_type": "error",
     "traceback": [
      "\u001b[1;31m---------------------------------------------------------------------------\u001b[0m",
      "\u001b[1;31mAttributeError\u001b[0m                            Traceback (most recent call last)",
      "\u001b[1;32m<ipython-input-38-025c0d7afdf0>\u001b[0m in \u001b[0;36m<module>\u001b[1;34m\u001b[0m\n\u001b[0;32m      1\u001b[0m \u001b[1;32mimport\u001b[0m \u001b[0mos\u001b[0m\u001b[1;33m\u001b[0m\u001b[1;33m\u001b[0m\u001b[0m\n\u001b[0;32m      2\u001b[0m \u001b[1;33m\u001b[0m\u001b[0m\n\u001b[1;32m----> 3\u001b[1;33m \u001b[0muid\u001b[0m \u001b[1;33m=\u001b[0m \u001b[0mos\u001b[0m\u001b[1;33m.\u001b[0m\u001b[0mgetuid\u001b[0m\u001b[1;33m(\u001b[0m\u001b[1;33m)\u001b[0m\u001b[1;33m\u001b[0m\u001b[1;33m\u001b[0m\u001b[0m\n\u001b[0m\u001b[0;32m      4\u001b[0m \u001b[1;33m\u001b[0m\u001b[0m\n\u001b[0;32m      5\u001b[0m \u001b[0mprint\u001b[0m\u001b[1;33m(\u001b[0m \u001b[1;34m'Your uid is'\u001b[0m \u001b[1;33m+\u001b[0m  \u001b[0mstr\u001b[0m\u001b[1;33m(\u001b[0m\u001b[0muid\u001b[0m\u001b[1;33m)\u001b[0m\u001b[1;33m)\u001b[0m\u001b[1;33m\u001b[0m\u001b[1;33m\u001b[0m\u001b[0m\n",
      "\u001b[1;31mAttributeError\u001b[0m: module 'os' has no attribute 'getuid'"
     ]
    }
   ],
   "source": [
    "import os\n",
    "\n",
    "uid = os.getuid()\n",
    "\n",
    "print( 'Your uid is' +  str(uid)) \n",
    "username = os.system(\"whoami\")\n",
    "print( 'Your username is' + str(username) ) \n",
    "\n",
    "\n",
    "if username==0:\n",
    "\tprint (\"r00tness!\")\n",
    "else:\n",
    "\tprint(\"Noo! I be a mortal!\")"
   ]
  },
  {
   "cell_type": "code",
   "execution_count": null,
   "metadata": {},
   "outputs": [],
   "source": [
    "import getpass\n",
    "import sys\n",
    "import telnetlib\n",
    "\n",
    "# HOST = \"localhost\"\n",
    "HOST= \"telehack.com\" \n",
    "\n",
    "# user = raw_input(\"Enter your remote account: \")\n",
    "# password = getpass.getpass()\n",
    "\n",
    "tn = telnetlib.Telnet(HOST)\n",
    "\n",
    "# tn.read_until(\"login: \")\n",
    "# tn.write(user + \"\\n\")\n",
    "# if password:\n",
    "#     tn.read_until(\"Password: \")\n",
    "#     tn.write(password + \"\\n\")\n",
    "\n",
    "# tn.write(\"ls\\n\")\n",
    "# tn.write(\"exit\\n\")\n",
    "\n",
    "# print (tn.read_all())"
   ]
  },
  {
   "cell_type": "code",
   "execution_count": null,
   "metadata": {},
   "outputs": [],
   "source": []
  },
  {
   "cell_type": "code",
   "execution_count": null,
   "metadata": {},
   "outputs": [],
   "source": []
  }
 ],
 "metadata": {
  "kernelspec": {
   "display_name": "Python 3",
   "language": "python",
   "name": "python3"
  },
  "language_info": {
   "codemirror_mode": {
    "name": "ipython",
    "version": 3
   },
   "file_extension": ".py",
   "mimetype": "text/x-python",
   "name": "python",
   "nbconvert_exporter": "python",
   "pygments_lexer": "ipython3",
   "version": "3.7.3"
  }
 },
 "nbformat": 4,
 "nbformat_minor": 2
}
