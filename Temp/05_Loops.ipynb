{
 "cells": [
  {
   "cell_type": "markdown",
   "metadata": {},
   "source": [
    "# LOOPS"
   ]
  },
  {
   "cell_type": "markdown",
   "metadata": {},
   "source": [
    "![Interpeter](05_Forloop.png)\n"
   ]
  },
  {
   "cell_type": "code",
   "execution_count": 39,
   "metadata": {},
   "outputs": [
    {
     "name": "stdout",
     "output_type": "stream",
     "text": [
      "Hello world\n",
      "Hello world\n",
      "Hello world\n",
      "Hello world\n",
      "Hello world\n",
      "Hello world\n"
     ]
    }
   ],
   "source": [
    "i =0\n",
    "while (i <= 5):    #condition\n",
    "\tprint (\"Hello world\")\n",
    "\ti = i+1"
   ]
  },
  {
   "cell_type": "code",
   "execution_count": 40,
   "metadata": {},
   "outputs": [
    {
     "name": "stdout",
     "output_type": "stream",
     "text": [
      "Hello world\n",
      "Hello world\n",
      "Hello world\n",
      "Hello world\n"
     ]
    }
   ],
   "source": [
    "i =0\n",
    "while (i <4):    #condition\n",
    "\tprint (\"Hello world\")\n",
    "\ti = i+1"
   ]
  },
  {
   "cell_type": "code",
   "execution_count": 41,
   "metadata": {},
   "outputs": [
    {
     "name": "stdout",
     "output_type": "stream",
     "text": [
      "Hello Geek\n",
      "Hello Geek\n",
      "Hello Geek\n",
      "Hello Geek\n",
      "Hello Geek\n",
      "Hello Geek\n",
      "i am out\n"
     ]
    }
   ],
   "source": [
    "i=6\n",
    "while (i >=1):\n",
    "    print (\"Hello Geek\")\n",
    "    i=i-1\n",
    "print(\"i am out\")"
   ]
  },
  {
   "cell_type": "code",
   "execution_count": 42,
   "metadata": {},
   "outputs": [
    {
     "data": {
      "text/plain": [
       "True"
      ]
     },
     "execution_count": 42,
     "metadata": {},
     "output_type": "execute_result"
    }
   ],
   "source": [
    "3 in [0,1,2,3,4]"
   ]
  },
  {
   "cell_type": "code",
   "execution_count": 43,
   "metadata": {},
   "outputs": [
    {
     "data": {
      "text/plain": [
       "False"
      ]
     },
     "execution_count": 43,
     "metadata": {},
     "output_type": "execute_result"
    }
   ],
   "source": [
    "5 in [0,1,2,3,4]"
   ]
  },
  {
   "cell_type": "code",
   "execution_count": 44,
   "metadata": {},
   "outputs": [
    {
     "name": "stdout",
     "output_type": "stream",
     "text": [
      "j\n",
      "a\n",
      "v\n",
      "a\n"
     ]
    }
   ],
   "source": [
    "for x in \"java\":\n",
    "\tprint (x)"
   ]
  },
  {
   "cell_type": "code",
   "execution_count": 45,
   "metadata": {},
   "outputs": [
    {
     "name": "stdout",
     "output_type": "stream",
     "text": [
      "p\n",
      "y\n",
      "t\n",
      "h\n",
      "o\n",
      "n\n"
     ]
    }
   ],
   "source": [
    "s=\"python\"\n",
    "for x in s:\n",
    "    print (x)"
   ]
  },
  {
   "cell_type": "code",
   "execution_count": 46,
   "metadata": {},
   "outputs": [
    {
     "ename": "TypeError",
     "evalue": "'int' object is not iterable",
     "output_type": "error",
     "traceback": [
      "\u001b[1;31m---------------------------------------------------------------------------\u001b[0m",
      "\u001b[1;31mTypeError\u001b[0m                                 Traceback (most recent call last)",
      "\u001b[1;32m<ipython-input-46-8a1f11565974>\u001b[0m in \u001b[0;36m<module>\u001b[1;34m\u001b[0m\n\u001b[1;32m----> 1\u001b[1;33m \u001b[1;32mfor\u001b[0m \u001b[0mx\u001b[0m \u001b[1;32min\u001b[0m \u001b[1;36m10\u001b[0m\u001b[1;33m:\u001b[0m\u001b[1;33m\u001b[0m\u001b[1;33m\u001b[0m\u001b[0m\n\u001b[0m\u001b[0;32m      2\u001b[0m     \u001b[0mprint\u001b[0m\u001b[1;33m(\u001b[0m\u001b[0mx\u001b[0m\u001b[1;33m)\u001b[0m\u001b[1;33m\u001b[0m\u001b[1;33m\u001b[0m\u001b[0m\n",
      "\u001b[1;31mTypeError\u001b[0m: 'int' object is not iterable"
     ]
    }
   ],
   "source": [
    "for x in 10:\n",
    "    print(x)"
   ]
  },
  {
   "cell_type": "code",
   "execution_count": 47,
   "metadata": {},
   "outputs": [
    {
     "name": "stdout",
     "output_type": "stream",
     "text": [
      "1\n",
      "0\n"
     ]
    }
   ],
   "source": [
    "for x in '10':\n",
    "    print(x)"
   ]
  },
  {
   "cell_type": "code",
   "execution_count": 48,
   "metadata": {},
   "outputs": [
    {
     "name": "stdout",
     "output_type": "stream",
     "text": [
      "j python\n",
      "a python\n",
      "v python\n",
      "a python\n"
     ]
    }
   ],
   "source": [
    "for i in \"java\":\n",
    "\tprint (i +\" python\")"
   ]
  },
  {
   "cell_type": "code",
   "execution_count": 49,
   "metadata": {},
   "outputs": [
    {
     "name": "stdout",
     "output_type": "stream",
     "text": [
      "Linux\n",
      "window\n",
      "defenestrate\n"
     ]
    }
   ],
   "source": [
    "words = ['Linux', 'window', 'defenestrate']\n",
    "for y in words:\n",
    "    print (y)"
   ]
  },
  {
   "cell_type": "code",
   "execution_count": 50,
   "metadata": {},
   "outputs": [
    {
     "name": "stdout",
     "output_type": "stream",
     "text": [
      "Linux Python\n",
      "window Python\n",
      "defenestrate Python\n"
     ]
    }
   ],
   "source": [
    "words = ['Linux', 'window', 'defenestrate']\n",
    "for y in words:\n",
    "    print (y+\" Python\")"
   ]
  },
  {
   "cell_type": "code",
   "execution_count": 51,
   "metadata": {},
   "outputs": [
    {
     "name": "stdout",
     "output_type": "stream",
     "text": [
      "Linux 5\n",
      "window 6\n",
      "defenestrate 12\n"
     ]
    }
   ],
   "source": [
    "for x in ['Linux', 'window', 'defenestrate']:\n",
    "     print( x,len(x))"
   ]
  },
  {
   "cell_type": "code",
   "execution_count": null,
   "metadata": {},
   "outputs": [],
   "source": [
    "#Python 2.7 \n",
    "print(range(10))\n",
    "# [0,1,2,3,4,5,6,7,8,9]\n",
    "\n",
    "# for i in xrange(10):\n",
    "#     print i\n",
    "\n",
    "# Python 3\n",
    "# No xrange\n",
    "# and Xrange of python 2.7 is conerted to range\n",
    "# print (range(20))\n",
    "\n",
    "# print range(2,20,3)-->2,5,8,11,14,17\n",
    "# print range(-10, -100, -30) ----> [-10,-40,-70]\n"
   ]
  },
  {
   "cell_type": "code",
   "execution_count": 52,
   "metadata": {},
   "outputs": [
    {
     "name": "stdout",
     "output_type": "stream",
     "text": [
      "0\n",
      "1\n",
      "2\n",
      "3\n",
      "4\n",
      "5\n",
      "6\n",
      "7\n",
      "8\n",
      "9\n"
     ]
    }
   ],
   "source": [
    "for i in range(10):\n",
    "    print (i)"
   ]
  },
  {
   "cell_type": "code",
   "execution_count": 53,
   "metadata": {},
   "outputs": [
    {
     "name": "stdout",
     "output_type": "stream",
     "text": [
      "2\n",
      "3\n",
      "4\n",
      "5\n",
      "6\n",
      "7\n",
      "8\n",
      "9\n"
     ]
    }
   ],
   "source": [
    "for i in range(2,10):\n",
    "    print (i)"
   ]
  },
  {
   "cell_type": "code",
   "execution_count": 54,
   "metadata": {},
   "outputs": [
    {
     "name": "stdout",
     "output_type": "stream",
     "text": [
      "python\n",
      "python\n",
      "python\n",
      "python\n",
      "python\n"
     ]
    }
   ],
   "source": [
    "for i in range(5):\n",
    "    print (\"python\")"
   ]
  },
  {
   "cell_type": "code",
   "execution_count": 55,
   "metadata": {},
   "outputs": [
    {
     "name": "stdout",
     "output_type": "stream",
     "text": [
      "2\n",
      "3\n",
      "4\n",
      "5\n",
      "6\n",
      "7\n",
      "8\n",
      "9\n",
      "Here\n"
     ]
    }
   ],
   "source": [
    "for i in range(2,10):#[2,3,4,5,6,7,8,9]\n",
    "    print (i)\n",
    "print(\"Here\")"
   ]
  },
  {
   "cell_type": "code",
   "execution_count": 56,
   "metadata": {},
   "outputs": [
    {
     "name": "stdout",
     "output_type": "stream",
     "text": [
      "0 Mary\n",
      "1 had\n",
      "2 xyz\n",
      "3 little\n",
      "4 lamb\n"
     ]
    }
   ],
   "source": [
    "a = ['Mary', 'had', 'xyz', 'little', 'lamb']\n",
    "for i in [0,1,2,3,4]:\n",
    "    print (i, a[i])"
   ]
  },
  {
   "cell_type": "code",
   "execution_count": 57,
   "metadata": {},
   "outputs": [
    {
     "name": "stdout",
     "output_type": "stream",
     "text": [
      "0 Mary\n",
      "1 had\n",
      "2 xyz\n",
      "3 little\n",
      "4 lamb\n"
     ]
    }
   ],
   "source": [
    "a = ['Mary', 'had', 'xyz', 'little', 'lamb']\n",
    "for i in range(5):# for i in [0,1,2,3,4,]\n",
    "\tprint (i, a[i])"
   ]
  },
  {
   "cell_type": "code",
   "execution_count": 58,
   "metadata": {},
   "outputs": [
    {
     "name": "stdout",
     "output_type": "stream",
     "text": [
      "0 Marry 5\n",
      "1 had 3\n",
      "2 xyz 3\n",
      "3 little 6\n",
      "4 lamb 4\n"
     ]
    }
   ],
   "source": [
    "a = ['Marry', 'had', 'xyz', 'little', 'lamb']\n",
    "for i in range(len(a)):\n",
    "    \tprint (i, a[i],len(a[i]))"
   ]
  },
  {
   "cell_type": "code",
   "execution_count": 59,
   "metadata": {},
   "outputs": [
    {
     "name": "stdout",
     "output_type": "stream",
     "text": [
      "value of n 0\n",
      "value of x 2\n",
      "***************\n",
      "value of n 0\n",
      "value of x 3\n",
      "***************\n",
      "value of n 0\n",
      "value of x 4\n",
      "***************\n"
     ]
    }
   ],
   "source": [
    "n=0\n",
    "for x in range(2, 5):#[2,3,4]\n",
    "        print( \"value of n\" , n)\n",
    "        print( \"value of x\" , x)\n",
    "        print(\"*\"*15)"
   ]
  },
  {
   "cell_type": "code",
   "execution_count": 60,
   "metadata": {},
   "outputs": [
    {
     "name": "stdout",
     "output_type": "stream",
     "text": [
      "value of n 1\n",
      "value of x 2\n",
      "***************\n",
      "value of n 1\n",
      "value of x 3\n",
      "***************\n",
      "value of n 1\n",
      "value of x 4\n",
      "***************\n"
     ]
    }
   ],
   "source": [
    "n=1\n",
    "for x in range(2, 5):#[2,3,4]\n",
    "        print( \"value of n\" , n)\n",
    "        print( \"value of x\" , x)\n",
    "        print(\"*\"*15)"
   ]
  },
  {
   "cell_type": "code",
   "execution_count": 61,
   "metadata": {},
   "outputs": [
    {
     "name": "stdout",
     "output_type": "stream",
     "text": [
      "value of n 2\n",
      "value of x 2\n",
      "***************\n",
      "value of n 2\n",
      "value of x 3\n",
      "***************\n",
      "value of n 2\n",
      "value of x 4\n",
      "***************\n"
     ]
    }
   ],
   "source": [
    "n=2\n",
    "for x in range(2, 5):#[2,3]\n",
    "        print( \"value of n\" , n)\n",
    "        print( \"value of x\" , x)\n",
    "        print(\"*\"*15)"
   ]
  },
  {
   "cell_type": "code",
   "execution_count": 62,
   "metadata": {},
   "outputs": [
    {
     "name": "stdout",
     "output_type": "stream",
     "text": [
      "value of n 2\n",
      "value of x 2\n",
      "***************\n",
      "value of n 2\n",
      "value of x 3\n",
      "***************\n",
      "value of n 2\n",
      "value of x 4\n",
      "***************\n",
      "value of n 3\n",
      "value of x 2\n",
      "***************\n",
      "value of n 3\n",
      "value of x 3\n",
      "***************\n",
      "value of n 3\n",
      "value of x 4\n",
      "***************\n",
      "value of n 4\n",
      "value of x 2\n",
      "***************\n",
      "value of n 4\n",
      "value of x 3\n",
      "***************\n",
      "value of n 4\n",
      "value of x 4\n",
      "***************\n"
     ]
    }
   ],
   "source": [
    "for n in range(2, 5):#n=3\n",
    "    for x in range(2, 5):\n",
    "        print( \"value of n\" , n)\n",
    "        print( \"value of x\" , x)\n",
    "        print(\"*\"*15)"
   ]
  },
  {
   "cell_type": "code",
   "execution_count": 63,
   "metadata": {},
   "outputs": [
    {
     "name": "stdout",
     "output_type": "stream",
     "text": [
      "M\n",
      "a\n",
      "r\n",
      "y\n",
      "h\n",
      "a\n",
      "d\n",
      "x\n",
      "y\n",
      "z\n",
      "l\n",
      "i\n",
      "t\n",
      "t\n",
      "l\n",
      "e\n",
      "l\n",
      "a\n",
      "m\n",
      "b\n"
     ]
    }
   ],
   "source": [
    "words=['Mary', 'had', 'xyz', 'little', 'lamb']\n",
    "for y in words:\n",
    "    for z in y:\n",
    "        print (z)\n",
    "        "
   ]
  },
  {
   "cell_type": "code",
   "execution_count": 64,
   "metadata": {},
   "outputs": [
    {
     "name": "stdout",
     "output_type": "stream",
     "text": [
      "Mary\n",
      "had\n",
      "xyz\n",
      "little\n",
      "lamb\n"
     ]
    }
   ],
   "source": [
    "words=['Mary', 'had', 'xyz', 'little', 'lamb']\n",
    "for z in words:\n",
    "        print (z)"
   ]
  },
  {
   "cell_type": "markdown",
   "metadata": {},
   "source": [
    "### break statement\n",
    "When a break statement executes inside a loop, control flow \"breaks\" out of the loop immediately:\n",
    "The loop conditional will not be evaluated after the break statement is executed. Note that break statements are\n",
    "only allowed inside loops, syntactically. A break statement inside a function cannot be used to terminate loops that\n",
    "called that function."
   ]
  },
  {
   "cell_type": "code",
   "execution_count": 65,
   "metadata": {},
   "outputs": [
    {
     "name": "stdout",
     "output_type": "stream",
     "text": [
      "0\n",
      "1\n",
      "2\n",
      "3\n",
      "outside loop\n"
     ]
    }
   ],
   "source": [
    "for i in (0, 1, 2, 3, 4,5):\n",
    "    print(i)\n",
    "    if i == 3:\n",
    "        break\n",
    "print (\"outside loop\")"
   ]
  },
  {
   "cell_type": "code",
   "execution_count": 66,
   "metadata": {},
   "outputs": [
    {
     "name": "stdout",
     "output_type": "stream",
     "text": [
      "0\n",
      "outside loop\n"
     ]
    }
   ],
   "source": [
    "for i in (0, 1, 2, 3, 4):\n",
    "    print(i)\n",
    "    break\n",
    "print (\"outside loop\")"
   ]
  },
  {
   "cell_type": "code",
   "execution_count": 67,
   "metadata": {},
   "outputs": [
    {
     "name": "stdout",
     "output_type": "stream",
     "text": [
      "0\n",
      "1\n",
      "outside loop\n"
     ]
    }
   ],
   "source": [
    "for i in (0, 1, 2, 3, 4):\n",
    "    if i == 2:\n",
    "        break\n",
    "    print(i)\n",
    "print (\"outside loop\")"
   ]
  },
  {
   "cell_type": "code",
   "execution_count": 68,
   "metadata": {},
   "outputs": [
    {
     "name": "stdout",
     "output_type": "stream",
     "text": [
      "Current Letter : g\n",
      "Current Letter : e\n",
      "Current Letter : e\n",
      "outside loop\n",
      "Current Letter : k\n"
     ]
    }
   ],
   "source": [
    "for letter in 'geeksforgeeks':\n",
    "    if letter == 'k':\n",
    "    \tbreak\n",
    "    print ('Current Letter :', letter)\n",
    "print (\"outside loop\")\n",
    "print ('Current Letter :', letter)"
   ]
  },
  {
   "cell_type": "code",
   "execution_count": 69,
   "metadata": {},
   "outputs": [
    {
     "name": "stdout",
     "output_type": "stream",
     "text": [
      "outside loop\n"
     ]
    }
   ],
   "source": [
    "for letter in 'geeksforgeeks':\n",
    "    if letter ==  'g':\n",
    "    \tbreak \n",
    "    print ('Current Letter :', letter)\n",
    "print (\"outside loop\")"
   ]
  },
  {
   "cell_type": "markdown",
   "metadata": {},
   "source": [
    "### continue statement\n",
    "A continue statement will skip to the next iteration of the loop bypassing the rest of the current block but\n",
    "continuing the loop. As with break, continue can only appear inside loops:"
   ]
  },
  {
   "cell_type": "code",
   "execution_count": 70,
   "metadata": {},
   "outputs": [
    {
     "name": "stdout",
     "output_type": "stream",
     "text": [
      "0\n",
      "Python\n",
      "Learning\n",
      "1\n",
      "Python\n",
      "Learning\n",
      "3\n",
      "Python\n",
      "Learning\n",
      "5\n",
      "Python\n",
      "Learning\n",
      "outside loop\n"
     ]
    }
   ],
   "source": [
    "for i in (0, 1, 2, 3, 4, 5):\n",
    "    if i == 2 or i == 4:\n",
    "        continue\n",
    "    print(i)\n",
    "    print(\"Python\")\n",
    "    print(\"Learning\")\n",
    "print (\"outside loop\")"
   ]
  },
  {
   "cell_type": "code",
   "execution_count": 71,
   "metadata": {},
   "outputs": [
    {
     "name": "stdout",
     "output_type": "stream",
     "text": [
      "Before continue : g\n",
      "Current Letter : g\n",
      "Before continue : e\n",
      "Current Letter : e\n",
      "Before continue : e\n",
      "Current Letter : e\n",
      "Before continue : k\n",
      "Before continue : s\n",
      "Before continue : f\n",
      "Current Letter : f\n",
      "outside loop\n"
     ]
    }
   ],
   "source": [
    "for letter in 'geeksf':\n",
    "    print ('Before continue :', letter)\n",
    "    if letter == 'k' or letter == 's':\n",
    "    \tcontinue\n",
    "    print ('Current Letter :', letter)\n",
    "\n",
    "print (\"outside loop\")"
   ]
  },
  {
   "cell_type": "code",
   "execution_count": 75,
   "metadata": {},
   "outputs": [
    {
     "name": "stdout",
     "output_type": "stream",
     "text": [
      "hello\n",
      "hello\n",
      "hello\n",
      "hello\n",
      "hello\n",
      "hello\n",
      "hello\n",
      "hello\n",
      "hello\n",
      "hello\n",
      "hello\n",
      "hello\n",
      "hello\n",
      "s\n"
     ]
    }
   ],
   "source": [
    "for letter in 'geeksforgeeks':\n",
    "#     print(\"hello\")\n",
    "    pass\n",
    "print (letter)"
   ]
  },
  {
   "cell_type": "markdown",
   "metadata": {},
   "source": [
    "#### The Pass Statement\n",
    "pass is a null statement for when a statement is required by Python syntax (such as within the body of a for or\n",
    "while loop), but no action is required or desired by the programmer. This can be useful as a placeholder for code\n",
    "that is yet to be written.\n"
   ]
  },
  {
   "cell_type": "code",
   "execution_count": null,
   "metadata": {},
   "outputs": [],
   "source": [
    "print (x)"
   ]
  },
  {
   "cell_type": "markdown",
   "metadata": {},
   "source": [
    "The for and while compound statements (loops) can optionally have an else clause (in practice, this usage is fairly\n",
    "rare).\n",
    "The else clause only executes after a for loop terminates by iterating to completion, or after a while loop\n",
    "terminates by its conditional expression becoming false."
   ]
  },
  {
   "cell_type": "code",
   "execution_count": 76,
   "metadata": {},
   "outputs": [
    {
     "name": "stdout",
     "output_type": "stream",
     "text": [
      "enter password\n",
      "enter password\n",
      "enter password\n",
      "contact to admin\n"
     ]
    }
   ],
   "source": [
    "for i in range(3):\n",
    "    print(\"enter password\")\n",
    "else:\n",
    "    print('contact to admin')"
   ]
  },
  {
   "cell_type": "raw",
   "metadata": {},
   "source": [
    "The else clause does not execute if the loop terminates some other way (through a break statement or by raising\n",
    "an exception):"
   ]
  },
  {
   "cell_type": "code",
   "execution_count": 77,
   "metadata": {},
   "outputs": [
    {
     "name": "stdout",
     "output_type": "stream",
     "text": [
      "0\n",
      "inside for\n",
      "1\n",
      "i am after else\n"
     ]
    }
   ],
   "source": [
    "for i in range(2):\n",
    "    print(i)\n",
    "    if i == 1:\n",
    "        break\n",
    "    else:\n",
    "        print(\"inside for\")\n",
    "else:\n",
    "    print('done')\n",
    "print(\"i am after else\")"
   ]
  },
  {
   "cell_type": "code",
   "execution_count": 78,
   "metadata": {},
   "outputs": [
    {
     "name": "stdout",
     "output_type": "stream",
     "text": [
      "0\n",
      "1\n",
      "done\n",
      "i am after else\n",
      "outside\n"
     ]
    }
   ],
   "source": [
    "for i in range(2):\n",
    "    print(i)\n",
    "    if i == -1:\n",
    "        break\n",
    "else:\n",
    "    print('done')\n",
    "    print(\"i am after else\")\n",
    "print('outside')"
   ]
  },
  {
   "cell_type": "code",
   "execution_count": 79,
   "metadata": {},
   "outputs": [
    {
     "name": "stdout",
     "output_type": "stream",
     "text": [
      "0\n",
      "1\n",
      "done\n",
      "i am after for\n",
      "outside\n"
     ]
    }
   ],
   "source": [
    "for i in range(2):\n",
    "    print(i)\n",
    "else:\n",
    "    print('done')\n",
    "    print(\"i am after for\")\n",
    "print('outside')"
   ]
  },
  {
   "cell_type": "code",
   "execution_count": null,
   "metadata": {},
   "outputs": [],
   "source": [
    "for x in range(10,0,-1):\n",
    "  print (x, 'little monkeys jumping on the bed, 1 fell off and bumped his head, momma called the doctor and the doctor said, no more monkeys jumping on the bed')"
   ]
  },
  {
   "cell_type": "code",
   "execution_count": null,
   "metadata": {},
   "outputs": [],
   "source": [
    "from random import randint\n",
    "x = randint(1,6)\n",
    "print(\"dice roll:\")\n",
    "print(x)"
   ]
  },
  {
   "cell_type": "code",
   "execution_count": null,
   "metadata": {},
   "outputs": [],
   "source": [
    "from random import randint\n",
    "roll=randint(1, 6)\n",
    "print(roll)\n",
    "if roll < 3 :\n",
    "    print(\"You won\")\n",
    "    print(roll)\n",
    "else:\n",
    "    print(\"You lose\")"
   ]
  },
  {
   "cell_type": "code",
   "execution_count": null,
   "metadata": {},
   "outputs": [],
   "source": [
    "from turtle import *\n",
    "from freegames import line\n",
    "\n",
    "def grid():\n",
    "    \"Draw tic-tac-toe grid.\"\n",
    "    line(-67, 200, -67, -200)\n",
    "    line(67, 200, 67, -200)\n",
    "    line(-200, -67, 200, -67)\n",
    "    line(-200, 67, 200, 67)\n",
    "\n",
    "def drawx(x, y):\n",
    "    \"Draw X player.\"\n",
    "    line(x, y, x + 133, y + 133)\n",
    "    line(x, y + 133, x + 133, y)\n",
    "\n",
    "def drawo(x, y):\n",
    "    \"Draw O player.\"\n",
    "    up()\n",
    "    goto(x + 67, y + 5)\n",
    "    down()\n",
    "    circle(62)\n",
    "\n",
    "def floor(value):\n",
    "    \"Round value down to grid with square size 133.\"\n",
    "    return ((value + 200) // 133) * 133 - 200\n",
    "\n",
    "state = {'player': 0}\n",
    "players = [drawx, drawo]\n",
    "\n",
    "def tap(x, y):\n",
    "    \"Draw X or O in tapped square.\"\n",
    "    x = floor(x)\n",
    "    y = floor(y)\n",
    "    player = state['player']\n",
    "    draw = players[player]\n",
    "    draw(x, y)\n",
    "    update()\n",
    "    state['player'] = not player\n",
    "\n",
    "setup(420, 420, 370, 0)\n",
    "hideturtle()\n",
    "tracer(False)\n",
    "grid()\n",
    "update()\n",
    "onscreenclick(tap)\n",
    "done()"
   ]
  },
  {
   "cell_type": "markdown",
   "metadata": {},
   "source": [
    "If you want to loop though both the elements of a list and have an index for the elements as well, you can use\n",
    "Python's enumerate function:"
   ]
  },
  {
   "cell_type": "markdown",
   "metadata": {},
   "source": [
    "## Assignment"
   ]
  },
  {
   "cell_type": "markdown",
   "metadata": {},
   "source": [
    "1) Write a program which will find all such numbers which are divisible by 7 but are not a multiple of 5, between 2000 and 3200 (both included).\n",
    "\n",
    "\n",
    "2) The numbers obtained should be printed in a comma-separated sequence on a single line.\n",
    "Hints: \n",
    "Consider use range(#begin, #end) method\n"
   ]
  },
  {
   "cell_type": "code",
   "execution_count": null,
   "metadata": {},
   "outputs": [],
   "source": [
    "l=[]\n",
    "for i in range(2000, 3201):\n",
    "    if (i%7==0) and (i%5!=0):\n",
    "        l.append(str(i))\n",
    "\n",
    "print ','.join(l)"
   ]
  },
  {
   "cell_type": "code",
   "execution_count": null,
   "metadata": {},
   "outputs": [],
   "source": [
    "for i in range(0, 5):\n",
    "    # inner loop to handle number of columns\n",
    "    # values changing acc. to outer loop\n",
    "    for j in range(0, i+1):\n",
    "        # printing stars\n",
    "        print(\"* \",end=\"\")\n",
    "    # ending line after each row\n",
    "    print(\"\\r\")"
   ]
  },
  {
   "cell_type": "code",
   "execution_count": null,
   "metadata": {},
   "outputs": [],
   "source": [
    "# i = 1\n",
    "# while i != 6:\n",
    "#     print(\"*\"*i)\n",
    "#     i = i + 1\n",
    "    \n",
    "i = 1\n",
    "x = int(input(\"enter how many starts you want \"))\n",
    "for i in range(1,x+1):\n",
    "    print(\" \"*(x-i) + \"*\"*i)"
   ]
  },
  {
   "cell_type": "code",
   "execution_count": null,
   "metadata": {},
   "outputs": [],
   "source": [
    "i = 1\n",
    "x = int(input(\"enter how many starts you want \"))\n",
    "for i in range(1,x+1):\n",
    "    print(\"*\"*i)"
   ]
  },
  {
   "cell_type": "code",
   "execution_count": null,
   "metadata": {},
   "outputs": [],
   "source": [
    "i = 1\n",
    "x = int(input(\"enter how many starts you want \"))*2\n",
    "for i in range(i,int(x/2) + 1):\n",
    "    print(\" \"*x + \"* \"*i)\n",
    "x = x -1"
   ]
  },
  {
   "cell_type": "code",
   "execution_count": null,
   "metadata": {},
   "outputs": [],
   "source": [
    "\n",
    "x = int(input(\"Enter a number \"))\n",
    "i = 1\n",
    "r = 1\n",
    "q = str()\n",
    "for i in range(1,x+1):\n",
    "while r <= i:\n",
    "r = str(r)\n",
    "q = str(q) + r\n",
    "r = int(r) + 1\n",
    "print(q)\n",
    "q = \"\"\n",
    "r = int(1)\n",
    "i = i + 1"
   ]
  },
  {
   "cell_type": "code",
   "execution_count": null,
   "metadata": {},
   "outputs": [],
   "source": [
    "Program to calculate the factorial\n",
    "5\n",
    "fact(5)= 5*4*3*2*1\n",
    "\n",
    "4 "
   ]
  }
 ],
 "metadata": {
  "kernelspec": {
   "display_name": "Python 3",
   "language": "python",
   "name": "python3"
  },
  "language_info": {
   "codemirror_mode": {
    "name": "ipython",
    "version": 3
   },
   "file_extension": ".py",
   "mimetype": "text/x-python",
   "name": "python",
   "nbconvert_exporter": "python",
   "pygments_lexer": "ipython3",
   "version": "3.8.3"
  }
 },
 "nbformat": 4,
 "nbformat_minor": 2
}
