{
 "cells": [
  {
   "cell_type": "markdown",
   "metadata": {},
   "source": [
    "## Indention"
   ]
  },
  {
   "cell_type": "markdown",
   "metadata": {},
   "source": [
    "Colons, :, are used to declare an indented code block,\n",
    "such as the following example:\n"
   ]
  },
  {
   "cell_type": "code",
   "execution_count": null,
   "metadata": {},
   "outputs": [],
   "source": [
    "#Notice everything belonging to a function must be indented\n",
    "if (a>5){\n",
    "    some piece of code\n",
    "}\n",
    "else{\n",
    "    some code...\n",
    "}\n",
    "if (a>5):\n",
    "    some piece of code\n",
    "    if:\n",
    "        print(\"...\")\n",
    "        if:\n",
    "            jkjkjk\n",
    "            \n",
    "else:\n",
    "    else part\n",
    "    \n",
    "\n",
    "\n",
    "if a > 5:\n",
    "    if a<10:\n",
    "             \n",
    "        return True\n",
    "        dfs\n",
    "        sfasdf\n",
    "        asdfs\n",
    "    else:\n",
    "        print awerw\n",
    "        qwrwrw\n",
    "        qwrwrew\n",
    "else:\n",
    "    return False\n",
    "#If a function is not indented to the same level it will not be considers as part of the parent class\n",
    "for i in b:\n",
    "    #Loops are also indented and nested conditions start a new indentation\n",
    "    if i == 1:\n",
    "    return True\n",
    "print(\"hello\")\n"
   ]
  },
  {
   "cell_type": "markdown",
   "metadata": {},
   "source": [
    "#### Spaces or Tabs?\n",
    "\n",
    "The recommended indentation is 4 spaces but tabs or spaces can be used so long as they are consistent. Do not\n",
    "mix tabs and spaces in Python as this will cause an error in Python 3 and can causes errors in Python 2."
   ]
  },
  {
   "cell_type": "code",
   "execution_count": null,
   "metadata": {},
   "outputs": [],
   "source": [
    "a = 20\n",
    "if a > 25:\n",
    "    print(\"hello\")  \n",
    "    print(\" i am in if condition\")\n",
    "    print(\"abcd\")\n",
    "    print (\"foo\")\n",
    "    print(\"in if part\")#buy choc\n",
    "else:\n",
    "    print (\"bar\")\n",
    "    print (\"done\")# buy toy\n",
    "\n",
    "print(\"I am after if else\")#go home"
   ]
  },
  {
   "cell_type": "markdown",
   "metadata": {},
   "source": [
    "Conditional expressions, involving keywords such as if, elif, and else, provide Python programs with the ability to\n",
    "perform different actions depending on a boolean condition: True or False. This section covers the use of Python\n",
    "conditionals, boolean logic, and ternary statements."
   ]
  },
  {
   "cell_type": "markdown",
   "metadata": {},
   "source": [
    "\n",
    "* Python does not use { } to enclose blocks of code for if/loops/function etc.\n",
    "*  Instead, Python uses the colon (:) and indentation/whitespace to group statements. \n",
    "* The boolean test for an if does not need to be in parenthesis (big difference from C++/Java), \n",
    " and it can have \n",
    "* *elif* and *else* clauses (mnemonic: the word \"elif\" is the same length as the word \"else\").\n"
   ]
  },
  {
   "cell_type": "raw",
   "metadata": {
    "raw_mimetype": "text/markdown"
   },
   "source": [
    "##condition\n",
    "<number> x == y ---> (x is equal to y)\n",
    "<number> x != y --->(x is not equal to y)\n",
    "<number> x < y --->x is less than y\n",
    "<number> x > y --->x is greater than y\n",
    "<number> x <= y -->x is less than or equal to y\n",
    "<number> x >= y -->x is greater than or equal to y\n"
   ]
  },
  {
   "cell_type": "code",
   "execution_count": 27,
   "metadata": {},
   "outputs": [],
   "source": [
    "x=10\n",
    "y=10\n",
    "z=100"
   ]
  },
  {
   "cell_type": "code",
   "execution_count": 28,
   "metadata": {},
   "outputs": [
    {
     "name": "stdout",
     "output_type": "stream",
     "text": [
      "False\n"
     ]
    }
   ],
   "source": [
    "print(x != y)"
   ]
  },
  {
   "cell_type": "code",
   "execution_count": 29,
   "metadata": {},
   "outputs": [
    {
     "data": {
      "text/plain": [
       "True"
      ]
     },
     "execution_count": 29,
     "metadata": {},
     "output_type": "execute_result"
    }
   ],
   "source": [
    "x != z"
   ]
  },
  {
   "cell_type": "code",
   "execution_count": 30,
   "metadata": {},
   "outputs": [
    {
     "data": {
      "text/plain": [
       "True"
      ]
     },
     "execution_count": 30,
     "metadata": {},
     "output_type": "execute_result"
    }
   ],
   "source": [
    "x <= y"
   ]
  },
  {
   "cell_type": "code",
   "execution_count": 31,
   "metadata": {},
   "outputs": [
    {
     "data": {
      "text/plain": [
       "False"
      ]
     },
     "execution_count": 31,
     "metadata": {},
     "output_type": "execute_result"
    }
   ],
   "source": [
    "x < y"
   ]
  },
  {
   "cell_type": "code",
   "execution_count": 32,
   "metadata": {},
   "outputs": [
    {
     "data": {
      "text/plain": [
       "True"
      ]
     },
     "execution_count": 32,
     "metadata": {},
     "output_type": "execute_result"
    }
   ],
   "source": [
    "y < z"
   ]
  },
  {
   "cell_type": "code",
   "execution_count": 33,
   "metadata": {},
   "outputs": [
    {
     "name": "stdout",
     "output_type": "stream",
     "text": [
      "I am in ELSE condition\n",
      "not allowed to vote\n"
     ]
    }
   ],
   "source": [
    "age=10\n",
    "if ( age >= 18 ):\n",
    "\tprint (\"I am in if condition\")\n",
    "\tprint (\"You are allowed to vote\")\n",
    "else:\n",
    "\tprint (\"I am in ELSE condition\")\n",
    "\tprint (\"not allowed to vote\")"
   ]
  },
  {
   "cell_type": "code",
   "execution_count": 34,
   "metadata": {},
   "outputs": [
    {
     "name": "stdout",
     "output_type": "stream",
     "text": [
      "I am in if condition\n",
      "You are allowed to vote\n"
     ]
    }
   ],
   "source": [
    "age=50\n",
    "if ( age >= 18 ):\n",
    "\tprint (\"I am in if condition\")\n",
    "\tprint (\"You are allowed to vote\")\n",
    "else:\n",
    "\tprint (\"I am in ELSE condition\")\n",
    "\tprint (\"not allowed to vote\")"
   ]
  },
  {
   "cell_type": "code",
   "execution_count": 35,
   "metadata": {},
   "outputs": [
    {
     "name": "stdout",
     "output_type": "stream",
     "text": [
      "Zero\n",
      "I am after if else\n"
     ]
    }
   ],
   "source": [
    "x=0\n",
    "if x < 0 :\n",
    "    print ('Negative changed to zero')\n",
    "elif x == 0:\n",
    "    print ('Zero')\n",
    "elif x<=0:\n",
    "\tprint (\"xyz\")\n",
    "elif x == 1:\n",
    "\tprint ('Single')\n",
    "elif x == 2:\n",
    "\tprint ('Double')\n",
    "else:\n",
    "    print(\"llll\")\n",
    "    print ('More')\n",
    "\n",
    "print (\"I am after if else\")"
   ]
  },
  {
   "cell_type": "code",
   "execution_count": 36,
   "metadata": {},
   "outputs": [
    {
     "name": "stdout",
     "output_type": "stream",
     "text": [
      "xyz\n",
      " I am after if else \n"
     ]
    }
   ],
   "source": [
    "x=1\n",
    "if x < 0 :\n",
    "    print ('Negative changed to zero')\n",
    "\n",
    "elif x == 0:\n",
    "\tprint ('Zero')\n",
    "elif x >= 0:\n",
    "\tprint (\"xyz\")\n",
    "elif x == 1:\n",
    "\tprint ('Single')\n",
    "elif x == 2:\n",
    "\tprint ('Double')\n",
    "else:\n",
    "    print ('More')\n",
    "    \n",
    "print ( \" I am after if else \")"
   ]
  },
  {
   "cell_type": "markdown",
   "metadata": {},
   "source": [
    "# A   and B  |Result\n",
    "# -------------\n",
    "# true |true |true\n",
    "# false|false|false\n",
    "# true |false|false\n",
    "# false|true |false\n"
   ]
  },
  {
   "cell_type": "code",
   "execution_count": 37,
   "metadata": {},
   "outputs": [
    {
     "name": "stdout",
     "output_type": "stream",
     "text": [
      "x is not bigger than 10\n"
     ]
    }
   ],
   "source": [
    "x=8\n",
    "y=15\n",
    "if (x>=10 or y>100):\n",
    "\tprint (\"x is more than 10\")\n",
    "else :\n",
    "\tprint (\"x is not bigger than 10\")"
   ]
  },
  {
   "cell_type": "code",
   "execution_count": 38,
   "metadata": {},
   "outputs": [
    {
     "name": "stdout",
     "output_type": "stream",
     "text": [
      "x is not bigger than 10\n"
     ]
    }
   ],
   "source": [
    "x=100\n",
    "y=10\n",
    "if (x>1000 and y>1 or x==10):\n",
    "\tprint (\"x is more than 10\")\n",
    "else :\n",
    "\tprint (\"x is not bigger than 10\")"
   ]
  },
  {
   "cell_type": "code",
   "execution_count": 39,
   "metadata": {},
   "outputs": [
    {
     "name": "stdout",
     "output_type": "stream",
     "text": [
      "x is not bigger than 10\n"
     ]
    }
   ],
   "source": [
    "x=100\n",
    "y=10\n",
    "if (x>100 and (y>1 or x==100)):\n",
    "\tprint (\"x is more than 10\")\n",
    "else :\n",
    "\tprint (\"x is not bigger than 10\")"
   ]
  },
  {
   "cell_type": "code",
   "execution_count": 40,
   "metadata": {},
   "outputs": [
    {
     "name": "stdout",
     "output_type": "stream",
     "text": [
      "You do not have the right to remain silent.\n"
     ]
    }
   ],
   "source": [
    "mood=\"bad\"\n",
    "speed=90\n",
    "if mood == 'terrible' and speed > 100:\n",
    "\tprint ('You have the right to remain silent.')\n",
    "elif mood == 'bad' or speed > 90:\n",
    "\tprint ('You do not have the right to remain silent.')\n",
    "elif mood == 'terrible' and speed >= 90:\n",
    "\tprint (\"I'm going to have to write you a ticket.\")\n",
    "else:\n",
    "\tprint (\"Let's try to keep it under 80 ok?\")"
   ]
  },
  {
   "cell_type": "code",
   "execution_count": 41,
   "metadata": {},
   "outputs": [
    {
     "name": "stdout",
     "output_type": "stream",
     "text": [
      "You have the right to remain silent.\n"
     ]
    }
   ],
   "source": [
    "mood=\"terrible\"\n",
    "speed=190\n",
    "if mood == 'terrible' and speed > 100:\n",
    "\tprint ('You have the right to remain silent.')\n",
    "elif mood == 'bad' or speed > 90:\n",
    "\tprint ('You do not have the right to remain silent.')\n",
    "elif mood == 'terrible' and speed >= 90:\n",
    "\tprint (\"I'm going to have to write you a ticket.\")\n",
    "else:\n",
    "\tprint (\"Let's try to keep it under 80 ok?\")"
   ]
  },
  {
   "cell_type": "markdown",
   "metadata": {},
   "source": [
    "# LEAP YEAR (Assignment)"
   ]
  },
  {
   "cell_type": "code",
   "execution_count": 42,
   "metadata": {},
   "outputs": [
    {
     "name": "stdout",
     "output_type": "stream",
     "text": [
      " not a leap year because not divisible by 100\n"
     ]
    }
   ],
   "source": [
    "x=1992\n",
    "if x%4 == 0:\n",
    "\tif x%100 == 0:\n",
    "\t\tif x%400 == 0:\n",
    "\t\t\tprint (\"leap year\")\n",
    "\t\telse:\n",
    "\t\t\tprint (\" not a leap year because not divisible by 400\")\n",
    "\telse:\n",
    "\t\tprint (\" not a leap year because not divisible by 100\")\n",
    "else :\n",
    "\tprint (\" not a leap year because not divisible by 4\")"
   ]
  },
  {
   "cell_type": "code",
   "execution_count": 43,
   "metadata": {},
   "outputs": [
    {
     "name": "stdout",
     "output_type": "stream",
     "text": [
      " not a leap year because not divisible by 400\n"
     ]
    }
   ],
   "source": [
    "x=100\n",
    "if x%4 == 0:\n",
    "\tif x%100 == 0:\n",
    "\t\tif x%400 == 0:\n",
    "\t\t\tprint (\"leap year\")\n",
    "\t\telse:\n",
    "\t\t\tprint (\" not a leap year because not divisible by 400\")\n",
    "\telse:\n",
    "\t\tprint (\" not a leap year because not divisible by 100\")\n",
    "else :\n",
    "\tprint (\" not a leap year because not divisible by 4\")"
   ]
  },
  {
   "cell_type": "code",
   "execution_count": 44,
   "metadata": {},
   "outputs": [
    {
     "name": "stdout",
     "output_type": "stream",
     "text": [
      " not a leap year because not divisible by 4\n"
     ]
    }
   ],
   "source": [
    "x=21\n",
    "if x%4 == 0:\n",
    "\tif x%100 == 0:\n",
    "\t\tif x%400 == 0:\n",
    "\t\t\tprint (\"leap year\")\n",
    "\t\telse:\n",
    "\t\t\tprint (\" not a leap year because not divisible by 400\")\n",
    "\telse:\n",
    "\t\tprint (\" not a leap year because not divisible by 100\")\n",
    "else :\n",
    "\tprint (\" not a leap year because not divisible by 4\")"
   ]
  },
  {
   "cell_type": "code",
   "execution_count": 45,
   "metadata": {},
   "outputs": [
    {
     "name": "stdout",
     "output_type": "stream",
     "text": [
      "leap year\n"
     ]
    }
   ],
   "source": [
    "x=400\n",
    "if x%4 == 0:\n",
    "\tif x%100 == 0:\n",
    "\t\tif x%400 == 0:\n",
    "\t\t\tprint (\"leap year\")\n",
    "\t\telse:\n",
    "\t\t\tprint (\" not a leap year because not divisible by 400\")\n",
    "\telse:\n",
    "\t\tprint (\" not a leap year because not divisible by 100\")\n",
    "else :\n",
    "\tprint (\" not a leap year because not divisible by 4\")"
   ]
  },
  {
   "cell_type": "markdown",
   "metadata": {},
   "source": [
    "### Conditional Expression (or \"The Ternary Operator\")"
   ]
  },
  {
   "cell_type": "markdown",
   "metadata": {},
   "source": [
    "The ternary operator is used for inline conditional expressions. It is best used in simple, concise operations that are\n",
    "easily read.\n",
    "The order of the arguments is different from many other languages (such as C, Ruby, Java, etc.), which may\n",
    "lead to bugs when people unfamiliar with Python's \"surprising\" behaviour use it (they may reverse the order).\n",
    "Some find it \"unwieldy\", since it goes contrary to the normal flow of thought (thinking of the condition first\n",
    "and then the effects)."
   ]
  },
  {
   "cell_type": "code",
   "execution_count": 46,
   "metadata": {},
   "outputs": [
    {
     "data": {
      "text/plain": [
       "'Greater than 2'"
      ]
     },
     "execution_count": 46,
     "metadata": {},
     "output_type": "execute_result"
    }
   ],
   "source": [
    "n = 11\n",
    "\"Greater than 2\" if n > 2 else \"Smaller than or equal to 2\""
   ]
  },
  {
   "cell_type": "code",
   "execution_count": null,
   "metadata": {},
   "outputs": [],
   "source": [
    "if n>2:\n",
    "    print (\"greater thn 2\")\n",
    "else:\n",
    "    print(\"smaller than or equal to 2\")"
   ]
  },
  {
   "cell_type": "code",
   "execution_count": null,
   "metadata": {},
   "outputs": [],
   "source": [
    "n = 5\n",
    "\"Hello\"  if n > 10 else\"Goodbye\" if n == 2 else \"Good day\""
   ]
  },
  {
   "cell_type": "code",
   "execution_count": null,
   "metadata": {},
   "outputs": [],
   "source": [
    "if n>10:\n",
    "    print (\"hello\")\n",
    "else:\n",
    "    if n==1:\n",
    "        print (\"goodbye\")\n",
    "    else:\n",
    "        print(\"goodday\")"
   ]
  },
  {
   "cell_type": "code",
   "execution_count": null,
   "metadata": {},
   "outputs": [],
   "source": [
    "\"hello\" if 10 in [1,2,3,10] else \"Goodbye\" "
   ]
  },
  {
   "cell_type": "markdown",
   "metadata": {},
   "source": [
    "## Assignments"
   ]
  },
  {
   "cell_type": "markdown",
   "metadata": {},
   "source": [
    " # 1)The current year and the year in which the employee joined the\n",
    "// organization are entered through the keyboard. If the number of years for\n",
    "// which the employee has\n",
    "// # served the organization is greater than 3 then a bonus of Rs. 2500/- is\n",
    "// given to the employee. If the years of service are not greater\n",
    "// # than 3, then the program should do nothing.\n",
    "// # 2) The marks obtained by a student in 5 different subjects are input\n",
    "// through the keyboard. The student gets a\n",
    "// # division as per the following rules: Percentage above or equal to 60 -\n",
    "// First division\n",
    "// # Percentage between 50 and 59 - Second division\n",
    "// # Percentage between 40 and 49 - Third division\n",
    "// # Percentage less than 40 - Fail\n",
    "// # Write a program to calculate the division obtained by the student\n",
    "// # 3) A company insures its drivers in the following cases:\n",
    "// # If the driver is married.\n",
    "// # If the driver is unmarried, male & above 30 years of age.\n",
    "// # If the driver is unmarried, female & above 25 years of age.\n",
    "// # In all other cases the driver is not insured. If the marital status, sex\n",
    "// and age of the driver are the inputs, write a program to determine\n",
    "// # whether the driver is to be insured or not.\n",
    "# 4) If cost price and selling price of an item is input through the\n",
    " keyboard, write a program to determine whether the seller has\n",
    "# made profit or incurred loss. Also determine how much profit he made or\n",
    "loss he incurred.\n",
    "# 5) Any integer is input through the keyboard. Write a program to find out\n",
    " whether it is an odd number or even number.\n",
    " # 6) Any year is input through the keyboard. Write a program to determine\n",
    " whether the year is a leap year or not.\n",
    " # (Hint: Use the % (modulus) operator)\n",
    "# 8) A five-digit number is entered through the keyboard. Write aprogram to\n",
    " obtain the revezl"
   ]
  },
  {
   "cell_type": "code",
   "execution_count": null,
   "metadata": {},
   "outputs": [],
   "source": [
    "Given an integer, , perform the following conditional actions:\n",
    "\n",
    "If n is odd, print Weird\n",
    "If n is even and in the inclusive range of  to , print Not Weird\n",
    "If n is even and in the inclusive range of  to , print Weird\n",
    "If n is even and greater than , print Not Weird\n",
    "Input Format\n",
    "\n",
    "A single line containing a positive integer, .\n",
    "\n",
    "Constraints\n",
    "\n",
    "Output Format"
   ]
  }
 ],
 "metadata": {
  "celltoolbar": "Raw Cell Format",
  "kernelspec": {
   "display_name": "Python 3",
   "language": "python",
   "name": "python3"
  },
  "language_info": {
   "codemirror_mode": {
    "name": "ipython",
    "version": 3
   },
   "file_extension": ".py",
   "mimetype": "text/x-python",
   "name": "python",
   "nbconvert_exporter": "python",
   "pygments_lexer": "ipython3",
   "version": "3.8.3"
  }
 },
 "nbformat": 4,
 "nbformat_minor": 2
}
