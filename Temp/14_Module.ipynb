{
 "cells": [
  {
   "cell_type": "markdown",
   "metadata": {},
   "source": [
    "Modular programming refers to the process of breaking a large, unwieldy programming task into separate, smaller, more manageable subtasks or modules. Individual modules can then be cobbled together like building blocks to create a larger application.\n",
    "\n",
    "There are several advantages to modularizing code in a large application:\n",
    "\n",
    "Simplicity: Rather than focusing on the entire problem at hand, a module typically focuses on one relatively small portion of the problem. If you’re working on a single module, you’ll have a smaller problem domain to wrap your head around. This makes development easier and less error-prone.\n",
    "\n",
    "Maintainability: Modules are typically designed so that they enforce logical boundaries between different problem domains. If modules are written in a way that minimizes interdependency, there is decreased likelihood that modifications to a single module will have an impact on other parts of the program. (You may even be able to make changes to a module without having any knowledge of the application outside that module.) This makes it more viable for a team of many programmers to work collaboratively on a large application.\n",
    "\n",
    "Reusability: Functionality defined in a single module can be easily reused (through an appropriately defined interface) by other parts of the application. This eliminates the need to recreate duplicate code.\n",
    "\n",
    "Scoping: Modules typically define a separate namespace, which helps avoid collisions between identifiers in different areas of a program. (One of the tenets in the Zen of Python is Namespaces are one honking great idea—let’s do more of those!)\n",
    "\n",
    "Functions, modules and packages are all constructs in Python that promote code modularization."
   ]
  },
  {
   "cell_type": "markdown",
   "metadata": {},
   "source": [
    "## Python Modules: Overview\n",
    "There are actually three different ways to define a module in Python:\n",
    "\n",
    "A module can be written in Python itself.\n",
    "A module can be written in C and loaded dynamically at run-time, like the re (regular expression) module.\n",
    "A built-in module is intrinsically contained in the interpreter, like the itertools module.\n",
    "A module’s contents are accessed the same way in all three cases: with the import statement.\n",
    "\n",
    "Here, the focus will mostly be on modules that are written in Python. The cool thing about modules written in Python is that they are exceedingly straightforward to build. All you need to do is create a file that contains legitimate Python code and then give the file a name with a .py extension. That’s it! No special syntax or voodoo is necessary.\n",
    "\n",
    "For example, suppose you have created a file called mod.py containing the following:"
   ]
  },
  {
   "cell_type": "code",
   "execution_count": null,
   "metadata": {},
   "outputs": [],
   "source": [
    "import mod\n",
    "print(mod.s)\n",
    "print (mod.a)\n",
    "mod.foo(['quux', 'corge', 'grault'])\n",
    "# arg = ['quux', 'corge', 'grault']\n",
    "x = mod.Foo()\n",
    "x"
   ]
  },
  {
   "cell_type": "markdown",
   "metadata": {},
   "source": [
    "### The Module Search Path\n",
    "\n",
    "Continuing with the above example, let’s take a look at what happens when Python executes the statement:\n",
    "\n",
    "When the interpreter executes the above import statement, it searches for mod.py in a list of directories assembled from the following sources:\n",
    "\n",
    "* The directory from which the input script was run or the current directory if the interpreter is being run interactively\n",
    "* The list of directories contained in the PYTHONPATH environment variable, if it is set. (The format for PYTHONPATH is OS-dependent but should mimic the PATH environment variable.)\n",
    "* An installation-dependent list of directories configured at the time Python is installed\n",
    "* The resulting search path is accessible in the Python variable sys.path, which is obtained from a module named sys:"
   ]
  },
  {
   "cell_type": "code",
   "execution_count": 20,
   "metadata": {},
   "outputs": [
    {
     "data": {
      "text/plain": [
       "['C:\\\\Users\\\\91973\\\\Python_Training',\n",
       " 'C:\\\\Users\\\\91973\\\\Anaconda3\\\\python38.zip',\n",
       " 'C:\\\\Users\\\\91973\\\\Anaconda3\\\\DLLs',\n",
       " 'C:\\\\Users\\\\91973\\\\Anaconda3\\\\lib',\n",
       " 'C:\\\\Users\\\\91973\\\\Anaconda3',\n",
       " '',\n",
       " 'C:\\\\Users\\\\91973\\\\Anaconda3\\\\lib\\\\site-packages',\n",
       " 'C:\\\\Users\\\\91973\\\\Anaconda3\\\\lib\\\\site-packages\\\\win32',\n",
       " 'C:\\\\Users\\\\91973\\\\Anaconda3\\\\lib\\\\site-packages\\\\win32\\\\lib',\n",
       " 'C:\\\\Users\\\\91973\\\\Anaconda3\\\\lib\\\\site-packages\\\\Pythonwin',\n",
       " 'C:\\\\Users\\\\91973\\\\Anaconda3\\\\lib\\\\site-packages\\\\IPython\\\\extensions',\n",
       " 'C:\\\\Users\\\\91973\\\\.ipython']"
      ]
     },
     "execution_count": 20,
     "metadata": {},
     "output_type": "execute_result"
    }
   ],
   "source": [
    "import sys\n",
    "sys.path"
   ]
  },
  {
   "cell_type": "markdown",
   "metadata": {},
   "source": [
    "Thus, to ensure your module is found, you need to do one of the following:\n",
    "\n",
    "* Put mod.py in the directory where the input script is located or the current directory, if interactive\n",
    "* Modify the PYTHONPATH environment variable to contain the directory where mod.py is located before starting the interpreter\n",
    "Or: Put mod.py in one of the directories already contained in the PYTHONPATH variable\n",
    "Put mod.py in one of the installation-dependent directories, which you may or may not have write-access to, depending on the OS\n",
    "* There is actually one additional option: you can put the module file in any directory of your choice and then modify sys.path at run-time so that it contains that directory. For example, in this case, you could put mod.py in directory C:\\Users\\john and then issue the following statements:"
   ]
  },
  {
   "cell_type": "code",
   "execution_count": null,
   "metadata": {},
   "outputs": [],
   "source": [
    "a=sys.path.append(r'C:\\Users\\john')\n",
    "sys.path"
   ]
  },
  {
   "cell_type": "code",
   "execution_count": null,
   "metadata": {},
   "outputs": [],
   "source": [
    "a=sys.path\n",
    "print(a)\n",
    "mypath='C:\\Users\\john'\n",
    "if mypath not in a:# sys.path\n",
    "    sys.path.append(mypath)\n",
    "else :\n",
    "    print(\"no need to add the path\"\")"
   ]
  },
  {
   "cell_type": "raw",
   "metadata": {},
   "source": [
    "Once a module has been imported, you can determine the location where it was found with the module’s __file__ attribute:"
   ]
  },
  {
   "cell_type": "code",
   "execution_count": null,
   "metadata": {},
   "outputs": [],
   "source": [
    "import mod\n",
    "mod.__file__\n",
    "# import re\n",
    "# re.__file__\n",
    "# import socket\n",
    "# dir(mod)"
   ]
  },
  {
   "cell_type": "markdown",
   "metadata": {},
   "source": [
    "\n",
    "### The import Statement\n"
   ]
  },
  {
   "cell_type": "markdown",
   "metadata": {},
   "source": [
    "Module contents are made available to the caller with the import statement. The import statement takes many different forms, shown below.\n",
    "\n",
    "import <module_name>\n",
    "The simplest form is the one already shown above:\n",
    "\n"
   ]
  },
  {
   "cell_type": "markdown",
   "metadata": {},
   "source": [
    "Note that this does not make the module contents directly accessible to the caller. \n",
    "Each module has its own private symbol table, which serves as the global symbol table for all objects \n",
    "defined in the module. Thus, a module creates a separate namespace, as already noted.\n",
    "\n",
    "The statement import <module_name> only places <module_name> in the caller’s symbol table.\n",
    "The objects that are defined in the module remain in the module’s private symbol table.\n",
    "\n",
    "From the caller, objects in the module are only accessible when prefixed with <module_name> via dot notation, \n",
    "as illustrated below.\n",
    "\n",
    "After the following import statement, mod is placed into the local symbol table. Thus, \n",
    "mod has meaning in the caller’s local context:\n"
   ]
  },
  {
   "cell_type": "code",
   "execution_count": 3,
   "metadata": {},
   "outputs": [
    {
     "data": {
      "text/plain": [
       "<module 'mod' from 'C:\\\\Users\\\\91973\\\\Python_Training\\\\mod.py'>"
      ]
     },
     "execution_count": 3,
     "metadata": {},
     "output_type": "execute_result"
    }
   ],
   "source": [
    "import mod\n",
    "mod"
   ]
  },
  {
   "cell_type": "markdown",
   "metadata": {},
   "source": [
    "But s and foo remain in the module’s private symbol table and are not meaningful in the local context:\n"
   ]
  },
  {
   "cell_type": "code",
   "execution_count": 4,
   "metadata": {},
   "outputs": [
    {
     "ename": "NameError",
     "evalue": "name 's' is not defined",
     "output_type": "error",
     "traceback": [
      "\u001b[1;31m---------------------------------------------------------------------------\u001b[0m",
      "\u001b[1;31mNameError\u001b[0m                                 Traceback (most recent call last)",
      "\u001b[1;32m<ipython-input-4-bc8020457b4b>\u001b[0m in \u001b[0;36m<module>\u001b[1;34m\u001b[0m\n\u001b[0;32m      1\u001b[0m \u001b[1;32mimport\u001b[0m \u001b[0mmod\u001b[0m\u001b[1;33m\u001b[0m\u001b[1;33m\u001b[0m\u001b[0m\n\u001b[1;32m----> 2\u001b[1;33m \u001b[0mprint\u001b[0m\u001b[1;33m(\u001b[0m\u001b[0ms\u001b[0m\u001b[1;33m)\u001b[0m\u001b[1;33m\u001b[0m\u001b[1;33m\u001b[0m\u001b[0m\n\u001b[0m\u001b[0;32m      3\u001b[0m \u001b[0mfoo\u001b[0m\u001b[1;33m(\u001b[0m\u001b[1;34m'quux'\u001b[0m\u001b[1;33m)\u001b[0m\u001b[1;33m\u001b[0m\u001b[1;33m\u001b[0m\u001b[0m\n",
      "\u001b[1;31mNameError\u001b[0m: name 's' is not defined"
     ]
    }
   ],
   "source": [
    "import mod\n",
    "print(s)\n",
    "foo('quux')"
   ]
  },
  {
   "cell_type": "markdown",
   "metadata": {},
   "source": [
    "To be accessed in the local context, names of objects defined in the module must be prefixed by mod:\n"
   ]
  },
  {
   "cell_type": "code",
   "execution_count": 5,
   "metadata": {},
   "outputs": [
    {
     "name": "stdout",
     "output_type": "stream",
     "text": [
      "If Comrade Napoleon says it, it must be right.\n",
      "arg = quux\n",
      "hello\n"
     ]
    }
   ],
   "source": [
    "import mod\n",
    "print (mod.s)\n",
    "mod.foo('quux')\n",
    "print(\"hello\")"
   ]
  },
  {
   "cell_type": "raw",
   "metadata": {},
   "source": [
    "Several comma-separated modules may be specified in a single import statement:\n",
    "\n",
    "import <module_name>[, <module_name> ...]\n"
   ]
  },
  {
   "cell_type": "markdown",
   "metadata": {},
   "source": [
    "### from <module_name> import <name(s)>\n"
   ]
  },
  {
   "cell_type": "raw",
   "metadata": {},
   "source": [
    "An alternate form of the import statement allows individual objects from the module to be\n",
    "imported directly into the caller’s symbol table:\n",
    "\n",
    "from <module_name> import <name(s)>\n",
    "Following execution of the above statement, <name(s)> can be referenced in the\n",
    "caller’s environment without the <module_name> prefix:\n"
   ]
  },
  {
   "cell_type": "code",
   "execution_count": 6,
   "metadata": {},
   "outputs": [
    {
     "name": "stdout",
     "output_type": "stream",
     "text": [
      "If Comrade Napoleon says it, it must be right.\n",
      "arg = quux\n"
     ]
    }
   ],
   "source": [
    "from mod import s, foo\n",
    "# import mod\n",
    "print(s)\n",
    "foo('quux')\n",
    "# print(mod.s)\n",
    "# s=\n",
    "# def()"
   ]
  },
  {
   "cell_type": "code",
   "execution_count": 7,
   "metadata": {},
   "outputs": [
    {
     "name": "stdout",
     "output_type": "stream",
     "text": [
      "<mod.Foo object at 0x00000256848999D0>\n"
     ]
    }
   ],
   "source": [
    "from mod import Foo\n",
    "x = Foo()\n",
    "print(x)\n",
    "# Because this form of import places the object names \n",
    "# directly into the caller’s symbol table, any objects that \n",
    "# already exist with the same name will be overwritten:\n"
   ]
  },
  {
   "cell_type": "code",
   "execution_count": 8,
   "metadata": {},
   "outputs": [
    {
     "name": "stdout",
     "output_type": "stream",
     "text": [
      "['foo', 'bar', 'baz']\n",
      "[100, 200, 300]\n"
     ]
    }
   ],
   "source": [
    "a = ['foo', 'bar', 'baz']\n",
    "print (a)\n",
    "from mod import a\n",
    "print(a)"
   ]
  },
  {
   "cell_type": "code",
   "execution_count": null,
   "metadata": {},
   "outputs": [],
   "source": [
    "from mod1 import a\n",
    "from mod import a\n",
    "a = ['foo', 'bar', 'baz']\n",
    "print (s)"
   ]
  },
  {
   "cell_type": "code",
   "execution_count": null,
   "metadata": {},
   "outputs": [],
   "source": [
    "from mod import a\n",
    "# from mod import a\n",
    "print (a)"
   ]
  },
  {
   "cell_type": "raw",
   "metadata": {},
   "source": [
    "It is even possible to indiscriminately import everything from a module at one fell swoop:\n",
    "\n",
    "from <module_name> import *\n",
    "This will place the names of all objects from <module_name> into the local symbol table, with the exception of any that begin with the underscore (_) character.\n",
    "\n",
    "For example:\n"
   ]
  },
  {
   "cell_type": "code",
   "execution_count": null,
   "metadata": {},
   "outputs": [],
   "source": [
    "a"
   ]
  },
  {
   "cell_type": "code",
   "execution_count": null,
   "metadata": {},
   "outputs": [],
   "source": [
    "foo"
   ]
  },
  {
   "cell_type": "code",
   "execution_count": null,
   "metadata": {},
   "outputs": [],
   "source": [
    "Foo"
   ]
  },
  {
   "cell_type": "raw",
   "metadata": {},
   "source": [
    "This isn’t necessarily recommended in large-scale production code. It’s a bit dangerous because you are entering names into the local symbol table en masse. Unless you know them all well and can be confident there won’t be a conflict, you have a decent chance of overwriting an existing name inadvertently. However, this syntax is quite handy when you are just mucking around with the interactive interpreter, for testing or discovery purposes, because it quickly gives you access to everything a module has to offer without a lot of typing.\n",
    "\n",
    "from <module_name> import <name> as <alt_name>\n",
    "It is also possible to import individual objects but enter them into the local symbol table with alternate names:\n",
    "\n",
    "from <module_name> import <name> as <alt_name>[, <name> as <alt_name> …]\n",
    "This makes it possible to place names directly into the local symbol table but avoid conflicts with previously existing names:\n"
   ]
  },
  {
   "cell_type": "code",
   "execution_count": 9,
   "metadata": {},
   "outputs": [
    {
     "name": "stdout",
     "output_type": "stream",
     "text": [
      "python\n",
      "If Comrade Napoleon says it, it must be right.\n",
      "5454\n",
      "[100, 200, 300]\n"
     ]
    }
   ],
   "source": [
    "from mod import s as astring, a as alist\n",
    "s=\"python\"\n",
    "a=5454\n",
    "print(s)\n",
    "print(astring)\n",
    "print(a)\n",
    "print(alist)"
   ]
  },
  {
   "cell_type": "markdown",
   "metadata": {},
   "source": [
    "import <module_name> as <alt_name>\n",
    "You can also import an entire module under an alternate name:\n"
   ]
  },
  {
   "cell_type": "code",
   "execution_count": null,
   "metadata": {},
   "outputs": [],
   "source": [
    "import mod as my_module\n",
    "import numpy as np\n",
    "import panda as pd\n",
    "import matplotlib as mp\n",
    "print(my_module.a)\n",
    "print(my_module.foo('qux'))\n",
    "import mod \n",
    "print(mod.a)\n",
    "print(mod.foo('qux'))\n",
    "matplotlib.draw()\n",
    "mp.draw()"
   ]
  },
  {
   "cell_type": "markdown",
   "metadata": {},
   "source": [
    "However, Python 3 does not allow the indiscriminate import * syntax from within a function:"
   ]
  },
  {
   "cell_type": "code",
   "execution_count": null,
   "metadata": {},
   "outputs": [],
   "source": [
    "from mod import *\n",
    "print(s)\n",
    "print(a)\n",
    "print(s1)\n",
    "# foo(\"abcd\")"
   ]
  },
  {
   "cell_type": "code",
   "execution_count": 11,
   "metadata": {},
   "outputs": [
    {
     "name": "stdout",
     "output_type": "stream",
     "text": [
      "[100, 200, 300]\n"
     ]
    }
   ],
   "source": [
    "def bar():\n",
    "#     from mod import *\n",
    "    from mod import a\n",
    "    print(a)\n",
    "\n",
    "bar()    "
   ]
  },
  {
   "cell_type": "markdown",
   "metadata": {},
   "source": [
    "Lastly, a try statement with an except ImportError clause can be used to guard against unsuccessful import attempts:\n"
   ]
  },
  {
   "cell_type": "code",
   "execution_count": 12,
   "metadata": {},
   "outputs": [
    {
     "name": "stdout",
     "output_type": "stream",
     "text": [
      "Module not found\n"
     ]
    }
   ],
   "source": [
    "try:\n",
    "    # Non-existent module\n",
    "       import mod123\n",
    "except ImportError:\n",
    "    print('Module not found')"
   ]
  },
  {
   "cell_type": "code",
   "execution_count": null,
   "metadata": {},
   "outputs": [],
   "source": [
    "import sys\n",
    "dir(sys)"
   ]
  },
  {
   "cell_type": "markdown",
   "metadata": {},
   "source": [
    "This module provides access to some objects used or maintained by the\n",
    "interpreter and to functions that interact strongly with the interpreter."
   ]
  },
  {
   "cell_type": "code",
   "execution_count": 13,
   "metadata": {},
   "outputs": [
    {
     "name": "stdout",
     "output_type": "stream",
     "text": [
      "3.8.3 (default, Jul  2 2020, 17:30:36) [MSC v.1916 64 bit (AMD64)]\n"
     ]
    }
   ],
   "source": [
    "import sys\n",
    "print (sys.version)\n",
    "# print(sys.__package__)\n",
    "# This module provides access to some objects used or maintained by the\n",
    "#     interpreter and to functions that interact strongly with the interpreter."
   ]
  },
  {
   "cell_type": "code",
   "execution_count": 14,
   "metadata": {},
   "outputs": [
    {
     "name": "stdout",
     "output_type": "stream",
     "text": [
      "sys.version_info(major=3, minor=8, micro=3, releaselevel='final', serial=0)\n"
     ]
    }
   ],
   "source": [
    "print (sys.version_info)"
   ]
  },
  {
   "cell_type": "code",
   "execution_count": 15,
   "metadata": {},
   "outputs": [
    {
     "name": "stdout",
     "output_type": "stream",
     "text": [
      "Help on built-in module sys:\n",
      "\n",
      "NAME\n",
      "    sys\n",
      "\n",
      "MODULE REFERENCE\n",
      "    https://docs.python.org/3.8/library/sys\n",
      "    \n",
      "    The following documentation is automatically generated from the Python\n",
      "    source files.  It may be incomplete, incorrect or include features that\n",
      "    are considered implementation detail and may vary between Python\n",
      "    implementations.  When in doubt, consult the module reference at the\n",
      "    location listed above.\n",
      "\n",
      "DESCRIPTION\n",
      "    This module provides access to some objects used or maintained by the\n",
      "    interpreter and to functions that interact strongly with the interpreter.\n",
      "    \n",
      "    Dynamic objects:\n",
      "    \n",
      "    argv -- command line arguments; argv[0] is the script pathname if known\n",
      "    path -- module search path; path[0] is the script directory, else ''\n",
      "    modules -- dictionary of loaded modules\n",
      "    \n",
      "    displayhook -- called to show results in an interactive session\n",
      "    excepthook -- called to handle any uncaught exception other than SystemExit\n",
      "      To customize printing in an interactive session or to install a custom\n",
      "      top-level exception handler, assign other functions to replace these.\n",
      "    \n",
      "    stdin -- standard input file object; used by input()\n",
      "    stdout -- standard output file object; used by print()\n",
      "    stderr -- standard error object; used for error messages\n",
      "      By assigning other file objects (or objects that behave like files)\n",
      "      to these, it is possible to redirect all of the interpreter's I/O.\n",
      "    \n",
      "    last_type -- type of last uncaught exception\n",
      "    last_value -- value of last uncaught exception\n",
      "    last_traceback -- traceback of last uncaught exception\n",
      "      These three are only available in an interactive session after a\n",
      "      traceback has been printed.\n",
      "    \n",
      "    Static objects:\n",
      "    \n",
      "    builtin_module_names -- tuple of module names built into this interpreter\n",
      "    copyright -- copyright notice pertaining to this interpreter\n",
      "    exec_prefix -- prefix used to find the machine-specific Python library\n",
      "    executable -- absolute path of the executable binary of the Python interpreter\n",
      "    float_info -- a named tuple with information about the float implementation.\n",
      "    float_repr_style -- string indicating the style of repr() output for floats\n",
      "    hash_info -- a named tuple with information about the hash algorithm.\n",
      "    hexversion -- version information encoded as a single integer\n",
      "    implementation -- Python implementation information.\n",
      "    int_info -- a named tuple with information about the int implementation.\n",
      "    maxsize -- the largest supported length of containers.\n",
      "    maxunicode -- the value of the largest Unicode code point\n",
      "    platform -- platform identifier\n",
      "    prefix -- prefix used to find the Python library\n",
      "    thread_info -- a named tuple with information about the thread implementation.\n",
      "    version -- the version of this interpreter as a string\n",
      "    version_info -- version information as a named tuple\n",
      "    dllhandle -- [Windows only] integer handle of the Python DLL\n",
      "    winver -- [Windows only] version number of the Python DLL\n",
      "    _enablelegacywindowsfsencoding -- [Windows only]\n",
      "    __stdin__ -- the original stdin; don't touch!\n",
      "    __stdout__ -- the original stdout; don't touch!\n",
      "    __stderr__ -- the original stderr; don't touch!\n",
      "    __displayhook__ -- the original displayhook; don't touch!\n",
      "    __excepthook__ -- the original excepthook; don't touch!\n",
      "    \n",
      "    Functions:\n",
      "    \n",
      "    displayhook() -- print an object to the screen, and save it in builtins._\n",
      "    excepthook() -- print an exception and its traceback to sys.stderr\n",
      "    exc_info() -- return thread-safe information about the current exception\n",
      "    exit() -- exit the interpreter by raising SystemExit\n",
      "    getdlopenflags() -- returns flags to be used for dlopen() calls\n",
      "    getprofile() -- get the global profiling function\n",
      "    getrefcount() -- return the reference count for an object (plus one :-)\n",
      "    getrecursionlimit() -- return the max recursion depth for the interpreter\n",
      "    getsizeof() -- return the size of an object in bytes\n",
      "    gettrace() -- get the global debug tracing function\n",
      "    setcheckinterval() -- control how often the interpreter checks for events\n",
      "    setdlopenflags() -- set the flags to be used for dlopen() calls\n",
      "    setprofile() -- set the global profiling function\n",
      "    setrecursionlimit() -- set the max recursion depth for the interpreter\n",
      "    settrace() -- set the global debug tracing function\n",
      "\n",
      "FUNCTIONS\n",
      "    __breakpointhook__ = breakpointhook(...)\n",
      "        breakpointhook(*args, **kws)\n",
      "        \n",
      "        This hook function is called by built-in breakpoint().\n",
      "    \n",
      "    __displayhook__ = displayhook(object, /)\n",
      "        Print an object to sys.stdout and also save it in builtins._\n",
      "    \n",
      "    __excepthook__ = excepthook(exctype, value, traceback, /)\n",
      "        Handle an exception by displaying it with a traceback on sys.stderr.\n",
      "    \n",
      "    __unraisablehook__ = unraisablehook(unraisable, /)\n",
      "        Handle an unraisable exception.\n",
      "        \n",
      "        The unraisable argument has the following attributes:\n",
      "        \n",
      "        * exc_type: Exception type.\n",
      "        * exc_value: Exception value, can be None.\n",
      "        * exc_traceback: Exception traceback, can be None.\n",
      "        * err_msg: Error message, can be None.\n",
      "        * object: Object causing the exception, can be None.\n",
      "    \n",
      "    addaudithook(hook)\n",
      "        Adds a new audit hook callback.\n",
      "    \n",
      "    audit(...)\n",
      "        audit(event, *args)\n",
      "        \n",
      "        Passes the event to any audit hooks that are attached.\n",
      "    \n",
      "    breakpointhook(...)\n",
      "        breakpointhook(*args, **kws)\n",
      "        \n",
      "        This hook function is called by built-in breakpoint().\n",
      "    \n",
      "    call_tracing(func, args, /)\n",
      "        Call func(*args), while tracing is enabled.\n",
      "        \n",
      "        The tracing state is saved, and restored afterwards.  This is intended\n",
      "        to be called from a debugger from a checkpoint, to recursively debug\n",
      "        some other code.\n",
      "    \n",
      "    callstats()\n",
      "        Return a tuple of function call statistics.\n",
      "        \n",
      "        A tuple is returned only if CALL_PROFILE was defined when Python was\n",
      "        built.  Otherwise, this returns None.\n",
      "        \n",
      "        When enabled, this function returns detailed, implementation-specific\n",
      "        details about the number of function calls executed. The return value\n",
      "        is a 11-tuple where the entries in the tuple are counts of:\n",
      "        0. all function calls\n",
      "        1. calls to PyFunction_Type objects\n",
      "        2. PyFunction calls that do not create an argument tuple\n",
      "        3. PyFunction calls that do not create an argument tuple\n",
      "           and bypass PyEval_EvalCodeEx()\n",
      "        4. PyMethod calls\n",
      "        5. PyMethod calls on bound methods\n",
      "        6. PyType calls\n",
      "        7. PyCFunction calls\n",
      "        8. generator calls\n",
      "        9. All other calls\n",
      "        10. Number of stack pops performed by call_function()\n",
      "    \n",
      "    exc_info()\n",
      "        Return current exception information: (type, value, traceback).\n",
      "        \n",
      "        Return information about the most recent exception caught by an except\n",
      "        clause in the current stack frame or in an older stack frame.\n",
      "    \n",
      "    exit(status=None, /)\n",
      "        Exit the interpreter by raising SystemExit(status).\n",
      "        \n",
      "        If the status is omitted or None, it defaults to zero (i.e., success).\n",
      "        If the status is an integer, it will be used as the system exit status.\n",
      "        If it is another kind of object, it will be printed and the system\n",
      "        exit status will be one (i.e., failure).\n",
      "    \n",
      "    get_asyncgen_hooks()\n",
      "        Return the installed asynchronous generators hooks.\n",
      "        \n",
      "        This returns a namedtuple of the form (firstiter, finalizer).\n",
      "    \n",
      "    get_coroutine_origin_tracking_depth()\n",
      "        Check status of origin tracking for coroutine objects in this thread.\n",
      "    \n",
      "    getallocatedblocks()\n",
      "        Return the number of memory blocks currently allocated.\n",
      "    \n",
      "    getcheckinterval()\n",
      "        Return the current check interval; see sys.setcheckinterval().\n",
      "    \n",
      "    getdefaultencoding()\n",
      "        Return the current default encoding used by the Unicode implementation.\n",
      "    \n",
      "    getfilesystemencodeerrors()\n",
      "        Return the error mode used Unicode to OS filename conversion.\n",
      "    \n",
      "    getfilesystemencoding()\n",
      "        Return the encoding used to convert Unicode filenames to OS filenames.\n",
      "    \n",
      "    getprofile()\n",
      "        Return the profiling function set with sys.setprofile.\n",
      "        \n",
      "        See the profiler chapter in the library manual.\n",
      "    \n",
      "    getrecursionlimit()\n",
      "        Return the current value of the recursion limit.\n",
      "        \n",
      "        The recursion limit is the maximum depth of the Python interpreter\n",
      "        stack.  This limit prevents infinite recursion from causing an overflow\n",
      "        of the C stack and crashing Python.\n",
      "    \n",
      "    getrefcount(object, /)\n",
      "        Return the reference count of object.\n",
      "        \n",
      "        The count returned is generally one higher than you might expect,\n",
      "        because it includes the (temporary) reference as an argument to\n",
      "        getrefcount().\n",
      "    \n",
      "    getsizeof(...)\n",
      "        getsizeof(object [, default]) -> int\n",
      "        \n",
      "        Return the size of object in bytes.\n",
      "    \n",
      "    getswitchinterval()\n",
      "        Return the current thread switch interval; see sys.setswitchinterval().\n",
      "    \n",
      "    gettrace()\n",
      "        Return the global debug tracing function set with sys.settrace.\n",
      "        \n",
      "        See the debugger chapter in the library manual.\n",
      "    \n",
      "    getwindowsversion()\n",
      "        Return info about the running version of Windows as a named tuple.\n",
      "        \n",
      "        The members are named: major, minor, build, platform, service_pack,\n",
      "        service_pack_major, service_pack_minor, suite_mask, product_type and\n",
      "        platform_version. For backward compatibility, only the first 5 items\n",
      "        are available by indexing. All elements are numbers, except\n",
      "        service_pack and platform_type which are strings, and platform_version\n",
      "        which is a 3-tuple. Platform is always 2. Product_type may be 1 for a\n",
      "        workstation, 2 for a domain controller, 3 for a server.\n",
      "        Platform_version is a 3-tuple containing a version number that is\n",
      "        intended for identifying the OS rather than feature detection.\n",
      "    \n",
      "    intern(string, /)\n",
      "        ``Intern'' the given string.\n",
      "        \n",
      "        This enters the string in the (global) table of interned strings whose\n",
      "        purpose is to speed up dictionary lookups. Return the string itself or\n",
      "        the previously interned string object with the same value.\n",
      "    \n",
      "    is_finalizing()\n",
      "        Return True if Python is exiting.\n",
      "    \n",
      "    set_asyncgen_hooks(...)\n",
      "        set_asyncgen_hooks(* [, firstiter] [, finalizer])\n",
      "        \n",
      "        Set a finalizer for async generators objects.\n",
      "    \n",
      "    set_coroutine_origin_tracking_depth(depth)\n",
      "        Enable or disable origin tracking for coroutine objects in this thread.\n",
      "        \n",
      "        Coroutine objects will track 'depth' frames of traceback information\n",
      "        about where they came from, available in their cr_origin attribute.\n",
      "        \n",
      "        Set a depth of 0 to disable.\n",
      "    \n",
      "    setcheckinterval(n, /)\n",
      "        Set the async event check interval to n instructions.\n",
      "        \n",
      "        This tells the Python interpreter to check for asynchronous events\n",
      "        every n instructions.\n",
      "        \n",
      "        This also affects how often thread switches occur.\n",
      "    \n",
      "    setprofile(...)\n",
      "        setprofile(function)\n",
      "        \n",
      "        Set the profiling function.  It will be called on each function call\n",
      "        and return.  See the profiler chapter in the library manual.\n",
      "    \n",
      "    setrecursionlimit(limit, /)\n",
      "        Set the maximum depth of the Python interpreter stack to n.\n",
      "        \n",
      "        This limit prevents infinite recursion from causing an overflow of the C\n",
      "        stack and crashing Python.  The highest possible limit is platform-\n",
      "        dependent.\n",
      "    \n",
      "    setswitchinterval(interval, /)\n",
      "        Set the ideal thread switching delay inside the Python interpreter.\n",
      "        \n",
      "        The actual frequency of switching threads can be lower if the\n",
      "        interpreter executes long sequences of uninterruptible code\n",
      "        (this is implementation-specific and workload-dependent).\n",
      "        \n",
      "        The parameter must represent the desired switching delay in seconds\n",
      "        A typical value is 0.005 (5 milliseconds).\n",
      "    \n",
      "    settrace(...)\n",
      "        settrace(function)\n",
      "        \n",
      "        Set the global debug tracing function.  It will be called on each\n",
      "        function call.  See the debugger chapter in the library manual.\n",
      "    \n",
      "    unraisablehook(unraisable, /)\n",
      "        Handle an unraisable exception.\n",
      "        \n",
      "        The unraisable argument has the following attributes:\n",
      "        \n",
      "        * exc_type: Exception type.\n",
      "        * exc_value: Exception value, can be None.\n",
      "        * exc_traceback: Exception traceback, can be None.\n",
      "        * err_msg: Error message, can be None.\n",
      "        * object: Object causing the exception, can be None.\n",
      "\n",
      "DATA\n",
      "    __stderr__ = <_io.TextIOWrapper name='<stderr>' mode='w' encoding='utf...\n",
      "    __stdin__ = <_io.TextIOWrapper name='<stdin>' mode='r' encoding='cp125...\n",
      "    __stdout__ = <_io.TextIOWrapper name='<stdout>' mode='w' encoding='utf...\n",
      "    api_version = 1013\n",
      "    argv = [r'C:\\Users\\91973\\Anaconda3\\lib\\site-packages\\ipykernel_launche...\n",
      "    base_exec_prefix = r'C:\\Users\\91973\\Anaconda3'\n",
      "    base_prefix = r'C:\\Users\\91973\\Anaconda3'\n",
      "    builtin_module_names = ('_abc', '_ast', '_bisect', '_blake2', '_codecs...\n",
      "    byteorder = 'little'\n",
      "    copyright = 'Copyright (c) 2001-2020 Python Software Foundati...ematis...\n",
      "    displayhook = <ipykernel.displayhook.ZMQShellDisplayHook object>\n",
      "    dllhandle = 140726189948928\n",
      "    dont_write_bytecode = False\n",
      "    exec_prefix = r'C:\\Users\\91973\\Anaconda3'\n",
      "    executable = r'C:\\Users\\91973\\Anaconda3\\python.exe'\n",
      "    flags = sys.flags(debug=0, inspect=0, interactive=0, opt...ation=1, is...\n",
      "    float_info = sys.float_info(max=1.7976931348623157e+308, max_...epsilo...\n",
      "    float_repr_style = 'short'\n",
      "    hash_info = sys.hash_info(width=64, modulus=2305843009213693...iphash2...\n",
      "    hexversion = 50856944\n",
      "    implementation = namespace(cache_tag='cpython-38', hexversion=508...in...\n",
      "    int_info = sys.int_info(bits_per_digit=30, sizeof_digit=4)\n",
      "    last_value = SyntaxError('import * only allowed at module level')\n",
      "    maxsize = 9223372036854775807\n",
      "    maxunicode = 1114111\n",
      "    meta_path = [<class '_frozen_importlib.BuiltinImporter'>, <class '_fro...\n",
      "    modules = {'IPython': <module 'IPython' from 'C:\\\\Users\\\\91973\\\\Anacon...\n",
      "    path = [r'C:\\Users\\91973\\Python_Training', r'C:\\Users\\91973\\Anaconda3\\...\n",
      "    path_hooks = [<class 'zipimport.zipimporter'>, <function FileFinder.pa...\n",
      "    path_importer_cache = {r'C:\\Users\\91973\\.ipython': FileFinder('C:\\\\Use...\n",
      "    platform = 'win32'\n",
      "    prefix = r'C:\\Users\\91973\\Anaconda3'\n",
      "    ps1 = 'In : '\n",
      "    ps2 = '...: '\n",
      "    ps3 = 'Out: '\n",
      "    pycache_prefix = None\n",
      "    stderr = <ipykernel.iostream.OutStream object>\n",
      "    stdin = <_io.TextIOWrapper name='<stdin>' mode='r' encoding='cp1252'>\n",
      "    stdout = <ipykernel.iostream.OutStream object>\n",
      "    thread_info = sys.thread_info(name='nt', lock=None, version=None)\n",
      "    version = '3.8.3 (default, Jul  2 2020, 17:30:36) [MSC v.1916 64 bit (...\n",
      "    version_info = sys.version_info(major=3, minor=8, micro=3, releaseleve...\n",
      "    warnoptions = []\n",
      "    winver = '3.8'\n",
      "\n",
      "FILE\n",
      "    (built-in)\n",
      "\n",
      "\n"
     ]
    }
   ],
   "source": [
    "help(sys)"
   ]
  },
  {
   "cell_type": "code",
   "execution_count": 16,
   "metadata": {},
   "outputs": [
    {
     "data": {
      "text/plain": [
       "'win32'"
      ]
     },
     "execution_count": 16,
     "metadata": {},
     "output_type": "execute_result"
    }
   ],
   "source": [
    "sys.platform"
   ]
  },
  {
   "cell_type": "code",
   "execution_count": 17,
   "metadata": {},
   "outputs": [
    {
     "data": {
      "text/plain": [
       "'C:\\\\Users\\\\91973\\\\Anaconda3\\\\python.exe'"
      ]
     },
     "execution_count": 17,
     "metadata": {},
     "output_type": "execute_result"
    }
   ],
   "source": [
    "sys.executable"
   ]
  },
  {
   "cell_type": "code",
   "execution_count": null,
   "metadata": {},
   "outputs": [],
   "source": [
    "sys.path"
   ]
  },
  {
   "cell_type": "code",
   "execution_count": 18,
   "metadata": {},
   "outputs": [
    {
     "data": {
      "text/plain": [
       "'little'"
      ]
     },
     "execution_count": 18,
     "metadata": {},
     "output_type": "execute_result"
    }
   ],
   "source": [
    "sys.byteorder"
   ]
  },
  {
   "cell_type": "code",
   "execution_count": null,
   "metadata": {},
   "outputs": [],
   "source": []
  },
  {
   "cell_type": "code",
   "execution_count": 19,
   "metadata": {},
   "outputs": [
    {
     "data": {
      "text/plain": [
       "['C:\\\\Users\\\\91973\\\\Anaconda3\\\\lib\\\\site-packages\\\\ipykernel_launcher.py',\n",
       " '-f',\n",
       " 'C:\\\\Users\\\\91973\\\\AppData\\\\Roaming\\\\jupyter\\\\runtime\\\\kernel-30f77a34-2e25-4b58-9597-2af250595615.json']"
      ]
     },
     "execution_count": 19,
     "metadata": {},
     "output_type": "execute_result"
    }
   ],
   "source": [
    "sys.argv"
   ]
  },
  {
   "cell_type": "markdown",
   "metadata": {},
   "source": [
    "Commandline parameter"
   ]
  },
  {
   "cell_type": "code",
   "execution_count": 24,
   "metadata": {},
   "outputs": [],
   "source": [
    "import os"
   ]
  },
  {
   "cell_type": "code",
   "execution_count": 25,
   "metadata": {},
   "outputs": [
    {
     "data": {
      "text/plain": [
       "['DirEntry',\n",
       " 'F_OK',\n",
       " 'MutableMapping',\n",
       " 'O_APPEND',\n",
       " 'O_BINARY',\n",
       " 'O_CREAT',\n",
       " 'O_EXCL',\n",
       " 'O_NOINHERIT',\n",
       " 'O_RANDOM',\n",
       " 'O_RDONLY',\n",
       " 'O_RDWR',\n",
       " 'O_SEQUENTIAL',\n",
       " 'O_SHORT_LIVED',\n",
       " 'O_TEMPORARY',\n",
       " 'O_TEXT',\n",
       " 'O_TRUNC',\n",
       " 'O_WRONLY',\n",
       " 'P_DETACH',\n",
       " 'P_NOWAIT',\n",
       " 'P_NOWAITO',\n",
       " 'P_OVERLAY',\n",
       " 'P_WAIT',\n",
       " 'PathLike',\n",
       " 'R_OK',\n",
       " 'SEEK_CUR',\n",
       " 'SEEK_END',\n",
       " 'SEEK_SET',\n",
       " 'TMP_MAX',\n",
       " 'W_OK',\n",
       " 'X_OK',\n",
       " '_AddedDllDirectory',\n",
       " '_Environ',\n",
       " '__all__',\n",
       " '__builtins__',\n",
       " '__cached__',\n",
       " '__doc__',\n",
       " '__file__',\n",
       " '__loader__',\n",
       " '__name__',\n",
       " '__package__',\n",
       " '__spec__',\n",
       " '_check_methods',\n",
       " '_execvpe',\n",
       " '_exists',\n",
       " '_exit',\n",
       " '_fspath',\n",
       " '_get_exports_list',\n",
       " '_putenv',\n",
       " '_unsetenv',\n",
       " '_wrap_close',\n",
       " 'abc',\n",
       " 'abort',\n",
       " 'access',\n",
       " 'add_dll_directory',\n",
       " 'altsep',\n",
       " 'chdir',\n",
       " 'chmod',\n",
       " 'close',\n",
       " 'closerange',\n",
       " 'cpu_count',\n",
       " 'curdir',\n",
       " 'defpath',\n",
       " 'device_encoding',\n",
       " 'devnull',\n",
       " 'dup',\n",
       " 'dup2',\n",
       " 'environ',\n",
       " 'error',\n",
       " 'execl',\n",
       " 'execle',\n",
       " 'execlp',\n",
       " 'execlpe',\n",
       " 'execv',\n",
       " 'execve',\n",
       " 'execvp',\n",
       " 'execvpe',\n",
       " 'extsep',\n",
       " 'fdopen',\n",
       " 'fsdecode',\n",
       " 'fsencode',\n",
       " 'fspath',\n",
       " 'fstat',\n",
       " 'fsync',\n",
       " 'ftruncate',\n",
       " 'get_exec_path',\n",
       " 'get_handle_inheritable',\n",
       " 'get_inheritable',\n",
       " 'get_terminal_size',\n",
       " 'getcwd',\n",
       " 'getcwdb',\n",
       " 'getenv',\n",
       " 'getlogin',\n",
       " 'getpid',\n",
       " 'getppid',\n",
       " 'isatty',\n",
       " 'kill',\n",
       " 'linesep',\n",
       " 'link',\n",
       " 'listdir',\n",
       " 'lseek',\n",
       " 'lstat',\n",
       " 'makedirs',\n",
       " 'mkdir',\n",
       " 'name',\n",
       " 'open',\n",
       " 'pardir',\n",
       " 'path',\n",
       " 'pathsep',\n",
       " 'pipe',\n",
       " 'popen',\n",
       " 'putenv',\n",
       " 'read',\n",
       " 'readlink',\n",
       " 'remove',\n",
       " 'removedirs',\n",
       " 'rename',\n",
       " 'renames',\n",
       " 'replace',\n",
       " 'rmdir',\n",
       " 'scandir',\n",
       " 'sep',\n",
       " 'set_handle_inheritable',\n",
       " 'set_inheritable',\n",
       " 'spawnl',\n",
       " 'spawnle',\n",
       " 'spawnv',\n",
       " 'spawnve',\n",
       " 'st',\n",
       " 'startfile',\n",
       " 'stat',\n",
       " 'stat_result',\n",
       " 'statvfs_result',\n",
       " 'strerror',\n",
       " 'supports_bytes_environ',\n",
       " 'supports_dir_fd',\n",
       " 'supports_effective_ids',\n",
       " 'supports_fd',\n",
       " 'supports_follow_symlinks',\n",
       " 'symlink',\n",
       " 'sys',\n",
       " 'system',\n",
       " 'terminal_size',\n",
       " 'times',\n",
       " 'times_result',\n",
       " 'truncate',\n",
       " 'umask',\n",
       " 'uname_result',\n",
       " 'unlink',\n",
       " 'urandom',\n",
       " 'utime',\n",
       " 'waitpid',\n",
       " 'walk',\n",
       " 'write']"
      ]
     },
     "execution_count": 25,
     "metadata": {},
     "output_type": "execute_result"
    }
   ],
   "source": [
    "dir(os)"
   ]
  },
  {
   "cell_type": "code",
   "execution_count": 26,
   "metadata": {},
   "outputs": [
    {
     "data": {
      "text/plain": [
       "'C:\\\\Users\\\\91973\\\\Python_Training'"
      ]
     },
     "execution_count": 26,
     "metadata": {},
     "output_type": "execute_result"
    }
   ],
   "source": [
    "# help(os)\n",
    "os.getcwd()# pwd in linux"
   ]
  },
  {
   "cell_type": "code",
   "execution_count": 27,
   "metadata": {},
   "outputs": [
    {
     "data": {
      "text/plain": [
       "['.ipynb_checkpoints',\n",
       " '01+datatype.png',\n",
       " '01_basicDataType.py',\n",
       " '01_Basic_Data_type.ipynb',\n",
       " '01_C_Compilation.png',\n",
       " '01_DataType.png',\n",
       " '01_Division.gif',\n",
       " '01_Introduction.ipynb',\n",
       " '01_JavaCompilation.png',\n",
       " '01_OOP_Circle_.png',\n",
       " '02_Rectangle.png',\n",
       " '02_String.ipynb',\n",
       " '03_List.ipynb',\n",
       " '03_UserInput.ipynb',\n",
       " '03__Employee.png',\n",
       " '04_Conditions.ipynb',\n",
       " '04_Time.png',\n",
       " '05_Forloop.png',\n",
       " '05_Loops.ipynb',\n",
       " '05_set_union_b.png',\n",
       " '05_WhilerLoop.jpg',\n",
       " '07_Tuple.ipynb',\n",
       " '08_Sets.ipynb',\n",
       " '08_Sets.jpg',\n",
       " '08_Sets1.jpg',\n",
       " '09_Dictionary.ipynb',\n",
       " '10_FileHandling.ipynb',\n",
       " '11_Functions.ipynb',\n",
       " '12_Class.ipynb',\n",
       " '13_hr.py',\n",
       " '13_Inhrtitance.ipynb',\n",
       " '14_Exception.ipynb',\n",
       " '14_Misleneous_ModuleExample.ipynb',\n",
       " '14_Module.ipynb',\n",
       " '15_Database.ipynb',\n",
       " '16_Json.ipynb',\n",
       " '17_DocTest.ipynb',\n",
       " '18_Request_Module.ipynb',\n",
       " '25_CommandlineArg.py',\n",
       " '2ord7hqoz0g.zip',\n",
       " '775_m8_gui_app_v1.0.ipynb',\n",
       " '775_m8_in_class_codes_v1.0.ipynb',\n",
       " '8v4mqr1qvbj.rar',\n",
       " 'advance2',\n",
       " 'API_ILO_country_YU.csv',\n",
       " 'Best Secure Ptactice.ipynb',\n",
       " 'capegemini.ipynb',\n",
       " 'ClassStaticMethod.ipynb',\n",
       " 'country_data.xml',\n",
       " 'Data Science',\n",
       " 'data.yaml',\n",
       " 'default-soapui-workspace.xml',\n",
       " 'DSA',\n",
       " 'employee_file.csv',\n",
       " 'employee_file123.csv',\n",
       " 'employee_file12334.csv',\n",
       " 'employee_file123e34.csv',\n",
       " 'employee_file1test.csv',\n",
       " 'employee_file2.csv',\n",
       " 'employee_file456.csv',\n",
       " 'employee_file4561.csv',\n",
       " 'employee_file4666.csv',\n",
       " 'Enum.ipynb',\n",
       " 'firstnotebook.ipynb',\n",
       " 'Graph-Matplotlib-tutorial.jpg',\n",
       " 'hrdata_modified.csv',\n",
       " 'ic-class-explosion.a3d42b8c9b91.jpg',\n",
       " 'ic-initial-employee-inheritance.jpg',\n",
       " 'infinerafirst.ipynb',\n",
       " 'interface.ipynb',\n",
       " 'intersection-in-python.jpg',\n",
       " 'Interview.ipynb',\n",
       " 'items.yaml',\n",
       " 'Json.jpg',\n",
       " 'Json1.jpg',\n",
       " 'jsontut.ipynb',\n",
       " 'MatplotGraph1-Python-Matplotlib-Edureka-768x644.png',\n",
       " 'Matplotlibs_tutorial.ipynb',\n",
       " 'mod.py',\n",
       " 'mod1.py',\n",
       " 'Module.py.ipynb',\n",
       " 'Module1.py',\n",
       " 'movies.xml',\n",
       " 'MultiDimensionalArray.jpeg',\n",
       " 'MultipleInheritance.jpg',\n",
       " 'multiplication.png',\n",
       " 'Multithreading.ipynb',\n",
       " 'myfirstnotebook.ipynb',\n",
       " 'Networking.ipynb',\n",
       " 'Numpy_Introduction.ipynb',\n",
       " 'Operator and Function overloading.ipynb',\n",
       " 'output.txt',\n",
       " 'output.xml',\n",
       " 'output1.txt',\n",
       " 'output12.txt',\n",
       " 'output_DATA_NEWS_23.csv',\n",
       " 'output_file.txt',\n",
       " 'package.ipynb',\n",
       " 'panda.ipynb',\n",
       " 'Panda_intro.ipynb',\n",
       " 'pdbExample.py',\n",
       " 'PDB_Debugger.ipynb',\n",
       " 'PDF_Python_Tricks_A_Buffet_Of_Awesome_Py.pdf',\n",
       " 'plusoperator.png',\n",
       " 'Quindle.ipynb',\n",
       " 'Reference.jpg',\n",
       " 'Reference1.png',\n",
       " 'Reference2.jpg',\n",
       " 'rosen.png',\n",
       " 'sample.xml',\n",
       " 'Scipy_Intro.ipynb',\n",
       " 'Selenium',\n",
       " 'SeleniumPythonTestSummary_preeti.html',\n",
       " 'Session 1.1 - Python-Installation and Basics.ipynb',\n",
       " 'Session 1.2 - String and list Objects.ipynb',\n",
       " 'Session2.1_Containers and Functions.ipynb',\n",
       " 'session2.2_Object Oriented Programming and File IO.ipynb',\n",
       " 'session3.1_Module Exceptions and Database programming_final.ipynb',\n",
       " 'sitephoto.jpg',\n",
       " 'soapui-settings.xml',\n",
       " 'SysAdmin.ipynb',\n",
       " 'test.py',\n",
       " 'Time_Space_Complexity.ipynb',\n",
       " 'Tkinter.ipynb',\n",
       " 'Untitled.ipynb',\n",
       " 'Untitled.jpg',\n",
       " 'Untitled1.ipynb',\n",
       " 'untitled1.py',\n",
       " 'Untitled10.ipynb',\n",
       " 'Untitled11.ipynb',\n",
       " 'Untitled12.ipynb',\n",
       " 'Untitled13.ipynb',\n",
       " 'Untitled14.ipynb',\n",
       " 'Untitled15.ipynb',\n",
       " 'Untitled16.ipynb',\n",
       " 'Untitled17.ipynb',\n",
       " 'Untitled18.ipynb',\n",
       " 'Untitled19.ipynb',\n",
       " 'Untitled2.ipynb',\n",
       " 'Untitled20.ipynb',\n",
       " 'Untitled21.ipynb',\n",
       " 'Untitled22.ipynb',\n",
       " 'Untitled3.ipynb',\n",
       " 'Untitled4.ipynb',\n",
       " 'Untitled5.ipynb',\n",
       " 'Untitled6.ipynb',\n",
       " 'Untitled7.ipynb',\n",
       " 'Untitled8.ipynb',\n",
       " 'Untitled9.ipynb',\n",
       " 'users.yaml',\n",
       " 'util.py',\n",
       " 'world-bank-youth-unemployment.zip',\n",
       " 'XML.ipynb',\n",
       " 'ymlhandling.ipynb',\n",
       " '__pycache__']"
      ]
     },
     "execution_count": 27,
     "metadata": {},
     "output_type": "execute_result"
    }
   ],
   "source": [
    "os.listdir() # dir in windows or ls in linux"
   ]
  },
  {
   "cell_type": "code",
   "execution_count": null,
   "metadata": {},
   "outputs": [],
   "source": [
    "os.mkdir('C:\\\\Users\\\\assharma\\\\test212')"
   ]
  },
  {
   "cell_type": "code",
   "execution_count": null,
   "metadata": {},
   "outputs": [],
   "source": [
    "os.chdir('C:\\\\Users\\\\assharma\\\\test212')\n",
    "os.getcwd()"
   ]
  },
  {
   "cell_type": "code",
   "execution_count": null,
   "metadata": {},
   "outputs": [],
   "source": [
    "dir(os)"
   ]
  },
  {
   "cell_type": "code",
   "execution_count": null,
   "metadata": {},
   "outputs": [],
   "source": [
    "os.getpid()"
   ]
  },
  {
   "cell_type": "code",
   "execution_count": null,
   "metadata": {},
   "outputs": [],
   "source": [
    "os.chdir('C:\\\\Users\\\\assharma\\\\')\n",
    "os.rename('C:\\\\Users\\\\assharma\\\\test212','C:\\\\Users\\\\assharma\\\\test19331111')"
   ]
  },
  {
   "cell_type": "code",
   "execution_count": null,
   "metadata": {},
   "outputs": [],
   "source": [
    "os.rmdir('C:\\\\Users\\\\assharma\\\\test19331111')# os.chmod('C:\\\\Users\\\\assharma\\\\test12',777)"
   ]
  },
  {
   "cell_type": "code",
   "execution_count": null,
   "metadata": {},
   "outputs": [],
   "source": [
    "os.chmod('C:\\\\Users\\\\assharma\\\\test',777)  7 -- read write and exeucte"
   ]
  },
  {
   "cell_type": "code",
   "execution_count": null,
   "metadata": {},
   "outputs": [],
   "source": [
    "# os.system(\"shutdown /s /t 1\")\n",
    "# os.system(\"shutdown /r /t 1\")"
   ]
  },
  {
   "cell_type": "code",
   "execution_count": null,
   "metadata": {},
   "outputs": [],
   "source": [
    "# import os\n",
    "# dir(os)\n",
    "# print(os.getenviorn)\n",
    "# stage = os.environ[\"STAGE\"].upper()\n",
    "# print(stage)\n",
    "# output = f\"We're running in {stage}\"\n",
    "# if stage.startswith(\"PROD\"):\n",
    "#     output = \"DANGER!!! - \" + output\n",
    "#     print(output)"
   ]
  },
  {
   "cell_type": "code",
   "execution_count": null,
   "metadata": {},
   "outputs": [],
   "source": [
    "import os\n",
    "stage = os.getenv(\"Path\", \"dev\").upper()\n",
    "print(stage)"
   ]
  },
  {
   "cell_type": "code",
   "execution_count": null,
   "metadata": {},
   "outputs": [],
   "source": [
    "import os\n",
    "stage = os.getenv(\"STAGE\", \"dev\").upper()\n",
    "print(stage)\n",
    "output = f\"We're running in {stage}\"\n",
    "if stage.startswith(\"PROD\"):\n",
    "    output = \"DANGER!!! - \" + output\n",
    "print(output)"
   ]
  },
  {
   "cell_type": "code",
   "execution_count": null,
   "metadata": {},
   "outputs": [],
   "source": [
    "os.environ[\"STAGE\"]=\"dev\""
   ]
  },
  {
   "cell_type": "code",
   "execution_count": null,
   "metadata": {},
   "outputs": [],
   "source": [
    "import subprocess\n",
    "import os\n",
    "result = subprocess.run(['lsof', '-n', \"-i4TCP:%s\" % 80],stdout=subprocess.PIPE,stderr=subprocess.PIPE)\n",
    "print(result)"
   ]
  },
  {
   "cell_type": "code",
   "execution_count": 36,
   "metadata": {},
   "outputs": [
    {
     "name": "stdout",
     "output_type": "stream",
     "text": [
      "Port: 80 => service name: http\n",
      "Port: 25 => service name: smtp\n",
      "Port: 53 => service name: domain\n"
     ]
    }
   ],
   "source": [
    "import socket \n",
    "# help(socket)\n",
    "# print(socket.__file__)\n",
    "def find_service_name(): \n",
    "    protocolname = 'tcp' \n",
    "    for port in [80, 25]: \n",
    "        print (\"Port: %s => service name: %s\" %(port, socket.getservbyport(port, protocolname))) \n",
    "     \n",
    "    print (\"Port: %s => service name: %s\" %(53, socket.getservbyport(53, 'udp'))) \n",
    "      \n",
    "find_service_name() "
   ]
  },
  {
   "cell_type": "markdown",
   "metadata": {},
   "source": [
    "\n",
    "#### MATH Module"
   ]
  },
  {
   "cell_type": "code",
   "execution_count": 37,
   "metadata": {},
   "outputs": [],
   "source": [
    "import math"
   ]
  },
  {
   "cell_type": "code",
   "execution_count": 38,
   "metadata": {},
   "outputs": [
    {
     "data": {
      "text/plain": [
       "['__doc__',\n",
       " '__loader__',\n",
       " '__name__',\n",
       " '__package__',\n",
       " '__spec__',\n",
       " 'acos',\n",
       " 'acosh',\n",
       " 'asin',\n",
       " 'asinh',\n",
       " 'atan',\n",
       " 'atan2',\n",
       " 'atanh',\n",
       " 'ceil',\n",
       " 'comb',\n",
       " 'copysign',\n",
       " 'cos',\n",
       " 'cosh',\n",
       " 'degrees',\n",
       " 'dist',\n",
       " 'e',\n",
       " 'erf',\n",
       " 'erfc',\n",
       " 'exp',\n",
       " 'expm1',\n",
       " 'fabs',\n",
       " 'factorial',\n",
       " 'floor',\n",
       " 'fmod',\n",
       " 'frexp',\n",
       " 'fsum',\n",
       " 'gamma',\n",
       " 'gcd',\n",
       " 'hypot',\n",
       " 'inf',\n",
       " 'isclose',\n",
       " 'isfinite',\n",
       " 'isinf',\n",
       " 'isnan',\n",
       " 'isqrt',\n",
       " 'ldexp',\n",
       " 'lgamma',\n",
       " 'log',\n",
       " 'log10',\n",
       " 'log1p',\n",
       " 'log2',\n",
       " 'modf',\n",
       " 'nan',\n",
       " 'perm',\n",
       " 'pi',\n",
       " 'pow',\n",
       " 'prod',\n",
       " 'radians',\n",
       " 'remainder',\n",
       " 'sin',\n",
       " 'sinh',\n",
       " 'sqrt',\n",
       " 'tan',\n",
       " 'tanh',\n",
       " 'tau',\n",
       " 'trunc']"
      ]
     },
     "execution_count": 38,
     "metadata": {},
     "output_type": "execute_result"
    }
   ],
   "source": [
    "dir(math)"
   ]
  },
  {
   "cell_type": "code",
   "execution_count": 39,
   "metadata": {},
   "outputs": [
    {
     "name": "stdout",
     "output_type": "stream",
     "text": [
      "0.6674572160283838\n"
     ]
    }
   ],
   "source": [
    "print (math.acos(math.pi/4))"
   ]
  },
  {
   "cell_type": "code",
   "execution_count": 40,
   "metadata": {},
   "outputs": [
    {
     "name": "stdout",
     "output_type": "stream",
     "text": [
      "0.9033391107665127\n"
     ]
    }
   ],
   "source": [
    "print (math.asin(math.pi/4))"
   ]
  },
  {
   "cell_type": "code",
   "execution_count": 41,
   "metadata": {},
   "outputs": [
    {
     "name": "stdout",
     "output_type": "stream",
     "text": [
      "10.0\n"
     ]
    }
   ],
   "source": [
    "print (math.log(1024,2))"
   ]
  },
  {
   "cell_type": "code",
   "execution_count": 42,
   "metadata": {},
   "outputs": [
    {
     "name": "stdout",
     "output_type": "stream",
     "text": [
      "23\n"
     ]
    }
   ],
   "source": [
    "print (math.trunc(23.000))"
   ]
  },
  {
   "cell_type": "markdown",
   "metadata": {},
   "source": [
    "#### Random Module"
   ]
  },
  {
   "cell_type": "code",
   "execution_count": 44,
   "metadata": {},
   "outputs": [],
   "source": [
    "import random\n",
    "# dir(random)"
   ]
  },
  {
   "cell_type": "code",
   "execution_count": 49,
   "metadata": {},
   "outputs": [
    {
     "data": {
      "text/plain": [
       "443"
      ]
     },
     "execution_count": 49,
     "metadata": {},
     "output_type": "execute_result"
    }
   ],
   "source": [
    "a= random.choice([1,2,3,5,4,444,4,45,443])\n",
    "a"
   ]
  },
  {
   "cell_type": "code",
   "execution_count": 51,
   "metadata": {},
   "outputs": [
    {
     "data": {
      "text/plain": [
       "1"
      ]
     },
     "execution_count": 51,
     "metadata": {},
     "output_type": "execute_result"
    }
   ],
   "source": [
    "random.randrange(6)"
   ]
  },
  {
   "cell_type": "code",
   "execution_count": null,
   "metadata": {},
   "outputs": [],
   "source": [
    "help(random)"
   ]
  },
  {
   "cell_type": "code",
   "execution_count": 53,
   "metadata": {},
   "outputs": [
    {
     "data": {
      "text/plain": [
       "1.111552348981911"
      ]
     },
     "execution_count": 53,
     "metadata": {},
     "output_type": "execute_result"
    }
   ],
   "source": [
    "# random.randint(1.0,2.0)\n",
    "random.uniform(1, 5)"
   ]
  },
  {
   "cell_type": "code",
   "execution_count": 54,
   "metadata": {},
   "outputs": [
    {
     "data": {
      "text/plain": [
       "[1745927,\n",
       " 5668426,\n",
       " 8513802,\n",
       " 4093818,\n",
       " 2396752,\n",
       " 9222327,\n",
       " 7505584,\n",
       " 913691,\n",
       " 9018976,\n",
       " 8501617,\n",
       " 4143908,\n",
       " 3692170,\n",
       " 4640975,\n",
       " 650980,\n",
       " 5670499,\n",
       " 1059066,\n",
       " 4082477,\n",
       " 7735476,\n",
       " 773707,\n",
       " 1663301,\n",
       " 8153082,\n",
       " 1788940,\n",
       " 8149046,\n",
       " 2737922,\n",
       " 3388069,\n",
       " 1649694,\n",
       " 320879,\n",
       " 1854283,\n",
       " 8876566,\n",
       " 8509736,\n",
       " 6446184,\n",
       " 8804480,\n",
       " 8448441,\n",
       " 4560891,\n",
       " 9415437,\n",
       " 8263900,\n",
       " 7134070,\n",
       " 5315292,\n",
       " 7235535,\n",
       " 1591987,\n",
       " 5794670,\n",
       " 660172,\n",
       " 3937839,\n",
       " 2084267,\n",
       " 1200789,\n",
       " 7493295,\n",
       " 676005,\n",
       " 2574877,\n",
       " 9551897,\n",
       " 8227955,\n",
       " 8360272,\n",
       " 3897851,\n",
       " 7381461,\n",
       " 5440246,\n",
       " 8142197,\n",
       " 6328353,\n",
       " 373046,\n",
       " 8581317,\n",
       " 1266444,\n",
       " 3138970]"
      ]
     },
     "execution_count": 54,
     "metadata": {},
     "output_type": "execute_result"
    }
   ],
   "source": [
    "random.sample(range(10000000), 60)\n",
    "#          |      Chooses k unique random elements from a population sequence or set."
   ]
  },
  {
   "cell_type": "code",
   "execution_count": 55,
   "metadata": {},
   "outputs": [
    {
     "data": {
      "text/plain": [
       "['_STRUCT_TM_ITEMS',\n",
       " '__doc__',\n",
       " '__loader__',\n",
       " '__name__',\n",
       " '__package__',\n",
       " '__spec__',\n",
       " 'altzone',\n",
       " 'asctime',\n",
       " 'ctime',\n",
       " 'daylight',\n",
       " 'get_clock_info',\n",
       " 'gmtime',\n",
       " 'localtime',\n",
       " 'mktime',\n",
       " 'monotonic',\n",
       " 'monotonic_ns',\n",
       " 'perf_counter',\n",
       " 'perf_counter_ns',\n",
       " 'process_time',\n",
       " 'process_time_ns',\n",
       " 'sleep',\n",
       " 'strftime',\n",
       " 'strptime',\n",
       " 'struct_time',\n",
       " 'thread_time',\n",
       " 'thread_time_ns',\n",
       " 'time',\n",
       " 'time_ns',\n",
       " 'timezone',\n",
       " 'tzname']"
      ]
     },
     "execution_count": 55,
     "metadata": {},
     "output_type": "execute_result"
    }
   ],
   "source": [
    "# random.sample(range(20), 5)\n",
    "import time\n",
    "dir(time)"
   ]
  },
  {
   "cell_type": "code",
   "execution_count": 56,
   "metadata": {},
   "outputs": [],
   "source": [
    "import datetime"
   ]
  },
  {
   "cell_type": "code",
   "execution_count": null,
   "metadata": {},
   "outputs": [],
   "source": [
    "# dir(datetime)\n",
    "print(\"a)"
   ]
  },
  {
   "cell_type": "code",
   "execution_count": null,
   "metadata": {},
   "outputs": [],
   "source": [
    "# help(datetime)\n",
    "# print(tzinfo)\n",
    "dir(datetime)"
   ]
  },
  {
   "cell_type": "code",
   "execution_count": 57,
   "metadata": {},
   "outputs": [
    {
     "name": "stdout",
     "output_type": "stream",
     "text": [
      "before sleep\n",
      "after sleep\n"
     ]
    }
   ],
   "source": [
    "from time import sleep\n",
    "print( \"before sleep\")\n",
    "sleep(10)\n",
    "print(\"after sleep\")\n",
    "# help(sleep)\n",
    "# import time\n",
    "# time.__file__"
   ]
  },
  {
   "cell_type": "code",
   "execution_count": 58,
   "metadata": {},
   "outputs": [
    {
     "name": "stdout",
     "output_type": "stream",
     "text": [
      "Help on module mod:\n",
      "\n",
      "NAME\n",
      "    mod\n",
      "\n",
      "CLASSES\n",
      "    builtins.object\n",
      "        Foo\n",
      "    \n",
      "    class Foo(builtins.object)\n",
      "     |  docstring\n",
      "     |  \n",
      "     |  Data descriptors defined here:\n",
      "     |  \n",
      "     |  __dict__\n",
      "     |      dictionary for instance variables (if defined)\n",
      "     |  \n",
      "     |  __weakref__\n",
      "     |      list of weak references to the object (if defined)\n",
      "\n",
      "FUNCTIONS\n",
      "    foo(arg)\n",
      "        docstring\n",
      "\n",
      "DATA\n",
      "    a = [100, 200, 300]\n",
      "    s = 'If Comrade Napoleon says it, it must be right.'\n",
      "\n",
      "FILE\n",
      "    c:\\users\\91973\\python_training\\mod.py\n",
      "\n",
      "\n"
     ]
    }
   ],
   "source": [
    "import mod\n",
    "# print (mod.stringModule)\n",
    "# print(type(mod.a))\n",
    "help(mod)\n",
    "# print(mod.__doc__)\n",
    "# print(\"type of \",type(mod.foo(2)))"
   ]
  },
  {
   "cell_type": "code",
   "execution_count": 59,
   "metadata": {},
   "outputs": [
    {
     "name": "stdout",
     "output_type": "stream",
     "text": [
      "\n",
      "Please wait a moment while I gather a list of all available modules...\n",
      "\n",
      "helo\n"
     ]
    },
    {
     "name": "stderr",
     "output_type": "stream",
     "text": [
      "C:\\Users\\91973\\Anaconda3\\lib\\site-packages\\IPython\\kernel\\__init__.py:12: ShimWarning: The `IPython.kernel` package has been deprecated since IPython 4.0.You should import from ipykernel or jupyter_client instead.\n",
      "  warn(\"The `IPython.kernel` package has been deprecated since IPython 4.0.\"\n",
      "C:\\Users\\91973\\Anaconda3\\lib\\site-packages\\nltk\\twitter\\__init__.py:21: UserWarning: The twython library has not been installed. Some functionality from the twitter package will not be available.\n",
      "  warnings.warn(\n",
      "C:\\Users\\91973\\Anaconda3\\lib\\site-packages\\setuptools\\distutils_patch.py:25: UserWarning: Distutils was imported before Setuptools. This usage is discouraged and may exhibit undesirable behaviors or errors. Please use Setuptools' objects directly or at least import Setuptools first.\n",
      "  warnings.warn(\n",
      "C:\\Users\\91973\\Anaconda3\\lib\\site-packages\\skimage\\viewer\\utils\\__init__.py:1: UserWarning: Recommended matplotlib backend is `Agg` for full skimage.viewer functionality.\n",
      "  from .core import *\n",
      "C:\\Users\\91973\\Anaconda3\\lib\\site-packages\\qtawesome\\iconic_font.py:312: UserWarning: You need to have a running QApplication to use QtAwesome!\n",
      "  warnings.warn(\"You need to have a running \"\n"
     ]
    },
    {
     "name": "stdout",
     "output_type": "stream",
     "text": [
      "_cffi_ext.c\r\n",
      "C:\\Users\\91973\\Anaconda3\\lib\\site-packages\\zmq\\backend\\cffi\\__pycache__\\_cffi_ext.c(266): fatal error C1083: Cannot open include file: 'sys/un.h': No such file or directory\r\n"
     ]
    },
    {
     "name": "stderr",
     "output_type": "stream",
     "text": [
      "C:\\Users\\91973\\Anaconda3\\lib\\pkgutil.py:107: VisibleDeprecationWarning: zmq.eventloop.minitornado is deprecated in pyzmq 14.0 and will be removed.\n",
      "    Install tornado itself to use zmq with the tornado IOLoop.\n",
      "    \n",
      "  yield from walk_packages(path, info.name+'.', onerror)\n"
     ]
    },
    {
     "name": "stdout",
     "output_type": "stream",
     "text": [
      "01_basicDataType    brain_responses     matplotlib          socks\n",
      "13_hr               brain_scipy_signal  mccabe              sockshandler\n",
      "25_CommandlineArg   brain_six           menuinst            sortedcollections\n",
      "Cython              brain_ssl           mimetypes           sortedcontainers\n",
      "IPython             brain_subprocess    mistune             soupsieve\n",
      "Module1             brain_threading     mkl                 sphinx\n",
      "OpenSSL             brain_typing        mkl_fft             sphinxcontrib\n",
      "PIL                 brain_uuid          mkl_random          spyder\n",
      "PyQt5               brotli              mmap                spyder_kernels\n",
      "__future__          bs4                 mmapfile            sqlalchemy\n",
      "_abc                builtins            mmsystem            sqlite3\n",
      "_ast                bz2                 mock                sre_compile\n",
      "_asyncio            cProfile            mod                 sre_constants\n",
      "_bisect             calendar            mod1                sre_parse\n",
      "_blake2             certifi             modulefinder        ssl\n",
      "_bootlocale         cffi                more_itertools      sspi\n",
      "_bz2                cgi                 mpmath              sspicon\n",
      "_cffi_backend       cgitb               msgpack             stat\n",
      "_codecs             chardet             msilib              statistics\n",
      "_codecs_cn          chunk               msvcrt              statsmodels\n",
      "_codecs_hk          click               multidict           storemagic\n",
      "_codecs_iso2022     cloudpickle         multipledispatch    string\n",
      "_codecs_jp          clyent              multiprocessing     stringprep\n",
      "_codecs_kr          cmath               nacl                struct\n",
      "_codecs_tw          cmd                 navigator_updater   subprocess\n",
      "_collections        code                nbconvert           sunau\n",
      "_collections_abc    codecs              nbformat            symbol\n",
      "_compat_pickle      codeop              netbios             sympy\n",
      "_compression        collections         netrc               sympyprinting\n",
      "_contextvars        colorama            networkx            symtable\n",
      "_csv                colorsys            nltk                sys\n",
      "_ctypes             commctrl            nntplib             sysconfig\n",
      "_ctypes_test        compileall          nose                tables\n",
      "_datetime           comtypes            notebook            tabnanny\n",
      "_decimal            concurrent          nt                  tarfile\n",
      "_dummy_thread       conda               ntpath              tblib\n",
      "_elementtree        conda_build         ntsecuritycon       telnetlib\n",
      "_functools          conda_env           nturl2path          tempfile\n",
      "_hashlib            conda_package_handling numba               terminado\n",
      "_heapq              conda_verify        numbers             test\n",
      "_imp                configparser        numexpr             test_data\n",
      "_io                 contextlib          numpy               test_pycosat\n",
      "_json               contextlib2         numpydoc            testpath\n",
      "_locale             contextvars         odbc                tests\n",
      "_lsprof             copy                olefile             textwrap\n",
      "_lzma               copyreg             opcode              this\n",
      "_markupbase         crypt               openpyxl            threading\n",
      "_md5                cryptography        operator            threadpoolctl\n",
      "_msi                csv                 optparse            time\n",
      "_multibytecodec     ctypes              os                  timeit\n",
      "_multiprocessing    curl                packaging           timer\n",
      "_nsis               curses              pandas              tkinter\n",
      "_opcode             cwp                 pandocfilters       tlz\n",
      "_operator           cycler              paramiko            token\n",
      "_osx_support        cython              parser              tokenize\n",
      "_overlapped         cythonmagic         parso               toml\n",
      "_pickle             cytoolz             partd               toolz\n",
      "_py_abc             dask                past                tornado\n",
      "_pydecimal          dataclasses         path                tqdm\n",
      "_pyio               datetime            pathlib             trace\n",
      "_pyrsistent_version dateutil            pathlib2            traceback\n",
      "_pytest             dbi                 pathtools           tracemalloc\n",
      "_queue              dbm                 patsy               traitlets\n",
      "_random             dde                 pdb                 tty\n",
      "_sha1               decimal             pdbExample          turtle\n",
      "_sha256             decorator           pep8                turtledemo\n",
      "_sha3               defusedxml          perfmon             types\n",
      "_sha512             diff_match_patch    pexpect             typing\n",
      "_signal             difflib             pickle              typing_extensions\n",
      "_sitebuiltins       dis                 pickleshare         ujson\n",
      "_socket             distributed         pickletools         unicodecsv\n",
      "_sqlite3            distutils           pip                 unicodedata\n",
      "_sre                doctest             pipes               unittest\n",
      "_ssl                docutils            pkg_resources       untitled1\n",
      "_stat               dummy_threading     pkginfo             urllib\n",
      "_statistics         easy_install        pkgutil             urllib3\n",
      "_string             email               platform            util\n",
      "_strptime           encodings           plistlib            uu\n",
      "_struct             ensurepip           pluggy              uuid\n",
      "_symtable           entrypoints         ply                 vcr\n",
      "_system_path        enum                poplib              venv\n",
      "_testbuffer         errno               posixpath           warnings\n",
      "_testcapi           et_xmlfile          pprint              watchdog\n",
      "_testconsole        fastcache           profile             wave\n",
      "_testimportmultiple faulthandler        prometheus_client   wcwidth\n",
      "_testinternalcapi   filecmp             prompt_toolkit      weakref\n",
      "_testmultiphase     fileinput           pstats              webbrowser\n",
      "_thread             filelock            psutil              webencodings\n",
      "_threading_local    flake8              pty                 werkzeug\n",
      "_tkinter            flask               pvectorc            wheel\n",
      "_tracemalloc        fnmatch             py                  widgetsnbextension\n",
      "_warnings           formatter           py_compile          win2kras\n",
      "_weakref            fractions           pyclbr              win32api\n",
      "_weakrefset         fsspec              pycodestyle         win32clipboard\n",
      "_win32sysloader     ftplib              pycosat             win32com\n",
      "_winapi             functools           pycparser           win32con\n",
      "_winxptheme         future              pycurl              win32console\n",
      "_xxsubinterpreters  gc                  pydoc               win32cred\n",
      "_yaml               genericpath         pydoc_data          win32crypt\n",
      "abc                 getopt              pydocstyle          win32cryptcon\n",
      "adodbapi            getpass             pyexpat             win32ctypes\n",
      "afxres              gettext             pyflakes            win32event\n",
      "aifc                gevent              pygments            win32evtlog\n",
      "alabaster           glob                pylab               win32evtlogutil\n",
      "anaconda_navigator  glob2               pylint              win32file\n",
      "anaconda_project    gmpy2               pyls                win32gui\n",
      "antigravity         greenlet            pyls_jsonrpc        win32gui_struct\n",
      "argh                gzip                pyodbc              win32help\n",
      "argparse            h5py                pyparsing           win32inet\n",
      "array               hashlib             pyreadline          win32inetcon\n",
      "asn1crypto          heapdict            pyrsistent          win32job\n",
      "ast                 heapq               pytest              win32lz\n",
      "astroid             hmac                pythoncom           win32net\n",
      "astropy             html                pytz                win32netcon\n",
      "asynchat            html5lib            pywin               win32pdh\n",
      "asyncio             http                pywin32_bootstrap   win32pdhquery\n",
      "asyncore            idlelib             pywin32_testutil    win32pdhutil\n",
      "atexit              idna                pywintypes          win32pipe\n",
      "atomicwrites        imageio             pywt                win32print\n",
      "attr                imagesize           pyximport           win32process\n",
      "audioop             imaplib             qdarkstyle          win32profile\n",
      "autopep8            imghdr              qtawesome           win32ras\n",
      "autoreload          imp                 qtconsole           win32rcparser\n",
      "babel               importlib           qtpy                win32security\n",
      "backcall            importlib_metadata  queue               win32service\n",
      "backports           inspect             quopri              win32serviceutil\n",
      "base64              intervaltree        random              win32timezone\n",
      "bcrypt              io                  rasutil             win32trace\n",
      "bdb                 ipaddress           re                  win32traceutil\n",
      "binascii            ipykernel           readline            win32transaction\n",
      "binhex              ipykernel_launcher  regcheck            win32ts\n",
      "binstar_client      ipython_genutils    regex               win32ui\n",
      "bisect              ipywidgets          regutil             win32uiole\n",
      "bitarray            isapi               reprlib             win32verstamp\n",
      "bkcharts            isort               requests            win32wnet\n",
      "bleach              isympy              rlcompleter         win_inet_pton\n",
      "bokeh               itertools           rmagic              win_unicode_console\n",
      "boto                itsdangerous        rope                wincertstore\n",
      "bottleneck          jdcal               rtree               winerror\n",
      "brain_argparse      jedi                ruamel_yaml         winioctlcon\n",
      "brain_attrs         jinja2              run                 winnt\n",
      "brain_boto3         joblib              runpy               winperf\n",
      "brain_builtin_inference json                sched               winpty\n",
      "brain_collections   json5               scipy               winreg\n",
      "brain_crypt         jsonschema          scripts             winsound\n",
      "brain_curses        jupyter             seaborn             winxpgui\n",
      "brain_dataclasses   jupyter_client      secrets             winxptheme\n",
      "brain_dateutil      jupyter_console     select              wrapt\n",
      "brain_fstrings      jupyter_core        selectors           wsgiref\n",
      "brain_functools     jupyterlab          send2trash          xdrlib\n",
      "brain_gi            jupyterlab_server   servicemanager      xlrd\n",
      "brain_hashlib       keyring             setuptools          xlsxwriter\n",
      "brain_http          keyword             shelve              xlwings\n",
      "brain_io            kiwisolver          shlex               xlwt\n",
      "brain_mechanize     lazy_object_proxy   shutil              xml\n",
      "brain_multiprocessing lib2to3             signal              xmlrpc\n",
      "brain_namedtuple_enum libarchive          simplegeneric       xmltodict\n",
      "brain_nose          libfuturize         singledispatch      xxsubtype\n",
      "brain_numpy_core_fromnumeric libpasteurize       singledispatch_helpers yaml\n",
      "brain_numpy_core_function_base lief                sip                 yapf\n",
      "brain_numpy_core_multiarray linecache           sipconfig           yapftests\n",
      "brain_numpy_core_numeric llvmlite            sipdistutils        yarl\n",
      "brain_numpy_core_numerictypes locale              site                zict\n",
      "brain_numpy_core_umath locket              six                 zipapp\n",
      "brain_numpy_ndarray logging             skimage             zipfile\n",
      "brain_numpy_random_mtrand lxml                sklearn             zipimport\n",
      "brain_numpy_utils   lzma                smtpd               zipp\n",
      "brain_pkg_resources mailbox             smtplib             zlib\n",
      "brain_pytest        mailcap             sndhdr              zmq\n",
      "brain_qt            markupsafe          snowballstemmer     zope\n",
      "brain_random        marshal             socket              \n",
      "brain_re            math                socketserver        \n",
      "\n",
      "Enter any module name to get more help.  Or, type \"modules spam\" to search\n",
      "for modules whose name or summary contain the string \"spam\".\n",
      "\n"
     ]
    }
   ],
   "source": [
    "help('modules')"
   ]
  },
  {
   "cell_type": "code",
   "execution_count": null,
   "metadata": {},
   "outputs": [],
   "source": [
    "Assignment\n",
    "Do with modules"
   ]
  },
  {
   "cell_type": "code",
   "execution_count": null,
   "metadata": {},
   "outputs": [],
   "source": [
    "import os\n",
    "# os.mkdir(\"My Directory\")\n",
    "path = \"C:/Users/assharma\"\n",
    "os.mkdir(os.path.join(path, \"My Directory\"))\n",
    "print(path)\n"
   ]
  },
  {
   "cell_type": "code",
   "execution_count": null,
   "metadata": {},
   "outputs": [],
   "source": [
    "path = \"C:/Users/assharma\"\n",
    "os.rmdir(os.path.join(path, \"My Directory\"))\n"
   ]
  },
  {
   "cell_type": "code",
   "execution_count": null,
   "metadata": {},
   "outputs": [],
   "source": [
    "import os\n",
    "path = \"C:/Users/assharma/GIF\"\n",
    "for file_name in os.listdir(path):\n",
    "    if file_name.lower().endswith(\".gif\"):\n",
    "        full_path = os.path.join(path, file_name)\n",
    "        new_file_name = full_path[:-4] + \"_backup.gif\"\n",
    "        os.rename(full_path, new_file_name)"
   ]
  },
  {
   "cell_type": "code",
   "execution_count": null,
   "metadata": {},
   "outputs": [],
   "source": [
    "import glob\n",
    "glob.glob(\"*.txt\")"
   ]
  },
  {
   "cell_type": "code",
   "execution_count": null,
   "metadata": {},
   "outputs": [],
   "source": [
    "import glob\n",
    "import os\n",
    "path = \"C:/Users/assharma/GIF\"\n",
    "possible_files = os.path.join(path, \"*.gif\")\n",
    "for file_name in glob.glob(possible_files):\n",
    "    full_path = os.path.join(path, file_name)\n",
    "new_file_name = full_path[:-4] + \"_backup.gif\"\n",
    "os.rename(full_path, new_file_name)"
   ]
  },
  {
   "cell_type": "markdown",
   "metadata": {},
   "source": [
    "When you provide a string with the full file path and an * to glob(), it\n",
    "returns a glob list of all possible GIF images in that particular directory"
   ]
  },
  {
   "cell_type": "code",
   "execution_count": null,
   "metadata": {},
   "outputs": [],
   "source": [
    "import glob\n",
    "import os\n",
    "path = \"C:/Users/assharma/GIF\"\n",
    "possible_files = os.path.join(path, \"*/*.png\")\n",
    "for file_name in glob.glob(possible_files):\n",
    "print(file_name)"
   ]
  },
  {
   "cell_type": "markdown",
   "metadata": {},
   "source": [
    "the string \"*/*.png\" to the path tells glob() to search for any\n",
    "files ending in .png that are inside of folders that can have any name\n",
    "(the first *). The forward slash used to separate the last folder tells\n",
    "glob() to only search in subfolders of the images/ directory"
   ]
  },
  {
   "cell_type": "code",
   "execution_count": null,
   "metadata": {},
   "outputs": [],
   "source": [
    "import os\n",
    "path = \"C:/Users/assharma/GIF\"\n",
    "files_and_folders = os.listdir(path)\n",
    "for folder_name in files_and_folders:\n",
    "full_path = os.path.join(path, folder_name)\n",
    "if os.path.isdir(full_path):\n",
    "os.rename(full_path, full_path + \" folder\")"
   ]
  },
  {
   "cell_type": "code",
   "execution_count": null,
   "metadata": {},
   "outputs": [],
   "source": [
    "import os\n",
    "path = \"C:/Users/assharma/GIF\"\n",
    "for current_folder, subfolders, file_names in os.walk(path):\n",
    "    for file_name in file_names:\n",
    "        print(os.path.join(current_folder, file_name))"
   ]
  },
  {
   "cell_type": "markdown",
   "metadata": {},
   "source": [
    "The call to os.walk() creates an object that Python can loop over. At\n",
    "each step of the loop, it returns a different tuple that includes:\n",
    "1. A particular folder\n",
    "2. A list of the subfolders within that folder, and\n",
    "3. A list of files within that folder."
   ]
  },
  {
   "cell_type": "markdown",
   "metadata": {},
   "source": [
    "## Assignment \n",
    "Write all assignments using command line argument"
   ]
  },
  {
   "cell_type": "code",
   "execution_count": null,
   "metadata": {},
   "outputs": [],
   "source": [
    "import Module1"
   ]
  },
  {
   "cell_type": "markdown",
   "metadata": {},
   "source": [
    "# Python Packages\n",
    "Suppose you have developed a very large application that includes many modules. As the number of modules grows, it becomes difficult to keep track of them all if they are dumped into one location. This is particularly so if they have similar names or functionality. You might wish for a means of grouping and organizing them.\n",
    "\n",
    "Packages allow for a hierarchical structuring of the module namespace using dot notation. In the same way that modules help avoid collisions between global variable names, packages help avoid collisions between module names.\n",
    "\n",
    "Creating a package is quite straightforward, since it makes use of the operating system’s inherent hierarchical file structure. Consider the following arrangement:"
   ]
  },
  {
   "cell_type": "code",
   "execution_count": null,
   "metadata": {},
   "outputs": [],
   "source": [
    "from mod import *"
   ]
  },
  {
   "cell_type": "code",
   "execution_count": null,
   "metadata": {},
   "outputs": [],
   "source": []
  }
 ],
 "metadata": {
  "kernelspec": {
   "display_name": "Python 3",
   "language": "python",
   "name": "python3"
  },
  "language_info": {
   "codemirror_mode": {
    "name": "ipython",
    "version": 3
   },
   "file_extension": ".py",
   "mimetype": "text/x-python",
   "name": "python",
   "nbconvert_exporter": "python",
   "pygments_lexer": "ipython3",
   "version": "3.8.3"
  }
 },
 "nbformat": 4,
 "nbformat_minor": 2
}
