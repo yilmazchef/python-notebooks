{
 "cells": [
  {
   "cell_type": "code",
   "execution_count": 3,
   "metadata": {},
   "outputs": [
    {
     "name": "stdout",
     "output_type": "stream",
     "text": [
      "The string representation of enum member is : Animal.dog\n",
      "The repr representation of enum member is : <Animal.dog: 1>\n",
      "The type of enum member is : <enum 'Animal'>\n",
      "The name of enum member is : dog\n"
     ]
    }
   ],
   "source": [
    "import enum \n",
    "  \n",
    "# creating enumerations using class \n",
    "class Animal(enum.Enum): \n",
    "    dog = 1\n",
    "    cat = 2\n",
    "    lion = 3\n",
    "  \n",
    "# printing enum member as string \n",
    "print (\"The string representation of enum member is : \",end=\"\") \n",
    "print (Animal.dog) \n",
    "  \n",
    "# printing enum member as repr \n",
    "print (\"The repr representation of enum member is : \",end=\"\") \n",
    "print (repr(Animal.dog)) \n",
    "  \n",
    "# printing the type of enum member using type() \n",
    "print (\"The type of enum member is : \",end =\"\") \n",
    "print (type(Animal.dog)) \n",
    "  \n",
    "# printing name of enum member using \"name\" keyword \n",
    "print (\"The name of enum member is : \",end =\"\") \n",
    "print (Animal.dog.name) "
   ]
  },
  {
   "cell_type": "code",
   "execution_count": 4,
   "metadata": {},
   "outputs": [
    {
     "ename": "SyntaxError",
     "evalue": "invalid syntax (<ipython-input-4-a507feb4120d>, line 1)",
     "output_type": "error",
     "traceback": [
      "\u001b[1;36m  File \u001b[1;32m\"<ipython-input-4-a507feb4120d>\"\u001b[1;36m, line \u001b[1;32m1\u001b[0m\n\u001b[1;33m    Python code to demonstrate enumerations\u001b[0m\n\u001b[1;37m              ^\u001b[0m\n\u001b[1;31mSyntaxError\u001b[0m\u001b[1;31m:\u001b[0m invalid syntax\n"
     ]
    }
   ],
   "source": [
    "#  Python code to demonstrate enumerations  \n",
    "# iterations and hashing \n",
    "# importing enum for enumerations \n",
    "import enum \n",
    "  \n",
    "# creating enumerations using class \n",
    "class Animal(enum.Enum): \n",
    "    dog = 1\n",
    "    cat = 2\n",
    "    lion = 3\n",
    "  \n",
    "# printing all enum members using loop \n",
    "print (\"All the enum values are : \") \n",
    "for Anim in (Animal): \n",
    "    print(Anim) \n",
    "  \n",
    "# Hashing enum member as dictionary \n",
    "di = {} \n",
    "di[Animal.dog] = 'bark'\n",
    "di[Animal.lion] = 'roar'\n",
    "  \n",
    "# checking if enum values are hashed successfully \n",
    "if di=={Animal.dog : 'bark',Animal.lion : 'roar'}: \n",
    "      print (\"Enum is hashed\") \n",
    "else: print (\"Enum is not hashed\") "
   ]
  },
  {
   "cell_type": "code",
   "execution_count": 2,
   "metadata": {},
   "outputs": [
    {
     "ename": "SyntaxError",
     "evalue": "invalid syntax (<ipython-input-2-86de9a0a4d29>, line 1)",
     "output_type": "error",
     "traceback": [
      "\u001b[1;36m  File \u001b[1;32m\"<ipython-input-2-86de9a0a4d29>\"\u001b[1;36m, line \u001b[1;32m1\u001b[0m\n\u001b[1;33m    Python code to demonstrate enumerations\u001b[0m\n\u001b[1;37m              ^\u001b[0m\n\u001b[1;31mSyntaxError\u001b[0m\u001b[1;31m:\u001b[0m invalid syntax\n"
     ]
    }
   ],
   "source": [
    "#  Python code to demonstrate enumerations  \n",
    "# Access and comparison \n",
    "  \n",
    "# importing enum for enumerations \n",
    "import enum \n",
    "  \n",
    "# creating enumerations using class \n",
    "class Animal(enum.Enum): \n",
    "    dog = 1\n",
    "    cat = 2\n",
    "    lion = 3\n",
    "  \n",
    "# Accessing enum member using value  \n",
    "print (\"The enum member associated with value 2 is : \",end=\"\") \n",
    "print (Animal(2)) \n",
    "  \n",
    "# Accessing enum member using name   \n",
    "print (\"The enum member associated with name lion is : \",end=\"\") \n",
    "print (Animal['lion']) \n",
    "  \n",
    "# Assigning enum member  \n",
    "mem = Animal.dog \n",
    "  \n",
    "# Displaying value  \n",
    "print (\"The value associated with dog is : \",end=\"\") \n",
    "print (mem.value) \n",
    "  \n",
    "# Displaying name   \n",
    "print (\"The name associated with dog is : \",end=\"\") \n",
    "print (mem.name) \n",
    "  \n",
    "# Comparison using \"is\"  \n",
    "if Animal.dog is Animal.cat: \n",
    "       print (\"Dog and cat are same animals\") \n",
    "else : print (\"Dog and cat are different animals\")  \n",
    "  \n",
    "# Comparison using \"!=\" \n",
    "if Animal.lion != Animal.cat: \n",
    "       print (\"Lions and cat are different\") \n",
    "else : print (\"Lions and cat are same\") "
   ]
  },
  {
   "cell_type": "code",
   "execution_count": null,
   "metadata": {},
   "outputs": [],
   "source": []
  }
 ],
 "metadata": {
  "kernelspec": {
   "display_name": "Python 3",
   "language": "python",
   "name": "python3"
  },
  "language_info": {
   "codemirror_mode": {
    "name": "ipython",
    "version": 3
   },
   "file_extension": ".py",
   "mimetype": "text/x-python",
   "name": "python",
   "nbconvert_exporter": "python",
   "pygments_lexer": "ipython3",
   "version": "3.7.3"
  }
 },
 "nbformat": 4,
 "nbformat_minor": 2
}
