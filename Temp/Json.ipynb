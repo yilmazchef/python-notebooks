{
 "cells": [
  {
   "cell_type": "markdown",
   "metadata": {},
   "source": [
    "A (Very) Brief History of JSON\n",
    "JavaScript Object Notation was inspired by a subset of the JavaScript programming language dealing with object literal syntax. They’ve got a nifty website that explains the whole thing. Don’t worry though: JSON has long since become language agnostic and exists as its own standard, so we can thankfully avoid JavaScript for the sake of this discussion.\n",
    "we use JSON to store and exchange data? Yup, you got it! It’s nothing more than a standardized format the community uses to pass data around. Keep in mind, JSON isn’t the only format available for this kind of work, but XML and YAML are probably the only other ones worth mentioning in the same breath."
   ]
  },
  {
   "cell_type": "code",
   "execution_count": null,
   "metadata": {},
   "outputs": [],
   "source": [
    "{\n",
    "    \"firstName\": \"Jane\",\n",
    "    \"lastName\": \"Doe\",\n",
    "    \"hobbies\": [\"running\", \"sky diving\", \"singing\"],\n",
    "    \"age\": 35,\n",
    "    \"children\": [\n",
    "        {\n",
    "            \"firstName\": \"Alice\",\n",
    "            \"age\": 6\n",
    "        },\n",
    "        {\n",
    "            \"firstName\": \"Bob\",\n",
    "            \"age\": 8\n",
    "        }\n",
    "    ]\n",
    "}"
   ]
  },
  {
   "cell_type": "markdown",
   "metadata": {},
   "source": [
    "Serializing JSON\n",
    "The process of encoding JSON is usually called serialization. This term refers to the transformation of data into a series of bytes (hence serial) to be stored or transmitted across a network. You may also hear the term marshaling, but that’s a whole other discussion. Naturally, deserialization is the reciprocal process of decoding data that has been stored or delivered in the JSON standard.\n"
   ]
  },
  {
   "cell_type": "code",
   "execution_count": null,
   "metadata": {},
   "outputs": [],
   "source": [
    "import json\n",
    "print(dir(json))"
   ]
  },
  {
   "cell_type": "code",
   "execution_count": null,
   "metadata": {},
   "outputs": [],
   "source": [
    "import json\n",
    "\n",
    "data = {\n",
    "    \"president\": {\n",
    "        \"name\": \"Zaphod Beeblebrox\",\n",
    "        \"species\": \"Betelgeusian\"\n",
    "    }\n",
    "}\n",
    "\n",
    "with open(\"data_file.json\", \"w\") as write_file:\n",
    "    json.dump(data, write_file)"
   ]
  },
  {
   "cell_type": "code",
   "execution_count": null,
   "metadata": {},
   "outputs": [],
   "source": [
    "json_string = json.dumps(data)\n",
    "print (json_string)"
   ]
  },
  {
   "cell_type": "code",
   "execution_count": null,
   "metadata": {},
   "outputs": [],
   "source": [
    "json_decode= json.loads(json_string)\n",
    "print(json_decode)"
   ]
  },
  {
   "cell_type": "code",
   "execution_count": null,
   "metadata": {},
   "outputs": [],
   "source": [
    "data = {\"cats\": [{\"name\": \"Tubbs\", \"color\": \"white\"}, {\"name\": \"Pepper\", \"color\": \"black\"}]}\n",
    "jsondata=json.dumps(data)\n",
    "print(jsondata)"
   ]
  },
  {
   "cell_type": "code",
   "execution_count": null,
   "metadata": {},
   "outputs": [],
   "source": [
    "data = {\"cats\": [{\"name\": \"Tubbs\", \"color\": \"white\"}, {\"name\": \"Pepper\", \"color\": \"black\"}]}\n",
    "jsondata=json.dumps(data,indent=2)\n",
    "print(jsondata)"
   ]
  },
  {
   "cell_type": "code",
   "execution_count": null,
   "metadata": {},
   "outputs": [],
   "source": [
    "data = {\"cats\": [{\"name\": \"Tubbs\", \"color\": \"white\"}, {\"name\": \"Pepper\", \"color\": \"black\"}]}\n",
    "jsondata=json.dumps(data,indent=2,sort_keys=True)\n",
    "print(jsondata)"
   ]
  },
  {
   "cell_type": "code",
   "execution_count": null,
   "metadata": {},
   "outputs": [],
   "source": [
    "st=\"python\"\n",
    "jsondata=json.dumps(st)\n",
    "print(jsondata)"
   ]
  },
  {
   "cell_type": "code",
   "execution_count": null,
   "metadata": {},
   "outputs": [],
   "source": [
    "l=[1233,444,567,\"python\"]\n",
    "jsondata=json.dumps(l)\n",
    "print(jsondata)\n",
    "print (type(jsondata))"
   ]
  },
  {
   "cell_type": "code",
   "execution_count": null,
   "metadata": {},
   "outputs": [],
   "source": [
    "i=10\n",
    "jsondata=json.dumps(i)\n",
    "print(i)\n",
    "print (type(i))"
   ]
  },
  {
   "cell_type": "code",
   "execution_count": null,
   "metadata": {},
   "outputs": [],
   "source": [
    "boo=True\n",
    "jsondata=json.dumps(boo)\n",
    "print(jsondata)\n",
    "print (type(jsondata))"
   ]
  },
  {
   "cell_type": "code",
   "execution_count": null,
   "metadata": {},
   "outputs": [],
   "source": [
    "import json\n",
    "import requests\n",
    "print(dir(requests))"
   ]
  },
  {
   "cell_type": "code",
   "execution_count": null,
   "metadata": {},
   "outputs": [],
   "source": [
    "import json\n",
    "import requests\n",
    "response = requests.get(\"https://jsonplaceholder.typicode.com/todos\")\n",
    "print(response)\n",
    "print(dir(response))\n",
    "\n",
    "# print(response.text)\n",
    "# todos = json.loads(response.text)\n",
    "\n",
    "# response = requests.get(\"https://flipkart.com/\")\n",
    "\n",
    "# print (response.json())\n",
    "# jsondata=json.dumps(response.json())\n",
    "# print(jsondata)\n",
    "\n",
    "# [testcaseid=10\n",
    "# browser=\"firefox\"\n",
    "# testplanid='sanity']\n",
    "\n",
    "\n",
    "# todos=json.loads(response.txt)"
   ]
  },
  {
   "cell_type": "code",
   "execution_count": null,
   "metadata": {},
   "outputs": [],
   "source": [
    "import json\n",
    "import requests\n",
    "response = requests.get(\"https://jsonplaceholder.typicode.com/todos\")\n",
    "print(response.text)\n",
    "\n",
    "# print(dir(response))\n"
   ]
  },
  {
   "cell_type": "code",
   "execution_count": null,
   "metadata": {},
   "outputs": [],
   "source": [
    "import json\n",
    "import requests\n",
    "response = requests.get(\"https://jsonplaceholder.typicode.com/todos\")\n",
    "print(response.status_code)"
   ]
  },
  {
   "cell_type": "code",
   "execution_count": null,
   "metadata": {},
   "outputs": [],
   "source": [
    "import json\n",
    "import requests\n",
    "response = requests.get(\"https://jsonplaceholder.typicode.com/todos\")\n",
    "print(response.content)\n",
    "print(dir(response))"
   ]
  },
  {
   "cell_type": "code",
   "execution_count": null,
   "metadata": {},
   "outputs": [],
   "source": [
    "import json\n",
    "import requests\n",
    "r = requests.get('https://github.com/timeline.json')\n",
    "r.json()"
   ]
  },
  {
   "cell_type": "code",
   "execution_count": null,
   "metadata": {},
   "outputs": [],
   "source": [
    "r = requests.post(\"http://httpbin.org/post\")"
   ]
  },
  {
   "cell_type": "code",
   "execution_count": null,
   "metadata": {},
   "outputs": [],
   "source": [
    "import requests\n",
    "import json\n",
    "# Set the request parameters\n",
    "url = 'https://api.clicky.com/api/stats/4?site_id=YOUR_SITE_ID&sitekey=YOUR_SITE_KEY&type=visitors&output=json'\n",
    "# Fetch url\n",
    "print(\"Fetching url..\")\n",
    "# Do the HTTP get request\n",
    "response = requests.get(url) #Verify is check SSL certificate\n",
    "# Error handling\n",
    "# Check for HTTP codes other than 200\n",
    "# if response.status_code != 200:\n",
    "#     print('Status:', response.status_code, 'Problem with the request. Exiting.')\n",
    "#     exit()\n",
    "# Decode the JSON response into a dictionary and use the data\n",
    "print(response.status_code)\n",
    "\n",
    "print(response.text)\n",
    "# data = response.json()\n",
    "\n",
    "# visitors = data[0]['dates'][0]['items'][0]['value']\n",
    "\n",
    "# print('nVisitors today:'), visitors"
   ]
  },
  {
   "cell_type": "code",
   "execution_count": null,
   "metadata": {},
   "outputs": [],
   "source": [
    "# importing the requests library\n",
    "import requests\n",
    "# api-endpoint\n",
    "URL = \"http://maps.googleapis.com/maps/api/geocode/json\"\n",
    "# location given here\n",
    "location = \"delhi technological university\"\n",
    "# defining a params dict for the parameters to be sent to the API\n",
    "PARAMS = {'address':location}\n",
    "# sending get request and saving the response as response object\n",
    "r = requests.get(url = URL, params = PARAMS)\n",
    "# extracting data in json format\n",
    "data = r.json()\n",
    "print(data)\n",
    "# extracting latitude, longitude and formatted address \n",
    "# of the first matching location\n",
    "latitude = data['results'][0]['geometry']['location']['lat']\n",
    "longitude = data['results'][0]['geometry']['location']['lng']\n",
    "formatted_address = data['results'][0]['formatted_address']\n",
    " \n",
    "# printing the output\n",
    "print(\"Latitude:%s\\nLongitude:%s\\nFormatted Address:%s\"\n",
    "      %(latitude, longitude,formatted_address))\n"
   ]
  },
  {
   "cell_type": "code",
   "execution_count": null,
   "metadata": {},
   "outputs": [],
   "source": []
  }
 ],
 "metadata": {
  "kernelspec": {
   "display_name": "Python 3",
   "language": "python",
   "name": "python3"
  },
  "language_info": {
   "codemirror_mode": {
    "name": "ipython",
    "version": 3
   },
   "file_extension": ".py",
   "mimetype": "text/x-python",
   "name": "python",
   "nbconvert_exporter": "python",
   "pygments_lexer": "ipython3",
   "version": "3.6.4"
  }
 },
 "nbformat": 4,
 "nbformat_minor": 2
}
