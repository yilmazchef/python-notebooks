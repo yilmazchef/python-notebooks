{
 "cells": [
  {
   "cell_type": "markdown",
   "metadata": {},
   "source": [
    "We see that all of the dates we need have the format of the following example: “April 12, 2014.” That is, they begin with a sequence of one or more letters, capital and lowercase; and then have a space, two numbers, a comma, a space, and four numbers. Zero or more characters of any type could be before and after the date. With these observations, we can create a regular expression that will find every line that has a date in it, and extract only the date:\n",
    "\n"
   ]
  },
  {
   "cell_type": "code",
   "execution_count": 4,
   "metadata": {},
   "outputs": [
    {
     "ename": "SyntaxError",
     "evalue": "invalid character in identifier (<ipython-input-4-bcdb28c8b0cd>, line 1)",
     "output_type": "error",
     "traceback": [
      "\u001b[1;36m  File \u001b[1;32m\"<ipython-input-4-bcdb28c8b0cd>\"\u001b[1;36m, line \u001b[1;32m1\u001b[0m\n\u001b[1;33m    “.*([a-zA-Z]+\\s[0-9][0-9],\\s[0-9][0-9][0-9][0-9]).*”\u001b[0m\n\u001b[1;37m    ^\u001b[0m\n\u001b[1;31mSyntaxError\u001b[0m\u001b[1;31m:\u001b[0m invalid character in identifier\n"
     ]
    }
   ],
   "source": [
    "“.*([a-zA-Z]+\\s[0-9][0-9],\\s[0-9][0-9][0-9][0-9]).*”"
   ]
  },
  {
   "cell_type": "code",
   "execution_count": 5,
   "metadata": {},
   "outputs": [
    {
     "name": "stdout",
     "output_type": "stream",
     "text": [
      "['h 11, 2016']\n",
      "['h 11, 2016']\n",
      "['y 12, 2016']\n",
      "['h 25, 2016']\n"
     ]
    }
   ],
   "source": [
    "import re\n",
    "text = open('test.txt') #open text file\n",
    "for line in text: #iterate through every line\n",
    "\t#return list of dates in that line\n",
    "\tx = re.findall('.*([a-zA-Z]+\\s[0-9][0-9],\\s[0-9][0-9][0-9][0-9]).*', line) \n",
    "\t#if a date is found\n",
    "\tif len(x) != 0:\n",
    "\t\tprint(x)"
   ]
  },
  {
   "cell_type": "markdown",
   "metadata": {},
   "source": [
    "The basic outline of this problem is to read the file, look for integers using the re.findall(), looking for a regular expression of [0-9]+ and then converting the extracted strings to integers and summing up the integers."
   ]
  },
  {
   "cell_type": "code",
   "execution_count": 9,
   "metadata": {},
   "outputs": [
    {
     "name": "stdout",
     "output_type": "stream",
     "text": [
      "Overall sum is: 460090\n"
     ]
    }
   ],
   "source": [
    "import re\n",
    "\n",
    "hand = open('a.txt')\n",
    "all_lines = hand.read() #Reads in all lines as one long string\n",
    "all_str_nums_as_one_line = re.findall('[0-9]+',all_lines)\n",
    "hand.close() #<-- can close the file now since we've read it in\n",
    "\n",
    "#Go through all the matches to get a total\n",
    "tot = 0\n",
    "for str_num in all_str_nums_as_one_line:\n",
    "    tot += int(str_num)\n",
    "\n",
    "print ('Overall sum is:',tot)"
   ]
  },
  {
   "cell_type": "code",
   "execution_count": null,
   "metadata": {},
   "outputs": [],
   "source": []
  }
 ],
 "metadata": {
  "kernelspec": {
   "display_name": "Python 3",
   "language": "python",
   "name": "python3"
  },
  "language_info": {
   "codemirror_mode": {
    "name": "ipython",
    "version": 3
   },
   "file_extension": ".py",
   "mimetype": "text/x-python",
   "name": "python",
   "nbconvert_exporter": "python",
   "pygments_lexer": "ipython3",
   "version": "3.7.3"
  }
 },
 "nbformat": 4,
 "nbformat_minor": 2
}
