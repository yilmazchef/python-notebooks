{
 "cells": [
  {
   "cell_type": "code",
   "execution_count": 2,
   "metadata": {},
   "outputs": [
    {
     "ename": "NameError",
     "evalue": "name 'student' is not defined",
     "output_type": "error",
     "traceback": [
      "\u001b[1;31m---------------------------------------------------------------------------\u001b[0m",
      "\u001b[1;31mNameError\u001b[0m                                 Traceback (most recent call last)",
      "Cell \u001b[1;32mIn [2], line 4\u001b[0m\n\u001b[0;32m      1\u001b[0m \u001b[39mclass\u001b[39;00m \u001b[39mStudent\u001b[39;00m:\n\u001b[0;32m      2\u001b[0m     \u001b[39m''' This class is developed by PRITHVI for demo purpose'''\u001b[39;00m\n\u001b[1;32m----> 4\u001b[0m \u001b[39mprint\u001b[39m(student\u001b[39m.\u001b[39m\u001b[39m__doc__\u001b[39m)\n",
      "\u001b[1;31mNameError\u001b[0m: name 'student' is not defined"
     ]
    }
   ],
   "source": [
    "class Student:\n",
    "    ''' This class is developed by PRITHVI for demo purpose'''\n",
    "    \n",
    "print(student.__doc__)"
   ]
  },
  {
   "cell_type": "code",
   "execution_count": 7,
   "metadata": {},
   "outputs": [
    {
     "name": "stdout",
     "output_type": "stream",
     "text": [
      "Help on class Student in module __main__:\n",
      "\n",
      "class Student(builtins.object)\n",
      " |  This class is developed by PRITHVI for demo purpose\n",
      " |  \n",
      " |  Data descriptors defined here:\n",
      " |  \n",
      " |  __dict__\n",
      " |      dictionary for instance variables (if defined)\n",
      " |  \n",
      " |  __weakref__\n",
      " |      list of weak references to the object (if defined)\n",
      "\n"
     ]
    }
   ],
   "source": [
    "help(Student)"
   ]
  },
  {
   "cell_type": "code",
   "execution_count": 9,
   "metadata": {},
   "outputs": [
    {
     "name": "stdout",
     "output_type": "stream",
     "text": [
      "Prithvi\n",
      "587\n",
      "90\n",
      "MY NAME IS : Prithvi\n",
      "MY ROLLNO IS : 587\n",
      "MY MARKS ARE : 90\n"
     ]
    }
   ],
   "source": [
    " class Student:\n",
    "        def __init__(self):\n",
    "            self.name = \"Prithvi\"\n",
    "            self.rollno = 587\n",
    "            self.marks = 90\n",
    "        def details(self):\n",
    "            print(\"MY NAME IS :\",self.name)\n",
    "            print(\"MY ROLLNO IS :\",self.rollno)\n",
    "            print(\"MY MARKS ARE :\",self.marks)\n",
    "s = Student()\n",
    "print(s.name)\n",
    "print(s.rollno)\n",
    "print(s.marks)\n",
    "s.details()"
   ]
  },
  {
   "cell_type": "code",
   "execution_count": 15,
   "metadata": {},
   "outputs": [
    {
     "name": "stdout",
     "output_type": "stream",
     "text": [
      "Constructor executed.\n",
      "Constructor executed.\n",
      "3020849715280\n",
      "3020849715088\n"
     ]
    }
   ],
   "source": [
    "class Student:\n",
    "        def __init__(self):\n",
    "            print(\"Constructor executed.\")\n",
    "            self.name = \"Prithvi\"\n",
    "            self.rollno = 587\n",
    "            self.marks = 90\n",
    "        def details(self):\n",
    "            print(\"MY NAME IS :\",self.name)\n",
    "            print(\"MY ROLLNO IS :\",self.rollno)\n",
    "            print(\"MY MARKS ARE :\",self.marks)\n",
    "s1 = Student()\n",
    "s2 = Student()\n",
    "print(id(s1))\n",
    "print(id(s2))"
   ]
  },
  {
   "cell_type": "code",
   "execution_count": 16,
   "metadata": {},
   "outputs": [
    {
     "name": "stdout",
     "output_type": "stream",
     "text": [
      "Prithvi\n",
      "Prithvi\n"
     ]
    }
   ],
   "source": [
    "print(s1.name)\n",
    "print(s2.name)"
   ]
  },
  {
   "cell_type": "code",
   "execution_count": 23,
   "metadata": {},
   "outputs": [
    {
     "name": "stdout",
     "output_type": "stream",
     "text": [
      "Student1: India 1 100\n"
     ]
    }
   ],
   "source": [
    "class Student1:\n",
    "    def __init__(self,name,rollno,marks):\n",
    "        self.name = name\n",
    "        self.rollno = rollno\n",
    "        self.marks = marks\n",
    "    def details(self):\n",
    "        print(\"MY NAME IS :\",self.name)\n",
    "        print(\"MY ROLL NO IS :\",self.rollno)\n",
    "        print(\"MY MARKS ARE :\",self.marks)\n",
    "ss = Student1(\"India\",1,100)\n",
    "print(\"Student1:\",ss.name,ss.rollno,ss.marks)"
   ]
  },
  {
   "cell_type": "code",
   "execution_count": 24,
   "metadata": {},
   "outputs": [
    {
     "name": "stdout",
     "output_type": "stream",
     "text": [
      "Student1: India 1 100\n"
     ]
    }
   ],
   "source": [
    "class Student2:\n",
    "    def __init__(self,x,y,z): # NOT A GOOD PROGRAMMING PROCESS.\n",
    "        self.name = x\n",
    "        self.rollno = y\n",
    "        self.marks = z\n",
    "    def details(self):\n",
    "        print(\"MY NAME IS :\",self.name)\n",
    "        print(\"MY ROLL NO IS :\",self.rollno)\n",
    "        print(\"MY MARKS ARE :\",self.marks)\n",
    "se = Student1(\"India\",1,100)\n",
    "print(\"Student1:\",se.name,se.rollno,se.marks)"
   ]
  },
  {
   "cell_type": "code",
   "execution_count": 26,
   "metadata": {},
   "outputs": [
    {
     "name": "stdout",
     "output_type": "stream",
     "text": [
      "Student1: cikhsv 34 45\n"
     ]
    }
   ],
   "source": [
    "se2 = Student1(\"cikhsv\",34,45)\n",
    "print(\"Student1:\",se2.name,se2.rollno,se2.marks)"
   ]
  },
  {
   "cell_type": "code",
   "execution_count": 27,
   "metadata": {},
   "outputs": [
    {
     "data": {
      "text/plain": [
       "__main__.Student1"
      ]
     },
     "execution_count": 27,
     "metadata": {},
     "output_type": "execute_result"
    }
   ],
   "source": [
    "type(se2)"
   ]
  },
  {
   "cell_type": "code",
   "execution_count": 28,
   "metadata": {},
   "outputs": [
    {
     "name": "stdout",
     "output_type": "stream",
     "text": [
      "Address of object refered by self : 3020869640544\n",
      "Address of the object refered by t : 3020869640544\n"
     ]
    }
   ],
   "source": [
    "class Test:\n",
    "    def __init__(self):\n",
    "        print(\"Address of object refered by self :\",id(self))\n",
    "t = Test()\n",
    "print(\"Address of the object refered by t :\",id(t))"
   ]
  },
  {
   "cell_type": "code",
   "execution_count": 29,
   "metadata": {},
   "outputs": [
    {
     "name": "stdout",
     "output_type": "stream",
     "text": [
      "MY NAME IS : India\n",
      "MY ROLL NO IS : 1\n",
      "MY MARKS ARE : 100\n",
      "MY NAME IS : ycfghvj\n",
      "MY ROLL NO IS : 87\n",
      "MY MARKS ARE : 5\n"
     ]
    }
   ],
   "source": [
    "class Student1:\n",
    "    def __init__(self,name,rollno,marks):\n",
    "        self.name = name\n",
    "        self.rollno = rollno\n",
    "        self.marks = marks\n",
    "    def details(self):\n",
    "        print(\"MY NAME IS :\",self.name)\n",
    "        print(\"MY ROLL NO IS :\",self.rollno)\n",
    "        print(\"MY MARKS ARE :\",self.marks)\n",
    "ss1 = Student1(\"India\",1,100)\n",
    "ss2 = Student1(\"ycfghvj\",87,5)\n",
    "ss1.details()\n",
    "ss2.details()"
   ]
  },
  {
   "cell_type": "code",
   "execution_count": 30,
   "metadata": {},
   "outputs": [
    {
     "name": "stdout",
     "output_type": "stream",
     "text": [
      "constructor\n",
      "method\n"
     ]
    }
   ],
   "source": [
    "class Test:\n",
    "    def __init__(self):\n",
    "        print(\"constructor\")\n",
    "    def m1(self,m):\n",
    "        print(\"method\")\n",
    "t = Test()\n",
    "t.m1(10)"
   ]
  },
  {
   "cell_type": "code",
   "execution_count": 31,
   "metadata": {},
   "outputs": [
    {
     "name": "stdout",
     "output_type": "stream",
     "text": [
      "constructor\n"
     ]
    }
   ],
   "source": [
    "class Test:\n",
    "    def __init__(x):\n",
    "        print(\"constructor\")\n",
    "t = Test()"
   ]
  },
  {
   "cell_type": "raw",
   "metadata": {},
   "source": [
    "class Test: # ERROR\n",
    "    def __init__(x):\n",
    "        print(\"constructor\")\n",
    "t = Test(x=10)"
   ]
  },
  {
   "cell_type": "code",
   "execution_count": 34,
   "metadata": {},
   "outputs": [
    {
     "name": "stdout",
     "output_type": "stream",
     "text": [
      "method\n"
     ]
    }
   ],
   "source": [
    "class Test:\n",
    "    def m1(self):\n",
    "        print(\"method\")\n",
    "t = Test()\n",
    "t.m1()"
   ]
  },
  {
   "cell_type": "code",
   "execution_count": 35,
   "metadata": {},
   "outputs": [
    {
     "name": "stdout",
     "output_type": "stream",
     "text": [
      "constructor\n",
      "constructor\n"
     ]
    }
   ],
   "source": [
    "class Test:\n",
    "    def __init__(self):\n",
    "        print(\"constructor\")\n",
    "t = Test()\n",
    "t.__init__()"
   ]
  },
  {
   "cell_type": "code",
   "execution_count": 41,
   "metadata": {},
   "outputs": [
    {
     "name": "stdout",
     "output_type": "stream",
     "text": [
      "constructor\n",
      "constructor\n",
      "constructor\n",
      "constructor\n",
      "constructor\n",
      "constructor\n",
      "constructor\n",
      "constructor\n",
      "constructor\n",
      "constructor\n",
      "constructor\n",
      "constructor\n",
      "constructor\n",
      "constructor\n",
      "constructor\n"
     ]
    }
   ],
   "source": [
    "class Test:\n",
    "    def __init__(self):\n",
    "        print(\"constructor\")\n",
    "t = Test()\n",
    "t.__init__()\n",
    "t.__init__()\n",
    "t.__init__()\n",
    "t.__init__()\n",
    "t.__init__()\n",
    "t.__init__()\n",
    "t.__init__()\n",
    "t.__init__()\n",
    "t.__init__()\n",
    "t.__init__()\n",
    "t.__init__()\n",
    "t.__init__()\n",
    "t.__init__()\n",
    "t.__init__()"
   ]
  },
  {
   "cell_type": "code",
   "execution_count": 43,
   "metadata": {},
   "outputs": [
    {
     "name": "stdout",
     "output_type": "stream",
     "text": [
      "constructor 3020865559424\n",
      "3020865559424\n",
      "constructor 3020865559424\n",
      "constructor 3020865559424\n",
      "constructor 3020865559424\n",
      "constructor 3020865559424\n",
      "140706126928000\n"
     ]
    }
   ],
   "source": [
    "class Test:\n",
    "    def __init__(self):\n",
    "        print(\"constructor\",id(self))\n",
    "t = Test()\n",
    "print(id(t))\n",
    "t.__init__()\n",
    "t.__init__()\n",
    "t.__init__()\n",
    "print(id(t.__init__()))"
   ]
  },
  {
   "cell_type": "code",
   "execution_count": 53,
   "metadata": {},
   "outputs": [
    {
     "name": "stdout",
     "output_type": "stream",
     "text": [
      "second constructor\n"
     ]
    }
   ],
   "source": [
    "class Test1:\n",
    "    def __init__(self):\n",
    "        print(\"first constructor\")\n",
    "    def __init__(self,x):\n",
    "        print(\"second constructor\")\n",
    "#te = Test1()\n",
    "te = Test1(10)"
   ]
  },
  {
   "cell_type": "code",
   "execution_count": 54,
   "metadata": {},
   "outputs": [
    {
     "name": "stdout",
     "output_type": "stream",
     "text": [
      "Prithvi\n",
      "Raj\n"
     ]
    }
   ],
   "source": [
    "class Test:\n",
    "    def __init__(self,name):\n",
    "        self.name=name\n",
    "t = Test(\"Prithvi\")\n",
    "print(t.name)\n",
    "t.__init__(\"Raj\")\n",
    "print(t.name)"
   ]
  },
  {
   "cell_type": "code",
   "execution_count": 55,
   "metadata": {},
   "outputs": [],
   "source": [
    "class Test:\n",
    "    def Test(self):\n",
    "        print(\"running\")\n",
    "t = Test()"
   ]
  },
  {
   "cell_type": "code",
   "execution_count": 56,
   "metadata": {},
   "outputs": [
    {
     "name": "stdout",
     "output_type": "stream",
     "text": [
      "running\n"
     ]
    }
   ],
   "source": [
    "t.Test()"
   ]
  },
  {
   "cell_type": "code",
   "execution_count": 58,
   "metadata": {},
   "outputs": [
    {
     "name": "stdout",
     "output_type": "stream",
     "text": [
      "10000.0\n"
     ]
    }
   ],
   "source": [
    "class Employee:\n",
    "    def __init__(self,name,age,salary):\n",
    "        self.name = name\n",
    "        self.age = age\n",
    "        self.salary = salary\n",
    "    def get_bonus(self):\n",
    "        bonus = self.salary*0.1\n",
    "        return bonus\n",
    "e = Employee(\"Prithvi\",60,100000)\n",
    "print(e.get_bonus())"
   ]
  },
  {
   "cell_type": "code",
   "execution_count": 66,
   "metadata": {},
   "outputs": [
    {
     "name": "stdout",
     "output_type": "stream",
     "text": [
      "Enter movie title name :Bahubali\n",
      "Enter hero name :Prabhas\n",
      "Enter heroie name :Anushka\n",
      "Movie added to the list successful\n",
      "DO you want to add one more movie [yes|no]yes\n",
      "Enter movie title name :Saaho\n",
      "Enter hero name :Prabhas\n",
      "Enter heroie name :Shradha\n",
      "Movie added to the list successful\n",
      "DO you want to add one more movie [yes|no]pokiri\n",
      "Enter movie title name :pokiri\n",
      "Enter hero name :Mahesh babu\n",
      "Enter heroie name :Ileana\n",
      "Movie added to the list successful\n",
      "DO you want to add one more movie [yes|no]no\n",
      "All movies information\n",
      "########################################\n",
      "Title name is : Bahubali\n",
      "Hero name is : Prabhas\n",
      "Heroine name is : Anushka\n",
      "\n",
      "Title name is : Saaho\n",
      "Hero name is : Prabhas\n",
      "Heroine name is : Shradha\n",
      "\n",
      "Title name is : pokiri\n",
      "Hero name is : Mahesh babu\n",
      "Heroine name is : Ileana\n",
      "\n"
     ]
    }
   ],
   "source": [
    "class Movie:\n",
    "    '''Movie class developed by prithvi for practice purpose'''\n",
    "    def __init__(self,tite,hero,herione):\n",
    "        self.title = title\n",
    "        self.hero = hero\n",
    "        self.heroine = heroine\n",
    "    def details(self):\n",
    "        print(\"Title name is :\",self.title)\n",
    "        print(\"Hero name is :\",self.hero)\n",
    "        print(\"Heroine name is :\",self.heroine)\n",
    "list_of_movies = []\n",
    "while True:\n",
    "    title = input(\"Enter movie title name :\")\n",
    "    hero = input(\"Enter hero name :\")\n",
    "    heroine = input(\"Enter heroie name :\")\n",
    "    m = Movie(title,hero,heroine)\n",
    "    list_of_movies.append(m)\n",
    "    print(\"Movie added to the list successful\")\n",
    "    option = input(\"DO you want to add one more movie [yes|no]\")\n",
    "    if option.lower() == \"no\":\n",
    "        break\n",
    "print(\"All movies information\")\n",
    "print(\"#\"*40)\n",
    "for movie in list_of_movies:\n",
    "    movie.details()\n",
    "    print()"
   ]
  },
  {
   "cell_type": "code",
   "execution_count": 64,
   "metadata": {},
   "outputs": [
    {
     "data": {
      "text/plain": [
       "[<__main__.Movie at 0x2bf59da9b50>, <__main__.Movie at 0x2bf59da9fd0>]"
      ]
     },
     "execution_count": 64,
     "metadata": {},
     "output_type": "execute_result"
    }
   ],
   "source": [
    "list_of_movies"
   ]
  },
  {
   "cell_type": "code",
   "execution_count": null,
   "metadata": {},
   "outputs": [],
   "source": [
    "class Student:\n",
    "    collegeName = \"JNTUH\" # Static Variable (if this variable is same for everyone then take Static variable) else take Instance Variable\n",
    "    def __init__(self,name,rollno):\n",
    "        self.name = name       # Instance Variable\n",
    "        self.rollno = rollno   # Instance Variable\n",
    "    def m(self):\n",
    "        x = 10  ## Local Variable\n",
    "        for i in range(x):\n",
    "            print(i)\n",
    "        "
   ]
  },
  {
   "cell_type": "raw",
   "metadata": {},
   "source": [
    "1) Instance Variables = object level variables\n",
    "2) Static Variables = Class Level Variables\n",
    "3) Local Variables = Method Level Variables"
   ]
  },
  {
   "cell_type": "raw",
   "metadata": {},
   "source": [
    "1) Instance Method = Object Related Method\n",
    "2) Class Method =  Class Related Method\n",
    "3) Static Method = General Utility Method"
   ]
  },
  {
   "cell_type": "code",
   "execution_count": 2,
   "metadata": {},
   "outputs": [
    {
     "name": "stdout",
     "output_type": "stream",
     "text": [
      "2983522568304\n",
      "2983522568304\n",
      "2983522568304\n"
     ]
    }
   ],
   "source": [
    "class Test:\n",
    "    @classmethod\n",
    "    def m1(cls):\n",
    "        print(id(cls))\n",
    "    @classmethod\n",
    "    def m2(cls):\n",
    "        print(id(cls))\n",
    "print(id(Test))\n",
    "Test.m1()\n",
    "Test.m2()"
   ]
  },
  {
   "cell_type": "code",
   "execution_count": 6,
   "metadata": {},
   "outputs": [
    {
     "name": "stdout",
     "output_type": "stream",
     "text": [
      "StudentName: Raj\n",
      "Studentrolno: 587\n",
      "CollegeName: JNTUN\n",
      "DirectorName: RAJ\n",
      "The Average is: 20.0\n"
     ]
    }
   ],
   "source": [
    "class Student:\n",
    "    CollegeName = \"JNTUN\"\n",
    "    Director = \"RAJ\"\n",
    "    def __init__(self,name,rollno):\n",
    "        self.name = name\n",
    "        self.rollno = rollno\n",
    "    def getStudentInfo(self): # INSTANCE METHOD\n",
    "        print(\"StudentName:\",self.name)\n",
    "        print(\"Studentrolno:\",self.rollno)\n",
    "    @classmethod #Decoratoe\n",
    "    def getCollegeInfo(cls): # CLASS METHOD\n",
    "        print(\"CollegeName:\",cls.CollegeName)\n",
    "        print(\"DirectorName:\",cls.Director)\n",
    "    @staticmethod #Decorator\n",
    "    def getAverage(a,b,c): # STATIC METHOD\n",
    "        return (a+b+c)/3\n",
    "    \n",
    "s = Student(\"Raj\",587)\n",
    "s.getStudentInfo()\n",
    "Student.getCollegeInfo()\n",
    "average = Student.getAverage(10,20,30)\n",
    "print(\"The Average is:\",average)"
   ]
  },
  {
   "cell_type": "code",
   "execution_count": 7,
   "metadata": {},
   "outputs": [
    {
     "name": "stdout",
     "output_type": "stream",
     "text": [
      "{'a': 10, 'b': 20, 'c': 30, 'd': 40, 'e': 50}\n"
     ]
    }
   ],
   "source": [
    "class Test:\n",
    "    def __init__(self):\n",
    "        self.a = 10\n",
    "        self.b = 20\n",
    "    def m1(self):\n",
    "        self.c = 30\n",
    "t = Test()\n",
    "t.m1()\n",
    "t.d = 40\n",
    "t.e = 50\n",
    "print(t.__dict__)"
   ]
  },
  {
   "cell_type": "code",
   "execution_count": 10,
   "metadata": {},
   "outputs": [],
   "source": [
    "t2 = Test()\n",
    "t2.d = 40"
   ]
  },
  {
   "cell_type": "code",
   "execution_count": 11,
   "metadata": {},
   "outputs": [
    {
     "name": "stdout",
     "output_type": "stream",
     "text": [
      "{'a': 10, 'b': 20, 'd': 40}\n"
     ]
    }
   ],
   "source": [
    "print(t2.__dict__)"
   ]
  },
  {
   "cell_type": "code",
   "execution_count": 13,
   "metadata": {},
   "outputs": [
    {
     "name": "stdout",
     "output_type": "stream",
     "text": [
      "10\n",
      "20\n",
      "10\n",
      "20\n"
     ]
    }
   ],
   "source": [
    "class Test:\n",
    "    def __init__(self):\n",
    "        self.a = 10\n",
    "        self.b = 20\n",
    "        print(self.a)\n",
    "        print(self.b)\n",
    "    def m1(self):\n",
    "        print(self.a)\n",
    "        print(self.b)\n",
    "t = Test()\n",
    "t.m1()"
   ]
  },
  {
   "cell_type": "code",
   "execution_count": 24,
   "metadata": {},
   "outputs": [
    {
     "name": "stdout",
     "output_type": "stream",
     "text": [
      "{'a': 10, 'b': 20, 'c': 30, 'd': 40}\n",
      "{'b': 20, 'c': 30, 'd': 40}\n",
      "{}\n"
     ]
    }
   ],
   "source": [
    "class Test:\n",
    "    def __init__(self):\n",
    "        self.a = 10\n",
    "        self.b = 20\n",
    "        self.c = 30\n",
    "        self.d = 40\n",
    "    def m(self):\n",
    "        del self.a\n",
    "t = Test()\n",
    "print(t.__dict__)\n",
    "t.m()\n",
    "print(t.__dict__)\n",
    "del t.b\n",
    "del t.c\n",
    "del t.d\n",
    "print(t.__dict__)"
   ]
  },
  {
   "cell_type": "code",
   "execution_count": 25,
   "metadata": {},
   "outputs": [
    {
     "name": "stdout",
     "output_type": "stream",
     "text": [
      "{'b': 20, 'c': 30, 'd': 40}\n",
      "{'a': 10, 'b': 20, 'c': 30, 'd': 40}\n"
     ]
    }
   ],
   "source": [
    "class Test:\n",
    "    def __init__(self):\n",
    "        self.a = 10\n",
    "        self.b = 20\n",
    "        self.c = 30\n",
    "        self.d = 40\n",
    "    def m(self):\n",
    "        del self.a\n",
    "t1 = Test()\n",
    "t2 = Test()\n",
    "del t1.a\n",
    "print(t1.__dict__)\n",
    "print(t2.__dict__)"
   ]
  },
  {
   "cell_type": "code",
   "execution_count": 26,
   "metadata": {},
   "outputs": [
    {
     "name": "stdout",
     "output_type": "stream",
     "text": [
      "{'a': 1000, 'b': 2000}\n",
      "{'a': 10, 'b': 20}\n"
     ]
    }
   ],
   "source": [
    "class Test:\n",
    "    def __init__(self):\n",
    "        self.a = 10\n",
    "        self.b = 20\n",
    "t1 = Test()\n",
    "t2 = Test()\n",
    "t1.a = 1000\n",
    "t1.b = 2000\n",
    "print(t1.__dict__)\n",
    "print(t2.__dict__)"
   ]
  },
  {
   "cell_type": "code",
   "execution_count": 27,
   "metadata": {},
   "outputs": [
    {
     "name": "stdout",
     "output_type": "stream",
     "text": [
      "{'__module__': '__main__', 'a': 10, '__dict__': <attribute '__dict__' of 'Test' objects>, '__weakref__': <attribute '__weakref__' of 'Test' objects>, '__doc__': None}\n"
     ]
    }
   ],
   "source": [
    "class Test:\n",
    "    a = 10\n",
    "print(Test.__dict__)"
   ]
  },
  {
   "cell_type": "code",
   "execution_count": 30,
   "metadata": {},
   "outputs": [
    {
     "name": "stdout",
     "output_type": "stream",
     "text": [
      "{'__module__': '__main__', 'a': 10, '__init__': <function Test.__init__ at 0x000002B6A9C620D0>, '__dict__': <attribute '__dict__' of 'Test' objects>, '__weakref__': <attribute '__weakref__' of 'Test' objects>, '__doc__': None}\n"
     ]
    }
   ],
   "source": [
    "class Test:\n",
    "    a = 10\n",
    "    def __init__(self):\n",
    "        Test.b = 20\n",
    "t = Test()\n",
    "print(Test.__dict__)"
   ]
  },
  {
   "cell_type": "code",
   "execution_count": 31,
   "metadata": {},
   "outputs": [
    {
     "name": "stdout",
     "output_type": "stream",
     "text": [
      "{'__module__': '__main__', 'a': 10, '__init__': <function Test.__init__ at 0x000002B6A9C62670>, 'm1': <function Test.m1 at 0x000002B6A9C62310>, '__dict__': <attribute '__dict__' of 'Test' objects>, '__weakref__': <attribute '__weakref__' of 'Test' objects>, '__doc__': None, 'b': 20, 'c': 30}\n"
     ]
    }
   ],
   "source": [
    "class Test:\n",
    "    a = 10\n",
    "    def __init__(self):\n",
    "        Test.b = 20\n",
    "    def m1(self):\n",
    "        Test.c = 30\n",
    "t = Test()\n",
    "t.m1()\n",
    "print(Test.__dict__)"
   ]
  },
  {
   "cell_type": "code",
   "execution_count": 33,
   "metadata": {},
   "outputs": [
    {
     "name": "stdout",
     "output_type": "stream",
     "text": [
      "{'__module__': '__main__', 'a': 10, '__init__': <function Test.__init__ at 0x000002B6A9D65A60>, 'm1': <function Test.m1 at 0x000002B6A9D65CA0>, 'm2': <classmethod object at 0x000002B6A9DD8D30>, 'm3': <staticmethod object at 0x000002B6A9DD8220>, '__dict__': <attribute '__dict__' of 'Test' objects>, '__weakref__': <attribute '__weakref__' of 'Test' objects>, '__doc__': None, 'b': 20, 'c': 30, 'd': 40, 'e': 50, 'f': 60, 'g': 70}\n"
     ]
    }
   ],
   "source": [
    "class Test:\n",
    "    a = 10\n",
    "    def __init__(self):\n",
    "        Test.b = 20\n",
    "    def m1(self):\n",
    "        Test.c = 30\n",
    "    @classmethod\n",
    "    def m2(cls):\n",
    "        Test.d = 40\n",
    "        cls.e = 50\n",
    "    @staticmethod\n",
    "    def m3():\n",
    "        Test.f = 60\n",
    "t = Test()\n",
    "t.m1()\n",
    "Test.m2()\n",
    "Test.m3()\n",
    "Test.g = 70\n",
    "print(Test.__dict__)"
   ]
  },
  {
   "cell_type": "code",
   "execution_count": 35,
   "metadata": {},
   "outputs": [
    {
     "name": "stdout",
     "output_type": "stream",
     "text": [
      "10\n",
      "10\n",
      "10\n",
      "10\n",
      "10\n",
      "10\n",
      "10\n",
      "10\n",
      "{'__module__': '__main__', 'a': 10, '__init__': <function Test.__init__ at 0x000002B6A9D65160>, 'm1': <function Test.m1 at 0x000002B6A9D651F0>, 'm2': <classmethod object at 0x000002B6A9DE9880>, 'm3': <staticmethod object at 0x000002B6A9DE90D0>, '__dict__': <attribute '__dict__' of 'Test' objects>, '__weakref__': <attribute '__weakref__' of 'Test' objects>, '__doc__': None}\n"
     ]
    }
   ],
   "source": [
    "class Test:\n",
    "    a = 10\n",
    "    def __init__(self):\n",
    "        print(self.a)\n",
    "        print(Test.a)\n",
    "    def m1(self):\n",
    "        print(self.a)\n",
    "        print(Test.a)\n",
    "    @classmethod\n",
    "    def m2(cls):\n",
    "        print(cls.a)\n",
    "        print(Test.a)\n",
    "    @staticmethod\n",
    "    def m3():\n",
    "        print(Test.a)\n",
    "t = Test()\n",
    "t.m1()\n",
    "Test.m2()\n",
    "Test.m3\n",
    "print(t.a)\n",
    "print(Test.a)\n",
    "print(Test.__dict__)"
   ]
  },
  {
   "cell_type": "code",
   "execution_count": 37,
   "metadata": {},
   "outputs": [
    {
     "name": "stdout",
     "output_type": "stream",
     "text": [
      "20\n"
     ]
    }
   ],
   "source": [
    "class Test:\n",
    "    a = 10\n",
    "    @classmethod\n",
    "    def m1(cls):\n",
    "        cls.a = 20\n",
    "Test.m1()\n",
    "print(Test.a)"
   ]
  },
  {
   "cell_type": "code",
   "execution_count": 38,
   "metadata": {},
   "outputs": [
    {
     "name": "stdout",
     "output_type": "stream",
     "text": [
      "30\n"
     ]
    }
   ],
   "source": [
    "class Test:\n",
    "    a = 10\n",
    "    @classmethod\n",
    "    def m1(cls):\n",
    "        cls.a = 20\n",
    "    @staticmethod\n",
    "    def m2():\n",
    "        Test.a = 30\n",
    "Test.m1()\n",
    "Test.m2()\n",
    "print(Test.a)"
   ]
  },
  {
   "cell_type": "code",
   "execution_count": 40,
   "metadata": {},
   "outputs": [
    {
     "name": "stdout",
     "output_type": "stream",
     "text": [
      "10\n",
      "2000\n"
     ]
    }
   ],
   "source": [
    "class Test:\n",
    "    a = 10\n",
    "    def m(self):\n",
    "        self.a = 2000\n",
    "t = Test()\n",
    "t.m()\n",
    "print(Test.a)\n",
    "print(t.a)"
   ]
  },
  {
   "cell_type": "code",
   "execution_count": 43,
   "metadata": {},
   "outputs": [
    {
     "name": "stdout",
     "output_type": "stream",
     "text": [
      "{'__module__': '__main__', 'a': 10, 'm1': <classmethod object at 0x000002B6A9DD8250>, '__dict__': <attribute '__dict__' of 'Test' objects>, '__weakref__': <attribute '__weakref__' of 'Test' objects>, '__doc__': None}\n"
     ]
    }
   ],
   "source": [
    "class Test:\n",
    "    a = 10\n",
    "    @classmethod\n",
    "    def m1(cls):\n",
    "        del cls.a\n",
    "print(Test.__dict__)"
   ]
  },
  {
   "cell_type": "code",
   "execution_count": 44,
   "metadata": {},
   "outputs": [
    {
     "name": "stdout",
     "output_type": "stream",
     "text": [
      "{'__module__': '__main__', 'm1': <classmethod object at 0x000002B6A9DE9220>, '__dict__': <attribute '__dict__' of 'Test' objects>, '__weakref__': <attribute '__weakref__' of 'Test' objects>, '__doc__': None}\n"
     ]
    }
   ],
   "source": [
    "class Test:\n",
    "    a = 10\n",
    "    @classmethod\n",
    "    def m1(cls):\n",
    "        del cls.a\n",
    "t = Test()\n",
    "t.m1()\n",
    "print(Test.__dict__)"
   ]
  },
  {
   "cell_type": "code",
   "execution_count": 45,
   "metadata": {},
   "outputs": [
    {
     "name": "stdout",
     "output_type": "stream",
     "text": [
      "{'__module__': '__main__', 'a': 10, '__init__': <function Test.__init__ at 0x000002B6A9C620D0>, 'm1': <function Test.m1 at 0x000002B6A9C62280>, 'm2': <classmethod object at 0x000002B6A9F2CBE0>, 'm3': <staticmethod object at 0x000002B6A9F2CCA0>, '__dict__': <attribute '__dict__' of 'Test' objects>, '__weakref__': <attribute '__weakref__' of 'Test' objects>, '__doc__': None}\n"
     ]
    }
   ],
   "source": [
    "class Test:\n",
    "    a = 10\n",
    "    def __init__(self):\n",
    "        Test.b = 20\n",
    "        del Test.a\n",
    "    def m1(self):\n",
    "        Test.c = 30\n",
    "        del Test.b\n",
    "    @classmethod\n",
    "    def m2(cls):\n",
    "        Test.d = 40\n",
    "        del Test.c\n",
    "    @staticmethod\n",
    "    def m3():\n",
    "        del Test.d\n",
    "print(Test.__dict__)"
   ]
  },
  {
   "cell_type": "code",
   "execution_count": 46,
   "metadata": {},
   "outputs": [
    {
     "name": "stdout",
     "output_type": "stream",
     "text": [
      "{'__module__': '__main__', '__init__': <function Test.__init__ at 0x000002B6A9C62AF0>, 'm1': <function Test.m1 at 0x000002B6A9C62040>, 'm2': <classmethod object at 0x000002B6A9F2C640>, 'm3': <staticmethod object at 0x000002B6A9F2C1C0>, '__dict__': <attribute '__dict__' of 'Test' objects>, '__weakref__': <attribute '__weakref__' of 'Test' objects>, '__doc__': None, 'b': 20}\n"
     ]
    }
   ],
   "source": [
    "class Test:\n",
    "    a = 10\n",
    "    def __init__(self):\n",
    "        Test.b = 20\n",
    "        del Test.a\n",
    "    def m1(self):\n",
    "        Test.c = 30\n",
    "        del Test.b\n",
    "    @classmethod\n",
    "    def m2(cls):\n",
    "        Test.d = 40\n",
    "        del Test.c\n",
    "    @staticmethod\n",
    "    def m3():\n",
    "        del Test.d\n",
    "t = Test() # Executing constructor\n",
    "print(Test.__dict__)"
   ]
  },
  {
   "cell_type": "code",
   "execution_count": 47,
   "metadata": {},
   "outputs": [
    {
     "name": "stdout",
     "output_type": "stream",
     "text": [
      "{'__module__': '__main__', '__init__': <function Test.__init__ at 0x000002B6AA2CC9D0>, 'm1': <function Test.m1 at 0x000002B6AA2CCB80>, 'm2': <classmethod object at 0x000002B6A9DE90A0>, 'm3': <staticmethod object at 0x000002B6A9DE9EE0>, '__dict__': <attribute '__dict__' of 'Test' objects>, '__weakref__': <attribute '__weakref__' of 'Test' objects>, '__doc__': None, 'c': 30}\n"
     ]
    }
   ],
   "source": [
    "class Test:\n",
    "    a = 10\n",
    "    def __init__(self):\n",
    "        Test.b = 20\n",
    "        del Test.a\n",
    "    def m1(self):\n",
    "        Test.c = 30\n",
    "        del Test.b\n",
    "    @classmethod\n",
    "    def m2(cls):\n",
    "        Test.d = 40\n",
    "        del Test.c\n",
    "    @staticmethod\n",
    "    def m3():\n",
    "        del Test.d\n",
    "t = Test() # Executing constructor\n",
    "t.m1() # Executing method m1\n",
    "print(Test.__dict__)"
   ]
  },
  {
   "cell_type": "code",
   "execution_count": 48,
   "metadata": {},
   "outputs": [
    {
     "name": "stdout",
     "output_type": "stream",
     "text": [
      "{'__module__': '__main__', '__init__': <function Test.__init__ at 0x000002B6A9B211F0>, 'm1': <function Test.m1 at 0x000002B6A9B21160>, 'm2': <classmethod object at 0x000002B6A9DE9D60>, 'm3': <staticmethod object at 0x000002B6A9DE98E0>, '__dict__': <attribute '__dict__' of 'Test' objects>, '__weakref__': <attribute '__weakref__' of 'Test' objects>, '__doc__': None, 'd': 40}\n"
     ]
    }
   ],
   "source": [
    "class Test:\n",
    "    a = 10\n",
    "    def __init__(self):\n",
    "        Test.b = 20\n",
    "        del Test.a\n",
    "    def m1(self):\n",
    "        Test.c = 30\n",
    "        del Test.b\n",
    "    @classmethod\n",
    "    def m2(cls):\n",
    "        Test.d = 40\n",
    "        del Test.c\n",
    "    @staticmethod\n",
    "    def m3():\n",
    "        del Test.d\n",
    "t = Test() # Executing constructor\n",
    "t.m1() # Executing method m1\n",
    "Test.m2() # Executing classmethod\n",
    "print(Test.__dict__)"
   ]
  },
  {
   "cell_type": "code",
   "execution_count": 49,
   "metadata": {},
   "outputs": [
    {
     "name": "stdout",
     "output_type": "stream",
     "text": [
      "{'__module__': '__main__', '__init__': <function Test.__init__ at 0x000002B6A9B213A0>, 'm1': <function Test.m1 at 0x000002B6A9B21430>, 'm2': <classmethod object at 0x000002B6A99B7190>, 'm3': <staticmethod object at 0x000002B6A99B71C0>, '__dict__': <attribute '__dict__' of 'Test' objects>, '__weakref__': <attribute '__weakref__' of 'Test' objects>, '__doc__': None}\n"
     ]
    }
   ],
   "source": [
    "class Test:\n",
    "    a = 10\n",
    "    def __init__(self):\n",
    "        Test.b = 20\n",
    "        del Test.a\n",
    "    def m1(self):\n",
    "        Test.c = 30\n",
    "        del Test.b\n",
    "    @classmethod\n",
    "    def m2(cls):\n",
    "        Test.d = 40\n",
    "        del Test.c\n",
    "    @staticmethod\n",
    "    def m3():\n",
    "        del Test.d\n",
    "t = Test() # Executing constructor\n",
    "t.m1() # Executing method m1\n",
    "Test.m2() # Executing classmethod\n",
    "Test.m3() # Executing static method\n",
    "print(Test.__dict__)"
   ]
  },
  {
   "cell_type": "code",
   "execution_count": 50,
   "metadata": {},
   "outputs": [
    {
     "name": "stdout",
     "output_type": "stream",
     "text": [
      "{'__module__': '__main__', '__init__': <function Test.__init__ at 0x000002B6A9B21670>, 'm1': <function Test.m1 at 0x000002B6A9B215E0>, 'm2': <classmethod object at 0x000002B6A9F2C340>, 'm3': <staticmethod object at 0x000002B6A9F2CC10>, '__dict__': <attribute '__dict__' of 'Test' objects>, '__weakref__': <attribute '__weakref__' of 'Test' objects>, '__doc__': None, 'd': 40, 'e': 50}\n"
     ]
    }
   ],
   "source": [
    "class Test:\n",
    "    a = 10\n",
    "    def __init__(self):\n",
    "        Test.b = 20\n",
    "        del Test.a\n",
    "    def m1(self):\n",
    "        Test.c = 30\n",
    "        del Test.b\n",
    "    @classmethod\n",
    "    def m2(cls):\n",
    "        Test.d = 40\n",
    "        del Test.c\n",
    "    @staticmethod\n",
    "    def m3():\n",
    "        del Test.d\n",
    "t = Test() # Executing constructor\n",
    "t.m1() # Executing method m1\n",
    "Test.m2() # Executing classmethod\n",
    "Test.e = 50\n",
    "print(Test.__dict__)"
   ]
  },
  {
   "cell_type": "code",
   "execution_count": 51,
   "metadata": {},
   "outputs": [
    {
     "name": "stdout",
     "output_type": "stream",
     "text": [
      "100\n",
      "200\n"
     ]
    }
   ],
   "source": [
    "class Test:\n",
    "    def m1(self):\n",
    "        a = 100 # Local variable\n",
    "        print(a)\n",
    "    def m2(self):\n",
    "        b = 200 # Local variable\n",
    "        print(b)\n",
    "t = Test()\n",
    "t.m1()\n",
    "t.m2()"
   ]
  },
  {
   "cell_type": "code",
   "execution_count": 52,
   "metadata": {
    "collapsed": true
   },
   "outputs": [
    {
     "name": "stdout",
     "output_type": "stream",
     "text": [
      "100\n"
     ]
    },
    {
     "ename": "NameError",
     "evalue": "name 'a' is not defined",
     "output_type": "error",
     "traceback": [
      "\u001b[1;31m---------------------------------------------------------------------------\u001b[0m",
      "\u001b[1;31mNameError\u001b[0m                                 Traceback (most recent call last)",
      "\u001b[1;32m<ipython-input-52-fd048f71cd85>\u001b[0m in \u001b[0;36m<module>\u001b[1;34m\u001b[0m\n\u001b[0;32m      9\u001b[0m \u001b[0mt\u001b[0m \u001b[1;33m=\u001b[0m \u001b[0mTest\u001b[0m\u001b[1;33m(\u001b[0m\u001b[1;33m)\u001b[0m\u001b[1;33m\u001b[0m\u001b[1;33m\u001b[0m\u001b[0m\n\u001b[0;32m     10\u001b[0m \u001b[0mt\u001b[0m\u001b[1;33m.\u001b[0m\u001b[0mm1\u001b[0m\u001b[1;33m(\u001b[0m\u001b[1;33m)\u001b[0m\u001b[1;33m\u001b[0m\u001b[1;33m\u001b[0m\u001b[0m\n\u001b[1;32m---> 11\u001b[1;33m \u001b[0mt\u001b[0m\u001b[1;33m.\u001b[0m\u001b[0mm2\u001b[0m\u001b[1;33m(\u001b[0m\u001b[1;33m)\u001b[0m\u001b[1;33m\u001b[0m\u001b[1;33m\u001b[0m\u001b[0m\n\u001b[0m",
      "\u001b[1;32m<ipython-input-52-fd048f71cd85>\u001b[0m in \u001b[0;36mm2\u001b[1;34m(self)\u001b[0m\n\u001b[0;32m      5\u001b[0m     \u001b[1;32mdef\u001b[0m \u001b[0mm2\u001b[0m\u001b[1;33m(\u001b[0m\u001b[0mself\u001b[0m\u001b[1;33m)\u001b[0m\u001b[1;33m:\u001b[0m\u001b[1;33m\u001b[0m\u001b[1;33m\u001b[0m\u001b[0m\n\u001b[0;32m      6\u001b[0m         \u001b[0mb\u001b[0m \u001b[1;33m=\u001b[0m \u001b[1;36m200\u001b[0m \u001b[1;31m# Local variable\u001b[0m\u001b[1;33m\u001b[0m\u001b[1;33m\u001b[0m\u001b[0m\n\u001b[1;32m----> 7\u001b[1;33m         \u001b[0mprint\u001b[0m\u001b[1;33m(\u001b[0m\u001b[0ma\u001b[0m\u001b[1;33m)\u001b[0m\u001b[1;33m\u001b[0m\u001b[1;33m\u001b[0m\u001b[0m\n\u001b[0m\u001b[0;32m      8\u001b[0m         \u001b[0mprint\u001b[0m\u001b[1;33m(\u001b[0m\u001b[0mb\u001b[0m\u001b[1;33m)\u001b[0m\u001b[1;33m\u001b[0m\u001b[1;33m\u001b[0m\u001b[0m\n\u001b[0;32m      9\u001b[0m \u001b[0mt\u001b[0m \u001b[1;33m=\u001b[0m \u001b[0mTest\u001b[0m\u001b[1;33m(\u001b[0m\u001b[1;33m)\u001b[0m\u001b[1;33m\u001b[0m\u001b[1;33m\u001b[0m\u001b[0m\n",
      "\u001b[1;31mNameError\u001b[0m: name 'a' is not defined"
     ]
    }
   ],
   "source": [
    "class Test:\n",
    "    def m1(self):\n",
    "        a = 100 # Local variable\n",
    "        print(a)\n",
    "    def m2(self):\n",
    "        b = 200 # Local variable\n",
    "        print(a) # Local Variables are temporary variables\n",
    "        print(b)\n",
    "t = Test()\n",
    "t.m1()\n",
    "t.m2()"
   ]
  },
  {
   "cell_type": "code",
   "execution_count": 56,
   "metadata": {},
   "outputs": [
    {
     "name": "stdout",
     "output_type": "stream",
     "text": [
      "100\n",
      "100\n",
      "200\n"
     ]
    }
   ],
   "source": [
    "class Test:\n",
    "    def m1(self):\n",
    "        Test.a = 100 # Here a is a static variable\n",
    "        print(Test.a)\n",
    "    def m2(self):\n",
    "        b = 200 \n",
    "        print(Test.a)\n",
    "        print(b)\n",
    "t = Test()\n",
    "t.m1()\n",
    "t.m2()"
   ]
  },
  {
   "cell_type": "code",
   "execution_count": null,
   "metadata": {},
   "outputs": [],
   "source": []
  }
 ],
 "metadata": {
  "kernelspec": {
   "display_name": "Python 3.10.8 ('lesgeven')",
   "language": "python",
   "name": "python3"
  },
  "language_info": {
   "codemirror_mode": {
    "name": "ipython",
    "version": 3
   },
   "file_extension": ".py",
   "mimetype": "text/x-python",
   "name": "python",
   "nbconvert_exporter": "python",
   "pygments_lexer": "ipython3",
   "version": "3.10.8 | packaged by conda-forge | (main, Nov 24 2022, 14:07:00) [MSC v.1916 64 bit (AMD64)]"
  },
  "vscode": {
   "interpreter": {
    "hash": "9a3f8754118d89546ba66fd3e8c423f2768f1186c6b5f42757b60aabc450c67b"
   }
  }
 },
 "nbformat": 4,
 "nbformat_minor": 4
}
