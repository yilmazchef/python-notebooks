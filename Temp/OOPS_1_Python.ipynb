{
 "cells": [
  {
   "cell_type": "code",
   "execution_count": null,
   "metadata": {},
   "outputs": [],
   "source": [
    "class Student:\n",
    "    ''' This class is developed by PRITHVI for demo purpose'''\n",
    "\n",
    "print(student.__doc__)"
   ]
  },
  {
   "cell_type": "code",
   "execution_count": null,
   "metadata": {},
   "outputs": [],
   "source": [
    "help(Student)"
   ]
  },
  {
   "cell_type": "code",
   "execution_count": null,
   "metadata": {},
   "outputs": [],
   "source": [
    "class Student:\n",
    "        def __init__(self):\n",
    "            self.name = \"Prithvi\"\n",
    "            self.rollno = 587\n",
    "            self.marks = 90\n",
    "        def details(self):\n",
    "            print(\"MY NAME IS :\",self.name)\n",
    "            print(\"MY ROLLNO IS :\",self.rollno)\n",
    "            print(\"MY MARKS ARE :\",self.marks)\n",
    "s = Student()\n",
    "print(s.name)\n",
    "print(s.rollno)\n",
    "print(s.marks)\n",
    "s.details()"
   ]
  },
  {
   "cell_type": "code",
   "execution_count": null,
   "metadata": {},
   "outputs": [],
   "source": [
    "class Student:\n",
    "        def __init__(self):\n",
    "            print(\"Constructor executed.\")\n",
    "            self.name = \"Prithvi\"\n",
    "            self.rollno = 587\n",
    "            self.marks = 90\n",
    "        def details(self):\n",
    "            print(\"MY NAME IS :\",self.name)\n",
    "            print(\"MY ROLLNO IS :\",self.rollno)\n",
    "            print(\"MY MARKS ARE :\",self.marks)\n",
    "s1 = Student()\n",
    "s2 = Student()\n",
    "print(id(s1))\n",
    "print(id(s2))"
   ]
  },
  {
   "cell_type": "code",
   "execution_count": null,
   "metadata": {},
   "outputs": [],
   "source": [
    "print(s1.name)\n",
    "print(s2.name)"
   ]
  },
  {
   "cell_type": "code",
   "execution_count": null,
   "metadata": {},
   "outputs": [],
   "source": [
    "class Student1:\n",
    "    def __init__(self,name,rollno,marks):\n",
    "        self.name = name\n",
    "        self.rollno = rollno\n",
    "        self.marks = marks\n",
    "    def details(self):\n",
    "        print(\"MY NAME IS :\",self.name)\n",
    "        print(\"MY ROLL NO IS :\",self.rollno)\n",
    "        print(\"MY MARKS ARE :\",self.marks)\n",
    "ss = Student1(\"India\",1,100)\n",
    "print(\"Student1:\",ss.name,ss.rollno,ss.marks)"
   ]
  },
  {
   "cell_type": "code",
   "execution_count": null,
   "metadata": {},
   "outputs": [],
   "source": [
    "class Student2:\n",
    "    def __init__(self,x,y,z): # NOT A GOOD PROGRAMMING PROCESS.\n",
    "        self.name = x\n",
    "        self.rollno = y\n",
    "        self.marks = z\n",
    "    def details(self):\n",
    "        print(\"MY NAME IS :\",self.name)\n",
    "        print(\"MY ROLL NO IS :\",self.rollno)\n",
    "        print(\"MY MARKS ARE :\",self.marks)\n",
    "se = Student1(\"India\",1,100)\n",
    "print(\"Student1:\",se.name,se.rollno,se.marks)"
   ]
  },
  {
   "cell_type": "code",
   "execution_count": null,
   "metadata": {},
   "outputs": [],
   "source": [
    "se2 = Student1(\"cikhsv\",34,45)\n",
    "print(\"Student1:\",se2.name,se2.rollno,se2.marks)"
   ]
  },
  {
   "cell_type": "code",
   "execution_count": null,
   "metadata": {},
   "outputs": [],
   "source": [
    "type(se2)"
   ]
  },
  {
   "cell_type": "code",
   "execution_count": null,
   "metadata": {},
   "outputs": [],
   "source": [
    "class Test:\n",
    "    def __init__(self):\n",
    "        print(\"Address of object refered by self :\",id(self))\n",
    "t = Test()\n",
    "print(\"Address of the object refered by t :\",id(t))"
   ]
  },
  {
   "cell_type": "code",
   "execution_count": null,
   "metadata": {},
   "outputs": [],
   "source": [
    "class Student1:\n",
    "    def __init__(self,name,rollno,marks):\n",
    "        self.name = name\n",
    "        self.rollno = rollno\n",
    "        self.marks = marks\n",
    "    def details(self):\n",
    "        print(\"MY NAME IS :\",self.name)\n",
    "        print(\"MY ROLL NO IS :\",self.rollno)\n",
    "        print(\"MY MARKS ARE :\",self.marks)\n",
    "ss1 = Student1(\"India\",1,100)\n",
    "ss2 = Student1(\"ycfghvj\",87,5)\n",
    "ss1.details()\n",
    "ss2.details()"
   ]
  },
  {
   "cell_type": "code",
   "execution_count": null,
   "metadata": {},
   "outputs": [],
   "source": [
    "class Test:\n",
    "    def __init__(self):\n",
    "        print(\"constructor\")\n",
    "    def m1(self,m):\n",
    "        print(\"method\")\n",
    "t = Test()\n",
    "t.m1(10)"
   ]
  },
  {
   "cell_type": "code",
   "execution_count": null,
   "metadata": {},
   "outputs": [],
   "source": [
    "class Test:\n",
    "    def __init__(x):\n",
    "        print(\"constructor\")\n",
    "t = Test()"
   ]
  },
  {
   "cell_type": "raw",
   "metadata": {},
   "source": [
    "class Test: # ERROR\n",
    "    def __init__(x):\n",
    "        print(\"constructor\")\n",
    "t = Test(x=10)"
   ]
  },
  {
   "cell_type": "code",
   "execution_count": null,
   "metadata": {},
   "outputs": [],
   "source": [
    "class Test:\n",
    "    def m1(self):\n",
    "        print(\"method\")\n",
    "t = Test()\n",
    "t.m1()"
   ]
  },
  {
   "cell_type": "code",
   "execution_count": null,
   "metadata": {},
   "outputs": [],
   "source": [
    "class Test:\n",
    "    def __init__(self):\n",
    "        print(\"constructor\")\n",
    "t = Test()\n",
    "t.__init__()"
   ]
  },
  {
   "cell_type": "code",
   "execution_count": null,
   "metadata": {},
   "outputs": [],
   "source": [
    "class Test:\n",
    "    def __init__(self):\n",
    "        print(\"constructor\")\n",
    "t = Test()\n",
    "t.__init__()\n",
    "t.__init__()\n",
    "t.__init__()\n",
    "t.__init__()\n",
    "t.__init__()\n",
    "t.__init__()\n",
    "t.__init__()\n",
    "t.__init__()\n",
    "t.__init__()\n",
    "t.__init__()\n",
    "t.__init__()\n",
    "t.__init__()\n",
    "t.__init__()\n",
    "t.__init__()"
   ]
  },
  {
   "cell_type": "code",
   "execution_count": null,
   "metadata": {},
   "outputs": [],
   "source": [
    "class Test:\n",
    "    def __init__(self):\n",
    "        print(\"constructor\",id(self))\n",
    "t = Test()\n",
    "print(id(t))\n",
    "t.__init__()\n",
    "t.__init__()\n",
    "t.__init__()\n",
    "print(id(t.__init__()))"
   ]
  },
  {
   "cell_type": "code",
   "execution_count": null,
   "metadata": {},
   "outputs": [],
   "source": [
    "class Test1:\n",
    "    def __init__(self):\n",
    "        print(\"first constructor\")\n",
    "    def __init__(self,x):\n",
    "        print(\"second constructor\")\n",
    "#te = Test1()\n",
    "te = Test1(10)"
   ]
  },
  {
   "cell_type": "code",
   "execution_count": null,
   "metadata": {},
   "outputs": [],
   "source": [
    "class Test:\n",
    "    def __init__(self,name):\n",
    "        self.name=name\n",
    "t = Test(\"Prithvi\")\n",
    "print(t.name)\n",
    "t.__init__(\"Raj\")\n",
    "print(t.name)"
   ]
  },
  {
   "cell_type": "code",
   "execution_count": null,
   "metadata": {},
   "outputs": [],
   "source": [
    "class Test:\n",
    "    def Test(self):\n",
    "        print(\"running\")\n",
    "t = Test()"
   ]
  },
  {
   "cell_type": "code",
   "execution_count": null,
   "metadata": {},
   "outputs": [],
   "source": [
    "t.Test()"
   ]
  },
  {
   "cell_type": "code",
   "execution_count": null,
   "metadata": {},
   "outputs": [],
   "source": [
    "class Employee:\n",
    "    def __init__(self,name,age,salary):\n",
    "        self.name = name\n",
    "        self.age = age\n",
    "        self.salary = salary\n",
    "    def get_bonus(self):\n",
    "        bonus = self.salary*0.1\n",
    "        return bonus\n",
    "e = Employee(\"Prithvi\",60,100000)\n",
    "print(e.get_bonus())"
   ]
  },
  {
   "cell_type": "code",
   "execution_count": null,
   "metadata": {},
   "outputs": [],
   "source": [
    "class Movie:\n",
    "    '''Movie class developed by prithvi for practice purpose'''\n",
    "    def __init__(self,tite,hero,herione):\n",
    "        self.title = title\n",
    "        self.hero = hero\n",
    "        self.heroine = heroine\n",
    "    def details(self):\n",
    "        print(\"Title name is :\",self.title)\n",
    "        print(\"Hero name is :\",self.hero)\n",
    "        print(\"Heroine name is :\",self.heroine)\n",
    "list_of_movies = []\n",
    "while True:\n",
    "    title = input(\"Enter movie title name :\")\n",
    "    hero = input(\"Enter hero name :\")\n",
    "    heroine = input(\"Enter heroie name :\")\n",
    "    m = Movie(title,hero,heroine)\n",
    "    list_of_movies.append(m)\n",
    "    print(\"Movie added to the list successful\")\n",
    "    option = input(\"DO you want to add one more movie [yes|no]\")\n",
    "    if option.lower() == \"no\":\n",
    "        break\n",
    "print(\"All movies information\")\n",
    "print(\"#\"*40)\n",
    "for movie in list_of_movies:\n",
    "    movie.details()\n",
    "    print()"
   ]
  },
  {
   "cell_type": "code",
   "execution_count": null,
   "metadata": {},
   "outputs": [],
   "source": [
    "list_of_movies"
   ]
  },
  {
   "cell_type": "code",
   "execution_count": null,
   "metadata": {},
   "outputs": [],
   "source": [
    "class Student:\n",
    "    collegeName = \"JNTUH\" # Static Variable (if this variable is same for everyone then take Static variable) else take Instance Variable\n",
    "    def __init__(self,name,rollno):\n",
    "        self.name = name       # Instance Variable\n",
    "        self.rollno = rollno   # Instance Variable\n",
    "    def m(self):\n",
    "        x = 10  ## Local Variable\n",
    "        for i in range(x):\n",
    "            print(i)\n",
    "        "
   ]
  },
  {
   "cell_type": "raw",
   "metadata": {},
   "source": [
    "1) Instance Variables = object level variables\n",
    "2) Static Variables = Class Level Variables\n",
    "3) Local Variables = Method Level Variables"
   ]
  },
  {
   "cell_type": "raw",
   "metadata": {},
   "source": [
    "1) Instance Method = Object Related Method\n",
    "2) Class Method =  Class Related Method\n",
    "3) Static Method = General Utility Method"
   ]
  },
  {
   "cell_type": "code",
   "execution_count": null,
   "metadata": {},
   "outputs": [],
   "source": [
    "class Test:\n",
    "    @classmethod\n",
    "    def m1(cls):\n",
    "        print(id(cls))\n",
    "    @classmethod\n",
    "    def m2(cls):\n",
    "        print(id(cls))\n",
    "print(id(Test))\n",
    "Test.m1()\n",
    "Test.m2()"
   ]
  },
  {
   "cell_type": "code",
   "execution_count": null,
   "metadata": {},
   "outputs": [],
   "source": [
    "class Student:\n",
    "    CollegeName = \"JNTUN\"\n",
    "    Director = \"RAJ\"\n",
    "    def __init__(self,name,rollno):\n",
    "        self.name = name\n",
    "        self.rollno = rollno\n",
    "    def getStudentInfo(self): # INSTANCE METHOD\n",
    "        print(\"StudentName:\",self.name)\n",
    "        print(\"Studentrolno:\",self.rollno)\n",
    "    @classmethod #Decoratoe\n",
    "    def getCollegeInfo(cls): # CLASS METHOD\n",
    "        print(\"CollegeName:\",cls.CollegeName)\n",
    "        print(\"DirectorName:\",cls.Director)\n",
    "    @staticmethod #Decorator\n",
    "    def getAverage(a,b,c): # STATIC METHOD\n",
    "        return (a+b+c)/3\n",
    "    \n",
    "s = Student(\"Raj\",587)\n",
    "s.getStudentInfo()\n",
    "Student.getCollegeInfo()\n",
    "average = Student.getAverage(10,20,30)\n",
    "print(\"The Average is:\",average)"
   ]
  },
  {
   "cell_type": "code",
   "execution_count": null,
   "metadata": {},
   "outputs": [],
   "source": [
    "class Test:\n",
    "    def __init__(self):\n",
    "        self.a = 10\n",
    "        self.b = 20\n",
    "    def m1(self):\n",
    "        self.c = 30\n",
    "t = Test()\n",
    "t.m1()\n",
    "t.d = 40\n",
    "t.e = 50\n",
    "print(t.__dict__)"
   ]
  },
  {
   "cell_type": "code",
   "execution_count": null,
   "metadata": {},
   "outputs": [],
   "source": [
    "t2 = Test()\n",
    "t2.d = 40"
   ]
  },
  {
   "cell_type": "code",
   "execution_count": null,
   "metadata": {},
   "outputs": [],
   "source": [
    "print(t2.__dict__)"
   ]
  },
  {
   "cell_type": "code",
   "execution_count": null,
   "metadata": {},
   "outputs": [],
   "source": [
    "class Test:\n",
    "    def __init__(self):\n",
    "        self.a = 10\n",
    "        self.b = 20\n",
    "        print(self.a)\n",
    "        print(self.b)\n",
    "    def m1(self):\n",
    "        print(self.a)\n",
    "        print(self.b)\n",
    "t = Test()\n",
    "t.m1()"
   ]
  },
  {
   "cell_type": "code",
   "execution_count": null,
   "metadata": {},
   "outputs": [],
   "source": [
    "class Test:\n",
    "    def __init__(self):\n",
    "        self.a = 10\n",
    "        self.b = 20\n",
    "        self.c = 30\n",
    "        self.d = 40\n",
    "    def m(self):\n",
    "        del self.a\n",
    "t = Test()\n",
    "print(t.__dict__)\n",
    "t.m()\n",
    "print(t.__dict__)\n",
    "del t.b\n",
    "del t.c\n",
    "del t.d\n",
    "print(t.__dict__)"
   ]
  },
  {
   "cell_type": "code",
   "execution_count": null,
   "metadata": {},
   "outputs": [],
   "source": [
    "class Test:\n",
    "    def __init__(self):\n",
    "        self.a = 10\n",
    "        self.b = 20\n",
    "        self.c = 30\n",
    "        self.d = 40\n",
    "    def m(self):\n",
    "        del self.a\n",
    "t1 = Test()\n",
    "t2 = Test()\n",
    "del t1.a\n",
    "print(t1.__dict__)\n",
    "print(t2.__dict__)"
   ]
  },
  {
   "cell_type": "code",
   "execution_count": null,
   "metadata": {},
   "outputs": [],
   "source": [
    "class Test:\n",
    "    def __init__(self):\n",
    "        self.a = 10\n",
    "        self.b = 20\n",
    "t1 = Test()\n",
    "t2 = Test()\n",
    "t1.a = 1000\n",
    "t1.b = 2000\n",
    "print(t1.__dict__)\n",
    "print(t2.__dict__)"
   ]
  },
  {
   "cell_type": "code",
   "execution_count": null,
   "metadata": {},
   "outputs": [],
   "source": [
    "class Test:\n",
    "    a = 10\n",
    "print(Test.__dict__)"
   ]
  },
  {
   "cell_type": "code",
   "execution_count": null,
   "metadata": {},
   "outputs": [],
   "source": [
    "class Test:\n",
    "    a = 10\n",
    "    def __init__(self):\n",
    "        Test.b = 20\n",
    "t = Test()\n",
    "print(Test.__dict__)"
   ]
  },
  {
   "cell_type": "code",
   "execution_count": null,
   "metadata": {},
   "outputs": [],
   "source": [
    "class Test:\n",
    "    a = 10\n",
    "    def __init__(self):\n",
    "        Test.b = 20\n",
    "    def m1(self):\n",
    "        Test.c = 30\n",
    "t = Test()\n",
    "t.m1()\n",
    "print(Test.__dict__)"
   ]
  },
  {
   "cell_type": "code",
   "execution_count": null,
   "metadata": {},
   "outputs": [],
   "source": [
    "class Test:\n",
    "    a = 10\n",
    "    def __init__(self):\n",
    "        Test.b = 20\n",
    "    def m1(self):\n",
    "        Test.c = 30\n",
    "    @classmethod\n",
    "    def m2(cls):\n",
    "        Test.d = 40\n",
    "        cls.e = 50\n",
    "    @staticmethod\n",
    "    def m3():\n",
    "        Test.f = 60\n",
    "t = Test()\n",
    "t.m1()\n",
    "Test.m2()\n",
    "Test.m3()\n",
    "Test.g = 70\n",
    "print(Test.__dict__)"
   ]
  },
  {
   "cell_type": "code",
   "execution_count": null,
   "metadata": {},
   "outputs": [],
   "source": [
    "class Test:\n",
    "    a = 10\n",
    "    def __init__(self):\n",
    "        print(self.a)\n",
    "        print(Test.a)\n",
    "    def m1(self):\n",
    "        print(self.a)\n",
    "        print(Test.a)\n",
    "    @classmethod\n",
    "    def m2(cls):\n",
    "        print(cls.a)\n",
    "        print(Test.a)\n",
    "    @staticmethod\n",
    "    def m3():\n",
    "        print(Test.a)\n",
    "t = Test()\n",
    "t.m1()\n",
    "Test.m2()\n",
    "Test.m3\n",
    "print(t.a)\n",
    "print(Test.a)\n",
    "print(Test.__dict__)"
   ]
  },
  {
   "cell_type": "code",
   "execution_count": null,
   "metadata": {},
   "outputs": [],
   "source": [
    "class Test:\n",
    "    a = 10\n",
    "    @classmethod\n",
    "    def m1(cls):\n",
    "        cls.a = 20\n",
    "Test.m1()\n",
    "print(Test.a)"
   ]
  },
  {
   "cell_type": "code",
   "execution_count": null,
   "metadata": {},
   "outputs": [],
   "source": [
    "class Test:\n",
    "    a = 10\n",
    "    @classmethod\n",
    "    def m1(cls):\n",
    "        cls.a = 20\n",
    "    @staticmethod\n",
    "    def m2():\n",
    "        Test.a = 30\n",
    "Test.m1()\n",
    "Test.m2()\n",
    "print(Test.a)"
   ]
  },
  {
   "cell_type": "code",
   "execution_count": null,
   "metadata": {},
   "outputs": [],
   "source": [
    "class Test:\n",
    "    a = 10\n",
    "    def m(self):\n",
    "        self.a = 2000\n",
    "t = Test()\n",
    "t.m()\n",
    "print(Test.a)\n",
    "print(t.a)"
   ]
  },
  {
   "cell_type": "code",
   "execution_count": null,
   "metadata": {},
   "outputs": [],
   "source": [
    "class Test:\n",
    "    a = 10\n",
    "    @classmethod\n",
    "    def m1(cls):\n",
    "        del cls.a\n",
    "print(Test.__dict__)"
   ]
  },
  {
   "cell_type": "code",
   "execution_count": null,
   "metadata": {},
   "outputs": [],
   "source": [
    "class Test:\n",
    "    a = 10\n",
    "    @classmethod\n",
    "    def m1(cls):\n",
    "        del cls.a\n",
    "t = Test()\n",
    "t.m1()\n",
    "print(Test.__dict__)"
   ]
  },
  {
   "cell_type": "code",
   "execution_count": null,
   "metadata": {},
   "outputs": [],
   "source": [
    "class Test:\n",
    "    a = 10\n",
    "    def __init__(self):\n",
    "        Test.b = 20\n",
    "        del Test.a\n",
    "    def m1(self):\n",
    "        Test.c = 30\n",
    "        del Test.b\n",
    "    @classmethod\n",
    "    def m2(cls):\n",
    "        Test.d = 40\n",
    "        del Test.c\n",
    "    @staticmethod\n",
    "    def m3():\n",
    "        del Test.d\n",
    "print(Test.__dict__)"
   ]
  },
  {
   "cell_type": "code",
   "execution_count": null,
   "metadata": {},
   "outputs": [],
   "source": [
    "class Test:\n",
    "    a = 10\n",
    "    def __init__(self):\n",
    "        Test.b = 20\n",
    "        del Test.a\n",
    "    def m1(self):\n",
    "        Test.c = 30\n",
    "        del Test.b\n",
    "    @classmethod\n",
    "    def m2(cls):\n",
    "        Test.d = 40\n",
    "        del Test.c\n",
    "    @staticmethod\n",
    "    def m3():\n",
    "        del Test.d\n",
    "t = Test() # Executing constructor\n",
    "print(Test.__dict__)"
   ]
  },
  {
   "cell_type": "code",
   "execution_count": null,
   "metadata": {},
   "outputs": [],
   "source": [
    "class Test:\n",
    "    a = 10\n",
    "    def __init__(self):\n",
    "        Test.b = 20\n",
    "        del Test.a\n",
    "    def m1(self):\n",
    "        Test.c = 30\n",
    "        del Test.b\n",
    "    @classmethod\n",
    "    def m2(cls):\n",
    "        Test.d = 40\n",
    "        del Test.c\n",
    "    @staticmethod\n",
    "    def m3():\n",
    "        del Test.d\n",
    "t = Test() # Executing constructor\n",
    "t.m1() # Executing method m1\n",
    "print(Test.__dict__)"
   ]
  },
  {
   "cell_type": "code",
   "execution_count": null,
   "metadata": {},
   "outputs": [],
   "source": [
    "class Test:\n",
    "    a = 10\n",
    "    def __init__(self):\n",
    "        Test.b = 20\n",
    "        del Test.a\n",
    "    def m1(self):\n",
    "        Test.c = 30\n",
    "        del Test.b\n",
    "    @classmethod\n",
    "    def m2(cls):\n",
    "        Test.d = 40\n",
    "        del Test.c\n",
    "    @staticmethod\n",
    "    def m3():\n",
    "        del Test.d\n",
    "t = Test() # Executing constructor\n",
    "t.m1() # Executing method m1\n",
    "Test.m2() # Executing classmethod\n",
    "print(Test.__dict__)"
   ]
  },
  {
   "cell_type": "code",
   "execution_count": null,
   "metadata": {},
   "outputs": [],
   "source": [
    "class Test:\n",
    "    a = 10\n",
    "    def __init__(self):\n",
    "        Test.b = 20\n",
    "        del Test.a\n",
    "    def m1(self):\n",
    "        Test.c = 30\n",
    "        del Test.b\n",
    "    @classmethod\n",
    "    def m2(cls):\n",
    "        Test.d = 40\n",
    "        del Test.c\n",
    "    @staticmethod\n",
    "    def m3():\n",
    "        del Test.d\n",
    "t = Test() # Executing constructor\n",
    "t.m1() # Executing method m1\n",
    "Test.m2() # Executing classmethod\n",
    "Test.m3() # Executing static method\n",
    "print(Test.__dict__)"
   ]
  },
  {
   "cell_type": "code",
   "execution_count": null,
   "metadata": {},
   "outputs": [],
   "source": [
    "class Test:\n",
    "    a = 10\n",
    "    def __init__(self):\n",
    "        Test.b = 20\n",
    "        del Test.a\n",
    "    def m1(self):\n",
    "        Test.c = 30\n",
    "        del Test.b\n",
    "    @classmethod\n",
    "    def m2(cls):\n",
    "        Test.d = 40\n",
    "        del Test.c\n",
    "    @staticmethod\n",
    "    def m3():\n",
    "        del Test.d\n",
    "t = Test() # Executing constructor\n",
    "t.m1() # Executing method m1\n",
    "Test.m2() # Executing classmethod\n",
    "Test.e = 50\n",
    "print(Test.__dict__)"
   ]
  },
  {
   "cell_type": "code",
   "execution_count": null,
   "metadata": {},
   "outputs": [],
   "source": [
    "class Test:\n",
    "    def m1(self):\n",
    "        a = 100 # Local variable\n",
    "        print(a)\n",
    "    def m2(self):\n",
    "        b = 200 # Local variable\n",
    "        print(b)\n",
    "t = Test()\n",
    "t.m1()\n",
    "t.m2()"
   ]
  },
  {
   "cell_type": "code",
   "execution_count": null,
   "metadata": {
    "collapsed": true
   },
   "outputs": [],
   "source": [
    "class Test:\n",
    "    def m1(self):\n",
    "        a = 100 # Local variable\n",
    "        print(a)\n",
    "    def m2(self):\n",
    "        b = 200 # Local variable\n",
    "        print(a) # Local Variables are temporary variables\n",
    "        print(b)\n",
    "t = Test()\n",
    "t.m1()\n",
    "t.m2()"
   ]
  },
  {
   "cell_type": "code",
   "execution_count": null,
   "metadata": {},
   "outputs": [],
   "source": [
    "class Test:\n",
    "    def m1(self):\n",
    "        Test.a = 100 # Here a is a static variable\n",
    "        print(Test.a)\n",
    "    def m2(self):\n",
    "        b = 200 \n",
    "        print(Test.a)\n",
    "        print(b)\n",
    "t = Test()\n",
    "t.m1()\n",
    "t.m2()"
   ]
  },
  {
   "cell_type": "code",
   "execution_count": null,
   "metadata": {},
   "outputs": [],
   "source": []
  }
 ],
 "metadata": {
  "kernelspec": {
   "display_name": "Python 3.10.8 ('lesgeven')",
   "language": "python",
   "name": "python3"
  },
  "language_info": {
   "codemirror_mode": {
    "name": "ipython",
    "version": 3
   },
   "file_extension": ".py",
   "mimetype": "text/x-python",
   "name": "python",
   "nbconvert_exporter": "python",
   "pygments_lexer": "ipython3",
   "version": "3.10.8 | packaged by conda-forge | (main, Nov 24 2022, 14:07:00) [MSC v.1916 64 bit (AMD64)]"
  },
  "vscode": {
   "interpreter": {
    "hash": "9a3f8754118d89546ba66fd3e8c423f2768f1186c6b5f42757b60aabc450c67b"
   }
  }
 },
 "nbformat": 4,
 "nbformat_minor": 4
}
