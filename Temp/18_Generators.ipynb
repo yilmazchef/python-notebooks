{
 "cells": [
  {
   "cell_type": "markdown",
   "metadata": {},
   "source": [
    "Python Generator Tutorial for Beginners\n",
    "\n",
    " \n",
    "Python Tutorials | By Meenakshi Agarwal\n",
    "This tutorial should help you learn, create and use Python Generator functions and expressions. It also covers some essential facts such as why and when to use them in programs, and what makes a generator different from an iterator and a regular function.\n",
    "\n",
    "Understand the Generator in Python\n",
    "Create Generator in Python\n",
    "Using Function\n",
    "Using Expression\n",
    "How to Use Generator?\n",
    "Using next() Method\n",
    "Using For loop\n",
    "Return Vs. Yield\n",
    "Generator Vs. Function\n",
    "When to use a Generator?\n",
    "Why use Generators?\n",
    "Understand Python Generator\n",
    "A generator in Python is a function with unique abilities. We can either suspend or resume it at run-time. It returns an iterator object which we can step through and access a single value in each iteration.\n",
    "\n",
    "Alternatively, we can say that the generator provides a way of creating iterators. It solves the following common problem.\n",
    "\n",
    "In Python, it is cumbersome to build an iterator. First, we require to write a class and implement the __iter__() and __next__() methods. Secondly, we need to manage the internal states and throw StopIteration exception when there is no element to return."
   ]
  },
  {
   "cell_type": "markdown",
   "metadata": {},
   "source": [
    "We write a generator in the same style as we write a user-defined function.\n",
    "\n",
    "The difference is that we use the yield statement instead of the return. It notifies Python interpreter that the function is a generator and returns an iterator."
   ]
  },
  {
   "cell_type": "raw",
   "metadata": {},
   "source": [
    "# Generator Function Syntax\n",
    "# \n",
    "def gen_func(args):\n",
    "    ...\n",
    "    while [cond]:\n",
    "        ...\n",
    "        yield [value]"
   ]
  },
  {
   "cell_type": "markdown",
   "metadata": {},
   "source": [
    "The return statement is the last call in a function, whereas the yield temporarily suspends the function, preserves the states, and resumes execution later."
   ]
  },
  {
   "cell_type": "code",
   "execution_count": null,
   "metadata": {},
   "outputs": [],
   "source": [
    "# Demonstrate Python Generator Function\n",
    "\n",
    "def fibonacci(xterms):\n",
    "    # first two terms\n",
    "    x1 = 0\n",
    "    x2 = 1\n",
    "    count = 0\n",
    "\n",
    "    if xterms <= 0:\n",
    "       print(\"Please provide a +ve integer\")\n",
    "    elif xterms == 1:\n",
    "       print(\"Fibonacci seq upto\",xterms,\":\")\n",
    "       print(x1)\n",
    "    else:\n",
    "       while count < xterms:\n",
    "           xth = x1 + x2\n",
    "           x1 = x2\n",
    "           x2 = xth\n",
    "           count += 1\n",
    "           yield xth\n",
    "\n",
    "fib = fibonacci(10)\n",
    "\n",
    "print(next(fib))\n",
    "print(next(fib))\n",
    "print(next(fib))\n",
    "print(next(fib))\n",
    "print(next(fib))\n",
    "print(next(fib))"
   ]
  },
  {
   "cell_type": "code",
   "execution_count": null,
   "metadata": {},
   "outputs": [],
   "source": [
    "alist = ['Python', 'Java', 'C', 'C++', 'CSharp']\n",
    "def list_items():\n",
    "    for item in alist:\n",
    "        yield item\n",
    "\n",
    "gen = list_items()\n",
    "\n",
    "iter = 0\n",
    "\n",
    "while iter < len(alist):  \n",
    "    print(next(gen))\n",
    "    iter += 1"
   ]
  },
  {
   "cell_type": "code",
   "execution_count": 3,
   "metadata": {},
   "outputs": [
    {
     "name": "stdout",
     "output_type": "stream",
     "text": [
      "Python\n",
      "Java\n",
      "C\n",
      "C++\n",
      "CSharp\n"
     ]
    }
   ],
   "source": [
    "alist = ['Python', 'Java', 'C', 'C++', 'CSharp']\n",
    "def list_items():\n",
    "    for item in alist:\n",
    "        yield item\n",
    "\n",
    "gen = list_items()\n",
    "\n",
    "for item in gen:\n",
    "    print(item)"
   ]
  },
  {
   "cell_type": "markdown",
   "metadata": {},
   "source": [
    "### Return Vs. Yield\n",
    "The return is a final statement of a function. It provides a way to send some value back. While returning, its local stack also gets flushed. And any new call will begin execution from the very first statement.\n",
    "\n",
    "On the contrary, the yield preserves the state between subsequent function calls. It resumes execution from the point where it gave back the control to the caller, i.e., right after the last yield statement."
   ]
  },
  {
   "cell_type": "code",
   "execution_count": null,
   "metadata": {},
   "outputs": [],
   "source": []
  }
 ],
 "metadata": {
  "kernelspec": {
   "display_name": "Python 3",
   "language": "python",
   "name": "python3"
  },
  "language_info": {
   "codemirror_mode": {
    "name": "ipython",
    "version": 3
   },
   "file_extension": ".py",
   "mimetype": "text/x-python",
   "name": "python",
   "nbconvert_exporter": "python",
   "pygments_lexer": "ipython3",
   "version": "3.7.3"
  }
 },
 "nbformat": 4,
 "nbformat_minor": 2
}
