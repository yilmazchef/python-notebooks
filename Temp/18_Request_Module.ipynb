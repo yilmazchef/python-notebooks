{
 "cells": [
  {
   "cell_type": "markdown",
   "metadata": {},
   "source": [
    "### What Is Requests Module?\n",
    "Requests is a Python module that you can use to send all kinds of HTTP requests. It is an easy-to-use library with a lot of features ranging from passing parameters in URLs to sending custom headers and SSL Verification. In this tutorial, you will learn how to use this library to send simple HTTP requests in Python.\n",
    "\n",
    "Requests allow you to send HTTP/1.1 requests. You can add headers, form data, multi-part files, and parameters with simple Python dictionaries, and access the response data in the same way."
   ]
  },
  {
   "cell_type": "code",
   "execution_count": 1,
   "metadata": {},
   "outputs": [],
   "source": [
    "import requests\n",
    "req = requests.get('https://www.python.org/')"
   ]
  },
  {
   "cell_type": "code",
   "execution_count": 2,
   "metadata": {},
   "outputs": [
    {
     "name": "stdout",
     "output_type": "stream",
     "text": [
      "<Response [200]>\n",
      "<class 'requests.models.Response'>\n"
     ]
    }
   ],
   "source": [
    "print(req)\n",
    "print(type(req))"
   ]
  },
  {
   "cell_type": "code",
   "execution_count": 3,
   "metadata": {},
   "outputs": [
    {
     "name": "stdout",
     "output_type": "stream",
     "text": [
      "['__attrs__', '__bool__', '__class__', '__delattr__', '__dict__', '__dir__', '__doc__', '__enter__', '__eq__', '__exit__', '__format__', '__ge__', '__getattribute__', '__getstate__', '__gt__', '__hash__', '__init__', '__init_subclass__', '__iter__', '__le__', '__lt__', '__module__', '__ne__', '__new__', '__nonzero__', '__reduce__', '__reduce_ex__', '__repr__', '__setattr__', '__setstate__', '__sizeof__', '__str__', '__subclasshook__', '__weakref__', '_content', '_content_consumed', '_next', 'apparent_encoding', 'close', 'connection', 'content', 'cookies', 'elapsed', 'encoding', 'headers', 'history', 'is_permanent_redirect', 'is_redirect', 'iter_content', 'iter_lines', 'json', 'links', 'next', 'ok', 'raise_for_status', 'raw', 'reason', 'request', 'status_code', 'text', 'url']\n"
     ]
    }
   ],
   "source": [
    "print(dir(req))"
   ]
  },
  {
   "cell_type": "code",
   "execution_count": 4,
   "metadata": {},
   "outputs": [
    {
     "name": "stdout",
     "output_type": "stream",
     "text": [
      "200\n"
     ]
    }
   ],
   "source": [
    "# print(req.encoding) # returns 'utf-8'\n",
    "print(req.status_code) # returns 200"
   ]
  },
  {
   "cell_type": "code",
   "execution_count": 5,
   "metadata": {},
   "outputs": [
    {
     "name": "stdout",
     "output_type": "stream",
     "text": [
      "utf-8\n",
      "200\n",
      "0:00:00.178089\n",
      "https://www.python.org/\n",
      "[]\n",
      "text/html; charset=utf-8\n"
     ]
    }
   ],
   "source": [
    "import requests\n",
    "req = requests.get('https://www.python.org/')\n",
    " \n",
    "print(req.encoding) # returns 'utf-8'\n",
    "print(req.status_code) # returns 200\n",
    "print(req.elapsed) # returns datetime.timedelta(0, 1, 666890)\n",
    "print(req.url) # returns 'https://edureka.co/'\n",
    " \n",
    "print(req.history) \n",
    "# returns [&lt;Response [301]&gt;, &lt;Response [301]&gt;]\n",
    " \n",
    "print(req.headers['Content-Type'])"
   ]
  },
  {
   "cell_type": "code",
   "execution_count": 7,
   "metadata": {},
   "outputs": [
    {
     "data": {
      "text/plain": [
       "'https://pixabay.com/en/photos/?q=Forest&order=popular&min_width=800&min_height=600'"
      ]
     },
     "execution_count": 7,
     "metadata": {},
     "output_type": "execute_result"
    }
   ],
   "source": [
    "import requests\n",
    " \n",
    "query = {'q': 'Forest', 'order': 'popular', 'min_width': '800', 'min_height': '600'}\n",
    "req = requests.get('https://pixabay.com/en/photos/', params=query)\n",
    "\n",
    "req.url"
   ]
  },
  {
   "cell_type": "markdown",
   "metadata": {},
   "source": [
    "### Making a POST Request\n",
    "Making a POST request is just as easy as making GET requests. You just use the post() function instead of get()."
   ]
  },
  {
   "cell_type": "code",
   "execution_count": 8,
   "metadata": {},
   "outputs": [],
   "source": [
    "import requests\n",
    "req = requests.post('https://en.wikipedia.org/w/index.php', data = {'search':'Nanotechnology'})\n",
    "req.raise_for_status()\n",
    "with open('Nanotechnology.html', 'wb') as fd:\n",
    "    for chunk in req.iter_content(chunk_size=50000):\n",
    "        fd.write(chunk)"
   ]
  },
  {
   "cell_type": "code",
   "execution_count": 9,
   "metadata": {},
   "outputs": [],
   "source": [
    "import requests\n",
    " \n",
    "url = 'http://some-domain.com/set/cookies/headers'\n",
    " \n",
    "headers = {'user-agent': 'your-own-user-agent/0.0.1'}\n",
    "cookies = {'visit-month': 'February'}\n",
    " \n",
    "req = requests.get(url, headers=headers, cookies=cookies)"
   ]
  },
  {
   "cell_type": "code",
   "execution_count": null,
   "metadata": {},
   "outputs": [],
   "source": []
  }
 ],
 "metadata": {
  "kernelspec": {
   "display_name": "sandbox",
   "language": "python",
   "name": "python3"
  },
  "language_info": {
   "codemirror_mode": {
    "name": "ipython",
    "version": 3
   },
   "file_extension": ".py",
   "mimetype": "text/x-python",
   "name": "python",
   "nbconvert_exporter": "python",
   "pygments_lexer": "ipython3",
   "version": "3.10.8"
  },
  "vscode": {
   "interpreter": {
    "hash": "a80be7237836b31ed17ae5d7df51c188fd457e64d55a094952c3b311ea6376aa"
   }
  }
 },
 "nbformat": 4,
 "nbformat_minor": 2
}
