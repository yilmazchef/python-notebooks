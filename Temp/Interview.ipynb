{
 "cells": [
  {
   "cell_type": "markdown",
   "metadata": {},
   "source": [
    "1 how to print last 10 byets of text from .txt file# We have eamil id at last 20 bytes how to read and validate from file\n"
   ]
  },
  {
   "cell_type": "code",
   "execution_count": null,
   "metadata": {},
   "outputs": [],
   "source": [
    "in_file = open(\"output.txt\", \"rb\") # opening for [r]eading as [b]inary\n",
    "in_file.seek(-10, 2)\n",
    "s = in_file.read(10)\n",
    "print(s)"
   ]
  },
  {
   "cell_type": "code",
   "execution_count": null,
   "metadata": {},
   "outputs": [],
   "source": [
    "import re\n",
    "with open('text1.txt','rb') as f:\n",
    "    p = re.compile(r'''[a-zA-Z0-9.+-_%]+\\@[a-zA-Z0-9.-]+\\.[a-zA-Z]{2,4}''', re.VERBOSE)\n",
    "    f.seek(-100,2)\n",
    "    print(p.findall(str(f.read())))"
   ]
  },
  {
   "cell_type": "markdown",
   "metadata": {},
   "source": [
    "Sort the list without using inbuilt functions and new list \n"
   ]
  },
  {
   "cell_type": "code",
   "execution_count": null,
   "metadata": {},
   "outputs": [],
   "source": [
    "l=[100,2,343,343,3433]\n",
    "for i in range(len(l)):\n",
    "    for j in range(len(l)-1):\n",
    "        if l[j]>l[j+1]:\n",
    "            l[j],l[j+1]=l[j+1],l[j]\n",
    "print (l)\n",
    "        "
   ]
  },
  {
   "cell_type": "markdown",
   "metadata": {},
   "source": [
    "Reverse and replace a word in string ?"
   ]
  },
  {
   "cell_type": "code",
   "execution_count": null,
   "metadata": {},
   "outputs": [],
   "source": [
    "# Reverse and replace a word in string \n",
    "s = \"Practical programming for total beginners. Written by Al Sweigart\"\n",
    "w = 'Sweigart'\n",
    "print(s.replace(w,w[::-1]))"
   ]
  },
  {
   "cell_type": "code",
   "execution_count": null,
   "metadata": {},
   "outputs": [],
   "source": [
    " # Print the border of given 3 lists?\n",
    "a = [1,2,3]\n",
    "b = [4,5,6]\n",
    "c = [7,8,9]\n",
    "border=''\n",
    "for i in [a,b,c]:\n",
    "    border+=str(i[0])+str(i[-1])\n",
    "print (border)"
   ]
  },
  {
   "cell_type": "code",
   "execution_count": null,
   "metadata": {},
   "outputs": [],
   "source": [
    "# Print start and end index of maximum continuous occurance of 10 's in the given series \n",
    "s1 = '10110011010101101011111101010101011110'\n",
    "s = s1.replace('10','**').replace('1','0')\n",
    "print(s)\n",
    "a = s.split('0')\n",
    "p = max(a).replace('**','10')\n",
    "print(s1.find(p),s1.find(p)+len(p))\n",
    "print(s1[s1.find(p):s1.find(p)+len(p)])\n",
    "\n",
    "# replace all 10 by *\n",
    "# replace all 1 by 0\n",
    "# now split by 0\n",
    "# find max in list \n",
    "# find the location of max"
   ]
  },
  {
   "cell_type": "code",
   "execution_count": null,
   "metadata": {},
   "outputs": [],
   "source": [
    "#Read the given file and check the key wors like 'error, warning, message',and create the file with that text \n",
    "\n",
    "message=[\"error\",\"warning\",\"debug\"]\n",
    "fp=open(\"logs.txt\",'r')\n",
    "for line in fp:\n",
    "    for i in message:\n",
    "        if line.find(i):\n",
    "            print (line)\n"
   ]
  },
  {
   "cell_type": "code",
   "execution_count": null,
   "metadata": {},
   "outputs": [],
   "source": [
    "#Read text file and count no of sepcial characters in a file and save it in dictionary save output in text file\n",
    "\n",
    "fp=open(\"logs.txt\",'r')\n",
    "s=fp.read()\n",
    "print(s)\n",
    "d={}\n",
    "for i in s:\n",
    "    if (not i.isalnum()):\n",
    "        if i in d:\n",
    "            d[i]=d[i]+1\n",
    "        else:\n",
    "            d[i]=1\n",
    "print(d)\n",
    "\n",
    "# for line in fp:\n",
    "#     for i in message:\n",
    "#         if line.find(i):\n",
    "#             print (line)"
   ]
  },
  {
   "cell_type": "code",
   "execution_count": null,
   "metadata": {},
   "outputs": [],
   "source": [
    "#count no of words in each file in a directory\n",
    "import os\n",
    "d = {}\n",
    "for i in os.listdir(os.getcwd()):\n",
    "    if i.endswith('.txt'):\n",
    "        with open(i,'r') as f:\n",
    "            d[i] = len(f.read().split(' '))\n",
    "print(d)"
   ]
  },
  {
   "cell_type": "code",
   "execution_count": null,
   "metadata": {},
   "outputs": [],
   "source": [
    "a=\"abcdefgh\"\n",
    "b=\"xyz\" \n",
    "c=12345\n",
    "for i in [a,b,c]:\n",
    "    if type(i)!=str:\n",
    "        i =str(i)\n",
    "        print(i)\n",
    "    for i in range(8):\n",
    "        print(a[i]+b[i]+c[i])"
   ]
  },
  {
   "cell_type": "code",
   "execution_count": null,
   "metadata": {},
   "outputs": [],
   "source": [
    "dir(str)"
   ]
  },
  {
   "cell_type": "code",
   "execution_count": null,
   "metadata": {},
   "outputs": [],
   "source": [
    "n=5\n",
    "factor=1\n",
    "for i in range(5):\n",
    "    factor+=factor*i\n",
    "print (factor)"
   ]
  },
  {
   "cell_type": "code",
   "execution_count": null,
   "metadata": {},
   "outputs": [],
   "source": [
    "from functools import reduce\n",
    "\n",
    "factor=1\n",
    "for i in range(1,6):\n",
    "    print(i)\n",
    "    factor=factor*i\n",
    " \n",
    "print (factor)\n",
    "strfactor=str(factor)\n",
    "#  reduce(lambda x, y: x+y, [47,11,42,33,43,13])\n",
    "sumf=reduce(lambda a,b: a+b , [1,2,3,4])\n",
    "print(sumf)"
   ]
  },
  {
   "cell_type": "code",
   "execution_count": null,
   "metadata": {},
   "outputs": [],
   "source": [
    "5*4*3*2*1"
   ]
  },
  {
   "cell_type": "code",
   "execution_count": null,
   "metadata": {},
   "outputs": [],
   "source": [
    "import sys\n",
    "s=\"python\"\n",
    "s1=\"python\"\n",
    "s3=\"python\"\n",
    "s4=\"python\"\n",
    "s5=\"python\"\n",
    "del s5\n",
    "del s4\n",
    "sys.getrefcount(s1)"
   ]
  },
  {
   "cell_type": "markdown",
   "metadata": {},
   "source": [
    "## The Global Interpreter Lock (GIL)\n",
    "The GIL is a solution to the common problem of dealing with shared resources, like memory in a computer. When two threads try to modify the same resource at the same time, they can step on each other’s toes. The end result can be a garbled mess where neither of the threads ends up with what they wanted.\n",
    "\n",
    "Consider the book analogy again. Suppose that two authors stubbornly decide that it’s their turn to write. Not only that, but they both need to write on the same page of the book at the same time.\n",
    "\n",
    "They each ignore the other’s attempt to craft a story and begin writing on the page. The end result is two stories on top of each other, which makes the whole page completely unreadable.\n",
    "\n",
    "One solution to this problem is a single, global lock on the interpreter when a thread is interacting with the shared resource (the page in the book). In other words, only one author can write at a time.\n",
    "\n",
    "Python’s GIL accomplishes this by locking the entire interpreter, meaning that it’s not possible for another thread to step on the current one. When CPython handles memory, it uses the GIL to ensure that it does so safely."
   ]
  },
  {
   "cell_type": "code",
   "execution_count": null,
   "metadata": {},
   "outputs": [],
   "source": [
    "# sum of list by recursion\n",
    "def listsum(numList):\n",
    "   if len(numList) == 1:\n",
    "        return numList[0]\n",
    "   else:\n",
    "        return numList[0] + listsum(numList[1:])\n",
    "\n",
    "print(listsum([1,3,5,7,9]))"
   ]
  },
  {
   "cell_type": "code",
   "execution_count": null,
   "metadata": {},
   "outputs": [],
   "source": [
    "def listsum(numList):\n",
    "   if len(numList) == 1:\n",
    "        return numList[0]\n",
    "   else:\n",
    "        return numList[0] + listsum(numList[1:])\n",
    "\n",
    "print(listsum([1,3,5,7,9]))"
   ]
  },
  {
   "cell_type": "code",
   "execution_count": null,
   "metadata": {},
   "outputs": [],
   "source": [
    "def recursive_index(L, v):\n",
    "    return 0 if L[0] == v else 1 + recursive_index(L[1:], v)\n",
    "l=[100,200,300]\n",
    "v=200\n",
    "recursive_index(l,200)"
   ]
  }
 ],
 "metadata": {
  "kernelspec": {
   "display_name": "Python 3",
   "language": "python",
   "name": "python3"
  },
  "language_info": {
   "codemirror_mode": {
    "name": "ipython",
    "version": 3
   },
   "file_extension": ".py",
   "mimetype": "text/x-python",
   "name": "python",
   "nbconvert_exporter": "python",
   "pygments_lexer": "ipython3",
   "version": "3.7.3"
  }
 },
 "nbformat": 4,
 "nbformat_minor": 2
}
