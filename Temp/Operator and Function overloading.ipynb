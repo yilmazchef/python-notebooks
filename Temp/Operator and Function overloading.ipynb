{
 "cells": [
  {
   "cell_type": "markdown",
   "metadata": {},
   "source": [
    "If you’ve used the + or * operator on a str object in Python, you must have noticed its different behavior when compared to int or float objects:"
   ]
  },
  {
   "cell_type": "code",
   "execution_count": null,
   "metadata": {},
   "outputs": [],
   "source": [
    " # Adds the two numbers\n",
    "1 + 2"
   ]
  },
  {
   "cell_type": "code",
   "execution_count": null,
   "metadata": {},
   "outputs": [],
   "source": [
    "# Concatenates the two strings\n",
    "'Real' + 'Python'"
   ]
  },
  {
   "cell_type": "code",
   "execution_count": null,
   "metadata": {},
   "outputs": [],
   "source": [
    "# Gives the product\n",
    "3 * 2"
   ]
  },
  {
   "cell_type": "code",
   "execution_count": null,
   "metadata": {},
   "outputs": [],
   "source": [
    "# Repeats the string\n",
    "'Python' * 3"
   ]
  },
  {
   "cell_type": "markdown",
   "metadata": {},
   "source": [
    "Every class in Python defines its own behavior for built-in functions and methods. When you pass an instance of some class to a built-in function or use an operator on the instance, it is actually equivalent to calling a special method with relevant arguments.\n",
    "\n",
    "If there is a built-in function, func(), and the corresponding special method for the function is __func__(), Python interprets a call to the function as obj.__func__(), where obj is the object. In the case of operators, if you have an operator opr and the corresponding special method for it is __opr__(), Python interprets something like obj1 <opr> obj2 as obj1.__opr__(obj2).\n",
    "\n",
    "So, when you’re calling len() on an object, Python handles the call as obj.__len__(). When you use the [] operator on an iterable to obtain the value at an index, Python handles it as itr.__getitem__(index), where itr is the iterable object and index is the index you want to obtain.\n",
    "\n",
    "Therefore, when you define these special methods in your own class, you override the behavior of the function or operator associated with them because, behind the scenes, Python is calling your method. Let’s get a better understanding of this:"
   ]
  },
  {
   "cell_type": "code",
   "execution_count": null,
   "metadata": {},
   "outputs": [],
   "source": [
    "a = 'Real Python'\n",
    "len(a)"
   ]
  },
  {
   "cell_type": "code",
   "execution_count": null,
   "metadata": {},
   "outputs": [],
   "source": [
    "b = ['Real', 'Python']\n",
    "len(b)"
   ]
  },
  {
   "cell_type": "code",
   "execution_count": null,
   "metadata": {},
   "outputs": [],
   "source": [
    "dir(a)"
   ]
  },
  {
   "cell_type": "code",
   "execution_count": null,
   "metadata": {},
   "outputs": [],
   "source": [
    "dir(b)"
   ]
  },
  {
   "cell_type": "code",
   "execution_count": null,
   "metadata": {},
   "outputs": [],
   "source": [
    "a.__len__()"
   ]
  },
  {
   "cell_type": "code",
   "execution_count": null,
   "metadata": {},
   "outputs": [],
   "source": [
    "b.__len__()"
   ]
  },
  {
   "cell_type": "code",
   "execution_count": null,
   "metadata": {},
   "outputs": [],
   "source": [
    "b"
   ]
  },
  {
   "cell_type": "code",
   "execution_count": null,
   "metadata": {},
   "outputs": [],
   "source": [
    "b[0]"
   ]
  },
  {
   "cell_type": "code",
   "execution_count": null,
   "metadata": {},
   "outputs": [],
   "source": [
    "b.__getitem__(0)"
   ]
  },
  {
   "cell_type": "markdown",
   "metadata": {},
   "source": [
    "### Overloading Built-in Functions\n"
   ]
  },
  {
   "cell_type": "code",
   "execution_count": null,
   "metadata": {},
   "outputs": [],
   "source": [
    "class Order:\n",
    "    def __init__(self, cart, customer):\n",
    "        self.cart = list(cart)\n",
    "        self.customer = customer\n",
    "    def __len__(self):\n",
    "        return len(self.cart)\n",
    "order = Order(['banana', 'apple', 'mango'], 'Real Python')\n",
    "len(order)"
   ]
  },
  {
   "cell_type": "code",
   "execution_count": null,
   "metadata": {},
   "outputs": [],
   "source": [
    "dir(order)"
   ]
  },
  {
   "cell_type": "code",
   "execution_count": null,
   "metadata": {},
   "outputs": [],
   "source": [
    "class Order:\n",
    "    def __init__(self, cart, customer):\n",
    "        self.cart = list(cart)\n",
    "        self.customer = customer\n",
    "order = Order(['banana', 'apple', 'mango'], 'Real Python')\n",
    "len(order)  # Calling len when no __len__"
   ]
  },
  {
   "cell_type": "markdown",
   "metadata": {},
   "source": [
    "But, when overloading len(), you should keep in mind that Python requires the function to return an integer. If your method were to return anything other than an integer, you would get a TypeErro"
   ]
  },
  {
   "cell_type": "code",
   "execution_count": null,
   "metadata": {},
   "outputs": [],
   "source": [
    "class Order:\n",
    "    def __init__(self, cart, customer):\n",
    "        self.cart = list(cart)\n",
    "        self.customer = customer\n",
    "    def __len__(self):\n",
    "        return float(len(self.cart))  # Return type changed to float\n",
    "order = Order(['banana', 'apple', 'mango'], 'Real Python')\n",
    "len(order)\n",
    "print(order)"
   ]
  },
  {
   "cell_type": "code",
   "execution_count": null,
   "metadata": {},
   "outputs": [],
   "source": [
    "#  class Vector:\n",
    "#         def __init__(self, x_comp, y_comp):\n",
    "#             self.x_comp = x_comp\n",
    "#             self.y_comp = y_comp\n",
    "#         def __abs__(self):\n",
    "# #             return (self.x_comp * self.x_comp + self. y_comp*self. y_comp) ** 0.5\n",
    "#             return (self.x_comp * self.y_comp)\n",
    "\n",
    "# vector = Vector(3, 4)\n",
    "# abs(vector)"
   ]
  },
  {
   "cell_type": "code",
   "execution_count": null,
   "metadata": {},
   "outputs": [],
   "source": [
    "abs(-10)"
   ]
  },
  {
   "cell_type": "markdown",
   "metadata": {},
   "source": [
    "#### Printing Your Objects Prettily Using str()"
   ]
  },
  {
   "cell_type": "code",
   "execution_count": null,
   "metadata": {},
   "outputs": [],
   "source": [
    "class Order:\n",
    "    def __init__(self, cart, customer):\n",
    "        self.cart = list(cart)\n",
    "        self.customer = customer\n",
    "    def __str__(self):\n",
    "        return (\"order:\" +str(self.cart) + \" customer : \"+self.customer ) # Return type changed to float\n",
    "order = Order(['banana', 'apple', 'mango'], 'Real Python')\n",
    "print(order)"
   ]
  },
  {
   "cell_type": "code",
   "execution_count": null,
   "metadata": {},
   "outputs": [],
   "source": [
    "class Vector:\n",
    "    def __init__(self, x_comp, y_comp):\n",
    "        self.x_comp = x_comp\n",
    "        self.y_comp = y_comp\n",
    "    def __str__(self):\n",
    "      # By default, sign of +ve number is not displayed\n",
    "       # Using `+`, sign is always displayed\n",
    "      return f'{self.x_comp}i{self.y_comp:+}j'\n",
    "vector = Vector(3, 4)\n",
    "print(vector)"
   ]
  },
  {
   "cell_type": "code",
   "execution_count": null,
   "metadata": {},
   "outputs": [],
   "source": [
    "str(vector)"
   ]
  },
  {
   "cell_type": "markdown",
   "metadata": {},
   "source": [
    "repr(): evaluatable string representation of an object (can \"eval()\" it, meaning it is a string representation that evaluates to a Python object)\n"
   ]
  },
  {
   "cell_type": "code",
   "execution_count": null,
   "metadata": {},
   "outputs": [],
   "source": [
    "x = 'foo'\n",
    "repr(x)"
   ]
  },
  {
   "cell_type": "markdown",
   "metadata": {},
   "source": [
    "Following are differences:\n",
    "\n",
    "* str() is used for creating output for end user while repr() is mainly used for debugging and development. repr’s goal is to be unambiguous and str’s is to be readable. For example, if we suspect a float has a small rounding error, repr will show us while str may not.\n",
    "* repr() compute the “official” string representation of an object (a representation that has all information about the abject) and str() is used to compute the “informal” string representation of an object (a representation that is useful for printing the object).\n",
    "* The print statement and str() built-in function uses __str__ to display the string representation of the object while the repr() built-in function uses __repr__ to display the object."
   ]
  },
  {
   "cell_type": "code",
   "execution_count": null,
   "metadata": {},
   "outputs": [],
   "source": [
    "s = 'Hello, Geeks.'\n",
    "print (str(s)) "
   ]
  },
  {
   "cell_type": "code",
   "execution_count": null,
   "metadata": {},
   "outputs": [],
   "source": [
    "repr(s) "
   ]
  },
  {
   "cell_type": "code",
   "execution_count": null,
   "metadata": {},
   "outputs": [],
   "source": [
    "str(2.0/111.0) "
   ]
  },
  {
   "cell_type": "code",
   "execution_count": null,
   "metadata": {},
   "outputs": [],
   "source": [
    "repr(2.0/111.0) "
   ]
  },
  {
   "cell_type": "code",
   "execution_count": null,
   "metadata": {},
   "outputs": [],
   "source": [
    "import datetime \n",
    "\n",
    "today = datetime.datetime.now() \n",
    "\n",
    "# Prints readable format for date-time object \n",
    "print (str(today)) \n",
    "  \n",
    "# prints the official format of date-time object \n",
    "print (repr(today) )"
   ]
  },
  {
   "cell_type": "code",
   "execution_count": null,
   "metadata": {},
   "outputs": [],
   "source": [
    "class Vector:\n",
    "    def __init__(self, x_comp, y_comp):\n",
    "        self.x_comp = x_comp\n",
    "        self.y_comp = y_comp\n",
    "    def __repr__(self):\n",
    "        return f'Vector({self.x_comp}, {self.y_comp})'\n",
    "vector = Vector(3, 4)\n",
    "repr(vector)"
   ]
  },
  {
   "cell_type": "code",
   "execution_count": null,
   "metadata": {},
   "outputs": [],
   "source": [
    "class Order:\n",
    "    def __init__(self, cart, customer):\n",
    "        self.cart = list(cart)\n",
    "        self.customer = customer\n",
    "    def __bool__(self):\n",
    "        return len(self.cart) > 0\n",
    "order1 = Order(['banana', 'apple', 'mango'], 'Real Python')\n",
    "order2 = Order([], 'Python')\n",
    "bool(order1)"
   ]
  },
  {
   "cell_type": "code",
   "execution_count": null,
   "metadata": {},
   "outputs": [],
   "source": [
    "5>6"
   ]
  },
  {
   "cell_type": "code",
   "execution_count": null,
   "metadata": {},
   "outputs": [],
   "source": [
    "bool(order2)"
   ]
  },
  {
   "cell_type": "code",
   "execution_count": null,
   "metadata": {},
   "outputs": [],
   "source": [
    "for order in [order1, order2]:\n",
    "    if order:\n",
    "        print(f\"{order.customer}'s order is processing...\")\n",
    "    else:\n",
    "        print(f\"Empty order for customer {order.customer}\")"
   ]
  },
  {
   "cell_type": "code",
   "execution_count": null,
   "metadata": {},
   "outputs": [],
   "source": [
    "class Order:\n",
    "    def __init__(self, cart, customer):\n",
    "        self.cart = list(cart)\n",
    "        self.customer = customer\n",
    "    def __add__(self, other):\n",
    "        new_cart = self.cart.copy()\n",
    "        new_cart.append(other)\n",
    "        return Order(new_cart, self.customer)\n",
    "\n",
    "order = Order(['banana', 'apple'], 'Real Python')"
   ]
  },
  {
   "cell_type": "code",
   "execution_count": null,
   "metadata": {},
   "outputs": [],
   "source": [
    "(order + 'orange').cart  # New Order instance"
   ]
  },
  {
   "cell_type": "code",
   "execution_count": null,
   "metadata": {},
   "outputs": [],
   "source": [
    "order.cart  # Original instance unchanged"
   ]
  },
  {
   "cell_type": "code",
   "execution_count": null,
   "metadata": {},
   "outputs": [],
   "source": [
    "order = order + 'mango'  # Changing the original instance\n",
    "order.cart"
   ]
  },
  {
   "cell_type": "code",
   "execution_count": null,
   "metadata": {},
   "outputs": [],
   "source": [
    "a+=10\n",
    "a=a+10"
   ]
  },
  {
   "cell_type": "code",
   "execution_count": null,
   "metadata": {},
   "outputs": [],
   "source": [
    "class Order:\n",
    "    def __init__(self, cart, customer):\n",
    "        self.cart = list(cart)\n",
    "        self.customer = customer\n",
    "    def __iadd__(self, other):\n",
    "        self.cart.append(other)\n",
    "        return self\n",
    "order = Order(['banana', 'apple'], 'Real Python')\n",
    "order += 'mango'\n",
    "order.cart"
   ]
  },
  {
   "cell_type": "markdown",
   "metadata": {},
   "source": [
    "Indexing and Slicing Your Objects Using []\n",
    "\n"
   ]
  },
  {
   "cell_type": "code",
   "execution_count": null,
   "metadata": {},
   "outputs": [],
   "source": [
    "class Order:\n",
    "    def __init__(self, cart, customer):\n",
    "        self.cart = list(cart)\n",
    "        self.customer = customer\n",
    "    def __getitem__(self, key):\n",
    "        return self.cart[key]\n",
    "order = Order(['banana', 'apple'], 'Real Python')\n",
    "order[-1]"
   ]
  },
  {
   "cell_type": "code",
   "execution_count": null,
   "metadata": {},
   "outputs": [],
   "source": [
    "order[0]\n"
   ]
  },
  {
   "cell_type": "code",
   "execution_count": null,
   "metadata": {},
   "outputs": [],
   "source": [
    "class Order:\n",
    "    def __init__(self, cart, customer):\n",
    "        self.cart = list(cart)\n",
    "        self.customer = customer\n",
    "    def __add__(self, other):\n",
    "        new_cart = self.cart.copy()\n",
    "        new_cart.append(other)\n",
    "        return Order(new_cart, self.customer)\n",
    "    def __radd__(self, other):\n",
    "        new_cart = self.cart.copy()\n",
    "        new_cart.insert(0, other)\n",
    "        return Order(new_cart, self.customer)\n",
    "    \n",
    "order = Order(['banana', 'apple'], 'Real Python')\n",
    "order = order + 'orange'\n",
    "order.cart\n"
   ]
  },
  {
   "cell_type": "code",
   "execution_count": null,
   "metadata": {},
   "outputs": [],
   "source": [
    "order = 'mango' + order\n",
    "order.cart\n"
   ]
  }
 ],
 "metadata": {
  "kernelspec": {
   "display_name": "Python 3",
   "language": "python",
   "name": "python3"
  },
  "language_info": {
   "codemirror_mode": {
    "name": "ipython",
    "version": 3
   },
   "file_extension": ".py",
   "mimetype": "text/x-python",
   "name": "python",
   "nbconvert_exporter": "python",
   "pygments_lexer": "ipython3",
   "version": "3.7.3"
  }
 },
 "nbformat": 4,
 "nbformat_minor": 2
}
