{
 "cells": [
  {
   "cell_type": "markdown",
   "metadata": {},
   "source": [
    "# Errors and Exception Handling\n",
    "\n",
    "In this section, we will learn about Errors and Exception Handling in Python. You've might have definitely encountered errors by this point in the course. For example:"
   ]
  },
  {
   "cell_type": "code",
   "execution_count": 3,
   "metadata": {},
   "outputs": [
    {
     "ename": "SyntaxError",
     "evalue": "EOL while scanning string literal (<ipython-input-3-b96fe1dbbd07>, line 1)",
     "output_type": "error",
     "traceback": [
      "\u001b[1;36m  File \u001b[1;32m\"<ipython-input-3-b96fe1dbbd07>\"\u001b[1;36m, line \u001b[1;32m1\u001b[0m\n\u001b[1;33m    print('Hello)\u001b[0m\n\u001b[1;37m                 ^\u001b[0m\n\u001b[1;31mSyntaxError\u001b[0m\u001b[1;31m:\u001b[0m EOL while scanning string literal\n"
     ]
    }
   ],
   "source": [
    "print('Hello)\n",
    "print (\"after exception\")"
   ]
  },
  {
   "cell_type": "markdown",
   "metadata": {},
   "source": [
    "EOL stands for End Of Line, so this message tells you that Python\n",
    "read all the way to the end of the line without finding the end of something called a string literal.\n",
    "A string literal is text contained in-between two double quotation\n",
    "marks. The text \"Hello, world\" is an example of a string literal"
   ]
  },
  {
   "cell_type": "markdown",
   "metadata": {},
   "source": [
    "Note how we get a SyntaxError, with the further description that it was an End of Line Error (EOL) while scanning the string literal. This is specific enough for us to see that we forgot a single quote at the end of the line. Understanding of these various error types will help you debug your code much faster. \n",
    "\n",
    "This type of error and description is known as an Exception. Even if a statement or expression is syntactically correct, it may cause an error when an attempt is made to execute it. Errors detected during execution are called exceptions and are not unconditionally fatal.\n",
    "\n",
    "You can check out the full list of built-in exceptions [here](https://docs.python.org/2/library/exceptions.html). Now, let's learn how to handle errors and exceptions in our own code."
   ]
  },
  {
   "cell_type": "code",
   "execution_count": 4,
   "metadata": {},
   "outputs": [
    {
     "ename": "ZeroDivisionError",
     "evalue": "division by zero",
     "output_type": "error",
     "traceback": [
      "\u001b[1;31m---------------------------------------------------------------------------\u001b[0m",
      "\u001b[1;31mZeroDivisionError\u001b[0m                         Traceback (most recent call last)",
      "\u001b[1;32m<ipython-input-4-c159d8b18dd4>\u001b[0m in \u001b[0;36m<module>\u001b[1;34m\u001b[0m\n\u001b[1;32m----> 1\u001b[1;33m \u001b[1;36m10\u001b[0m \u001b[1;33m*\u001b[0m \u001b[1;33m(\u001b[0m\u001b[1;36m8\u001b[0m\u001b[1;33m/\u001b[0m\u001b[1;36m0\u001b[0m\u001b[1;33m)\u001b[0m\u001b[1;33m\u001b[0m\u001b[1;33m\u001b[0m\u001b[0m\n\u001b[0m\u001b[0;32m      2\u001b[0m \u001b[0mprint\u001b[0m \u001b[1;33m(\u001b[0m\u001b[1;34m\"after exception\"\u001b[0m\u001b[1;33m)\u001b[0m\u001b[1;33m\u001b[0m\u001b[1;33m\u001b[0m\u001b[0m\n",
      "\u001b[1;31mZeroDivisionError\u001b[0m: division by zero"
     ]
    }
   ],
   "source": [
    "10 * (8/0)\n",
    "print (\"after exception\")"
   ]
  },
  {
   "cell_type": "code",
   "execution_count": 5,
   "metadata": {},
   "outputs": [
    {
     "ename": "NameError",
     "evalue": "name 'a' is not defined",
     "output_type": "error",
     "traceback": [
      "\u001b[1;31m---------------------------------------------------------------------------\u001b[0m",
      "\u001b[1;31mNameError\u001b[0m                                 Traceback (most recent call last)",
      "\u001b[1;32m<ipython-input-5-cb9bacd097d9>\u001b[0m in \u001b[0;36m<module>\u001b[1;34m\u001b[0m\n\u001b[1;32m----> 1\u001b[1;33m \u001b[0mprint\u001b[0m \u001b[1;33m(\u001b[0m\u001b[0ma\u001b[0m\u001b[1;33m)\u001b[0m\u001b[1;33m\u001b[0m\u001b[1;33m\u001b[0m\u001b[0m\n\u001b[0m",
      "\u001b[1;31mNameError\u001b[0m: name 'a' is not defined"
     ]
    }
   ],
   "source": [
    "print (a)"
   ]
  },
  {
   "cell_type": "code",
   "execution_count": 6,
   "metadata": {},
   "outputs": [
    {
     "ename": "NameError",
     "evalue": "name 'spam' is not defined",
     "output_type": "error",
     "traceback": [
      "\u001b[1;31m---------------------------------------------------------------------------\u001b[0m",
      "\u001b[1;31mNameError\u001b[0m                                 Traceback (most recent call last)",
      "\u001b[1;32m<ipython-input-6-f5c944e887f6>\u001b[0m in \u001b[0;36m<module>\u001b[1;34m\u001b[0m\n\u001b[1;32m----> 1\u001b[1;33m \u001b[0mprint\u001b[0m \u001b[1;33m(\u001b[0m\u001b[1;36m4\u001b[0m \u001b[1;33m+\u001b[0m \u001b[0mspam\u001b[0m\u001b[1;33m*\u001b[0m\u001b[1;36m3\u001b[0m\u001b[1;33m)\u001b[0m\u001b[1;33m\u001b[0m\u001b[1;33m\u001b[0m\u001b[0m\n\u001b[0m\u001b[0;32m      2\u001b[0m \u001b[0mprint\u001b[0m \u001b[1;33m(\u001b[0m\u001b[1;34m\"After Exception\"\u001b[0m\u001b[1;33m)\u001b[0m\u001b[1;33m\u001b[0m\u001b[1;33m\u001b[0m\u001b[0m\n",
      "\u001b[1;31mNameError\u001b[0m: name 'spam' is not defined"
     ]
    }
   ],
   "source": [
    "print (4 + spam*3)\n",
    "print (\"After Exception\")"
   ]
  },
  {
   "cell_type": "code",
   "execution_count": 7,
   "metadata": {},
   "outputs": [
    {
     "name": "stdout",
     "output_type": "stream",
     "text": [
      "22\n"
     ]
    }
   ],
   "source": [
    "print ('2' * 2)"
   ]
  },
  {
   "cell_type": "code",
   "execution_count": 8,
   "metadata": {},
   "outputs": [
    {
     "ename": "TypeError",
     "evalue": "can only concatenate str (not \"int\") to str",
     "output_type": "error",
     "traceback": [
      "\u001b[1;31m---------------------------------------------------------------------------\u001b[0m",
      "\u001b[1;31mTypeError\u001b[0m                                 Traceback (most recent call last)",
      "\u001b[1;32m<ipython-input-8-ccf1f55450e2>\u001b[0m in \u001b[0;36m<module>\u001b[1;34m\u001b[0m\n\u001b[1;32m----> 1\u001b[1;33m \u001b[0mprint\u001b[0m \u001b[1;33m(\u001b[0m\u001b[1;34m'2'\u001b[0m \u001b[1;33m+\u001b[0m \u001b[1;36m2\u001b[0m\u001b[1;33m)\u001b[0m\u001b[1;33m\u001b[0m\u001b[1;33m\u001b[0m\u001b[0m\n\u001b[0m",
      "\u001b[1;31mTypeError\u001b[0m: can only concatenate str (not \"int\") to str"
     ]
    }
   ],
   "source": [
    "print ('2' + 2)"
   ]
  },
  {
   "cell_type": "code",
   "execution_count": 12,
   "metadata": {},
   "outputs": [
    {
     "name": "stdout",
     "output_type": "stream",
     "text": [
      "45\n"
     ]
    },
    {
     "ename": "ValueError",
     "evalue": "invalid literal for int() with base 10: '45.0'",
     "output_type": "error",
     "traceback": [
      "\u001b[1;31m---------------------------------------------------------------------------\u001b[0m",
      "\u001b[1;31mValueError\u001b[0m                                Traceback (most recent call last)",
      "\u001b[1;32m<ipython-input-12-e026712e0455>\u001b[0m in \u001b[0;36m<module>\u001b[1;34m\u001b[0m\n\u001b[0;32m      1\u001b[0m \u001b[0mprint\u001b[0m \u001b[1;33m(\u001b[0m\u001b[0mint\u001b[0m\u001b[1;33m(\u001b[0m\u001b[1;34m\"45\"\u001b[0m\u001b[1;33m)\u001b[0m\u001b[1;33m)\u001b[0m\u001b[1;33m\u001b[0m\u001b[1;33m\u001b[0m\u001b[0m\n\u001b[1;32m----> 2\u001b[1;33m \u001b[0mprint\u001b[0m \u001b[1;33m(\u001b[0m\u001b[0mint\u001b[0m\u001b[1;33m(\u001b[0m\u001b[1;34m\"45.0\"\u001b[0m\u001b[1;33m)\u001b[0m\u001b[1;33m)\u001b[0m\u001b[1;33m\u001b[0m\u001b[1;33m\u001b[0m\u001b[0m\n\u001b[0m",
      "\u001b[1;31mValueError\u001b[0m: invalid literal for int() with base 10: '45.0'"
     ]
    }
   ],
   "source": [
    "print (int(\"45\"))\n",
    "print (int(\"45.0\"))"
   ]
  },
  {
   "cell_type": "code",
   "execution_count": 10,
   "metadata": {},
   "outputs": [
    {
     "ename": "SyntaxError",
     "evalue": "invalid syntax (<ipython-input-10-db3523fdaae3>, line 1)",
     "output_type": "error",
     "traceback": [
      "\u001b[1;36m  File \u001b[1;32m\"<ipython-input-10-db3523fdaae3>\"\u001b[1;36m, line \u001b[1;32m1\u001b[0m\n\u001b[1;33m    print int(\"sdf\")\u001b[0m\n\u001b[1;37m            ^\u001b[0m\n\u001b[1;31mSyntaxError\u001b[0m\u001b[1;31m:\u001b[0m invalid syntax\n"
     ]
    }
   ],
   "source": [
    "print int(\"sdf\")\n",
    "print (\"after exception\")"
   ]
  },
  {
   "cell_type": "markdown",
   "metadata": {},
   "source": [
    "## try and except\n",
    "\n",
    "The basic terminology and syntax used to handle errors in Python is the **try** and **except** statements. The code which can cause an exception to occur is put in the *try* block and the handling of the exception are the implemented in the *except* block of code. The syntax form is:\n",
    "\n",
    "    try:\n",
    "       You do your operations here...\n",
    "       ...\n",
    "    except ExceptionI:\n",
    "       If there is ExceptionI, then execute this block.\n",
    "    except ExceptionII:\n",
    "       If there is ExceptionII, then execute this block.\n",
    "       ...\n",
    "    else:\n",
    "       If there is no exception then execute this block. \n",
    "\n",
    "Using just except, we can check for any exception: To understand better let's check out a sample code that opens and writes a file:"
   ]
  },
  {
   "cell_type": "code",
   "execution_count": 1,
   "metadata": {},
   "outputs": [
    {
     "name": "stdout",
     "output_type": "stream",
     "text": [
      "default exception occured\n",
      "after exception\n"
     ]
    }
   ],
   "source": [
    "try:\n",
    "    print (8/0)\n",
    "except:\n",
    "    print (\"default exception occured\")\n",
    "print (\"after exception\")"
   ]
  },
  {
   "cell_type": "code",
   "execution_count": 2,
   "metadata": {},
   "outputs": [
    {
     "name": "stdout",
     "output_type": "stream",
     "text": [
      "ZeroDivisionError exception occured\n",
      "after exception\n"
     ]
    }
   ],
   "source": [
    "try:\n",
    "    print (8/0)\n",
    "except ZeroDivisionError:\n",
    "    print (\"ZeroDivisionError exception occured\")\n",
    "except:\n",
    "    print (\"default exception occured\")\n",
    "print (\"after exception\")"
   ]
  },
  {
   "cell_type": "code",
   "execution_count": 4,
   "metadata": {},
   "outputs": [
    {
     "name": "stdout",
     "output_type": "stream",
     "text": [
      "Type error exception occured\n",
      "after exception\n"
     ]
    }
   ],
   "source": [
    "try:\n",
    "#     print ('2' + 2)\n",
    "#     print (2/0)\n",
    "#     print(\"hello\")\n",
    "\n",
    "except TypeError:\n",
    "    print (\"Type error exception occured\")\n",
    "except:\n",
    "    print (\"default exception occured\")\n",
    "\n",
    "print (\"after exception\")"
   ]
  },
  {
   "cell_type": "code",
   "execution_count": null,
   "metadata": {},
   "outputs": [],
   "source": [
    "# print ('2' + 2)\n",
    "int(\"asd\")"
   ]
  },
  {
   "cell_type": "code",
   "execution_count": 6,
   "metadata": {},
   "outputs": [
    {
     "name": "stdout",
     "output_type": "stream",
     "text": [
      "Please enter a number: 77\n",
      "<class 'str'>\n",
      "77\n"
     ]
    }
   ],
   "source": [
    "try:\n",
    "    x = input(\"Please enter a number: \")\n",
    "    print(type(x))\n",
    "    y=int(x)\n",
    "    print(y)\n",
    "#     print (10/0)\n",
    "except ValueError:\n",
    "    print (\"Oops!  That was no valid number.  Try again...\")"
   ]
  },
  {
   "cell_type": "code",
   "execution_count": 7,
   "metadata": {
    "scrolled": true
   },
   "outputs": [
    {
     "name": "stdout",
     "output_type": "stream",
     "text": [
      "Please enter a number: jkjkj\n",
      "<class 'str'>\n",
      "invalid literal for int() with base 10: 'jkjkj'\n",
      "['__cause__', '__class__', '__context__', '__delattr__', '__dict__', '__dir__', '__doc__', '__eq__', '__format__', '__ge__', '__getattribute__', '__gt__', '__hash__', '__init__', '__init_subclass__', '__le__', '__lt__', '__ne__', '__new__', '__reduce__', '__reduce_ex__', '__repr__', '__setattr__', '__setstate__', '__sizeof__', '__str__', '__subclasshook__', '__suppress_context__', '__traceback__', 'args', 'with_traceback']\n",
      "Oops!  That was no valid number.  Try again...\n"
     ]
    }
   ],
   "source": [
    "try:\n",
    "    x = input(\"Please enter a number: \")\n",
    "    print(type(x))\n",
    "    y=int(x)\n",
    "#     print (10/0)\n",
    "except ValueError as e:\n",
    "    print(e)\n",
    "    print(dir(e))\n",
    "    print (\"Oops!  That was no valid number.  Try again...\")"
   ]
  },
  {
   "cell_type": "code",
   "execution_count": 8,
   "metadata": {},
   "outputs": [
    {
     "name": "stdout",
     "output_type": "stream",
     "text": [
      "VALUE ERROR Exception: Could not convert data to an integer.\n"
     ]
    }
   ],
   "source": [
    "try:\n",
    "    f = open('output.txt')\n",
    "    s = f.readline()\n",
    "    i = int(s.strip())\n",
    "    print (i)\n",
    "\t# The except clause may specify a variable after the exception name (or tuple). The variable is bound to an exception instance with the arguments stored in instance.args.\n",
    "except IOError as e:\n",
    "    print(dir(e))\n",
    "    print (\"I/O error({0}): {1}\".format(e.errno, e.strerror))\n",
    "except ValueError:\n",
    "    print (\"VALUE ERROR Exception: Could not convert data to an integer.\")"
   ]
  },
  {
   "cell_type": "code",
   "execution_count": 9,
   "metadata": {},
   "outputs": [
    {
     "name": "stdout",
     "output_type": "stream",
     "text": [
      "I/O error(2): No such file or directory\n"
     ]
    }
   ],
   "source": [
    "try:\n",
    "    f = open('hello123.txt')\n",
    "    s = f.readline()\n",
    "    i = int(s.strip())\n",
    "    print (i)\n",
    "\t# The except clause may specify a variable after the exception name (or tuple). The variable is bound to an exception instance with the arguments stored in instance.args.\n",
    "except IOError as e:\n",
    "    print (\"I/O error({0}): {1}\".format(e.errno, e.strerror))\n",
    "except ValueError:\n",
    "    print (\"Could not convert data to an integer.\")"
   ]
  },
  {
   "cell_type": "code",
   "execution_count": 11,
   "metadata": {},
   "outputs": [
    {
     "name": "stdout",
     "output_type": "stream",
     "text": [
      "Type error exception occured\n",
      "after exception\n"
     ]
    }
   ],
   "source": [
    "try:\n",
    "#     print (2 + 2)\n",
    "    print (2 + '2')\n",
    "\n",
    "except TypeError:\n",
    "    print (\"Type error exception occured\")\n",
    "else:\n",
    "    print (\"No exception occured\")\n",
    "\n",
    "# funcAbcd()\n",
    "print (\"after exception\")"
   ]
  },
  {
   "cell_type": "code",
   "execution_count": 12,
   "metadata": {},
   "outputs": [
    {
     "name": "stdout",
     "output_type": "stream",
     "text": [
      "IOError/ValueError Exception occured\n"
     ]
    }
   ],
   "source": [
    "try:\n",
    "    f = open('output.txt')\n",
    "    s = f.readline()\n",
    "    i = int(s.strip())\n",
    "    print (i)\n",
    "\t# The except clause may specify a variable after the exception name (or tuple). The variable is bound to an exception instance with the arguments stored in instance.args.\n",
    "except (IOError,ValueError) as e:\n",
    "    print (\"IOError/ValueError Exception occured\")\n",
    "except TypeError:\n",
    "    print (\"Exception occured is TypeError\")\n"
   ]
  },
  {
   "cell_type": "code",
   "execution_count": 15,
   "metadata": {},
   "outputs": [
    {
     "name": "stdout",
     "output_type": "stream",
     "text": [
      "Your number: 88.5\n",
      "0.011299435028248588\n",
      "There may or may not have been an exception.\n"
     ]
    }
   ],
   "source": [
    "try:\n",
    "    x = float(input(\"Your number: \"))\n",
    "    inverse = 1.0 / x\n",
    "    print (inverse)\n",
    "except ValueError:\n",
    "    print (\"Value ERROR : You should have given either an int or a float \")\n",
    "except TypeError:\n",
    "    print (\"You should have given either an int or a float\")\n",
    "except ZeroDivisionError:\n",
    "    print (\"ZeroDivisionError: Infinity\")\n",
    "finally:\n",
    "    print (\"There may or may not have been an exception.\")"
   ]
  },
  {
   "cell_type": "code",
   "execution_count": 22,
   "metadata": {},
   "outputs": [
    {
     "name": "stdout",
     "output_type": "stream",
     "text": [
      "Your number: jkk\n",
      "code cleanup.\n"
     ]
    },
    {
     "ename": "ValueError",
     "evalue": "could not convert string to float: 'jkk'",
     "output_type": "error",
     "traceback": [
      "\u001b[1;31m---------------------------------------------------------------------------\u001b[0m",
      "\u001b[1;31mValueError\u001b[0m                                Traceback (most recent call last)",
      "\u001b[1;32m<ipython-input-22-d2cbfca69359>\u001b[0m in \u001b[0;36m<module>\u001b[1;34m\u001b[0m\n\u001b[0;32m      1\u001b[0m \u001b[1;32mtry\u001b[0m\u001b[1;33m:\u001b[0m\u001b[1;33m\u001b[0m\u001b[1;33m\u001b[0m\u001b[0m\n\u001b[1;32m----> 2\u001b[1;33m     \u001b[0mx\u001b[0m \u001b[1;33m=\u001b[0m \u001b[0mfloat\u001b[0m\u001b[1;33m(\u001b[0m\u001b[0minput\u001b[0m\u001b[1;33m(\u001b[0m\u001b[1;34m\"Your number: \"\u001b[0m\u001b[1;33m)\u001b[0m\u001b[1;33m)\u001b[0m\u001b[1;33m\u001b[0m\u001b[1;33m\u001b[0m\u001b[0m\n\u001b[0m\u001b[0;32m      3\u001b[0m     \u001b[0minverse\u001b[0m \u001b[1;33m=\u001b[0m \u001b[1;36m1.0\u001b[0m \u001b[1;33m/\u001b[0m \u001b[0mx\u001b[0m\u001b[1;33m\u001b[0m\u001b[1;33m\u001b[0m\u001b[0m\n\u001b[0;32m      4\u001b[0m     \u001b[0mprint\u001b[0m \u001b[1;33m(\u001b[0m\u001b[0minverse\u001b[0m\u001b[1;33m)\u001b[0m\u001b[1;33m\u001b[0m\u001b[1;33m\u001b[0m\u001b[0m\n\u001b[0;32m      5\u001b[0m \u001b[1;32mexcept\u001b[0m \u001b[0mZeroDivisionError\u001b[0m\u001b[1;33m:\u001b[0m\u001b[1;33m\u001b[0m\u001b[1;33m\u001b[0m\u001b[0m\n",
      "\u001b[1;31mValueError\u001b[0m: could not convert string to float: 'jkk'"
     ]
    }
   ],
   "source": [
    "try:\n",
    "    x = float(input(\"Your number: \"))\n",
    "    inverse = 1.0 / x\n",
    "    print (inverse)\n",
    "except ZeroDivisionError:\n",
    "    print (\"ZeroDivisionError: Infinity\")\n",
    "finally:\n",
    "    print (\"code cleanup.\")\n",
    "# print(\"code cleanup\")"
   ]
  },
  {
   "cell_type": "code",
   "execution_count": 24,
   "metadata": {},
   "outputs": [
    {
     "name": "stdout",
     "output_type": "stream",
     "text": [
      "Your age: 88\n",
      "you are eligible to vote\n"
     ]
    }
   ],
   "source": [
    "try:\n",
    "    voting_age = float(input(\"Your age: \"))\n",
    "    if voting_age < 18:\n",
    "        raise ValueError(\"voting age should be atleast 18 and above\")\n",
    "    else:\n",
    "        print (\"you are eligible to vote\")\n",
    "except ValueError as e:\n",
    "    print(e)\n",
    "    print (\"Age exception occured your age should be greater than 18\")"
   ]
  },
  {
   "cell_type": "code",
   "execution_count": null,
   "metadata": {},
   "outputs": [],
   "source": [
    "dir(Exception)"
   ]
  },
  {
   "cell_type": "code",
   "execution_count": 27,
   "metadata": {},
   "outputs": [
    {
     "name": "stdout",
     "output_type": "stream",
     "text": [
      "Enter a number: 10\n",
      "Congratulations! You guessed it correctly.\n"
     ]
    }
   ],
   "source": [
    "class Error(Exception):\n",
    "   \"\"\"Base class for other exceptions\"\"\"\n",
    "   pass\n",
    "class ValueTooSmallError(Error):\n",
    "   \"\"\"Raised when the input value is too small\"\"\"\n",
    "   pass\n",
    "class ValueTooLargeError(Error):\n",
    "   \"\"\"Raised when the input value is too large\"\"\"\n",
    "   pass\n",
    "# our main program user guesses a number until he/she gets it right you need to guess this number\n",
    "number = 10\n",
    "try:\n",
    "    i_num = int(input(\"Enter a number: \"))\n",
    "    if i_num < number:\n",
    "        raise ValueTooSmallError\n",
    "    elif i_num > number:\n",
    "        raise ValueTooLargeError\n",
    "    else:\n",
    "        print(\"Congratulations! You guessed it correctly.\")\n",
    "except ValueTooSmallError:\n",
    "    print(\"This value is too small, try again!\")\n",
    "    print()\n",
    "except ValueTooLargeError:\n",
    "    print(\"This value is too large, try again!\")\n",
    "    print()\n",
    "\n"
   ]
  },
  {
   "cell_type": "code",
   "execution_count": 28,
   "metadata": {},
   "outputs": [
    {
     "name": "stdout",
     "output_type": "stream",
     "text": [
      "Enter a number: 7\n",
      "A New Exception occured:  7\n",
      "Security threat closing all connection.......\n"
     ]
    }
   ],
   "source": [
    "class MyError(Exception):\n",
    "    # Constructor or Initializer\n",
    "    def __init__(self, value):\n",
    "        self.value = value\n",
    "    # __str__ is to print() the value\n",
    "    def __str__(self):\n",
    "        return(self.value)\n",
    "    def close_connection(self):\n",
    "        print(\"Security threat closing all connection.......\")\n",
    "#         code for closing connection\n",
    "# a=Myerror(10)\n",
    "number = 10\n",
    "\n",
    "try:\n",
    "    i_num = input(\"Enter a number: \")\n",
    "    actualnum=int(i_num)\n",
    "    \n",
    "    if actualnum < 10:\n",
    "        raise(MyError(actualnum))\n",
    "    elif actualnum > number:\n",
    "        print(\"Value is good\")\n",
    "     \n",
    "except MyError as error:\n",
    "    print('A New Exception occured: ',error.value)\n",
    "    error.close_connection()"
   ]
  },
  {
   "cell_type": "code",
   "execution_count": 29,
   "metadata": {},
   "outputs": [
    {
     "name": "stdout",
     "output_type": "stream",
     "text": [
      "Exception occured:  Not Allowed\n",
      "Exception occured:  2\n",
      "Exception occured:  6\n"
     ]
    }
   ],
   "source": [
    "# class Error is derived from super class Exception\n",
    "class Error(Exception):\n",
    "    # Error is derived class for Exception, but\n",
    "    # Base class for exceptions in this module\n",
    "    pass\n",
    "class TransitionError(Error):\n",
    "    # Raised when an operation attempts a state \n",
    "    # transition that's not allowed.\n",
    "    def __init__(self, p, n, m):\n",
    "        self.prev = p\n",
    "        self.next = n\n",
    "        self.msg = m # Error message thrown is saved in msg\n",
    "\n",
    "try:\n",
    "    raise(TransitionError(2,3*2,\"Not Allowed\"))\n",
    " # Value of Exception is stored in error\n",
    "except TransitionError as error:\n",
    "    print('Exception occured: ',error.msg)\n",
    "    print('Exception occured: ',error.prev)\n",
    "    print('Exception occured: ',error.next)"
   ]
  },
  {
   "cell_type": "markdown",
   "metadata": {},
   "source": [
    "## The inbuild Exception"
   ]
  },
  {
   "cell_type": "code",
   "execution_count": null,
   "metadata": {},
   "outputs": [],
   "source": [
    "dir(Exception)"
   ]
  },
  {
   "cell_type": "raw",
   "metadata": {},
   "source": [
    "# BaseException\n",
    "#  +-- SystemExit\n",
    "#  +-- KeyboardInterrupt\n",
    "#  +-- GeneratorExit\n",
    "#  +-- Exception\n",
    "#       +-- StopIteration\n",
    "#       +-- StandardError\n",
    "#       |    +-- BufferError\n",
    "#       |    +-- ArithmeticError\n",
    "#       |    |    +-- FloatingPointError\n",
    "#       |    |    +-- OverflowError\n",
    "#       |    |    +-- ZeroDivisionError\n",
    "#       |    +-- AssertionError\n",
    "#       |    +-- AttributeError\n",
    "#       |    +-- EnvironmentError\n",
    "#       |    |    +-- IOError\n",
    "#       |    |    +-- OSError\n",
    "#       |    |         +-- WindowsError (Windows)\n",
    "#       |    |         +-- VMSError (VMS)\n",
    "#       |    +-- EOFError\n",
    "#       |    +-- ImportError\n",
    "#       |    +-- LookupError\n",
    "#       |    |    +-- IndexError\n",
    "#       |    |    +-- KeyError\n",
    "#       |    +-- MemoryError\n",
    "#       |    +-- NameError\n",
    "#       |    |    +-- UnboundLocalError\n",
    "#       |    +-- ReferenceError\n",
    "#       |    +-- RuntimeError\n",
    "#       |    |    +-- NotImplementedError\n",
    "#       |    +-- SyntaxError\n",
    "#       |    |    +-- IndentationError\n",
    "#       |    |         +-- TabError\n",
    "#       |    +-- SystemError\n",
    "#       |    +-- TypeError\n",
    "#       |    +-- ValueError\n",
    "#       |         +-- UnicodeError\n",
    "#       |              +-- UnicodeDecodeError\n",
    "#       |              +-- UnicodeEncodeError\n",
    "#       |              +-- UnicodeTranslateError\n",
    "#       +-- Warning\n",
    "#            +-- DeprecationWarning\n",
    "#            +-- PendingDeprecationWarning\n",
    "#            +-- RuntimeWarning\n",
    "#            +-- SyntaxWarning\n",
    "#            +-- UserWarning\n",
    "#            +-- FutureWarning\n",
    "# \t   +-- ImportWarning\n",
    "# \t   +-- UnicodeWarning\n",
    "# \t   +-- BytesWarning"
   ]
  },
  {
   "cell_type": "code",
   "execution_count": null,
   "metadata": {},
   "outputs": [],
   "source": [
    "Assignment\n",
    "Simulate above exception"
   ]
  },
  {
   "cell_type": "code",
   "execution_count": null,
   "metadata": {},
   "outputs": [],
   "source": [
    "class A(object):\n",
    "    def foo(self,x):\n",
    "        print (x)\n",
    "    @classmethod\n",
    "    def class_foo(cls,x):\n",
    "        print (x)\n",
    "        return x\n",
    "    @staticmethod\n",
    "    def static_foo(x):\n",
    "        abc=10\n",
    "        print(\"the value of abc\", abc)\n",
    "        print (x)"
   ]
  },
  {
   "cell_type": "code",
   "execution_count": null,
   "metadata": {},
   "outputs": [],
   "source": [
    "class A(object):\n",
    "    def foo(self,x):\n",
    "        print (x)\n",
    "    @classmethod\n",
    "    def class_foo(cls,x):\n",
    "        print (x)\n",
    "        return x\n",
    "    @staticmethod\n",
    "    def static_foo(x):\n",
    "        abc=10\n",
    "        print(\"the value of abc\", abc)\n",
    "        print (x)"
   ]
  },
  {
   "cell_type": "code",
   "execution_count": null,
   "metadata": {},
   "outputs": [],
   "source": [
    "A.class_foo(1)\n",
    "a.static_foo(1)\n",
    "b.static_foo(1)\n",
    "a.abc=20\n",
    "print(\"value of abc after change\",a.abc)\n",
    "a.static_foo(1)\n",
    "# print(A.abc)\n",
    "from datetime import date  \n",
    "class Person: \n",
    "    def __init__(self, name, age): \n",
    "        self.name = name \n",
    "        self.age = age \n",
    "      \n",
    "    # a class method to create a Person object by birth year. \n",
    "    @classmethod\n",
    "    def fromBirthYear(cls, name, year): \n",
    "        return cls(name, date.today().year - year) \n",
    "      \n",
    "    # a static method to check if a Person is adult or not. \n",
    "    @staticmethod\n",
    "    def isAdult(age): \n",
    "        return age > 18\n",
    "  \n",
    "person1 = Person('mayank', 21) \n",
    "person2 = Person.fromBirthYear('ashok', 1996) \n",
    "  \n",
    "print (person1.age)\n",
    "print (person2.age) \n",
    "  \n",
    "# print the result \n",
    "print (Person.isAdult(22)) \n",
    "\n",
    "print(alec.__dict__.keys())\n",
    "print(alec.__dict__.values())\n",
    "__dict__ is a special attribute is a dictionary containing each attribute of an object. We can see that prepending two underscores every key has _ClassName__ prepended"
   ]
  },
  {
   "cell_type": "code",
   "execution_count": null,
   "metadata": {},
   "outputs": [],
   "source": [
    "_,_=10,20\n",
    "_"
   ]
  },
  {
   "cell_type": "code",
   "execution_count": null,
   "metadata": {},
   "outputs": [],
   "source": [
    "a,b,_,_=10\n",
    "print(a)"
   ]
  },
  {
   "cell_type": "code",
   "execution_count": null,
   "metadata": {},
   "outputs": [],
   "source": []
  }
 ],
 "metadata": {
  "kernelspec": {
   "display_name": "Python 3",
   "language": "python",
   "name": "python3"
  },
  "language_info": {
   "codemirror_mode": {
    "name": "ipython",
    "version": 3
   },
   "file_extension": ".py",
   "mimetype": "text/x-python",
   "name": "python",
   "nbconvert_exporter": "python",
   "pygments_lexer": "ipython3",
   "version": "3.7.3"
  }
 },
 "nbformat": 4,
 "nbformat_minor": 2
}
