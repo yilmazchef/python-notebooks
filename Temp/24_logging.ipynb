{
 "cells": [
  {
   "cell_type": "markdown",
   "metadata": {},
   "source": [
    "### LOGGING LEVELS\n",
    "\n",
    "\n",
    "There are two built-in levels of the log message.\n",
    "\n",
    "* Debug : These are used to give Detailed information, typically of interest only when diagnosing problems.\n",
    "* Info : These are used to Confirm that things are working as expected\n",
    "* Warning : These are used an indication that something unexpected happened, or indicative of some problem in the near future\n",
    "* Error : This tells that due to a more serious problem, the software has not been able to perform some function\n",
    "* Critical : This tells serious error, indicating that the program itself may be unable to continue running\n"
   ]
  },
  {
   "cell_type": "code",
   "execution_count": 1,
   "metadata": {},
   "outputs": [
    {
     "name": "stderr",
     "output_type": "stream",
     "text": [
      "DEBUG:root:This is a debug message\n",
      "INFO:root:This is an info message\n",
      "WARNING:root:This is a warning message\n",
      "ERROR:root:This is an error message\n",
      "CRITICAL:root:This is a critical message\n"
     ]
    }
   ],
   "source": [
    "import logging\n",
    "logging.basicConfig(level=logging.DEBUG)\n",
    "\n",
    "logging.debug('This is a debug message')\n",
    "logging.info('This is an info message')\n",
    "logging.warning('This is a warning message')\n",
    "logging.error('This is an error message')\n",
    "logging.critical('This is a critical message')"
   ]
  },
  {
   "cell_type": "markdown",
   "metadata": {},
   "source": [
    "Notice that the debug() and info() messages didn’t get logged. This is because, by default, the logging module logs the messages with a severity level of WARNING or above. You can change that by configuring the logging module to log events of all levels if you want. You can also define your own severity levels by changing configurations, but it is generally not recommended as it can cause confusion with logs of some third-party libraries that you might be using."
   ]
  },
  {
   "cell_type": "code",
   "execution_count": 4,
   "metadata": {},
   "outputs": [],
   "source": [
    "import logging\n",
    "\n",
    "logging.basicConfig(level=logging.DEBUG)\n",
    "logging.debug('This will get logged')\n",
    "logging.info('This is an info message')\n",
    "# // run in sublime"
   ]
  },
  {
   "cell_type": "code",
   "execution_count": 6,
   "metadata": {},
   "outputs": [],
   "source": [
    "import logging\n",
    "\n",
    "logging.basicConfig(filename=\"test.log\", level=logging.DEBUG)\n",
    "logging.warning(\"warning message\")\n",
    "logging.info(\"info message\")\n",
    "logging.error(\"error message\")"
   ]
  },
  {
   "cell_type": "markdown",
   "metadata": {},
   "source": [
    "### Logging Format"
   ]
  },
  {
   "cell_type": "code",
   "execution_count": 2,
   "metadata": {},
   "outputs": [
    {
     "name": "stderr",
     "output_type": "stream",
     "text": [
      "WARNING:root:warning message\n",
      "INFO:root:info message\n",
      "ERROR:root:error message\n"
     ]
    }
   ],
   "source": [
    "import logging\n",
    "\n",
    "logging.basicConfig(format='%(asctime)s: %(levelname)s: %(message)s',\n",
    "                    datefmt='%m/%d/%Y %I:%M:%S %p',level=logging.DEBUG)\n",
    "logging.warning(\"warning message\")\n",
    "logging.info(\"info message\")\n",
    "logging.error(\"error message\")"
   ]
  },
  {
   "cell_type": "markdown",
   "metadata": {},
   "source": [
    "The most commonly used classes defined in the logging module are the following:\n",
    "\n",
    "Logger: This is the class whose objects will be used in the application code directly to call the functions.\n",
    "\n",
    "LogRecord: Loggers automatically create LogRecord objects that have all the information related to the event being logged, like the name of the logger, the function, the line number, the message, and more.\n",
    "\n",
    "Handler: Handlers send the LogRecord to the required output destination, like the console or a file. Handler is a base for subclasses like StreamHandler, FileHandler, SMTPHandler, HTTPHandler, and more. These subclasses send the logging outputs to corresponding destinations, like sys.stdout or a disk file.\n",
    "\n",
    "Formatter: This is where you specify the format of the output by specifying a string format that lists out the attributes that the output should contain."
   ]
  },
  {
   "cell_type": "markdown",
   "metadata": {},
   "source": [
    "import logging\n",
    "\n",
    "class LoggerDemoConsole():\n",
    "\n",
    "    def testLog(self):\n",
    "        # create logger\n",
    "        logger = logging.getLogger(LoggerDemoConsole.__name__)\n",
    "        logger.setLevel(logging.INFO)\n",
    "\n",
    "        # create console handler and set level to info\n",
    "        consoleHandler = logging.StreamHandler()\n",
    "        consoleHandler.setLevel(logging.INFO)\n",
    "\n",
    "        # create formatter\n",
    "        formatter = logging.Formatter('%(asctime)s - %(name)s - %(levelname)s: %(message)s',\n",
    "                    datefmt='%m/%d/%Y %I:%M:%S %p')\n",
    "\n",
    "        # add formatter to console handler\n",
    "        consoleHandler.setFormatter(formatter)\n",
    "\n",
    "        # add console handler to logger\n",
    "        logger.addHandler(consoleHandler)\n",
    "\n",
    "        # logging messages\n",
    "        logger.debug('debug message')\n",
    "        logger.info('info message')\n",
    "        logger.warn('warn message')\n",
    "        logger.error('error message')\n",
    "        logger.critical('critical message')\n",
    "\n",
    "demo = LoggerDemoConsole()\n",
    "demo.testLog()"
   ]
  },
  {
   "cell_type": "code",
   "execution_count": null,
   "metadata": {},
   "outputs": [],
   "source": []
  }
 ],
 "metadata": {
  "kernelspec": {
   "display_name": "Python 3",
   "language": "python",
   "name": "python3"
  },
  "language_info": {
   "codemirror_mode": {
    "name": "ipython",
    "version": 3
   },
   "file_extension": ".py",
   "mimetype": "text/x-python",
   "name": "python",
   "nbconvert_exporter": "python",
   "pygments_lexer": "ipython3",
   "version": "3.7.3"
  }
 },
 "nbformat": 4,
 "nbformat_minor": 2
}
