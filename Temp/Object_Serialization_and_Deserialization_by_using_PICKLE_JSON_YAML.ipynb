{
 "cells": [
  {
   "cell_type": "code",
   "execution_count": 5,
   "metadata": {},
   "outputs": [
    {
     "name": "stdout",
     "output_type": "stream",
     "text": [
      "ENAME:Raj,ENO:587,ESAL:10000,EADDR:Hyderabad\n",
      "object serialization completed\n"
     ]
    }
   ],
   "source": [
    " # Object Serialization using pickle\n",
    "import pickle\n",
    "class Employee:\n",
    "    def __init__(self,ename,eno,esal,eaddr):\n",
    "        self.ename = ename\n",
    "        self.eno = eno\n",
    "        self.esal = esal\n",
    "        self.eaddr = eaddr\n",
    "        \n",
    "    def display(self):\n",
    "        print(f\"ENAME:{self.ename},ENO:{self.eno},ESAL:{self.esal},EADDR:{self.eaddr}\")\n",
    "\n",
    "e = Employee(\"Raj\",587,10000,\"Hyderabad\")\n",
    "e.display()\n",
    "with open(\"emp.ser\",\"wb\") as f:\n",
    "    pickle.dump(e,f) # Serialization of employee object\n",
    "    print(\"object serialization completed\")\n",
    "    "
   ]
  },
  {
   "cell_type": "code",
   "execution_count": 8,
   "metadata": {},
   "outputs": [
    {
     "name": "stdout",
     "output_type": "stream",
     "text": [
      "ENAME:Raj,ENO:587,ESAL:10000,EADDR:Hyderabad\n",
      "object serialization completed\n",
      "Object Deserilization is completed\n",
      "Printing Employee Details\n",
      "ENAME:Raj,ENO:587,ESAL:10000,EADDR:Hyderabad\n"
     ]
    }
   ],
   "source": [
    "# Object DeSerialization using pickle\n",
    "import pickle\n",
    "class Employee:\n",
    "    def __init__(self,ename,eno,esal,eaddr):\n",
    "        self.ename = ename\n",
    "        self.eno = eno\n",
    "        self.esal = esal\n",
    "        self.eaddr = eaddr\n",
    "        \n",
    "    def display(self):\n",
    "        print(f\"ENAME:{self.ename},ENO:{self.eno},ESAL:{self.esal},EADDR:{self.eaddr}\")\n",
    "\n",
    "e = Employee(\"Raj\",587,10000,\"Hyderabad\")\n",
    "e.display()\n",
    "with open(\"emp.ser\",\"wb\") as f:\n",
    "    pickle.dump(e,f) # Serialization of employee object\n",
    "    print(\"object serialization completed\")\n",
    "    \n",
    "with open(\"emp.ser\",\"rb\") as f:\n",
    "    emp = pickle.load(f)\n",
    "    print(\"Object Deserilization is completed\")\n",
    "    print(\"Printing Employee Details\")\n",
    "    emp.display()"
   ]
  },
  {
   "cell_type": "code",
   "execution_count": 14,
   "metadata": {},
   "outputs": [
    {
     "name": "stdout",
     "output_type": "stream",
     "text": [
      "<class 'dict'>\n"
     ]
    }
   ],
   "source": [
    "# Serialization of python dict to json string\n",
    "employee = {\n",
    "    'Name':'Raj',\n",
    "    'Age':60,\n",
    "    'Salary':40000,\n",
    "    'Married':True,\n",
    "    'Location':None\n",
    "}\n",
    "print(type(employee))"
   ]
  },
  {
   "cell_type": "code",
   "execution_count": 21,
   "metadata": {},
   "outputs": [],
   "source": [
    "import json\n",
    "json_string = json.dumps(employee,indent=4,sort_keys=True)"
   ]
  },
  {
   "cell_type": "code",
   "execution_count": 22,
   "metadata": {},
   "outputs": [
    {
     "name": "stdout",
     "output_type": "stream",
     "text": [
      "{\n",
      "    \"Age\": 60,\n",
      "    \"Location\": null,\n",
      "    \"Married\": true,\n",
      "    \"Name\": \"Raj\",\n",
      "    \"Salary\": 40000\n",
      "}\n"
     ]
    }
   ],
   "source": [
    "print(json_string) #-----> In java script True is in lower case and None is null"
   ]
  },
  {
   "cell_type": "code",
   "execution_count": 23,
   "metadata": {},
   "outputs": [],
   "source": [
    "# Serialization of python dict object to jason and write that json to a file\n",
    "with open(\"emp1.json\",\"w\") as t:\n",
    "    json.dump(employee,t,indent=4,sort_keys=True)"
   ]
  },
  {
   "cell_type": "code",
   "execution_count": 25,
   "metadata": {},
   "outputs": [
    {
     "name": "stdout",
     "output_type": "stream",
     "text": [
      "<_io.TextIOWrapper name='emp1.json' mode='w' encoding='cp1252'>\n"
     ]
    }
   ],
   "source": [
    "print(t) #successfully created at pwd"
   ]
  },
  {
   "cell_type": "code",
   "execution_count": 26,
   "metadata": {},
   "outputs": [],
   "source": [
    "# Deserialization from json string to python dict\n",
    "json_string = '''\n",
    "{\n",
    "    \"Age\": 60,\n",
    "    \"Location\": null,\n",
    "    \"Married\": true,\n",
    "    \"Name\": \"Raj\",\n",
    "    \"Salary\": 40000\n",
    "}\n",
    "'''"
   ]
  },
  {
   "cell_type": "code",
   "execution_count": 27,
   "metadata": {},
   "outputs": [
    {
     "name": "stdout",
     "output_type": "stream",
     "text": [
      "<class 'str'>\n"
     ]
    }
   ],
   "source": [
    "print(type(json_string))"
   ]
  },
  {
   "cell_type": "code",
   "execution_count": 28,
   "metadata": {},
   "outputs": [],
   "source": [
    "emp_dict = json.loads(json_string)"
   ]
  },
  {
   "cell_type": "code",
   "execution_count": 29,
   "metadata": {},
   "outputs": [
    {
     "name": "stdout",
     "output_type": "stream",
     "text": [
      "{'Age': 60, 'Location': None, 'Married': True, 'Name': 'Raj', 'Salary': 40000}\n"
     ]
    }
   ],
   "source": [
    "print(emp_dict) # Here None and True are in python format not in javascript format"
   ]
  },
  {
   "cell_type": "code",
   "execution_count": 31,
   "metadata": {},
   "outputs": [
    {
     "name": "stdout",
     "output_type": "stream",
     "text": [
      "Employee Name : Raj\n",
      "Employee Age : 60\n",
      "Employee Married : True\n",
      "Employee Location : None\n"
     ]
    }
   ],
   "source": [
    "print(\"Employee Name :\",emp_dict['Name'])\n",
    "print(\"Employee Age :\",emp_dict['Age'])\n",
    "print(\"Employee Married :\",emp_dict['Married'])\n",
    "print(\"Employee Location :\",emp_dict['Location'])"
   ]
  },
  {
   "cell_type": "code",
   "execution_count": 32,
   "metadata": {},
   "outputs": [],
   "source": [
    "# Deserialization from json file to python dict\n",
    "with open(\"emp1.json\",\"r\") as f:\n",
    "    emp_dict1 = json.load(f)"
   ]
  },
  {
   "cell_type": "code",
   "execution_count": 33,
   "metadata": {},
   "outputs": [
    {
     "name": "stdout",
     "output_type": "stream",
     "text": [
      "{'Age': 60, 'Location': None, 'Married': True, 'Name': 'Raj', 'Salary': 40000}\n"
     ]
    }
   ],
   "source": [
    "print(emp_dict1)"
   ]
  },
  {
   "cell_type": "code",
   "execution_count": 34,
   "metadata": {},
   "outputs": [
    {
     "name": "stdout",
     "output_type": "stream",
     "text": [
      "Employee Name : Raj\n",
      "Employee Age : 60\n",
      "Employee Married : True\n",
      "Employee Location : None\n"
     ]
    }
   ],
   "source": [
    "print(\"Employee Name :\",emp_dict1['Name'])\n",
    "print(\"Employee Age :\",emp_dict1['Age'])\n",
    "print(\"Employee Married :\",emp_dict1['Married'])\n",
    "print(\"Employee Location :\",emp_dict1['Location'])"
   ]
  },
  {
   "cell_type": "code",
   "execution_count": 36,
   "metadata": {},
   "outputs": [
    {
     "name": "stdout",
     "output_type": "stream",
     "text": [
      "Age----->60\n",
      "Location----->None\n",
      "Married----->True\n",
      "Name----->Raj\n",
      "Salary----->40000\n"
     ]
    }
   ],
   "source": [
    "for k,v in emp_dict1.items():\n",
    "    print(f\"{k}----->{v}\")"
   ]
  },
  {
   "cell_type": "code",
   "execution_count": 37,
   "metadata": {},
   "outputs": [],
   "source": [
    "import requests"
   ]
  },
  {
   "cell_type": "code",
   "execution_count": 38,
   "metadata": {},
   "outputs": [],
   "source": [
    "class Employee:\n",
    "    def __init__(self,ename,eno,esal,eaddr):\n",
    "        self.ename = ename\n",
    "        self.eno = eno\n",
    "        self.esal = esal\n",
    "        self.eaddr = eaddr\n",
    "        \n",
    "    def display(self):\n",
    "        print(f\"ENAME:{self.ename},ENO:{self.eno},ESAL:{self.esal},EADDR:{self.eaddr}\")\n",
    "e = Employee(\"Raj\",587,10000,\"Hyderabad\")"
   ]
  },
  {
   "cell_type": "code",
   "execution_count": 39,
   "metadata": {},
   "outputs": [
    {
     "name": "stdout",
     "output_type": "stream",
     "text": [
      "<class 'dict'>\n",
      "{'ename': 'Raj', 'eno': 587, 'esal': 10000, 'eaddr': 'Hyderabad'}\n"
     ]
    }
   ],
   "source": [
    "employee_dict = e.__dict__\n",
    "print(type(employee_dict))\n",
    "print(employee_dict)"
   ]
  },
  {
   "cell_type": "code",
   "execution_count": 40,
   "metadata": {},
   "outputs": [],
   "source": [
    "#serialzation\n",
    "with open(\"employee.json\",\"w\") as p:\n",
    "    json.dump(employee_dict,p,indent=4)\n",
    "    "
   ]
  },
  {
   "cell_type": "code",
   "execution_count": 42,
   "metadata": {},
   "outputs": [],
   "source": [
    "#Deserialization\n",
    "with open(\"employee.json\",\"r\") as p:\n",
    "    d = json.load(p)"
   ]
  },
  {
   "cell_type": "code",
   "execution_count": 44,
   "metadata": {},
   "outputs": [
    {
     "name": "stdout",
     "output_type": "stream",
     "text": [
      "<class 'dict'>\n"
     ]
    }
   ],
   "source": [
    "print(type(d))"
   ]
  },
  {
   "cell_type": "code",
   "execution_count": 45,
   "metadata": {},
   "outputs": [
    {
     "name": "stdout",
     "output_type": "stream",
     "text": [
      "{'ename': 'Raj', 'eno': 587, 'esal': 10000, 'eaddr': 'Hyderabad'}\n"
     ]
    }
   ],
   "source": [
    "print(d)"
   ]
  },
  {
   "cell_type": "code",
   "execution_count": 49,
   "metadata": {},
   "outputs": [
    {
     "name": "stdout",
     "output_type": "stream",
     "text": [
      "Collecting jsonpickle\n",
      "  Downloading jsonpickle-2.0.0-py2.py3-none-any.whl (37 kB)\n",
      "Installing collected packages: jsonpickle\n",
      "Successfully installed jsonpickle-2.0.0\n"
     ]
    }
   ],
   "source": [
    "!pip install jsonpickle"
   ]
  },
  {
   "cell_type": "code",
   "execution_count": 52,
   "metadata": {},
   "outputs": [
    {
     "name": "stdout",
     "output_type": "stream",
     "text": [
      "{\"py/object\": \"__main__.Employee\", \"ename\": \"Raj\", \"eno\": 587, \"esal\": 10000, \"eaddr\": \"Hyderabad\", \"married\": true, \"location\": null}\n"
     ]
    }
   ],
   "source": [
    "#SERIALIZATION\n",
    "import jsonpickle\n",
    "class Employee:\n",
    "    def __init__(self,ename,eno,esal,eaddr,married,location):\n",
    "        self.ename = ename\n",
    "        self.eno = eno\n",
    "        self.esal = esal\n",
    "        self.eaddr = eaddr\n",
    "        self.married = married\n",
    "        self.location = location\n",
    "        \n",
    "    def display(self):\n",
    "        print(f\"ENAME:{self.ename},ENO:{self.eno},ESAL:{self.esal},EADDR:{self.eaddr},MARRIED:{self.married},LOCATION:{self.location}\")\n",
    "e = Employee(\"Raj\",587,10000,\"Hyderabad\",True,None)\n",
    "json_str = jsonpickle.encode(e)\n",
    "print(json_str)"
   ]
  },
  {
   "cell_type": "code",
   "execution_count": 55,
   "metadata": {},
   "outputs": [],
   "source": [
    "with open(\"emp2.json\",\"w\") as p:\n",
    "    p.write(json_str)"
   ]
  },
  {
   "cell_type": "code",
   "execution_count": 58,
   "metadata": {},
   "outputs": [],
   "source": [
    "# deserialization\n",
    "ee = jsonpickle.decode(json_str)"
   ]
  },
  {
   "cell_type": "code",
   "execution_count": 59,
   "metadata": {},
   "outputs": [
    {
     "data": {
      "text/plain": [
       "<__main__.Employee at 0x1cdb94dc880>"
      ]
     },
     "execution_count": 59,
     "metadata": {},
     "output_type": "execute_result"
    }
   ],
   "source": [
    "ee"
   ]
  },
  {
   "cell_type": "code",
   "execution_count": 62,
   "metadata": {},
   "outputs": [
    {
     "name": "stdout",
     "output_type": "stream",
     "text": [
      "<class '__main__.Employee'>\n"
     ]
    }
   ],
   "source": [
    "print(type(ee))"
   ]
  },
  {
   "cell_type": "code",
   "execution_count": 63,
   "metadata": {},
   "outputs": [
    {
     "name": "stdout",
     "output_type": "stream",
     "text": [
      "ENAME:Raj,ENO:587,ESAL:10000,EADDR:Hyderabad,MARRIED:True,LOCATION:None\n"
     ]
    }
   ],
   "source": [
    "ee.display()"
   ]
  },
  {
   "cell_type": "code",
   "execution_count": 71,
   "metadata": {},
   "outputs": [
    {
     "name": "stdout",
     "output_type": "stream",
     "text": [
      "Requirement already satisfied: pyaml in c:\\users\\prithviraj reddy\\anaconda3\\lib\\site-packages (21.8.3)\n",
      "Requirement already satisfied: PyYAML in c:\\users\\prithviraj reddy\\anaconda3\\lib\\site-packages (from pyaml) (5.3.1)\n"
     ]
    }
   ],
   "source": [
    "!pip install pyaml"
   ]
  },
  {
   "cell_type": "code",
   "execution_count": 72,
   "metadata": {},
   "outputs": [],
   "source": [
    "from pyaml import yaml"
   ]
  },
  {
   "cell_type": "code",
   "execution_count": 73,
   "metadata": {},
   "outputs": [],
   "source": [
    "dict = {\"Name\":\"Raj\",\"Age\":25,\"Id\":587,\"Married\":False,\"Location\":None}"
   ]
  },
  {
   "cell_type": "code",
   "execution_count": 75,
   "metadata": {},
   "outputs": [],
   "source": [
    "#serialization from python dict to yaml string\n",
    "yaml_string = yaml.dump(dict)"
   ]
  },
  {
   "cell_type": "code",
   "execution_count": 76,
   "metadata": {},
   "outputs": [
    {
     "name": "stdout",
     "output_type": "stream",
     "text": [
      "Age: 25\n",
      "Id: 587\n",
      "Location: null\n",
      "Married: false\n",
      "Name: Raj\n",
      "\n"
     ]
    }
   ],
   "source": [
    "print(yaml_string)"
   ]
  },
  {
   "cell_type": "code",
   "execution_count": 77,
   "metadata": {},
   "outputs": [],
   "source": [
    "#serialization to yaml file\n",
    "with open(\"emp.yaml\",\"w\") as f:\n",
    "    yaml.dump(yaml_string,f)"
   ]
  },
  {
   "cell_type": "code",
   "execution_count": 78,
   "metadata": {},
   "outputs": [],
   "source": [
    "#deserialization rom yaml string to python dict\n",
    "ed = yaml.safe_load(yaml_string)"
   ]
  },
  {
   "cell_type": "code",
   "execution_count": 79,
   "metadata": {},
   "outputs": [
    {
     "name": "stdout",
     "output_type": "stream",
     "text": [
      "<class 'dict'>\n"
     ]
    }
   ],
   "source": [
    "print(type(ed))"
   ]
  },
  {
   "cell_type": "code",
   "execution_count": 81,
   "metadata": {},
   "outputs": [
    {
     "name": "stdout",
     "output_type": "stream",
     "text": [
      "Age------>25\n",
      "Id------>587\n",
      "Location------>None\n",
      "Married------>False\n",
      "Name------>Raj\n"
     ]
    }
   ],
   "source": [
    "for k,v in ed.items():\n",
    "    print(f\"{k}------>{v}\")"
   ]
  },
  {
   "cell_type": "code",
   "execution_count": 82,
   "metadata": {},
   "outputs": [],
   "source": [
    "# deserialization from yaml file\n",
    "with open(\"emp.yaml\",\"r\") as f:\n",
    "    ed2 = yaml.safe_load(f)"
   ]
  },
  {
   "cell_type": "code",
   "execution_count": 84,
   "metadata": {},
   "outputs": [
    {
     "name": "stdout",
     "output_type": "stream",
     "text": [
      "Age: 25\n",
      "Id: 587\n",
      "Location: null\n",
      "Married: false\n",
      "Name: Raj\n",
      "\n"
     ]
    }
   ],
   "source": [
    "print(ed2)"
   ]
  },
  {
   "cell_type": "code",
   "execution_count": null,
   "metadata": {},
   "outputs": [],
   "source": []
  }
 ],
 "metadata": {
  "kernelspec": {
   "display_name": "Python 3",
   "language": "python",
   "name": "python3"
  },
  "language_info": {
   "codemirror_mode": {
    "name": "ipython",
    "version": 3
   },
   "file_extension": ".py",
   "mimetype": "text/x-python",
   "name": "python",
   "nbconvert_exporter": "python",
   "pygments_lexer": "ipython3",
   "version": "3.8.5"
  }
 },
 "nbformat": 4,
 "nbformat_minor": 4
}
