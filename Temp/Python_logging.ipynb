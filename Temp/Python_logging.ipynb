{
 "cells": [
  {
   "cell_type": "code",
   "execution_count": 1,
   "metadata": {},
   "outputs": [],
   "source": [
    "import logging"
   ]
  },
  {
   "cell_type": "code",
   "execution_count": 2,
   "metadata": {},
   "outputs": [],
   "source": [
    "logging.basicConfig(filename=\"log.txt\",\n",
    "                    level=logging.WARNING,\n",
    "                    filemode=\"a\")#Here \"a\" is append and \"w\" is overwrite,default mode is append\n",
    "logging.critical(\"IT is a critical message\")\n",
    "logging.error(\"It is a error message\")\n",
    "logging.warning(\"It is a warning message\") # Default level is warning"
   ]
  },
  {
   "cell_type": "code",
   "execution_count": 3,
   "metadata": {},
   "outputs": [],
   "source": [
    "logging.basicConfig(filename=\"log.txt\",\n",
    "                    level=logging.WARNING,\n",
    "                    format=\"%(levelname)s-%(message)s\")\n",
    "logging.critical(\"IT is a critical message\")\n",
    "logging.error(\"It is a error message\")\n",
    "logging.warning(\"It is a warning message\")\n",
    "logging.info(\"It is a info message\")\n",
    "logging.debug(\"It is a debug message\")"
   ]
  },
  {
   "cell_type": "code",
   "execution_count": 4,
   "metadata": {},
   "outputs": [],
   "source": [
    "logging.basicConfig(filename=\"log.txt\",\n",
    "                    level=logging.WARNING,\n",
    "                    format=\"%(asctime)s-%(levelname)s-%(message)s\")\n",
    "logging.critical(\"IT is a critical message\")\n",
    "logging.error(\"It is a error message\")\n",
    "logging.warning(\"It is a warning message\")\n",
    "logging.info(\"It is a info message\")\n",
    "logging.debug(\"It is a debug message\")"
   ]
  },
  {
   "cell_type": "code",
   "execution_count": 5,
   "metadata": {},
   "outputs": [],
   "source": [
    "logging.basicConfig(filename=\"log.txt\",\n",
    "                    level=logging.WARNING,\n",
    "                    format=\"%(asctime)s-%(levelname)s-%(message)s\",\n",
    "                    datefmt=\"%d-%m-%y %I:%M:%S %p\")\n",
    "logging.critical(\"IT is a critical message\")\n",
    "logging.error(\"It is a error message\")\n",
    "logging.warning(\"It is a warning message\")\n",
    "logging.info(\"It is a info message\")\n",
    "logging.debug(\"It is a debug message\")"
   ]
  },
  {
   "cell_type": "code",
   "execution_count": 7,
   "metadata": {},
   "outputs": [],
   "source": [
    "logging.basicConfig(filename=\"log.txt\",\n",
    "                    level=logging.WARNING,\n",
    "                    format=\"%(asctime)s-%(levelname)s-%(message)s\",\n",
    "                    datefmt=\"%d-%m-%y %I:%M:%S \")\n",
    "logging.critical(\"IT is a critical message\")\n",
    "logging.error(\"It is a error message\")\n",
    "logging.warning(\"It is a warning message\")\n",
    "logging.info(\"It is a info message\")\n",
    "logging.debug(\"It is a debug message\")"
   ]
  },
  {
   "cell_type": "code",
   "execution_count": null,
   "metadata": {},
   "outputs": [],
   "source": []
  }
 ],
 "metadata": {
  "kernelspec": {
   "display_name": "Python 3",
   "language": "python",
   "name": "python3"
  },
  "language_info": {
   "codemirror_mode": {
    "name": "ipython",
    "version": 3
   },
   "file_extension": ".py",
   "mimetype": "text/x-python",
   "name": "python",
   "nbconvert_exporter": "python",
   "pygments_lexer": "ipython3",
   "version": "3.8.5"
  }
 },
 "nbformat": 4,
 "nbformat_minor": 4
}
