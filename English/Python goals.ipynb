{
 "cells": [
  {
   "cell_type": "markdown",
   "metadata": {
    "collapsed": false
   },
   "source": [
    "<center>\n",
    "    <img src='https://intecbrussel.be/img/logo3.png' width='400px' height='auto'/>\n",
    "    <br/>\n",
    "    <em>Python les-materialen</em>\n",
    "</center>"
   ]
  },
  {
   "cell_type": "markdown",
   "metadata": {},
   "source": [
    "# Guide to Using Jupyter Notebooks\n",
    "In this lecture we will be going over the basics of the Jupyter (previously called iPython Notebooks). Most of the breakdown will actually occur in the presentation corresponding to this Notebook. So please refer to either the presentation or the full User Manual linked above."
   ]
  },
  {
   "cell_type": "markdown",
   "metadata": {
    "collapsed": false
   },
   "source": [
    "# PYTHON GOALS"
   ]
  },
  {
   "cell_type": "markdown",
   "metadata": {
    "collapsed": false
   },
   "source": [
    "1. <a href=\"#\">Python Fund: Installations and command line (7 points)</a> </br>\n",
    "\n",
    "    1.1. The students can use terminal. (7 points) </br>\n",
    "        1.1.1. Handling directories and files with the command line (2 points) </br>\n",
    "        1.1.2. Install Python, Anaconda and Jupyter Notebook 1 point </br>\n",
    "        1.1.3. Installing and configuring the code editors (PyCharm, VSCode) (1 point) </br>\n",
    "        1.1.4. Working with environment variables (environment variables) 1 point </br>\n",
    "        1.1.5. Creating new Python scripts and referencing 2 dots </br>"
   ]
  },
  {
   "cell_type": "markdown",
   "metadata": {
    "collapsed": false
   },
   "source": [
    "2. <a href=\"./00-Objects and data structures/01 - Variable Mapping\">Python Fund: Objects, data structures and operators (23 points) </a></br>\n",
    "\n",
    "\t2.1 The students can assign variables in an application (16 points)</br>\n",
    "\t\t2.1.1 Integers (Integers) 1 point </br>\n",
    "\t\t2.1.2 Decimals (Floating points) 1 point </br>\n",
    "\t\t2.1.3 Strings and Text Formatting 2 points </br>\n",
    "\t\t2.1.4 Lists 2 points </br>\n",
    "\t\t2.1.5 Dictionaries 2 points </br>\n",
    "\t\t2.1.6 Tuples 2 points </br>\n",
    "\t\t2.1.7 Sets 1 point </br>\n",
    "\t\t2.1.7 Booleans (Logical) 1 point </br>\n",
    "\t\t2.1.9 Converting one object type to another (parsing) 2 points </br>\n",
    "\t\t2.1.10 Performing simple I/O operations with basic .txt files 2 points </br>\n",
    "\n",
    "\t2.2 The students use operators. (6 points)</br>\n",
    "\t\t2.2.1 Arithmetic operators (+,-,*,/,%) 1 point </br>\n",
    "\t\t2.2.2 Comparison operators (==, !=, >, <, >=, <=) 1 point </br>\n",
    "\t\t2.2.3 Identity operators (is, is not) 1 point </br>\n",
    "\t\t2.2.4 Membership Operators (in, not in) 1 point </br>\n",
    "\t\t2.2.5 Priority of operators 2 points </br>\n",
    "\t\t2.2.6 Chaining the comparison operators 3 points </br>"
   ]
  },
  {
   "cell_type": "markdown",
   "metadata": {
    "collapsed": false
   },
   "source": [
    "3. <a href=\"#\">Python Fund: Statements (16 points) </a></br>\n",
    "\n",
    "\t3.1 The students build a comparison mechanism with statements. (16 points) </br>\n",
    "\t\t3.1.1 Indentation with space or tab (1 point) </br>\n",
    "\t\t3.1.2 If, elif, else statements (1 point) </br>\n",
    "\t\t3.1.3 for loops (3 points) </br>\n",
    "\t\t3.1.4 while loops (3 points) </br>\n",
    "\t\t3.1.5 Useful operators (2 points) </br>\n",
    "\t\t3.1.6 Comprehensions (2 points) </br>\n",
    "\t\t3.1.7 Combining the multiple statements (4 points) </br>"
   ]
  },
  {
   "cell_type": "markdown",
   "metadata": {
    "collapsed": false
   },
   "source": [
    "4. <a href=\"#\">Python Fund: Methoden en Functies (17 punten) </a></br>\n",
    "\n",
    "\t4.1\tDe cursisten gebruiken methoden. (5 punten) </br>\n",
    "\t\t4.1.1\tIngebouwde-methoden aanroepen van de objecten in Python\t(1 punt) </br>\n",
    "\t\t4.1.2\tInvoer/uitvoer-methoden behandelen (input/print) (2 punten) </br>\n",
    "\t\t4.1.3\tMeerdere methoden combineren op een instructie.\t(2 punten) </br>\n",
    "\n",
    "\t4.2\tDe cursisten maken een functie aan. (7 punten) </br>\n",
    "\t\t4.1.4\tDe trefwoord def correct gebruiken (1 punt) </br>\n",
    "\t\t4.1.5\tNaamgevingsconventies (snake_case) (1 punt) </br>\n",
    "\t\t4.1.6\tMethode-argumenten aanpassen (2 punten) </br>\n",
    "\t\t4.1.7\tDe retour-verklaring (return) (2 punten) </br>\n",
    "\t\t4.1.8\tDocstring (Commentaren) toevoegen (1 punt) </br>\n",
    "\n",
    "\t4.3\tDe cursisten maken interacties tussen functies (5 punten) </br>\n",
    "\t\t4.3.1\tFuncties aanroepen in meerdere functies. (2 punten) </br>\n",
    "\t\t4.3.2\tGeneste functies (1 punt) </br>\n",
    "\t\t4.3.3\tRecursive-functies (2 punten) </br>"
   ]
  },
  {
   "cell_type": "markdown",
   "metadata": {
    "collapsed": false
   },
   "source": [
    "5. <a href=\"#\">Python Fund: Object georiënteerd programmeren (OOP) (13 punten)</a> </br>\n",
    "\n",
    "\t5.1\tDe cursisten maken hun eigen klassen. (7 punten) </br>\n",
    "\t\t5.1.1\tPython klasse maken\t(1 punt) </br>\n",
    "\t\t5.1.2\tEigenschappen declareren (2 punten) </br>\n",
    "\t\t5.1.3\t__init__ methode gebruiken (2 punten) </br>\n",
    "\t\t5.1.7\tHet trefwoord self (2 punten) </br>\n",
    "\n",
    "\t5.2\tDe cursisten gebruiken hun eigen klassen. (6 punten) </br>\n",
    "\t\t5.2.1\tObjecten maken van hun eigen klassen (1 punt) </br>\n",
    "\t\t5.2.2\tObjecten gebruiken van hun eigen klassen (2 punten) </br>\n",
    "\t\t5.2.3\tFuncties en variabelen gebruiken (3 punten) </br>"
   ]
  },
  {
   "cell_type": "markdown",
   "metadata": {
    "collapsed": false
   },
   "source": [
    "6. <a href=\"#\">Python Fund: Modules en packages (5 punten)</a> </br>\n",
    "\n",
    "\t6.1\tDe cursisten beheren modules en packages (5 punten) </br>\n",
    "\t\t6.1.1\tModules kunnen importeren/beheren (import) (1 punt) </br>\n",
    "\t\t6.1.2\tIngebouwde modules gebruiken (2 punten) </br>\n",
    "\t\t6.1.3\tPackages maken van hun eigen scripten (2 punten) </br>"
   ]
  },
  {
   "cell_type": "markdown",
   "metadata": {
    "collapsed": false
   },
   "source": [
    "8. <a href=\"#\">Python Fund: Decorators (9 punten)</a> </br>\n",
    "\n",
    "    8.1\tDe cursisten ontwerpen complexer functies (9 punten) </br>\n",
    "        8.1.1\tCode-scope correct gebruiken (2 punten) </br>\n",
    "        8.1.2\tFuncties als objecten kunnen maken (2 punten) </br>\n",
    "        8.1.3\tFuncties kunnen terug retourneren (2 punten) </br>\n",
    "        8.1.4\tFuncties in een functie ontwerpen/maken (3 punten) </br>"
   ]
  },
  {
   "cell_type": "markdown",
   "metadata": {
    "collapsed": false
   },
   "source": [
    "9. <a href=\"#\">Python Fund: Generators (Optioneel) (9 punten)</a> </br>\n",
    "\n",
    "    9.1\tDe cursisten kunnen complexere functie-relaties bouwen (9 punten) </br>\n",
    "        9.1.1\tyield trefwoord kunnen gebruiken (2 punten) </br>\n",
    "        9.1.2\tnext() en iter() ingebouwde functies gebruiken (3 punten) </br>\n",
    "        9.1.3\tcombineren string, list en dictionaries op een functie met een generator (4 punten) </br>"
   ]
  },
  {
   "cell_type": "markdown",
   "metadata": {
    "collapsed": false
   },
   "source": [
    "10. <a href=\"#\">Python Adv (Geavanceerde): Ingebouwde modulen en debugging (4 punten)</a> </br>\n",
    "\n",
    "    10.1 Collections (4 punten) </br>\n",
    "        10.1.1\tCollectie modulen importeren en correct gebruiken (1 punt) </br>\n",
    "        10.1.2\tWerken met veelvoorkomende patronen uit de collectiebibliotheek\t2 punten </br>\n",
    "        10.1.3\tdefaultdic en namedtuple 1 punten </br>\n",
    "\n",
    "    10.2 File I/O 2 punten </br>\n",
    "        10.2.1\tBestanden en mappen creëren, verwijzen of verwijderen 1 punten </br>\n",
    "        10.2.2\tos module functies gebruiken 1 punten </br>\n",
    "\n",
    "    10.3 Datetime 2 punten </br>\n",
    "        10.3.1\tTijd en datum gerelateerde modules kunnen gebruiken\t1 punten </br>\n",
    "        10.3.2\tRekenkundige bewerkingen uitvoeren om tijdsverschillen te controleren 1 punten </br>\n",
    "\n",
    "    10.4 Math en Random 5 punten </br>\n",
    "        10.4.1\tmath module gebruiken om de wiskundige functies te uitvoeren 1 punten </br>\n",
    "        10.4.2\tmath functies combineren 1 punten </br>\n",
    "        10.4.3\twillekeurige objecten te creëren 1 punten </br>\n",
    "        10.4.4\twillekeurige objecten gebruiken in een for or while-lus\t2 punten </br>\n",
    "\n",
    "    10.5 Python Debugger (7 punten) </br>\n",
    "        10.5.1\tIngebouwde debugger van Python gebruiken (pdb module) 2 punten </br>\n",
    "        10.5.2\tVoer de instructie uit onder debugger-besturing\t3 punten </br>\n",
    "        10.5.3\tSimpele Python script maken en de uitvoeringstappen debuggen 2 punten </br>\n",
    "\n",
    "    10.6 Analyseren de prestaties met time module 6 punten </br>\n",
    "        10.6.1\tBasisfuncties van de time module gebruiken 1 punten </br>\n",
    "        10.6.2\tDe verstreken tijd voor de code kunnen berekenen. 2 punten </br>\n",
    "        10.6.3\ttimeit module gebruiken\t3 punten </br>\n",
    "\n",
    "    10.7 Regular Expression 6 punten </br>\n",
    "        10.7.1\tBasis regular-expressies bouwen (patterns matching)\t1 punten </br>\n",
    "        10.7.2\tre module en hun methoden gebruiken\t2 punten </br>\n",
    "        10.7.3\tpattern ontwerpen voor een specifiek constraint\t3 punten </br>\n",
    "\n",
    "    10.8 Zip en unzip 3 punten </br>\n",
    "        10.8.1\tIngebouwde zipfile module gebruiken om bestanden te zippen/uitpakken 2 punten </br>\n",
    "        10.8.2\tAlle bestanden tegelijk uitpakken met de shutil-module 1 punten </br>"
   ]
  },
  {
   "cell_type": "markdown",
   "metadata": {
    "collapsed": false
   },
   "source": [
    "11. <a href=\"#\">Python Adv (Geavanceerde): Web Scraping (9 punten)</a> </br>\n",
    "\n",
    "    11.1\tDe cursisten kunnen web componenten pakken/grijpen 9 punten </br>\n",
    "        11.1.1\tBasis componenten van HTML en CSS begrijpen\t3 punten </br>\n",
    "        11.1.2\tAlle elementen van een klas pakken/grijpen (request module)\t3 punten </br>\n",
    "        11.1.3\tEen media (image, video, vector enz.) van een website kunnen grijpen 3 punten </br>\n",
    "\n",
    "    11.2\tDe cursisten kunnen web componenten uitpakken naar een bestand/console 9 punten </br>\n",
    "        11.2.1\tURL structuur formatteren 2 punten </br>\n",
    "        11.2.2\tget requests met parameters kunnen sturen 3 punten </br>\n",
    "        11.2.3\tMappings maken tussen objecten en HTML web componenten 4 punten </br>"
   ]
  },
  {
   "cell_type": "markdown",
   "metadata": {
    "collapsed": false
   },
   "source": [
    "12. <a href=\"#\">Python Adv (Geavanceerde): Images en Videos beheren (Optioneel) 8 punten</a> </br>\n",
    "\n",
    "    12.1\tDe cursisten kunnen images manipuleren 8 punten </br>\n",
    "        12.1.1\tBasis functies van pillow module gebruiken (crop, resize, rotate ...) 2 punten </br>\n",
    "        12.1.2\tEigen willekeurige image kunnen genereren 2 punten </br>\n",
    "        12.1.3\tGeavanceerde modules voor images kunnen gebruiken 4 punten </br>"
   ]
  },
  {
   "cell_type": "markdown",
   "metadata": {
    "collapsed": false
   },
   "source": [
    "13. <a href=\"#\">Python Exp (Expert): PDFs en Spreadsheets beheren 9 punten</a> </br>\n",
    "\n",
    "    13.1\tDe cursisten kunnen PDFs en spreadsheets lezen en opnieuw schrijven 9 punten </br>\n",
    "        13.1.1\tCSV (Comma Separated Values) lezen, schrijven en hun data verwijzen\t3 punten </br>\n",
    "        13.1.2\tPDFs (Portable Document Format) lezen en interne-data beheren. 3 punten </br>\n",
    "        13.1.3\tCSVs of PDFs kunnen mappen door object datatypen zoals list of dictionary 3 punten </br>"
   ]
  },
  {
   "cell_type": "markdown",
   "metadata": {
    "collapsed": false
   },
   "source": [
    "14. <a href=\"#\">Python Exp (Expert): Emails beheren 9 punten</a> </br>\n",
    "\n",
    "    14.1\tDe cursisten kunnen e-mails versturen en ontvangen. 9 punten </br>\n",
    "        14.1.1\tEmail protocols begrijpen en kunnen email configuraties correct aanpassen 2 punten </br>\n",
    "        14.1.2\tEmails verzenden en ontvangen met behulp van smtplib en imaplib modulen. 4 punten </br>\n",
    "        14.1.3\tScripts bouwen voor om dagelijkse basis emails te verzenden. 3 punten </br>"
   ]
  },
  {
   "cell_type": "markdown",
   "metadata": {
    "collapsed": false
   },
   "source": [
    "15. <a href=\"#\">Python Exp (Expert): Netwerk automiseren 12 punten</a> </br>\n",
    "\n",
    "    15.1\tDe cursisten kunnen de netwerk modules gebruiken. 12 punten </br>\n",
    "        15.1.1\tSockets kunnen gebruiken om verbindingen te maken 3 punten </br>\n",
    "        15.1.2\tCommuniceren tussen meerdere computers 4 punten </br>\n",
    "        15.1.3\tNetwerk scripts bouwen voor het automisering 5 punten </br>"
   ]
  }
 ],
 "metadata": {
  "kernelspec": {
   "display_name": "Python 3",
   "language": "python",
   "name": "python3"
  },
  "language_info": {
   "codemirror_mode": {
    "name": "ipython",
    "version": 3
   },
   "file_extension": ".py",
   "mimetype": "text/x-python",
   "name": "python",
   "nbconvert_exporter": "python",
   "pygments_lexer": "ipython3",
   "version": "3.6.2"
  }
 },
 "nbformat": 4,
 "nbformat_minor": 1
}
