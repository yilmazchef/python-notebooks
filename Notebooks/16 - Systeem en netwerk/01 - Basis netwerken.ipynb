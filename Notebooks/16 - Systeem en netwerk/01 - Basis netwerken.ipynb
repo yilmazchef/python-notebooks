{
 "cells": [
  {
   "cell_type": "markdown",
   "metadata": {
    "collapsed": true,
    "pycharm": {
     "name": "#%% md\n"
    }
   },
   "source": [
    "<center>\n",
    "    <img src='https://intecbrussel.be/img/logo3.png' width='400px' height='auto'/>\n",
    "    <br/>\n",
    "    <em>Python les-materialen</em>\n",
    "</center>"
   ]
  },
  {
   "attachments": {},
   "cell_type": "markdown",
   "metadata": {
    "collapsed": false
   },
   "source": [
    "# Basis netwerken\n",
    "\n",
    "Features, Internet Modules & Networking Terminologies"
   ]
  },
  {
   "attachments": {},
   "cell_type": "markdown",
   "metadata": {
    "collapsed": false,
    "pycharm": {
     "name": "#%% md\n"
    }
   },
   "source": [
    "In dit artikel zullen we leren over de essentie van netwerk programmeren met behulp van Python. Om Python netwerk programmeren te leren, moet men de volgende onderwerpen kennen:\n",
    "\n",
    "- Gegevenscodering\n",
    "- Client modules op hoog niveau\n",
    "- HTTP en webprogrammering\n",
    "- Programmeren met sockets\n",
    "- Basis netwerk termen\n",
    "\n",
    "Er zijn twee niveaus van netwerkdiensten in Python. Deze zijn:\n",
    "\n",
    "- Toegang op hoog niveau\n",
    "- Toegang op laag niveau\n",
    "\n",
    "Bij de toegang op laag niveau kunnen we de socketondersteuning voor de besturingssystemen gebruiken en benaderen met behulp van Python-bibliotheken. Programmeurs kunnen ook verbindingsloze en verbindingsgerichte protocollen implementeren voor het programmeren van netwerken.\n",
    "\n",
    "Programmeurs hebben toegang tot de netwerkprotocollen op applicatieniveau door gebruik te maken van high-level toegangsdiensten. De standaardbibliotheek van Python biedt volledige ondersteuning voor protocollen, codering en netwerkconcepten."
   ]
  },
  {
   "attachments": {},
   "cell_type": "markdown",
   "metadata": {
    "collapsed": false
   },
   "source": [
    "\n",
    "## Socket\n",
    "\n",
    "Een ***socket*** wordt gedefinieerd als een eindpunt in de communicatiestroom tussen twee programma's of kanalen. De sockets worden gecreëerd door gebruik te maken van een reeks verzoeken bij het programmeren, ook wel socket API (Application Programming Interface) genoemd.\n",
    "\n",
    "Deze sockets gebruiken verschillende protocollen voor het bepalen van een verbinding voor port-to-port communicatie. De belangrijkste toepassingen van protocollen zijn:\n",
    "\n",
    "IP-adressering\n",
    "E-mail\n",
    "FTP (protocol voor bestandsoverdracht)\n",
    "Domeinnaam servers\n",
    "\n",
    "\n",
    "**Domein**: Een familie van protocollen die worden gebruikt als mechanisme voor transport.\n",
    "\n",
    "**Type**: Het is het type communicatie tussen twee eindpunten.\n",
    "\n",
    "**Protocol**: Wordt gebruikt om een variant te identificeren.\n",
    "\n",
    "**Port**: Het is een medium waarmee de server naar de clients luistert.\n",
    "\n",
    "### Een programma voor socket\n",
    "\n",
    "Python heeft een socket-methode die verschillende sockets virtueel opzet. De syntaxis hiervoor is als volgt:"
   ]
  },
  {
   "cell_type": "markdown",
   "metadata": {
    "collapsed": false
   },
   "source": [
    "```python\n",
    "s= socket.socket (socketFamily, type_of_the_socket, protocol=value)\n",
    "```"
   ]
  },
  {
   "attachments": {},
   "cell_type": "markdown",
   "metadata": {
    "collapsed": false
   },
   "source": [
    "\n",
    "Uitleg:\n",
    "\n",
    "**socketFamily**: Het is of AF_UNIX of AF_INET.\n",
    "\n",
    "**type_of_the_socket**: Het is SOCK_STREAM of SOCK_DGRAM.\n",
    "\n",
    "**Protocol**: Wordt meestal weggelaten en staat standaard op 0.\n",
    "\n",
    "Methoden om de verbindingen te beheren:\n",
    "\n",
    "- listen(): Deze methode wordt gebruikt om TCP-luisteraars op te richten en te starten.\n",
    "- bind(): Deze methode wordt gebruikt om het adres aan de socket te binden.\n",
    "- connect(): Wordt gebruikt om een verbinding te maken met de TCP-server.\n",
    "- accept(): Wordt gebruikt om een TCP-client verbinding te maken.\n",
    "- recv(): Deze methode wordt gebruikt om berichten te ontvangen.\n",
    "- close(): Wordt gebruikt om een socket te sluiten.\n",
    "- sendto(): Deze methode wordt gebruikt om UDP berichten te versturen.\n",
    "- Send(): Deze methode wordt gebruikt om berichten te versturen."
   ]
  },
  {
   "attachments": {},
   "cell_type": "markdown",
   "metadata": {
    "collapsed": false
   },
   "source": [
    "## Netwerk Terminologieën\n",
    "\n",
    "**Laten we snel de basisbegrippen van netwerken bespreken:**\n",
    "\n",
    "**Internetprotocol:** is een verzameling regels en procedures om de gegevensstroom te regelen. Er zijn twee belangrijke protocollen:\n",
    "\n",
    "### User Datagram Protocol (UDP).\n",
    "\n",
    "**Het User Datagram Protocol is een verbindingsloos protocol. Enkele eigenschappen van UDP zijn:**\n",
    "\n",
    "- **Onbetrouwbaar**: Wanneer een User Datagram Protocol-bericht wordt verzonden, kunnen we niet weten of het zijn bestemming heeft bereikt of niet. In het User Datagram Protocol is er geen mogelijkheid tot bevestiging.\n",
    "- **Niet geordend**: We kunnen niet voorspellen in welke volgorde de berichten aankomen.\n",
    "\n",
    "### Transmissiecontroleprotocol (TCP)\n",
    "\n",
    "TCP gebruikt het concept van een handdruk. Eenvoudig gezegd is het een manier om ervoor te zorgen dat de verbinding tussen de hosts tot stand is gebracht, en nu kan de gegevensoverdracht worden gestart. Het TCP-protocol vereist dat we eerst een netwerk aanleggen. Enkele eigenschappen van het Transmission Control Protocol zijn:\n",
    "\n",
    "- **Betrouwbaar**: Transmission Control Protocol beheert de bevestiging en time-out van het bericht. Het doet verschillende pogingen om de berichten af te leveren. De server vraagt ook de verloren delen opnieuw op om de verloren berichten te krijgen.\n",
    "- **Zwaargewicht**: Transmission Control Protocol heeft drie pakketten om een verbinding voor de socket op te zetten. Deze pakketten zijn:\n",
    "\n",
    "- SYN\n",
    "- SYN+ACK\n",
    "- ACK"
   ]
  },
  {
   "attachments": {},
   "cell_type": "markdown",
   "metadata": {
    "collapsed": false
   },
   "source": [
    "## Server en client applicatie voorbeeld\n",
    "\n",
    "### Een eenvoudige server\n",
    "Om Internet servers te schrijven, gebruiken we de socket functie beschikbaar in de socket module om een socket object te maken. Een socket-object wordt dan gebruikt om andere functies aan te roepen om een socket-server op te zetten.\n",
    "\n",
    "Roep nu de functie bind(hostname, port) aan om een poort te specificeren voor je dienst op de gegeven host.\n",
    "\n",
    "Roep vervolgens de accept methode van het geretourneerde object aan. Deze methode wacht tot een cliënt verbinding maakt met de poort die je hebt opgegeven, en geeft dan een verbindingsobject terug dat de verbinding met die cliënt voorstelt."
   ]
  },
  {
   "cell_type": "code",
   "execution_count": null,
   "metadata": {
    "collapsed": false,
    "pycharm": {
     "name": "#%%\n"
    }
   },
   "outputs": [],
   "source": [
    "#!/usr/bin/python           # This is server.py file\n",
    "\n",
    "import socket  # Import socket module\n",
    "\n",
    "s = socket.socket()  # Create a socket object\n",
    "host = socket.gethostname()  # Get local machine name\n",
    "port = 12345  # Reserve a port for your service.\n",
    "s.bind((host, port))  # Bind to the port\n",
    "\n",
    "s.listen(5)  # Now wait for client connection.\n",
    "while True:\n",
    "    c, addr = s.accept()  # Establish connection with client.\n",
    "    print\n",
    "    'Got connection from', addr\n",
    "    c.send('Thank you for connecting')\n",
    "    c.close()  # Close the connection"
   ]
  },
  {
   "attachments": {},
   "cell_type": "markdown",
   "metadata": {
    "collapsed": false
   },
   "source": [
    "### Een eenvoudige client\n",
    "\n",
    "Laten we een heel eenvoudig client-programma schrijven dat een verbinding opent met een gegeven poort 12345 en een gegeven host. Het is heel eenvoudig om een socket-client te maken met behulp van de socket-module-functie van Python.\n",
    "\n",
    "De socket.connect(host_name, port ) opent een TCP verbinding met hostname op de poort. Zodra je een socket hebt geopend, kun je ervan lezen zoals elk ander IO object. Als je klaar bent, moet je het sluiten, zoals je een bestand zou sluiten.\n",
    "\n",
    "De volgende code is een zeer eenvoudige client die verbinding maakt met een gegeven host en poort, alle beschikbare gegevens van de socket leest, en dan afsluit."
   ]
  },
  {
   "cell_type": "code",
   "execution_count": null,
   "metadata": {
    "collapsed": false,
    "pycharm": {
     "name": "#%%\n"
    }
   },
   "outputs": [],
   "source": [
    "#!/usr/bin/python           # This is client.py file\n",
    "\n",
    "import socket  # Import socket module\n",
    "\n",
    "s = socket.socket()  # Create a socket object\n",
    "host = socket.gethostname()  # Get local machine name\n",
    "port = 12345  # Reserve a port for your service.\n",
    "\n",
    "s.connect((host, port))\n",
    "print\n",
    "s.recv(1024)\n",
    "s.close()  # Close the socket when done"
   ]
  },
  {
   "attachments": {},
   "cell_type": "markdown",
   "metadata": {
    "collapsed": false
   },
   "source": [
    "Draai nu deze server.py op de achtergrond en draai vervolgens bovenstaande client.py om het resultaat te zien."
   ]
  },
  {
   "attachments": {},
   "cell_type": "markdown",
   "metadata": {
    "collapsed": false,
    "pycharm": {
     "name": "#%% md\n"
    }
   },
   "source": [
    "> Following would start a server in background.\n",
    "```console \n",
    "python server.py\n",
    "```\n",
    "\n",
    "> Once server is started run client as follows:\n",
    "```console\n",
    "python client.py\n",
    "```"
   ]
  },
  {
   "attachments": {},
   "cell_type": "markdown",
   "metadata": {
    "collapsed": false
   },
   "source": [
    "This would produce following result:\n",
    "\n",
    "```console\n",
    ">> Got connection from ('127.0.0.1', 48437)\n",
    ">> Thank you for connecting\n",
    "```"
   ]
  },
  {
   "attachments": {},
   "cell_type": "markdown",
   "metadata": {
    "collapsed": false
   },
   "source": [
    "c\n",
    "## Python Internet-modulen\n",
    "\n",
    "<table>\n",
    "  <tbody>\n",
    "    <tr>\n",
    "      <td>\n",
    "        <b>De naam van de protocol\n",
    "        </b>\n",
    "      </td>\n",
    "      <td>\n",
    "        <b>De functie van de protocol\n",
    "        </b>\n",
    "      </td>\n",
    "      <td>\n",
    "        <b>Portnummer\n",
    "        </b>\n",
    "      </td>\n",
    "      <td>\n",
    "        <b>Python module geassocieerd\n",
    "        </b>\n",
    "      </td>\n",
    "    </tr>\n",
    "    <tr>\n",
    "      <td>\n",
    "        <span style=\"font-weight: 400;\">Gopher\n",
    "        </span>\n",
    "      </td>\n",
    "      <td>\n",
    "        <span style=\"font-weight: 400;\">Transfer van de documenten\n",
    "        </span>\n",
    "      </td>\n",
    "      <td>\n",
    "        <span style=\"font-weight: 400;\">70\n",
    "        </span>\n",
    "      </td>\n",
    "      <td>\n",
    "        <span style=\"font-weight: 400;\">Gopherlib, urllib\n",
    "        </span>\n",
    "      </td>\n",
    "    </tr>\n",
    "    <tr>\n",
    "      <td>\n",
    "        <span style=\"font-weight: 400;\">Telnet\n",
    "        </span>\n",
    "      </td>\n",
    "      <td>\n",
    "        <span style=\"font-weight: 400;\">Gebruikt voor de commandolijn\n",
    "        </span>\n",
    "      </td>\n",
    "      <td>\n",
    "        <span style=\"font-weight: 400;\">23\n",
    "        </span>\n",
    "      </td>\n",
    "      <td>\n",
    "        <span style=\"font-weight: 400;\">telnetlib\n",
    "        </span>\n",
    "      </td>\n",
    "    </tr>\n",
    "    <tr>\n",
    "      <td>\n",
    "        <span style=\"font-weight: 400;\">IMAP4\n",
    "        </span>\n",
    "      </td>\n",
    "      <td>\n",
    "        <span style=\"font-weight: 400;\">Gebruikt voor het ophalen van e-mails\n",
    "        </span>\n",
    "      </td>\n",
    "      <td>\n",
    "        <span style=\"font-weight: 400;\">143\n",
    "        </span>\n",
    "      </td>\n",
    "      <td>\n",
    "        <span style=\"font-weight: 400;\">impalib\n",
    "        </span>\n",
    "      </td>\n",
    "    </tr>\n",
    "    <tr>\n",
    "      <td>\n",
    "        <span style=\"font-weight: 400;\">POP3\n",
    "        </span>\n",
    "      </td>\n",
    "      <td>\n",
    "        <span style=\"font-weight: 400;\">Gebruikt voor het ophalen van e-mails\n",
    "        </span>\n",
    "      </td>\n",
    "      <td>\n",
    "        <span style=\"font-weight: 400;\">110\n",
    "        </span>\n",
    "      </td>\n",
    "      <td>\n",
    "        <span style=\"font-weight: 400;\">poplib\n",
    "        </span>\n",
    "      </td>\n",
    "    </tr>\n",
    "    <tr>\n",
    "      <td>\n",
    "        <span style=\"font-weight: 400;\">SMTP\n",
    "        </span>\n",
    "      </td>\n",
    "      <td>\n",
    "        <span style=\"font-weight: 400;\">Gebruikt voor het verzenden (send) van e-mails\n",
    "        </span>\n",
    "      </td>\n",
    "      <td>\n",
    "        <span style=\"font-weight: 400;\">25\n",
    "        </span>\n",
    "      </td>\n",
    "      <td>\n",
    "        <span style=\"font-weight: 400;\">smtlib\n",
    "        </span>\n",
    "      </td>\n",
    "    </tr>\n",
    "    <tr>\n",
    "      <td>\n",
    "        <span style=\"font-weight: 400;\">FTP\n",
    "        </span>\n",
    "      </td>\n",
    "      <td>\n",
    "        <span style=\"font-weight: 400;\">Gebruikt voor de overdracht (transfer) van bestanden\n",
    "        </span>\n",
    "      </td>\n",
    "      <td>\n",
    "        <span style=\"font-weight: 400;\">20\n",
    "        </span>\n",
    "      </td>\n",
    "      <td>\n",
    "        <span style=\"font-weight: 400;\">Ftblib, urllib\n",
    "        </span>\n",
    "      </td>\n",
    "    </tr>\n",
    "    <tr>\n",
    "      <td>\n",
    "        <span style=\"font-weight: 400;\">MNTP\n",
    "        </span>\n",
    "      </td>\n",
    "      <td>\n",
    "        <span style=\"font-weight: 400;\">Usenet nieuws\n",
    "        </span>\n",
    "      </td>\n",
    "      <td>\n",
    "        <span style=\"font-weight: 400;\">119\n",
    "        </span>\n",
    "      </td>\n",
    "      <td>\n",
    "        <span style=\"font-weight: 400;\">mntplib\n",
    "        </span>\n",
    "      </td>\n",
    "    </tr>\n",
    "    <tr>\n",
    "      <td>\n",
    "        <span style=\"font-weight: 400;\">HTTP\n",
    "        </span>\n",
    "      </td>\n",
    "      <td>\n",
    "        <span style=\"font-weight: 400;\">Gebruikt voor webpagina's\n",
    "        </span>\n",
    "      </td>\n",
    "      <td>\n",
    "        <span style=\"font-weight: 400;\">80\n",
    "        </span>\n",
    "      </td>\n",
    "      <td>\n",
    "        <span style=\"font-weight: 400;\">Httplib, urllib\n",
    "        </span>\n",
    "      </td>\n",
    "    </tr>\n",
    "  </tbody>\n",
    "</table>\n",
    "\n",
    "\n"
   ]
  },
  {
   "attachments": {},
   "cell_type": "markdown",
   "metadata": {
    "collapsed": false
   },
   "source": [
    "\n",
    "## Afsluitend\n",
    "\n",
    "Dit zijn de fundamentele eigenschappen van Python als netwerktaal. Python is dus een programmeertaal voor algemeen gebruik. Het is object-georiënteerd en interactief. Het gebruikt vaak Engelse sleutelwoorden, waardoor het makkelijk te begrijpen is.\n",
    "\n",
    "### Hoe wordt Python in netwerken gebruikt?\n",
    "Python leren gebruiken in netwerken is noodzakelijk voor alle aankomende netwerkingenieurs om een uitstekende carrière in dit veld op te bouwen. Python wordt vooral gebruikt om verschillende scripts te bouwen die specifieke complexe netwerkconfiguraties kunnen automatiseren. De standaardbibliotheek van Python biedt volledige ondersteuning voor netwerkprotocollen. Python is veel nuttiger dan andere talen in netwerken vanwege de eenvoud van de code. Taakautomatisering voor alle complexe taken wordt eenvoudig gemaakt met behulp van python programmering. Zo wordt Python gebruikt in netwerken.\n",
    "\n",
    "### Wat wordt bedoeld met Python Network Programming?\n",
    "Het proces van het schrijven van programma's die gebruikt kunnen worden om over het netwerk te communiceren met alle andere programma's heet Netwerk Programmeren. Bij Python Netwerk Programmeren wordt Python gebruikt als programmeertaal voor het afhandelen van alle computernetwerk vereisten. Als u bijvoorbeeld een lokale webserver wilt maken en uitvoeren, of rechtstreeks bestanden in uw systeem wilt downloaden vanaf een URL, kunt u gebruik maken van Python Network Programming.\n",
    "Met Python wordt de hele netwerkprogrammering eenvoudig en gemakkelijk. Er zijn tal van Python-bibliotheken om de taken van programmeurs en softwareontwikkelaars te vereenvoudigen. Om in python netwerk programmeren te komen, moet je de basis van het schrijven van codes in de python taal kennen. Zodra u de taal goed kent, kunt u op dit gebied een mooie carrière opbouwen.\n",
    "\n",
    "### Hoe is Python verbonden met het internet?\n",
    "De python module genaamd urllib is nuttig voor het verbinden en openen van URL's van het internet. Elke URL-actie kan worden uitgevoerd met behulp van deze bibliotheek. Je kunt zelfs verschillende vormen van gegevens van het internet ophalen met behulp van Python door de urllib bibliotheek te gebruiken.Importeer urllib in het programma\n",
    "\n"
   ]
  }
 ],
 "metadata": {
  "kernelspec": {
   "display_name": "lesgeven",
   "language": "python",
   "name": "python3"
  },
  "language_info": {
   "codemirror_mode": {
    "name": "ipython",
    "version": 2
   },
   "file_extension": ".py",
   "mimetype": "text/x-python",
   "name": "python",
   "nbconvert_exporter": "python",
   "pygments_lexer": "ipython2",
   "version": "3.10.8 | packaged by conda-forge | (main, Nov 24 2022, 14:07:00) [MSC v.1916 64 bit (AMD64)]"
  },
  "vscode": {
   "interpreter": {
    "hash": "9a3f8754118d89546ba66fd3e8c423f2768f1186c6b5f42757b60aabc450c67b"
   }
  }
 },
 "nbformat": 4,
 "nbformat_minor": 0
}
