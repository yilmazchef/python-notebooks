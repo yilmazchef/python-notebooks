{
 "cells": [
  {
   "attachments": {},
   "cell_type": "markdown",
   "metadata": {
    "id": "J4nXJqUP8upp"
   },
   "source": [
    "### Packet Queuing Algorithms\n",
    "\n",
    "Queuing algorithms voor het netwerken\n",
    "\n",
    "in this lab you will simulate the operating of two of the queuing algorithms used in networking among the QOS techniques, namely the ( weighted fair queuing and first in first serve ) techniques.\n",
    "you will also be able to compare between them using the waiting time metrics.\n",
    "#### please follow the directions below and don't change the functions names or the function parameters.\n",
    "#### fill in the code blocks between the     #your code starts here and  #end of code statements.\n",
    "#### violation to these rules may cause loss of grades."
   ]
  },
  {
   "cell_type": "code",
   "execution_count": 1,
   "metadata": {
    "id": "_JCaT-BH8upt"
   },
   "outputs": [
    {
     "name": "stdout",
     "output_type": "stream",
     "text": [
      "done reading file\n",
      "[2, 1, 3]\n"
     ]
    }
   ],
   "source": [
    "def read_file(file_path):  # 2 marks\n",
    "    packets = []\n",
    "    # your code starts here\n",
    "    f = open(file_path, 'r')\n",
    "    N = []\n",
    "    N = f.read()\n",
    "    N.strip('\\n')\n",
    "    print(\"done reading file\")\n",
    "    weights = []\n",
    "    N = N.split('\\n')\n",
    "    for i in range(int(N[0])):\n",
    "        weights.append(int(N[i + 1]))\n",
    "    print(weights)\n",
    "    # print(int(N[0])+1)\n",
    "    for i in range(int(N[0]) + 1, len(N)):\n",
    "        packets.append(N[i].split(\" \"))\n",
    "\n",
    "    for i in range(len(packets)):\n",
    "        packets[i][0] = weights[int(packets[i][0]) - 1]\n",
    "        for j in range(3):\n",
    "            packets[i][j] = int(packets[i][j])\n",
    "\n",
    "    return packets\n",
    "\n",
    "\n",
    "file_path = \"test1.txt\"\n",
    "packets = read_file(file_path)"
   ]
  },
  {
   "cell_type": "code",
   "execution_count": 2,
   "metadata": {
    "id": "J3m9Q_5Z8upu"
   },
   "outputs": [
    {
     "name": "stdout",
     "output_type": "stream",
     "text": [
      "[[2, 2, 0], [2, 4, 3], [2, 10, 6], [2, 6, 8], [1, 5, 4], [1, 3, 4], [1, 2, 7], [3, 18, 0], [3, 6, 3], [3, 3, 5], [3, 9, 7]]\n",
      "done Weighted_Fair_Queuing\n"
     ]
    },
    {
     "ename": "NameError",
     "evalue": "name 'ol' is not defined",
     "output_type": "error",
     "traceback": [
      "\u001b[1;31m---------------------------------------------------------------------------\u001b[0m",
      "\u001b[1;31mNameError\u001b[0m                                 Traceback (most recent call last)",
      "Cell \u001b[1;32mIn [2], line 65\u001b[0m\n\u001b[0;32m     61\u001b[0m     \u001b[39mreturn\u001b[39;00m ordered_packets\n\u001b[0;32m     64\u001b[0m ordered_packets \u001b[39m=\u001b[39m weighted_fair_queuing(packets)\n\u001b[1;32m---> 65\u001b[0m \u001b[39mprint\u001b[39m(ol)\n",
      "\u001b[1;31mNameError\u001b[0m: name 'ol' is not defined"
     ]
    }
   ],
   "source": [
    "'''\n",
    "    this function takes as an argument the list of packets \n",
    "    and outputs the list of packets after ordering them in their sending order \n",
    "    using the weighted fair queueing algorithm\n",
    "\n",
    "    the output of this function should be a list of the packets in any format or order\n",
    "    from your choice as long as it can fit to the next functions without the need to change \n",
    "    their passing parameters\n",
    "\n",
    "'''\n",
    "\n",
    "\n",
    "def weighted_fair_queuing(packets):  # 3 marks\n",
    "    ordered_packets = []\n",
    "    # your code starts here\n",
    "    Li = packets\n",
    "    # Ordering packets by type then arrival time\n",
    "    #Li = sorted(Li, key= lambda x: x[0], reverse  = True)     # sort on secondary key\n",
    "    print(Li)\n",
    "    iterator = len(packets)\n",
    "\n",
    "    #Some vars\n",
    "    virtual_finish_time = [0] * iterator\n",
    "    order = []\n",
    "    actual_finish_time = []\n",
    "    weighted_length = []\n",
    "\n",
    "    # get weighted length\n",
    "    for i in range(len(Li)):\n",
    "        weighted_length.append(Li[i][1] / Li[i][0])\n",
    "    # print(weighted_length)\n",
    "\n",
    "    lastWeight = -1\n",
    "    lastFinishTime = 0\n",
    "    for i in range(iterator):\n",
    "        if lastWeight != Li[i][0]:\n",
    "            # first entry in new weight\n",
    "            lastFinishTime = Li[i][2] + weighted_length[i]\n",
    "            lastWeight = Li[i][0]\n",
    "            virtual_finish_time[i] = lastFinishTime\n",
    "        else:\n",
    "            # print(i, \" \" , lastFinishTime , \" \" , Weighted_length[i], \" \", lastWeight)\n",
    "            virtual_finish_time[i] = lastFinishTime + weighted_length[i]  #then look to see is last one finished or not\n",
    "            diff = Li[i][2] - virtual_finish_time[i - 1]\n",
    "            if diff > 0:\n",
    "                virtual_finish_time[i] = virtual_finish_time[i] + diff\n",
    "            lastFinishTime = virtual_finish_time[i]\n",
    "            lastWeight = Li[i][0]\n",
    "    for i in range(iterator):\n",
    "        Li[i].append(virtual_finish_time[i])\n",
    "\n",
    "    #print(Li)\n",
    "\n",
    "    max_0 = max(r[0] for r in Li)\n",
    "\n",
    "    ordered_packets = sorted(Li, key=lambda x: x[3])\n",
    "    #ordered_packets = sorted(range(len(Li)),key=lambda x: x[3])\n",
    "\n",
    "    #end of code\n",
    "    print(\"done Weighted_Fair_Queuing\")\n",
    "    return ordered_packets\n",
    "\n",
    "\n",
    "ordered_packets = weighted_fair_queuing(packets)\n",
    "print(ordered_packets)"
   ]
  },
  {
   "cell_type": "code",
   "execution_count": 30,
   "metadata": {
    "id": "dJVJHfwU8upu"
   },
   "outputs": [],
   "source": [
    "'''\n",
    "    this function takes as an argument the list of packets \n",
    "    and outputs the list of packets after ordering them in their sending order \n",
    "    using the simple first in first serve queuing algorithm\n",
    "\n",
    "    the output of this function should be a list of the packets in any format or order\n",
    "    from your choice as long as it can fit to the next functions without the need to change \n",
    "    their passing parameters\n",
    "\n",
    "'''\n",
    "\n",
    "\n",
    "def fifo_queuing(packets):  # 3 marks\n",
    "    ordered_packets = []\n",
    "    #your code starts here\n",
    "    ordered_packets = sorted(packets, key=lambda l: l[2])\n",
    "    #end of code\n",
    "    print(\"Done fifo_queuing\")\n",
    "    return ordered_packets"
   ]
  },
  {
   "cell_type": "code",
   "execution_count": 31,
   "metadata": {
    "id": "xk9gGVAd8upu"
   },
   "outputs": [],
   "source": [
    "'''\n",
    "    this function takes as an argument the list of packets after ordering them in their sending order, \n",
    "    and outputs the average waiting time for all the packets and the total waiting time.\n",
    "    the waiting time for a single packet= the actual finish sending time - the arrival time.  \n",
    "\n",
    "    the output of this function should only be the print messages.\n",
    "\n",
    "'''\n",
    "\n",
    "\n",
    "def print_statistics(ordered_packets):  # 2 marks\n",
    "    avg_wait_time = 0\n",
    "    tot_wait_time = 0\n",
    "    # your code starts here\n",
    "    finish_time = ordered_packets[0][2] + ordered_packets[0][1]\n",
    "    waiting_time = finish_time - ordered_packets[0][2]\n",
    "    avg_wait_time = waiting_time + avg_wait_time\n",
    "    tot_wait_time = tot_wait_time + waiting_time\n",
    "    for i in range(len(ordered_packets)):\n",
    "        if i == 0:\n",
    "            continue\n",
    "        finish_time = ordered_packets[i][1] + finish_time\n",
    "        waiting_time = finish_time - ordered_packets[i][2]\n",
    "        avg_wait_time = waiting_time + avg_wait_time\n",
    "        tot_wait_time = tot_wait_time + waiting_time\n",
    "    avg_wait_time = avg_wait_time / len(ordered_packets)\n",
    "    #end of code\n",
    "    print(\"average waiting time : \", avg_wait_time)\n",
    "    print(\"total waiting time: \", tot_wait_time)"
   ]
  },
  {
   "cell_type": "code",
   "execution_count": 32,
   "metadata": {
    "id": "wKu_O9aw8upv"
   },
   "outputs": [],
   "source": [
    "# Do NOT modify this!\n",
    "\n",
    "def main(file_path):\n",
    "    packets = read_file(file_path)\n",
    "    WFQ_ordered_packets = weighted_fair_queuing(packets)\n",
    "    FIFO_ordered_packets = fifo_queuing(packets)\n",
    "    print(\"Using WFQ: \")\n",
    "    print_statistics(WFQ_ordered_packets)\n",
    "    print(\"Using FIFO\")\n",
    "    print_statistics(FIFO_ordered_packets)\n",
    "    return\n"
   ]
  },
  {
   "cell_type": "code",
   "execution_count": 33,
   "metadata": {
    "id": "HimBTQXn8upv",
    "outputId": "51461413-3a1a-40f7-c0cd-c67d2834305d"
   },
   "outputs": [
    {
     "name": "stdout",
     "output_type": "stream",
     "text": [
      "done reading file\n",
      "[2, 1, 3]\n",
      "[[2, 2, 0], [2, 4, 3], [2, 10, 6], [2, 6, 8], [1, 5, 4], [1, 3, 4], [1, 2, 7], [3, 18, 0], [3, 6, 3], [3, 3, 5], [3, 9, 7]]\n",
      "done Weighted_Fair_Queuing\n",
      "done First_In_First_Out_Queuing\n",
      "using WFQ: \n",
      "average waiting time :  34.63636363636363\n",
      "total waiting time:  381\n",
      "using FIFO\n",
      "average waiting time :  34.27272727272727\n",
      "total waiting time:  377\n"
     ]
    }
   ],
   "source": [
    "file_path = 'test1.txt'\n",
    "main(file_path)"
   ]
  },
  {
   "cell_type": "code",
   "execution_count": null,
   "metadata": {
    "id": "b6Fs7ta08upv"
   },
   "outputs": [],
   "source": []
  }
 ],
 "metadata": {
  "colab": {
   "name": "lab3.ipynb",
   "provenance": []
  },
  "kernelspec": {
   "display_name": "lesgeven",
   "language": "python",
   "name": "python3"
  },
  "language_info": {
   "codemirror_mode": {
    "name": "ipython",
    "version": 3
   },
   "file_extension": ".py",
   "mimetype": "text/x-python",
   "name": "python",
   "nbconvert_exporter": "python",
   "pygments_lexer": "ipython3",
   "version": "3.10.8"
  },
  "metadata": {
   "interpreter": {
    "hash": "ac59ebe37160ed0dfa835113d9b8498d9f09ceb179beaac4002f036b9467c963"
   }
  },
  "vscode": {
   "interpreter": {
    "hash": "9a3f8754118d89546ba66fd3e8c423f2768f1186c6b5f42757b60aabc450c67b"
   }
  }
 },
 "nbformat": 4,
 "nbformat_minor": 1
}
