{
 "cells": [
  {
   "attachments": {},
   "cell_type": "markdown",
   "metadata": {},
   "source": [
    "# Gebruikvolle bibliotheken voor de netwerkbeheerders\n",
    "\n",
    "De doelstellingen van deze notebook zijn:\n",
    "- Libraries die je kan gebruiken in je dagelijkse werk als netwerkbeheerder\n",
    "- API Libraries die je kan gebruiken om je eigen applicaties te bouwen\n",
    "- Configuratie management libraries\n",
    "- Sommige andere cool Python libraries"
   ]
  },
  {
   "attachments": {},
   "cell_type": "markdown",
   "metadata": {},
   "source": [
    "## 1. Libraries voor het dagelijkse werk (met het data werken)\n",
    "\n",
    "Om data te manipuleren en te analyseren, zijn er een aantal libraries die je kan gebruiken. De meest gebruikte zijn:\n"
   ]
  },
  {
   "attachments": {},
   "cell_type": "markdown",
   "metadata": {},
   "source": [
    "### XML (eXtensible Markup Language)"
   ]
  },
  {
   "attachments": {},
   "cell_type": "markdown",
   "metadata": {},
   "source": [
    "XML: xmltodict"
   ]
  },
  {
   "cell_type": "code",
   "execution_count": null,
   "metadata": {},
   "outputs": [],
   "source": [
    "%pip install xmltodict"
   ]
  },
  {
   "cell_type": "code",
   "execution_count": 80,
   "metadata": {},
   "outputs": [],
   "source": [
    "import xmltodict as xml"
   ]
  },
  {
   "attachments": {},
   "cell_type": "markdown",
   "metadata": {},
   "source": [
    "om web scraping te doen, gaan we de requests library gebruiken\n"
   ]
  },
  {
   "cell_type": "code",
   "execution_count": null,
   "metadata": {},
   "outputs": [],
   "source": [
    "%pip install requests"
   ]
  },
  {
   "cell_type": "code",
   "execution_count": 81,
   "metadata": {},
   "outputs": [],
   "source": [
    "import requests as req"
   ]
  },
  {
   "cell_type": "code",
   "execution_count": 83,
   "metadata": {},
   "outputs": [],
   "source": [
    "# XML gerelateerde functies\n",
    "\n",
    "def file_to_xml(filename):\n",
    "    with open(filename, 'r') as f:\n",
    "        return xml.parse(f.read())\n",
    "    \n",
    "def xml_to_file(filename, xml):\n",
    "    with open (filename, 'w') as f:\n",
    "        f.write(xml.unparse(xml))\n",
    "        \n",
    "def url_to_xml(url, limit = 5):\n",
    "    return (xml.parse(req.get(url).text)) if limit == 0 else ((xml.parse(req.get(url).text))[:limit])\n",
    "\n",
    "def xml_to_dict(xml):\n",
    "    return xml.parse(xml)\n",
    "\n",
    "def dict_to_xml(d):\n",
    "    return xml.unparse(d)\n",
    "\n",
    "def xml_to_string(xml):\n",
    "    return xml.unparse(xml)\n",
    "\n",
    "def string_to_xml(s):\n",
    "    return xml.parse(s)\n",
    "\n",
    "def xml_to_list(xml):\n",
    "    return xml.parse(xml)\n",
    "\n",
    "def list_to_xml(l):\n",
    "    return xml.unparse(l)\n",
    "\n",
    "def xml_to_tuple(xml):\n",
    "    return xml.parse(xml)\n",
    "\n",
    "def tuple_to_xml(t):\n",
    "    return xml.unparse(t)\n",
    "\n",
    "def xml_to_set(xml):\n",
    "    return xml.parse(xml)\n",
    "\n",
    "def set_to_xml(s):\n",
    "    return xml.unparse(s)\n"
   ]
  },
  {
   "cell_type": "code",
   "execution_count": 84,
   "metadata": {},
   "outputs": [
    {
     "data": {
      "text/plain": [
       "{'transactions': {'transaction': [{'id': '1',\n",
       "    'date': '2016-01-01',\n",
       "    'amount': '100',\n",
       "    'description': 'Salary'},\n",
       "   {'id': '2', 'date': '2016-01-02', 'amount': '-20', 'description': 'Food'},\n",
       "   {'id': '3', 'date': '2016-01-03', 'amount': '-10', 'description': 'Gas'},\n",
       "   {'id': '4', 'date': '2016-01-04', 'amount': '-20', 'description': 'Food'}]}}"
      ]
     },
     "metadata": {},
     "output_type": "display_data"
    },
    {
     "data": {
      "text/plain": [
       "'------------------------------------------------------------------------------------------------------------------------'"
      ]
     },
     "metadata": {},
     "output_type": "display_data"
    },
    {
     "ename": "TypeError",
     "evalue": "unhashable type: 'slice'",
     "output_type": "error",
     "traceback": [
      "\u001b[1;31m---------------------------------------------------------------------------\u001b[0m",
      "\u001b[1;31mTypeError\u001b[0m                                 Traceback (most recent call last)",
      "Cell \u001b[1;32mIn[84], line 5\u001b[0m\n\u001b[0;32m      1\u001b[0m display( file_to_xml(\u001b[39m'\u001b[39m\u001b[39mdemo.xml\u001b[39m\u001b[39m'\u001b[39m) )\n\u001b[0;32m      3\u001b[0m display(\u001b[39m\"\u001b[39m\u001b[39m-\u001b[39m\u001b[39m\"\u001b[39m \u001b[39m*\u001b[39m \u001b[39m120\u001b[39m)\n\u001b[1;32m----> 5\u001b[0m display( url_to_xml(\u001b[39m'\u001b[39;49m\u001b[39mhttps://www.w3schools.com/xml/guestbook.asp\u001b[39;49m\u001b[39m'\u001b[39;49m) )\n\u001b[0;32m      7\u001b[0m display(\u001b[39m\"\u001b[39m\u001b[39m-\u001b[39m\u001b[39m\"\u001b[39m \u001b[39m*\u001b[39m \u001b[39m120\u001b[39m)\n\u001b[0;32m      9\u001b[0m display( xml_to_dict(\u001b[39m'\u001b[39m\u001b[39m<note><to>Tove</to><from>Jani</from><heading>Reminder</heading><body>Don\u001b[39m\u001b[39m\\'\u001b[39;00m\u001b[39mt forget me this weekend!</body></note>\u001b[39m\u001b[39m'\u001b[39m) )\n",
      "Cell \u001b[1;32mIn[83], line 12\u001b[0m, in \u001b[0;36murl_to_xml\u001b[1;34m(url, limit)\u001b[0m\n\u001b[0;32m     11\u001b[0m \u001b[39mdef\u001b[39;00m \u001b[39murl_to_xml\u001b[39m(url, limit \u001b[39m=\u001b[39m \u001b[39m5\u001b[39m):\n\u001b[1;32m---> 12\u001b[0m     \u001b[39mreturn\u001b[39;00m (xml\u001b[39m.\u001b[39mparse(req\u001b[39m.\u001b[39mget(url)\u001b[39m.\u001b[39mtext)) \u001b[39mif\u001b[39;00m limit \u001b[39m==\u001b[39m \u001b[39m0\u001b[39m \u001b[39melse\u001b[39;00m ((xml\u001b[39m.\u001b[39;49mparse(req\u001b[39m.\u001b[39;49mget(url)\u001b[39m.\u001b[39;49mtext))[:limit])\n",
      "\u001b[1;31mTypeError\u001b[0m: unhashable type: 'slice'"
     ]
    }
   ],
   "source": [
    "display( file_to_xml('demo.xml') )\n",
    "\n",
    "display(\"-\" * 120)\n",
    "\n",
    "display( url_to_xml('https://www.w3schools.com/xml/guestbook.asp') )\n",
    "\n",
    "display(\"-\" * 120)\n",
    "\n",
    "display( xml_to_dict('<note><to>Tove</to><from>Jani</from><heading>Reminder</heading><body>Don\\'t forget me this weekend!</body></note>') )\n",
    "\n",
    "display(\"-\" * 120)\n",
    "\n",
    "display( dict_to_xml({'note': {'to': 'Tove', 'from': 'Jani', 'heading': 'Reminder', 'body': 'Don\\'t forget me this weekend!'}}) )\n",
    "\n",
    "display(\"-\" * 120)\n",
    "\n",
    "display( xml_to_string({'note': {'to': 'Tove', 'from': 'Jani', 'heading': 'Reminder', 'body': 'Don\\'t forget me this weekend!'}}) )\n",
    "\n",
    "display(\"-\" * 120)\n",
    "\n",
    "display( string_to_xml('<note><to>Tove</to><from>Jani</from><heading>Reminder</heading><body>Don\\'t forget me this weekend!</body></note>') )\n",
    "\n",
    "display(\"-\" * 120)\n",
    "\n",
    "display( xml_to_list({'note': {'to': 'Tove', 'from': 'Jani', 'heading': 'Reminder', 'body': 'Don\\'t forget me this weekend!'}}) )\n",
    "\n",
    "display(\"-\" * 120)\n",
    "\n",
    "display( list_to_xml(['note', {'to': 'Tove', 'from': 'Jani', 'heading': 'Reminder', 'body': 'Don\\'t forget me this weekend!'}]) )\n",
    "\n",
    "display(\"-\" * 120)\n",
    "\n",
    "display( xml_to_tuple({'note': {'to': 'Tove', 'from': 'Jani', 'heading': 'Reminder', 'body': 'Don\\'t forget me this weekend!'}}) )\n",
    "\n",
    "display(\"-\" * 120)\n",
    "\n",
    "display( tuple_to_xml(('note', {'to': 'Tove', 'from': 'Jani', 'heading': 'Reminder', 'body': 'Don\\'t forget me this weekend!'})) )\n",
    "\n",
    "display(\"-\" * 120)\n",
    "\n",
    "display( xml_to_set({'note': {'to': 'Tove', 'from': 'Jani', 'heading': 'Reminder', 'body': 'Don\\'t forget me this weekend!'}}) )\n",
    "\n",
    "display(\"-\" * 120)\n",
    "\n",
    "display( set_to_xml({'note', {'to': 'Tove', 'from': 'Jani', 'heading': 'Reminder', 'body': 'Don\\'t forget me this weekend!'}}) )\n"
   ]
  },
  {
   "attachments": {},
   "cell_type": "markdown",
   "metadata": {},
   "source": [
    "we hadden XML uit string gelezen en terug gemapt naar een dictionary."
   ]
  },
  {
   "attachments": {},
   "cell_type": "markdown",
   "metadata": {},
   "source": [
    "> Type casting is een van de meest essentiele onderdelen van het programmeren. Het is een proces waarbij een variabele van een data type wordt veranderd naar een ander data type. In Python, is dit proces vrij eenvoudig. Er zijn verschillende functies die je kan gebruiken om data type te veranderen. Toen we onze eigen datatypen aanmaken in Python, is het belangrijk om te weten dat we zeker moeten cast methoden bouwen die compatibel zijn met de standaar Python datatypes."
   ]
  },
  {
   "attachments": {},
   "cell_type": "markdown",
   "metadata": {},
   "source": [
    "### JSON (JavaScript Object Notation)"
   ]
  },
  {
   "attachments": {},
   "cell_type": "markdown",
   "metadata": {},
   "source": [
    "Om JSON te manipuleren, zijn er een aantal libraries die je kan gebruiken. De meest gebruikte is JSON. Het is een ingebouwde library in Python 2.6+ en 3.0+. JSON is een data formaat dat veel gebruikt wordt om data uit te wisselen tussen applicaties. Het is een alternatief voor XML. JSON is een tekst formaat dat gemakkelijk te lezen en te schrijven is voor mensen. Het is gebaseerd op een subset van de JavaScript Programming Language, Standard ECMA-262 3rd Edition - December 1999. JSON is volledig taal onafhankelijk. Het kan gebruikt worden in Python, Java, C#, PHP, Ruby en vele andere talen."
   ]
  },
  {
   "cell_type": "code",
   "execution_count": null,
   "metadata": {},
   "outputs": [],
   "source": [
    "import json"
   ]
  },
  {
   "cell_type": "code",
   "execution_count": null,
   "metadata": {},
   "outputs": [],
   "source": [
    "import requests\n",
    "\n",
    "\n",
    "def read_json_from_file(filename):\n",
    "    with open(filename, 'r') as f:\n",
    "        return json.load(f)\n",
    "    \n",
    "def write_json_to_file(filename, json):\n",
    "    with open (filename, 'w') as f:\n",
    "        json.dump(json, f)\n",
    "        \n",
    "def read_json_from_url(url, limit = 5):\n",
    "    # get body from url\n",
    "    all_data = json.loads(requests.get(url).text)\n",
    "    \n",
    "    # limit the data\n",
    "    return all_data[:limit]\n",
    "\n",
    "def json_to_dict(json_data):\n",
    "    return json.loads(json_data)\n",
    "\n",
    "def dict_to_json(dict_data):\n",
    "    return json.dumps(dict_data)\n",
    "\n",
    "def json_to_xml(json_data):\n",
    "    return xmltodict.unparse(json_data)\n",
    "\n",
    "def xml_to_json(xml_data):\n",
    "    return xmltodict.parse(xml_data)"
   ]
  },
  {
   "cell_type": "code",
   "execution_count": null,
   "metadata": {},
   "outputs": [],
   "source": [
    "display( read_json_from_file('demo.json') )\n",
    "\n",
    "display( read_json_from_url('https://jsonplaceholder.typicode.com/todos') )\n",
    "\n",
    "display( json_to_dict('{\"name\": \"John\", \"age\": 30, \"city\": \"New York\"}') )\n",
    "\n"
   ]
  },
  {
   "cell_type": "code",
   "execution_count": null,
   "metadata": {},
   "outputs": [],
   "source": [
    "def json_to_str(json_data):\n",
    "    return json.dumps(json_data)\n",
    "\n",
    "# convert json to str\n",
    "json_as_string = json_to_str(read_json_from_file('demo.json'))\n",
    "\n",
    "display(json_as_string)\n",
    "display(\"The datatype of json_as_string is: \" + str(type(json_as_string)))"
   ]
  },
  {
   "attachments": {},
   "cell_type": "markdown",
   "metadata": {},
   "source": [
    "In this notebook, we have used the JSON library to read and write JSON data. We have also used the json.dumps() method to convert a Python object into a JSON string. We have also used the json.loads() method to convert a JSON string into a Python object."
   ]
  },
  {
   "attachments": {},
   "cell_type": "markdown",
   "metadata": {},
   "source": [
    "### YAML (Yet Another Markup Language)"
   ]
  },
  {
   "attachments": {},
   "cell_type": "markdown",
   "metadata": {},
   "source": [
    "YAML (Yet Another Markup Language) is een human-readable data-serialization taal. Het is een superset van JSON. Het is een externe library maar wel bekent in de Python community. Om YAML te gebruiken, moet je de PyYAML library installeren."
   ]
  },
  {
   "cell_type": "code",
   "execution_count": null,
   "metadata": {},
   "outputs": [],
   "source": [
    "%pip install pyyaml"
   ]
  },
  {
   "cell_type": "code",
   "execution_count": null,
   "metadata": {},
   "outputs": [],
   "source": [
    "import yaml"
   ]
  },
  {
   "attachments": {},
   "cell_type": "markdown",
   "metadata": {},
   "source": [
    "YAML is een data formaat dat veel gebruikt wordt om data uit te wisselen tussen applicaties. Het is een alternatief voor XML. YAML is een tekst formaat dat gemakkelijk te lezen en te schrijven is voor mensen. Het is gebaseerd op een subset van de JavaScript Programming Language, Standard ECMA-262 3rd Edition - December 1999. YAML is volledig taal onafhankelijk. Het kan gebruikt worden in Python, Java, C#, PHP, Ruby en vele andere talen. YAML is goed bekend in de DevOps community. Het wordt veel gebruikt in de configuratie management tools zoals Ansible, Chef, Puppet, etc."
   ]
  },
  {
   "cell_type": "code",
   "execution_count": null,
   "metadata": {},
   "outputs": [],
   "source": [
    "def read_yaml_from_file(filename):\n",
    "    with open(filename, 'r') as f:\n",
    "        return yaml.load(f, Loader=yaml.FullLoader)\n",
    "    \n",
    "def write_yaml_to_file(filename, yaml):\n",
    "    with open (filename, 'w') as f:\n",
    "        yaml.dump(yaml, f)\n",
    "\n",
    "def read_yaml_from_url(url, limit = 5):\n",
    "    # get body from url\n",
    "    all_data = yaml.load(requests.get(url).text, Loader=yaml.FullLoader)\n",
    "    \n",
    "    # limit the data\n",
    "    return all_data[:limit]\n",
    "\n",
    "def convert_yaml_to_dict(yaml_data):\n",
    "    # convert yaml to dict\n",
    "    yaml_data = yaml.load(yaml_data, Loader=yaml.FullLoader)\n",
    "    return yaml_data\n",
    "\n",
    "def convert_yaml_to_str(yaml_data):\n",
    "    return yaml.dump(yaml_data)"
   ]
  },
  {
   "cell_type": "code",
   "execution_count": null,
   "metadata": {},
   "outputs": [],
   "source": [
    "display( read_yaml_from_file('demo.yaml') )\n",
    "\n",
    "display( read_yaml_from_url('https://raw.githubusercontent.com/ansible/ansible-examples/master/tomcat-memcached-failover/site.yml') )\n",
    "\n",
    "display( convert_yaml_to_dict(\"\"\"\n",
    "---\n",
    "# This playbook deploys the whole application stack in this site.\n",
    "\n",
    "- name: apply common configuration to all nodes\n",
    "    hosts: all\n",
    "    remote_user: root\n",
    "\n",
    "    roles:\n",
    "        - common\n",
    "\n",
    "- name: configure and deploy the webservers and application code\n",
    "    hosts: webservers\n",
    "    remote_user: root\n",
    "\n",
    "    roles:\n",
    "        - web\n",
    "\n",
    "- name: deploy MySQL and configure the databases\n",
    "    hosts: dbservers\n",
    "    remote_user: root\n",
    "\n",
    "    roles:\n",
    "        - db\n",
    "\"\"\") )\n",
    "\n",
    "display( convert_yaml_to_str(read_yaml_from_file('demo.yaml')) )"
   ]
  },
  {
   "attachments": {},
   "cell_type": "markdown",
   "metadata": {},
   "source": [
    "CSV (Comma Separated Values) is een tekstbestand met gegevens die gescheiden zijn door een komma. Het is een ingebouwde library in Python 2.6+ en 3.0+. Om CSV te gebruiken, moet je de csv library importeren."
   ]
  },
  {
   "cell_type": "code",
   "execution_count": null,
   "metadata": {},
   "outputs": [],
   "source": [
    "import csv"
   ]
  },
  {
   "attachments": {},
   "cell_type": "markdown",
   "metadata": {},
   "source": [
    "YANG (Yet Another Next Generation) is een data modeling taal die gebruikt wordt in de netwerkwereld. Het is een externe library maar wel bekent in de Python community. Om YANG te gebruiken, moet je de pyang library installeren."
   ]
  },
  {
   "cell_type": "code",
   "execution_count": null,
   "metadata": {},
   "outputs": [],
   "source": [
    "%pip install yang"
   ]
  },
  {
   "cell_type": "code",
   "execution_count": null,
   "metadata": {},
   "outputs": [],
   "source": [
    "import yang"
   ]
  }
 ],
 "metadata": {
  "kernelspec": {
   "display_name": ".pyenv",
   "language": "python",
   "name": "python3"
  },
  "language_info": {
   "codemirror_mode": {
    "name": "ipython",
    "version": 3
   },
   "file_extension": ".py",
   "mimetype": "text/x-python",
   "name": "python",
   "nbconvert_exporter": "python",
   "pygments_lexer": "ipython3",
   "version": "3.10.8"
  },
  "orig_nbformat": 4,
  "vscode": {
   "interpreter": {
    "hash": "c9bd69232ff58173948ed44ab7c1b31993da5e326561103388cba03623f2d771"
   }
  }
 },
 "nbformat": 4,
 "nbformat_minor": 2
}
