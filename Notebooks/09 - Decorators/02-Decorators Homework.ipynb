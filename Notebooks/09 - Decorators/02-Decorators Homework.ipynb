{
 "cells": [
  {
   "cell_type": "markdown",
   "metadata": {},
   "source": [
    "<center>\n",
    "    <img src='https://intecbrussel.be/img/logo3.png' width='400px' height='auto'/>\n",
    "    <br/>\n",
    "    <em>Python les-materialen</em>\n",
    "</center>"
   ]
  },
  {
   "attachments": {},
   "cell_type": "markdown",
   "metadata": {},
   "source": [
    "# Decorateurs huiswerk (optioneel)\n",
    "\n",
    "Aangezien je decorators pas verderop in je coderingscarrière tegenkomt, is dit huiswerk optioneel. Bekijk het Web Framework [Flask](http://flask.pocoo.org/). Je kunt Flask gebruiken om webpagina's te maken met Python (zolang je wat HTML en CSS kent) en ze gebruiken veel decorators! Leer hoe ze [view decorators](http://flask.pocoo.org/docs/0.12/patterns/viewdecorators/) gebruiken. Maak je geen zorgen als je niet alles van Flask begrijpt, het belangrijkste punt van dit optionele huiswerk is dat je bekend bent met decorators in Web Frameworks. Op die manier zul je, als je besluit een \"Full-Stack\" Python Web Developer te worden, niet perplex staan van decorators. \n",
    "\n",
    "U kunt ook kijken naar [Django](https://www.djangoproject.com/) een ander (en populairder) webframework voor Python dat wat zwaarder is.\n",
    "\n",
    "Ook voor wat extra informatie:\n",
    "\n",
    "Een framework is een soort softwarebibliotheek die generieke functionaliteit biedt die door de programmeur kan worden uitgebreid om applicaties te bouwen. Flask en Django zijn goede voorbeelden van frameworks bedoeld voor webontwikkeling.\n",
    "\n",
    "Een framework wordt onderscheiden van een eenvoudige bibliotheek of API. Een API is een stukje software dat een ontwikkelaar kan gebruiken in zijn of haar applicatie. Een framework is meer omvattend: je hele applicatie is gestructureerd rond het framework (d.w.z. het biedt het kader waarrond je je software bouwt).\n",
    "\n",
    "## Geweldig gedaan!"
   ]
  }
 ],
 "metadata": {
  "kernelspec": {
   "display_name": "Python 3.10.8 ('lesgeven')",
   "language": "python",
   "name": "python3"
  },
  "language_info": {
   "codemirror_mode": {
    "name": "ipython",
    "version": 3
   },
   "file_extension": ".py",
   "mimetype": "text/x-python",
   "name": "python",
   "nbconvert_exporter": "python",
   "pygments_lexer": "ipython3",
   "version": "3.10.8"
  },
  "vscode": {
   "interpreter": {
    "hash": "9a3f8754118d89546ba66fd3e8c423f2768f1186c6b5f42757b60aabc450c67b"
   }
  }
 },
 "nbformat": 4,
 "nbformat_minor": 1
}
