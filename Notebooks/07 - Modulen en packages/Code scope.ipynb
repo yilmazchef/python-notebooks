{
 "cells": [
  {
   "cell_type": "markdown",
   "metadata": {},
   "source": [
    "# Code Scope - Bereikbaarheid"
   ]
  },
  {
   "cell_type": "code",
   "execution_count": 1,
   "metadata": {},
   "outputs": [
    {
     "name": "stdout",
     "output_type": "stream",
     "text": [
      "Global a is now 1\n",
      "Inside method f(), a is 1\n",
      "Global a is now 1\n",
      "Inside method g(), a is 2\n",
      "Global a is now 1\n",
      "Inside method h(), a is 3\n",
      "Global a is now 3\n"
     ]
    }
   ],
   "source": [
    "# Global scope\n",
    "\n",
    "a = 1\n",
    "\n",
    "\n",
    "def f():\n",
    "    print(\"Inside method f(), a is {}\".format(a))\n",
    "\n",
    "\n",
    "def g():\n",
    "    a = 2\n",
    "    print(\"Inside method g(), a is {}\".format(a))\n",
    "\n",
    "\n",
    "def h():\n",
    "    global a\n",
    "    a = 3\n",
    "    print(\"Inside method h(), a is {}\".format(a))\n",
    "\n",
    "\n",
    "# Zonder code uit te voeren probeer om te inschatten wat de volgende instructies gaan afdrukken.\n",
    "print(\"Global a is now {}\".format(a))\n",
    "f()\n",
    "print(\"Global a is now {}\".format(a))\n",
    "g()\n",
    "print(\"Global a is now {}\".format(a))\n",
    "h()\n",
    "print(\"Global a is now {}\".format(a))\n",
    "\n",
    "\n",
    "\n",
    "\n",
    "\n"
   ]
  }
 ],
 "metadata": {
  "interpreter": {
   "hash": "4e0b39fdc4f2df2992ef135d097972ec225e019845a073717c5b1bc8df292c8a"
  },
  "kernelspec": {
   "display_name": "Python 3.10.2 64-bit",
   "language": "python",
   "name": "python3"
  },
  "language_info": {
   "codemirror_mode": {
    "name": "ipython",
    "version": 3
   },
   "file_extension": ".py",
   "mimetype": "text/x-python",
   "name": "python",
   "nbconvert_exporter": "python",
   "pygments_lexer": "ipython3",
   "version": "3.10.2"
  },
  "orig_nbformat": 4
 },
 "nbformat": 4,
 "nbformat_minor": 2
}
