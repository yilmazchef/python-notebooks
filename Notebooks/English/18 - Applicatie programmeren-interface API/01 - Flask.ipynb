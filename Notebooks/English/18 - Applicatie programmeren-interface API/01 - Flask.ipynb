{
 "cells": [
  {
   "cell_type": "markdown",
   "metadata": {},
   "source": [
    "<center>\n",
    "    <img src='https://intecbrussel.be/img/logo3.png' width='400px' height='auto'/>\n",
    "    <br/>\n",
    "    <em>Python les-materialen</em>\n",
    "</center>"
   ]
  },
  {
   "cell_type": "markdown",
   "metadata": {
    "pycharm": {
     "name": "#%% md\n"
    },
    "slideshow": {
     "slide_type": "slide"
    }
   },
   "source": [
    "# Flask\n",
    "\n",
    "Flask is een webframework, het is een Python-module waarmee je eenvoudig webapplicaties kunt ontwikkelen. Het heeft een kleine en gemakkelijk uit te breiden kern: het is een microframework dat geen ORM (Object Relational Manager) of dergelijke functies bevat.\n",
    "\n",
    "Het heeft veel coole functies zoals url-routering, sjabloonengine. Het is een WSGI-web app framework.\n",
    "\n",
    "## Wat is een Web Framework?\n",
    "\n",
    "Een Web Application Framework of een gewoon een Web Framework vertegenwoordigt een verzameling bibliotheken en modules waarmee ontwikkelaars van webtoepassingen toepassingen kunnen schrijven zonder zich zorgen te hoeven maken over details op laag niveau, zoals protocol, thread-beheer, enzovoort.\n",
    "\n",
    "## Wat is Flask?\n",
    "\n",
    "Flask is een webapplicatie framework geschreven in Python. Het werd ontwikkeld door Armin Ronacher, die een team van internationale Python-enthousiastelingen leidde genaamd Poocco. Flask is gebaseerd op de Werkzeg WSGI toolkit en de Jinja2 template engine. Beide zijn Pocco-projecten.\n",
    "\n",
    "### WSGI\n",
    "\n",
    "De Webserver Gateway Interface (Webserver Gateway Interface, WSGI) is gebruikt als standaard voor de ontwikkeling van Python-webtoepassingen. WSGI is de specificatie van een gemeenschappelijke interface tussen webservers en webapplicaties.\n",
    "\n",
    "### Werkzeug\n",
    "\n",
    "Werkzeug is een WSGI-toolkit die aanvragen, response-objecten en hulp-programmafuncties implementeert. Hierdoor kan er een web-frame op gebouwd worden. Het Flask framework gebruikt Werkzeug als een van zijn bases.\n",
    "\n",
    "### jinja2\n",
    "\n",
    "jinja2 is een populaire sjabloonengine voor Python. Een web-sjablonensysteem combineert een sjabloon met een specifieke gegevensbron om een dynamische webpagina weer te geven.\n",
    "\n",
    "Hiermee kunt u Python-variabelen als volgt doorgeven aan HTML-sjablonen:\n",
    "\n",
    "\n",
    "<html>\n",
    "    <head>\n",
    "        <title>{{ title }}</title>\n",
    "    </head>\n",
    "    <body>\n",
    "        <h1>Hello {{ username }}</h1>\n",
    "    </body>\n",
    "</html>\n",
    "\n",
    "\n",
    "\n",
    "### [](https://pythonbasics.org/what-is-flask-python/#Microframework \"Microframework\")Microframewerk\n",
    "\n",
    "Kolf wordt vaak een microframework genoemd. Het is ontworpen om de kern van de applicatie eenvoudig en schaalbaar te houden.\n",
    "\n",
    "In plaats van een abstractielaag voor database-ondersteuning, ondersteunt Flask extensies om dergelijke mogelijkheden aan de toepassing toe te voegen.\n",
    "\n",
    "## [](https://pythonbasics.org/what-is-flask-python/#Why-is-Flask-a-good-web-framework-choice \"Why is Flask a good web framework choice?\")Waarom is Flask een goede keuze voor een webframework?\n",
    "\n",
    "In tegenstelling tot het Django-framework is Flask erg Pythonisch. Het is gemakkelijk om aan de slag te gaan met Flask, omdat het geen enorme leercurve heeft.\n",
    "\n",
    "Bovendien is het erg expliciteit, wat de leesbaarheid verhoogt. Om de \"Hello World\" -app te maken, hebt u slechts een paar regels code nodig.\n",
    "\n",
    "Dit is een voorbeeld van een boilerplate-code.\n"
   ]
  },
  {
   "cell_type": "code",
   "execution_count": 1,
   "metadata": {
    "collapsed": false,
    "pycharm": {
     "name": "#%%\n"
    }
   },
   "outputs": [
    {
     "name": "stdout",
     "output_type": "stream",
     "text": [
      " * Serving Flask app '__main__' (lazy loading)\n",
      " * Environment: production\n",
      "\u001b[31m   WARNING: This is a development server. Do not use it in a production deployment.\u001b[0m\n",
      "\u001b[2m   Use a production WSGI server instead.\u001b[0m\n",
      " * Debug mode: off\n"
     ]
    },
    {
     "name": "stderr",
     "output_type": "stream",
     "text": [
      " * Running on http://127.0.0.1:5000 (Press CTRL+C to quit)\n",
      "127.0.0.1 - - [13/Apr/2022 14:18:13] \"GET / HTTP/1.1\" 200 -\n",
      "127.0.0.1 - - [13/Apr/2022 14:18:13] \"GET /favicon.ico HTTP/1.1\" 404 -\n"
     ]
    }
   ],
   "source": [
    "from flask import Flask\n",
    "app = Flask(__name__)\n",
    "\n",
    "@app.route('/')\n",
    "def hello_world():\n",
    "    return 'Hello World!'\n",
    "\n",
    "if __name__ == '__main__':\n",
    "    app.run()"
   ]
  },
  {
   "cell_type": "markdown",
   "metadata": {
    "collapsed": false
   },
   "source": [
    "Als u op uw lokale computer wilt ontwikkelen, kunt u dit eenvoudig doen. Sla dit programma op als en voer het uit met .`server.py``python server.py`\n",
    "\n",
    "```bash\n",
    "$ python server.py\n",
    " * Serving Flask app \"hello\"\n",
    " * Running on http://127.0.0.1:5000/ (Press CTRL+C to quit)\n",
    "```\n",
    "\n",
    "Het start dan een webserver die alleen beschikbaar is op uw computer. Open in een webbrowser localhost op poort 5000 (de url) en je ziet \"Hello World\" verschijnen.\n",
    "Om online te hosten en te ontwikkelen, kunt u [PythonAnywhere](https://www.pythonanywher.com/?affiliate_id=00535ced) gebruiken\n",
    "\n",
    "Enkele voorbeelden van uitvoer:\n",
    "\n",
    "![veldfles](./flask.png)\n",
    "\n",
    "Het is een microframework, maar dat betekent niet dat je hele app zich in één Python-bestand moet bevinden. U kunt en moet veel bestanden gebruiken voor grotere programma's, om complexiteit te verwerken.\n",
    "\n",
    "Micro betekent dat het Flask-framework eenvoudig maar uitbreidbaar is. U kunt alle beslissingen nemen: welke database te gebruiken, wilt u een ORM enz. Flask beslist niet voor u.\n",
    "\n",
    "Flask is een van de meest populaire web-frameworks, wat betekent dat het up-to-date en modern is. U kunt de functionaliteit eenvoudig uitbreiden. U kunt het opschalen voor complexe toepassingen.\n",
    "\n"
   ]
  }
 ],
 "metadata": {
  "kernelspec": {
   "display_name": "Python 3",
   "language": "python",
   "name": "python3"
  },
  "language_info": {
   "codemirror_mode": {
    "name": "ipython",
    "version": 3
   },
   "file_extension": ".py",
   "mimetype": "text/x-python",
   "name": "python",
   "nbconvert_exporter": "python",
   "pygments_lexer": "ipython3",
   "version": "3.10.4"
  }
 },
 "nbformat": 4,
 "nbformat_minor": 1
}
