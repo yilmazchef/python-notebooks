{
 "cells": [
  {
   "cell_type": "markdown",
   "metadata": {
    "collapsed": true,
    "pycharm": {
     "name": "#%% md\n"
    }
   },
   "source": [
    "# Socket programmeren"
   ]
  },
  {
   "cell_type": "markdown",
   "source": [
    "## Achtergrond\n",
    "\n",
    "Sockets en de socket API worden gebruikt om berichten over een netwerk te verzenden.\n",
    "Ze bieden een vorm van interprocescommunicatie (IPC).\n",
    "Het netwerk kan een logisch, lokaal netwerk met de computer zijn of een netwerk dat fysiek is verbonden met een extern netwerk, met eigen verbindingen met andere netwerken. Het voor de hand liggende voorbeeld is het INTERNET, waarmee u verbinding maakt via uw ISP."
   ],
   "metadata": {
    "collapsed": false
   }
  },
  {
   "cell_type": "markdown",
   "source": [
    "## Socket API Overzicht\n",
    "\n",
    "De socket-module van Python biedt een interface naar de Berkeley Sockets API. Dit is de module die u in deze zelfstudie zult gebruiken.\n",
    "\n",
    "* socket()\n",
    "* .bind()\n",
    "* .listen()\n",
    "* .accept()\n",
    "* .connect()\n",
    "* .connect_ex()\n",
    "* .send()\n",
    "* .recv()\n",
    "* .close()\n"
   ],
   "metadata": {
    "collapsed": false
   }
  },
  {
   "cell_type": "markdown",
   "source": [
    ">> Python biedt een handige consistente API die rechtstreeks wordt toegewezen aan systeemoproepen, hun C-tegenhangers (C programming language counterparts). In het volgende gedeelte leert u HOE DEZE SAMEN WORDEN GEBRUIKT."
   ],
   "metadata": {
    "collapsed": false
   }
  },
  {
   "cell_type": "markdown",
   "source": [
    "## TCP Sockets aanmaken\n",
    "\n",
    "U gaat een socketobject maken. Wanneer u dat doet, is het standaardprotocol dat wordt gebruikt **TCP (Transmission Control Protocol)**. Dit is een professionele-niveau standaard die worden gebruikt bij bedrijven van elk kwaliteit.\n",
    "\n",
    "- Waarom zou u TCP gebruiken?\n",
    "-- Betrouwbaarheid: Pakketten die in het netwerk vallen worden gedetecteerd en opnieuw verzonden door de afzender.\n",
    "- Datalevering: Gegevens worden door uw toepassing gelezen in de volgorde waarin deze door de afzender zijn geschreven.\n",
    "\n",
    "**UPD (User Diagram Protocol)** zijn daarentegen niet echt betrouwbaar en gegevens die door de ontvanger worden gelezen, kunnen niet in orde zijn met de schrijfbewerkingen van de afzender.\n",
    "\n",
    "Maar,\n",
    "\n",
    "WAAROM is dit BELANGRIJK?\n",
    "\n",
    "Netwerken zijn een best-effort delivery systeem. Er is GEEN garantie dat uw gegevens hun bestemming (destination) bereiken of dat u ontvangt wat naar u is verzonden.\n",
    "\n"
   ],
   "metadata": {
    "collapsed": false
   }
  },
  {
   "cell_type": "markdown",
   "source": [
    "## Pakketverlies\n",
    "\n",
    "Netwerkapparaten, zoals routers en switches, hebben en eindige bandbreedte beschikbaar en hebben hun eigen inherente systeembeperkingen. Ze hebben CPU's, geheugen (RAM), bussen, en interfacepakketbuffers, net als uw client en servers. TCP voorkomt dat u zich zorgen hoeft te maken over *pakketverlies*, out-of-order gegevensinvoer, en andere valkuilen die altijd optreden wanneer u via een netwerk communiceert.\n"
   ],
   "metadata": {
    "collapsed": false
   }
  },
  {
   "cell_type": "markdown",
   "source": [
    "## Client en Server\n",
    "\n",
    "Hier is de server:"
   ],
   "metadata": {
    "collapsed": false
   }
  },
  {
   "cell_type": "code",
   "execution_count": null,
   "outputs": [],
   "source": [
    "# echo-server.py\n",
    "\n",
    "import socket\n",
    "\n",
    "HOST = \"127.0.0.1\" # Standaard loopback interface adres (localhost).\n",
    "PORT = 65432 # Portnummer (integer) om te luisteren (ports zonder privilege zijn groter dan 1023)\n",
    "\n",
    "# srv = socket.socket(socket.AF_INET, socket.SOCK_STREAM)\n",
    "\n",
    "with socket.socket(socket.AF_INET, socket.SOCK_STREAM) as srv:\n",
    "\n",
    "    srv.bind((HOST, PORT))\n",
    "    srv.listen()\n",
    "\n",
    "    conn, addr = srv.accept()\n",
    "\n",
    "    with conn:\n",
    "        print(f\"Connected by {addr}\")\n",
    "        while True:\n",
    "            data = conn.recv(1024)\n",
    "            if not data:\n",
    "                break\n",
    "            conn.sendall(data)\n"
   ],
   "metadata": {
    "collapsed": false,
    "pycharm": {
     "name": "#%%\n",
     "is_executing": true
    }
   }
  },
  {
   "cell_type": "markdown",
   "source": [
    "Client gaat request sturen en responses ontvangen:"
   ],
   "metadata": {
    "collapsed": false,
    "pycharm": {
     "name": "#%% md\n"
    }
   }
  },
  {
   "cell_type": "code",
   "execution_count": null,
   "outputs": [],
   "source": [
    "# echo-client.py\n",
    "\n",
    "import socket\n",
    "\n",
    "HOST = \"127.0.0.1\" # Standaard loopback interface adres (localhost).\n",
    "PORT = 65432 # Portnummer (integer) om te luisteren (ports zonder privilege zijn groter dan 1023)\n",
    "\n",
    "with socket.socket(socket.AF_INET, socket.SOCK_STREAM) as clt:\n",
    "    clt.connect((HOST,PORT))\n",
    "    clt.sendall(b\"Hello, world\")\n",
    "    data = clt.recv(1024)\n",
    "\n",
    "print(f\"Received {data!r}\")"
   ],
   "metadata": {
    "collapsed": false,
    "pycharm": {
     "name": "#%%\n",
     "is_executing": true
    }
   }
  }
 ],
 "metadata": {
  "kernelspec": {
   "display_name": "Python 3",
   "language": "python",
   "name": "python3"
  },
  "language_info": {
   "codemirror_mode": {
    "name": "ipython",
    "version": 2
   },
   "file_extension": ".py",
   "mimetype": "text/x-python",
   "name": "python",
   "nbconvert_exporter": "python",
   "pygments_lexer": "ipython2",
   "version": "2.7.6"
  }
 },
 "nbformat": 4,
 "nbformat_minor": 0
}