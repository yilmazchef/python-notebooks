{
 "cells": [
  {
   "cell_type": "markdown",
   "metadata": {},
   "source": [
    "<center>\n",
    "    <img src='https://www.intecbrussel.be/img/logo3.png' width='400px' height='auto'/>\n",
    "    <br/>\n",
    "    <em>Python les-materialen</em><br/>\n",
    "    <em> Yilmaz Mustafa, Instructeur Java/Python</em>\n",
    "</center>\n"
   ]
  },
  {
   "cell_type": "markdown",
   "metadata": {},
   "source": [
    "# Vergelijkingsoperatoren\n",
    "\n",
    "In deze lezing zullen we leren over de vergelijkingsoperatoren (Comparison Operators) in Python. Met deze operatoren kunnen we variabelen vergelijken en een Booleaanse waarde (True of False) uitvoeren.\n",
    "\n",
    "Als je enige achtergrond in wiskunde hebt, zouden deze operators heel eenvoudig moeten zijn.\n",
    "\n",
    "We zullen eerst een tabel met vergelijkingsoperatoren presenteren en daarna enkele voorbeelden doornemen:\n",
    "\n",
    "<h2> Tabel met vergelijkingsoperatoren </h2><p> In de onderstaande tabel, a=3 en b=4.</p>\n",
    "\n",
    "<table class=\"table table-bordered\">\n",
    "<tr>\n",
    "<th style=\"width:10%\">Operator</th><th style=\"width:45%\">Beschrijving</th><th>Voorbeeld</th>\n",
    "</tr>\n",
    "<tr>\n",
    "<td>==</td>\n",
    "<td>Als de waarden van twee operanden gelijk zijn, wordt de voorwaarde waar.</td>\n",
    "<td> (a == b) is niet waar.</td>\n",
    "</tr>\n",
    "<tr>\n",
    "<td>!=</td>\n",
    "<td>Als de waarden van twee operanden niet gelijk zijn, wordt de voorwaarde waar.</td>\n",
    "<td>(a != b) is waar</td>\n",
    "</tr>\n",
    "<tr>\n",
    "<td>&gt;</td>\n",
    "<td>Als de waarde van de linker operand groter is dan de waarde van de rechter operand, wordt de voorwaarde waar.</td>\n",
    "<td> (a &gt; b) is niet waar.</td>\n",
    "</tr>\n",
    "<tr>\n",
    "<td>&lt;</td>\n",
    "<td>Als de waarde van de linker operand kleiner is dan de waarde van de rechter operand, wordt de voorwaarde waar.</td>\n",
    "<td> (a &lt; b) is waar.</td>\n",
    "</tr>\n",
    "<tr>\n",
    "<td>&gt;=</td>\n",
    "<td>Als de waarde van de linker operand groter is dan of gelijk is aan de waarde van de rechter operand, wordt de voorwaarde waar.</td>\n",
    "<td> (a &gt;= b) is niet waar. </td>\n",
    "</tr>\n",
    "<tr>\n",
    "<td>&lt;=</td>\n",
    "<td>Als de waarde van de linker operand kleiner is dan of gelijk is aan de waarde van de rechter operand, wordt de voorwaarde waar.</td>\n",
    "<td> (a &lt;= b) is waar. </td>\n",
    "</tr>\n",
    "</table>\n"
   ]
  },
  {
   "cell_type": "markdown",
   "metadata": {},
   "source": [
    "Laten we nu snelle voorbeelden van elk van deze doornemen.\n",
    "\n",
    "#### Gelijk\n"
   ]
  },
  {
   "cell_type": "code",
   "execution_count": 1,
   "metadata": {},
   "outputs": [
    {
     "data": {
      "text/plain": [
       "True"
      ]
     },
     "execution_count": 1,
     "metadata": {},
     "output_type": "execute_result"
    }
   ],
   "source": [
    "2 == 2\n",
    "\n",
    "a = 10\n",
    "b = 10\n",
    "\n",
    "a == b\n",
    "\n",
    "first_name = \"John\"\n",
    "last_name = \"Doe\"\n",
    "\n",
    "print(first_name == \"John\" and last_name == \"Doe\")\n",
    "\n",
    "print(first_name == \"John\" or last_name == \"Koe\")\n",
    "\n",
    "gender = 'M'\n",
    "age = 18\n",
    "\n",
    "print(gender == 'M' and age >= 18)\n",
    "\n",
    "print(gender == 'M' or age > 55)\n",
    "\n",
    "print(gender == 'M' and age > 55)\n",
    "\n",
    "volvo_xc90 = 55000\n",
    "\n",
    "budget = 30000\n",
    "country = \"BE\"\n",
    "\n",
    "can_you_buy_this_car = budget >= volvo_xc90 and country == \"BE\"\n",
    "\n",
    "can_you_buy_this_card = budget < 20000 or country == \"BE\"\n",
    "\n",
    "rich = True\n",
    "charisma = False\n",
    "\n",
    "marry_victoria_secret_model = rich or charisma\n",
    "\n",
    "marry_victoria_secret_model = rich and charisma\n",
    "\n",
    "marry_victoria_secret_model = not rich and not charisma\n"
   ]
  },
  {
   "cell_type": "code",
   "execution_count": 8,
   "metadata": {},
   "outputs": [
    {
     "name": "stdout",
     "output_type": "stream",
     "text": [
      "False\n",
      "True\n",
      "False\n"
     ]
    }
   ],
   "source": [
    "print(not (1 == 1))\n",
    "\n",
    "print(not (1 == 2))\n",
    "\n",
    "bad_words = [\"stupid\", \"no IQ\", \"no HQ\"]\n",
    "\n",
    "print(\"stupid\" not in bad_words)\n",
    "\n",
    "# \"keyword\" not in list\n",
    "# paragraph\n"
   ]
  },
  {
   "cell_type": "code",
   "execution_count": 17,
   "metadata": {},
   "outputs": [
    {
     "name": "stdout",
     "output_type": "stream",
     "text": [
      "['I', 'want', 'to', 'meet', 'with', 'her', 'but', 'she', 'seems', 'so', 'genius!.']\n",
      "True\n",
      "True\n"
     ]
    }
   ],
   "source": [
    "\n",
    "p = \"I want to meet with her but she seems so genius!.\"\n",
    "\n",
    "# convert this p to a list/set/tuple of words\n",
    "\n",
    "plist = p.split()\n",
    "\n",
    "print(plist)\n",
    "\n",
    "print(\"stupid\" not in plist)\n"
   ]
  },
  {
   "cell_type": "code",
   "execution_count": 20,
   "metadata": {},
   "outputs": [
    {
     "name": "stdout",
     "output_type": "stream",
     "text": [
      "True\n",
      "True\n",
      "True\n",
      "False\n"
     ]
    }
   ],
   "source": [
    "\n",
    "print(5 in [1, 2, 3, 4, 5])\n",
    "\n",
    "print(\"hello\" in [\"john\", \"hello\", \"whats up?\"])\n",
    "\n",
    "print(\"hello\" in \"hello world\")\n",
    "\n",
    "print(\"john\" in \"hey mary how do you do?\")\n"
   ]
  },
  {
   "cell_type": "code",
   "execution_count": 25,
   "metadata": {},
   "outputs": [
    {
     "name": "stdout",
     "output_type": "stream",
     "text": [
      "True\n"
     ]
    }
   ],
   "source": [
    "\n",
    "ip_address = \"192.168.1.23\"\n",
    "\n",
    "ip_address_list = [\n",
    "    \"192.168.1.1\",\n",
    "    \"192.168.1.23\",\n",
    "    \"192.168.1.3\",\n",
    "    \"192.168.1.4\",\n",
    "    \"192.168.1.5\",\n",
    "    \"192.168.1.99\"\n",
    "]\n",
    "\n",
    "print(ip_address in ip_address_list)\n"
   ]
  },
  {
   "cell_type": "code",
   "execution_count": 35,
   "metadata": {},
   "outputs": [
    {
     "name": "stdout",
     "output_type": "stream",
     "text": [
      "x is kleiner dan y\n",
      "2de lijn voor else statement\n",
      "3rde lijn voor else statement\n"
     ]
    }
   ],
   "source": [
    "x = 10\n",
    "y = 20\n",
    "\n",
    "# if -> sleutelewoord (keyword) is TRUE\n",
    "#       dan voer de volgende code uit\n",
    "# elif -> else if (sleutelewoord) is TRUE\n",
    "#       dan voer de volgende code uit\n",
    "# else -> anders (sleutelewoord) is TRUE\n",
    "#       dan voer de volgende code uit\n",
    "\n",
    "if(False):\n",
    "    print(\"x is groter dan y\")\n",
    "    print(\"2de lijn voor if statement\")\n",
    "    print(\"3de lijn voor if statement\")\n",
    "else:\n",
    "    print(\"x is kleiner dan y\")\n",
    "    print(\"2de lijn voor else statement\")\n",
    "    print(\"3rde lijn voor else statement\")\n"
   ]
  },
  {
   "cell_type": "code",
   "execution_count": 41,
   "metadata": {},
   "outputs": [
    {
     "name": "stdout",
     "output_type": "stream",
     "text": [
      "You poor! What are you doing here?\n"
     ]
    }
   ],
   "source": [
    "age = 20\n",
    "cash = 30\n",
    "\n",
    "if( age >= 18 and cash >= 1000 ):\n",
    "    print(\"welcome to the casino\")\n",
    "    cash = -1000\n",
    "    print(\"Go home boi!\")\n",
    "elif ( age < 18 ):\n",
    "    print(\"Come on boi, go home!\")\n",
    "elif ( cash < 1000 ):\n",
    "    print(\"You poor! What are you doing here?\")\n",
    "    \n",
    "# else:\n",
    "    # print(\"Dono why but boss doesn't want you here!\")"
   ]
  },
  {
   "cell_type": "code",
   "execution_count": 44,
   "metadata": {},
   "outputs": [
    {
     "name": "stdout",
     "output_type": "stream",
     "text": [
      "Go outside!\n"
     ]
    }
   ],
   "source": [
    "weather = \"sunny\"\n",
    "choice = \"football\"\n",
    "\n",
    "if(weather == \"sunny\"):\n",
    "    print(\"Go outside!\")\n",
    "    if(choice == \"Barbecue\"):\n",
    "        print(\"Stay at the backyard!\")\n",
    "else:\n",
    "    print(\"Stay at home!\")"
   ]
  },
  {
   "cell_type": "code",
   "execution_count": null,
   "metadata": {},
   "outputs": [],
   "source": [
    "# if (condition):\n",
    "#    instruction 1\n",
    "#    instruction 2\n",
    "#    instruction 3\n",
    "# else:\n",
    "#    instruction 1\n",
    "#    instruction 2\n"
   ]
  },
  {
   "cell_type": "code",
   "execution_count": 47,
   "metadata": {},
   "outputs": [
    {
     "name": "stdout",
     "output_type": "stream",
     "text": [
      "you are not allowed to vote\n",
      "this should always be printed\n"
     ]
    }
   ],
   "source": [
    "# read the input from the user\n",
    "# ask the user for his/her year of birth\n",
    "\n",
    "yob = input(\"What is your year of birth? \")\n",
    "# yob = \"1986\" (string)\n",
    "yob = int(yob)\n",
    "# yob = 1986 (integer)\n",
    "\n",
    "age = 2022 - yob\n",
    "\n",
    "# if the user is older than 18\n",
    "#   print \"you are allowed to vote\"\n",
    "if (age >= 18):\n",
    "    print(\"you are allowed to vote\")\n",
    "# if the user is younger than 18\n",
    "#   print \"you are not allowed to vote\"\n",
    "else:\n",
    "    print(\"you are not allowed to vote\")\n",
    "    \n",
    "print(\"this should always be printed\")\n",
    "\n"
   ]
  },
  {
   "cell_type": "code",
   "execution_count": 2,
   "metadata": {},
   "outputs": [
    {
     "data": {
      "text/plain": [
       "False"
      ]
     },
     "execution_count": 2,
     "metadata": {},
     "output_type": "execute_result"
    }
   ],
   "source": [
    "1 == 0\n"
   ]
  },
  {
   "cell_type": "markdown",
   "metadata": {},
   "source": [
    "Merk op dat <code>==</code> (dubbele gelijk symbolen) een <em>vergelijkings</em>-operator is, terwijl <code>=</code> (enkel gelijk symbol) een <em>toewijzings</em>-operator is.\n"
   ]
  },
  {
   "cell_type": "markdown",
   "metadata": {},
   "source": [
    "#### Niet gelijk\n"
   ]
  },
  {
   "cell_type": "code",
   "execution_count": 3,
   "metadata": {},
   "outputs": [
    {
     "data": {
      "text/plain": [
       "True"
      ]
     },
     "execution_count": 3,
     "metadata": {},
     "output_type": "execute_result"
    }
   ],
   "source": [
    "2 != 1\n"
   ]
  },
  {
   "cell_type": "code",
   "execution_count": 4,
   "metadata": {},
   "outputs": [
    {
     "data": {
      "text/plain": [
       "False"
      ]
     },
     "execution_count": 4,
     "metadata": {},
     "output_type": "execute_result"
    }
   ],
   "source": [
    "2 != 2\n"
   ]
  },
  {
   "cell_type": "markdown",
   "metadata": {},
   "source": [
    "#### Groter dan\n"
   ]
  },
  {
   "cell_type": "code",
   "execution_count": 5,
   "metadata": {},
   "outputs": [
    {
     "data": {
      "text/plain": [
       "True"
      ]
     },
     "execution_count": 5,
     "metadata": {},
     "output_type": "execute_result"
    }
   ],
   "source": [
    "2 > 1\n"
   ]
  },
  {
   "cell_type": "code",
   "execution_count": 6,
   "metadata": {},
   "outputs": [
    {
     "data": {
      "text/plain": [
       "False"
      ]
     },
     "execution_count": 6,
     "metadata": {},
     "output_type": "execute_result"
    }
   ],
   "source": [
    "2 > 4\n"
   ]
  },
  {
   "cell_type": "markdown",
   "metadata": {},
   "source": [
    "#### Kleiner dan\n"
   ]
  },
  {
   "cell_type": "code",
   "execution_count": 7,
   "metadata": {},
   "outputs": [
    {
     "data": {
      "text/plain": [
       "True"
      ]
     },
     "execution_count": 7,
     "metadata": {},
     "output_type": "execute_result"
    }
   ],
   "source": [
    "2 < 4\n"
   ]
  },
  {
   "cell_type": "code",
   "execution_count": 8,
   "metadata": {},
   "outputs": [
    {
     "data": {
      "text/plain": [
       "False"
      ]
     },
     "execution_count": 8,
     "metadata": {},
     "output_type": "execute_result"
    }
   ],
   "source": [
    "2 < 1\n"
   ]
  },
  {
   "cell_type": "markdown",
   "metadata": {},
   "source": [
    "#### Groter dan of gelijk aan\n"
   ]
  },
  {
   "cell_type": "code",
   "execution_count": 9,
   "metadata": {},
   "outputs": [
    {
     "data": {
      "text/plain": [
       "True"
      ]
     },
     "execution_count": 9,
     "metadata": {},
     "output_type": "execute_result"
    }
   ],
   "source": [
    "2 >= 2\n"
   ]
  },
  {
   "cell_type": "code",
   "execution_count": 10,
   "metadata": {},
   "outputs": [
    {
     "data": {
      "text/plain": [
       "True"
      ]
     },
     "execution_count": 10,
     "metadata": {},
     "output_type": "execute_result"
    }
   ],
   "source": [
    "2 >= 1\n"
   ]
  },
  {
   "cell_type": "markdown",
   "metadata": {},
   "source": [
    "#### Kleiner dan of gelijk aan\n"
   ]
  },
  {
   "cell_type": "code",
   "execution_count": 11,
   "metadata": {},
   "outputs": [
    {
     "data": {
      "text/plain": [
       "True"
      ]
     },
     "execution_count": 11,
     "metadata": {},
     "output_type": "execute_result"
    }
   ],
   "source": [
    "2 <= 2\n"
   ]
  },
  {
   "cell_type": "code",
   "execution_count": 12,
   "metadata": {},
   "outputs": [
    {
     "data": {
      "text/plain": [
       "True"
      ]
     },
     "execution_count": 12,
     "metadata": {},
     "output_type": "execute_result"
    }
   ],
   "source": [
    "2 <= 4\n"
   ]
  },
  {
   "cell_type": "code",
   "execution_count": null,
   "metadata": {},
   "outputs": [],
   "source": [
    "if(1 == 1):\n",
    "    print(\"this line is printed because 1 == 1 is True\")\n",
    "\n",
    "print(\"this line is always printed\")\n",
    "\n",
    "if(1 == 0):\n",
    "    print(\"this line is always printed\")\n",
    "    \n",
    "print(\"this line is always printed\")"
   ]
  },
  {
   "cell_type": "markdown",
   "metadata": {},
   "source": [
    "**Geweldig! Overloop elke vergelijkingsoperator om er zeker van te zijn dat u begrijpt wat elke operator zegt. Maar hopelijk was dit duidelijk voor u.**\n",
    "\n",
    "Vervolgens behandelen we geketende (chained) vergelijkingsoperatoren\n"
   ]
  }
 ],
 "metadata": {
  "kernelspec": {
   "display_name": "Python 3.10.8 ('lesgeven')",
   "language": "python",
   "name": "python3"
  },
  "language_info": {
   "codemirror_mode": {
    "name": "ipython",
    "version": 3
   },
   "file_extension": ".py",
   "mimetype": "text/x-python",
   "name": "python",
   "nbconvert_exporter": "python",
   "pygments_lexer": "ipython3",
   "version": "3.10.8"
  },
  "vscode": {
   "interpreter": {
    "hash": "9a3f8754118d89546ba66fd3e8c423f2768f1186c6b5f42757b60aabc450c67b"
   }
  }
 },
 "nbformat": 4,
 "nbformat_minor": 1
}
