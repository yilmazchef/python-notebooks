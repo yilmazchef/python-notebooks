{
 "cells": [
  {
   "cell_type": "markdown",
   "metadata": {
    "collapsed": true,
    "pycharm": {
     "name": "#%% md\n"
    }
   },
   "source": [
    "<center>\n",
    "    <img src='https://intecbrussel.be/img/logo3.png' width='400px' height='auto'/>\n",
    "    <br/>\n",
    "    <em>Python les-materialen</em>\n",
    "</center>"
   ]
  },
  {
   "cell_type": "markdown",
   "source": [
    "# Generating QR Codes\n",
    "\n",
    "A [**Quick Response Code**](https://en.wikipedia.org/wiki/QR_code) or a **QR Code** is a two-dimensional bar code used for its fast readability and comparatively large storage capacity. It consists of black squares arranged in a square grid on a white background.\n",
    "\n",
    "Python has a library “[**qrcode**](https://pypi.org/project/qrcode/)” for generating QR code images. It can be installed using pip.\n",
    "\n",
    "```\n",
    "pip install qrcode\n",
    "```\n",
    "\n",
    "## Approach\n",
    "\n",
    "-   Import module\n",
    "-   Create Qrcode with **qrcode.make()**and it returns a PilImage object.\n",
    "-   Save into image\n",
    "\n",
    "## Syntax\n",
    "\n",
    "```python\n",
    "qrcode.make('Data to be encoded')\n",
    "```\n",
    "\n",
    "\n",
    "## Example 1:"
   ],
   "metadata": {
    "collapsed": false,
    "pycharm": {
     "name": "#%% md\n"
    }
   }
  },
  {
   "cell_type": "code",
   "source": [
    "# Importing library\n",
    "import qrcode\n",
    "\n",
    "# Data to be encoded\n",
    "data = 'QR Code using make() function'\n",
    "\n",
    "# Encoding data using make() function\n",
    "img = qrcode.make(data)\n",
    "\n",
    "# Saving as an image file\n",
    "img.save('MyQRCode1.png')"
   ],
   "metadata": {
    "collapsed": false,
    "pycharm": {
     "name": "#%%\n"
    }
   },
   "execution_count": null,
   "outputs": []
  },
  {
   "cell_type": "markdown",
   "source": [
    "\n",
    "## Example 2:\n",
    "\n",
    "We can also use **QRCode** class to create a QR Code and change its details. It takes the following parameters:\n",
    "\n",
    "-   **Version:** This parameter is an integer from 1 to 40 that controls the size of the QR Code (the smallest, version 1, is a 21×21 matrix).\n",
    "-   **error\\_correction:** This parameter controls the error correction used for the QR Code. There are following four constants available for this :\n",
    "    -   _**qrcode.constants.ERROR\\_CORRECT\\_L**_ **:** About 7% or fewer errors can be corrected.\n",
    "    -   _**qrcode.constants.ERROR\\_CORRECT\\_M**_ (default) **:** About 15% or fewer errors can be corrected.\n",
    "    -   _**qrcode.constants.ERROR\\_CORRECT\\_Q**_**:** About 25% or fewer errors can be corrected.\n",
    "    -   _**qrcode.constants.ERROR\\_CORRECT\\_H**_**:** About 30% or fewer errors can be corrected.\n",
    "-   **box\\_size:** This parameter controls how many pixels each “box” of the QR code is.\n",
    "-   **border:** The border parameter controls how many boxes thick the border should be (the default is 4, which is the minimum in the specification).\n",
    "-   **add\\_data():** This method is used to add data to the QRCode object. It takes the data to be encoded as a parameter.\n",
    "-   **make():** This method with **(fit=True)** ensures that the entire dimension of the QR Code is utilized, even if our input data could fit into less number of boxes.\n",
    "-   **make\\_image():** This method is used to convert the QRCode object into an image file. It takes the _**fill\\_color**_ and _**back\\_color**_ optional parameters to set the foreground and background color.\n",
    "\n",
    "Below is the implementation:\n"
   ],
   "metadata": {
    "collapsed": false
   }
  },
  {
   "cell_type": "code",
   "source": [
    "# Importing library\n",
    "import qrcode\n",
    "\n",
    "# Data to encode\n",
    "data = \"https://www.intecbrussel.be\"\n",
    "\n",
    "# Creating an instance of QRCode class\n",
    "qr = qrcode.QRCode(version = 1,\n",
    "                   box_size = 10,\n",
    "                   border = 5)\n",
    "\n",
    "# Adding data to the instance 'qr'\n",
    "qr.add_data(data)\n",
    "\n",
    "qr.make(fit = True)\n",
    "img = qr.make_image(fill_color = 'red',\n",
    "                    back_color = 'white')\n",
    "\n",
    "img.save('MyQRCode2.png')"
   ],
   "metadata": {
    "collapsed": false,
    "pycharm": {
     "name": "#%%\n"
    }
   },
   "execution_count": null,
   "outputs": []
  }
 ],
 "metadata": {
  "kernelspec": {
   "display_name": "Python 3",
   "language": "python",
   "name": "python3"
  },
  "language_info": {
   "codemirror_mode": {
    "name": "ipython",
    "version": 2
   },
   "file_extension": ".py",
   "mimetype": "text/x-python",
   "name": "python",
   "nbconvert_exporter": "python",
   "pygments_lexer": "ipython2",
   "version": "2.7.6"
  }
 },
 "nbformat": 4,
 "nbformat_minor": 0
}