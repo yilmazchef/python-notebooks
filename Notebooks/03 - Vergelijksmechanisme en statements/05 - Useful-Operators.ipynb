{
 "cells": [
  {
   "cell_type": "markdown",
   "metadata": {},
   "source": [
    "<center>\n",
    "    <img src='https://intecbrussel.be/img/logo3.png' width='400px' height='auto'/>\n",
    "    <br/>\n",
    "    <em>Python les-materialen</em>\n",
    "</center>"
   ]
  },
  {
   "cell_type": "markdown",
   "metadata": {},
   "source": [
    "# Nuttige operators\n",
    "\n",
    "Er zijn een paar ingebouwde functies en \"operators\" in Python die niet goed in een categorie passen, dus we zullen ze in deze lezing bespreken, laten we beginnen!"
   ]
  },
  {
   "cell_type": "markdown",
   "metadata": {},
   "source": [
    "## range (bereik)\n",
    "\n",
    "Met de bereikfunctie kun je snel *genereren* een lijst met gehele getallen, dit is erg handig, dus let goed op hoe je het gebruikt! \n",
    "Er zijn 3 parameters die u kunt doorgeven, een start, een stop en een stapgrootte. Laten we enkele voorbeelden bekijken:"
   ]
  },
  {
   "cell_type": "code",
   "execution_count": null,
   "metadata": {},
   "outputs": [],
   "source": [
    "# range(0,11)\n",
    "\n",
    "for num in range(0, 10): # 2de argument is exclusief\n",
    "    print(num)"
   ]
  },
  {
   "cell_type": "markdown",
   "metadata": {},
   "source": [
    "Merk op dat dit een **generator**-functie is, dus om er een lijst uit te halen, moeten we deze naar een lijst casten met **list()**. Wat is een generator? \n",
    "Het is een speciaal type functie dat informatie genereert en niet in het geheugen hoeft op te slaan. We hebben het nog niet gehad over functies of generatoren, dus houd dit voorlopig in je notities."
   ]
  },
  {
   "cell_type": "code",
   "execution_count": null,
   "metadata": {},
   "outputs": [],
   "source": [
    "# Notice how 11 is not included, up to but not including 11, just like slice notation!\n",
    "# list(range(0,11))\n",
    "\n",
    "for num in range(0, 1000, 100): # 3rde argument is de stapgrootte\n",
    "    print(num)\n",
    "    \n"
   ]
  },
  {
   "cell_type": "code",
   "execution_count": null,
   "metadata": {},
   "outputs": [],
   "source": [
    "for num in range(10, 0, -1): # stapgrootte kan ook negatief zijn\n",
    "    print(num)"
   ]
  },
  {
   "cell_type": "code",
   "execution_count": null,
   "metadata": {},
   "outputs": [],
   "source": [
    "list(range(0,12))"
   ]
  },
  {
   "cell_type": "code",
   "execution_count": null,
   "metadata": {},
   "outputs": [],
   "source": [
    "# Derde parameter is stapgrootte!\n",
    "# stapgrootte betekent gewoon hoe groot je sprong/leap/stap je bent\n",
    "# neem van het start-getal om naar het volgende getal te gaan.\n",
    "\n",
    "list(range(0,11,2))"
   ]
  },
  {
   "cell_type": "code",
   "execution_count": null,
   "metadata": {},
   "outputs": [],
   "source": [
    "list(range(0,101,10))"
   ]
  },
  {
   "cell_type": "markdown",
   "metadata": {},
   "source": [
    "## opsommen (enumerate)\n",
    "\n",
    "Enumerate is een zeer nuttige functie om te gebruiken met for-lussen. Laten we ons de volgende situatie voorstellen:"
   ]
  },
  {
   "cell_type": "code",
   "execution_count": 4,
   "metadata": {},
   "outputs": [
    {
     "name": "stdout",
     "output_type": "stream",
     "text": [
      "H\n",
      "e\n",
      "l\n",
      "l\n",
      "o\n",
      " \n",
      "W\n",
      "o\n",
      "r\n",
      "l\n",
      "d\n",
      "!\n"
     ]
    }
   ],
   "source": [
    "message = \"Hello World!\"\n",
    "\n",
    "for c in message:\n",
    "    print(c)"
   ]
  },
  {
   "cell_type": "code",
   "execution_count": 6,
   "metadata": {},
   "outputs": [
    {
     "name": "stdout",
     "output_type": "stream",
     "text": [
      "12\n",
      "12\n"
     ]
    }
   ],
   "source": [
    "print(len(message))\n",
    "\n",
    "counter = 0\n",
    "for c in message:\n",
    "    counter = counter + 1\n",
    "    \n",
    "print(counter)"
   ]
  },
  {
   "cell_type": "code",
   "execution_count": null,
   "metadata": {},
   "outputs": [],
   "source": [
    "index_count = 0\n",
    "\n",
    "for letter in 'abcde':\n",
    "    print(\"At index {} the letter is {}\".format(index_count,letter))\n",
    "    index_count += 1"
   ]
  },
  {
   "cell_type": "code",
   "execution_count": 9,
   "metadata": {},
   "outputs": [
    {
     "name": "stdout",
     "output_type": "stream",
     "text": [
      "<class 'enumerate'>\n",
      "At index 0 the letter is H\n",
      "At index 1 the letter is e\n",
      "At index 2 the letter is l\n",
      "At index 3 the letter is l\n",
      "At index 4 the letter is o\n",
      "At index 5 the letter is  \n",
      "At index 6 the letter is W\n",
      "At index 7 the letter is o\n",
      "At index 8 the letter is r\n",
      "At index 9 the letter is l\n",
      "At index 10 the letter is d\n",
      "At index 11 the letter is !\n"
     ]
    }
   ],
   "source": [
    "message = \"Hello World!\"\n",
    "\n",
    "enumerated_message = enumerate(message)\n",
    "print(type(enumerated_message))\n",
    "# enumerated_message heeft een index en een value\n",
    "# [0, 'H']\n",
    "# [1, 'e']\n",
    "# [2, 'l']\n",
    "# [3, 'l']\n",
    "# [4, 'o']\n",
    "# [5, ' ']\n",
    "# [6, 'W']\n",
    "# [7, 'o']\n",
    "# [8, 'r']\n",
    "# [9, 'l']\n",
    "# [10, 'd']\n",
    "# [11, '!']\n",
    "\n",
    "for i, c in enumerate(message):\n",
    "    print(\"At index {} the letter is {}\".format(i, c))\n",
    "    "
   ]
  },
  {
   "cell_type": "code",
   "execution_count": 12,
   "metadata": {},
   "outputs": [
    {
     "name": "stdout",
     "output_type": "stream",
     "text": [
      "At index 0 the student is John\n",
      "At index 1 the student is Jane\n",
      "At index 2 the student is Jack\n",
      "At index 3 the student is Jill\n",
      "At index 4 the student is Joe\n",
      "########################################################\n",
      "At index 0 the student is John\n",
      "At index 1 the student is Jane\n",
      "At index 2 the student is Jack\n",
      "At index 3 the student is Joe\n"
     ]
    }
   ],
   "source": [
    "# bijvoorbeeld:\n",
    "# stel je hebt een lijst met namen en je wilt de namen\n",
    "\n",
    "students = [\"John\", \"Jane\", \"Jack\", \"Jill\", \"Joe\"]\n",
    "\n",
    "for index, student in enumerate(students):\n",
    "    print(\"At index {} the student is {}\".format(index, student))\n",
    "\n",
    "# verwijder een student uit de lijst met index 3\n",
    "\n",
    "students.pop(3)\n",
    "\n",
    "print(\"########################################################\")\n",
    "\n",
    "# druk de lijst af\n",
    "\n",
    "for index, student in enumerate(students):\n",
    "    print(\"At index {} the student is {}\".format(index, student))\n"
   ]
  },
  {
   "cell_type": "markdown",
   "metadata": {},
   "source": [
    "Het bijhouden (track) van hoeveel loops je hebt doorlopen is zo gewoon, dat enumerate is gemaakt, zodat je je geen zorgen hoeft te maken over het creëren en updaten van deze index_count of loop_count variabele."
   ]
  },
  {
   "cell_type": "code",
   "execution_count": null,
   "metadata": {},
   "outputs": [],
   "source": [
    "# Let op het uitpakken van de tuple!\n",
    "\n",
    "for i,letter in enumerate('abcde'):\n",
    "    print(\"At index {} the letter is {}\".format(i,letter))"
   ]
  },
  {
   "cell_type": "markdown",
   "metadata": {},
   "source": [
    "## zip\n",
    "\n",
    "Merk op dat het formaat enumerate daadwerkelijk terugkeert, laten we eens kijken door het te transformeren naar een list()"
   ]
  },
  {
   "cell_type": "code",
   "execution_count": 15,
   "metadata": {},
   "outputs": [
    {
     "name": "stdout",
     "output_type": "stream",
     "text": [
      "<class 'zip'>\n",
      "[('H', 'H', 'H'), ('e', 'e', 'e'), ('l', 'l', 'l'), ('l', 'l', 'l'), ('o', 'o', 'o'), (' ', ' ', ' '), ('W', 'J', 'M'), ('o', 'u', 'a'), ('r', 'p', 'r'), ('l', 'i', 's'), ('d', 't', '!')]\n"
     ]
    }
   ],
   "source": [
    "message1 = \"Hello World!\"\n",
    "message2 = \"Hello Jupiter!\"\n",
    "message3 = \"Hello Mars!\"\n",
    "\n",
    "all_messages = zip(message1, message2, message3)\n",
    "\n",
    "print(type(all_messages))\n",
    "\n",
    "print(list(all_messages))\n",
    "\n",
    "# [\n",
    "    # ('H', 'H', 'H'), \n",
    "    # ('e', 'e', 'e'), \n",
    "    # ('l', 'l', 'l'), \n",
    "    # ('l', 'l', 'l'), \n",
    "    # ('o', 'o', 'o'), \n",
    "    # (' ', ' ', ' '), \n",
    "    # ('W', 'J', 'M'), \n",
    "    # ('o', 'u', 'a'), \n",
    "    # ('r', 'p', 'r'), \n",
    "    # ('l', 'i', 's'), \n",
    "    # ('d', 't', '!')\n",
    "# ]"
   ]
  },
  {
   "cell_type": "code",
   "execution_count": 17,
   "metadata": {},
   "outputs": [
    {
     "name": "stdout",
     "output_type": "stream",
     "text": [
      "[(1, 6), (2, 7), (3, 8), (4, 9), (5, 10)]\n",
      "<class 'tuple'>\n"
     ]
    }
   ],
   "source": [
    "number_list_1 = [1, 2, 3, 4, 5]\n",
    "number_list_2 = [6, 7, 8, 9, 10]\n",
    "\n",
    "all_numbers = zip(number_list_1, number_list_2)\n",
    "all_numbers = list(all_numbers)\n",
    "\n",
    "print(all_numbers)\n",
    "\n",
    "print(type(all_numbers[0]))"
   ]
  },
  {
   "cell_type": "code",
   "execution_count": null,
   "metadata": {},
   "outputs": [],
   "source": [
    "list(enumerate('abcde'))"
   ]
  },
  {
   "cell_type": "markdown",
   "metadata": {},
   "source": [
    "Het was een lijst met tuples, wat betekent dat we tuple uitpakken konden gebruiken tijdens onze for-loop. Deze datastructuur is eigenlijk heel gewoon in Python , vooral als je met externe bibliotheken werkt. \n",
    "U kunt de functie **zip()** gebruiken om snel een lijst met tuples aan te maken door twee lijsten aan elkaar te \"zippen\"."
   ]
  },
  {
   "cell_type": "code",
   "execution_count": null,
   "metadata": {
    "collapsed": true
   },
   "outputs": [],
   "source": [
    "mylist1 = [1,2,3,4,5]\n",
    "mylist2 = ['a','b','c','d','e']"
   ]
  },
  {
   "cell_type": "code",
   "execution_count": null,
   "metadata": {},
   "outputs": [],
   "source": [
    "# Deze is ook een generator! We zullen dit later uitleggen, maar laten we het nu omzetten (transformeren) in een lijst\n",
    "zip(mylist1,mylist2)"
   ]
  },
  {
   "cell_type": "code",
   "execution_count": null,
   "metadata": {},
   "outputs": [],
   "source": [
    "list(zip(mylist1,mylist2))"
   ]
  },
  {
   "cell_type": "markdown",
   "metadata": {},
   "source": [
    "Om de generator te gebruiken, kunnen we gewoon een for-lus gebruiken"
   ]
  },
  {
   "cell_type": "code",
   "execution_count": null,
   "metadata": {},
   "outputs": [],
   "source": [
    "for item1, item2 in zip(mylist1,mylist2):\n",
    "    print('For this tuple, first item was {} and second item was {}'.format(item1,item2))"
   ]
  },
  {
   "cell_type": "code",
   "execution_count": 19,
   "metadata": {},
   "outputs": [
    {
     "name": "stdout",
     "output_type": "stream",
     "text": [
      "['hate', 'hell', 'stupid', 'idiot', 'dumb']\n"
     ]
    }
   ],
   "source": [
    "bad_words = [ \"hate\", \"hell\" ]\n",
    "offensive_words = [ \"stupid\", \"idiot\", \"dumb\" ]\n",
    "\n",
    "all_words = bad_words + offensive_words\n",
    "\n",
    "print(all_words)"
   ]
  },
  {
   "cell_type": "code",
   "execution_count": 20,
   "metadata": {},
   "outputs": [
    {
     "name": "stdout",
     "output_type": "stream",
     "text": [
      "[('January', 31, 0), ('February', 28, 0), ('March', 31, 1), ('April', 30, 1), ('May', 31, 1), ('June', 30, 1), ('July', 31, 1), ('August', 31, 1), ('September', 30, 1), ('October', 31, 1), ('November', 30, 0), ('December', 31, 0)]\n"
     ]
    }
   ],
   "source": [
    "months = [\"January\", \"February\", \"March\", \"April\", \"May\", \"June\", \"July\", \"August\", \"September\", \"October\", \"November\", \"December\"]\n",
    "days_per_month = [31, 28, 31, 30, 31, 30, 31, 31, 30, 31, 30, 31]\n",
    "no_of_vacations = [0, 0, 1, 1, 1, 1, 1, 1, 1, 1, 0, 0]\n",
    "\n",
    "salary_matrix = zip(months, days_per_month, no_of_vacations)\n",
    "salary_matrix = list(salary_matrix)\n",
    "\n",
    "print(salary_matrix)"
   ]
  },
  {
   "cell_type": "markdown",
   "metadata": {},
   "source": [
    "## in operator\n",
    "\n",
    "We hebben het trefwoord (keyword) **in** al gezien tijdens de for-lus, maar we kunnen het ook gebruiken om snel te controleren of een object in een lijst staat."
   ]
  },
  {
   "cell_type": "code",
   "execution_count": 21,
   "metadata": {},
   "outputs": [
    {
     "data": {
      "text/plain": [
       "True"
      ]
     },
     "execution_count": 21,
     "metadata": {},
     "output_type": "execute_result"
    }
   ],
   "source": [
    "\"h\" in \"hello\""
   ]
  },
  {
   "cell_type": "code",
   "execution_count": null,
   "metadata": {},
   "outputs": [],
   "source": [
    "'x' in ['x','y','z']"
   ]
  },
  {
   "cell_type": "code",
   "execution_count": null,
   "metadata": {},
   "outputs": [],
   "source": [
    "'x' in [1,2,3]"
   ]
  },
  {
   "cell_type": "code",
   "execution_count": 23,
   "metadata": {},
   "outputs": [
    {
     "data": {
      "text/plain": [
       "True"
      ]
     },
     "execution_count": 23,
     "metadata": {},
     "output_type": "execute_result"
    }
   ],
   "source": [
    "x = 10\n",
    "\n",
    "x in [10, 20, 30]"
   ]
  },
  {
   "cell_type": "markdown",
   "metadata": {},
   "source": [
    "## not in\n",
    "\n",
    "We kunnen **in** combineren met een **not** operator, om te controleren of een object of variabele niet in een lijst voorkomt/staat."
   ]
  },
  {
   "cell_type": "code",
   "execution_count": null,
   "metadata": {},
   "outputs": [],
   "source": [
    "'x' not in ['x','y','z']"
   ]
  },
  {
   "cell_type": "code",
   "execution_count": 22,
   "metadata": {},
   "outputs": [
    {
     "data": {
      "text/plain": [
       "False"
      ]
     },
     "execution_count": 22,
     "metadata": {},
     "output_type": "execute_result"
    }
   ],
   "source": [
    "\"h\" not in \"hello\""
   ]
  },
  {
   "cell_type": "code",
   "execution_count": null,
   "metadata": {},
   "outputs": [],
   "source": [
    "'x' not in [1,2,3]"
   ]
  },
  {
   "cell_type": "code",
   "execution_count": 24,
   "metadata": {},
   "outputs": [
    {
     "data": {
      "text/plain": [
       "False"
      ]
     },
     "execution_count": 24,
     "metadata": {},
     "output_type": "execute_result"
    }
   ],
   "source": [
    "x = 10\n",
    "\n",
    "x not in [10, 20, 30]"
   ]
  },
  {
   "cell_type": "markdown",
   "metadata": {},
   "source": [
    "## min and max\n",
    "\n",
    "Controleer snel het minimum of maximum van een lijst met deze functies."
   ]
  },
  {
   "cell_type": "code",
   "execution_count": 26,
   "metadata": {
    "collapsed": true
   },
   "outputs": [],
   "source": [
    "mylist = [10,20,30,40,100]"
   ]
  },
  {
   "cell_type": "code",
   "execution_count": 27,
   "metadata": {},
   "outputs": [
    {
     "data": {
      "text/plain": [
       "10"
      ]
     },
     "execution_count": 27,
     "metadata": {},
     "output_type": "execute_result"
    }
   ],
   "source": [
    "min(mylist)"
   ]
  },
  {
   "cell_type": "code",
   "execution_count": 28,
   "metadata": {},
   "outputs": [
    {
     "data": {
      "text/plain": [
       "100"
      ]
     },
     "execution_count": 28,
     "metadata": {},
     "output_type": "execute_result"
    }
   ],
   "source": [
    "max(mylist)"
   ]
  },
  {
   "cell_type": "code",
   "execution_count": 29,
   "metadata": {},
   "outputs": [
    {
     "data": {
      "text/plain": [
       "'H'"
      ]
     },
     "execution_count": 29,
     "metadata": {},
     "output_type": "execute_result"
    }
   ],
   "source": [
    "min(\"Hello\")"
   ]
  },
  {
   "cell_type": "code",
   "execution_count": 30,
   "metadata": {},
   "outputs": [
    {
     "data": {
      "text/plain": [
       "'o'"
      ]
     },
     "execution_count": 30,
     "metadata": {},
     "output_type": "execute_result"
    }
   ],
   "source": [
    "max(\"Hello\")"
   ]
  },
  {
   "cell_type": "code",
   "execution_count": 38,
   "metadata": {},
   "outputs": [
    {
     "name": "stdout",
     "output_type": "stream",
     "text": [
      "1.2 5.9\n"
     ]
    }
   ],
   "source": [
    "floating_numbers = [1.2, 5.9, 2.1, 4.3, 5.2, 5.9]\n",
    "\n",
    "print(\n",
    "    min(floating_numbers),\n",
    "    max(floating_numbers)\n",
    ")"
   ]
  },
  {
   "cell_type": "code",
   "execution_count": 39,
   "metadata": {},
   "outputs": [
    {
     "name": "stdout",
     "output_type": "stream",
     "text": [
      "1.2\n",
      "2.1\n",
      "4.3\n",
      "5.2\n",
      "5.9\n",
      "5.9\n"
     ]
    }
   ],
   "source": [
    "# sort the list met min en max\n",
    "\n",
    "# floating_numbers.sort()\n",
    "\n",
    "for i in range(0, len(floating_numbers)):\n",
    "    print(min(floating_numbers))\n",
    "    floating_numbers.remove(min(floating_numbers))\n"
   ]
  },
  {
   "cell_type": "markdown",
   "metadata": {},
   "source": [
    "## random (willekeurig)\n",
    "\n",
    "Python wordt geleverd met een ingebouwde willekeurige (random) bibliotheek. Er zijn veel functies in deze willekeurige bibliotheek, dus we zullen je voorlopig slechts twee handige functies laten zien."
   ]
  },
  {
   "cell_type": "code",
   "execution_count": null,
   "metadata": {
    "collapsed": true
   },
   "outputs": [],
   "source": [
    "from random import shuffle"
   ]
  },
  {
   "cell_type": "code",
   "execution_count": null,
   "metadata": {
    "collapsed": true
   },
   "outputs": [],
   "source": [
    "# Hierdoor wordt de lijst \"in-place\" geschud (shuffled), wat betekent dat er niets wordt geretourneerd, maar dat het de doorgegeven lijst beïnvloedt.\n",
    "shuffle(mylist)"
   ]
  },
  {
   "cell_type": "code",
   "execution_count": null,
   "metadata": {},
   "outputs": [],
   "source": [
    "mylist"
   ]
  },
  {
   "cell_type": "code",
   "execution_count": null,
   "metadata": {
    "collapsed": true
   },
   "outputs": [],
   "source": [
    "from random import randint"
   ]
  },
  {
   "cell_type": "code",
   "execution_count": null,
   "metadata": {},
   "outputs": [],
   "source": [
    "# Retourneer willekeurig geheel getal in bereik [a, b], inclusief beide eindpunten.\n",
    "randint(0,100)"
   ]
  },
  {
   "cell_type": "code",
   "execution_count": null,
   "metadata": {},
   "outputs": [],
   "source": [
    "# Retourneer willekeurig geheel getal in bereik [a, b], inclusief beide eindpunten.\n",
    "randint(0,100)"
   ]
  },
  {
   "cell_type": "markdown",
   "metadata": {},
   "source": [
    "## input (invoer)"
   ]
  },
  {
   "cell_type": "code",
   "execution_count": null,
   "metadata": {},
   "outputs": [],
   "source": [
    "input('Enter Something into this box: ')"
   ]
  },
  {
   "cell_type": "code",
   "execution_count": 40,
   "metadata": {},
   "outputs": [
    {
     "name": "stdout",
     "output_type": "stream",
     "text": [
      "99\n"
     ]
    }
   ],
   "source": [
    "chosen_number = int(input('Enter a number: '))\n",
    "\n",
    "print(chosen_number)"
   ]
  }
 ],
 "metadata": {
  "kernelspec": {
   "display_name": "lesgeven",
   "language": "python",
   "name": "python3"
  },
  "language_info": {
   "codemirror_mode": {
    "name": "ipython",
    "version": 3
   },
   "file_extension": ".py",
   "mimetype": "text/x-python",
   "name": "python",
   "nbconvert_exporter": "python",
   "pygments_lexer": "ipython3",
   "version": "3.10.8"
  },
  "vscode": {
   "interpreter": {
    "hash": "9a3f8754118d89546ba66fd3e8c423f2768f1186c6b5f42757b60aabc450c67b"
   }
  }
 },
 "nbformat": 4,
 "nbformat_minor": 2
}
