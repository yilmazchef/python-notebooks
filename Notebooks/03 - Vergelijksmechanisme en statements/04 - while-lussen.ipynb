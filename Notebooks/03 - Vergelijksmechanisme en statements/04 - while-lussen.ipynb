{
 "cells": [
  {
   "cell_type": "markdown",
   "metadata": {},
   "source": [
    "<center>\n",
    "    <img src='https://intecbrussel.be/img/logo3.png' width='400px' height='auto'/>\n",
    "    <br/>\n",
    "    <em>Python les-materialen</em>\n",
    "</center>"
   ]
  },
  {
   "cell_type": "markdown",
   "metadata": {
    "collapsed": true
   },
   "source": [
    "# while-lussen (loop)\n",
    "\n",
    "De <code>while</code>-instructie in Python is een van de meest algemene manieren om iteratie uit te voeren. Een <code>while</code>-instructie zal herhaaldelijk een enkele instructie of een groep instructies uitvoeren als de voorwaarde waar is. \n",
    "De reden dat het een 'lus (loop)' wordt genoemd, is omdat de code-instructies **herhaaldelijk** worden doorlopen totdat niet langer aan de voorwaarde wordt voldaan.\n",
    "\n",
    "Het algemene formaat van een while-lus is:\n",
    "\n",
    "    while test:\n",
    "        code statements\n",
    "    else:\n",
    "        final code statements\n",
    "\n",
    "Laten we eens kijken naar een paar eenvoudige <code>while</code>-lussen in actie."
   ]
  },
  {
   "cell_type": "code",
   "execution_count": null,
   "metadata": {},
   "outputs": [],
   "source": [
    "x = 0\n",
    "\n",
    "while x < 10: # voer de volgende code uit zolang de voorwaarde (conditie) True is\n",
    "    print(x)\n",
    "    x = x + 1\n"
   ]
  },
  {
   "cell_type": "code",
   "execution_count": null,
   "metadata": {},
   "outputs": [],
   "source": [
    "y = 11\n",
    "\n",
    "condition = (y > 10 and y < 20) # True\n",
    "# y = 100, condition = 100 > 10 and 100 < 20 = True and False = False\n",
    "# y = 0, condition = 0 > 10 and 0 < 20 = False and True = False\n",
    "# y = 11, condition = 11 > 10 and 11 < 20 = True and True = True\n",
    "# y = 20, condition = 20 > 10 and 20 < 20 = True and False = False\n",
    "\n",
    "while (y > 10 and y < 20):\n",
    "    print(y)\n",
    "    y = y + 1"
   ]
  },
  {
   "cell_type": "markdown",
   "metadata": {},
   "source": [
    "Merk op hoe vaak de print-statements voorkwamen (occurred) en hoe de <code>while</code>-lus doorging totdat aan de True-voorwaarde werd voldaan, wat eenmaal x==10 voorkwam. \n",
    "Het is belangrijk op te merken dat zodra dit gebeurde, de code stopte. Laten we eens kijken hoe we een <code>else</code>-statement kunnen toevoegen:"
   ]
  },
  {
   "cell_type": "code",
   "execution_count": null,
   "metadata": {},
   "outputs": [],
   "source": [
    "# lees de user pincode tot de gebruiker de juiste pincode heeft ingevoerd maar maximaal 3 keer\n",
    "\n",
    "correct_pincode = 1234\n",
    "\n",
    "while True:\n",
    "    user_pincode = int(input(\"Enter your pincode: \"))\n",
    "    are_they_equal = (user_pincode == correct_pincode) # True\n",
    "    \n",
    "    if are_they_equal:\n",
    "        print(\"You have entered the correct pincode!\")\n",
    "        break\n",
    "    else:\n",
    "        print(\"Try again:\")"
   ]
  },
  {
   "cell_type": "code",
   "execution_count": null,
   "metadata": {},
   "outputs": [],
   "source": [
    "x = 0\n",
    "\n",
    "while x < 10:\n",
    "    print('x is currently: ',x)\n",
    "    print(' x is still less than 10, adding 1 to x')\n",
    "    x+=1\n",
    "    \n",
    "else:\n",
    "    print('All Done!')"
   ]
  },
  {
   "cell_type": "markdown",
   "metadata": {},
   "source": [
    "# break, continue, pass\n",
    "\n",
    "We kunnen de instructies <code>break</code>, <code>continue</code> en <code>pass</code> gebruiken in onze loops om extra functionaliteit toe te voegen voor verschillende gevallen. \n",
    "De drie statements worden gedefinieerd door:\n",
    "\n",
    "    break: Breaks out of the current closest enclosing loop.\n",
    "    continue: Goes to the top of the closest enclosing loop.\n",
    "    pass: Does nothing at all.\n",
    "    \n",
    "    \n",
    "Denkend aan <code>break</code> en <code>continue</code> statements, ziet het algemene formaat van de <code>while</code>-lus er als volgt uit:\n",
    "\n",
    "    while test: \n",
    "        code statement\n",
    "        if test: \n",
    "            break\n",
    "        if test: \n",
    "            continue \n",
    "    else:\n",
    "\n",
    "<code>break</code> en <code>continue</code> statements kunnen overal in de body van de lus verschijnen, maar we zullen ze meestal verder genest plaatsen in combinatie met een <code>if</code> statement om een actie op basis van een voorwaarde.\n",
    "\n",
    "Laten we doorgaan en enkele voorbeelden bekijken!"
   ]
  },
  {
   "cell_type": "code",
   "execution_count": null,
   "metadata": {},
   "outputs": [],
   "source": [
    "x = 0\n",
    "\n",
    "while x < 10:\n",
    "    print('x is currently: ',x)\n",
    "    print(' x is still less than 10, adding 1 to x')\n",
    "    x+=1\n",
    "    if x==3:\n",
    "        print('x==3')\n",
    "    else:\n",
    "        print('continuing...')\n",
    "        continue"
   ]
  },
  {
   "cell_type": "markdown",
   "metadata": {},
   "source": [
    "Merk op hoe we een afgedrukte instructie hebben als x==3, en een wordt afgedrukt terwijl we verder gaan door de buitenste while-lus. Laten we een keer pauzeren x == 3 en kijken of het resultaat klopt:"
   ]
  },
  {
   "cell_type": "code",
   "execution_count": null,
   "metadata": {},
   "outputs": [],
   "source": [
    "x = 0\n",
    "\n",
    "while x < 10:\n",
    "    print('x is currently: ',x)\n",
    "    print(' x is still less than 10, adding 1 to x')\n",
    "    x+=1\n",
    "    if x==3:\n",
    "        print('Breaking because x==3')\n",
    "        break\n",
    "    else:\n",
    "        print('continuing...')\n",
    "        continue"
   ]
  },
  {
   "cell_type": "markdown",
   "metadata": {},
   "source": [
    "Merk op dat het andere <code>else</code> statement niet werd bereikt en dat doorgaan nooit werd afgedrukt!\n",
    "\n",
    "Na deze korte maar eenvoudige voorbeelden zou u zich op uw gemak moeten voelen bij het gebruik van <code>while</code>-statements in uw code.\n",
    "\n",
    "** Een woord van waarschuwing (caution) echter! Het is mogelijk om een oneindig (infiniet) lopende lus te maken met <code>while</code> statements. Bijvoorbeeld:**"
   ]
  },
  {
   "cell_type": "code",
   "execution_count": null,
   "metadata": {
    "collapsed": true
   },
   "outputs": [],
   "source": [
    "# VOER DEZE CODE NIET UIT!!!! DO NOT RUN THIS CODE!!!! \n",
    "while True:\n",
    "    print(\"I'm stuck in an infinite loop!\")"
   ]
  },
  {
   "cell_type": "markdown",
   "metadata": {
    "collapsed": true
   },
   "source": [
    "Een korte opmerking: als je *deed* de bovenstaande cel hebt uitgevoerd, klik dan op het Kernel-menu hierboven om de kernel opnieuw te starten!"
   ]
  },
  {
   "cell_type": "code",
   "execution_count": null,
   "metadata": {},
   "outputs": [],
   "source": [
    "while True:\n",
    "    print(\"You have been hacked!\")"
   ]
  },
  {
   "cell_type": "code",
   "execution_count": 22,
   "metadata": {},
   "outputs": [
    {
     "name": "stdout",
     "output_type": "stream",
     "text": [
      "11\n"
     ]
    }
   ],
   "source": [
    "x = 11\n",
    "\n",
    "condition = (x > 10) # 11 > 10 = True\n",
    "\n",
    "while (x > 10): # True # alleen 1 keer gevalueerd\n",
    "    print(x)\n",
    "    x = x - 1"
   ]
  },
  {
   "cell_type": "code",
   "execution_count": 26,
   "metadata": {},
   "outputs": [
    {
     "name": "stdout",
     "output_type": "stream",
     "text": [
      "Installing: [====================================================================================================]\n",
      "Installation stopped.\n"
     ]
    }
   ],
   "source": [
    "# lees alle characters van een string\n",
    "\n",
    "while True:\n",
    "    character = input(\"Would you like to continue installation? (y/n)\")\n",
    "    if character == \"y\" or character == \"Y\":\n",
    "        # print a progress bar\n",
    "        print( \"Installing: [\", end = \"\" )\n",
    "        # print 100 equal signs\n",
    "        for i in range(0, 100):\n",
    "            print(\"=\", end = \"\")\n",
    "        print(\"]\")\n",
    "    elif character == \"n\" or character == \"N\":\n",
    "        print(\"Installation stopped.\")\n",
    "        break\n",
    "    else:\n",
    "        print(\"Invalid input.\")\n",
    "        \n",
    "        \n",
    "# : is een slice operator\n",
    "# indentatie is belangrijk"
   ]
  }
 ],
 "metadata": {
  "kernelspec": {
   "display_name": "lesgeven",
   "language": "python",
   "name": "python3"
  },
  "language_info": {
   "codemirror_mode": {
    "name": "ipython",
    "version": 3
   },
   "file_extension": ".py",
   "mimetype": "text/x-python",
   "name": "python",
   "nbconvert_exporter": "python",
   "pygments_lexer": "ipython3",
   "version": "3.10.8"
  },
  "vscode": {
   "interpreter": {
    "hash": "9a3f8754118d89546ba66fd3e8c423f2768f1186c6b5f42757b60aabc450c67b"
   }
  }
 },
 "nbformat": 4,
 "nbformat_minor": 1
}
