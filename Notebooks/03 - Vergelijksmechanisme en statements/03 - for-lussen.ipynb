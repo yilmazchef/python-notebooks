{
 "cells": [
  {
   "cell_type": "markdown",
   "metadata": {},
   "source": [
    "<center>\n",
    "    <img src='https://intecbrussel.be/img/logo3.png' width='400px' height='auto'/>\n",
    "    <br/>\n",
    "    <em>Python les-materialen</em>\n",
    "</center>"
   ]
  },
  {
   "cell_type": "markdown",
   "metadata": {},
   "source": [
    "# for-lussen\n",
    "\n",
    "Een <code>for</code> lus fungeert als een iterator in Python; het gaat door items die zich in een *sequence* of een ander itereerbaar item bevinden. \n",
    "Objecten waarover we hebben geleerd en die we kunnen herhalen, zijn onder meer strings, lijsten, tuples en zelfs ingebouwde iterables voor woordenboeken, zoals sleutels of waarden.\n",
    "\n",
    "We hebben de <code>for</code>-verklaring al een beetje gezien in eerdere lezingen, maar laten we nu ons begrip formaliseren.\n",
    "\n",
    "Hier is het algemene formaat voor een <code>for</code>-lus in Python:\n",
    "\n",
    "    for item in object:\n",
    "        statements/instructies om uit te voeren\n",
    "    "
   ]
  },
  {
   "cell_type": "markdown",
   "metadata": {},
   "source": [
    "De variabelenaam die voor het item wordt gebruikt, is volledig aan de codeur, dus gebruik je gezond verstand om een naam te kiezen die logisch is en die je kunt begrijpen wanneer je je code opnieuw bekijkt. \n",
    "Naar deze item-naam kan vervolgens in uw lus worden verwezen, bijvoorbeeld als u <code>if</code>-instructies wilt gebruiken om controles uit te voeren.\n",
    "\n",
    "Laten we doorgaan en verschillende voorbeelden van <code>for</code>-lussen doornemen met behulp van verschillende typen gegevensobjecten. We beginnen eenvoudig en bouwen later meer complexiteit op.\n",
    "\n",
    "## Voorbeeld 1\n",
    "Een lijst itereren"
   ]
  },
  {
   "cell_type": "code",
   "execution_count": 1,
   "metadata": {
    "collapsed": true
   },
   "outputs": [],
   "source": [
    "# We zullen leren hoe we dit soort lijst kunnen automatiseren in de volgende lezing\n",
    "list1 = [1,2,3,4,5,6,7,8,9,10]"
   ]
  },
  {
   "cell_type": "code",
   "execution_count": 2,
   "metadata": {},
   "outputs": [
    {
     "name": "stdout",
     "output_type": "stream",
     "text": [
      "1\n",
      "2\n",
      "3\n",
      "4\n",
      "5\n",
      "6\n",
      "7\n",
      "8\n",
      "9\n",
      "10\n"
     ]
    }
   ],
   "source": [
    "for num in list1:\n",
    "    print(num)"
   ]
  },
  {
   "cell_type": "markdown",
   "metadata": {},
   "source": [
    "Geweldig! Hopelijk heeft dit zin. Laten we nu een <code>if</code>-statement toevoegen om te controleren op even getallen. We introduceren hier eerst een nieuw concept: de modulo.\n",
    "\n",
    "### Modulo\n",
    "De modulo stelt ons in staat om de rest in een deling te krijgen en gebruikt het %-symbool. Bijvoorbeeld:"
   ]
  },
  {
   "cell_type": "code",
   "execution_count": 3,
   "metadata": {},
   "outputs": [
    {
     "data": {
      "text/plain": [
       "2"
      ]
     },
     "execution_count": 3,
     "metadata": {},
     "output_type": "execute_result"
    }
   ],
   "source": [
    "17 % 5"
   ]
  },
  {
   "cell_type": "markdown",
   "metadata": {},
   "source": [
    "Dit is logisch aangezien 17 gedeeld door 5 3 en de rest 2 is. Laten we nog een paar snelle voorbeelden bekijken:"
   ]
  },
  {
   "cell_type": "code",
   "execution_count": 4,
   "metadata": {},
   "outputs": [
    {
     "data": {
      "text/plain": [
       "1"
      ]
     },
     "execution_count": 4,
     "metadata": {},
     "output_type": "execute_result"
    }
   ],
   "source": [
    "# 3 rest 1\n",
    "10 % 3"
   ]
  },
  {
   "cell_type": "code",
   "execution_count": 5,
   "metadata": {},
   "outputs": [
    {
     "data": {
      "text/plain": [
       "4"
      ]
     },
     "execution_count": 5,
     "metadata": {},
     "output_type": "execute_result"
    }
   ],
   "source": [
    "# 3 rest 1\n",
    "18 % 7"
   ]
  },
  {
   "cell_type": "code",
   "execution_count": 6,
   "metadata": {},
   "outputs": [
    {
     "data": {
      "text/plain": [
       "0"
      ]
     },
     "execution_count": 6,
     "metadata": {},
     "output_type": "execute_result"
    }
   ],
   "source": [
    "# 2 geen rest\n",
    "4 % 2"
   ]
  },
  {
   "cell_type": "markdown",
   "metadata": {},
   "source": [
    "Merk op dat als een getal volledig deelbaar is zonder rest, het resultaat van de modulo-aanroep (4 % 2) 0 is. We kunnen dit gebruiken om te testen op even getallen, want als een getal modulo 2 gelijk is aan 0, betekent dit dat het een even getal is!\n",
    "\n",
    "Terug naar de <code>for</code> loops!\n",
    "\n",
    "## Voorbeeld 2\n",
    "Laten we alleen de even getallen uit die lijst afdrukken!"
   ]
  },
  {
   "cell_type": "code",
   "execution_count": 7,
   "metadata": {},
   "outputs": [
    {
     "name": "stdout",
     "output_type": "stream",
     "text": [
      "2\n",
      "4\n",
      "6\n",
      "8\n",
      "10\n"
     ]
    }
   ],
   "source": [
    "for num in list1:\n",
    "    if num % 2 == 0:\n",
    "        print(num)"
   ]
  },
  {
   "cell_type": "markdown",
   "metadata": {},
   "source": [
    "We hadden daar ook een <code>else</code>-statement kunnen plaatsen:"
   ]
  },
  {
   "cell_type": "code",
   "execution_count": 8,
   "metadata": {},
   "outputs": [
    {
     "name": "stdout",
     "output_type": "stream",
     "text": [
      "Odd number\n",
      "2\n",
      "Odd number\n",
      "4\n",
      "Odd number\n",
      "6\n",
      "Odd number\n",
      "8\n",
      "Odd number\n",
      "10\n"
     ]
    }
   ],
   "source": [
    "for num in list1:\n",
    "    if num % 2 == 0:\n",
    "        print(num)\n",
    "    else:\n",
    "        print('Odd number')"
   ]
  },
  {
   "cell_type": "markdown",
   "metadata": {},
   "source": [
    "## Voorbeeld 3\n",
    "Een ander veelvoorkomend idee tijdens een <code>for</code>-lus is het bijhouden van een aantal loops tijdens meerdere lussen. Laten we bijvoorbeeld een <code>for</code>-lus maken die de lijst samenvat:"
   ]
  },
  {
   "cell_type": "code",
   "execution_count": 9,
   "metadata": {},
   "outputs": [
    {
     "name": "stdout",
     "output_type": "stream",
     "text": [
      "55\n"
     ]
    }
   ],
   "source": [
    "# Start sum at zero\n",
    "list_sum = 0 \n",
    "\n",
    "for num in list1:\n",
    "    list_sum = list_sum + num\n",
    "\n",
    "print(list_sum)"
   ]
  },
  {
   "cell_type": "markdown",
   "metadata": {},
   "source": [
    "Geweldig! Lees de bovenstaande cel door en zorg ervoor dat u volledig begrijpt wat er aan de hand is. We hadden ook een <code>+=</code> kunnen implementeren om de optelling bij de som uit te voeren. Bijvoorbeeld:"
   ]
  },
  {
   "cell_type": "code",
   "execution_count": 10,
   "metadata": {},
   "outputs": [
    {
     "name": "stdout",
     "output_type": "stream",
     "text": [
      "55\n"
     ]
    }
   ],
   "source": [
    "# Start sum at zero\n",
    "list_sum = 0 \n",
    "\n",
    "for num in list1:\n",
    "    list_sum += num\n",
    "\n",
    "print(list_sum)"
   ]
  },
  {
   "cell_type": "markdown",
   "metadata": {},
   "source": [
    "## Voorbeeld 4\n",
    "We hebben <code>for</code> loops gebruikt met lijsten, wat dacht je van met strings? Onthoud dat strings een reeks zijn, dus als we er doorheen gaan, hebben we toegang tot elk item in die string."
   ]
  },
  {
   "cell_type": "code",
   "execution_count": 11,
   "metadata": {},
   "outputs": [
    {
     "name": "stdout",
     "output_type": "stream",
     "text": [
      "T\n",
      "h\n",
      "i\n",
      "s\n",
      " \n",
      "i\n",
      "s\n",
      " \n",
      "a\n",
      " \n",
      "s\n",
      "t\n",
      "r\n",
      "i\n",
      "n\n",
      "g\n",
      ".\n"
     ]
    }
   ],
   "source": [
    "for letter in 'This is a string.':\n",
    "    print(letter)"
   ]
  },
  {
   "cell_type": "markdown",
   "metadata": {},
   "source": [
    "## Voorbeeld 5\n",
    "Laten we nu kijken hoe een <code>for</code>-lus kan worden gebruikt met een tuple:"
   ]
  },
  {
   "cell_type": "code",
   "execution_count": 12,
   "metadata": {},
   "outputs": [
    {
     "name": "stdout",
     "output_type": "stream",
     "text": [
      "1\n",
      "2\n",
      "3\n",
      "4\n",
      "5\n"
     ]
    }
   ],
   "source": [
    "tup = (1,2,3,4,5)\n",
    "\n",
    "for t in tup:\n",
    "    print(t)"
   ]
  },
  {
   "cell_type": "markdown",
   "metadata": {},
   "source": [
    "## Voorbeeld 6\n",
    "Tuples hebben een unieke kwaliteit als het gaat om <code>for</code> loops. Als je wilt een reeks itereren die tuples bevat, kan het item de tuple zelf zijn, dit is een voorbeeld van *tuple unpacking*. \n",
    "Tijdens de <code>for</code>-lus zullen we de tuple in een reeks uitpakken en hebben we toegang tot de afzonderlijke items in die tuple!"
   ]
  },
  {
   "cell_type": "code",
   "execution_count": 13,
   "metadata": {
    "collapsed": true
   },
   "outputs": [],
   "source": [
    "list2 = [(2,4),(6,8),(10,12)]"
   ]
  },
  {
   "cell_type": "code",
   "execution_count": 14,
   "metadata": {},
   "outputs": [
    {
     "name": "stdout",
     "output_type": "stream",
     "text": [
      "(2, 4)\n",
      "(6, 8)\n",
      "(10, 12)\n"
     ]
    }
   ],
   "source": [
    "for tup in list2:\n",
    "    print(tup)"
   ]
  },
  {
   "cell_type": "code",
   "execution_count": 15,
   "metadata": {},
   "outputs": [
    {
     "name": "stdout",
     "output_type": "stream",
     "text": [
      "2\n",
      "6\n",
      "10\n"
     ]
    }
   ],
   "source": [
    "# Nu met uitpakken!\n",
    "for (t1,t2) in list2:\n",
    "    print(t1)"
   ]
  },
  {
   "cell_type": "markdown",
   "metadata": {},
   "source": [
    "Koel! Met tupels in een reeks hebben we toegang tot de items erin door ze uit te pakken! De reden dat dit belangrijk is, is omdat veel objecten hun iterables via tuples zullen leveren. \n",
    "Laten we beginnen met het verkennen van iteratie door dictionaries om dit verder te onderzoeken!"
   ]
  },
  {
   "cell_type": "markdown",
   "metadata": {},
   "source": [
    "## Voorbeeld 7"
   ]
  },
  {
   "cell_type": "code",
   "execution_count": 16,
   "metadata": {
    "collapsed": true
   },
   "outputs": [],
   "source": [
    "d = {'k1':1,'k2':2,'k3':3}"
   ]
  },
  {
   "cell_type": "code",
   "execution_count": 17,
   "metadata": {},
   "outputs": [
    {
     "name": "stdout",
     "output_type": "stream",
     "text": [
      "k1\n",
      "k2\n",
      "k3\n"
     ]
    }
   ],
   "source": [
    "for item in d:\n",
    "    print(item)"
   ]
  },
  {
   "cell_type": "markdown",
   "metadata": {},
   "source": [
    "Merk op hoe dit alleen de sleutels produceert. Dus hoe kunnen we de waarden (values) krijgen? Of zowel de sleutels (keys) als de waarden?\n",
    "\n",
    "We gaan drie nieuwe Dictionary-methoden introduceren: **.keys()**, **.values()** en **.items()**\n",
    "\n",
    "In Python retourneert elk van deze methoden een *dictionary view-object*. Het ondersteunt bewerkingen zoals lidmaatschapstest (membership-test) en iteratie, maar de inhoud ervan is niet onafhankelijk van het originele woordenboek - het is slechts een weergave. \n",
    "Laten we het in actie zien:"
   ]
  },
  {
   "cell_type": "code",
   "execution_count": 18,
   "metadata": {},
   "outputs": [
    {
     "data": {
      "text/plain": [
       "dict_items([('k1', 1), ('k2', 2), ('k3', 3)])"
      ]
     },
     "execution_count": 18,
     "metadata": {},
     "output_type": "execute_result"
    }
   ],
   "source": [
    "# Create a dictionary view object\n",
    "d.items()"
   ]
  },
  {
   "cell_type": "markdown",
   "metadata": {},
   "source": [
    "Sindsdien ondersteunt de .items()-methode iteratie, we kunnen *dictionaries uitpakken* uitvoeren om sleutels en waarden te scheiden, net zoals we deden in de vorige voorbeelden."
   ]
  },
  {
   "cell_type": "code",
   "execution_count": 19,
   "metadata": {},
   "outputs": [
    {
     "name": "stdout",
     "output_type": "stream",
     "text": [
      "k1\n",
      "1\n",
      "k2\n",
      "2\n",
      "k3\n",
      "3\n"
     ]
    }
   ],
   "source": [
    "# Dictionary unpacking\n",
    "for k,v in d.items():\n",
    "    print(k)\n",
    "    print(v) "
   ]
  },
  {
   "cell_type": "markdown",
   "metadata": {},
   "source": [
    "Als u een echte lijst met keys, values of key/value-tuples wilt verkrijgen, kunt u de weergave *casten* als een lijst:"
   ]
  },
  {
   "cell_type": "code",
   "execution_count": 20,
   "metadata": {},
   "outputs": [
    {
     "data": {
      "text/plain": [
       "['k1', 'k2', 'k3']"
      ]
     },
     "execution_count": 20,
     "metadata": {},
     "output_type": "execute_result"
    }
   ],
   "source": [
    "list(d.keys())"
   ]
  },
  {
   "cell_type": "markdown",
   "metadata": {},
   "source": [
    "Onthoud dat dictionaries ongeordend zijn en dat keys en values in willekeurige (random) volgorde terugkomen. U kunt een gesorteerde lijst verkrijgen met behulp van Sort():"
   ]
  },
  {
   "cell_type": "code",
   "execution_count": 21,
   "metadata": {},
   "outputs": [
    {
     "data": {
      "text/plain": [
       "[1, 2, 3]"
      ]
     },
     "execution_count": 21,
     "metadata": {},
     "output_type": "execute_result"
    }
   ],
   "source": [
    "sorted(d.values())"
   ]
  },
  {
   "cell_type": "markdown",
   "metadata": {},
   "source": [
    "## Gevolgtrekking\n",
    "\n",
    "We hebben geleerd hoe we for-lussen kunnen gebruiken om door tuples, lijsten, strings en dictionaries te itereren. Het zal een cruciaal hulpmiddel voor ons zijn, dus zorg ervoor dat u het goed kent en de bovenstaande voorbeelden begrijpt.\n",
    "\n",
    "[Meer bronnen] (http://www.tutorialspoint.com/python/python_for_loop.htm)"
   ]
  }
 ],
 "metadata": {
  "kernelspec": {
   "display_name": "Python 3",
   "language": "python",
   "name": "python3"
  },
  "language_info": {
   "codemirror_mode": {
    "name": "ipython",
    "version": 3
   },
   "file_extension": ".py",
   "mimetype": "text/x-python",
   "name": "python",
   "nbconvert_exporter": "python",
   "pygments_lexer": "ipython3",
   "version": "3.6.6"
  }
 },
 "nbformat": 4,
 "nbformat_minor": 1
}
