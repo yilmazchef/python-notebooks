{
 "cells": [
  {
   "cell_type": "code",
   "execution_count": null,
   "metadata": {},
   "outputs": [],
   "source": [
    "\"\"\"This is a module for our Person class.\n",
    ".. author: Yilmaz Mustafa <yilmaz.mustafa@intecbrussel.be>\n",
    "\"\"\"\n",
    "\n",
    "from datetime import date\n",
    "\n",
    "class Person:\n",
    "    \"\"\"This is a class which represents a person. It is a bit of a silly class.\n",
    "    It stores some personal information, and can calculate a person's age.\n",
    "    \"\"\"\n",
    "\n",
    "    def __init__(self, name, surname, birthdate, address, telephone, email):\n",
    "        \"\"\"This method creates a new person.\n",
    "\n",
    "        :param name: first name\n",
    "        :type name: str\n",
    "        :param surname: surname\n",
    "        :type surname: str\n",
    "        :param birthdate: date of birth\n",
    "        :type birthdate: datetime.date\n",
    "        :param address: physical address\n",
    "        :type address: str\n",
    "        :param telephone: telephone number\n",
    "        :type telephone: str\n",
    "        :param email: email address\n",
    "        :type email: str\n",
    "        \"\"\"\n",
    "\n",
    "        self.name = name\n",
    "        self.surname = surname\n",
    "        self.birthdate = birthdate\n",
    "\n",
    "        self.address = address\n",
    "        self.telephone = telephone\n",
    "        self.email = email\n",
    "\n",
    "    def age(self):\n",
    "        \"\"\"This method calculates the person's age from the birthdate and the current date.\n",
    "\n",
    "        :returns: int -- the person's age in years\n",
    "        \"\"\"\n",
    "        today = date.today()\n",
    "        age = today.year - self.birthdate.year\n",
    "\n",
    "        if today < date(today.year, self.birthdate.month, self.birthdate.day):\n",
    "            age -= 1\n",
    "\n",
    "        return age\n",
    "\n",
    "    def email_domain(self): # voeg de methode argumenten hier (als ze vereist zijn...)\n",
    "        return self.email.split(\"@\")[1].lower()\n",
    "\n",
    "    def ___str___(self):\n",
    "        return \"Person: \" + self.name.capitalize() + \" \" + self.surname.capitalize() + \", is \" + str(self.age()) + \" years old.\\n\\tContact: \" + self.address + \".\" + str(self.telephone) + \", \" + self.email.lower() \n",
    "\n",
    "\n",
    "\n",
    "person1 = Person(\"Justin\", \"Bieber\", date.fromisoformat(\"1986-03-11\"), \"Brussel Centraal\", 46852145678, \"just.in@be\")\n",
    "print(person1.info())\n",
    "\n",
    "person2 = Person(\"Nikola\", \"Tesla\", date.fromisoformat(\"1967-03-11\"), \"Stad Gent\", 4966321185, \"nikola.tesla@legends.com\")\n",
    "print(person2.info())"
   ]
  }
 ],
 "metadata": {
  "kernelspec": {
   "display_name": "sandbox",
   "language": "python",
   "name": "python3"
  },
  "language_info": {
   "codemirror_mode": {
    "name": "ipython",
    "version": 3
   },
   "file_extension": ".py",
   "mimetype": "text/x-python",
   "name": "python",
   "nbconvert_exporter": "python",
   "pygments_lexer": "ipython3",
   "version": "3.10.8 | packaged by conda-forge | (main, Nov 24 2022, 14:07:00) [MSC v.1916 64 bit (AMD64)]"
  },
  "orig_nbformat": 4,
  "vscode": {
   "interpreter": {
    "hash": "a80be7237836b31ed17ae5d7df51c188fd457e64d55a094952c3b311ea6376aa"
   }
  }
 },
 "nbformat": 4,
 "nbformat_minor": 2
}
