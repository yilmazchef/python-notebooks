{
 "cells": [
  {
   "cell_type": "markdown",
   "metadata": {},
   "source": [
    "## Network Visualization in Python\n",
    "\n",
    "- Helper notebook for article of same name published on Medium."
   ]
  },
  {
   "cell_type": "markdown",
   "metadata": {},
   "source": [
    "### Import"
   ]
  },
  {
   "cell_type": "code",
   "execution_count": 1,
   "metadata": {},
   "outputs": [
    {
     "ename": "ModuleNotFoundError",
     "evalue": "No module named 'networkx'",
     "output_type": "error",
     "traceback": [
      "\u001b[1;31m---------------------------------------------------------------------------\u001b[0m",
      "\u001b[1;31mModuleNotFoundError\u001b[0m                       Traceback (most recent call last)",
      "\u001b[1;32mc:\\Users\\Administrator\\Desktop\\python-notebooks\\Notebooks\\Nederlands\\Milestone Project 4 - Game of Thrones - Netwerkvisualisatie\\GoT_Network.ipynb Cell 3'\u001b[0m in \u001b[0;36m<cell line: 2>\u001b[1;34m()\u001b[0m\n\u001b[0;32m      <a href='vscode-notebook-cell:/c%3A/Users/Administrator/Desktop/python-notebooks/Notebooks/Nederlands/Milestone%20Project%204%20-%20Game%20of%20Thrones%20-%20Netwerkvisualisatie/GoT_Network.ipynb#ch0000002?line=0'>1</a>\u001b[0m \u001b[39mimport\u001b[39;00m \u001b[39mpandas\u001b[39;00m \u001b[39mas\u001b[39;00m \u001b[39mpd\u001b[39;00m\n\u001b[1;32m----> <a href='vscode-notebook-cell:/c%3A/Users/Administrator/Desktop/python-notebooks/Notebooks/Nederlands/Milestone%20Project%204%20-%20Game%20of%20Thrones%20-%20Netwerkvisualisatie/GoT_Network.ipynb#ch0000002?line=1'>2</a>\u001b[0m \u001b[39mimport\u001b[39;00m \u001b[39mnetworkx\u001b[39;00m \u001b[39mas\u001b[39;00m \u001b[39mnx\u001b[39;00m\n\u001b[0;32m      <a href='vscode-notebook-cell:/c%3A/Users/Administrator/Desktop/python-notebooks/Notebooks/Nederlands/Milestone%20Project%204%20-%20Game%20of%20Thrones%20-%20Netwerkvisualisatie/GoT_Network.ipynb#ch0000002?line=2'>3</a>\u001b[0m \u001b[39mimport\u001b[39;00m \u001b[39mmatplotlib\u001b[39;00m\u001b[39m.\u001b[39;00m\u001b[39mpyplot\u001b[39;00m \u001b[39mas\u001b[39;00m \u001b[39mplt\u001b[39;00m\n\u001b[0;32m      <a href='vscode-notebook-cell:/c%3A/Users/Administrator/Desktop/python-notebooks/Notebooks/Nederlands/Milestone%20Project%204%20-%20Game%20of%20Thrones%20-%20Netwerkvisualisatie/GoT_Network.ipynb#ch0000002?line=3'>4</a>\u001b[0m get_ipython()\u001b[39m.\u001b[39mrun_line_magic(\u001b[39m'\u001b[39m\u001b[39mmatplotlib\u001b[39m\u001b[39m'\u001b[39m, \u001b[39m'\u001b[39m\u001b[39minline\u001b[39m\u001b[39m'\u001b[39m)\n",
      "\u001b[1;31mModuleNotFoundError\u001b[0m: No module named 'networkx'"
     ]
    }
   ],
   "source": [
    "import pandas as pd\n",
    "import networkx as nx\n",
    "import matplotlib.pyplot as plt\n",
    "%matplotlib inline"
   ]
  },
  {
   "cell_type": "markdown",
   "metadata": {},
   "source": [
    "### Load and process data"
   ]
  },
  {
   "cell_type": "code",
   "execution_count": 2,
   "metadata": {},
   "outputs": [
    {
     "data": {
      "text/html": [
       "<div>\n",
       "<style scoped>\n",
       "    .dataframe tbody tr th:only-of-type {\n",
       "        vertical-align: middle;\n",
       "    }\n",
       "\n",
       "    .dataframe tbody tr th {\n",
       "        vertical-align: top;\n",
       "    }\n",
       "\n",
       "    .dataframe thead th {\n",
       "        text-align: right;\n",
       "    }\n",
       "</style>\n",
       "<table border=\"1\" class=\"dataframe\">\n",
       "  <thead>\n",
       "    <tr style=\"text-align: right;\">\n",
       "      <th></th>\n",
       "      <th>Source</th>\n",
       "      <th>Target</th>\n",
       "      <th>Type</th>\n",
       "      <th>weight</th>\n",
       "      <th>book</th>\n",
       "    </tr>\n",
       "  </thead>\n",
       "  <tbody>\n",
       "    <tr>\n",
       "      <th>8</th>\n",
       "      <td>Aemon-Targaryen-(Maester-Aemon)</td>\n",
       "      <td>Jeor-Mormont</td>\n",
       "      <td>Undirected</td>\n",
       "      <td>13</td>\n",
       "      <td>1</td>\n",
       "    </tr>\n",
       "    <tr>\n",
       "      <th>9</th>\n",
       "      <td>Aemon-Targaryen-(Maester-Aemon)</td>\n",
       "      <td>Jon-Snow</td>\n",
       "      <td>Undirected</td>\n",
       "      <td>34</td>\n",
       "      <td>1</td>\n",
       "    </tr>\n",
       "    <tr>\n",
       "      <th>16</th>\n",
       "      <td>Aerys-II-Targaryen</td>\n",
       "      <td>Robert-Baratheon</td>\n",
       "      <td>Undirected</td>\n",
       "      <td>12</td>\n",
       "      <td>1</td>\n",
       "    </tr>\n",
       "    <tr>\n",
       "      <th>17</th>\n",
       "      <td>Aggo</td>\n",
       "      <td>Daenerys-Targaryen</td>\n",
       "      <td>Undirected</td>\n",
       "      <td>11</td>\n",
       "      <td>1</td>\n",
       "    </tr>\n",
       "    <tr>\n",
       "      <th>30</th>\n",
       "      <td>Alliser-Thorne</td>\n",
       "      <td>Jon-Snow</td>\n",
       "      <td>Undirected</td>\n",
       "      <td>32</td>\n",
       "      <td>1</td>\n",
       "    </tr>\n",
       "    <tr>\n",
       "      <th>...</th>\n",
       "      <td>...</td>\n",
       "      <td>...</td>\n",
       "      <td>...</td>\n",
       "      <td>...</td>\n",
       "      <td>...</td>\n",
       "    </tr>\n",
       "    <tr>\n",
       "      <th>658</th>\n",
       "      <td>Sandor-Clegane</td>\n",
       "      <td>Sansa-Stark</td>\n",
       "      <td>Undirected</td>\n",
       "      <td>23</td>\n",
       "      <td>1</td>\n",
       "    </tr>\n",
       "    <tr>\n",
       "      <th>664</th>\n",
       "      <td>Shae</td>\n",
       "      <td>Tyrion-Lannister</td>\n",
       "      <td>Undirected</td>\n",
       "      <td>12</td>\n",
       "      <td>1</td>\n",
       "    </tr>\n",
       "    <tr>\n",
       "      <th>666</th>\n",
       "      <td>Shagga</td>\n",
       "      <td>Tyrion-Lannister</td>\n",
       "      <td>Undirected</td>\n",
       "      <td>17</td>\n",
       "      <td>1</td>\n",
       "    </tr>\n",
       "    <tr>\n",
       "      <th>676</th>\n",
       "      <td>Tyrion-Lannister</td>\n",
       "      <td>Tywin-Lannister</td>\n",
       "      <td>Undirected</td>\n",
       "      <td>40</td>\n",
       "      <td>1</td>\n",
       "    </tr>\n",
       "    <tr>\n",
       "      <th>683</th>\n",
       "      <td>Waymar-Royce</td>\n",
       "      <td>Will-(prologue)</td>\n",
       "      <td>Undirected</td>\n",
       "      <td>18</td>\n",
       "      <td>1</td>\n",
       "    </tr>\n",
       "  </tbody>\n",
       "</table>\n",
       "<p>175 rows × 5 columns</p>\n",
       "</div>"
      ],
      "text/plain": [
       "                              Source              Target        Type  weight  \\\n",
       "8    Aemon-Targaryen-(Maester-Aemon)        Jeor-Mormont  Undirected      13   \n",
       "9    Aemon-Targaryen-(Maester-Aemon)            Jon-Snow  Undirected      34   \n",
       "16                Aerys-II-Targaryen    Robert-Baratheon  Undirected      12   \n",
       "17                              Aggo  Daenerys-Targaryen  Undirected      11   \n",
       "30                    Alliser-Thorne            Jon-Snow  Undirected      32   \n",
       "..                               ...                 ...         ...     ...   \n",
       "658                   Sandor-Clegane         Sansa-Stark  Undirected      23   \n",
       "664                             Shae    Tyrion-Lannister  Undirected      12   \n",
       "666                           Shagga    Tyrion-Lannister  Undirected      17   \n",
       "676                 Tyrion-Lannister     Tywin-Lannister  Undirected      40   \n",
       "683                     Waymar-Royce     Will-(prologue)  Undirected      18   \n",
       "\n",
       "     book  \n",
       "8       1  \n",
       "9       1  \n",
       "16      1  \n",
       "17      1  \n",
       "30      1  \n",
       "..    ...  \n",
       "658     1  \n",
       "664     1  \n",
       "666     1  \n",
       "676     1  \n",
       "683     1  \n",
       "\n",
       "[175 rows x 5 columns]"
      ]
     },
     "execution_count": 2,
     "metadata": {},
     "output_type": "execute_result"
    }
   ],
   "source": [
    "# load data\n",
    "df = pd.read_csv(\"data/book1.csv\")\n",
    "# pick only important weights (hard threshold)\n",
    "df = df.loc[df['weight']>10, :]\n",
    "df"
   ]
  },
  {
   "cell_type": "code",
   "execution_count": 3,
   "metadata": {},
   "outputs": [
    {
     "name": "stdout",
     "output_type": "stream",
     "text": [
      "No of unique characters: 80\n",
      "No of connections: 175\n"
     ]
    }
   ],
   "source": [
    "# import\n",
    "import networkx as nx\n",
    "# load pandas df as networkx graph\n",
    "G = nx.from_pandas_edgelist(df, \n",
    "                            source='Source', \n",
    "                            target='Target', \n",
    "                            edge_attr='weight')\n",
    "print(\"No of unique characters:\", len(G.nodes))\n",
    "print(\"No of connections:\", len(G.edges))\n"
   ]
  },
  {
   "cell_type": "markdown",
   "metadata": {},
   "source": [
    "## Option 1: NetworkX"
   ]
  },
  {
   "cell_type": "code",
   "execution_count": 4,
   "metadata": {},
   "outputs": [
    {
     "data": {
      "image/png": "[encoded data removed]",
      "text/plain": [
       "<Figure size 800x600 with 1 Axes>"
      ]
     },
     "metadata": {},
     "output_type": "display_data"
    }
   ],
   "source": [
    "# all graph options\n",
    "graphs_viz_options = [nx.draw, nx.draw_networkx, nx.draw_circular, nx.draw_kamada_kawai, nx.draw_random, nx.draw_shell, nx.draw_spring]\n",
    "\n",
    "# plot graph option\n",
    "selected_graph_option = 0\n",
    "\n",
    "# plot\n",
    "plt.figure(figsize=(8,6), dpi=100) \n",
    "graphs_viz_options[selected_graph_option](G)"
   ]
  },
  {
   "cell_type": "markdown",
   "metadata": {},
   "source": [
    "## Option 2: PyVis"
   ]
  },
  {
   "cell_type": "code",
   "execution_count": 5,
   "metadata": {},
   "outputs": [
    {
     "data": {
      "text/html": [
       "\n",
       "        <iframe\n",
       "            width=\"1000\"\n",
       "            height=\"600\"\n",
       "            src=\"example.html\"\n",
       "            frameborder=\"0\"\n",
       "            allowfullscreen\n",
       "        ></iframe>\n",
       "        "
      ],
      "text/plain": [
       "<IPython.lib.display.IFrame at 0x2595117bc18>"
      ]
     },
     "execution_count": 5,
     "metadata": {},
     "output_type": "execute_result"
    }
   ],
   "source": [
    "# import pyvis\n",
    "from pyvis.network import Network\n",
    "# create vis network\n",
    "net = Network(notebook=True, width=1000, height=600)\n",
    "# load the networkx graph\n",
    "net.from_nx(G)\n",
    "# show\n",
    "net.show(\"example.html\")"
   ]
  },
  {
   "cell_type": "markdown",
   "metadata": {},
   "source": [
    "## Option 3: Visdcc in Dash\n",
    "\n",
    "- See `dash_app.py` file for the demo."
   ]
  },
  {
   "cell_type": "markdown",
   "metadata": {},
   "source": [
    "### Extra - get all draw functions in NetworkX"
   ]
  },
  {
   "cell_type": "code",
   "execution_count": 24,
   "metadata": {},
   "outputs": [
    {
     "name": "stdout",
     "output_type": "stream",
     "text": [
      "('draw', <function draw at 0x0000023163903BF8>)\n",
      "('draw_circular', <function draw_circular at 0x0000023163903F28>)\n",
      "('draw_kamada_kawai', <function draw_kamada_kawai at 0x0000023163909048>)\n",
      "('draw_networkx', <function draw_networkx at 0x0000023163903C80>)\n",
      "('draw_networkx_edge_labels', <function draw_networkx_edge_labels at 0x0000023163903EA0>)\n",
      "('draw_networkx_edges', <function draw_networkx_edges at 0x0000023163903D90>)\n",
      "('draw_networkx_labels', <function draw_networkx_labels at 0x0000023163903E18>)\n",
      "('draw_networkx_nodes', <function draw_networkx_nodes at 0x0000023163903D08>)\n",
      "('draw_planar', <function draw_planar at 0x00000231639092F0>)\n",
      "('draw_random', <function draw_random at 0x00000231639090D0>)\n",
      "('draw_shell', <function draw_shell at 0x0000023163909268>)\n",
      "('draw_spectral', <function draw_spectral at 0x0000023163909158>)\n",
      "('draw_spring', <function draw_spring at 0x00000231639091E0>)\n",
      "('drawing', <module 'networkx.drawing' from 'C:\\\\Users\\\\Mohit\\\\Anaconda3\\\\lib\\\\site-packages\\\\networkx\\\\drawing\\\\__init__.py'>)\n",
      "('planar_drawing', <module 'networkx.algorithms.planar_drawing' from 'C:\\\\Users\\\\Mohit\\\\Anaconda3\\\\lib\\\\site-packages\\\\networkx\\\\algorithms\\\\planar_drawing.py'>)\n"
     ]
    }
   ],
   "source": [
    "from inspect import getmembers\n",
    "for x in getmembers(nx):\n",
    "    if 'draw' in x[0]:\n",
    "        print(x)"
   ]
  }
 ],
 "metadata": {
  "kernelspec": {
   "display_name": "Python 3",
   "language": "python",
   "name": "python3"
  },
  "language_info": {
   "codemirror_mode": {
    "name": "ipython",
    "version": 3
   },
   "file_extension": ".py",
   "mimetype": "text/x-python",
   "name": "python",
   "nbconvert_exporter": "python",
   "pygments_lexer": "ipython3",
   "version": "3.10.4"
  }
 },
 "nbformat": 4,
 "nbformat_minor": 2
}
