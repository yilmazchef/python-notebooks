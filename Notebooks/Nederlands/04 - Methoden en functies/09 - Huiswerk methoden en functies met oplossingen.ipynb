{
 "cells": [
  {
   "cell_type": "markdown",
   "metadata": {},
   "source": [
    "<center>\n",
    "    <img src='https://intecbrussel.be/img/logo3.png' width='400px' height='auto'/>\n",
    "    <br/>\n",
    "    <em>Python les-materialen</em>\n",
    "</center>"
   ]
  },
  {
   "cell_type": "markdown",
   "metadata": {},
   "source": [
    "# Functies en methoden Huiswerk met oplossingen\n",
    "\n",
    "Vul de volgende vragen in:\n",
    "____\n",
    "**Schrijf een functie die het volume van een bol (sphere) berekent op basis van zijn straal (radius).**\n",
    "<p>Het volume van een bol wordt gegeven als $$\\frac{4}{3} πr^3$$</p>"
   ]
  },
  {
   "cell_type": "code",
   "execution_count": 1,
   "metadata": {
    "collapsed": true
   },
   "outputs": [],
   "source": [
    "def vol(rad):\n",
    "    return (4/3)*(3.14)*(rad**3)"
   ]
  },
  {
   "cell_type": "code",
   "execution_count": 2,
   "metadata": {},
   "outputs": [
    {
     "data": {
      "text/plain": [
       "33.49333333333333"
      ]
     },
     "execution_count": 2,
     "metadata": {},
     "output_type": "execute_result"
    }
   ],
   "source": [
    "# Check\n",
    "vol(2)"
   ]
  },
  {
   "cell_type": "markdown",
   "metadata": {},
   "source": [
    "____\n",
    "**Schrijf een functie die controleert of een getal binnen een bepaald bereik valt (inclusief hoog en laag)**"
   ]
  },
  {
   "cell_type": "code",
   "execution_count": 3,
   "metadata": {
    "collapsed": true
   },
   "outputs": [],
   "source": [
    "def ran_check(num,low,high):\n",
    "    #Check if num is between low and high (including low and high)\n",
    "    if num in range(low,high+1):\n",
    "        print('{} is in the range between {} and {}'.format(num,low,high))\n",
    "    else:\n",
    "        print('The number is outside the range.')"
   ]
  },
  {
   "cell_type": "code",
   "execution_count": 4,
   "metadata": {},
   "outputs": [
    {
     "name": "stdout",
     "output_type": "stream",
     "text": [
      "5 is in the range between 2 and 7\n"
     ]
    }
   ],
   "source": [
    "# Controleren\n",
    "ran_check(5,2,7)"
   ]
  },
  {
   "cell_type": "markdown",
   "metadata": {},
   "source": [
    "Als je alleen een boolean wilt retourneren:"
   ]
  },
  {
   "cell_type": "code",
   "execution_count": 5,
   "metadata": {
    "collapsed": true
   },
   "outputs": [],
   "source": [
    "def ran_bool(num,low,high):\n",
    "    return num in range(low,high+1)"
   ]
  },
  {
   "cell_type": "code",
   "execution_count": 6,
   "metadata": {},
   "outputs": [
    {
     "data": {
      "text/plain": [
       "True"
      ]
     },
     "execution_count": 6,
     "metadata": {},
     "output_type": "execute_result"
    }
   ],
   "source": [
    "ran_bool(3,1,10)"
   ]
  },
  {
   "cell_type": "markdown",
   "metadata": {},
   "source": [
    "____\n",
    "**Schrijf een Python-functie die een string accepteert en het aantal hoofdletters en kleine letters berekent.**\n",
    "\n",
    "    Sample String : 'Hello Mr. Rogers, how are you this fine Tuesday?'\n",
    "    Expected Output : \n",
    "    No. of Upper case characters : 4\n",
    "    No. of Lower case Characters : 33\n",
    "\n",
    "HINT: Twee string-methoden die nuttig kunnen zijn: **.isupper()** en **.islower()**\n",
    "\n",
    "Als je ambitieus bent, verken dan de module Collecties om dit probleem op te lossen!"
   ]
  },
  {
   "cell_type": "code",
   "execution_count": 7,
   "metadata": {
    "collapsed": true
   },
   "outputs": [],
   "source": [
    "def up_low(s):\n",
    "    d={\"upper\":0, \"lower\":0}\n",
    "    for c in s:\n",
    "        if c.isupper():\n",
    "            d[\"upper\"]+=1\n",
    "        elif c.islower():\n",
    "            d[\"lower\"]+=1\n",
    "        else:\n",
    "            pass\n",
    "    print(\"Original String : \", s)\n",
    "    print(\"No. of Upper case characters : \", d[\"upper\"])\n",
    "    print(\"No. of Lower case Characters : \", d[\"lower\"])"
   ]
  },
  {
   "cell_type": "code",
   "execution_count": 8,
   "metadata": {},
   "outputs": [
    {
     "name": "stdout",
     "output_type": "stream",
     "text": [
      "Original String :  Hello Mr. Rogers, how are you this fine Tuesday?\n",
      "No. of Upper case characters :  4\n",
      "No. of Lower case Characters :  33\n"
     ]
    }
   ],
   "source": [
    "s = 'Hello Mr. Rogers, how are you this fine Tuesday?'\n",
    "up_low(s)"
   ]
  },
  {
   "cell_type": "markdown",
   "metadata": {},
   "source": [
    "____\n",
    "**Schrijf een Python-functie die een lijst nodig heeft en een nieuwe lijst retourneert met unieke elementen van de eerste lijst.**\n",
    "\n",
    "    Sample List : [1,1,1,1,2,2,3,3,3,3,4,5]\n",
    "    Unique List : [1, 2, 3, 4, 5]"
   ]
  },
  {
   "cell_type": "code",
   "execution_count": 9,
   "metadata": {
    "collapsed": true
   },
   "outputs": [],
   "source": [
    "def unique_list(lst):\n",
    "    # Also possible to use list(set())\n",
    "    x = []\n",
    "    for a in lst:\n",
    "        if a not in x:\n",
    "            x.append(a)\n",
    "    return x"
   ]
  },
  {
   "cell_type": "code",
   "execution_count": 10,
   "metadata": {},
   "outputs": [
    {
     "data": {
      "text/plain": [
       "[1, 2, 3, 4, 5]"
      ]
     },
     "execution_count": 10,
     "metadata": {},
     "output_type": "execute_result"
    }
   ],
   "source": [
    "unique_list([1,1,1,1,2,2,3,3,3,3,4,5])"
   ]
  },
  {
   "cell_type": "markdown",
   "metadata": {},
   "source": [
    "____\n",
    "**Schrijf een Python-functie om alle getallen in een lijst te vermenigvuldigen (multiply).**\n",
    "\n",
    "    Sample List : [1, 2, 3, -4]\n",
    "    Expected Output : -24"
   ]
  },
  {
   "cell_type": "code",
   "execution_count": 11,
   "metadata": {
    "collapsed": true
   },
   "outputs": [],
   "source": [
    "def multiply(numbers):\n",
    "    total = 1\n",
    "    for x in numbers:\n",
    "        total *= x\n",
    "    return total"
   ]
  },
  {
   "cell_type": "code",
   "execution_count": 12,
   "metadata": {},
   "outputs": [
    {
     "data": {
      "text/plain": [
       "-24"
      ]
     },
     "execution_count": 12,
     "metadata": {},
     "output_type": "execute_result"
    }
   ],
   "source": [
    "multiply([1,2,3,-4])"
   ]
  },
  {
   "cell_type": "markdown",
   "metadata": {},
   "source": [
    "\n",
    "____\n",
    "**Schrijf een Python-functie die controleert of een woord of zin palindroom is of niet.**\n",
    "\n",
    "Opmerking: een palindroom is een woord, zin of reeks die achterstevoren hetzelfde leest als vooruit, bijvoorbeeld \"madam\", \"kayak\", \"racecar\" of een zinsnede \"nurses run\". Hint: misschien wil je de methode .replace() in een string bekijken om te helpen bij het omgaan met spaties. Zoek ook op Google hoe u een string in Python kunt omkeren, er zijn enkele slimme manieren om dit te doen met slicing-notatie."
   ]
  },
  {
   "cell_type": "code",
   "execution_count": 13,
   "metadata": {
    "collapsed": true
   },
   "outputs": [],
   "source": [
    "def palindrome(s):\n",
    "    \n",
    "    s = s.replace(' ','') # This replaces all spaces ' ' with no space ''. (Fixes issues with strings that have spaces)\n",
    "    return s == s[::-1]   # Check through slicing"
   ]
  },
  {
   "cell_type": "code",
   "execution_count": 14,
   "metadata": {},
   "outputs": [
    {
     "data": {
      "text/plain": [
       "True"
      ]
     },
     "execution_count": 14,
     "metadata": {},
     "output_type": "execute_result"
    }
   ],
   "source": [
    "palindrome('nurses run')"
   ]
  },
  {
   "cell_type": "code",
   "execution_count": 15,
   "metadata": {},
   "outputs": [
    {
     "data": {
      "text/plain": [
       "True"
      ]
     },
     "execution_count": 15,
     "metadata": {},
     "output_type": "execute_result"
    }
   ],
   "source": [
    "palindrome('abcba')"
   ]
  },
  {
   "cell_type": "markdown",
   "metadata": {},
   "source": [
    "____\n",
    "#### Moeilijk:\n",
    "\n",
    "**Schrijf een Python-functie om te controleren of een string pangram is of niet. (Stel dat de ingevoerde tekenreeks geen leestekens/punctuation heeft)**\n",
    "\n",
    "     Let op: Pangrammen zijn woorden of zinnen die elke letter van het alfabet minstens één keer bevatten.\n",
    "     Bijvoorbeeld: \"The quick brown fox jumps over the lazy dog\"\n",
    "\n",
    "Hint: misschien wilt u de methode .replace() gebruiken om spaties te verwijderen.\n",
    "\n",
    "Hint: kijk naar de [string-module](https://stackoverflow.com/questions/16060899/alphabet-range-in-python)\n",
    "\n",
    "Hint: als je [set-vergelijkingen](https://medium.com/better-programming/a-visual-guide-to-set-comparisons-in-python-6ab7edb9ec41) wilt gebruiken"
   ]
  },
  {
   "cell_type": "code",
   "execution_count": 1,
   "metadata": {
    "collapsed": true
   },
   "outputs": [],
   "source": [
    "import string\n",
    "\n",
    "def is_pangram(str1, alphabet=string.ascii_lowercase): \n",
    "    # Create a set of the alphabet\n",
    "    alphaset = set(alphabet)  \n",
    "    \n",
    "    # Remove spaces from str1\n",
    "    str1 = str1.replace(\" \",'')\n",
    "    \n",
    "    # Lowercase all strings in the passed in string\n",
    "    # Recall we assume no punctuation \n",
    "    str1 = str1.lower()\n",
    "    \n",
    "    # Grab all unique letters in the string as a set\n",
    "    str1 = set(str1)\n",
    "    \n",
    "    # Now check that the alphabet set is same as string set\n",
    "    return str1 == alphaset"
   ]
  },
  {
   "cell_type": "code",
   "execution_count": 2,
   "metadata": {},
   "outputs": [
    {
     "data": {
      "text/plain": [
       "True"
      ]
     },
     "execution_count": 2,
     "metadata": {},
     "output_type": "execute_result"
    }
   ],
   "source": [
    "is_pangram(\"The quick brown fox jumps over the lazy dog\")"
   ]
  },
  {
   "cell_type": "code",
   "execution_count": 18,
   "metadata": {},
   "outputs": [
    {
     "data": {
      "text/plain": [
       "'abcdefghijklmnopqrstuvwxyz'"
      ]
     },
     "execution_count": 18,
     "metadata": {},
     "output_type": "execute_result"
    }
   ],
   "source": [
    "string.ascii_lowercase"
   ]
  },
  {
   "cell_type": "code",
   "execution_count": null,
   "metadata": {},
   "outputs": [],
   "source": [
    "# ATM app \n",
    "\n",
    "import time as t\n",
    "\n",
    "# 1. Maak een functie die de pincode van de gebruiker vraagt \n",
    "#    en checkt of deze gelijk is aan 1234. als het niet correct is, \n",
    "#    blijf om maximaal 3 keer te vragen totdat de gebruikersinvoer correct is. \n",
    "\n",
    "def check_pin(pincode):\n",
    "    correct_pincode_is_give = False\n",
    "    trial_counter = 0\n",
    "    while not correct_pincode_is_give:\n",
    "        trial_counter = trial_counter + 1\n",
    "        \n",
    "\n",
    "balance = 1000.00\n",
    "logs = dict()\n",
    "\n",
    "# 2. Als de pincode correct is, vraag dan de gebruiker om een bedrag op te nemen.\n",
    "#    Als het bedrag groter is dan de balance, geef dan een foutmelding.\n",
    "#    Blijf verder om te vragen totdat juiste amount is gegeven (bvb. 250, 500, maar niet -100, 1400, enz.)\n",
    "\n",
    "def withdraw(amount):\n",
    "    correct_amount_is_given = False\n",
    "    while not correct_amount_is_given:\n",
    "        if amount > balance:\n",
    "            warn_cannot_withdraw_more_than_balance()\n",
    "        elif amount < 0:\n",
    "            warn_cannot_withdraw_negative_amount()\n",
    "        else:\n",
    "            give_money(amount)\n",
    "            correct_amount_is_given = True\n",
    "\n",
    "# 3. Als het bedrag kleiner is dan de 'balance', \n",
    "# vraag dan als de geburiker wilt 'withdrawal' aanvaarden of niet.\n",
    "# (op een andere manier, als de gebruiker zeker is om verder te gaan of niet)\n",
    "\n",
    "def validate(are_you_sure, withdrawal_amount):\n",
    "    correct_choice_selected = False\n",
    "    while not correct_choice_selected:\n",
    "        sure = ask_to_confirm_withdrawal(withdrawal_amount)\n",
    "        if sure == \"y\":\n",
    "            inform_withdraw_in_progress()\n",
    "        elif sure == \"n\":\n",
    "            warn_that_withdraw_cancelled()\n",
    "        else:\n",
    "            ask_to_try_again()\n",
    "    \n",
    "\n",
    "# 4. Als de gebruiker validate bevestigt,\n",
    "#    geef dan het bedrag uit en geef een melding dat het geld is uitgegeven.\n",
    "\n",
    "def give_money(amount):\n",
    "    print(\"Please take your card and money from the ATM accordingly..\")\n",
    "    balance = balance - amount\n",
    "    \n",
    "\n",
    "# 5. Als de gebruiker validate niet bevestigt,\n",
    "#    geef dan een foutmelding en vraag de gebruiker om het bedrag opnieuw in te voeren.\n",
    "\n",
    "def ask_to_try_again():\n",
    "    message = \"Please enter a valid option to withdraw: 'y' for yes, 'n' for no.\"\n",
    "    print(message)\n",
    "    logs[t.time_ns, message]\n",
    "    \n",
    "def ask_to_confirm_withdrawal(amount):\n",
    "    message = \"Please confirm that you would like to withdraw {0}: y/n\".format(amount)\n",
    "    logs[t.time_ns, message]\n",
    "    return input(message)\n",
    "    \n",
    "def warn_that_withdraw_cancelled():\n",
    "    message = \"Withdrawal request is cancelled.\"\n",
    "    logs[t.time_ns, message]\n",
    "    print(message)\n",
    "    \n",
    "def inform_withdraw_in_progress(amount):\n",
    "    message = \"Withdrawal of {0} is in progress..\".format(amount)\n",
    "    print(message)\n",
    "    logs[t.time_ns, message]\n",
    "\n",
    "def warn_cannot_withdraw_negative_amount():\n",
    "    message = \"Please enter a POSITIVE value (an amount grater than zero).\"\n",
    "    print(message)\n",
    "    logs[t.time_ns, message]\n",
    "    \n",
    "def warn_cannot_withdraw_more_than_balance():\n",
    "    message = \"You can NOT withdraw more than {}.\".format(balance) \n",
    "    print(message)\n",
    "    logs[t.time_ns, message]\n",
    "\n",
    "# 6. Start de app met het aanroepen van de functies.\n",
    "\n",
    "\n",
    "    \n",
    "# 7. Druk all logs af met een splitter lijn boven en beneiden de logs\n",
    "#  -----------------------------------------------------------------\n",
    "#  \n"
   ]
  }
 ],
 "metadata": {
  "kernelspec": {
   "display_name": "lesgeven",
   "language": "python",
   "name": "python3"
  },
  "language_info": {
   "codemirror_mode": {
    "name": "ipython",
    "version": 3
   },
   "file_extension": ".py",
   "mimetype": "text/x-python",
   "name": "python",
   "nbconvert_exporter": "python",
   "pygments_lexer": "ipython3",
   "version": "3.10.8 | packaged by conda-forge | (main, Nov 24 2022, 14:07:00) [MSC v.1916 64 bit (AMD64)]"
  },
  "vscode": {
   "interpreter": {
    "hash": "9a3f8754118d89546ba66fd3e8c423f2768f1186c6b5f42757b60aabc450c67b"
   }
  }
 },
 "nbformat": 4,
 "nbformat_minor": 1
}
