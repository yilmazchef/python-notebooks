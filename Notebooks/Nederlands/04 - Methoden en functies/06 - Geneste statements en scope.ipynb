{
 "cells": [
  {
   "cell_type": "markdown",
   "metadata": {},
   "source": [
    "<center>\n",
    "    <img src='https://intecbrussel.be/img/logo3.png' width='400px' height='auto'/>\n",
    "    <br/>\n",
    "    <em>Python les-materialen</em>\n",
    "</center>"
   ]
  },
  {
   "cell_type": "markdown",
   "metadata": {},
   "source": [
    "# Geneste statements en scope\n",
    "\n",
    "Nu we onze eigen functies hebben geschreven, is het belangrijk om te begrijpen hoe Python omgaat met de variabelenamen die u toewijst. Wanneer u een variabelenaam in Python aanmaakt, wordt de naam opgeslagen in een *name-space*. Variabelenamen hebben ook een *scope*, de scope bepaalt de zichtbaarheid van die variabelenaam voor andere delen van je code.\n",
    "\n",
    "Laten we beginnen met een snel gedachte-experiment; stel je de volgende code voor:"
   ]
  },
  {
   "cell_type": "code",
   "execution_count": 1,
   "metadata": {
    "collapsed": true
   },
   "outputs": [],
   "source": [
    "x = 25\n",
    "\n",
    "def printer():\n",
    "    x = 50\n",
    "    return x\n",
    "\n",
    "# print(x)\n",
    "# print(printer())"
   ]
  },
  {
   "cell_type": "markdown",
   "metadata": {},
   "source": [
    "Wat denk je dat de uitvoer van printer() is? 25 of 50? Wat is de output van print x? 25 of 50?"
   ]
  },
  {
   "cell_type": "code",
   "execution_count": 2,
   "metadata": {},
   "outputs": [
    {
     "name": "stdout",
     "output_type": "stream",
     "text": [
      "25\n"
     ]
    }
   ],
   "source": [
    "print(x)"
   ]
  },
  {
   "cell_type": "code",
   "execution_count": 3,
   "metadata": {},
   "outputs": [
    {
     "name": "stdout",
     "output_type": "stream",
     "text": [
      "50\n"
     ]
    }
   ],
   "source": [
    "print(printer())"
   ]
  },
  {
   "cell_type": "markdown",
   "metadata": {},
   "source": [
    "Interessant! Maar hoe weet Python naar welke **x** je verwijst in je code? Hier komt het idee van bereik om de hoek kijken. Python heeft een reeks regels die het volgt om te beslissen naar welke variabelen (zoals **x** in dit geval) je verwijst in je code. Laten we de regels opsplitsen:"
   ]
  },
  {
   "cell_type": "markdown",
   "metadata": {
    "collapsed": true
   },
   "source": [
    "Dit idee van scope (reikwijdte) in uw code is vooral belangrijk om te begrijpen om namen van variabelen correct toe te wijzen en aan te roepen.\n",
    "\n",
    "In eenvoudige bewoordingen kan het idee van reikwijdte worden beschreven door 3 algemene regels:\n",
    "\n",
    "1. Naamtoewijzingen zullen standaard lokale namen maken of wijzigen.\n",
    "2. Naamreferenties zoeken (maximaal) vier scopes, dit zijn:\n",
    "     * local (lokaal)\n",
    "     * enclosing (insluitende) functies\n",
    "     * globaal\n",
    "     * (built-in) ingebouwd \n",
    "3. Namen gedeclareerd in globale en niet-lokale instructies wijzen toegewezen namen toe aan omsluitende (enclosing) module- en functie-scope.\n",
    "\n",
    "\n",
    "De verklaring in #2 hierboven kan worden gedefinieerd door de LEGB-regel.\n",
    "\n",
    "**LEGB-regel:**\n",
    "\n",
    "L: Local (Lokaal) — Namen die op enigerlei wijze binnen een functie zijn toegewezen (def of lambda), en niet globaal zijn gedeclareerd in die functie.\n",
    "\n",
    "E: Enclosing (Omsluitende) functie locals — Namen in het lokale bereik van alle omsluitende functies (def of lambda), van binnen naar buiten.\n",
    "\n",
    "G: Globaal (module) — Namen toegewezen op het hoogste niveau van een modulebestand, of globaal gedeclareerd in een definitie in het bestand.\n",
    "\n",
    "B: Built-in/Ingebouwd (Python) — Namen die vooraf zijn toegewezen in de ingebouwde namenmodule: open, range, SyntaxError,..."
   ]
  },
  {
   "cell_type": "markdown",
   "metadata": {},
   "source": [
    "## Snelle voorbeelden van LEGB\n",
    "\n",
    "### Lokaal"
   ]
  },
  {
   "cell_type": "code",
   "execution_count": 4,
   "metadata": {
    "collapsed": true
   },
   "outputs": [],
   "source": [
    "# x is local here:\n",
    "f = lambda x:x**2"
   ]
  },
  {
   "cell_type": "markdown",
   "metadata": {},
   "source": [
    "### Enclosing-Functie locals\n",
    "Dit gebeurt wanneer we een functie binnen een functie hebben (geneste functies)"
   ]
  },
  {
   "cell_type": "code",
   "execution_count": 5,
   "metadata": {},
   "outputs": [
    {
     "name": "stdout",
     "output_type": "stream",
     "text": [
      "Hello Sammy\n"
     ]
    }
   ],
   "source": [
    "name = 'This is a global name'\n",
    "\n",
    "def greet():\n",
    "    # Enclosing function\n",
    "    name = 'Sammy'\n",
    "    \n",
    "    def hello():\n",
    "        print('Hello '+name)\n",
    "    \n",
    "    hello()\n",
    "\n",
    "greet()"
   ]
  },
  {
   "cell_type": "markdown",
   "metadata": {},
   "source": [
    "Merk op hoe Sammy werd gebruikt, want de hallo()-functie was ingesloten (enclosed) in de greet()-functie!"
   ]
  },
  {
   "cell_type": "markdown",
   "metadata": {},
   "source": [
    "### Globaal\n",
    "Gelukkig kun je in Jupyter snel op globale variabelen testen door te kijken of een andere cel de variabele herkent!"
   ]
  },
  {
   "cell_type": "code",
   "execution_count": 6,
   "metadata": {},
   "outputs": [
    {
     "name": "stdout",
     "output_type": "stream",
     "text": [
      "This is a global name\n"
     ]
    }
   ],
   "source": [
    "print(name)"
   ]
  },
  {
   "cell_type": "markdown",
   "metadata": {},
   "source": [
    "### Built-in/Ingebouwd\n",
    "Dit zijn de ingebouwde functienamen in Python (overschrijf deze niet!)"
   ]
  },
  {
   "cell_type": "code",
   "execution_count": 7,
   "metadata": {},
   "outputs": [
    {
     "data": {
      "text/plain": [
       "<function len>"
      ]
     },
     "execution_count": 7,
     "metadata": {},
     "output_type": "execute_result"
    }
   ],
   "source": [
    "len"
   ]
  },
  {
   "cell_type": "markdown",
   "metadata": {},
   "source": [
    "## Lokale variabelen\n",
    "Wanneer u variabelen binnen een functiedefinitie declareert, zijn ze op geen enkele manier gerelateerd aan andere variabelen met dezelfde namen die buiten de functie worden gebruikt - d.w.z. de namen van variabelen zijn lokaal voor de functie. \n",
    "Dit wordt het scope/bereik van de variabele genoemd. Alle variabelen hebben het bereik van het blok waarin ze zijn gedeclareerd, te beginnen vanaf het punt van definitie van de naam.\n",
    "\n",
    "Voorbeeld:"
   ]
  },
  {
   "cell_type": "code",
   "execution_count": 8,
   "metadata": {},
   "outputs": [
    {
     "name": "stdout",
     "output_type": "stream",
     "text": [
      "x is 50\n",
      "Changed local x to 2\n",
      "x is still 50\n"
     ]
    }
   ],
   "source": [
    "x = 50\n",
    "\n",
    "def func(x):\n",
    "    print('x is', x)\n",
    "    x = 2\n",
    "    print('Changed local x to', x)\n",
    "\n",
    "func(x)\n",
    "print('x is still', x)"
   ]
  },
  {
   "cell_type": "markdown",
   "metadata": {},
   "source": [
    "De eerste keer dat we de waarde van de naam **x** afdrukken met de eerste regel in de hoofdtekst van de functie, gebruikt Python de waarde van de parameter die is gedeclareerd in het hoofdblok, boven de functiedefinitie.\n",
    "\n",
    "Vervolgens kennen we de waarde 2 toe aan **x**. De naam **x** is lokaal voor onze functie. Dus als we de waarde van **x** in de functie wijzigen, blijft de **x** gedefinieerd in het hoofdblok onaangetast (unaffected).\n",
    "\n",
    "Met de laatste printopdracht geven we de waarde van **x** weer zoals gedefinieerd in het hoofdblok, waarmee we bevestigen dat deze feitelijk niet wordt beïnvloed door de lokale toewijzing binnen de eerder aangeroepen functie.\n",
    "\n",
    "## Het <code>global</code> statement\n",
    "Als je een waarde wilt toewijzen aan een naam die is gedefinieerd op het hoogste niveau van het programma (dus niet binnen een bepaald bereik zoals functies of klassen), dan moet je Python vertellen dat de naam niet lokaal is, maar globaal. \n",
    "We doen dit met behulp van het <code>global</code> statement. Het is onmogelijk om een ​​waarde toe te wijzen aan een variabele die buiten een functie is gedefinieerd zonder de globale instructie.\n",
    "\n",
    "U kunt de waarden van dergelijke variabelen gebruiken die buiten de functie zijn gedefinieerd (ervan uitgaande dat er geen variabele met dezelfde naam in de functie is). \n",
    "Dit wordt echter niet aangemoedigd (encouraged) en moet worden vermeden, aangezien het voor de lezer van het programma onduidelijk wordt waar de definitie van die variabele is. \n",
    "Het gebruik van de <code>global</code>-instructie maakt het ruimschoots duidelijk dat de variabele is gedefinieerd in een buitenste blok.\n",
    "\n",
    "Voorbeeld:"
   ]
  },
  {
   "cell_type": "code",
   "execution_count": 9,
   "metadata": {},
   "outputs": [
    {
     "name": "stdout",
     "output_type": "stream",
     "text": [
      "Before calling func(), x is:  50\n",
      "This function is now using the global x!\n",
      "Because of global x is:  50\n",
      "Ran func(), changed global x to 2\n",
      "Value of x (outside of func()) is:  2\n"
     ]
    }
   ],
   "source": [
    "x = 50\n",
    "\n",
    "def func():\n",
    "    global x\n",
    "    print('This function is now using the global x!')\n",
    "    print('Because of global x is: ', x)\n",
    "    x = 2\n",
    "    print('Ran func(), changed global x to', x)\n",
    "\n",
    "print('Before calling func(), x is: ', x)\n",
    "func()\n",
    "print('Value of x (outside of func()) is: ', x)"
   ]
  },
  {
   "cell_type": "markdown",
   "metadata": {
    "collapsed": true
   },
   "source": [
    "De <code>global</code>-instructie wordt gebruikt om te verklaren dat **x** een globale variabele is - dus, wanneer we een waarde toewijzen aan **x** binnen de functie, wordt die verandering weergegeven wanneer we de waarde van **x** in het hoofdblok.\n",
    "\n",
    "U kunt meer dan één globale variabele specificeren met dezelfde globale instructie, b.v. <code>global x, y, z</code>."
   ]
  },
  {
   "cell_type": "markdown",
   "metadata": {
    "collapsed": true
   },
   "source": [
    "## Conclusie\n",
    "\n",
    "U zou nu een goed begrip van **scope** moeten hebben (u had intuïtief al gelijk over scope, wat geweldig is!) Een laatste opmerking is dat u de functies **globals()** en **locals()** kunt gebruiken om controleer wat uw huidige lokale en **globale variabelen** zijn.\n",
    "\n",
    "Een ander ding om in gedachten te houden is dat alles in Python een object is! Ik kan variabelen toewijzen aan functies, net zoals ik dat kan met getallen! We zullen dit nog eens bespreken in het gedeelte decorator (decorateur) van de cursus!"
   ]
  }
 ],
 "metadata": {
  "kernelspec": {
   "display_name": "Python 3",
   "language": "python",
   "name": "python3"
  },
  "language_info": {
   "codemirror_mode": {
    "name": "ipython",
    "version": 3
   },
   "file_extension": ".py",
   "mimetype": "text/x-python",
   "name": "python",
   "nbconvert_exporter": "python",
   "pygments_lexer": "ipython3",
   "version": "3.6.6"
  }
 },
 "nbformat": 4,
 "nbformat_minor": 1
}
