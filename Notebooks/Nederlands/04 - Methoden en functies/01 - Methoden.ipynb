{
 "cells": [
  {
   "cell_type": "markdown",
   "metadata": {},
   "source": [
    "<center>\n",
    "    <img src='https://intecbrussel.be/img/logo3.png' width='400px' height='auto'/>\n",
    "    <br/>\n",
    "    <em>Python les-materialen</em>\n",
    "</center>"
   ]
  },
  {
   "cell_type": "markdown",
   "metadata": {},
   "source": [
    "# Methoden en functies\n",
    "\n",
    "We hebben al een paar voorbeelden van methoden gezien bij het leren over object- en gegevensstructuurtypen in Python. Methoden zijn in wezen functies die in objecten zijn ingebouwd. \n",
    "Later in de cursus leren we hoe we onze eigen objecten en methoden kunnen maken met behulp van Object Oriented Programming (OOP) en klassen.\n",
    "\n",
    "Methoden voeren specifieke acties uit op een object en kunnen ook argumenten aannemen, net als een functie. \n",
    "Deze lezing is slechts een korte introductie tot methoden en zet je aan het denken over algemene ontwerpmethoden die we zullen bespreken wanneer we OOP in de cursus bereiken.\n",
    "\n",
    "Methoden zijn in de vorm:\n",
    "\n",
    "    object.method(arg1,arg2,etc...)\n",
    "    \n",
    "Je zult later zien dat we methoden kunnen zien als een argument 'zelf' dat verwijst naar het object zelf. Je kunt dit argument niet zien, maar we zullen het later in de cursus gebruiken tijdens de OOP-lezingen.\n",
    "\n",
    "Laten we eens kijken wat een voorbeeld is van de verschillende methoden die een lijst heeft:"
   ]
  },
  {
   "cell_type": "code",
   "execution_count": 1,
   "metadata": {
    "collapsed": true
   },
   "outputs": [],
   "source": [
    "# Create a simple list\n",
    "lst = [1,2,3,4,5,6,7,8,9,10]"
   ]
  },
  {
   "cell_type": "markdown",
   "metadata": {},
   "source": [
    "Gelukkig kunnen we met iPython en de Jupyter Notebook snel alle mogelijke methoden zien met behulp van de tab-toets (tab-key). De methoden voor een lijst zijn:\n",
    "\n",
    "* append\n",
    "* count\n",
    "* extend\n",
    "* insert\n",
    "* pop\n",
    "* remove\n",
    "* reverse\n",
    "* sort\n",
    "\n",
    "Laten we er een paar uitproberen:"
   ]
  },
  {
   "cell_type": "markdown",
   "metadata": {},
   "source": [
    "append() stelt ons in staat om elementen toe te voegen aan het einde van een lijst:"
   ]
  },
  {
   "cell_type": "code",
   "execution_count": 2,
   "metadata": {
    "collapsed": true
   },
   "outputs": [],
   "source": [
    "lst.append(6)\n"
   ]
  },
  {
   "cell_type": "code",
   "execution_count": 3,
   "metadata": {},
   "outputs": [
    {
     "data": {
      "text/plain": [
       "[1, 2, 3, 4, 5, 6]"
      ]
     },
     "execution_count": 3,
     "metadata": {},
     "output_type": "execute_result"
    }
   ],
   "source": [
    "lst"
   ]
  },
  {
   "cell_type": "markdown",
   "metadata": {},
   "source": [
    "Geweldig! Hoe zit het nu met tellen ()? De methode count() telt het aantal keren dat een element in een lijst voorkomt."
   ]
  },
  {
   "cell_type": "code",
   "execution_count": 4,
   "metadata": {},
   "outputs": [
    {
     "data": {
      "text/plain": [
       "1"
      ]
     },
     "execution_count": 4,
     "metadata": {},
     "output_type": "execute_result"
    }
   ],
   "source": [
    "# Controleer hoe vaak 2 in de lijst voorkomt\n",
    "lst.count(2)"
   ]
  },
  {
   "cell_type": "markdown",
   "metadata": {},
   "source": [
    "U kunt altijd Shift+Tab gebruiken in Jupyter Notebook om meer hulp over de methode te krijgen. In Python kun je in het algemeen de help() functie gebruiken:"
   ]
  },
  {
   "cell_type": "code",
   "execution_count": 5,
   "metadata": {},
   "outputs": [
    {
     "name": "stdout",
     "output_type": "stream",
     "text": [
      "Help on built-in function count:\n",
      "\n",
      "count(...) method of builtins.list instance\n",
      "    L.count(value) -> integer -- return number of occurrences of value\n",
      "\n"
     ]
    }
   ],
   "source": [
    "help(lst.count)"
   ]
  },
  {
   "cell_type": "markdown",
   "metadata": {},
   "source": [
    "Voel je vrij om te spelen met de rest van de methoden voor een lijst. Verderop in dit gedeelte zal je quiz gebruik maken van help en Google zoeken naar methoden voor verschillende soorten objecten!"
   ]
  },
  {
   "cell_type": "markdown",
   "metadata": {},
   "source": [
    "Geweldig! Door deze lezing zou je je op je gemak moeten voelen bij het aanroepen van methoden van objecten in Python!"
   ]
  }
 ],
 "metadata": {
  "kernelspec": {
   "display_name": "Python 3",
   "language": "python",
   "name": "python3"
  },
  "language_info": {
   "codemirror_mode": {
    "name": "ipython",
    "version": 3
   },
   "file_extension": ".py",
   "mimetype": "text/x-python",
   "name": "python",
   "nbconvert_exporter": "python",
   "pygments_lexer": "ipython3",
   "version": "3.6.6"
  }
 },
 "nbformat": 4,
 "nbformat_minor": 1
}
