{
 "cells": [
  {
   "cell_type": "markdown",
   "metadata": {},
   "source": [
    "# Overerving en inheritance\n",
    "\n",
    "> Fives types of inheritance in python\n",
    "1) Single Inheritance\n",
    "2) Multi level Inheritance\n",
    "3) Hierarchical Inheritance\n",
    "4) Multiple Inheritance\n",
    "5) Hybrid Inheritance\n",
    "6) Cyclic Inheritance"
   ]
  },
  {
   "cell_type": "markdown",
   "metadata": {},
   "source": [
    "## Single Inheritance :- contains single parent and single child class"
   ]
  },
  {
   "cell_type": "code",
   "execution_count": 3,
   "metadata": {},
   "outputs": [
    {
     "name": "stdout",
     "output_type": "stream",
     "text": [
      "Parent class Method\n",
      "Child class method\n"
     ]
    }
   ],
   "source": [
    "class Parent:\n",
    "    def m1(self):\n",
    "        print(\"Parent class Method\")\n",
    "\n",
    "\n",
    "class Child(Parent):\n",
    "    def m2(self):\n",
    "        print(\"Child class method\")\n",
    "\n",
    "\n",
    "c = Child()\n",
    "c.m1()\n",
    "c.m2()"
   ]
  },
  {
   "cell_type": "markdown",
   "metadata": {},
   "source": [
    "## Multi level Inheritance :- The concept of inheriting members from multiple classes to a single child class one after other is called MULTIPLE LEVEL INHERITANCE\n",
    "\n"
   ]
  },
  {
   "cell_type": "code",
   "execution_count": 5,
   "metadata": {},
   "outputs": [
    {
     "name": "stdout",
     "output_type": "stream",
     "text": [
      "Parent class object\n",
      "Child class object\n",
      "Child2 class object\n"
     ]
    }
   ],
   "source": [
    "class Parent:\n",
    "    def m1(self):\n",
    "        print(\"Parent class object\")\n",
    "\n",
    "\n",
    "class Child(Parent):\n",
    "    def m2(self):\n",
    "        print(\"Child class object\")\n",
    "\n",
    "\n",
    "class Child2(Child):\n",
    "    def m3(self):\n",
    "        print(\"Child2 class object\")\n",
    "\n",
    "\n",
    "c = Child2()\n",
    "c.m1()\n",
    "c.m2()\n",
    "c.m3()\n",
    "# Any(multiple) number of levels possible"
   ]
  },
  {
   "cell_type": "markdown",
   "metadata": {},
   "source": [
    "## Hierarchical Inheritance :- single parent class multiple child clases"
   ]
  },
  {
   "cell_type": "code",
   "execution_count": 8,
   "metadata": {},
   "outputs": [
    {
     "name": "stdout",
     "output_type": "stream",
     "text": [
      "Parent class object\n",
      "Child1 class object\n",
      "Parent class object\n",
      "Child2 class object\n"
     ]
    }
   ],
   "source": [
    "class Parent:\n",
    "    def m1(self):\n",
    "        print(\"Parent class object\")\n",
    "\n",
    "\n",
    "class Child1(Parent):\n",
    "    def m2(self):\n",
    "        print(\"Child1 class object\")\n",
    "\n",
    "\n",
    "class Child2(Parent):\n",
    "    def m3(self):\n",
    "        print(\"Child2 class object\")\n",
    "\n",
    "\n",
    "c = Child1()\n",
    "c.m1()\n",
    "c.m2()\n",
    "# Here c.m3() will get error\n",
    "c = Child2()\n",
    "c.m1()\n",
    "c.m3()\n",
    "# Here c.m2() will get error"
   ]
  },
  {
   "cell_type": "markdown",
   "metadata": {},
   "source": [
    "## Multiple Inheritance :- Multiple parent classes and single chils class"
   ]
  },
  {
   "cell_type": "code",
   "execution_count": 10,
   "metadata": {},
   "outputs": [
    {
     "name": "stdout",
     "output_type": "stream",
     "text": [
      "Parent1 class object\n",
      "Parent2 class object\n",
      "Child class object\n"
     ]
    }
   ],
   "source": [
    "class Parent1:\n",
    "    def m1(self):\n",
    "        print(\"Parent1 class object\")\n",
    "\n",
    "\n",
    "class Parent2():\n",
    "    def m2(self):\n",
    "        print(\"Parent2 class object\")\n",
    "\n",
    "\n",
    "class Child(Parent1, Parent2):\n",
    "    def m3(self):\n",
    "        print(\"Child class object\")\n",
    "\n",
    "\n",
    "c = Child()\n",
    "c.m1()\n",
    "c.m2()\n",
    "c.m3()"
   ]
  },
  {
   "cell_type": "markdown",
   "metadata": {},
   "source": [
    "### Hybrid Inheritance :- combination of all the above Inheritances order will be decided by MRO Method Resolution Order Algorithm. Even two types of inheritance is used itis called Hybrid Inheritance."
   ]
  },
  {
   "cell_type": "markdown",
   "metadata": {},
   "source": [
    "### Cyclic Inheritance"
   ]
  },
  {
   "cell_type": "code",
   "execution_count": 13,
   "metadata": {},
   "outputs": [
    {
     "name": "stdout",
     "output_type": "stream",
     "text": [
      "Name Raj\n",
      "Age 25\n",
      "Height 5.6\n",
      "Weight 75\n",
      "Rollno 587\n",
      "Marks 90\n"
     ]
    }
   ],
   "source": [
    "class Person:\n",
    "    def __init__(self, name, age, height, weight):\n",
    "        self.name = name\n",
    "        self.age = age\n",
    "        self.height = height\n",
    "        self.weight = weight\n",
    "\n",
    "    def display(self):\n",
    "        print(\"Name\", self.name)\n",
    "        print(\"Age\", self.age)\n",
    "        print(\"Height\", self.height)\n",
    "        print(\"Weight\", self.weight)\n",
    "\n",
    "\n",
    "class Student(Person):\n",
    "    def __init__(self, name, age, height, weight, rollno, marks):\n",
    "        self.name = name\n",
    "        self.age = age\n",
    "        self.height = height\n",
    "        self.weight = weight\n",
    "        self.rollno = rollno\n",
    "        self.marks = marks\n",
    "\n",
    "    def display(self):\n",
    "        print(\"Name\", self.name)\n",
    "        print(\"Age\", self.age)\n",
    "        print(\"Height\", self.height)\n",
    "        print(\"Weight\", self.weight)\n",
    "        print(\"Rollno\", self.rollno)\n",
    "        print(\"Marks\", self.marks)\n",
    "\n",
    "\n",
    "s = Student(\"Raj\", 25, 5.6, 75, 587, 90)\n",
    "s.display()"
   ]
  },
  {
   "cell_type": "code",
   "execution_count": 15,
   "metadata": {},
   "outputs": [
    {
     "name": "stdout",
     "output_type": "stream",
     "text": [
      "Name Raj\n",
      "Age 25\n",
      "Height 5.6\n",
      "Weight 75\n",
      "Rollno 587\n",
      "Marks 90\n"
     ]
    }
   ],
   "source": [
    "# Now by using super() method\n",
    "class Person:\n",
    "    def __init__(self, name, age, height, weight):\n",
    "        self.name = name\n",
    "        self.age = age\n",
    "        self.height = height\n",
    "        self.weight = weight\n",
    "\n",
    "    def display(self):\n",
    "        print(\"Name\", self.name)\n",
    "        print(\"Age\", self.age)\n",
    "        print(\"Height\", self.height)\n",
    "        print(\"Weight\", self.weight)\n",
    "\n",
    "\n",
    "class Student(Person):\n",
    "    def __init__(self, name, age, height, weight, rollno, marks):\n",
    "        super().__init__(name, age, height, weight)\n",
    "        self.rollno = rollno\n",
    "        self.marks = marks\n",
    "\n",
    "    def display(self):\n",
    "        super().display()\n",
    "        print(\"Rollno\", self.rollno)\n",
    "        print(\"Marks\", self.marks)\n",
    "\n",
    "\n",
    "s = Student(\"Raj\", 25, 5.6, 75, 587, 90)\n",
    "s.display()"
   ]
  },
  {
   "cell_type": "code",
   "execution_count": 1,
   "metadata": {},
   "outputs": [
    {
     "name": "stdout",
     "output_type": "stream",
     "text": [
      "Parent constructor\n",
      "Parent Instance method\n",
      "parent class method\n",
      "Parent static method\n"
     ]
    }
   ],
   "source": [
    "class P:\n",
    "    def __init__(self):\n",
    "        print(\"Parent constructor\")\n",
    "\n",
    "    def m1(self):\n",
    "        print(\"Parent Instance method\")\n",
    "\n",
    "    @classmethod\n",
    "    def m2(cls):\n",
    "        print(\"parent class method\")\n",
    "\n",
    "    @staticmethod\n",
    "    def m3():\n",
    "        print(\"Parent static method\")\n",
    "\n",
    "\n",
    "class C(P):\n",
    "    def __init__(self):\n",
    "        super().__init__()\n",
    "        super().m1()\n",
    "        super().m2()\n",
    "        super().m3()\n",
    "\n",
    "\n",
    "c = C()"
   ]
  },
  {
   "cell_type": "markdown",
   "metadata": {},
   "source": [
    "### POLYMORPHISM"
   ]
  },
  {
   "cell_type": "code",
   "execution_count": 2,
   "metadata": {},
   "outputs": [
    {
     "name": "stdout",
     "output_type": "stream",
     "text": [
      "500\n"
     ]
    }
   ],
   "source": [
    "class Book:\n",
    "    def __init__(self, pages):\n",
    "        self.pages = pages\n",
    "\n",
    "    def __add__(self, other):\n",
    "        total_pages = self.pages + other.pages\n",
    "        return total_pages\n",
    "\n",
    "\n",
    "b1 = Book(200)\n",
    "b2 = Book(300)\n",
    "print(b1 + b2)"
   ]
  },
  {
   "cell_type": "code",
   "execution_count": 4,
   "metadata": {},
   "outputs": [
    {
     "name": "stdout",
     "output_type": "stream",
     "text": [
      "500\n",
      "700\n",
      "800\n",
      "30\n",
      "POLYMORPHISM\n"
     ]
    }
   ],
   "source": [
    "class Book:\n",
    "    def __init__(self, pages):\n",
    "        self.pages = pages\n",
    "\n",
    "    def __add__(self, other):\n",
    "        total_pages = self.pages + other.pages\n",
    "        return total_pages\n",
    "\n",
    "\n",
    "b1 = Book(200)\n",
    "b2 = Book(300)\n",
    "b3 = Book(500)\n",
    "print(b1 + b2)\n",
    "print(b1 + b3)\n",
    "print(b2 + b3)\n",
    "print(10 + 20)\n",
    "print(\"POLY\" + \"MORPHISM\")"
   ]
  },
  {
   "cell_type": "raw",
   "metadata": {},
   "source": [
    "+ -----> __add__()\n",
    "- ------> __sub__()\n",
    "* ------> __mul__()\n",
    "/ ------> __div__()\n",
    "// ------> __floordiv__()\n",
    "** ------> __pow__()\n",
    "% -------> __mod__()"
   ]
  },
  {
   "cell_type": "raw",
   "metadata": {},
   "source": [
    "+= -----> __iadd__()\n",
    "-= ------> __isub__()\n",
    "*= ------> __imul__()\n",
    "/= ------> __idiv__()\n",
    "//= ------> __ifloordiv__()\n",
    "**= ------> __ipow__()\n",
    "%= -------> __imod__()"
   ]
  },
  {
   "cell_type": "raw",
   "metadata": {},
   "source": [
    "< -----> __lt__()\n",
    "> -----> __gt__()\n",
    "<= -----> __le__()\n",
    ">= -----> __ge__()\n",
    "== -----> __eq__()\n",
    "!= -----> __ne__()"
   ]
  },
  {
   "cell_type": "code",
   "execution_count": 10,
   "metadata": {},
   "outputs": [
    {
     "name": "stdout",
     "output_type": "stream",
     "text": [
      "True\n",
      "False\n",
      "True\n"
     ]
    }
   ],
   "source": [
    "class Student:\n",
    "    def __init__(self, name, marks):\n",
    "        self.name = name\n",
    "        self.marks = marks\n",
    "\n",
    "    def __lt__(self, other):\n",
    "        result = self.marks < other.marks\n",
    "        return result\n",
    "\n",
    "    def __le__(self, other):\n",
    "        result = self.marks <= other.marks\n",
    "        return result\n",
    "\n",
    "\n",
    "s1 = Student(\"one\", 100)\n",
    "s2 = Student(\"two\", 200)\n",
    "s3 = Student(\"three\", 50)\n",
    "\n",
    "print(s1 < s2)\n",
    "print(s2 < s3)\n",
    "print(s3 <= s1)"
   ]
  },
  {
   "cell_type": "code",
   "execution_count": 12,
   "metadata": {},
   "outputs": [
    {
     "name": "stdout",
     "output_type": "stream",
     "text": [
      "This month salary 25000\n",
      "This month salary 25000\n"
     ]
    }
   ],
   "source": [
    "class Employee:\n",
    "    def __init__(self, name, salary):\n",
    "        self.name = name\n",
    "        self.salary = salary\n",
    "\n",
    "    def __mul__(self,\n",
    "                other):  ## Here in Employee function we used magic function(mul) because in first print function we used \"e\"(argument in print function) reference variable first\n",
    "        result = self.salary * other.days\n",
    "        return result\n",
    "\n",
    "\n",
    "class TimeSheet:\n",
    "    def __init__(self, name, days):\n",
    "        self.name = name\n",
    "        self.days = days\n",
    "\n",
    "    def __mul__(self,\n",
    "                other):  ## Here in TimeStamp function we used magic function(mul) because in first print function we used \"t\"(argument in print function) reference variable first\n",
    "        result = self.days * other.salary\n",
    "        return result\n",
    "\n",
    "\n",
    "e = Employee(\"one\", 1000)\n",
    "t = TimeSheet(\"two\", 25)\n",
    "\n",
    "print(\"This month salary\", e * t)\n",
    "print(\"This month salary\", t * e)"
   ]
  },
  {
   "cell_type": "code",
   "execution_count": 17,
   "metadata": {},
   "outputs": [
    {
     "name": "stdout",
     "output_type": "stream",
     "text": [
      "one\n",
      "two\n"
     ]
    }
   ],
   "source": [
    "class Student:\n",
    "    def __init__(self, name, marks):\n",
    "        self.name = name\n",
    "        self.marks = marks\n",
    "\n",
    "    def __str__(self):\n",
    "        return self.name\n",
    "        #return self.marks # Error int type\n",
    "\n",
    "\n",
    "s1 = Student(\"one\", 90)\n",
    "s2 = Student(\"two\", 95)\n",
    "\n",
    "print(s1)\n",
    "print(s2)"
   ]
  },
  {
   "cell_type": "code",
   "execution_count": 18,
   "metadata": {},
   "outputs": [
    {
     "name": "stdout",
     "output_type": "stream",
     "text": [
      "Student with Name:one,Marks:90\n",
      "Student with Name:two,Marks:95\n"
     ]
    }
   ],
   "source": [
    "class Student:\n",
    "    def __init__(self, name, marks):\n",
    "        self.name = name\n",
    "        self.marks = marks\n",
    "\n",
    "    def __str__(self):\n",
    "        return \"Student with Name:{},Marks:{}\".format(self.name, self.marks)\n",
    "\n",
    "\n",
    "s1 = Student(\"one\", 90)\n",
    "s2 = Student(\"two\", 95)\n",
    "\n",
    "print(s1)\n",
    "print(s2)"
   ]
  },
  {
   "cell_type": "code",
   "execution_count": 19,
   "metadata": {},
   "outputs": [
    {
     "name": "stdout",
     "output_type": "stream",
     "text": [
      "90\n",
      "95\n"
     ]
    }
   ],
   "source": [
    "class Student:\n",
    "    def __init__(self, name, marks):\n",
    "        self.name = name\n",
    "        self.marks = marks\n",
    "\n",
    "    def __str__(self):\n",
    "        return str(self.marks)\n",
    "\n",
    "\n",
    "s1 = Student(\"one\", 90)\n",
    "s2 = Student(\"two\", 95)\n",
    "print(s1)\n",
    "print(s2)"
   ]
  },
  {
   "cell_type": "code",
   "execution_count": null,
   "metadata": {},
   "outputs": [],
   "source": []
  },
  {
   "cell_type": "code",
   "execution_count": null,
   "metadata": {},
   "outputs": [],
   "source": []
  },
  {
   "cell_type": "code",
   "execution_count": null,
   "metadata": {},
   "outputs": [],
   "source": []
  },
  {
   "cell_type": "code",
   "execution_count": null,
   "metadata": {},
   "outputs": [],
   "source": []
  },
  {
   "cell_type": "code",
   "execution_count": null,
   "metadata": {},
   "outputs": [],
   "source": []
  },
  {
   "cell_type": "code",
   "execution_count": null,
   "metadata": {},
   "outputs": [],
   "source": []
  }
 ],
 "metadata": {
  "kernelspec": {
   "display_name": "Python 3",
   "language": "python",
   "name": "python3"
  },
  "language_info": {
   "codemirror_mode": {
    "name": "ipython",
    "version": 3
   },
   "file_extension": ".py",
   "mimetype": "text/x-python",
   "name": "python",
   "nbconvert_exporter": "python",
   "pygments_lexer": "ipython3",
   "version": "3.8.5"
  }
 },
 "nbformat": 4,
 "nbformat_minor": 4
}