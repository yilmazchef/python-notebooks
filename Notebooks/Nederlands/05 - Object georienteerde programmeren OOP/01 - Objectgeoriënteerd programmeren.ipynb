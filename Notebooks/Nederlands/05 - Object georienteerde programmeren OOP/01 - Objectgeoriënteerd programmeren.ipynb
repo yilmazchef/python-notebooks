{
 "cells": [
  {
   "cell_type": "markdown",
   "metadata": {},
   "source": [
    "<center>\n",
    "    <img src='https://intecbrussel.be/img/logo3.png' width='400px' height='auto'/>\n",
    "    <br/>\n",
    "    <em>Python les-materialen</em>\n",
    "</center>"
   ]
  },
  {
   "cell_type": "markdown",
   "metadata": {
    "collapsed": true
   },
   "source": [
    "# OOP: Object georiënteerd programmeren\n",
    "\n",
    "Objectgeoriënteerd programmeren (OOP: Object Oriented Programming) is meestal een van de grootste obstakels voor beginners wanneer ze voor het eerst Python beginnen te leren.\n",
    "\n",
    "Er zijn heel veel tutorials en lessen over OOP, dus voel je vrij om op Google te zoeken naar andere lessen, en ik heb ook enkele links naar andere nuttige tutorials online onder aan dit notitieblok geplaatst.\n",
    "\n",
    "Voor deze les bouwen we onze kennis van OOP in Python op door voort te bouwen op de volgende onderwerpen:\n",
    "\n",
    "* Voorwerpen\n",
    "* Gebruik het *class* trefwoord\n",
    "* Klassenattributen maken\n",
    "* Methoden maken in een klasse\n",
    "* Leren over inheritance (erfelijkheid)\n",
    "* Leren over polymorfisme\n",
    "* Leren over speciale methoden voor lessen\n",
    "\n",
    "Laten we de les beginnen door te onthouden over de basis python-objecten. Bijvoorbeeld:"
   ]
  },
  {
   "cell_type": "code",
   "execution_count": 1,
   "metadata": {
    "collapsed": true
   },
   "outputs": [],
   "source": [
    "lst = [1,2,3]"
   ]
  },
  {
   "cell_type": "markdown",
   "metadata": {},
   "source": [
    "Weet je nog hoe we methoden op een lijst konden aanroepen?"
   ]
  },
  {
   "cell_type": "code",
   "execution_count": 2,
   "metadata": {},
   "outputs": [
    {
     "data": {
      "text/plain": [
       "1"
      ]
     },
     "execution_count": 2,
     "metadata": {},
     "output_type": "execute_result"
    }
   ],
   "source": [
    "lst.count(2)"
   ]
  },
  {
   "cell_type": "markdown",
   "metadata": {},
   "source": [
    "Wat we in deze lezing gaan doen, is onderzoeken hoe we een objecttype zoals een lijst kunnen maken. We hebben al geleerd hoe u functies maakt. Laten we objecten in het algemeen onderzoeken:\n",
    "\n",
    "## Voorwerpen\n",
    "In Python is *alles een object*. Onthoud uit eerdere lezingen dat we type() kunnen gebruiken om te controleren welk type object iets is:"
   ]
  },
  {
   "cell_type": "code",
   "execution_count": 3,
   "metadata": {},
   "outputs": [
    {
     "name": "stdout",
     "output_type": "stream",
     "text": [
      "<class 'int'>\n",
      "<class 'list'>\n",
      "<class 'tuple'>\n",
      "<class 'dict'>\n"
     ]
    }
   ],
   "source": [
    "print(type(1))\n",
    "print(type([]))\n",
    "print(type(()))\n",
    "print(type({}))"
   ]
  },
  {
   "cell_type": "markdown",
   "metadata": {},
   "source": [
    "Dus we weten dat al deze dingen objecten zijn, dus hoe kunnen we onze eigen objecttypes maken? \n",
    "\n",
    "## class\n",
    "De gebruiker gedefinieerde (user-defined) objecten worden gemaakt met het trefwoord <code>class</code>. De klasse is een blauwdruk/sjabloon die de aard van een toekomstig object definieert. Van klassen kunnen we instanties construeren. \n",
    "Een instantie is een specifiek object dat is gemaakt op basis van een bepaalde klasse. Hierboven hebben we bijvoorbeeld het object <code>lst</code> gemaakt, dat een instantie was van een list-object.\n",
    "\n",
    "Laten we eens kijken hoe we <code>class</code> kunnen gebruiken:"
   ]
  },
  {
   "cell_type": "code",
   "execution_count": 4,
   "metadata": {},
   "outputs": [
    {
     "name": "stdout",
     "output_type": "stream",
     "text": [
      "<class '__main__.Sample'>\n"
     ]
    }
   ],
   "source": [
    "# Maak een nieuw objecttype aan met de naam Sample\n",
    "class Sample:\n",
    "    pass\n",
    "\n",
    "# Een instantie van de klas Sample\n",
    "x = Sample()\n",
    "\n",
    "print(type(x))"
   ]
  },
  {
   "cell_type": "markdown",
   "metadata": {},
   "source": [
    "Volgens conventies geven we klassen een naam die begint met een **hoofdletter**. Merk op hoe <code>x</code> nu de referentie is naar onze nieuwe instantie van een voorbeeldklasse. Met andere woorden, we **instantiëren** de Sample-klasse.\n",
    "\n",
    "Binnen in de klas hebben we momenteel alleen pas. Maar we kunnen klassenattributen en -methoden definiëren.\n",
    "\n",
    "Een **attribuut** is een kenmerk (characteristic) van een object.\n",
    "\n",
    "Een **methode** is een bewerking/operatie die we met het object kunnen uitvoeren.\n",
    "\n",
    "We kunnen bijvoorbeeld een klasse maken met de naam Dog. Een kenmerk van een hond kan zijn ras of zijn naam zijn, terwijl een methode van een hond kan worden gedefinieerd door een .bark() -methode die een geluid retourneert.\n",
    "\n",
    "Laten we aan de hand van een voorbeeld een beter begrip van attributen krijgen.\n",
    "\n",
    "## Attributen\n",
    "De syntaxis voor het maken van een attribuut is:\n",
    "    \n",
    "     self.attribute = something\n",
    "    \n",
    "Er is een speciale methode genaamd:\n",
    "\n",
    "     __init__()\n",
    "\n",
    "Deze methode wordt gebruikt om de attributen van een object te **initialiseren**. Bijvoorbeeld:"
   ]
  },
  {
   "cell_type": "code",
   "execution_count": 5,
   "metadata": {
    "collapsed": true
   },
   "outputs": [],
   "source": [
    "class Dog:\n",
    "    def __init__(self,breed):\n",
    "        self.breed = breed\n",
    "\n",
    "sam = Dog(breed='Lab')\n",
    "frank = Dog(breed='Huskie')"
   ]
  },
  {
   "cell_type": "markdown",
   "metadata": {},
   "source": [
    "Laten we opsplitsen wat we hierboven hebben. De speciale methode:\n",
    "\n",
    "    __init__() \n",
    "wordt automatisch aangeroepen direct nadat het object is gemaakt:\n",
    "\n",
    "    def __init__(self, breed):\n",
    "Elk attribuut in een klassendefinitie begint met een verwijzing naar het instantieobject. Het wordt volgens afspraak zelf genoemd. Het ras is het argument. De waarde wordt doorgegeven tijdens de instantie van de klasse.\n",
    "\n",
    "     self.breed = breed"
   ]
  },
  {
   "cell_type": "markdown",
   "metadata": {},
   "source": [
    "Nu hebben we twee instanties van de klasse Dog gemaakt. Met twee rassen (breed) hebben we dan als volgt toegang tot deze attributen:"
   ]
  },
  {
   "cell_type": "code",
   "execution_count": 6,
   "metadata": {},
   "outputs": [
    {
     "data": {
      "text/plain": [
       "'Lab'"
      ]
     },
     "execution_count": 6,
     "metadata": {},
     "output_type": "execute_result"
    }
   ],
   "source": [
    "sam.breed"
   ]
  },
  {
   "cell_type": "code",
   "execution_count": 7,
   "metadata": {},
   "outputs": [
    {
     "data": {
      "text/plain": [
       "'Huskie'"
      ]
     },
     "execution_count": 7,
     "metadata": {},
     "output_type": "execute_result"
    }
   ],
   "source": [
    "frank.breed"
   ]
  },
  {
   "cell_type": "markdown",
   "metadata": {},
   "source": [
    "Merk op dat we geen haakjes hebben na 'breed'; dit komt omdat het een **attribuut** is en er **geen argumenten** voor nodig zijn.\n",
    "\n",
    "In Python zijn er ook *Class Object Attributes*. Deze klassenobjectkenmerken zijn hetzelfde voor elk exemplaar van de klasse. \n",
    "We kunnen bijvoorbeeld het attribuut *species* maken voor de klasse 'Dog'. Honden, ongeacht hun ras, naam of andere eigenschappen, zullen altijd zoogdieren (mammals) zijn. \n",
    "We passen deze logica op de volgende manier toe:"
   ]
  },
  {
   "cell_type": "code",
   "execution_count": 8,
   "metadata": {
    "collapsed": true
   },
   "outputs": [],
   "source": [
    "class Dog:\n",
    "    \n",
    "    # Class Object Attribute\n",
    "    species = 'mammal'\n",
    "    \n",
    "    def __init__(self,breed,name):\n",
    "        self.breed = breed\n",
    "        self.name = name"
   ]
  },
  {
   "cell_type": "code",
   "execution_count": 9,
   "metadata": {
    "collapsed": true
   },
   "outputs": [],
   "source": [
    "sam = Dog('Lab','Sam')"
   ]
  },
  {
   "cell_type": "code",
   "execution_count": 10,
   "metadata": {},
   "outputs": [
    {
     "data": {
      "text/plain": [
       "'Sam'"
      ]
     },
     "execution_count": 10,
     "metadata": {},
     "output_type": "execute_result"
    }
   ],
   "source": [
    "sam.name"
   ]
  },
  {
   "cell_type": "markdown",
   "metadata": {},
   "source": [
    "Merk op dat het class-object-attribuut buiten alle methoden in de klasse wordt gedefinieerd. Ook volgens conventies plaatsen we ze eerst voor de init."
   ]
  },
  {
   "cell_type": "code",
   "execution_count": 11,
   "metadata": {},
   "outputs": [
    {
     "data": {
      "text/plain": [
       "'mammal'"
      ]
     },
     "execution_count": 11,
     "metadata": {},
     "output_type": "execute_result"
    }
   ],
   "source": [
    "sam.species"
   ]
  },
  {
   "cell_type": "markdown",
   "metadata": {},
   "source": [
    "## Methoden\n",
    "\n",
    "Methoden zijn **functies** die zijn gedefinieerd in de **body** van een klasse. Ze worden gebruikt om operaties uit te voeren met de attributen van onze objecten. Methoden zijn een sleutelconcept van het OOP-paradigma. Ze zijn essentieel voor het verdelen van verantwoordelijkheden bij het programmeren, vooral bij grote toepassingen.\n",
    "\n",
    "U kunt methoden zien als functies die op een object inwerken (acting) en waarbij rekening wordt gehouden met het object zelf via het *self*-argument.\n",
    "\n",
    "Laten we een voorbeeld bekijken van het maken van een Circle-klasse:"
   ]
  },
  {
   "cell_type": "code",
   "execution_count": 12,
   "metadata": {},
   "outputs": [
    {
     "name": "stdout",
     "output_type": "stream",
     "text": [
      "Radius is:  1\n",
      "Area is:  3.14\n",
      "Circumference is:  6.28\n"
     ]
    }
   ],
   "source": [
    "class Circle:\n",
    "    pi = 3.14\n",
    "\n",
    "    # Cirkel wordt geïnstantieerd met een straal (radius) (standaard is 1)\n",
    "    def __init__(self, radius=1):\n",
    "        self.radius = radius \n",
    "        self.area = radius * radius * Circle.pi\n",
    "\n",
    "    # Methode voor het resetten van Radius\n",
    "    def setRadius(self, new_radius):\n",
    "        self.radius = new_radius\n",
    "        self.area = new_radius * new_radius * self.pi\n",
    "\n",
    "    # Methode voor het verkrijgen van omtrek (circumference)\n",
    "    def getCircumference(self):\n",
    "        return self.radius * self.pi * 2\n",
    "\n",
    "\n",
    "c = Circle()\n",
    "\n",
    "print('Radius is: ', c.radius)\n",
    "print('Area is: ', c.area)\n",
    "print('Circumference is: ', c.getCircumference())"
   ]
  },
  {
   "cell_type": "markdown",
   "metadata": {},
   "source": [
    "In de \\__init__ methode hierboven moesten we Circle.pi aanroepen om het oppervlakteattribuut (area) te berekenen. Dit komt omdat het object nog geen eigen .pi-attribuut heeft, dus we noemen het Class Object Attribute pi in plaats daarvan.<br>\n",
    "In de setRadius-methode werken we echter met een bestaand Circle-object dat wel zijn eigen pi-attribuut heeft. Hier kunnen we Circle.pi of self.pi gebruiken.<br><br>\n",
    "Laten we nu de straal (radius) veranderen en kijken hoe dat ons Circle-object beïnvloedt (affect):"
   ]
  },
  {
   "cell_type": "code",
   "execution_count": 13,
   "metadata": {},
   "outputs": [
    {
     "name": "stdout",
     "output_type": "stream",
     "text": [
      "Radius is:  2\n",
      "Area is:  12.56\n",
      "Circumference is:  12.56\n"
     ]
    }
   ],
   "source": [
    "c.setRadius(2)\n",
    "\n",
    "print('Radius is: ',c.radius)\n",
    "print('Area is: ',c.area)\n",
    "print('Circumference is: ',c.getCircumference())"
   ]
  },
  {
   "cell_type": "markdown",
   "metadata": {},
   "source": [
    "Geweldig! Merk op hoe we hiervoor 'self'. notatie gebruikten om te verwijzen naar attributen van de klasse binnen de methode-aanroepen. \n",
    "Bekijk hoe de bovenstaande code werkt en probeer uw eigen methode te maken.\n",
    "\n",
    "## Inheritance (Overerving)\n",
    "\n",
    "Overerving is een manier om nieuwe klassen te vormen met behulp van klassen die al zijn gedefinieerd. De nieuw gevormde klassen worden **afgeleide** (derived-class) klassen genoemd, de klassen waaruit we afleiden worden **basisklassen** (base-class) genoemd. Belangrijke voordelen van overerving zijn **codehergebruik** en **vermindering van de complexiteit** van een programma. \n",
    "De afgeleide klassen (descendants) overschrijven of breiden de functionaliteit van basisklassen (ancestors) uit.\n",
    "\n",
    "Laten we een voorbeeld bekijken door ons eerdere werk over de Dog-klasse op te nemen:"
   ]
  },
  {
   "cell_type": "code",
   "execution_count": 14,
   "metadata": {
    "collapsed": true
   },
   "outputs": [],
   "source": [
    "class Animal:\n",
    "    def __init__(self):\n",
    "        print(\"Animal created\")\n",
    "\n",
    "    def whoAmI(self):\n",
    "        print(\"Animal\")\n",
    "\n",
    "    def eat(self):\n",
    "        print(\"Eating\")\n",
    "\n",
    "\n",
    "class Dog(Animal):\n",
    "    def __init__(self):\n",
    "        Animal.__init__(self)\n",
    "        print(\"Dog created\")\n",
    "\n",
    "    def whoAmI(self):\n",
    "        print(\"Dog\")\n",
    "\n",
    "    def bark(self):\n",
    "        print(\"Woof!\")"
   ]
  },
  {
   "cell_type": "code",
   "execution_count": 15,
   "metadata": {},
   "outputs": [
    {
     "name": "stdout",
     "output_type": "stream",
     "text": [
      "Animal created\n",
      "Dog created\n"
     ]
    }
   ],
   "source": [
    "d = Dog()"
   ]
  },
  {
   "cell_type": "code",
   "execution_count": 16,
   "metadata": {},
   "outputs": [
    {
     "name": "stdout",
     "output_type": "stream",
     "text": [
      "Dog\n"
     ]
    }
   ],
   "source": [
    "d.whoAmI()"
   ]
  },
  {
   "cell_type": "code",
   "execution_count": 17,
   "metadata": {},
   "outputs": [
    {
     "name": "stdout",
     "output_type": "stream",
     "text": [
      "Eating\n"
     ]
    }
   ],
   "source": [
    "d.eat()"
   ]
  },
  {
   "cell_type": "code",
   "execution_count": 18,
   "metadata": {},
   "outputs": [
    {
     "name": "stdout",
     "output_type": "stream",
     "text": [
      "Woof!\n"
     ]
    }
   ],
   "source": [
    "d.bark()"
   ]
  },
  {
   "cell_type": "markdown",
   "metadata": {},
   "source": [
    "In dit voorbeeld hebben we 2 klassen: Animal en Dog. Animal is de basisklasse (base), Dog is de afgeleide (derived) klasse.\n",
    "\n",
    "De afgeleide klasse erft de functionaliteit van de basisklasse.\n",
    "\n",
    "* Het wordt getoond door de eat() methode.\n",
    "\n",
    "De afgeleide klasse wijzigt het bestaande gedrag (behaviour) van de basisklasse.\n",
    "\n",
    "* getoond door de whoAmI() methode.\n",
    "\n",
    "Ten slotte breidt de afgeleide klasse de functionaliteit van de basisklasse uit door een nieuwe bark()-methode te definiëren."
   ]
  },
  {
   "cell_type": "markdown",
   "metadata": {},
   "source": [
    "## Polymorfisme\n",
    "\n",
    "We hebben geleerd dat hoewel functies verschillende argumenten kunnen bevatten, methoden behoren tot de objecten waarop ze werken. In Python verwijst *polymorfisme* naar de manier waarop verschillende objectklassen dezelfde methodenaam kunnen delen, en die methoden kunnen vanaf dezelfde plaats worden aangeroepen, ook al kunnen er verschillende objecten worden ingevoerd. \n",
    "De beste manier om dit uit te leggen is bij voorbeeld:"
   ]
  },
  {
   "cell_type": "code",
   "execution_count": 19,
   "metadata": {},
   "outputs": [
    {
     "name": "stdout",
     "output_type": "stream",
     "text": [
      "Niko says Woof!\n",
      "Felix says Meow!\n"
     ]
    }
   ],
   "source": [
    "class Dog:\n",
    "    def __init__(self, name):\n",
    "        self.name = name\n",
    "\n",
    "    def speak(self):\n",
    "        return self.name+' says Woof!'\n",
    "    \n",
    "class Cat:\n",
    "    def __init__(self, name):\n",
    "        self.name = name\n",
    "\n",
    "    def speak(self):\n",
    "        return self.name+' says Meow!' \n",
    "    \n",
    "niko = Dog('Niko')\n",
    "felix = Cat('Felix')\n",
    "\n",
    "print(niko.speak())\n",
    "print(felix.speak())"
   ]
  },
  {
   "cell_type": "markdown",
   "metadata": {},
   "source": [
    "Hier hebben we een Dog-klasse en een Cat-klasse, en elk heeft een `.speak()`-methode. Wanneer **aangeroepen**, retourneert de `.speak()`-methode van elk object een resultaat dat **uniek** is voor het object.\n",
    "\n",
    "Er zijn een paar verschillende manieren om polymorfisme aan te tonen. Eerst met een for-lus:"
   ]
  },
  {
   "cell_type": "code",
   "execution_count": 20,
   "metadata": {},
   "outputs": [
    {
     "name": "stdout",
     "output_type": "stream",
     "text": [
      "Niko says Woof!\n",
      "Felix says Meow!\n"
     ]
    }
   ],
   "source": [
    "for pet in [niko,felix]:\n",
    "    print(pet.speak())"
   ]
  },
  {
   "cell_type": "markdown",
   "metadata": {},
   "source": [
    "Een andere is met functies:"
   ]
  },
  {
   "cell_type": "code",
   "execution_count": 21,
   "metadata": {},
   "outputs": [
    {
     "name": "stdout",
     "output_type": "stream",
     "text": [
      "Niko says Woof!\n",
      "Felix says Meow!\n"
     ]
    }
   ],
   "source": [
    "def pet_speak(pet):\n",
    "    print(pet.speak())\n",
    "\n",
    "pet_speak(niko)\n",
    "pet_speak(felix)"
   ]
  },
  {
   "cell_type": "markdown",
   "metadata": {
    "slideshow": {
     "slide_type": "slide"
    }
   },
   "source": [
    "In beide gevallen konden we verschillende objecttypes doorgeven en kregen we objectspecifieke resultaten van hetzelfde mechanisme.\n",
    "\n",
    "Een meer gebruikelijke (common) praktijk is om abstracte klassen en overerving te gebruiken. Een abstracte klasse is er een die **nooit verwacht** te worden **geïnstantieerd**. \n",
    "We zullen bijvoorbeeld nooit een Animal-object hebben, alleen Dog- en Cat-objecten, hoewel Dogs and Cats zijn afgeleid van Animals:"
   ]
  },
  {
   "cell_type": "code",
   "execution_count": 22,
   "metadata": {},
   "outputs": [
    {
     "name": "stdout",
     "output_type": "stream",
     "text": [
      "Fido says Woof!\n",
      "Isis says Meow!\n"
     ]
    }
   ],
   "source": [
    "class Animal:\n",
    "    def __init__(self, name):    # Constructeur van de klas\n",
    "        self.name = name\n",
    "\n",
    "    def speak(self):             # Abstracte methode, alleen gedefinieerd door conventie\n",
    "        raise NotImplementedError(\"Subclass must implement abstract method\")\n",
    "\n",
    "\n",
    "class Dog(Animal):\n",
    "    \n",
    "    def speak(self):\n",
    "        return self.name+' says Woof!'\n",
    "    \n",
    "class Cat(Animal):\n",
    "\n",
    "    def speak(self):\n",
    "        return self.name+' says Meow!'\n",
    "    \n",
    "fido = Dog('Fido')\n",
    "isis = Cat('Isis')\n",
    "\n",
    "print(fido.speak())\n",
    "print(isis.speak())"
   ]
  },
  {
   "cell_type": "markdown",
   "metadata": {},
   "source": [
    "Voorbeelden van polymorfisme uit het levensecht-applicaties zijn als de volgende:\n",
    "* Voor het openen van de verschillende bestandstypen: Er zijn verschillende tools nodig om Word-, pdf- en Excel-bestanden weer te geven\n",
    "* Voor het toevoeging van de verschillende objecten: De operator `+` voert rekenkundige bewerkingen (arithmetic) en aaneenschakelingen (concatenation) uit"
   ]
  },
  {
   "cell_type": "markdown",
   "metadata": {},
   "source": [
    "## Speciale methoden met __ methode-naam __\n",
    "\n",
    "Laten we tot slot speciale methoden bespreken. Klassen in Python kunnen bepaalde bewerkingen uitvoeren met speciale methodenamen. \n",
    "Deze methoden worden niet rechtstreeks aangeroepen, maar door Python-specifieke taal-syntaxis. \n",
    "Laten we bijvoorbeeld een Boek-klas maken:"
   ]
  },
  {
   "cell_type": "code",
   "execution_count": 23,
   "metadata": {
    "collapsed": true
   },
   "outputs": [],
   "source": [
    "class Book:\n",
    "    def __init__(self, title, author, pages):\n",
    "        print(\"A book is created\")\n",
    "        self.title = title\n",
    "        self.author = author\n",
    "        self.pages = pages\n",
    "\n",
    "    def __str__(self):\n",
    "        return \"Title: %s, author: %s, pages: %s\" %(self.title, self.author, self.pages)\n",
    "\n",
    "    def __len__(self):\n",
    "        return self.pages\n",
    "\n",
    "    def __del__(self):\n",
    "        print(\"A book is destroyed\")"
   ]
  },
  {
   "cell_type": "code",
   "execution_count": 24,
   "metadata": {},
   "outputs": [
    {
     "name": "stdout",
     "output_type": "stream",
     "text": [
      "A book is created\n",
      "Title: Python Rocks!, author: Jose Portilla, pages: 159\n",
      "159\n",
      "A book is destroyed\n"
     ]
    }
   ],
   "source": [
    "book = Book(\"Python Rocks!\", \"Jose Portilla\", 159)\n",
    "\n",
    "# Speciale methoden\n",
    "print(book)\n",
    "print(len(book))\n",
    "del book"
   ]
  },
  {
   "cell_type": "markdown",
   "metadata": {},
   "source": [
    "De methoden __init__(), __str__(), __len__() en __del__()\n",
    "\n",
    "Deze speciale methoden worden gedefinieerd door het gebruik van **onderstrepingstekens** (underscore). Ze stellen ons in staat om Python-specifieke functies te gebruiken op objecten die met onze klasse zijn gemaakt.\n",
    "\n",
    "**Geweldig! Na deze lezing zou u een basiskennis moeten hebben van hoe u uw eigen objecten kunt maken met klasse in Python. U zult hier intensief gebruik van maken in uw volgende Milestone-Project!**\n",
    "\n",
    "Ga voor meer geweldige bronnen (resources) over dit onderwerp naar:\n",
    "\n",
    "[Mozilla's bericht](https://developer.mozilla.org/en-US/Learn/Python/Quickly_Learn_Object_Oriented_Programming)\n",
    "\n",
    "[Zelfstudie-portaal](http://www.tutorialspoint.com/python/python_classes_objects.htm)\n",
    "\n",
    "[Officiële documentatie](https://docs.python.org/3/tutorial/classes.html)"
   ]
  }
 ],
 "metadata": {
  "kernelspec": {
   "display_name": "Python 3",
   "language": "python",
   "name": "python3"
  },
  "language_info": {
   "codemirror_mode": {
    "name": "ipython",
    "version": 3
   },
   "file_extension": ".py",
   "mimetype": "text/x-python",
   "name": "python",
   "nbconvert_exporter": "python",
   "pygments_lexer": "ipython3",
   "version": "3.10.2"
  }
 },
 "nbformat": 4,
 "nbformat_minor": 1
}
