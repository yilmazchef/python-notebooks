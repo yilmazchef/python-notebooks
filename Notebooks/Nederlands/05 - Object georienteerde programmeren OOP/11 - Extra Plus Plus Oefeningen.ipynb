{
 "cells": [
  {
   "attachments": {},
   "cell_type": "markdown",
   "metadata": {},
   "source": [
    "## Extra Plus Plus Opdrachten"
   ]
  },
  {
   "cell_type": "code",
   "execution_count": 27,
   "metadata": {},
   "outputs": [
    {
     "name": "stdout",
     "output_type": "stream",
     "text": [
      "Hello world\n"
     ]
    }
   ],
   "source": [
    "print(\"Hello world\")"
   ]
  },
  {
   "cell_type": "code",
   "execution_count": null,
   "metadata": {},
   "outputs": [],
   "source": [
    "class RichPerson():\n",
    "    def __init__(self, name, age, car):\n",
    "        self.name = name\n",
    "        self.age = age\n",
    "        self.car = car\n",
    "       \n",
    "rp = RichPerson('John', 36, c)\n",
    "\n",
    "type(rp)\n",
    "\n",
    "type(rp.name)\n",
    "\n",
    "type(rp.age)\n",
    "\n",
    "type(rp.car)"
   ]
  },
  {
   "attachments": {},
   "cell_type": "markdown",
   "metadata": {},
   "source": [
    "### We gaan een nieuwe SmartPhone maken. \n",
    "\n",
    "- Wifi\n",
    "- eSim\n",
    "- Bluetooth\n",
    "- Camera\n",
    "- Speaker\n",
    "- Microphone\n",
    "- Battery\n",
    "- NFC (Near field communication)\n",
    "- CPU\n",
    "- RAM\n",
    "- GPU\n",
    "- Disk\n",
    "- Display\n",
    "- USB Port\n",
    "- GPS\n",
    "- Infrared\n",
    "\n"
   ]
  },
  {
   "cell_type": "code",
   "execution_count": 9,
   "metadata": {},
   "outputs": [
    {
     "name": "stdout",
     "output_type": "stream",
     "text": [
      "100 200 150\n"
     ]
    }
   ],
   "source": [
    "class MyColor():\n",
    "    \n",
    "    def __init__(self):\n",
    "        self.r = 255\n",
    "        self.g = 255\n",
    "        self.b = 255\n",
    "        \n",
    "    def change_red(self, r):\n",
    "        self.r = r\n",
    "        \n",
    "    def change_green(self, g):\n",
    "        self.g = g\n",
    "        \n",
    "    def change_blue(self, b):\n",
    "        self.b = b\n",
    "        \n",
    "\n",
    "c1 = MyColor()\n",
    "\n",
    "c1.change_red(100)\n",
    "c1.change_green(200)\n",
    "c1.change_blue(150)\n",
    "\n",
    "print(c1.r, c1.g, c1.b)\n",
    "        "
   ]
  },
  {
   "cell_type": "code",
   "execution_count": null,
   "metadata": {},
   "outputs": [],
   "source": []
  },
  {
   "cell_type": "code",
   "execution_count": 19,
   "metadata": {},
   "outputs": [
    {
     "name": "stdout",
     "output_type": "stream",
     "text": [
      "CPU: A13 Bionic RAM: 4GB GPU: Apple GPU Display: 6.1 inchSIM: eSim Bluetooth: Intel Bluetooth 5.0 Camera: 12MP Speaker: Dolby Atmos Microphone: Senheiser Microphone Battery: Li-Ion NFC: Philips NFC Disk: 64GB USB: USB-C GPS: None IR: None\n",
      "CPU: Exynos 990 RAM: 8GB GPU: Adreno 640 Display: 6.2 inchSIM: eSim Bluetooth: Intel Bluetooth 5.0 Camera: 12MP Speaker: Dolby Atmos Microphone: Senheiser Microphone Battery: Li-Ion NFC: Philips NFC Disk: 64GB USB: USB-C GPS: None IR: None\n",
      "CPU: Kirin 990 RAM: 8GB GPU: Mali-G76 MP16 Display: 6.1 inchSIM: eSim Bluetooth: Intel Bluetooth 5.0 Camera: 12MP Speaker: Dolby Atmos Microphone: Senheiser Microphone Battery: Li-Ion NFC: Philips NFC Disk: 64GB USB: USB-C GPS: None IR: None\n"
     ]
    }
   ],
   "source": [
    "# - Wifi\n",
    "## SIM, Bluetooth, Camera, Speaker, Microphone, Battery, NFC, CPU, RAM, GPU, Disk, Display, USB, GPS, IR\n",
    "class SmartPhone(): # methode argumenten\n",
    "    def __init__(self, cpu, ram, gpu, display):\n",
    "        self.sim = \"eSim\" # self.sim = key, sim = value\n",
    "        self.bluetooth = \"Intel Bluetooth 5.0\"\n",
    "        self.camera = \"12MP\"\n",
    "        self.speaker = \"Dolby Atmos\"\n",
    "        self.microphone = \"Senheiser Microphone\"\n",
    "        self.battery = \"Li-Ion\"\n",
    "        self.nfc = \"Philips NFC\"\n",
    "        self.cpu = cpu\n",
    "        self.ram = ram\n",
    "        self.gpu = gpu\n",
    "        self.disk = \"64GB\"\n",
    "        self.display = display\n",
    "        self.usb = \"USB-C\"\n",
    "        self.gps = None\n",
    "        self.ir = None\n",
    "    \n",
    "    def specs(self):\n",
    "        return \"CPU: \" + self.cpu + \" RAM: \" + self.ram + \" GPU: \" + self.gpu + \" Display: \" + self.display + \\\n",
    "            \"SIM: \" + self.sim + \" Bluetooth: \" + self.bluetooth + \" Camera: \" + self.camera + \" Speaker: \" + self.speaker + \\\n",
    "            \" Microphone: \" + self.microphone + \" Battery: \" + self.battery + \" NFC: \" + self.nfc + \" Disk: \" + self.disk + \\\n",
    "            \" USB: \" + self.usb + \" GPS: \" + str(self.gps) + \" IR: \" + str(self.ir)\n",
    "            \n",
    "    def share_photo(self, photo):\n",
    "        return \"Sharing photo\" + photo\n",
    "    \n",
    "    def get_price(self):\n",
    "        # als de cpu een A13 Bionic is, dan is de prijs 2000\n",
    "        if self.cpu == \"A13 Bionic\":\n",
    "            return 2000\n",
    "        # als de cpu een Exynos 990 is, dan is de prijs 1500\n",
    "        elif self.cpu == \"Exynos 990\":\n",
    "            return 1500\n",
    "        # als de cpu een Kirin 990 is, dan is de prijs 1000\n",
    "        elif self.cpu == \"Kirin 990\":\n",
    "            return 1000\n",
    "        else:\n",
    "            return None\n",
    "\n",
    "iphone11 = SmartPhone(cpu = \"A13 Bionic\", ram = \"4GB\", gpu = \"Apple GPU\", display = \"6.1 inch\")\n",
    "\n",
    "samsungS20 = SmartPhone(ram = \"8GB\", gpu = \"Adreno 640\", display = \"6.2 inch\", cpu = \"Exynos 990\")\n",
    "\n",
    "huaweiP40 = SmartPhone(display=\"6.1 inch\", cpu = \"Kirin 990\", ram = \"8GB\", gpu = \"Mali-G76 MP16\")\n",
    "\n",
    "hiPhone = SmartPhone(cpu = \"A13 Titanic\", ram = \"8GB\", gpu = \"Settle GPU\", display = \"6.1 inch\")\n",
    "\n",
    "print(iphone11.specs())\n",
    "\n",
    "print(samsungS20.specs())\n",
    "\n",
    "print(huaweiP40.specs())"
   ]
  },
  {
   "cell_type": "code",
   "execution_count": 18,
   "metadata": {},
   "outputs": [
    {
     "name": "stdout",
     "output_type": "stream",
     "text": [
      "Sharing photobest photo ever taken by an influencer..\n",
      "Sharing photobest photo ever taken by an expert..\n",
      "Sharing photobest photo ever taken by a professional..\n"
     ]
    }
   ],
   "source": [
    "print( iphone11.share_photo(\"best photo ever taken by an influencer..\") )\n",
    "\n",
    "print( samsungS20.share_photo(\"best photo ever taken by an expert..\") )\n",
    "\n",
    "print( huaweiP40.share_photo(\"best photo ever taken by a professional..\") )"
   ]
  },
  {
   "cell_type": "code",
   "execution_count": 22,
   "metadata": {},
   "outputs": [
    {
     "name": "stdout",
     "output_type": "stream",
     "text": [
      "None\n",
      "2000\n",
      "Sorry you cannot sell this phone in EU because not officially confirmed..\n"
     ]
    }
   ],
   "source": [
    "print(hiPhone.get_price())\n",
    "\n",
    "print(iphone11.get_price())\n",
    "\n",
    "if(hiPhone.get_price() == None):\n",
    "    print(\"Sorry you cannot sell this phone in EU because not officially confirmed..\")\n",
    "else:\n",
    "    print(\"Sell it fine, won't touch..\")"
   ]
  },
  {
   "cell_type": "code",
   "execution_count": 23,
   "metadata": {},
   "outputs": [],
   "source": [
    "def is_valid_to_sell(smart_phone):\n",
    "    if(smart_phone.get_price() == None):\n",
    "        return False\n",
    "    else:\n",
    "        return True"
   ]
  },
  {
   "cell_type": "code",
   "execution_count": 26,
   "metadata": {},
   "outputs": [
    {
     "name": "stdout",
     "output_type": "stream",
     "text": [
      "False\n",
      "True\n",
      "True\n"
     ]
    }
   ],
   "source": [
    "print( is_valid_to_sell( hiPhone ) )\n",
    "\n",
    "print( is_valid_to_sell( iphone11 ))\n",
    "\n",
    "print( is_valid_to_sell( huaweiP40 ))"
   ]
  }
 ],
 "metadata": {
  "kernelspec": {
   "display_name": "sandbox",
   "language": "python",
   "name": "python3"
  },
  "language_info": {
   "codemirror_mode": {
    "name": "ipython",
    "version": 3
   },
   "file_extension": ".py",
   "mimetype": "text/x-python",
   "name": "python",
   "nbconvert_exporter": "python",
   "pygments_lexer": "ipython3",
   "version": "3.10.8"
  },
  "orig_nbformat": 4,
  "vscode": {
   "interpreter": {
    "hash": "a80be7237836b31ed17ae5d7df51c188fd457e64d55a094952c3b311ea6376aa"
   }
  }
 },
 "nbformat": 4,
 "nbformat_minor": 2
}
