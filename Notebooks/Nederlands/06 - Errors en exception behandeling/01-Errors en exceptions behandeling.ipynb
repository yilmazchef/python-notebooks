{
 "cells": [
  {
   "cell_type": "markdown",
   "metadata": {},
   "source": [
    "<center>\n",
    "    <img src='https://intecbrussel.be/img/logo3.png' width='400px' height='auto'/>\n",
    "    <br/>\n",
    "    <em>Python les-materialen</em>\n",
    "</center>"
   ]
  },
  {
   "cell_type": "markdown",
   "metadata": {},
   "source": [
    "# Fouten (Errors) en afhandeling van uitzonderingen (exceptions)\n",
    "\n",
    "In deze lezing zullen we leren over het afhandelen van fouten en uitzonderingen in Python. Je bent op dit punt in de cursus zeker al fouten tegengekomen. Bijvoorbeeld:"
   ]
  },
  {
   "cell_type": "code",
   "execution_count": 1,
   "metadata": {},
   "outputs": [
    {
     "ename": "SyntaxError",
     "evalue": "EOL while scanning string literal (<ipython-input-1-db8c9988558c>, line 1)",
     "output_type": "error",
     "traceback": [
      "\u001B[1;36m  File \u001B[1;32m\"<ipython-input-1-db8c9988558c>\"\u001B[1;36m, line \u001B[1;32m1\u001B[0m\n\u001B[1;33m    print('Hello)\u001B[0m\n\u001B[1;37m                 ^\u001B[0m\n\u001B[1;31mSyntaxError\u001B[0m\u001B[1;31m:\u001B[0m EOL while scanning string literal\n"
     ]
    }
   ],
   "source": [
    "print('Hello)"
   ]
  },
  {
   "cell_type": "markdown",
   "metadata": {},
   "source": [
    "Merk op hoe we een SyntaxError krijgen, met de verdere beschrijving dat het een EOL (End of Line Error) was tijdens het letterlijk scannen van de string. Dit is specifiek genoeg voor ons om te zien dat we een enkel citaat aan het einde van de regel zijn vergeten. Als u deze verschillende fouttypen begrijpt, kunt u veel sneller fouten in uw code opsporen.\n",
    "\n",
    "Dit type fout en beschrijving staat bekend als een uitzondering. Zelfs als een instructie of expressie syntactisch correct is, kan deze een fout veroorzaken wanneer wordt geprobeerd deze uit te voeren. Fouten die tijdens de uitvoering worden gedetecteerd, worden uitzonderingen genoemd en zijn niet onvoorwaardelijk fataal.\n",
    "\n",
    "U kunt de volledige lijst met ingebouwde uitzonderingen [hier](https://docs.python.org/3/library/exceptions.html) bekijken. Laten we nu leren hoe we met fouten en uitzonderingen in onze eigen code kunnen omgaan."
   ]
  },
  {
   "cell_type": "markdown",
   "metadata": {},
   "source": [
    "## try and except\n",
    "\n",
    "De basisterminologie en syntaxis die worden gebruikt om fouten in Python af te handelen, zijn de instructies <code>try</code> en <code>except</code>. De code die een uitzondering kan veroorzaken, wordt in het blok <code>try</code> geplaatst en de afhandeling van de uitzondering wordt vervolgens geïmplementeerd in het codeblok <code>behalve</code>. De syntaxis volgt:\n",
    "\n",
    "    try:\n",
    "       You do your operations here...\n",
    "       ...\n",
    "    except ExceptionI:\n",
    "       If there is ExceptionI, then execute this block.\n",
    "    except ExceptionII:\n",
    "       If there is ExceptionII, then execute this block.\n",
    "       ...\n",
    "    else:\n",
    "       If there is no exception then execute this block. \n",
    "\n",
    "We kunnen ook gewoon op elke uitzondering controleren door gewoon <code>behalve:</code> te gebruiken. Laten we, om dit alles beter te begrijpen, een voorbeeld bekijken: We zullen wat code bekijken die een bestand opent en schrijft:"
   ]
  },
  {
   "cell_type": "code",
   "execution_count": 2,
   "metadata": {},
   "outputs": [
    {
     "name": "stdout",
     "output_type": "stream",
     "text": [
      "Content written successfully\n"
     ]
    }
   ],
   "source": [
    "try:\n",
    "    f = open('testfile','w')\n",
    "    f.write('Test write this')\n",
    "except IOError:\n",
    "    # This will only check for an IOError exception and then execute this print statement\n",
    "    print(\"Error: Could not find file or read data\")\n",
    "else:\n",
    "    print(\"Content written successfully\")\n",
    "    f.close()"
   ]
  },
  {
   "cell_type": "markdown",
   "metadata": {},
   "source": [
    "Laten we nu eens kijken wat er zou gebeuren als we geen schrijfrechten hadden (alleen openen met 'r'):"
   ]
  },
  {
   "cell_type": "code",
   "execution_count": 3,
   "metadata": {},
   "outputs": [
    {
     "name": "stdout",
     "output_type": "stream",
     "text": [
      "Error: Could not find file or read data\n"
     ]
    }
   ],
   "source": [
    "try:\n",
    "    f = open('testfile','r')\n",
    "    f.write('Test write this')\n",
    "except IOError:\n",
    "    # This will only check for an IOError exception and then execute this print statement\n",
    "    print(\"Error: Could not find file or read data\")\n",
    "else:\n",
    "    print(\"Content written successfully\")\n",
    "    f.close()"
   ]
  },
  {
   "cell_type": "markdown",
   "metadata": {},
   "source": [
    "Geweldig! Merk op hoe we alleen een verklaring hebben afgedrukt! De code liep nog steeds en we konden doorgaan met het uitvoeren van acties en het uitvoeren van codeblokken. Dit is uitermate handig wanneer u rekening moet houden met mogelijke invoerfouten in uw code. U kunt voorbereid zijn op de fout en code blijven uitvoeren, in plaats van dat uw code gewoon breekt, zoals we hierboven hebben gezien.\n",
    "\n",
    "We hadden ook gewoon <code>behalve:</code> kunnen zeggen als we niet zeker wisten welke uitzondering zou optreden. Bijvoorbeeld:"
   ]
  },
  {
   "cell_type": "code",
   "execution_count": 4,
   "metadata": {},
   "outputs": [
    {
     "name": "stdout",
     "output_type": "stream",
     "text": [
      "Error: Could not find file or read data\n"
     ]
    }
   ],
   "source": [
    "try:\n",
    "    f = open('testfile','r')\n",
    "    f.write('Test write this')\n",
    "except:\n",
    "    # This will check for any exception and then execute this print statement\n",
    "    print(\"Error: Could not find file or read data\")\n",
    "else:\n",
    "    print(\"Content written successfully\")\n",
    "    f.close()"
   ]
  },
  {
   "cell_type": "markdown",
   "metadata": {},
   "source": [
    "Geweldig! Nu hoeven we die lijst met uitzonderingstypen niet echt te onthouden! Wat als we code blijven willen uitvoeren nadat de uitzondering is opgetreden? Dit is waar <code>finally</code> binnenkomt.\n",
    "\n",
    "## finally\n",
    "Het <code>finally</code> -codeblok wordt altijd uitgevoerd, ongeacht of er een uitzondering was in het codeblok <code>try</code>. De syntaxis is:\n",
    "\n",
    "    try:\n",
    "       Code block here\n",
    "       ...\n",
    "       Due to any exception, this code may be skipped!\n",
    "    finally:\n",
    "       This code block would always be executed.\n",
    "\n",
    "For example:"
   ]
  },
  {
   "cell_type": "code",
   "execution_count": 5,
   "metadata": {},
   "outputs": [
    {
     "name": "stdout",
     "output_type": "stream",
     "text": [
      "Always execute finally code blocks\n"
     ]
    }
   ],
   "source": [
    "try:\n",
    "    f = open(\"testfile\", \"w\")\n",
    "    f.write(\"Test write statement\")\n",
    "    f.close()\n",
    "finally:\n",
    "    print(\"Always execute finally code blocks\")"
   ]
  },
  {
   "cell_type": "markdown",
   "metadata": {},
   "source": [
    "We kunnen dit gebruiken in combinatie met <code>except</code>. Laten we een nieuw voorbeeld bekijken waarin rekening wordt gehouden met een gebruiker die de verkeerde invoer geeft:"
   ]
  },
  {
   "cell_type": "code",
   "execution_count": 6,
   "metadata": {
    "collapsed": true
   },
   "outputs": [],
   "source": [
    "def askint():\n",
    "    try:\n",
    "        val = int(input(\"Please enter an integer: \"))\n",
    "    except:\n",
    "        print(\"Looks like you did not enter an integer!\")\n",
    "\n",
    "    finally:\n",
    "        print(\"Finally, I executed!\")\n",
    "    print(val)"
   ]
  },
  {
   "cell_type": "code",
   "execution_count": 7,
   "metadata": {},
   "outputs": [
    {
     "name": "stdout",
     "output_type": "stream",
     "text": [
      "Please enter an integer: 5\n",
      "Finally, I executed!\n",
      "5\n"
     ]
    }
   ],
   "source": [
    "askint()"
   ]
  },
  {
   "cell_type": "code",
   "execution_count": 8,
   "metadata": {},
   "outputs": [
    {
     "name": "stdout",
     "output_type": "stream",
     "text": [
      "Please enter an integer: five\n",
      "Looks like you did not enter an integer!\n",
      "Finally, I executed!\n"
     ]
    },
    {
     "ename": "UnboundLocalError",
     "evalue": "local variable 'val' referenced before assignment",
     "output_type": "error",
     "traceback": [
      "\u001B[1;31m---------------------------------------------------------------------------\u001B[0m",
      "\u001B[1;31mUnboundLocalError\u001B[0m                         Traceback (most recent call last)",
      "\u001B[1;32m<ipython-input-8-cc291aa76c10>\u001B[0m in \u001B[0;36m<module>\u001B[1;34m()\u001B[0m\n\u001B[1;32m----> 1\u001B[1;33m \u001B[0maskint\u001B[0m\u001B[1;33m(\u001B[0m\u001B[1;33m)\u001B[0m\u001B[1;33m\u001B[0m\u001B[0m\n\u001B[0m",
      "\u001B[1;32m<ipython-input-6-c97dd1c75d24>\u001B[0m in \u001B[0;36maskint\u001B[1;34m()\u001B[0m\n\u001B[0;32m      7\u001B[0m     \u001B[1;32mfinally\u001B[0m\u001B[1;33m:\u001B[0m\u001B[1;33m\u001B[0m\u001B[0m\n\u001B[0;32m      8\u001B[0m         \u001B[0mprint\u001B[0m\u001B[1;33m(\u001B[0m\u001B[1;34m\"Finally, I executed!\"\u001B[0m\u001B[1;33m)\u001B[0m\u001B[1;33m\u001B[0m\u001B[0m\n\u001B[1;32m----> 9\u001B[1;33m     \u001B[0mprint\u001B[0m\u001B[1;33m(\u001B[0m\u001B[0mval\u001B[0m\u001B[1;33m)\u001B[0m\u001B[1;33m\u001B[0m\u001B[0m\n\u001B[0m",
      "\u001B[1;31mUnboundLocalError\u001B[0m: local variable 'val' referenced before assignment"
     ]
    }
   ],
   "source": [
    "askint()"
   ]
  },
  {
   "cell_type": "markdown",
   "metadata": {},
   "source": [
    "Merk op hoe we een fout kregen bij het afdrukken van val (omdat het nooit correct was toegewezen). Laten we dit oplossen door de gebruiker te vragen en te controleren of het invoertype een geheel getal is:"
   ]
  },
  {
   "cell_type": "code",
   "execution_count": 9,
   "metadata": {
    "collapsed": true
   },
   "outputs": [],
   "source": [
    "def askint():\n",
    "    try:\n",
    "        val = int(input(\"Please enter an integer: \"))\n",
    "    except:\n",
    "        print(\"Looks like you did not enter an integer!\")\n",
    "        val = int(input(\"Try again-Please enter an integer: \"))\n",
    "    finally:\n",
    "        print(\"Finally, I executed!\")\n",
    "    print(val)"
   ]
  },
  {
   "cell_type": "code",
   "execution_count": 10,
   "metadata": {},
   "outputs": [
    {
     "name": "stdout",
     "output_type": "stream",
     "text": [
      "Please enter an integer: five\n",
      "Looks like you did not enter an integer!\n",
      "Try again-Please enter an integer: four\n",
      "Finally, I executed!\n"
     ]
    },
    {
     "ename": "ValueError",
     "evalue": "invalid literal for int() with base 10: 'four'",
     "output_type": "error",
     "traceback": [
      "\u001B[1;31m---------------------------------------------------------------------------\u001B[0m",
      "\u001B[1;31mValueError\u001B[0m                                Traceback (most recent call last)",
      "\u001B[1;32m<ipython-input-9-92b5f751eb01>\u001B[0m in \u001B[0;36maskint\u001B[1;34m()\u001B[0m\n\u001B[0;32m      2\u001B[0m     \u001B[1;32mtry\u001B[0m\u001B[1;33m:\u001B[0m\u001B[1;33m\u001B[0m\u001B[0m\n\u001B[1;32m----> 3\u001B[1;33m         \u001B[0mval\u001B[0m \u001B[1;33m=\u001B[0m \u001B[0mint\u001B[0m\u001B[1;33m(\u001B[0m\u001B[0minput\u001B[0m\u001B[1;33m(\u001B[0m\u001B[1;34m\"Please enter an integer: \"\u001B[0m\u001B[1;33m)\u001B[0m\u001B[1;33m)\u001B[0m\u001B[1;33m\u001B[0m\u001B[0m\n\u001B[0m\u001B[0;32m      4\u001B[0m     \u001B[1;32mexcept\u001B[0m\u001B[1;33m:\u001B[0m\u001B[1;33m\u001B[0m\u001B[0m\n",
      "\u001B[1;31mValueError\u001B[0m: invalid literal for int() with base 10: 'five'",
      "\nDuring handling of the above exception, another exception occurred:\n",
      "\u001B[1;31mValueError\u001B[0m                                Traceback (most recent call last)",
      "\u001B[1;32m<ipython-input-10-cc291aa76c10>\u001B[0m in \u001B[0;36m<module>\u001B[1;34m()\u001B[0m\n\u001B[1;32m----> 1\u001B[1;33m \u001B[0maskint\u001B[0m\u001B[1;33m(\u001B[0m\u001B[1;33m)\u001B[0m\u001B[1;33m\u001B[0m\u001B[0m\n\u001B[0m",
      "\u001B[1;32m<ipython-input-9-92b5f751eb01>\u001B[0m in \u001B[0;36maskint\u001B[1;34m()\u001B[0m\n\u001B[0;32m      4\u001B[0m     \u001B[1;32mexcept\u001B[0m\u001B[1;33m:\u001B[0m\u001B[1;33m\u001B[0m\u001B[0m\n\u001B[0;32m      5\u001B[0m         \u001B[0mprint\u001B[0m\u001B[1;33m(\u001B[0m\u001B[1;34m\"Looks like you did not enter an integer!\"\u001B[0m\u001B[1;33m)\u001B[0m\u001B[1;33m\u001B[0m\u001B[0m\n\u001B[1;32m----> 6\u001B[1;33m         \u001B[0mval\u001B[0m \u001B[1;33m=\u001B[0m \u001B[0mint\u001B[0m\u001B[1;33m(\u001B[0m\u001B[0minput\u001B[0m\u001B[1;33m(\u001B[0m\u001B[1;34m\"Try again-Please enter an integer: \"\u001B[0m\u001B[1;33m)\u001B[0m\u001B[1;33m)\u001B[0m\u001B[1;33m\u001B[0m\u001B[0m\n\u001B[0m\u001B[0;32m      7\u001B[0m     \u001B[1;32mfinally\u001B[0m\u001B[1;33m:\u001B[0m\u001B[1;33m\u001B[0m\u001B[0m\n\u001B[0;32m      8\u001B[0m         \u001B[0mprint\u001B[0m\u001B[1;33m(\u001B[0m\u001B[1;34m\"Finally, I executed!\"\u001B[0m\u001B[1;33m)\u001B[0m\u001B[1;33m\u001B[0m\u001B[0m\n",
      "\u001B[1;31mValueError\u001B[0m: invalid literal for int() with base 10: 'four'"
     ]
    }
   ],
   "source": [
    "askint()"
   ]
  },
  {
   "cell_type": "markdown",
   "metadata": {},
   "source": [
    "Hmmm... dat deed maar één controle. Hoe kunnen we continu blijven checken? We kunnen wel een while-lus gebruiken!"
   ]
  },
  {
   "cell_type": "code",
   "execution_count": 11,
   "metadata": {
    "collapsed": true
   },
   "outputs": [],
   "source": [
    "def askint():\n",
    "    while True:\n",
    "        try:\n",
    "            val = int(input(\"Please enter an integer: \"))\n",
    "        except:\n",
    "            print(\"Looks like you did not enter an integer!\")\n",
    "            continue\n",
    "        else:\n",
    "            print(\"Yep that's an integer!\")\n",
    "            break\n",
    "        finally:\n",
    "            print(\"Finally, I executed!\")\n",
    "        print(val)"
   ]
  },
  {
   "cell_type": "code",
   "execution_count": 12,
   "metadata": {},
   "outputs": [
    {
     "name": "stdout",
     "output_type": "stream",
     "text": [
      "Please enter an integer: five\n",
      "Looks like you did not enter an integer!\n",
      "Finally, I executed!\n",
      "Please enter an integer: four\n",
      "Looks like you did not enter an integer!\n",
      "Finally, I executed!\n",
      "Please enter an integer: 3\n",
      "Yep that's an integer!\n",
      "Finally, I executed!\n"
     ]
    }
   ],
   "source": [
    "askint()"
   ]
  },
  {
   "cell_type": "markdown",
   "metadata": {},
   "source": [
    "Dus waarom printte onze functie \"Finally, I executed!\" na elke proef (trial), maar het heeft nooit 'val' zelf afgedrukt? Dit komt omdat met een try/except/finally-clausule alle <code>continue</code>- of <code>break</code>-statements worden gereserveerd totdat *na* de try-clausule is voltooid.\n",
    "\n",
    "Dit betekent dat hoewel een succesvolle invoer van **3** ons naar het <code>else:</code>-blok bracht en er een <code>break</code>-statement werd gegenereerd, de try-clausule doorging tot < code>finally:</code> voordat de while-lus wordt doorbroken. En aangezien <code>print(val)</code> zich buiten de try-clausule bevond, verhinderde (prevent) de <code>break</code>-instructie dat het werd uitgevoerd.\n",
    "\n",
    "Laten we nog een laatste aanpassing maken:"
   ]
  },
  {
   "cell_type": "code",
   "execution_count": 13,
   "metadata": {
    "collapsed": true
   },
   "outputs": [],
   "source": [
    "def askint():\n",
    "    while True:\n",
    "        try:\n",
    "            val = int(input(\"Please enter an integer: \"))\n",
    "        except:\n",
    "            print(\"Looks like you did not enter an integer!\")\n",
    "            continue\n",
    "        else:\n",
    "            print(\"Yep that's an integer!\")\n",
    "            print(val)\n",
    "            break\n",
    "        finally:\n",
    "            print(\"Finally, I executed!\")"
   ]
  },
  {
   "cell_type": "code",
   "execution_count": 14,
   "metadata": {},
   "outputs": [
    {
     "name": "stdout",
     "output_type": "stream",
     "text": [
      "Please enter an integer: six\n",
      "Looks like you did not enter an integer!\n",
      "Finally, I executed!\n",
      "Please enter an integer: 6\n",
      "Yep that's an integer!\n",
      "6\n",
      "Finally, I executed!\n"
     ]
    }
   ],
   "source": [
    "askint()"
   ]
  },
  {
   "cell_type": "markdown",
   "metadata": {},
   "source": [
    "**Geweldig! Nu weet je hoe je omgaat met fouten en uitzonderingen in Python met de notatie try, except, else en finally notaties!**"
   ]
  }
 ],
 "metadata": {
  "kernelspec": {
   "display_name": "Python 3",
   "language": "python",
   "name": "python3"
  },
  "language_info": {
   "codemirror_mode": {
    "name": "ipython",
    "version": 3
   },
   "file_extension": ".py",
   "mimetype": "text/x-python",
   "name": "python",
   "nbconvert_exporter": "python",
   "pygments_lexer": "ipython3",
   "version": "3.6.6"
  }
 },
 "nbformat": 4,
 "nbformat_minor": 1
}