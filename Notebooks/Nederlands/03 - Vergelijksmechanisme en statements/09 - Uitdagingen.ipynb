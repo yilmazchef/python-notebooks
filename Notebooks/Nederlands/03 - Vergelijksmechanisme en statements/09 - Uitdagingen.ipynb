{
 "cells": [
  {
   "cell_type": "markdown",
   "metadata": {},
   "source": [
    "<center>\n",
    "    <img src='https://intecbrussel.be/img/logo3.png' width='400px' height='auto'/>\n",
    "    <br/>\n",
    "    <em>Python les-materialen</em>\n",
    "</center>"
   ]
  },
  {
   "cell_type": "markdown",
   "metadata": {},
   "source": [
    "# Raadspel (Guessing Game) Uitdaging\n",
    "\n",
    "Laten we `while`-loops gebruiken om een raadspel te maken.\n",
    "\n",
    "De uitdaging:\n",
    "\n",
    "Schrijf een programma dat een willekeurig geheel getal kiest van 1 tot 100, en laat spelers het getal raden. De regels zijn:\n",
    "\n",
    "1. Als de gok van een speler kleiner is dan 1 of groter dan 100, zeg dan \"OUT OF BOUNDS\"\n",
    "2. Bij de eerste beurt van een speler, als hun gok . is\n",
    "  * binnen 10 van het getal, retourneer \"WARM!\"\n",
    "  * verder dan 10 van het nummer, retourneer \"COLD!\"\n",
    "3. Bij alle volgende beurten, als een gok is\n",
    "  * dichter bij het getal dan de vorige gok, retourneer \"WARMER!\"\n",
    "  * verder van het nummer dan de vorige gok, retourneer \"COLDER!\"\n",
    "4. Wanneer de gok van de speler gelijk is aan het aantal, vertel hem dan dat hij goed heeft geraden *en* hoeveel keer het geraden heeft!\n",
    "\n",
    "U kunt dit helemaal opnieuw proberen of de onderstaande stappen volgen. Er is een apart Solution-notebook meegeleverd. Succes!"
   ]
  },
  {
   "cell_type": "markdown",
   "metadata": {},
   "source": [
    "#### Kies eerst een **willekeurig (random) geheel getal** van 1 tot 100 met behulp van de **random module** en wijs het toe aan een variabele\n",
    "\n",
    "Opmerking: `random.randint(a,b)` retourneert een willekeurig geheel getal in het range `[a, b]`, **inclusief** beide eindpunten."
   ]
  },
  {
   "cell_type": "code",
   "execution_count": null,
   "metadata": {
    "collapsed": true
   },
   "outputs": [],
   "source": []
  },
  {
   "cell_type": "markdown",
   "metadata": {},
   "source": [
    "#### Druk vervolgens een inleiding tot het spel af en leg de regels uit"
   ]
  },
  {
   "cell_type": "code",
   "execution_count": null,
   "metadata": {
    "collapsed": true
   },
   "outputs": [],
   "source": []
  },
  {
   "cell_type": "markdown",
   "metadata": {},
   "source": [
    "#### Maak een lijst om gissingen op te slaan\n",
    "\n",
    "Hint: nul is een goede tijdelijke aanduiding. Het is handig omdat het evalueert naar \"False\""
   ]
  },
  {
   "cell_type": "code",
   "execution_count": null,
   "metadata": {
    "collapsed": true
   },
   "outputs": [],
   "source": []
  },
  {
   "cell_type": "markdown",
   "metadata": {},
   "source": [
    "#### Schrijf een `while`-lus die om een geldige gok (guess) vraagt. Test het een paar keer om er zeker van te zijn dat het werkt."
   ]
  },
  {
   "cell_type": "code",
   "execution_count": null,
   "metadata": {
    "collapsed": true
   },
   "outputs": [],
   "source": [
    "while True:\n",
    "    \n",
    "    pass"
   ]
  },
  {
   "cell_type": "markdown",
   "metadata": {},
   "source": [
    "#### Schrijf een `while`-lus die de gok van de speler vergelijkt met ons getal. Als de speler correct raadt, breek dan uit de lus. Vertel de speler anders of het warmer of kouder is en blijf vragen om te raden.\n",
    "\n",
    "Enkele tips:\n",
    "* Het kan helpen om eerst alle mogelijke combinaties op papier te schetsen (sketch)!\n",
    "* U kunt de functie `abs()` gebruiken om het positieve verschil tussen twee getallen te vinden\n",
    "* Als u alle nieuwe gissingen (guesses) aan de lijst toevoegt, wordt de vorige gissing gegeven als `guesses[-2]`"
   ]
  },
  {
   "cell_type": "code",
   "execution_count": null,
   "metadata": {
    "collapsed": true
   },
   "outputs": [],
   "source": [
    "while True:\n",
    "\n",
    "    # we can copy the code from above to take an input\n",
    "\n",
    "    pass"
   ]
  },
  {
   "cell_type": "markdown",
   "metadata": {},
   "source": [
    "Dat is het! Je hebt zojuist je eerste game geprogrammeerd!\n",
    "\n",
    "In de volgende sectie zullen we leren hoe we sommige van deze repetitieve acties kunnen omzetten in *functies* die kunnen worden aangeroepen wanneer we ze nodig hebben."
   ]
  },
  {
   "cell_type": "markdown",
   "metadata": {},
   "source": [
    "### Goed gedaan!"
   ]
  }
 ],
 "metadata": {
  "kernelspec": {
   "display_name": "Python 3",
   "language": "python",
   "name": "python3"
  },
  "language_info": {
   "codemirror_mode": {
    "name": "ipython",
    "version": 3
   },
   "file_extension": ".py",
   "mimetype": "text/x-python",
   "name": "python",
   "nbconvert_exporter": "python",
   "pygments_lexer": "ipython3",
   "version": "3.6.6"
  }
 },
 "nbformat": 4,
 "nbformat_minor": 2
}
