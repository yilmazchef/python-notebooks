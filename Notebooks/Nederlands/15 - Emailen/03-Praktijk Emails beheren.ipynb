{
 "cells": [
  {
   "cell_type": "markdown",
   "source": [
    "# Praktijk Emails beheren:"
   ],
   "metadata": {
    "collapsed": false
   }
  },
  {
   "cell_type": "markdown",
   "source": [
    "This post aims to someone that is starting with Python but also can be useful to knowledgeable users who haven’t worked with email before. The version of Python used to make this post was 3.6.x."
   ],
   "metadata": {
    "collapsed": false
   }
  },
  {
   "cell_type": "markdown",
   "source": [
    "## The email Protocols\n",
    "\n",
    "Email systems are robust because they rely upon well-established protocols used by all email platforms across the internet. These protocols are defined and published by documents called [RFC](https://en.wikipedia.org/wiki/Request_for_Comments) that stands for Request for Comments and resemble the [PEPs](https://www.python.org/dev/peps/) from Python, but for protocols and patterns that define the operation of communication systems through the internet.\n",
    "\n",
    "To send emails, we use the [SMTP](https://en.wikipedia.org/wiki/Simple_Mail_Transfer_Protocol) protocol (RFCs [821](https://tools.ietf.org/html/rfc821) e [5321](https://tools.ietf.org/html/rfc5321)), and to receive them, we use [IMAP](https://en.wikipedia.org/wiki/Internet_Message_Access_Protocol) (RFC [3501](https://tools.ietf.org/html/rfc3501)) or [POP](https://en.wikipedia.org/wiki/Post_Office_Protocol) (RFCs [918](https://tools.ietf.org/html/rfc918) e [1081](https://tools.ietf.org/html/rfc1081)) protocols.\n",
    "\n",
    "## Sending emails\n",
    "\n",
    "Simple Mail Transfer Protocol or **SMTP** is a protocol from the application layer used to send emails. It operates over [TCP/IP](https://en.wikipedia.org/wiki/Internet_protocol_suite), and your communication is often made using the port 25 or 587 for unencrypted connections and 465 for [TLS/SSL](https://en.wikipedia.org/wiki/Transport_Layer_Security) encrypted connections.\n",
    "\n",
    "Python comes with batteries included, so we don’t need to install any external package to deal with **SMTP**. We use a library called `smtplib`:"
   ],
   "metadata": {
    "collapsed": false
   }
  },
  {
   "cell_type": "markdown",
   "source": [
    "import smtplib\n",
    "from email.mime.text import MIMEText\n",
    "\n",
    ">>  connect with Google's servers\n",
    "smtp_ssl_host = 'smtp.gmail.com'\n",
    "smtp_ssl_port = 465\n",
    "\n",
    ">> use username or email to log in\n",
    "\n",
    "username = 'origin@gmail.com'\n",
    "password = 'password'\n",
    "\n",
    "from_addr = 'origin@gmail.com'\n",
    "to_addrs = ['destiny@gmail.com']\n",
    "\n",
    ">> the email lib has a lot of templates\n",
    ">> for different message formats,\n",
    ">> on our case we will use MIMEText\n",
    ">> to send only text\n",
    "\n",
    "message = MIMEText('Hello World')\n",
    "message['subject'] = 'Hello'\n",
    "message['from'] = from_addr\n",
    "message['to'] = ', '.join(to_addrs)\n",
    "\n",
    ">> we'll connect using SSL\n",
    "\n",
    "server = smtplib.SMTP_SSL(smtp_ssl_host, smtp_ssl_port)\n",
    "\n",
    ">> to interact with the server, first we log in\n",
    ">> and then we send the message\n",
    "\n",
    "server.login(username, password)\n",
    "server.sendmail(from_addr, to_addrs, message.as_string())\n",
    "server.quit()"
   ],
   "metadata": {
    "collapsed": false
   }
  },
  {
   "cell_type": "markdown",
   "source": [
    "In case you have problems to connect at Google, you need to enable the “Less secure app access”.\n",
    "\n",
    "Google blocks access from apps that it judges as not following its security standards, the problem is they don’t have a clear explanation of what these standards are, besides that it’s not a trivial task for whom is starting and doing the first test to struggle with that.\n",
    "\n",
    "That said if you are facing this issue, you can enable access to make your tests by accessing [https://myaccount.google.com/u/0/security?hl=en](https://myaccount.google.com/u/0/security?hl=en)"
   ],
   "metadata": {
    "collapsed": false
   }
  },
  {
   "cell_type": "markdown",
   "source": [
    "Now we can use Google as our **gateway** to send the messages, but keep in mind that even with Google as your **gateway** there is a policy of email sending, so be careful with **SPAMS**."
   ],
   "metadata": {
    "collapsed": false
   }
  },
  {
   "cell_type": "markdown",
   "source": [
    "## Receiving emails\n",
    "\n",
    "The **IMAP** Internet Message Access Protocol is used to receive emails, and as on **SMTP** it operates at the application layer over **TCP/IP**. The port used for its connections is 143 for unencrypted and 993 for encrypted.\n",
    "\n",
    "Another protocol that works for this task is **POP** Post Office Protocol, but **IMAP** is better due to its synchronization between the client and the server and also the ability to access more than the email inbox.\n",
    "\n",
    "The process of receiving emails is more complicated than sending because you also have to search for the message and decode it:"
   ],
   "metadata": {
    "collapsed": false,
    "pycharm": {
     "name": "#%% md\n"
    }
   }
  },
  {
   "cell_type": "code",
   "execution_count": null,
   "outputs": [],
   "source": [
    "import email\n",
    "import imaplib\n",
    "\n",
    "EMAIL = 'mymail@mail.com'\n",
    "PASSWORD = 'password'\n",
    "SERVER = 'imap.gmail.com'\n",
    "\n",
    "# connect to the server and go to its inbox\n",
    "mail = imaplib.IMAP4_SSL(SERVER)\n",
    "mail.login(EMAIL, PASSWORD)\n",
    "# we choose the inbox but you can select others\n",
    "mail.select('inbox')\n",
    "\n",
    "# we'll search using the ALL criteria to retrieve\n",
    "# every message inside the inbox\n",
    "# it will return with its status and a list of ids\n",
    "status, data = mail.search(None, 'ALL')\n",
    "# the list returned is a list of bytes separated\n",
    "# by white spaces on this format: [b'1 2 3', b'4 5 6']\n",
    "# so, to separate it first we create an empty list\n",
    "mail_ids = []\n",
    "# then we go through the list splitting its blocks\n",
    "# of bytes and appending to the mail_ids list\n",
    "for block in data:\n",
    "    # the split function called without parameter\n",
    "    # transforms the text or bytes into a list using\n",
    "    # as separator the white spaces:\n",
    "    # b'1 2 3'.split() => [b'1', b'2', b'3']\n",
    "    mail_ids += block.split()\n",
    "\n",
    "# now for every id we'll fetch the email\n",
    "# to extract its content\n",
    "for i in mail_ids:\n",
    "    # the fetch function fetch the email given its id\n",
    "    # and format that you want the message to be\n",
    "    status, data = mail.fetch(i, '(RFC822)')\n",
    "\n",
    "    # the content data at the '(RFC822)' format comes on\n",
    "    # a list with a tuple with header, content, and the closing\n",
    "    # byte b')'\n",
    "    for response_part in data:\n",
    "        # so if its a tuple...\n",
    "        if isinstance(response_part, tuple):\n",
    "            # we go for the content at its second element\n",
    "            # skipping the header at the first and the closing\n",
    "            # at the third\n",
    "            message = email.message_from_bytes(response_part[1])\n",
    "\n",
    "            # with the content we can extract the info about\n",
    "            # who sent the message and its subject\n",
    "            mail_from = message['from']\n",
    "            mail_subject = message['subject']\n",
    "\n",
    "            # then for the text we have a little more work to do\n",
    "            # because it can be in plain text or multipart\n",
    "            # if its not plain text we need to separate the message\n",
    "            # from its annexes to get the text\n",
    "            if message.is_multipart():\n",
    "                mail_content = ''\n",
    "\n",
    "                # on multipart we have the text message and\n",
    "                # another things like annex, and html version\n",
    "                # of the message, in that case we loop through\n",
    "                # the email payload\n",
    "                for part in message.get_payload():\n",
    "                    # if the content type is text/plain\n",
    "                    # we extract it\n",
    "                    if part.get_content_type() == 'text/plain':\n",
    "                        mail_content += part.get_payload()\n",
    "            else:\n",
    "                # if the message isn't multipart, just extract it\n",
    "                mail_content = message.get_payload()\n",
    "\n",
    "            # and then let's show its result\n",
    "            print(f'From: {mail_from}')\n",
    "            print(f'Subject: {mail_subject}')\n",
    "            print(f'Content: {mail_content}')"
   ],
   "metadata": {
    "collapsed": false,
    "pycharm": {
     "name": "#%%\n"
    }
   }
  },
  {
   "cell_type": "markdown",
   "source": [
    "On this code, we extracted only the plain text of the email, but there’s much more you can extract, like the **HTML** content and the annexed files, but this can be a topic for a next post.\n",
    "\n",
    "### BONUS: Automate the cleaning of bloated mailboxes\n",
    "\n",
    "Recently, my mailbox got bloated, and I had to do a clean up to get some space, but the high amount of messages overloaded the Gmail interface.\n",
    "\n",
    "So, to solve that, and also for automating this tedious manual task, I wrote this:"
   ],
   "metadata": {
    "collapsed": false,
    "pycharm": {
     "name": "#%% md\n"
    }
   }
  },
  {
   "cell_type": "code",
   "execution_count": null,
   "outputs": [],
   "source": [
    "import imaplib\n",
    "\n",
    "# caso sua caixa de emails esteja muito cheia\n",
    "# use esta variável para aumentar o limite do\n",
    "# tamanho da resposta\n",
    "imaplib._MAXLINE = 1000000\n",
    "\n",
    "EMAIL = 'mymail@gmail.com'\n",
    "PASSWORD = 'password'\n",
    "SERVER = 'imap.gmail.com'\n",
    "\n",
    "mail = imaplib.IMAP4_SSL(SERVER)\n",
    "mail.login(EMAIL, PASSWORD)\n",
    "# select the box you want to clean\n",
    "mail.select('bloated_box')\n",
    "\n",
    "status, search_data = mail.search(None, 'ALL')\n",
    "\n",
    "mail_ids = []\n",
    "\n",
    "for block in search_data:\n",
    "    mail_ids += block.split()\n",
    "\n",
    "# define the range for the operation\n",
    "start = mail_ids[0].decode()\n",
    "end = mail_ids[-1].decode()\n",
    "\n",
    "# move the emails to the trash\n",
    "# this step is Gmail specific because\n",
    "# it doesn't allow excluding messages\n",
    "# outside the trash\n",
    "mail.store(f'{start}:{end}'.encode(), '+X-GM-LABELS', '\\\\Trash')\n",
    "\n",
    "# access the Gmail trash\n",
    "mail.select('[Gmail]/Trash')\n",
    "# mark the emails to be deleted\n",
    "mail.store(\"1:*\", '+FLAGS', '\\\\Deleted')\n",
    "\n",
    "# remove permanently the emails\n",
    "mail.expunge()\n",
    "\n",
    "# close the mailboxes\n",
    "mail.close()\n",
    "# close the connection\n",
    "mail.logout()"
   ],
   "metadata": {
    "collapsed": false,
    "pycharm": {
     "name": "#%%\n"
    }
   }
  },
  {
   "cell_type": "code",
   "execution_count": null,
   "outputs": [],
   "source": [
    "import smtplib\n",
    "from email.mime.text import MIMEText\n",
    "\n",
    "# connect with Google's servers\n",
    "smtp_ssl_host = 'smtp.gmail.com'\n",
    "smtp_ssl_port = 465\n",
    "# use username or email to log in\n",
    "username = 'origin@gmail.com'\n",
    "password = 'password'\n",
    "\n",
    "from_addr = 'origin@gmail.com'\n",
    "to_addrs = ['destiny@gmail.com']\n",
    "\n",
    "# the email lib has a lot of templates\n",
    "# for different message formats,\n",
    "# on our case we will use MIMEText\n",
    "# to send only text\n",
    "message = MIMEText('Hello World')\n",
    "message['subject'] = 'Hello'\n",
    "message['from'] = from_addr\n",
    "message['to'] = ', '.join(to_addrs)\n",
    "\n",
    "# we'll connect using SSL\n",
    "server = smtplib.SMTP_SSL(smtp_ssl_host, smtp_ssl_port)\n",
    "# to interact with the server, first we log in\n",
    "# and then we send the message\n",
    "server.login(username, password)\n",
    "server.sendmail(from_addr, to_addrs, message.as_string())\n",
    "server.quit()"
   ],
   "metadata": {
    "collapsed": false,
    "pycharm": {
     "name": "#%%\n"
    }
   }
  }
 ],
 "metadata": {
  "kernelspec": {
   "display_name": "Python 3",
   "language": "python",
   "name": "python3"
  },
  "language_info": {
   "codemirror_mode": {
    "name": "ipython",
    "version": 2
   },
   "file_extension": ".py",
   "mimetype": "text/x-python",
   "name": "python",
   "nbconvert_exporter": "python",
   "pygments_lexer": "ipython2",
   "version": "2.7.6"
  }
 },
 "nbformat": 4,
 "nbformat_minor": 0
}