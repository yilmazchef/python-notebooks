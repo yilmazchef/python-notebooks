{
 "cells": [
  {
   "attachments": {},
   "cell_type": "markdown",
   "metadata": {
    "id": "4L1nfzVwPRvd"
   },
   "source": [
    "## IP Address "
   ]
  },
  {
   "attachments": {},
   "cell_type": "markdown",
   "metadata": {
    "id": "NYTRXc2VPRv8"
   },
   "source": [
    "> In deze tutorial gebruik je de module \"ipaddress\" die je zal helpen om gemakkelijker om te gaan met ip-adressen en netwerkprefixen.\n",
    "\n",
    " Bekijk eerst de documentatie van de module in het bijgevoegde pdf-bestand. Voer daarna de volgende taken uit "
   ]
  },
  {
   "cell_type": "code",
   "execution_count": null,
   "metadata": {
    "colab": {
     "base_uri": "https://localhost:8080/"
    },
    "id": "o0y58K9ZPRwA",
    "outputId": "c40b591c-df98-4310-a9c6-8c9535b4fef2"
   },
   "outputs": [],
   "source": [
    "%pip install ipaddress\n",
    "\n",
    "import ipaddress  # using the ipaddress module\n",
    "\n",
    "# Code begint hier\n",
    "# 1- print het aantal hosts in het netwerk 192.168.70.0/24 (0.5 markering)\n",
    "# 2- print het netwerkmasker en de lengte van het netwerk prefix van netwerk 192.168.70.0/24 (0.5 mark)\n",
    "# hint verwijs naar de extra attributen sectie in de pdf\n",
    "\n",
    "my_network = ipaddress.ip_network('192.168.70.0/24')\n",
    "\n",
    "print(my_network.num_addresses)\n",
    "print(my_network.netmask)\n",
    "print(my_network.prefixlen)"
   ]
  },
  {
   "cell_type": "code",
   "execution_count": null,
   "metadata": {
    "colab": {
     "base_uri": "https://localhost:8080/"
    },
    "id": "2vws58GLPRwE",
    "outputId": "65dba9ba-b693-4df3-b170-4a31d91565f4"
   },
   "outputs": [],
   "source": [
    "# 2- print de hosts in het netwerk 192.168.70.0/24 (0.5 mark)\n",
    "\n",
    "for my_host in my_network.hosts():\n",
    "    print(my_host)"
   ]
  },
  {
   "cell_type": "code",
   "execution_count": null,
   "metadata": {
    "colab": {
     "base_uri": "https://localhost:8080/"
    },
    "id": "gm74KxhAPRwJ",
    "outputId": "fd911dff-5336-478c-fee2-eac6f9a90278"
   },
   "outputs": [],
   "source": [
    "# 3- neem een ip adres van de gebruiker en controleer en print een bericht dat aangeeft of\n",
    "# dit adres behoort tot het netwerk 192.168.70.0/24 of niet (0,5 markering)\n",
    "\n",
    "user_ip = input(\"Enter an IP address\")\n",
    "xx = ipaddress.ip_address(user_ip)\n",
    "xx in ipaddress.ip_network('192.168.70.0/24')\n"
   ]
  },
  {
   "cell_type": "code",
   "execution_count": null,
   "metadata": {
    "id": "oqh7frqFPRwL"
   },
   "outputs": [],
   "source": [
    "# 4- definieer de functie routing_table() (4 punten)\n",
    "# deze functie neemt zijn invoer van de gebruiker om zijn routeringstabel op te bouwen\n",
    "# de routeringstabel moet er als volgt uitzien :\n",
    "#\n",
    "#-------------------------------------------------\n",
    "#    Network           |   output port number    |\n",
    "#-------------------------------------------------\n",
    "#  192.160.50.0/24    |    1                     |\n",
    "#  192.160.50.0/24    |    2                     |\n",
    "#  192.160.50.0/24    |    3                     |\n",
    "#  192.160.50.0/24    |    4                     |\n",
    "#  else               |    0                     |\n",
    "#-------------------------------------------------\n",
    "#\n",
    "# de functie stuurt de routeringstabel terug als een lijst van netwerken en relatieve uitvoerpoorten interfaces\n",
    "# de functie moet de gebruiker eerst om het aantal vereiste interfaces vragen \n",
    "# dan vraagt hij de gebruiker om de routing tabel entries dienovereenkomstig te vullen \n",
    "# indien de gebruiker het teken \"0\" als uitgangsinterface heeft ingevoerd, stelt de functie deze in als standaardinterface \n",
    "# in alle gevallen moet de routeringstabel een standaard uitvoerinterface bevatten in geval van een willekeurig netwerkadres\n",
    "# bij de router aankomen terwijl het buiten het bereik van zijn routing entries valt\n",
    "#hint je kunt een lijst van woordenboeken gebruiken \n",
    "\n",
    "# Je code begint hier \n",
    "\n",
    "def routing_table():\n",
    "    network_ips = []\n",
    "    output_port = []\n",
    "    req_interface = input('Enter number of required interfaces:')\n",
    "    for i in range(req_interface):\n",
    "        input(network_ips[i])\n",
    "        input(output_port[i])\n"
   ]
  },
  {
   "cell_type": "code",
   "execution_count": null,
   "metadata": {
    "id": "OqK7HhG7PRwP"
   },
   "outputs": [],
   "source": [
    "\n",
    "DL = routing_table()\n",
    "print(DL)\n"
   ]
  },
  {
   "attachments": {},
   "cell_type": "markdown",
   "metadata": {
    "id": "BBeNnt_JPRwR"
   },
   "source": [
    "> Test de functie routing_table() met de volgende testcase\n",
    "\n",
    "number of interfaces = 4\n",
    "\n",
    "Network1: 192.168.0.0/24  --> 1\n",
    "\n",
    "Network2: 192.168.0.0/16  --> 2\n",
    "\n",
    "Network3: 150.20.70.0/24  --> 0\n",
    "\n",
    "Network4: 170.200.30.192/26  --> 3\n"
   ]
  },
  {
   "cell_type": "code",
   "execution_count": null,
   "metadata": {
    "id": "VhU1zNo9PRwT"
   },
   "outputs": [],
   "source": [
    "# 5- define function forward (4 marks)\n",
    "# de functie neemt als input de routing tabel zoals geretourneerd door functie routing_table() en een ip adres als string.\n",
    "# de functie moet de langste prefix match uitvoeren tussen het ip en de terugkerende tabel\n",
    "# dan moet de functie beslissen (terugkeren en afdrukken) welke interface geschikt is om het pakket met het ingevoerde ip naar door te sturen.\n",
    "# Uw code begint hier\n",
    "\n",
    "def forward(routing_table):\n",
    "    pass\n",
    "\n",
    "#de functie-uitgang is vergelijkbaar of hetzelfde als het volgende:\n",
    "#de interface 192.168.0.1 wordt doorgestuurd via poort 1 "
   ]
  },
  {
   "attachments": {},
   "cell_type": "markdown",
   "metadata": {
    "id": "Go9oxHw8PRwW",
    "pycharm": {
     "name": "#%% md\n"
    }
   },
   "source": [
    "> Test de functie forward() met de volgende testgevallen\n",
    "\n",
    "forward(DL,\"192.168.0.1\")\n",
    "\n",
    "forward(DL,'192.168.50.1')\n",
    "\n",
    "forward(DL,'150.20.70.2')\n",
    "\n",
    "forward(DL,'190.169.0.1')\n",
    "\n",
    "forward(DL,'190.169.0.1')\n",
    "\n",
    "forward(DL,'170.200.30.240')"
   ]
  }
 ],
 "metadata": {
  "colab": {
   "include_colab_link": true,
   "name": "PythonNetworking.ipynb",
   "provenance": []
  },
  "kernelspec": {
   "display_name": "lesgeven",
   "language": "python",
   "name": "python3"
  },
  "language_info": {
   "codemirror_mode": {
    "name": "ipython",
    "version": 3
   },
   "file_extension": ".py",
   "mimetype": "text/x-python",
   "name": "python",
   "nbconvert_exporter": "python",
   "pygments_lexer": "ipython3",
   "version": "3.10.8 | packaged by conda-forge | (main, Nov 24 2022, 14:07:00) [MSC v.1916 64 bit (AMD64)]"
  },
  "vscode": {
   "interpreter": {
    "hash": "9a3f8754118d89546ba66fd3e8c423f2768f1186c6b5f42757b60aabc450c67b"
   }
  }
 },
 "nbformat": 4,
 "nbformat_minor": 0
}
