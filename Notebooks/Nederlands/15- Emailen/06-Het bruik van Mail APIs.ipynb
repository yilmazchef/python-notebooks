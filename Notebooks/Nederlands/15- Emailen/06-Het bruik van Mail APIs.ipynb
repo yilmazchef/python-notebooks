{
 "cells": [
  {
   "cell_type": "markdown",
   "metadata": {
    "collapsed": true,
    "pycharm": {
     "name": "#%% md\n"
    }
   },
   "source": [
    "# Het bruik van Mail APIs om emails te sturen"
   ]
  },
  {
   "cell_type": "markdown",
   "source": [
    "## MailGun\n",
    "\n",
    "Om MailGun APIs te gebruiken moet u eerst naar mailgun.com inschrijven. Volg alle stappen om een API key te hebben zowel een email te sturen.\n",
    "\n",
    "1. Schrijv u in naar het website\n",
    "2. Activeer uw account via email link: Check your inbox for a \"Please verify your Mailgun account\" email, click the link, and you're done!\n",
    "3. Start met email te sturen: To SMTP or API? That is the question. This guide can help you decide.\n",
    "4. Ontvang better kwaliteit emails: Enhance your reputation by sending from a dedicated IP and use Mailgun's email validation service to make sure you have real email addresses from real people on your list.\n"
   ],
   "metadata": {
    "collapsed": false,
    "pycharm": {
     "name": "#%% md\n"
    }
   }
  },
  {
   "cell_type": "code",
   "execution_count": null,
   "outputs": [],
   "source": [
    "import requests\n",
    "\n",
    "\n",
    "def send_simple_message():\n",
    "    return requests.post(\n",
    "        \"https://api.mailgun.net/v3/sandbox7f79f3598b5b44babe4a1a6154f6486d.mailgun.org/messages\",\n",
    "        auth=(\"api\", \"YOUR_MAIL_GUN_API_HERE\"),\n",
    "        data={\"from\": \"Mailgun Sandbox <AUTO_GENERATED_SANDBOX_EMAIL_HERE>\",\n",
    "              \"to\": \"Yilmaz Mustafa <chef@mail.be>\",\n",
    "              \"subject\": \"Hello Yilmaz Mustafa\",\n",
    "              \"text\": \"Congratulations Yilmaz Mustafa, you just sent an email with Mailgun!  You are truly awesome!\"})\n",
    "\n",
    "# You can see a record of this email in your logs: https://app.mailgun.com/app/logs.\n",
    "\n",
    "# You can send up to 300 emails/day from this sandbox server.\n",
    "# Next, you should add your own domain, so you can send 10000 emails/month for free."
   ],
   "metadata": {
    "collapsed": false,
    "pycharm": {
     "name": "#%%\n"
    }
   }
  }
 ],
 "metadata": {
  "kernelspec": {
   "display_name": "Python 3",
   "language": "python",
   "name": "python3"
  },
  "language_info": {
   "codemirror_mode": {
    "name": "ipython",
    "version": 2
   },
   "file_extension": ".py",
   "mimetype": "text/x-python",
   "name": "python",
   "nbconvert_exporter": "python",
   "pygments_lexer": "ipython2",
   "version": "2.7.6"
  }
 },
 "nbformat": 4,
 "nbformat_minor": 0
}