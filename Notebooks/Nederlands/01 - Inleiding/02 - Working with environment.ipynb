{
 "cells": [
  {
   "attachments": {},
   "cell_type": "markdown",
   "id": "e7d107ef",
   "metadata": {},
   "source": [
    "# Virtuele Code Omgevingen"
   ]
  },
  {
   "attachments": {},
   "cell_type": "markdown",
   "id": "7ff26e6e",
   "metadata": {},
   "source": [
    "In dit hoofdstuk leer je over virtuele codeeromgevingen. Hiermee kun je alle pakketten die je gebruikt om analyses uit te voeren voor één project isoleren van de pakketten die je nodig hebt voor een ander project. Ze zijn een belangrijk onderdeel van het maken van een reproduceerbare analytische pijplijn (meer daarover in {ref}`wrkflow-rap` maar een belangrijk voordeel is dat anderen de door jou gebruikte omgeving kunnen reproduceren) en het is best practice om per project een geïsoleerde omgeving te hebben.\n",
    "\n",
    "Het is misschien gemakkelijker om het maken van aparte omgevingen te illustreren met een voorbeeld. Stel dat u Python 3.8, statsmodels en pandas gebruikt voor één project, project A. En voor project B gebruikt u Python 3.9 met numpy en scikit-learn. Zelfs met dezelfde versie van Python zou de beste praktijk zijn om twee afzonderlijke virtuele Python-omgevingen te hebben: omgeving A, met alles wat nodig is voor project A, en omgeving B, met alles wat nodig is voor project B. In het geval dat u verschillende versies van Python gebruikt, is dit niet alleen de beste praktijk, maar zelfs essentieel.\n",
    "\n",
    "Veel programmeertalen hebben nu een optie om pakketten en een versie van de taal in geïsoleerde omgevingen te installeren. In Python zijn er meerdere tools om verschillende omgevingen te beheren. Daarvan is de eenvoudigste om mee te werken waarschijnlijk [**Anaconda**](https://docs.conda.io/projects/conda/en/latest/index.html) (afgekort conda), hoewel [**poetry**](https://python-poetry.org/) een andere sterke optie is.\n",
    "\n",
    "Als je net begint met coderen, raadt dit boek je aan om Anaconda (aka conda) omgevingen te gebruiken.\n"
   ]
  },
  {
   "attachments": {},
   "cell_type": "markdown",
   "id": "d15844a4",
   "metadata": {},
   "source": [
    "## Anaconda gebruiken om Python-omgevingen te beheren"
   ]
  },
  {
   "attachments": {},
   "cell_type": "markdown",
   "id": "756c6f97",
   "metadata": {},
   "source": [
    "Much of these two subsections is covered by the Anaconda documentation on [managing virtual environments](https://docs.conda.io/projects/conda/en/latest/user-guide/tasks/manage-environments.html)."
   ]
  },
  {
   "attachments": {},
   "cell_type": "markdown",
   "id": "56cca638",
   "metadata": {},
   "source": [
    "### Creating Environments"
   ]
  },
  {
   "attachments": {},
   "cell_type": "markdown",
   "id": "3f6355d8",
   "metadata": {},
   "source": [
    "If you're using Anaconda, you manage and change environments on the command line (more on the command line in {ref}`wrkflow-command-line`). Before following these instructions, check that you have Anaconda installed and activated. You should see something like `(base) username@computername:~$` on the command line (base is the default conda environment)."
   ]
  },
  {
   "attachments": {},
   "cell_type": "markdown",
   "id": "d9010231",
   "metadata": {},
   "source": [
    "To create a new environment called \"myenv\" with a specific version of Python (but no extra packages installed), it's\n",
    "\n",
    "```bash\n",
    "conda create -n myenv python=3.8\n",
    "```\n",
    "\n",
    "where you can of course specify other versions of Python by changing the number. To throw in a package or two, just add them to the end, for example\n",
    "\n",
    "```bash\n",
    "conda create -n myenv python=3.8 pandas jupyter\n",
    "```\n",
    "\n",
    "You can see a list of the currently installed environments by running\n",
    "\n",
    "```bash\n",
    "conda env list\n",
    "```\n",
    "\n",
    "Running the same command within an environment will \n",
    "\n",
    "When you install Anaconda, you will begin with a \"base\" environment. It's a good idea not to use this for projects but to instead to create a new environment for each project.\n",
    "\n",
    "There are two downsides to installing environments directly from the command line. One is that you may have lots of packages. The second is that you may wish to keep a record of the environment you created. For both of these reasons, you can specify a conda environment using a file."
   ]
  },
  {
   "attachments": {},
   "cell_type": "markdown",
   "id": "5e5710d2",
   "metadata": {},
   "source": [
    "The pandas example we saw above would look like\n",
    "\n",
    "```yaml\n",
    "name: myenv\n",
    "channels:\n",
    "  - conda-forge\n",
    "dependencies:\n",
    "  - python=3.8\n",
    "  - pandas\n",
    "  - jupyter\n",
    "\n",
    "```"
   ]
  },
  {
   "attachments": {},
   "cell_type": "markdown",
   "id": "d1eee2a0",
   "metadata": {},
   "source": [
    "The environment is given by `name`, the channel (where to look for the packages) by `channels`, the specific packages by `dependencies`. Not all packages are available on conda's channels, so sometimes extra ones are needed. And some packages are only available on pip; these can be specified with a sub-section of the file like so for the **skimpy** package:\n",
    "\n",
    "```yaml\n",
    "name: myenv\n",
    "channels:\n",
    "  - conda-forge\n",
    "dependencies:\n",
    "  - python=3.8\n",
    "  - pandas\n",
    "  - jupyter\n",
    "  - pip:\n",
    "    - skimpy\n",
    "\n",
    "```"
   ]
  },
  {
   "attachments": {},
   "cell_type": "markdown",
   "id": "5fc8d4a7",
   "metadata": {},
   "source": [
    "This goes into a file called `environment.yml`, which can be installed by running\n",
    "\n",
    "```bash\n",
    "conda env create -f environment.yml\n",
    "```\n",
    "\n",
    "This book is put together using an isolated *conda* environment specificied in a file. It's an unusually big one because there are a lot of packages featured in the book! Here they are:"
   ]
  },
  {
   "cell_type": "code",
   "execution_count": null,
   "id": "3d62aaa8",
   "metadata": {
    "tags": [
     "hide-input"
    ]
   },
   "outputs": [],
   "source": [
    "from rich import print\n",
    "\n",
    "with open(\"environment.yml\", 'r') as stream:\n",
    "    data_loaded = stream.read()\n",
    "\n",
    "print(data_loaded)"
   ]
  },
  {
   "attachments": {},
   "cell_type": "markdown",
   "id": "6261afbe",
   "metadata": {},
   "source": [
    "Of course, you can install packages as you go too, you don't have to specify them when you create the environment. With the relevant environment activated, use `conda install packagename` to do this.\n",
    "\n",
    "Finally, to remove an environment, it's\n",
    "\n",
    "```bash\n",
    "conda remove --name myenv --all\n",
    "```"
   ]
  },
  {
   "attachments": {},
   "cell_type": "markdown",
   "id": "03b35810",
   "metadata": {},
   "source": [
    "### Using and Switching Between Conda Environments \n",
    "\n",
    "To switch between conda environments on the command line, for example from the base environment to an environment called \"myenv\", use\n",
    "\n",
    "```bash\n",
    "conda activate myenv\n",
    "```\n",
    "\n",
    "on the command line. However, this only switches the environment if you plan to run code on the command line!\n",
    "\n",
    "Fortunately, Visual Studio Code has you covered and makes it very easy to switch Python environments for a project at the click of a button.\n",
    "\n",
    "![image.png](attachment:image.png)\n",
    "\n",
    "In the screenshot above, you can see the project-environment in two places: on the blue bar at the bottom of the screen, and (in 5), at the top right hand side of the interactive window. Click on either to change the Python environment that will be used to execute code. A similar top right selector is present for Jupyter Notebooks too.\n"
   ]
  },
  {
   "attachments": {},
   "cell_type": "markdown",
   "id": "64b68358",
   "metadata": {},
   "source": [
    "## Using Poetry to Manage Environments\n"
   ]
  },
  {
   "cell_type": "markdown",
   "id": "a97a015d",
   "metadata": {},
   "source": [
    "\n",
    "[**Poetry**](https://python-poetry.org/) takes a different tack to Anaconda, and one that is built around creating Python packages. So it's more suited to intermediate to advanced coders. As well as providing virtual environments, it can:\n",
    "- creates virtual environments on a per project basis\n",
    "- manage Python package dependencies, and logs them automatically\n",
    "- manage Python package versions, and logs them automatically\n",
    "- install all needed dependencies and packages from previously auto-generated (by Poetry) lists of versions\n",
    "- (advanced) build Python packages\n",
    "- (advanced) upload Python packages to PyPI where they can be installed (ie make your project pip installable by anyone in the world)\n",
    "\n",
    "Just like conda, poetry is a command line tool. But *unlike* conda, the environment it creates is tied to your project folder. After navigating to your project folder on the command line, use\n",
    "\n",
    "```bash\n",
    "poetry init\n",
    "```\n",
    "\n",
    "This will prompt you with a series of questions about the basic packages and version of Python you want to use for your project and will create a (human-readable) `pyproject.toml` file that lists the packages needed for your project. It will also create a virtual Python environment just for your project.\n",
    "\n",
    "To add and install packages, the command is `poetry add package-name`. As you add packages, you will see that the `pyproject.toml` file automatically becomes populated with what you installed. Here's an excerpt of a typical `pyproject.toml` file designed for reproducibility:\n",
    "\n",
    "```text\n",
    "[tool.poetry.dependencies]\n",
    "python = \"3.7.1\"\n",
    "click = \"8.0.1\"\n",
    "rich = \"10.9.0\"\n",
    "pandas = \"1.3.2\"\n",
    "Pygments = \"2.10.0\"\n",
    "typeguard = \"2.12.1\"\n",
    "```\n",
    "\n",
    "The first line here says that this runs on Python 3.7.1. A second file, `poetry.lock`, is also created. This \"locks\" down the dependencies of your packages.\n"
   ]
  },
  {
   "attachments": {},
   "cell_type": "markdown",
   "id": "e26c2ce5",
   "metadata": {},
   "source": [
    "### Using Poetry Environments \n"
   ]
  },
  {
   "cell_type": "markdown",
   "id": "3a9492f7",
   "metadata": {},
   "source": [
    "\n",
    "To use the virtual environment to run scripts or tools installed using `poetry add`, you will need to use `poetry run command-name` rather than the usual `command-name`. For example, if you have a script `analysis.py`, you would call it with `poetry run python analysis.py`. You can also open a command line within the virtual environment using `poetry shell`.\n",
    "\n",
    "Visual Studio Code makes this easier though: just as with conda environments, you can set your interactive window or jupyter notebooks to execute with a specific poetry environment.\n",
    "\n",
    "Poetry is especially strong for reproducibility. Imagine you wish to have a co-author or colleague install everything they need for the project. If you send them the automatically generated `pyproject.toml` and `poetry.lock` files then all they need is to have the right version of Python installed already, to navigate to the project folder in the command line, and then to use `poetry install`. This will install all of the packages needed to run the code!"
   ]
  }
 ],
 "metadata": {
  "jupytext": {
   "cell_metadata_filter": "-all",
   "formats": "md:myst",
   "text_representation": {
    "extension": ".md",
    "format_name": "myst",
    "format_version": "0.8",
    "jupytext_version": "1.5.0"
   }
  },
  "kernelspec": {
   "display_name": "lesgeven",
   "language": "python",
   "name": "python3"
  },
  "language_info": {
   "codemirror_mode": {
    "name": "ipython",
    "version": 3
   },
   "file_extension": ".py",
   "mimetype": "text/x-python",
   "name": "python",
   "nbconvert_exporter": "python",
   "pygments_lexer": "ipython3",
   "version": "3.10.8 | packaged by conda-forge | (main, Nov 24 2022, 14:07:00) [MSC v.1916 64 bit (AMD64)]"
  },
  "source_map": [
   14,
   94,
   102
  ],
  "vscode": {
   "interpreter": {
    "hash": "9a3f8754118d89546ba66fd3e8c423f2768f1186c6b5f42757b60aabc450c67b"
   }
  }
 },
 "nbformat": 4,
 "nbformat_minor": 5
}
