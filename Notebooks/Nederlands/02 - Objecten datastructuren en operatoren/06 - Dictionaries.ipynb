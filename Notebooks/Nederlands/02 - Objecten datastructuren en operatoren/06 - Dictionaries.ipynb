{
 "cells": [
  {
   "cell_type": "markdown",
   "metadata": {},
   "source": [
    "<center>\n",
    "    <img src='https://intecbrussel.be/img/logo3.png' width='400px' height='auto'/>\n",
    "    <br/>\n",
    "    <em>Python les-materialen</em>\n",
    "</center>"
   ]
  },
  {
   "cell_type": "markdown",
   "metadata": {},
   "source": [
    "# Dictionaries (Woordenboeken)\n",
    "\n",
    "We hebben geleerd over *sequencen* in Python, maar nu gaan we een versnelling hoger schakelen (switchen) en leren over *mappings toewijzingen)* in Python. \n",
    "Als u bekend bent met andere talen, kunt u deze dictionaries zien als 'hash-tabellen'.\n",
    "\n",
    "Dit gedeelte dient als een korte inleiding tot woordenboeken en bestaat uit:\n",
    "\n",
    "     1.) Een dictionary bouwen\n",
    "     2.) Objecten openen vanuit een dictionary\n",
    "     3.) Geneste dictionaries\n",
    "     4.) Basis-dictionary-methoden\n",
    "\n",
    "Dus wat zijn mappings? Mappings zijn een verzameling objecten die worden opgeslagen door een *key (sleutel)*, in tegenstelling tot een reeks/sequence die objecten opslaat op hun relatieve positie. \n",
    "Dit is een belangrijk onderscheid, aangezien toewijzingen de volgorde niet behouden omdat ze objecten hebben die zijn gedefinieerd door een sleutel.\n",
    "\n",
    "Een Python-dictionary bestaat uit een key (sleutel) en vervolgens een bijbehorende value (waarde). Die waarde kan bijna elk Python-object zijn.\n",
    "\n",
    "\n",
    "## Een dictionary/woordenboek aanmaken\n",
    "Laten we eens kijken hoe we woordenboeken kunnen aanmaken om een beter begrip te krijgen van hoe ze werken!"
   ]
  },
  {
   "cell_type": "code",
   "execution_count": 1,
   "metadata": {
    "collapsed": true
   },
   "outputs": [],
   "source": [
    "# Maak een dictionary/woordenboek met {} en : om een sleutel en een waarde aan te duiden\n",
    "my_dict = {'key1':'value1','key2':'value2'}"
   ]
  },
  {
   "cell_type": "code",
   "execution_count": 2,
   "metadata": {},
   "outputs": [
    {
     "data": {
      "text/plain": [
       "'value2'"
      ]
     },
     "execution_count": 2,
     "metadata": {},
     "output_type": "execute_result"
    }
   ],
   "source": [
    "# Roep values (waarden) met hun key (sleutel)\n",
    "my_dict['key2']"
   ]
  },
  {
   "cell_type": "markdown",
   "metadata": {},
   "source": [
    "Het is belangrijk op te merken dat woordenboeken zeer flexibel zijn in de gegevenstypen die ze kunnen bevatten. Bijvoorbeeld:"
   ]
  },
  {
   "cell_type": "code",
   "execution_count": 3,
   "metadata": {
    "collapsed": true
   },
   "outputs": [],
   "source": [
    "my_dict = {'key1':123,'key2':[12,23,33],'key3':['item0','item1','item2']}"
   ]
  },
  {
   "cell_type": "code",
   "execution_count": 4,
   "metadata": {},
   "outputs": [
    {
     "data": {
      "text/plain": [
       "['item0', 'item1', 'item2']"
      ]
     },
     "execution_count": 4,
     "metadata": {},
     "output_type": "execute_result"
    }
   ],
   "source": [
    "# Laten we items uit het woordenboek accessen\n",
    "my_dict['key3']"
   ]
  },
  {
   "cell_type": "code",
   "execution_count": 5,
   "metadata": {},
   "outputs": [
    {
     "data": {
      "text/plain": [
       "'item0'"
      ]
     },
     "execution_count": 5,
     "metadata": {},
     "output_type": "execute_result"
    }
   ],
   "source": [
    "# Kan een index aanroepen op die value (waarde)\n",
    "my_dict['key3'][0]"
   ]
  },
  {
   "cell_type": "code",
   "execution_count": 6,
   "metadata": {},
   "outputs": [
    {
     "data": {
      "text/plain": [
       "'ITEM0'"
      ]
     },
     "execution_count": 6,
     "metadata": {},
     "output_type": "execute_result"
    }
   ],
   "source": [
    "# Kan dan zelfs methoden op die value (waarde) aanroepen\n",
    "my_dict['key3'][0].upper()"
   ]
  },
  {
   "cell_type": "markdown",
   "metadata": {},
   "source": [
    "We kunnen ook invloed hebben op de waarden van een sleutel. Bijvoorbeeld:"
   ]
  },
  {
   "cell_type": "code",
   "execution_count": 7,
   "metadata": {},
   "outputs": [
    {
     "data": {
      "text/plain": [
       "123"
      ]
     },
     "execution_count": 7,
     "metadata": {},
     "output_type": "execute_result"
    }
   ],
   "source": [
    "my_dict['key1']"
   ]
  },
  {
   "cell_type": "code",
   "execution_count": 8,
   "metadata": {
    "collapsed": true
   },
   "outputs": [],
   "source": [
    "# Trek 123 af van de value (waarde)\n",
    "my_dict['key1'] = my_dict['key1'] - 123"
   ]
  },
  {
   "cell_type": "code",
   "execution_count": 9,
   "metadata": {},
   "outputs": [
    {
     "data": {
      "text/plain": [
       "0"
      ]
     },
     "execution_count": 9,
     "metadata": {},
     "output_type": "execute_result"
    }
   ],
   "source": [
    "#Controleren\n",
    "my_dict['key1']"
   ]
  },
  {
   "cell_type": "markdown",
   "metadata": {},
   "source": [
    "Een snelle opmerking, Python heeft een ingebouwde methode om zelf af te trekken of op te tellen (of vermenigvuldigen of delen). We hadden ook += of -= kunnen gebruiken voor de bovenstaande verklaring. Bijvoorbeeld:"
   ]
  },
  {
   "cell_type": "code",
   "execution_count": 10,
   "metadata": {},
   "outputs": [
    {
     "data": {
      "text/plain": [
       "-123"
      ]
     },
     "execution_count": 10,
     "metadata": {},
     "output_type": "execute_result"
    }
   ],
   "source": [
    "# Stel het object gelijk aan zichzelf min (-) 123\n",
    "my_dict['key1'] -= 123\n",
    "my_dict['key1']"
   ]
  },
  {
   "cell_type": "markdown",
   "metadata": {},
   "source": [
    "We kunnen ook sleutels maken op basis van toewijzing. Als we bijvoorbeeld zouden beginnen met een leeg woordenboek, zouden we er voortdurend aan kunnen toevoegen:"
   ]
  },
  {
   "cell_type": "code",
   "execution_count": 11,
   "metadata": {
    "collapsed": true
   },
   "outputs": [],
   "source": [
    "# Maak een nieuw dictionary/woordenboek aan\n",
    "d = {}"
   ]
  },
  {
   "cell_type": "code",
   "execution_count": 12,
   "metadata": {
    "collapsed": true
   },
   "outputs": [],
   "source": [
    "# Maak een nieuwe sleutel via toewijzing (assignment) aan\n",
    "d['animal'] = 'Dog'"
   ]
  },
  {
   "cell_type": "code",
   "execution_count": 13,
   "metadata": {
    "collapsed": true
   },
   "outputs": [],
   "source": [
    "# Kan dit met elk object doen\n",
    "d['answer'] = 42"
   ]
  },
  {
   "cell_type": "code",
   "execution_count": 14,
   "metadata": {},
   "outputs": [
    {
     "data": {
      "text/plain": [
       "{'animal': 'Dog', 'answer': 42}"
      ]
     },
     "execution_count": 14,
     "metadata": {},
     "output_type": "execute_result"
    }
   ],
   "source": [
    "#Tonen\n",
    "d"
   ]
  },
  {
   "cell_type": "markdown",
   "metadata": {},
   "source": [
    "## Geneste dictionaries/woordenboeken\n",
    "\n",
    "Hopelijk begin je te zien hoe krachtig Python is met zijn flexibiliteit om objecten te nesten en methoden erop aan te roepen. Laten we een woordenboek bekijken dat in een woordenboek is genest:"
   ]
  },
  {
   "cell_type": "code",
   "execution_count": 15,
   "metadata": {
    "collapsed": true
   },
   "outputs": [],
   "source": [
    "# Woordenboek genest in een woordenboek genest in een woordenboek\n",
    "d = {'key1':{'nestkey':{'subnestkey':'value'}}}"
   ]
  },
  {
   "cell_type": "markdown",
   "metadata": {},
   "source": [
    "Wauw! Dat is nogal een begin van woordenboeken! Laten we eens kijken hoe we die value (waarde) kunnen grijpen:"
   ]
  },
  {
   "cell_type": "code",
   "execution_count": 16,
   "metadata": {},
   "outputs": [
    {
     "data": {
      "text/plain": [
       "'value'"
      ]
     },
     "execution_count": 16,
     "metadata": {},
     "output_type": "execute_result"
    }
   ],
   "source": [
    "# Blijf het key (sleutel) aan te roepen\n",
    "d['key1']['nestkey']['subnestkey']"
   ]
  },
  {
   "cell_type": "markdown",
   "metadata": {},
   "source": [
    "## Een paar woordenboekmethoden\n",
    "\n",
    "Er zijn een paar methoden waarop we een woordenboek kunnen gebruiken. Laten we een korte introductie geven tot een paar van hen:"
   ]
  },
  {
   "cell_type": "code",
   "execution_count": 17,
   "metadata": {
    "collapsed": true
   },
   "outputs": [],
   "source": [
    "# Maak een typisch woordenboek aan\n",
    "d = {'key1':1,'key2':2,'key3':3}"
   ]
  },
  {
   "cell_type": "code",
   "execution_count": 18,
   "metadata": {},
   "outputs": [
    {
     "data": {
      "text/plain": [
       "dict_keys(['key1', 'key2', 'key3'])"
      ]
     },
     "execution_count": 18,
     "metadata": {},
     "output_type": "execute_result"
    }
   ],
   "source": [
    "# Methode om een lijst van alle sleutels terug te geven (retourneren)\n",
    "d.keys()"
   ]
  },
  {
   "cell_type": "code",
   "execution_count": 19,
   "metadata": {},
   "outputs": [
    {
     "data": {
      "text/plain": [
       "dict_values([1, 2, 3])"
      ]
     },
     "execution_count": 19,
     "metadata": {},
     "output_type": "execute_result"
    }
   ],
   "source": [
    "# Methode om alle waarden op te halen\n",
    "d.values()"
   ]
  },
  {
   "cell_type": "code",
   "execution_count": 20,
   "metadata": {},
   "outputs": [
    {
     "data": {
      "text/plain": [
       "dict_items([('key1', 1), ('key2', 2), ('key3', 3)])"
      ]
     },
     "execution_count": 20,
     "metadata": {},
     "output_type": "execute_result"
    }
   ],
   "source": [
    "# Methode om tupels van alle items te retourneren (we zullen binnenkort meer leren over tupels)\n",
    "d.items()"
   ]
  },
  {
   "cell_type": "markdown",
   "metadata": {},
   "source": [
    "Hopelijk heb je nu een goed basisbegrip voor het maken van dictionaries/woordenboeken. Er is hier nog veel meer om op in te gaan, maar we zullen de woordenboeken later opnieuw bekijken. Na dit gedeelte hoeft u alleen maar te weten hoe u een woordenboek kunt maken en hoe u er waarden uit kunt halen."
   ]
  }
 ],
 "metadata": {
  "kernelspec": {
   "display_name": "Python 3",
   "language": "python",
   "name": "python3"
  },
  "language_info": {
   "codemirror_mode": {
    "name": "ipython",
    "version": 3
   },
   "file_extension": ".py",
   "mimetype": "text/x-python",
   "name": "python",
   "nbconvert_exporter": "python",
   "pygments_lexer": "ipython3",
   "version": "3.6.6"
  }
 },
 "nbformat": 4,
 "nbformat_minor": 1
}
