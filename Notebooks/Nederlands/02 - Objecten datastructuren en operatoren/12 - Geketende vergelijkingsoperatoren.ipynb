{
 "cells": [
  {
   "cell_type": "markdown",
   "metadata": {},
   "source": [
    "<center>\n",
    "    <img src='https://intecbrussel.be/img/logo3.png' width='400px' height='auto'/>\n",
    "    <br/>\n",
    "    <em>Python les-materialen</em>\n",
    "</center>"
   ]
  },
  {
   "cell_type": "markdown",
   "metadata": {},
   "source": [
    "# Geketende (chained) vergelijkingsoperators\n",
    "\n",
    "Een interessant kenmerk van Python is de mogelijkheid om meerdere vergelijkingen *aaneen te koppelen* om een complexere test/condities uit te voeren. \n",
    "U kunt deze geketende vergelijkingen gebruiken als afkorting voor grotere Booleaanse expressies.\n",
    "\n",
    "In deze lezing zullen we leren hoe we vergelijkingsoperatoren kunnen ketenen en we zullen ook twee andere belangrijke operatoren in Python introduceren: \n",
    "<br/>  **and** en **or**.\n",
    "\n",
    "Laten we eens kijken naar een paar voorbeelden van het gebruik van kettingen:"
   ]
  },
  {
   "cell_type": "code",
   "execution_count": 1,
   "metadata": {},
   "outputs": [
    {
     "data": {
      "text/plain": [
       "True"
      ]
     },
     "execution_count": 1,
     "metadata": {},
     "output_type": "execute_result"
    }
   ],
   "source": [
    "1 < 2 < 3"
   ]
  },
  {
   "cell_type": "markdown",
   "metadata": {},
   "source": [
    "Het bovenstaande statement controleert of 1 kleiner is dan 2 **en** 2 kleiner is dan 3. We hadden dit kunnen schrijven met een **and**-statement in Python:"
   ]
  },
  {
   "cell_type": "code",
   "execution_count": 2,
   "metadata": {},
   "outputs": [
    {
     "data": {
      "text/plain": [
       "True"
      ]
     },
     "execution_count": 2,
     "metadata": {},
     "output_type": "execute_result"
    }
   ],
   "source": [
    "1<2 and 2<3"
   ]
  },
  {
   "cell_type": "markdown",
   "metadata": {},
   "source": [
    "De **and** wordt gebruikt om ervoor te zorgen dat twee controles **True** moeten zijn om de totale controle waar te maken. Laten we nog een voorbeeld bekijken:"
   ]
  },
  {
   "cell_type": "code",
   "execution_count": 3,
   "metadata": {},
   "outputs": [
    {
     "data": {
      "text/plain": [
       "True"
      ]
     },
     "execution_count": 3,
     "metadata": {},
     "output_type": "execute_result"
    }
   ],
   "source": [
    "1 < 3 > 2"
   ]
  },
  {
   "cell_type": "markdown",
   "metadata": {},
   "source": [
    "Het bovenstaande controleert of 3 groter is dan de andere getallen, dus je zou **and** kunnen gebruiken om het te herschrijven als:"
   ]
  },
  {
   "cell_type": "code",
   "execution_count": 4,
   "metadata": {},
   "outputs": [
    {
     "data": {
      "text/plain": [
       "True"
      ]
     },
     "execution_count": 4,
     "metadata": {},
     "output_type": "execute_result"
    }
   ],
   "source": [
    "1<3 and 3>2"
   ]
  },
  {
   "cell_type": "markdown",
   "metadata": {},
   "source": [
    "Het is belangrijk op te merken dat Python beide instanties van de vergelijkingen controleert. We kunnen ook **or** gebruiken om vergelijkingen te schrijven in Python. Bijvoorbeeld:"
   ]
  },
  {
   "cell_type": "code",
   "execution_count": 5,
   "metadata": {},
   "outputs": [
    {
     "data": {
      "text/plain": [
       "True"
      ]
     },
     "execution_count": 5,
     "metadata": {},
     "output_type": "execute_result"
    }
   ],
   "source": [
    "1==2 or 2<3"
   ]
  },
  {
   "cell_type": "markdown",
   "metadata": {},
   "source": [
    "Merk op hoe het **True** was; dit komt omdat we met de operator **or** alleen de ene **of** de andere nodig hebben om True te zijn. Laten we nog een voorbeeld bekijken om dit beter te begrijpen:"
   ]
  },
  {
   "cell_type": "code",
   "execution_count": 6,
   "metadata": {},
   "outputs": [
    {
     "data": {
      "text/plain": [
       "True"
      ]
     },
     "execution_count": 6,
     "metadata": {},
     "output_type": "execute_result"
    }
   ],
   "source": [
    "1==1 or 100==1"
   ]
  },
  {
   "cell_type": "markdown",
   "metadata": {},
   "source": [
    "Geweldig! Voor een overzicht van deze korte les: U zou een goed begrip moeten hebben van het gebruik van **and** en **or** verklaringen en het lezen van geketende vergelijkingscode."
   ]
  }
 ],
 "metadata": {
  "kernelspec": {
   "display_name": "Python 3",
   "language": "python",
   "name": "python3"
  },
  "language_info": {
   "codemirror_mode": {
    "name": "ipython",
    "version": 3
   },
   "file_extension": ".py",
   "mimetype": "text/x-python",
   "name": "python",
   "nbconvert_exporter": "python",
   "pygments_lexer": "ipython3",
   "version": "3.6.6"
  }
 },
 "nbformat": 4,
 "nbformat_minor": 1
}
