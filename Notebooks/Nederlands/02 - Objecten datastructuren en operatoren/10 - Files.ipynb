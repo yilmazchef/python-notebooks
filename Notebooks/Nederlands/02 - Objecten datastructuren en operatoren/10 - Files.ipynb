{
 "cells": [
  {
   "cell_type": "markdown",
   "metadata": {},
   "source": [
    "<center>\n",
    "    <img src='https://intecbrussel.be/img/logo3.png' width='400px' height='auto'/>\n",
    "    <br/>\n",
    "    <em>Python les-materialen</em>\n",
    "</center>"
   ]
  },
  {
   "cell_type": "markdown",
   "metadata": {},
   "source": [
    "# Files (Bestanden)\n",
    "\n",
    "Python gebruikt file-objecten (bestandsobjecten) om te communiceren met externe bestanden op uw computer. Deze bestandsobjecten kunnen elk soort bestand zijn dat u op uw computer heeft, of het nu een audiobestand, een tekstbestand, e-mails, Excel-documenten, enz. is. \n",
    "Opmerking: u zult waarschijnlijk bepaalde bibliotheken of modules moeten installeren om met die verschillende bestandstypen, maar ze zijn gemakkelijk beschikbaar. (Later in de cursus zullen we het downloaden van modules behandelen).\n",
    "\n",
    "Python heeft een ingebouwde open-functie waarmee we basisbestandstypen kunnen openen en ermee kunnen spelen. Eerst hebben we echter een bestand nodig. We gaan wat IPython-magie gebruiken om een tekstbestand te maken!\n",
    "\n",
    "## IPython Een bestand schrijven\n",
    "#### Deze functie is specifiek voor jupyter-notitieboeken! U kunt ook snel een eenvoudig .txt-bestand maken met een sublieme teksteditor."
   ]
  },
  {
   "cell_type": "code",
   "execution_count": 1,
   "metadata": {},
   "outputs": [
    {
     "name": "stdout",
     "output_type": "stream",
     "text": [
      "Overwriting test.txt\n"
     ]
    }
   ],
   "source": [
    "%%writefile test.txt\n",
    "Hello, this is a quick test file."
   ]
  },
  {
   "cell_type": "markdown",
   "metadata": {},
   "source": [
    "## Python Een bestand openen\n",
    "\n",
    "Laten we dat doen door het bestand test.txt te openen dat zich in dezelfde map als dit notitieblok bevindt. Voor nu zullen we werken met bestanden die zich in dezelfde map bevinden als het notebook- of .py-script dat u gebruikt.\n",
    "\n",
    "Het is heel gemakkelijk om een foutmelding te krijgen bij deze stap:"
   ]
  },
  {
   "cell_type": "code",
   "execution_count": 1,
   "metadata": {},
   "outputs": [
    {
     "ename": "FileNotFoundError",
     "evalue": "[Errno 2] No such file or directory: 'whoops.txt'",
     "output_type": "error",
     "traceback": [
      "\u001b[1;31m---------------------------------------------------------------------------\u001b[0m",
      "\u001b[1;31mFileNotFoundError\u001b[0m                         Traceback (most recent call last)",
      "\u001b[1;32m<ipython-input-1-dafe28ee473f>\u001b[0m in \u001b[0;36m<module>\u001b[1;34m()\u001b[0m\n\u001b[1;32m----> 1\u001b[1;33m \u001b[0mmyfile\u001b[0m \u001b[1;33m=\u001b[0m \u001b[0mopen\u001b[0m\u001b[1;33m(\u001b[0m\u001b[1;34m'whoops.txt'\u001b[0m\u001b[1;33m)\u001b[0m\u001b[1;33m\u001b[0m\u001b[0m\n\u001b[0m",
      "\u001b[1;31mFileNotFoundError\u001b[0m: [Errno 2] No such file or directory: 'whoops.txt'"
     ]
    }
   ],
   "source": [
    "myfile = open('whoops.txt')"
   ]
  },
  {
   "cell_type": "markdown",
   "metadata": {},
   "source": [
    "Om deze fout te voorkomen, moet u ervoor zorgen dat uw .txt-bestand op dezelfde locatie als uw notebook is opgeslagen. Gebruik **pwd** om de locatie van uw notebook te controleren:"
   ]
  },
  {
   "cell_type": "code",
   "execution_count": 2,
   "metadata": {},
   "outputs": [
    {
     "data": {
      "text/plain": [
       "'C:\\\\Users\\\\Marcial\\\\Pierian-Data-Courses\\\\Complete-Python-3-Bootcamp\\\\00-Python Object and Data Structure Basics'"
      ]
     },
     "execution_count": 2,
     "metadata": {},
     "output_type": "execute_result"
    }
   ],
   "source": [
    "pwd"
   ]
  },
  {
   "cell_type": "markdown",
   "metadata": {},
   "source": [
    "**Als alternatief, om bestanden van elke locatie op uw computer te pakken, geeft u gewoon het volledige bestand-pad door. **\n",
    "\n",
    "Voor Windows moet je dubbel \\ (back slash) gebruiken zodat python de tweede \\ niet als een escape-teken behandelt, een bestand-pad heeft de vorm:\n",
    "\n",
    "    myfile = open(\"C:\\\\Users\\\\YourUserName\\\\Home\\\\Folder\\\\myfile.txt\")\n",
    "\n",
    "Voor MacOS en Linux gebruik je schuine strepen (forward slash) in de tegenovergestelde richting:\n",
    "\n",
    "    myfile = open(\"/Users/YouUserName/Folder/myfile.txt\")"
   ]
  },
  {
   "cell_type": "code",
   "execution_count": 2,
   "metadata": {
    "collapsed": true
   },
   "outputs": [],
   "source": [
    "# Open de text.txt die we eerder hebben gemaakt\n",
    "my_file = open('test.txt')"
   ]
  },
  {
   "cell_type": "code",
   "execution_count": 3,
   "metadata": {},
   "outputs": [
    {
     "data": {
      "text/plain": [
       "'Hello, this is a quick test file.'"
      ]
     },
     "execution_count": 3,
     "metadata": {},
     "output_type": "execute_result"
    }
   ],
   "source": [
    "# We kunnen het bestand nu lezen\n",
    "my_file.read()"
   ]
  },
  {
   "cell_type": "code",
   "execution_count": 4,
   "metadata": {},
   "outputs": [
    {
     "data": {
      "text/plain": [
       "''"
      ]
     },
     "execution_count": 4,
     "metadata": {},
     "output_type": "execute_result"
    }
   ],
   "source": [
    "# Maar wat gebeurt er als we het opnieuw proberen te lezen?\n",
    "my_file.read()"
   ]
  },
  {
   "cell_type": "markdown",
   "metadata": {},
   "source": [
    "Dit gebeurt hier omdat je kunt voorstellen dat de lezende \"cursor\" aan het einde van het bestand staat nadat je het hebt gelezen. Er valt dus niets meer te lezen. We kunnen de \"cursor\" als volgt resetten:"
   ]
  },
  {
   "cell_type": "code",
   "execution_count": 5,
   "metadata": {},
   "outputs": [
    {
     "data": {
      "text/plain": [
       "0"
      ]
     },
     "execution_count": 5,
     "metadata": {},
     "output_type": "execute_result"
    }
   ],
   "source": [
    "# Zoek naar het begin van het bestand (index 0)\n",
    "my_file.seek(0)"
   ]
  },
  {
   "cell_type": "code",
   "execution_count": 6,
   "metadata": {},
   "outputs": [
    {
     "data": {
      "text/plain": [
       "'Hello, this is a quick test file.'"
      ]
     },
     "execution_count": 6,
     "metadata": {},
     "output_type": "execute_result"
    }
   ],
   "source": [
    "# Lees nu nog eens\n",
    "my_file.read()\n"
   ]
  },
  {
   "cell_type": "markdown",
   "metadata": {},
   "source": [
    "U kunt een bestand lijn voor lijn lezen met behulp van de readlines-methode. Wees voorzichtig met grote bestanden, aangezien alles in het geheugen wordt bewaard. We zullen later in de cursus leren hoe we grote bestanden kunnen herhalen."
   ]
  },
  {
   "cell_type": "code",
   "execution_count": 7,
   "metadata": {},
   "outputs": [
    {
     "data": {
      "text/plain": [
       "['Hello, this is a quick test file.']"
      ]
     },
     "execution_count": 7,
     "metadata": {},
     "output_type": "execute_result"
    }
   ],
   "source": [
    "# Readlines retourneert een lijst van de regels in het bestand\n",
    "my_file.seek(0)\n",
    "my_file.readlines()"
   ]
  },
  {
   "cell_type": "markdown",
   "metadata": {},
   "source": [
    "Wanneer u klaar bent met het gebruik van een bestand, is het altijd een goede praktijk om het te sluiten."
   ]
  },
  {
   "cell_type": "code",
   "execution_count": 8,
   "metadata": {
    "collapsed": true
   },
   "outputs": [],
   "source": [
    "my_file.close()"
   ]
  },
  {
   "cell_type": "markdown",
   "metadata": {},
   "source": [
    "## Schrijven naar een bestand\n",
    "\n",
    "Standaard staat de functie `open()` ons alleen toe om het bestand te lezen. We moeten het argument ''w'' doorgeven om over het bestand te schrijven. Bijvoorbeeld:"
   ]
  },
  {
   "cell_type": "code",
   "execution_count": 9,
   "metadata": {
    "collapsed": true
   },
   "outputs": [],
   "source": [
    "# Voeg een tweede argument toe aan de functie, 'w' wat staat voor schrijven.\n",
    "# Door 'w+' door te geven, kunnen we het bestand lezen en erin schrijven\n",
    "\n",
    "my_file = open('test.txt','w+')"
   ]
  },
  {
   "cell_type": "markdown",
   "metadata": {},
   "source": [
    "### <strong><font color='red'>Wees voorzichtig!</font></strong>\n",
    "Het openen van een bestand met `'w'` of `'w+'` kapt het origineel af, wat inhoudt dat alles wat in het originele bestand stond **wordt verwijderd**!"
   ]
  },
  {
   "cell_type": "code",
   "execution_count": 10,
   "metadata": {},
   "outputs": [
    {
     "data": {
      "text/plain": [
       "18"
      ]
     },
     "execution_count": 10,
     "metadata": {},
     "output_type": "execute_result"
    }
   ],
   "source": [
    "# Schrijf naar het bestand\n",
    "my_file.write('This is a new line')"
   ]
  },
  {
   "cell_type": "code",
   "execution_count": 11,
   "metadata": {},
   "outputs": [
    {
     "data": {
      "text/plain": [
       "'This is a new line'"
      ]
     },
     "execution_count": 11,
     "metadata": {},
     "output_type": "execute_result"
    }
   ],
   "source": [
    "# Lees het bestand\n",
    "my_file.seek(0)\n",
    "my_file.read()"
   ]
  },
  {
   "cell_type": "code",
   "execution_count": 12,
   "metadata": {
    "collapsed": true
   },
   "outputs": [],
   "source": [
    "my_file.close()  # doe dit altijd als je klaar bent met een bestand"
   ]
  },
  {
   "cell_type": "markdown",
   "metadata": {},
   "source": [
    "## Toevoegen aan een bestand\n",
    "Als u het argument ''a'' doorgeeft, wordt het bestand geopend en wordt de aanwijzer (pointer) aan het einde geplaatst, zodat alles wat is geschreven, wordt toegevoegd. Net zoals ''w+'', laat ''a+'' ons lezen en schrijven naar een bestand. Als het bestand niet bestaat, wordt er een gemaakt."
   ]
  },
  {
   "cell_type": "code",
   "execution_count": 13,
   "metadata": {},
   "outputs": [
    {
     "data": {
      "text/plain": [
       "23"
      ]
     },
     "execution_count": 13,
     "metadata": {},
     "output_type": "execute_result"
    }
   ],
   "source": [
    "my_file = open('test.txt','a+')\n",
    "my_file.write('\\nThis is text being appended to test.txt')\n",
    "my_file.write('\\nAnd another line here.')"
   ]
  },
  {
   "cell_type": "code",
   "execution_count": 14,
   "metadata": {},
   "outputs": [
    {
     "name": "stdout",
     "output_type": "stream",
     "text": [
      "This is a new line\n",
      "This is text being appended to test.txt\n",
      "And another line here.\n"
     ]
    }
   ],
   "source": [
    "my_file.seek(0)\n",
    "print(my_file.read())"
   ]
  },
  {
   "cell_type": "code",
   "execution_count": 15,
   "metadata": {
    "collapsed": true
   },
   "outputs": [],
   "source": [
    "my_file.close()"
   ]
  },
  {
   "cell_type": "markdown",
   "metadata": {},
   "source": [
    "### Toevoegen (Appending) met `%%writefile`\n",
    "We kunnen hetzelfde doen met behulp van IPython-celmagie:"
   ]
  },
  {
   "cell_type": "code",
   "execution_count": 16,
   "metadata": {},
   "outputs": [
    {
     "name": "stdout",
     "output_type": "stream",
     "text": [
      "Appending to test.txt\n"
     ]
    }
   ],
   "source": [
    "%%writefile -a test.txt\n",
    "\n",
    "This is text being appended to test.txt\n",
    "And another line here."
   ]
  },
  {
   "cell_type": "markdown",
   "metadata": {},
   "source": [
    "Voeg een spatie toe als u wilt dat de eerste regel op een eigen regel begint, aangezien Jupyter escape-reeksen zoals `\\n` niet herkent"
   ]
  },
  {
   "cell_type": "markdown",
   "metadata": {},
   "source": [
    "## Een bestand doorlopen\n",
    "\n",
    "Laten we een snel voorbeeld van een for-lus krijgen door een tekstbestand te herhalen. Laten we eerst een nieuw tekstbestand maken met wat IPython Magic:"
   ]
  },
  {
   "cell_type": "code",
   "execution_count": 17,
   "metadata": {},
   "outputs": [
    {
     "name": "stdout",
     "output_type": "stream",
     "text": [
      "Overwriting test.txt\n"
     ]
    }
   ],
   "source": [
    "%%writefile test.txt\n",
    "First Line\n",
    "Second Line"
   ]
  },
  {
   "cell_type": "markdown",
   "metadata": {},
   "source": [
    "Nu kunnen we een klein beetje flow (stroom) gebruiken om het programma door elke lijn van het bestand te vertellen en iets te doen:"
   ]
  },
  {
   "cell_type": "code",
   "execution_count": 18,
   "metadata": {},
   "outputs": [
    {
     "name": "stdout",
     "output_type": "stream",
     "text": [
      "First Line\n",
      "\n",
      "Second Line\n"
     ]
    }
   ],
   "source": [
    "for line in open('test.txt'):\n",
    "    print(line)"
   ]
  },
  {
   "cell_type": "markdown",
   "metadata": {},
   "source": [
    "Maak je geen zorgen dat je dit nog volledig begrijpt, want er komen binnenkort lussen aan. Maar we zullen afbreken wat we hierboven hebben gedaan. We zeiden dat voor elke regel in dit tekstbestand, ga je gang en druk die regel af. Het is belangrijk om hier een paar dingen op te merken:\n",
    "\n",
    "1. We hadden het \"line\" -object alles kunnen noemen (zie voorbeeld hieronder).\n",
    "2. Door `.read()` niet aan te roepen op het bestand, werd het hele tekstbestand niet in het geheugen opgeslagen.\n",
    "3. Let op de inspringing (indent) op de tweede lijn om af te drukken. Deze spatie is vereist in Python."
   ]
  },
  {
   "cell_type": "code",
   "execution_count": 19,
   "metadata": {},
   "outputs": [
    {
     "name": "stdout",
     "output_type": "stream",
     "text": [
      "First Line\n",
      "\n",
      "Second Line\n"
     ]
    }
   ],
   "source": [
    "# Met betrekking tot het eerste punt hierboven\n",
    "for asdf in open('test.txt'):\n",
    "    print(asdf)"
   ]
  },
  {
   "cell_type": "markdown",
   "metadata": {},
   "source": [
    "We zullen hier later veel meer over leren, aangezien het meeste applicaties vereisten om bestanden-data te manipuleren."
   ]
  }
 ],
 "metadata": {
  "kernelspec": {
   "display_name": "Python 3",
   "language": "python",
   "name": "python3"
  },
  "language_info": {
   "codemirror_mode": {
    "name": "ipython",
    "version": 3
   },
   "file_extension": ".py",
   "mimetype": "text/x-python",
   "name": "python",
   "nbconvert_exporter": "python",
   "pygments_lexer": "ipython3",
   "version": "3.6.6"
  }
 },
 "nbformat": 4,
 "nbformat_minor": 1
}
