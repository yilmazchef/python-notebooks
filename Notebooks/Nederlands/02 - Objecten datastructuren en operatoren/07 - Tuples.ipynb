{
 "cells": [
  {
   "cell_type": "markdown",
   "metadata": {},
   "source": [
    "<center>\n",
    "    <img src='https://intecbrussel.be/img/logo3.png' width='400px' height='auto'/>\n",
    "    <br/>\n",
    "    <em>Python les-materialen</em>\n",
    "</center>"
   ]
  },
  {
   "cell_type": "markdown",
   "metadata": {},
   "source": [
    "# Tuples\n",
    "\n",
    "In Python lijken tuples erg op lijsten, maar in tegenstelling tot lijsten zijn ze *immutable (onveranderlijk)*, wat betekent dat ze niet kunnen worden gewijzigd. \n",
    "Je zou tuples gebruiken om dingen te presenteren die niet mogen veranderd worden, zoals **dagen van de week** of **datums op een kalender**.\n",
    "\n",
    "In deze sectie krijgen we een kort overzicht van het volgende:\n",
    "\n",
    "     1.) Tuples construeren (bouwen)\n",
    "     2.) Basis Tuple-methoden\n",
    "     3.) Onveranderlijkheid (Immutability)\n",
    "     4.) Wanneer worden tuples gebruikt?\n",
    "\n",
    "Je hebt een intuïtie voor het gebruik van tuples op basis van wat je hebt geleerd over lijsten. We kunnen ze op dezelfde manier behandelen, met als belangrijkste onderscheid (distinction) dat tuples onveranderlijk zijn.\n",
    "\n",
    "## Tuples construeren\n",
    "\n",
    "De constructie van een tuple gebruikt () met elementen gescheiden/gesplit door komma's. Bijvoorbeeld:"
   ]
  },
  {
   "cell_type": "code",
   "execution_count": 1,
   "metadata": {
    "collapsed": true
   },
   "outputs": [],
   "source": [
    "# Maak een tuple aan\n",
    "t = (1,2,3)"
   ]
  },
  {
   "cell_type": "code",
   "execution_count": 2,
   "metadata": {},
   "outputs": [
    {
     "data": {
      "text/plain": [
       "3"
      ]
     },
     "execution_count": 2,
     "metadata": {},
     "output_type": "execute_result"
    }
   ],
   "source": [
    "# Controleer het lengthe (len) net als een lijst\n",
    "len(t)"
   ]
  },
  {
   "cell_type": "code",
   "execution_count": 3,
   "metadata": {},
   "outputs": [
    {
     "data": {
      "text/plain": [
       "('one', 2)"
      ]
     },
     "execution_count": 3,
     "metadata": {},
     "output_type": "execute_result"
    }
   ],
   "source": [
    "# Kan ook objecttypen combineren\n",
    "t = ('one',2)\n",
    "\n",
    "# Tonen\n",
    "t"
   ]
  },
  {
   "cell_type": "code",
   "execution_count": 4,
   "metadata": {},
   "outputs": [
    {
     "data": {
      "text/plain": [
       "'one'"
      ]
     },
     "execution_count": 4,
     "metadata": {},
     "output_type": "execute_result"
    }
   ],
   "source": [
    "# Gebruik indexering net zoals we hadden met de lijsten gecodeerd\n",
    "t[0]"
   ]
  },
  {
   "cell_type": "code",
   "execution_count": 5,
   "metadata": {},
   "outputs": [
    {
     "data": {
      "text/plain": [
       "2"
      ]
     },
     "execution_count": 5,
     "metadata": {},
     "output_type": "execute_result"
    }
   ],
   "source": [
    "# Snijden/Sliceren net zoals een lijst\n",
    "t[-1]"
   ]
  },
  {
   "cell_type": "markdown",
   "metadata": {},
   "source": [
    "## Basis Tuple-methoden\n",
    "\n",
    "Tuples hebben ingebouwde methoden, maar niet zoveel als lijsten. Laten we er twee bekijken:"
   ]
  },
  {
   "cell_type": "code",
   "execution_count": 6,
   "metadata": {},
   "outputs": [
    {
     "data": {
      "text/plain": [
       "0"
      ]
     },
     "execution_count": 6,
     "metadata": {},
     "output_type": "execute_result"
    }
   ],
   "source": [
    "# Gebruik .index om een waarde in te voeren en de index terug te geven\n",
    "t.index('one')"
   ]
  },
  {
   "cell_type": "code",
   "execution_count": 7,
   "metadata": {},
   "outputs": [
    {
     "data": {
      "text/plain": [
       "1"
      ]
     },
     "execution_count": 7,
     "metadata": {},
     "output_type": "execute_result"
    }
   ],
   "source": [
    "# Gebruik .count om het aantal keren te tellen dat een waarde verschijnt\n",
    "t.count('one')"
   ]
  },
  {
   "cell_type": "markdown",
   "metadata": {},
   "source": [
    "## Onveranderlijkheid/Immutability\n",
    "\n",
    "Het kan niet genoeg benadrukt worden dat tuples immutable (onveranderlijk) zijn. Laten we eens testen hoe belangrijk deze inhoud is::"
   ]
  },
  {
   "cell_type": "code",
   "execution_count": 8,
   "metadata": {},
   "outputs": [
    {
     "ename": "TypeError",
     "evalue": "'tuple' object does not support item assignment",
     "output_type": "error",
     "traceback": [
      "\u001b[1;31m---------------------------------------------------------------------------\u001b[0m",
      "\u001b[1;31mTypeError\u001b[0m                                 Traceback (most recent call last)",
      "\u001b[1;32m<ipython-input-8-1257c0aa9edd>\u001b[0m in \u001b[0;36m<module>\u001b[1;34m()\u001b[0m\n\u001b[1;32m----> 1\u001b[1;33m \u001b[0mt\u001b[0m\u001b[1;33m[\u001b[0m\u001b[1;36m0\u001b[0m\u001b[1;33m]\u001b[0m\u001b[1;33m=\u001b[0m \u001b[1;34m'change'\u001b[0m\u001b[1;33m\u001b[0m\u001b[0m\n\u001b[0m",
      "\u001b[1;31mTypeError\u001b[0m: 'tuple' object does not support item assignment"
     ]
    }
   ],
   "source": [
    "t[0]= 'change'"
   ]
  },
  {
   "cell_type": "markdown",
   "metadata": {},
   "source": [
    "Vanwege deze onveranderlijkheid kunnen tuples niet groeien. Als een tuple eenmaal is gemaakt, kunnen we er niets meer aan toevoegen."
   ]
  },
  {
   "cell_type": "code",
   "execution_count": 9,
   "metadata": {},
   "outputs": [
    {
     "ename": "AttributeError",
     "evalue": "'tuple' object has no attribute 'append'",
     "output_type": "error",
     "traceback": [
      "\u001b[1;31m---------------------------------------------------------------------------\u001b[0m",
      "\u001b[1;31mAttributeError\u001b[0m                            Traceback (most recent call last)",
      "\u001b[1;32m<ipython-input-9-b75f5b09ac19>\u001b[0m in \u001b[0;36m<module>\u001b[1;34m()\u001b[0m\n\u001b[1;32m----> 1\u001b[1;33m \u001b[0mt\u001b[0m\u001b[1;33m.\u001b[0m\u001b[0mappend\u001b[0m\u001b[1;33m(\u001b[0m\u001b[1;34m'nope'\u001b[0m\u001b[1;33m)\u001b[0m\u001b[1;33m\u001b[0m\u001b[0m\n\u001b[0m",
      "\u001b[1;31mAttributeError\u001b[0m: 'tuple' object has no attribute 'append'"
     ]
    }
   ],
   "source": [
    "t.append('nope')"
   ]
  },
  {
   "cell_type": "markdown",
   "metadata": {},
   "source": [
    "## Wanneer tuples gebruiken?\n",
    "\n",
    "Je vraagt ​​je misschien af: \"Waarom zou je tuples gebruiken als ze minder beschikbare methoden hebben?\" Om eerlijk te zijn, tuples worden niet zo vaak gebruikt als lijsten bij het programmeren, maar worden gebruikt wanneer onveranderlijkheid noodzakelijk is. \n",
    "Als u in uw programma een object doorgeeft en ervoor moet zorgen dat het niet wordt gewijzigd, wordt een tuple uw oplossing. \n",
    "Het biedt een handige bron van gegevensintegriteit (data integrity).\n",
    "\n",
    "Je zou nu in staat moeten zijn om tuples in je programmering te maken en te gebruiken, evenals hun immutability (onveranderlijkheid) goed genoeg te begrijpen.\n",
    "\n",
    "Veel success met programmeren!"
   ]
  }
 ],
 "metadata": {
  "kernelspec": {
   "display_name": "Python 3",
   "language": "python",
   "name": "python3"
  },
  "language_info": {
   "codemirror_mode": {
    "name": "ipython",
    "version": 3
   },
   "file_extension": ".py",
   "mimetype": "text/x-python",
   "name": "python",
   "nbconvert_exporter": "python",
   "pygments_lexer": "ipython3",
   "version": "3.6.6"
  }
 },
 "nbformat": 4,
 "nbformat_minor": 1
}
