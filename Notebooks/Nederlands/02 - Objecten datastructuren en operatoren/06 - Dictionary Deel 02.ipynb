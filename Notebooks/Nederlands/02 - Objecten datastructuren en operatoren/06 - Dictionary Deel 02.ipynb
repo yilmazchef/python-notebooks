{
 "cells": [
  {
   "attachments": {},
   "cell_type": "markdown",
   "metadata": {},
   "source": [
    "## Dictionary Deel 02"
   ]
  },
  {
   "attachments": {},
   "cell_type": "markdown",
   "metadata": {},
   "source": [
    "In de vorige sessie hebben we geleerd over \"sequenties\". Laten we nu overschakelen en leren over \"mappings\" in Python. Deze woordenboeken zijn niets anders dan hashtabellen in andere programmeertalen.\n",
    "\n",
    "In dit deel zullen we kort leren over een inleiding tot woordenboeken en waar ze uit bestaan:\n",
    "\n",
    "1.) Het construeren van een woordenboek\n",
    "2.) Objecten benaderen vanuit een woordenboek\n",
    "3.) Woordenboeken nesten\n",
    "4.) Basismethoden voor woordenboeken\n",
    "\n",
    "Voordat we diep in dit concept duiken, laten we eerst begrijpen wat Mappings zijn?\n",
    "\n",
    "Mappings zijn een verzameling objecten die worden opgeslagen aan de hand van een \"sleutel\". In tegenstelling tot een sequentie, slaan mappings objecten op volgens hun relatieve positie. Dit is een belangrijk onderscheid, omdat mappings de volgorde niet behouden, omdat ze objecten hebben die worden gedefinieerd door een sleutel.\n",
    "\n",
    "Een Python woordenboek bestaat uit een sleutel en dan een geassocieerde waarde. Die waarde kan bijna elk Python-object zijn.\n",
    "Een woordenboek construeren\n",
    "\n",
    "Laten we eens kijken hoe we woordenboeken kunnen construeren om beter te begrijpen hoe ze werken!"
   ]
  },
  {
   "cell_type": "raw",
   "metadata": {},
   "source": [
    "\" \" or ' '- String\n",
    "[]- Lists\n",
    "() tuple\n",
    "([]) set or {}\n",
    "{} dictionary, but it will have key value"
   ]
  },
  {
   "cell_type": "code",
   "execution_count": null,
   "metadata": {},
   "outputs": [],
   "source": [
    "l=[\"Thor\",\"Marvel\", \"Thor- Ragnarok\"]\n",
    "      0       1            2\n",
    "     name     studio     movie   "
   ]
  },
  {
   "cell_type": "markdown",
   "metadata": {},
   "source": [
    "dictionary is a key -valye pair<br>\n",
    "{key1:value1,key2:value2.....}<br>\n",
    "its mutable data type<br>\n",
    "No indexing required<br>"
   ]
  },
  {
   "cell_type": "code",
   "execution_count": 59,
   "metadata": {},
   "outputs": [],
   "source": [
    "w={\"name\":\"Thor\",\"place\":\"Asguardian\",\"movie\":\"Thor--Ragnarok\"}"
   ]
  },
  {
   "cell_type": "code",
   "execution_count": 60,
   "metadata": {},
   "outputs": [
    {
     "data": {
      "text/plain": [
       "{'name': ['Thor', 'Ironman', 'Captain America'],\n",
       " 'place': 'Asguardian',\n",
       " 'movie': 'Thor--Ragnarok'}"
      ]
     },
     "execution_count": 60,
     "metadata": {},
     "output_type": "execute_result"
    }
   ],
   "source": [
    "w={\"name\":\"Thor\",\"place\":\"Asguardian\",\"movie\":\"Thor--Ragnarok\", \"name\": [\"Thor\",\"Ironman\",\"Captain America\"] }\n",
    "w\n",
    "# print(w['name'])"
   ]
  },
  {
   "cell_type": "code",
   "execution_count": 61,
   "metadata": {},
   "outputs": [
    {
     "data": {
      "text/plain": [
       "dict"
      ]
     },
     "execution_count": 61,
     "metadata": {},
     "output_type": "execute_result"
    }
   ],
   "source": [
    "type(w)"
   ]
  },
  {
   "cell_type": "code",
   "execution_count": 62,
   "metadata": {},
   "outputs": [
    {
     "ename": "KeyError",
     "evalue": "'name1'",
     "output_type": "error",
     "traceback": [
      "\u001b[1;31m---------------------------------------------------------------------------\u001b[0m",
      "\u001b[1;31mKeyError\u001b[0m                                  Traceback (most recent call last)",
      "\u001b[1;32m<ipython-input-62-895bdb824833>\u001b[0m in \u001b[0;36m<module>\u001b[1;34m\u001b[0m\n\u001b[1;32m----> 1\u001b[1;33m \u001b[0mw\u001b[0m\u001b[1;33m[\u001b[0m\u001b[1;34m\"name1\"\u001b[0m\u001b[1;33m]\u001b[0m\u001b[1;33m\u001b[0m\u001b[1;33m\u001b[0m\u001b[0m\n\u001b[0m",
      "\u001b[1;31mKeyError\u001b[0m: 'name1'"
     ]
    }
   ],
   "source": [
    "w[\"name1\"]"
   ]
  },
  {
   "cell_type": "code",
   "execution_count": 63,
   "metadata": {},
   "outputs": [
    {
     "data": {
      "text/plain": [
       "'Asguardian'"
      ]
     },
     "execution_count": 63,
     "metadata": {},
     "output_type": "execute_result"
    }
   ],
   "source": [
    "w[\"place\"]"
   ]
  },
  {
   "cell_type": "code",
   "execution_count": 64,
   "metadata": {},
   "outputs": [],
   "source": [
    "data = {1:1,2:7,'b':2,'c':7}"
   ]
  },
  {
   "cell_type": "code",
   "execution_count": 65,
   "metadata": {},
   "outputs": [
    {
     "data": {
      "text/plain": [
       "{1: 200, 2: 7, 'b': 2, 'c': 7}"
      ]
     },
     "execution_count": 65,
     "metadata": {},
     "output_type": "execute_result"
    }
   ],
   "source": [
    "data[1]=200\n",
    "data"
   ]
  },
  {
   "cell_type": "code",
   "execution_count": 66,
   "metadata": {},
   "outputs": [],
   "source": [
    "data1 = dict(a=10, b=2, c=3)"
   ]
  },
  {
   "cell_type": "code",
   "execution_count": 67,
   "metadata": {},
   "outputs": [
    {
     "data": {
      "text/plain": [
       "{'a': 10, 'b': 2, 'c': 3}"
      ]
     },
     "execution_count": 67,
     "metadata": {},
     "output_type": "execute_result"
    }
   ],
   "source": [
    "data1"
   ]
  },
  {
   "cell_type": "code",
   "execution_count": 68,
   "metadata": {},
   "outputs": [],
   "source": [
    "w={\"name\":\"Thor\",\"place\":\"Asguardian\",\"movie\":\"Thor: Ragnarok\"}"
   ]
  },
  {
   "cell_type": "code",
   "execution_count": null,
   "metadata": {},
   "outputs": [],
   "source": [
    "# dir(w)"
   ]
  },
  {
   "cell_type": "code",
   "execution_count": 69,
   "metadata": {},
   "outputs": [
    {
     "data": {
      "text/plain": [
       "['name', 'place', 'movie']"
      ]
     },
     "execution_count": 69,
     "metadata": {},
     "output_type": "execute_result"
    }
   ],
   "source": [
    "# type(w.keys())\n",
    "# type(w.keys())\n",
    "list(w.keys())"
   ]
  },
  {
   "cell_type": "code",
   "execution_count": 70,
   "metadata": {},
   "outputs": [
    {
     "data": {
      "text/plain": [
       "['Thor', 'Asguardian', 'Thor: Ragnarok']"
      ]
     },
     "execution_count": 70,
     "metadata": {},
     "output_type": "execute_result"
    }
   ],
   "source": [
    "list(w.values())"
   ]
  },
  {
   "attachments": {},
   "cell_type": "markdown",
   "metadata": {},
   "source": [
    "### De sleutels van een woordenboek kunnen elk soort onveranderlijk type zijn, waaronder tekenreeksen, getallen en tupels:\n"
   ]
  },
  {
   "cell_type": "code",
   "execution_count": 71,
   "metadata": {},
   "outputs": [
    {
     "data": {
      "text/plain": [
       "{'hello': 'world', 0: 'a', 1: 'b', '2': 'not a number', (1, 2, 3): 'a tuple!'}"
      ]
     },
     "execution_count": 71,
     "metadata": {},
     "output_type": "execute_result"
    }
   ],
   "source": [
    "mydict = {\"hello\": \"world\",\n",
    "          0: \"a\",\n",
    "          1: \"b\",\n",
    "          \"2\": \"not a number\",\n",
    "         (1, 2, 3): \"a tuple!\"}\n",
    "mydict"
   ]
  },
  {
   "cell_type": "code",
   "execution_count": 72,
   "metadata": {},
   "outputs": [
    {
     "data": {
      "text/plain": [
       "{'hello': 'world', 0: 'a', 1: 'b', '2': 'not a number', (1, 2, 3): 'a tuple!'}"
      ]
     },
     "execution_count": 72,
     "metadata": {},
     "output_type": "execute_result"
    }
   ],
   "source": [
    "a=(1,2,3)\n",
    "dict1 = {\"hello\": \"world\",\n",
    "          0: \"a\",\n",
    "          1: \"b\",\n",
    "          \"2\": \"not a number\",\n",
    "         a: \"a tuple!\"}\n",
    "dict1"
   ]
  },
  {
   "cell_type": "code",
   "execution_count": 73,
   "metadata": {},
   "outputs": [
    {
     "ename": "TypeError",
     "evalue": "unhashable type: 'list'",
     "output_type": "error",
     "traceback": [
      "\u001b[1;31m---------------------------------------------------------------------------\u001b[0m",
      "\u001b[1;31mTypeError\u001b[0m                                 Traceback (most recent call last)",
      "\u001b[1;32m<ipython-input-73-d39b7788463c>\u001b[0m in \u001b[0;36m<module>\u001b[1;34m\u001b[0m\n\u001b[0;32m      1\u001b[0m \u001b[0ma\u001b[0m\u001b[1;33m=\u001b[0m\u001b[1;33m[\u001b[0m\u001b[1;36m1\u001b[0m\u001b[1;33m,\u001b[0m\u001b[1;36m2\u001b[0m\u001b[1;33m,\u001b[0m\u001b[1;36m3\u001b[0m\u001b[1;33m]\u001b[0m\u001b[1;33m\u001b[0m\u001b[1;33m\u001b[0m\u001b[0m\n\u001b[0;32m      2\u001b[0m \u001b[1;31m# a=\"python\"\u001b[0m\u001b[1;33m\u001b[0m\u001b[1;33m\u001b[0m\u001b[1;33m\u001b[0m\u001b[0m\n\u001b[1;32m----> 3\u001b[1;33m mydict = {\"hello\": \"world\",\n\u001b[0m\u001b[0;32m      4\u001b[0m           \u001b[1;36m0\u001b[0m\u001b[1;33m:\u001b[0m \u001b[1;34m\"a\"\u001b[0m\u001b[1;33m,\u001b[0m\u001b[1;33m\u001b[0m\u001b[1;33m\u001b[0m\u001b[0m\n\u001b[0;32m      5\u001b[0m           \u001b[1;36m1\u001b[0m\u001b[1;33m:\u001b[0m \u001b[1;34m\"b\"\u001b[0m\u001b[1;33m,\u001b[0m\u001b[1;33m\u001b[0m\u001b[1;33m\u001b[0m\u001b[0m\n",
      "\u001b[1;31mTypeError\u001b[0m: unhashable type: 'list'"
     ]
    }
   ],
   "source": [
    "a=[1,2,3]\n",
    "# a=\"python\"\n",
    "mydict = {\"hello\": \"world\",\n",
    "          0: \"a\",\n",
    "          1: \"b\",\n",
    "          \"2\": \"not a number\",\n",
    "         a: \"a list!\"}\n",
    "mydict"
   ]
  },
  {
   "cell_type": "code",
   "execution_count": 74,
   "metadata": {},
   "outputs": [
    {
     "data": {
      "text/plain": [
       "{'hello': 'world', 10: 'a', 1: 'a tuple!', '2': 'not a number', 0: 'abc'}"
      ]
     },
     "execution_count": 74,
     "metadata": {},
     "output_type": "execute_result"
    }
   ],
   "source": [
    "mydict = {\"hello\": \"world\",\n",
    "          10: \"a\",\n",
    "          1: \"b\",\n",
    "          \"2\": \"not a number\",\n",
    "         1: \"a tuple!\",\n",
    "         0: \"abc\",}\n",
    "mydict"
   ]
  },
  {
   "cell_type": "code",
   "execution_count": 75,
   "metadata": {},
   "outputs": [],
   "source": [
    "data = {'z':1,'b':2,'c':7,'d':6}"
   ]
  },
  {
   "cell_type": "code",
   "execution_count": 76,
   "metadata": {},
   "outputs": [
    {
     "data": {
      "text/plain": [
       "1"
      ]
     },
     "execution_count": 76,
     "metadata": {},
     "output_type": "execute_result"
    }
   ],
   "source": [
    "data['z']"
   ]
  },
  {
   "cell_type": "code",
   "execution_count": 77,
   "metadata": {},
   "outputs": [
    {
     "data": {
      "text/plain": [
       "2"
      ]
     },
     "execution_count": 77,
     "metadata": {},
     "output_type": "execute_result"
    }
   ],
   "source": [
    "data['b']"
   ]
  },
  {
   "cell_type": "code",
   "execution_count": 78,
   "metadata": {},
   "outputs": [
    {
     "ename": "KeyError",
     "evalue": "'a'",
     "output_type": "error",
     "traceback": [
      "\u001b[1;31m---------------------------------------------------------------------------\u001b[0m",
      "\u001b[1;31mKeyError\u001b[0m                                  Traceback (most recent call last)",
      "\u001b[1;32m<ipython-input-78-3aa42f1ca3be>\u001b[0m in \u001b[0;36m<module>\u001b[1;34m\u001b[0m\n\u001b[1;32m----> 1\u001b[1;33m \u001b[0mdata\u001b[0m\u001b[1;33m[\u001b[0m\u001b[1;34m'a'\u001b[0m\u001b[1;33m]\u001b[0m\u001b[1;33m\u001b[0m\u001b[1;33m\u001b[0m\u001b[0m\n\u001b[0m",
      "\u001b[1;31mKeyError\u001b[0m: 'a'"
     ]
    }
   ],
   "source": [
    "data['a']"
   ]
  },
  {
   "cell_type": "code",
   "execution_count": 79,
   "metadata": {},
   "outputs": [
    {
     "data": {
      "text/plain": [
       "{'z': 1, 'b': 2, 'c': 7, 'd': 6, (1, 2, 3): 3}"
      ]
     },
     "execution_count": 79,
     "metadata": {},
     "output_type": "execute_result"
    }
   ],
   "source": [
    "data[(1,2,3)]=3  # updates if 'a' exists, else adds 'a'\n",
    "data"
   ]
  },
  {
   "cell_type": "code",
   "execution_count": 80,
   "metadata": {},
   "outputs": [
    {
     "data": {
      "text/plain": [
       "{'z': 1, 'b': 2, 'c': 7, 'd': 6, (1, 2, 3): 3, 'a': 4}"
      ]
     },
     "execution_count": 80,
     "metadata": {},
     "output_type": "execute_result"
    }
   ],
   "source": [
    "data['a']=4\n",
    "data"
   ]
  },
  {
   "cell_type": "code",
   "execution_count": 81,
   "metadata": {},
   "outputs": [
    {
     "name": "stdout",
     "output_type": "stream",
     "text": [
      "{'z': 1, 'b': 2, 'c': 7, 'd': 6, (1, 2, 3): 3, 'a': 'football'}\n"
     ]
    },
    {
     "data": {
      "text/plain": [
       "{'z': 1, 'b': 2, 'c': 7, 'd': 6, (1, 2, 3): 3, 'a': 'python'}"
      ]
     },
     "execution_count": 81,
     "metadata": {},
     "output_type": "execute_result"
    }
   ],
   "source": [
    "data.update({'a':\"football\"})\n",
    "print(data)\n",
    "data['a']=\"python\"\n",
    "data"
   ]
  },
  {
   "cell_type": "code",
   "execution_count": 82,
   "metadata": {},
   "outputs": [
    {
     "data": {
      "text/plain": [
       "{'z': 1, 'b': 2, 'c': 7, 'd': 6, 'a': 10099}"
      ]
     },
     "execution_count": 82,
     "metadata": {},
     "output_type": "execute_result"
    }
   ],
   "source": [
    "data = {'z':1,'b':2,'c':7,'d':6}\n",
    "data.update(dict(a=10099))\n",
    "data"
   ]
  },
  {
   "attachments": {},
   "cell_type": "markdown",
   "metadata": {},
   "source": [
    "## Het samenvoegen van 2 dictionaries\n"
   ]
  },
  {
   "cell_type": "code",
   "execution_count": null,
   "metadata": {},
   "outputs": [],
   "source": [
    "data1 = {'a':1,'b':2,'c':7,'k':6}\n",
    "data2 = {'e':1,'l':2}\n",
    "data3 = {'a':4,'l':5,'c':\"python\",'f':89}"
   ]
  },
  {
   "cell_type": "code",
   "execution_count": 83,
   "metadata": {},
   "outputs": [
    {
     "data": {
      "text/plain": [
       "{'a': 10, 'b': 2, 'c': 3, 'e': 1, 'l': 2}"
      ]
     },
     "execution_count": 83,
     "metadata": {},
     "output_type": "execute_result"
    }
   ],
   "source": [
    "data1.update(data2)  # Where data2 is also a dict.\n",
    "data1"
   ]
  },
  {
   "cell_type": "code",
   "execution_count": 84,
   "metadata": {},
   "outputs": [],
   "source": [
    "data1.update(data3)"
   ]
  },
  {
   "cell_type": "code",
   "execution_count": 85,
   "metadata": {},
   "outputs": [
    {
     "data": {
      "text/plain": [
       "{'a': 4, 'b': 2, 'c': 'python', 'e': 1, 'l': 5, 'f': 89}"
      ]
     },
     "execution_count": 85,
     "metadata": {},
     "output_type": "execute_result"
    }
   ],
   "source": [
    "data1"
   ]
  },
  {
   "attachments": {},
   "cell_type": "markdown",
   "metadata": {},
   "source": [
    "### Verwijdering van gegevens"
   ]
  },
  {
   "cell_type": "code",
   "execution_count": 86,
   "metadata": {},
   "outputs": [],
   "source": [
    "data = {100:1,'b':2,'c':7,'k':6}\n",
    "del data['b']"
   ]
  },
  {
   "cell_type": "code",
   "execution_count": 87,
   "metadata": {},
   "outputs": [
    {
     "data": {
      "text/plain": [
       "{100: 1, 'c': 7, 'k': 6}"
      ]
     },
     "execution_count": 87,
     "metadata": {},
     "output_type": "execute_result"
    }
   ],
   "source": [
    "data"
   ]
  },
  {
   "cell_type": "code",
   "execution_count": 88,
   "metadata": {},
   "outputs": [],
   "source": [
    "del data"
   ]
  },
  {
   "cell_type": "code",
   "execution_count": 89,
   "metadata": {},
   "outputs": [
    {
     "ename": "NameError",
     "evalue": "name 'data' is not defined",
     "output_type": "error",
     "traceback": [
      "\u001b[1;31m---------------------------------------------------------------------------\u001b[0m",
      "\u001b[1;31mNameError\u001b[0m                                 Traceback (most recent call last)",
      "\u001b[1;32m<ipython-input-89-c5d84736ba45>\u001b[0m in \u001b[0;36m<module>\u001b[1;34m\u001b[0m\n\u001b[1;32m----> 1\u001b[1;33m \u001b[0mdata\u001b[0m\u001b[1;33m\u001b[0m\u001b[1;33m\u001b[0m\u001b[0m\n\u001b[0m",
      "\u001b[1;31mNameError\u001b[0m: name 'data' is not defined"
     ]
    }
   ],
   "source": [
    "data"
   ]
  },
  {
   "cell_type": "code",
   "execution_count": null,
   "metadata": {},
   "outputs": [],
   "source": [
    "data = {100:1,'b':2,'c':7,'k':6, 'm':[1,2,3]}\n",
    "# data.clear()\n",
    "data['m']=[1,2]"
   ]
  },
  {
   "cell_type": "code",
   "execution_count": null,
   "metadata": {},
   "outputs": [],
   "source": [
    "data"
   ]
  },
  {
   "attachments": {},
   "cell_type": "markdown",
   "metadata": {},
   "source": [
    "### Het samenvoegen van 2 lijsten"
   ]
  },
  {
   "cell_type": "code",
   "execution_count": 93,
   "metadata": {},
   "outputs": [],
   "source": [
    "dishes = [\"pizza\", \"sauerkraut\", \"paella\", \"Hamburger\", ' ']\n",
    "countries = [\"Italy\", \"Germany\", \"Spain\", \"USA\"]\n",
    "c1 = [1,2,3,4]"
   ]
  },
  {
   "cell_type": "code",
   "execution_count": 94,
   "metadata": {},
   "outputs": [],
   "source": [
    "country_specialities = zip(countries, dishes)\n",
    "# help(zip)"
   ]
  },
  {
   "cell_type": "code",
   "execution_count": 95,
   "metadata": {},
   "outputs": [
    {
     "name": "stdout",
     "output_type": "stream",
     "text": [
      "('Italy', 'pizza')\n",
      "('Germany', 'sauerkraut')\n",
      "('Spain', 'paella')\n",
      "('USA', 'Hamburger')\n"
     ]
    }
   ],
   "source": [
    "for i in country_specialities:\n",
    "    print(i)\n",
    "# print(dict(country_specialities))"
   ]
  },
  {
   "cell_type": "code",
   "execution_count": 97,
   "metadata": {},
   "outputs": [
    {
     "name": "stdout",
     "output_type": "stream",
     "text": [
      "[]\n",
      "2273043636032\n",
      "<class 'zip'>\n"
     ]
    }
   ],
   "source": [
    "print(list(country_specialities))\n",
    "print(id(country_specialities))\n",
    "print(type(country_specialities))"
   ]
  },
  {
   "cell_type": "code",
   "execution_count": 98,
   "metadata": {},
   "outputs": [
    {
     "data": {
      "text/plain": [
       "{}"
      ]
     },
     "execution_count": 98,
     "metadata": {},
     "output_type": "execute_result"
    }
   ],
   "source": [
    "d=dict(country_specialities)\n",
    "d"
   ]
  },
  {
   "cell_type": "code",
   "execution_count": 103,
   "metadata": {},
   "outputs": [
    {
     "data": {
      "text/plain": [
       "{'pizza': 'Italy', 'paella': 'Spain', 'Hamburger': 'USA'}"
      ]
     },
     "execution_count": 103,
     "metadata": {},
     "output_type": "execute_result"
    }
   ],
   "source": [
    "dishes = [\"pizza\", \"paella\", \"paella\", \"Hamburger\",]\n",
    "countries = [\"Italy\", \"Germany\", \"Spain\", \"USA\",\"asdfs\",2332,232]\n",
    "country_specialities = zip(dishes,countries)\n",
    "dict((country_specialities))"
   ]
  },
  {
   "cell_type": "code",
   "execution_count": 104,
   "metadata": {},
   "outputs": [],
   "source": [
    "country_specialities = zip(dishes,countries)"
   ]
  },
  {
   "cell_type": "code",
   "execution_count": 105,
   "metadata": {},
   "outputs": [
    {
     "name": "stdout",
     "output_type": "stream",
     "text": [
      "[('pizza', 'Italy'), ('paella', 'Germany'), ('paella', 'Spain'), ('Hamburger', 'USA')]\n"
     ]
    }
   ],
   "source": [
    "l=list((country_specialities))\n",
    "# counrtySpecilities\n",
    "print(l)\n",
    "# print(l[0][1])"
   ]
  },
  {
   "attachments": {},
   "cell_type": "markdown",
   "metadata": {},
   "source": [
    "### Opdracht"
   ]
  },
  {
   "cell_type": "code",
   "execution_count": 106,
   "metadata": {},
   "outputs": [],
   "source": [
    "l=list()\n",
    "t=tuple()\n",
    "heights={}\n",
    "heights['belgian horse']= 162\n",
    "heights['tiger']= 168\n",
    "heights['cat']=58\n",
    "heights['dog']=57\n",
    "heights['cow']=59\n",
    "heights['lion']=109"
   ]
  },
  {
   "cell_type": "code",
   "execution_count": 107,
   "metadata": {},
   "outputs": [
    {
     "data": {
      "text/plain": [
       "dict_keys(['belgian horse', 'tiger', 'cat', 'dog', 'cow', 'lion'])"
      ]
     },
     "execution_count": 107,
     "metadata": {},
     "output_type": "execute_result"
    }
   ],
   "source": [
    "heights.keys()"
   ]
  },
  {
   "cell_type": "code",
   "execution_count": 108,
   "metadata": {},
   "outputs": [
    {
     "data": {
      "text/plain": [
       "dict_values([162, 168, 58, 57, 59, 109])"
      ]
     },
     "execution_count": 108,
     "metadata": {},
     "output_type": "execute_result"
    }
   ],
   "source": [
    "heights.values()"
   ]
  },
  {
   "cell_type": "code",
   "execution_count": 109,
   "metadata": {},
   "outputs": [
    {
     "name": "stdout",
     "output_type": "stream",
     "text": [
      "dict_items([('belgian horse', 162), ('tiger', 168), ('cat', 58), ('dog', 57), ('cow', 59), ('lion', 109)])\n"
     ]
    }
   ],
   "source": [
    "x=heights.items()\n",
    "print(x)\n",
    "# help(x)"
   ]
  },
  {
   "cell_type": "code",
   "execution_count": 110,
   "metadata": {},
   "outputs": [
    {
     "name": "stdout",
     "output_type": "stream",
     "text": [
      "p\n",
      "y\n",
      "t\n",
      "h\n",
      "o\n",
      "n\n"
     ]
    }
   ],
   "source": [
    "for i in \"python\":\n",
    "    print (i)"
   ]
  },
  {
   "cell_type": "code",
   "execution_count": 111,
   "metadata": {
    "scrolled": true
   },
   "outputs": [
    {
     "name": "stdout",
     "output_type": "stream",
     "text": [
      "python\n",
      "java\n",
      "scala\n"
     ]
    }
   ],
   "source": [
    "l=[\"python\",\"java\", \"scala\"]\n",
    "for i in l:\n",
    "    print (i)"
   ]
  },
  {
   "cell_type": "code",
   "execution_count": 112,
   "metadata": {},
   "outputs": [
    {
     "name": "stdout",
     "output_type": "stream",
     "text": [
      "belgian horse\n",
      "tiger\n",
      "cat\n",
      "dog\n",
      "cow\n",
      "lion\n"
     ]
    }
   ],
   "source": [
    "heights={'belgian horse': 162,'tiger': 168, 'cat': 58, 'dog': 57, 'cow': 59, 'lion': 109}\n",
    "for i in heights:\n",
    "    print (i)"
   ]
  },
  {
   "cell_type": "code",
   "execution_count": 113,
   "metadata": {},
   "outputs": [
    {
     "name": "stdout",
     "output_type": "stream",
     "text": [
      "162\n",
      "168\n",
      "58\n",
      "57\n",
      "59\n",
      "109\n"
     ]
    }
   ],
   "source": [
    "heights={'belgian horse': 162,'tiger': 168, 'cat': 58, 'dog': 57, 'cow': 59, 'lion': 109}\n",
    "for i in heights:\n",
    "    print (heights[i])"
   ]
  },
  {
   "cell_type": "code",
   "execution_count": 114,
   "metadata": {},
   "outputs": [
    {
     "name": "stdout",
     "output_type": "stream",
     "text": [
      "belgian horse 162\n",
      "tiger 168\n",
      "cat 58\n",
      "dog 57\n",
      "cow 59\n",
      "lion 109\n"
     ]
    }
   ],
   "source": [
    "heights={'belgian horse': 162,'tiger': 168, 'cat': 58, 'dog': 57, 'cow': 59, 'lion': 109}\n",
    "for i in heights:\n",
    "    print (i,heights[i])"
   ]
  },
  {
   "attachments": {},
   "cell_type": "markdown",
   "metadata": {},
   "source": [
    "#### Lees een gebruikersinvoer als een diernaam en geef de hoogte van dat dier terug"
   ]
  },
  {
   "cell_type": "code",
   "execution_count": null,
   "metadata": {},
   "outputs": [],
   "source": [
    "heights={'belgian horse': 162,'tiger': 168, 'cat': 58, 'dog': 57, 'cow': 59, 'lion': 109}"
   ]
  },
  {
   "cell_type": "code",
   "execution_count": null,
   "metadata": {},
   "outputs": [],
   "source": [
    "user_input_animal_name = input(\"Enter the name of animal: \")\n",
    "# print(heights[user_input_animal_name])\n",
    "for x in heights:\n",
    "    if x==user_input_animal_name:\n",
    "        print(heights[x])"
   ]
  },
  {
   "attachments": {},
   "cell_type": "markdown",
   "metadata": {},
   "source": [
    "#### Neem een gebruikersinvoer als hoogte en druk de naam van het dier af"
   ]
  },
  {
   "cell_type": "code",
   "execution_count": null,
   "metadata": {},
   "outputs": [],
   "source": [
    "# findanimal=57\n",
    "heights={'belgian horse': 162,'tiger': 168, 'cat': 58, 'dog': 57, 'cow': 59, 'lion': 109}\n",
    "findanimal=int(input(\"Enter the height of animal \"))\n",
    "for i in heights:\n",
    "\tif heights[i]==findanimal:\n",
    "\t\tprint (i)\n",
    "        "
   ]
  },
  {
   "attachments": {},
   "cell_type": "markdown",
   "metadata": {},
   "source": [
    "#### Behandeling van ontbrekende keys in Python-dictionaries\n",
    "\n",
    "In python zijn woordenboeken containers die een sleutel aan zijn waarde koppelen met een toegangstijdcomplexiteit van O(1). Maar in veel toepassingen kent de gebruiker niet alle sleutels in de woordenboeken. In dergelijke gevallen, als de gebruiker probeert een ontbrekende sleutel te openen, verschijnt er een foutmelding over ontbrekende sleutels.\n"
   ]
  },
  {
   "cell_type": "code",
   "execution_count": null,
   "metadata": {},
   "outputs": [],
   "source": [
    "# initializing Dictionary \n",
    "d = { 'a' : 1 , 'b' : 2 } \n",
    "print (\"The value associated with 'c' is : \") \n",
    "print (d['c']) \n",
    "print(\" learning python is fun\")\n",
    "print(\" python is awsome\")"
   ]
  },
  {
   "attachments": {},
   "cell_type": "markdown",
   "metadata": {},
   "source": [
    "get(key,def_val) is nuttig wanneer we de sleutel moeten controleren. Als de sleutel aanwezig is, wordt de bij de sleutel behorende waarde afgedrukt, anders wordt de def_value die in de argumenten wordt meegegeven, teruggegeven."
   ]
  },
  {
   "cell_type": "code",
   "execution_count": null,
   "metadata": {},
   "outputs": [],
   "source": [
    "d = { 'a' : 1 , 'b' : 2,'c': 'python' } \n",
    "print (d.get('d',\"key does not exist \") )\n",
    "print(\"learning python is fun\")"
   ]
  },
  {
   "cell_type": "code",
   "execution_count": null,
   "metadata": {},
   "outputs": [],
   "source": [
    "d = { 'a' : 1 , 'b' : 2,'c': 'python' } \n",
    "print (d.get('abc',\"1111\") )"
   ]
  },
  {
   "cell_type": "code",
   "execution_count": null,
   "metadata": {},
   "outputs": [],
   "source": [
    "d = { 'a' : 1 , 'b' : 2,'abc': 'python' } \n",
    "print (d.get('abc',\"1111\") )"
   ]
  },
  {
   "cell_type": "code",
   "execution_count": null,
   "metadata": {},
   "outputs": [],
   "source": [
    "d = { 'a' : 1 , 'b' : 2 } \n",
    "print (d.get('c','sdf') )"
   ]
  },
  {
   "cell_type": "code",
   "execution_count": null,
   "metadata": {},
   "outputs": [],
   "source": [
    "phonebook = {\"Mike Jones\": \"281-330-8004\", \"Jenny\": \"867-5309\",\"Destiny\": \"900-783-3369\"}"
   ]
  },
  {
   "cell_type": "code",
   "execution_count": null,
   "metadata": {},
   "outputs": [],
   "source": [
    "print(sorted(phonebook))\n",
    "print(phonebook[\"Destiny\"])    "
   ]
  },
  {
   "cell_type": "code",
   "execution_count": null,
   "metadata": {},
   "outputs": [],
   "source": [
    "for contact_name in sorted(phonebook):\n",
    "    print(contact_name, phonebook[contact_name])"
   ]
  },
  {
   "cell_type": "code",
   "execution_count": null,
   "metadata": {},
   "outputs": [],
   "source": [
    "phonebook = {\"Mike Jones\": \"281-330-8004\",'1': \"867-5309\",'3': \"900-783-3369\"}\n",
    "print(sorted(phonebook))\n"
   ]
  },
  {
   "cell_type": "code",
   "execution_count": null,
   "metadata": {},
   "outputs": [],
   "source": [
    "print(\"This is a Dict:\\n\") \n",
    "d = {} \n",
    "d['a'] = 1\n",
    "d['c'] = 2\n",
    "d['b'] = 3\n",
    "d['d'] = 4\n",
    "  \n",
    "for key, value in d.items(): \n",
    "    print(key, value)"
   ]
  },
  {
   "cell_type": "code",
   "execution_count": null,
   "metadata": {},
   "outputs": [],
   "source": [
    "from collections import OrderedDict \n",
    "print(\"\\nThis is an Ordered Dict:\\n\") \n",
    "od = OrderedDict() # preserve the order in which key values are entered\n",
    "od['a'] = 1\n",
    "od['b'] = 2\n",
    "od['c'] = 3\n",
    "od['d'] = 4\n",
    "for key, value in od.items(): \n",
    "    print(key, value)\n"
   ]
  },
  {
   "attachments": {},
   "cell_type": "markdown",
   "metadata": {},
   "source": [
    "defaultdict\" is een container die is gedefinieerd in de module \"collections\". Het neemt een functie (default factory) als argument. Standaard is default factory ingesteld op \"int\", d.w.z. 0. Als een sleutel niet aanwezig is in defaultdict, wordt de standaard fabriekswaarde geretourneerd en weergegeven. Dit heeft voordelen ten opzichte van get() of setdefault().\n",
    "\n",
    "Een standaardwaarde wordt ingesteld bij de declaratie. Het is niet nodig de functie steeds opnieuw aan te roepen en soortgelijke waarden als argumenten door te geven. Dat bespaart tijd.\n",
    "\n",
    "De implementatie van defaultdict is sneller dan get() of setdefault()."
   ]
  },
  {
   "attachments": {},
   "cell_type": "markdown",
   "metadata": {},
   "source": [
    "Lijsten zijn eigenlijk vrij snel wanneer je een item benadert via zijn indexnummer - aangezien alles wat er onder de motorkap gebeurt een directe toegang is tot een bekende en gemakkelijk te berekenen geheugenlocatie. Lijsten kunnen echter erg traag zijn bij het zoeken (met behulp van in), omdat de enige manier om een lijst te doorzoeken is elk item in de lijst te benaderen, beginnend bij het negende element en oplopend tot het laatste element in de lijst.\n",
    "\n",
    "Een woordenboek gebruikt een gegevensstructuur die een hashmap heet (Python-woordenboeken zijn geoptimaliseerde versies), en een sleutel wordt met een hash-algoritme omgezet van een tekenreeks (of wat dan ook) in een geheel getal, en het is een paar heel eenvoudige berekeningen om dat geheel getal te nemen en de juiste plaats in het woordenboek te vinden om te zoeken.\n",
    "\n",
    "Het verschil tussen een lijst en een woordenboek is het verschil tussen een grote verzameling boekenplanken en een bibliotheek. Om een boek te vinden in een reeks boekenplanken moet je elke plank één voor één doorzoeken, terwijl een bibliotheek een index heeft waarmee de lezer vanaf de titel van een boek direct naar een specifieke plank kan gaan. In een Python-woordenboek is het het \"hash-algoritme\" dat fungeert als bibliotheekindex."
   ]
  },
  {
   "attachments": {},
   "cell_type": "markdown",
   "metadata": {},
   "source": [
    "### Opdracht\n",
    "\n",
    "Schrijf een programma om sleutels om te zetten in waarden en omgekeerd."
   ]
  },
  {
   "cell_type": "code",
   "execution_count": null,
   "metadata": {},
   "outputs": [],
   "source": [
    "person = {'name': 'abc', 'age': 50}\n",
    "copy_person = {}\n",
    "for i in person:\n",
    "    copy_person[person[i]] = i\n",
    "print(copy_person)"
   ]
  },
  {
   "cell_type": "code",
   "execution_count": null,
   "metadata": {},
   "outputs": [],
   "source": [
    "inverse=dict()\n",
    "for key in heights:   # 'dog' in heights\n",
    "\tval=heights[key]      # val= heigths[dog]-->57\n",
    "\tif val not in inverse:\n",
    "\t\tinverse[val] = key    #inverse[57]='dog'\n",
    "\t# else:\n",
    "\t# \tinverse[val].append(key)\n",
    "print (inverse)\n"
   ]
  },
  {
   "attachments": {},
   "cell_type": "markdown",
   "metadata": {},
   "source": [
    "* Python-programma om een sleutel-waarde-paar aan het dictionary toe te voegen\n",
    "* Python-programma om twee dictionaries tot één samen te voegen\n",
    "* Python-programma om te controleren of een gegeven sleutel al dan niet in een dictionary voorkomt*. \n",
    "* Python Programma om een dictionary te genereren dat getallen bevat (tussen 1 en n) in de vorm (x,x*x).\n",
    "* Python-programma om alle items in een dictionary op te tellen\n",
    "* Python-programma om alle items in een dictionary te vermenigvuldigen\n",
    "* Python-programma om de gegeven sleutel uit een dictionary te verwijderen\n",
    "* Python-programma om een dictionary te vormen uit een object van een klasse\n",
    "* Python-programma om twee lijsten in een dictionary in te delen\n",
    "* Python-programma voor het tellen van de frequentie van woorden in een string met behulp van een dictionary\n",
    "* Python-programma om een dictionary te maken met sleutel als eerste teken en waarde als woorden die beginnen met dat teken* er"
   ]
  },
  {
   "cell_type": "code",
   "execution_count": null,
   "metadata": {},
   "outputs": [],
   "source": [
    "s=10\n",
    "print(\"hello\",s)"
   ]
  },
  {
   "cell_type": "code",
   "execution_count": null,
   "metadata": {},
   "outputs": [],
   "source": [
    "myDict = {'a': 100, 'b':200, 'c':300} \n",
    "sum = 0\n",
    "for i in myDict: \n",
    "    sum = sum + myDict[i] \n",
    "print(\"Sum :\", sum) "
   ]
  },
  {
   "cell_type": "code",
   "execution_count": null,
   "metadata": {},
   "outputs": [],
   "source": [
    "import sys\n",
    "sys.version"
   ]
  },
  {
   "cell_type": "code",
   "execution_count": null,
   "metadata": {},
   "outputs": [],
   "source": []
  }
 ],
 "metadata": {
  "kernelspec": {
   "display_name": "Python 3",
   "language": "python",
   "name": "python3"
  },
  "language_info": {
   "codemirror_mode": {
    "name": "ipython",
    "version": 3
   },
   "file_extension": ".py",
   "mimetype": "text/x-python",
   "name": "python",
   "nbconvert_exporter": "python",
   "pygments_lexer": "ipython3",
   "version": "3.8.3"
  }
 },
 "nbformat": 4,
 "nbformat_minor": 2
}
