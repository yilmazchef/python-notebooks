{
 "cells": [
  {
   "cell_type": "markdown",
   "metadata": {},
   "source": [
    "<center>\n",
    "    <img src='https://intecbrussel.be/img/logo3.png' width='400px' height='auto'/>\n",
    "    <br/>\n",
    "    <em>Python les-materialen</em>\n",
    "</center>"
   ]
  },
  {
   "cell_type": "markdown",
   "metadata": {},
   "source": [
    "# Methoden en functies\n",
    "\n",
    "We hebben al een paar voorbeelden van methoden gezien bij het leren over object- en gegevensstructuurtypen in Python. Methoden zijn in wezen functies die in objecten zijn ingebouwd. \n",
    "Later in de cursus leren we hoe we onze eigen objecten en methoden kunnen maken met behulp van Object Oriented Programming (OOP) en klassen.\n",
    "\n",
    "Methoden voeren specifieke acties uit op een object en kunnen ook argumenten aannemen, net als een functie. \n",
    "Deze lezing is slechts een korte introductie tot methoden en zet je aan het denken over algemene ontwerpmethoden die we zullen bespreken wanneer we OOP in de cursus bereiken.\n",
    "\n",
    "Methoden zijn in de vorm:\n",
    "\n",
    "    object.method(arg1,arg2,etc...)\n",
    "    \n",
    "Je zult later zien dat we methoden kunnen zien als een argument 'zelf' dat verwijst naar het object zelf. Je kunt dit argument niet zien, maar we zullen het later in de cursus gebruiken tijdens de OOP-lezingen.\n",
    "\n",
    "Laten we eens kijken wat een voorbeeld is van de verschillende methoden die een lijst heeft:"
   ]
  },
  {
   "cell_type": "code",
   "execution_count": null,
   "metadata": {
    "collapsed": true
   },
   "outputs": [],
   "source": [
    "# Create a simple list\n",
    "lst = [1,2,3,4,5,6,7,8,9,10]"
   ]
  },
  {
   "cell_type": "markdown",
   "metadata": {},
   "source": [
    "Gelukkig kunnen we met iPython en de Jupyter Notebook snel alle mogelijke methoden zien met behulp van de tab-toets (tab-key). De methoden voor een lijst zijn:\n",
    "\n",
    "* append\n",
    "* count\n",
    "* extend\n",
    "* insert\n",
    "* pop\n",
    "* remove\n",
    "* reverse\n",
    "* sort\n",
    "\n",
    "Laten we er een paar uitproberen:"
   ]
  },
  {
   "cell_type": "markdown",
   "metadata": {},
   "source": [
    "append() stelt ons in staat om elementen toe te voegen aan het einde van een lijst:"
   ]
  },
  {
   "cell_type": "code",
   "execution_count": null,
   "metadata": {
    "collapsed": true
   },
   "outputs": [],
   "source": [
    "lst.append(6)\n"
   ]
  },
  {
   "cell_type": "code",
   "execution_count": null,
   "metadata": {},
   "outputs": [],
   "source": [
    "lst"
   ]
  },
  {
   "cell_type": "markdown",
   "metadata": {},
   "source": [
    "Geweldig! Hoe zit het nu met tellen ()? De methode count() telt het aantal keren dat een element in een lijst voorkomt."
   ]
  },
  {
   "cell_type": "code",
   "execution_count": null,
   "metadata": {},
   "outputs": [],
   "source": [
    "# Controleer hoe vaak 2 in de lijst voorkomt\n",
    "lst.count(2)"
   ]
  },
  {
   "cell_type": "markdown",
   "metadata": {},
   "source": [
    "U kunt altijd Shift+Tab gebruiken in Jupyter Notebook om meer hulp over de methode te krijgen. In Python kun je in het algemeen de help() functie gebruiken:"
   ]
  },
  {
   "cell_type": "code",
   "execution_count": null,
   "metadata": {},
   "outputs": [],
   "source": [
    "help(lst.count)"
   ]
  },
  {
   "cell_type": "code",
   "execution_count": null,
   "metadata": {},
   "outputs": [],
   "source": [
    "numbers = [1, 3, 5, 3, 3]\n",
    "\n",
    "numbers.append(5)\n",
    "\n",
    "print(numbers)\n",
    "\n",
    "print(numbers.count(5))\n",
    "print(numbers.count(3))\n"
   ]
  },
  {
   "cell_type": "code",
   "execution_count": null,
   "metadata": {},
   "outputs": [],
   "source": [
    "shakespeare_quotes = [\n",
    "    \"To be or not to be\", \n",
    "    \"That is the question\", \n",
    "    \"Whether 'tis nobler in the mind to suffer the slings and arrows of outrageous fortune\",\n",
    "    \"Or to take arms against a sea of troubles\",\n",
    "    \"And by opposing end them\",\n",
    "    \"To die, to sleep, no more; and by a sleep to say we end the heart-ache and the thousand natural shocks that flesh is heir to\",\n",
    "]\n",
    "\n",
    "# print(shakespeare_quotes)\n",
    "\n",
    "#for quote in shakespeare_quotes:\n",
    "    #print(quote.split().count(\"to\"))\n",
    "    #print(len(quote.split()))\n",
    "    \n",
    "print(max(shakespeare_quotes))"
   ]
  },
  {
   "cell_type": "code",
   "execution_count": null,
   "metadata": {},
   "outputs": [],
   "source": [
    "# get the max length of the quotes\n",
    "max_length = 0\n",
    "\n",
    "for quote in shakespeare_quotes:\n",
    "    if len(quote.split()) > max_length:\n",
    "        max_length = len(quote.split()) "
   ]
  },
  {
   "cell_type": "code",
   "execution_count": null,
   "metadata": {},
   "outputs": [],
   "source": [
    "names = [\"John\", \"Jane\", \"Jack\", \"Jill\", \"Joe\"]\n",
    "\n",
    "print(names)\n",
    "\n",
    "print(names.count(\"John\"))\n",
    "\n",
    "print(names.count(\"Jo\"))"
   ]
  },
  {
   "cell_type": "code",
   "execution_count": null,
   "metadata": {},
   "outputs": [],
   "source": [
    "lorem_ipsum = \"\"\"\n",
    "Lorem ipsum, or lipsum as it is sometimes known, is dummy text used in laying out print, graphic or web designs. The passage is attributed to an unknown typesetter in the 15th century who is thought to have scrambled parts of Cicero's De Finibus Bonorum et Malorum for use in a type specimen book. It usually begins with:\n",
    "\n",
    "“Lorem ipsum dolor sit amet, consectetur adipiscing elit, sed do eiusmod tempor incididunt ut labore et dolore magna aliqua.”\n",
    "The purpose of lorem ipsum is to create a natural looking block of text (sentence, paragraph, page, etc.) that doesn't distract from the layout. A practice not without controversy, laying out pages with meaningless filler text can be very useful when the focus is meant to be on design, not content.\n",
    "\n",
    "The passage experienced a surge in popularity during the 1960s when Letraset used it on their dry-transfer sheets, and again during the 90s as desktop publishers bundled the text with their software. Today it's seen all around the web; on templates, websites, and stock designs. Use our generator to get your own, or read on for the authoritative history of lorem ipsum.\n",
    "\"\"\"\n",
    "\n",
    "print(lorem_ipsum)\n",
    "\n",
    "def count_words(text):\n",
    "    words = text.split()\n",
    "    return len(words)\n",
    "\n",
    "def search_words(text, word):\n",
    "    words = text.split()\n",
    "    return words.count(word)\n",
    "\n",
    "def remove_words(text, word):\n",
    "    words = text.split()\n",
    "    while word in words:\n",
    "        words.remove(word)\n",
    "    return \" \".join(words)"
   ]
  },
  {
   "cell_type": "code",
   "execution_count": 25,
   "metadata": {},
   "outputs": [
    {
     "name": "stdout",
     "output_type": "stream",
     "text": [
      "['Hello', 'World']\n",
      "HELLO WORLD\n",
      "hello world\n",
      "Hello World\n",
      "Hello world\n",
      "hELLO wORLD\n",
      "Hello Python\n",
      "True\n",
      "True\n",
      "False\n",
      "False\n",
      "False\n"
     ]
    }
   ],
   "source": [
    "s = \"Hello World\"\n",
    "\n",
    "# test all string methods\n",
    "print(s.split())\n",
    "print(s.upper())\n",
    "print(s.lower())\n",
    "print(s.title())\n",
    "print(s.capitalize())\n",
    "print(s.swapcase())\n",
    "print(s.replace(\"World\", \"Python\"))\n",
    "print(s.startswith(\"Hello\"))\n",
    "print(s.endswith(\"World\"))\n",
    "print(s.isalpha())\n",
    "print(s.isalnum())\n",
    "print(s.isdigit())"
   ]
  },
  {
   "cell_type": "markdown",
   "metadata": {},
   "source": [
    "Voel je vrij om te spelen met de rest van de methoden voor een lijst. Verderop in dit gedeelte zal je quiz gebruik maken van help en Google zoeken naar methoden voor verschillende soorten objecten!"
   ]
  },
  {
   "cell_type": "markdown",
   "metadata": {},
   "source": [
    "Geweldig! Door deze lezing zou je je op je gemak moeten voelen bij het aanroepen van methoden van objecten in Python!"
   ]
  }
 ],
 "metadata": {
  "kernelspec": {
   "display_name": "lesgeven",
   "language": "python",
   "name": "python3"
  },
  "language_info": {
   "codemirror_mode": {
    "name": "ipython",
    "version": 3
   },
   "file_extension": ".py",
   "mimetype": "text/x-python",
   "name": "python",
   "nbconvert_exporter": "python",
   "pygments_lexer": "ipython3",
   "version": "3.10.8 | packaged by conda-forge | (main, Nov 24 2022, 14:07:00) [MSC v.1916 64 bit (AMD64)]"
  },
  "vscode": {
   "interpreter": {
    "hash": "9a3f8754118d89546ba66fd3e8c423f2768f1186c6b5f42757b60aabc450c67b"
   }
  }
 },
 "nbformat": 4,
 "nbformat_minor": 1
}
