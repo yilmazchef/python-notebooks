{
 "cells": [
  {
   "cell_type": "code",
   "execution_count": 135,
   "metadata": {},
   "outputs": [],
   "source": [
    "# import pandoc module\n",
    "\n",
    "import pandoc\n",
    "import pandocfilters\n",
    "import os\n",
    "import sys\n",
    "import re\n",
    "import json\n",
    "import codecs\n",
    "import shutil\n",
    "import subprocess\n",
    "import tempfile\n",
    "\n",
    "# import pandas and numpy\n",
    "import pandas as pd\n",
    "import numpy as np\n",
    "\n",
    "# import plotting modules\n",
    "import matplotlib.pyplot as plt\n",
    "import seaborn as sns\n",
    "\n",
    "# import ipython modules\n",
    "from IPython.display import display, HTML, Image, SVG, Math, YouTubeVideo, IFrame, Javascript, Markdown, Latex\n",
    "\n",
    "# import nbconvert module\n",
    "import nbconvert\n",
    "import nbformat"
   ]
  },
  {
   "cell_type": "code",
   "execution_count": 148,
   "metadata": {},
   "outputs": [],
   "source": [
    "import copy\n",
    "import uuid\n",
    "\n",
    "def Notebook():\n",
    "    return {\n",
    "        \"nbformat\": 4,\n",
    "        \"nbformat_minor\": 5,\n",
    "        \"cells\": [],\n",
    "        \"metadata\": {},\n",
    "    }\n",
    "\n",
    "def CodeCell():\n",
    "    return {\n",
    "        \"cell_type\": \"code\",\n",
    "        \"source\": [],\n",
    "        \"execution_count\": None,\n",
    "        \"outputs\": [],\n",
    "        \"id\": uuid.uuid4().hex,\n",
    "        \"metadata\": {},\n",
    "    }\n",
    "\n",
    "def MarkdownCell(): \n",
    "    return {\n",
    "        \"cell_type\": \"markdown\",\n",
    "        \"source\": [],\n",
    "        \"id\": uuid.uuid4().hex,\n",
    "        \"metadata\": {},\n",
    "    }\n"
   ]
  },
  {
   "cell_type": "code",
   "execution_count": 136,
   "metadata": {},
   "outputs": [],
   "source": [
    "# define a function to convert a notebook to a markdown file\n",
    "def nb2md(nbfile):\n",
    "    # convert notebook to markdown using nbconvert\n",
    "    mdfile = nbfile.replace('.ipynb', '.md')\n",
    "    \n",
    "    # read the notebook\n",
    "    with open(nbfile, 'r') as f:\n",
    "        nb = nbformat.read(f, as_version=4)\n",
    "    \n",
    "    # create a markdown exporter\n",
    "    md_exporter = nbconvert.MarkdownExporter()\n",
    "    \n",
    "    # export the notebook to markdown\n",
    "    (body, resources) = md_exporter.from_notebook_node(nb)\n",
    "    \n",
    "    # write the markdown file\n",
    "    with open(mdfile, 'w') as f:\n",
    "        f.write(body)\n",
    "        \n",
    "    # read the markdown file and return the contents\n",
    "    with open(mdfile, 'r') as f:\n",
    "        md = f.read()\n",
    "        \n",
    "    return md"
   ]
  },
  {
   "cell_type": "code",
   "execution_count": 144,
   "metadata": {},
   "outputs": [],
   "source": [
    "# test the function on the current notebook\n",
    "md_data = nb2md('test.ipynb')"
   ]
  },
  {
   "cell_type": "code",
   "execution_count": 145,
   "metadata": {},
   "outputs": [],
   "source": [
    "pandoc_data = pandoc.read(md_data)"
   ]
  },
  {
   "cell_type": "code",
   "execution_count": 146,
   "metadata": {},
   "outputs": [
    {
     "data": {
      "text/plain": [
       "Pandoc(Meta({}), [CodeBlock(('', ['python'], []), '# header 1\\n\\nLorem ipsum ')])"
      ]
     },
     "metadata": {},
     "output_type": "display_data"
    }
   ],
   "source": [
    "display(pandoc_data)"
   ]
  },
  {
   "cell_type": "code",
   "execution_count": 141,
   "metadata": {},
   "outputs": [],
   "source": [
    "def notebookify(doc):\n",
    "    notebook = Notebook()\n",
    "    cells = notebook[\"cells\"]\n",
    "    blocks = doc[1] # doc: Pandoc(Meta, [Block])\n",
    "    for block in blocks:\n",
    "        source, cell = None, None\n",
    "        if isinstance(block, pandocfilters.CodeBlock):\n",
    "            source = block[1] # block: CodeBlock(Attr, Text)\n",
    "            cell = CodeCell()\n",
    "        else:\n",
    "            source = pandoc.write(block).strip()\n",
    "            cell = MarkdownCell()\n",
    "        cell[\"source\"] = source.splitlines(keepends=True)\n",
    "        cells.append(cell)\n",
    "    return notebook\n"
   ]
  },
  {
   "cell_type": "code",
   "execution_count": 142,
   "metadata": {},
   "outputs": [],
   "source": [
    "# define a function to convert a markdown file to a notebook\n",
    "def md2nb(markdown):\n",
    "        \n",
    "    # convert the markdown to a pandoc document\n",
    "    doc = pandoc.read(md)\n",
    "    \n",
    "    # convert the pandoc document to a notebook\n",
    "    nb = notebookify(doc)\n",
    "    \n",
    "    # write the notebook file\n",
    "    with open(\"test.ipynb\", 'w') as f:\n",
    "        json.dump(nb, f)\n",
    "        \n",
    "    # read the notebook file and return the contents\n",
    "    with open(nbfile, 'r') as f:\n",
    "        nb = json.load(f)\n",
    "        \n",
    "    return nb"
   ]
  },
  {
   "cell_type": "code",
   "execution_count": 143,
   "metadata": {},
   "outputs": [
    {
     "ename": "TypeError",
     "evalue": "isinstance() arg 2 must be a type, a tuple of types, or a union",
     "output_type": "error",
     "traceback": [
      "\u001b[1;31m---------------------------------------------------------------------------\u001b[0m",
      "\u001b[1;31mTypeError\u001b[0m                                 Traceback (most recent call last)",
      "Cell \u001b[1;32mIn[143], line 3\u001b[0m\n\u001b[0;32m      1\u001b[0m \u001b[39m# test the function on the current notebook\u001b[39;00m\n\u001b[0;32m      2\u001b[0m \u001b[39mtry\u001b[39;00m:\n\u001b[1;32m----> 3\u001b[0m     nb \u001b[39m=\u001b[39m md2nb(\u001b[39m'\u001b[39;49m\u001b[39mdemooo.md\u001b[39;49m\u001b[39m'\u001b[39;49m)\n\u001b[0;32m      4\u001b[0m \u001b[39mexcept\u001b[39;00m \u001b[39mFileNotFoundError\u001b[39;00m \u001b[39mas\u001b[39;00m fe:\n\u001b[0;32m      5\u001b[0m     \u001b[39mprint\u001b[39m(fe)\n",
      "Cell \u001b[1;32mIn[142], line 14\u001b[0m, in \u001b[0;36mmd2nb\u001b[1;34m(mdfile)\u001b[0m\n\u001b[0;32m     11\u001b[0m doc \u001b[39m=\u001b[39m px\u001b[39m.\u001b[39mread(md)\n\u001b[0;32m     13\u001b[0m \u001b[39m# convert the pandoc document to a notebook\u001b[39;00m\n\u001b[1;32m---> 14\u001b[0m nb \u001b[39m=\u001b[39m notebookify(doc)\n\u001b[0;32m     16\u001b[0m \u001b[39m# write the notebook file\u001b[39;00m\n\u001b[0;32m     17\u001b[0m \u001b[39mwith\u001b[39;00m \u001b[39mopen\u001b[39m(nbfile, \u001b[39m'\u001b[39m\u001b[39mw\u001b[39m\u001b[39m'\u001b[39m) \u001b[39mas\u001b[39;00m f:\n",
      "Cell \u001b[1;32mIn[141], line 7\u001b[0m, in \u001b[0;36mnotebookify\u001b[1;34m(doc)\u001b[0m\n\u001b[0;32m      5\u001b[0m \u001b[39mfor\u001b[39;00m block \u001b[39min\u001b[39;00m blocks:\n\u001b[0;32m      6\u001b[0m     source, cell \u001b[39m=\u001b[39m \u001b[39mNone\u001b[39;00m, \u001b[39mNone\u001b[39;00m\n\u001b[1;32m----> 7\u001b[0m     \u001b[39mif\u001b[39;00m \u001b[39misinstance\u001b[39;49m(block, pandocfilters\u001b[39m.\u001b[39;49mCodeBlock):\n\u001b[0;32m      8\u001b[0m         source \u001b[39m=\u001b[39m block[\u001b[39m1\u001b[39m] \u001b[39m# block: CodeBlock(Attr, Text)\u001b[39;00m\n\u001b[0;32m      9\u001b[0m         cell \u001b[39m=\u001b[39m CodeCell()\n",
      "\u001b[1;31mTypeError\u001b[0m: isinstance() arg 2 must be a type, a tuple of types, or a union"
     ]
    }
   ],
   "source": [
    "# test the function on the current notebook\n",
    "try:\n",
    "    nb = md2nb(doc)\n",
    "except FileNotFoundError as fe:\n",
    "    print(fe)"
   ]
  },
  {
   "cell_type": "code",
   "execution_count": null,
   "metadata": {},
   "outputs": [],
   "source": [
    "# create a test notebook with some markdown cells\n",
    "\n",
    "# create a markdown cell\n",
    "mdcell = v4.new_markdown_cell('This is a markdown cell')\n",
    "\n",
    "# create a markdown cell with a link\n",
    "mdcell2 = v4.new_markdown_cell('This is a markdown cell with a link to [Google](http://www.google.com)')\n",
    "\n",
    "# create a markdown cell with a link and an image\n",
    "mdcell3 = v4.new_markdown_cell('This is a markdown cell with a link to [Google](http://www.google.com) and an image ![image](http://www.google.com/intl/en_com/images/srpr/logo1w.png)')\n",
    "\n",
    "# create a markdown cell with a link, an image and some code\n",
    "mdcell4 = v4.new_markdown_cell('This is a markdown cell with a link to [Google](http://www.google.com) and an image ![image](http://www.google.com/intl/en_com/images/srpr/logo1w.png) and some code `print \"Hello World\"`')\n",
    "\n",
    "# create a markdown cell with a link, an image, some code and a table\n",
    "mdcell5 = v4.new_markdown_cell('This is a markdown cell with a link to [Google](http://www.google.com) and an image ![image](http://www.google.com/intl/en_com/images/srpr/logo1w.png) and some code `print \"Hello World\"` and a table\\n\\n|col1|col2|\\n|----|----|\\n|row1|row2|\\n|row3|row4|')\n",
    "\n",
    "# create a markdown cell with a link, an image, some code, a table and a math equation\n",
    "mdcell6 = v4.new_markdown_cell('This is a markdown cell with a link to [Google](http://www.google.com) and an image ![image](http://www.google.com/intl/en_com/images/srpr/logo1w.png) and some code `print \"Hello World\"` and a table\\n\\n|col1|col2|\\n|----|----|\\n|row1|row2|\\n|row3|row4|\\n\\nand a math equation $\\\\sum_{i=1}^n i^2 = \\\\frac{(n^2+n)(2n+1)}{6}$')\n",
    "\n",
    "\n",
    "# create a notebook with the markdown cells\n",
    "nb = v4.new_notebook()\n",
    "\n",
    "# add the markdown cells to the notebook\n",
    "nb['cells'] = [mdcell, mdcell2, mdcell3, mdcell4, mdcell5, mdcell6]\n",
    "\n",
    "# write the notebook to a file\n",
    "with codecs.open('test.ipynb', 'w', encoding='utf-8') as f:\n",
    "    write(nb, f, 4)\n",
    "    \n",
    "# convert the notebook to markdown\n",
    "nb2md('test.ipynb', 'test.md')"
   ]
  }
 ],
 "metadata": {
  "kernelspec": {
   "display_name": ".pyenv",
   "language": "python",
   "name": "python3"
  },
  "language_info": {
   "codemirror_mode": {
    "name": "ipython",
    "version": 3
   },
   "file_extension": ".py",
   "mimetype": "text/x-python",
   "name": "python",
   "nbconvert_exporter": "python",
   "pygments_lexer": "ipython3",
   "version": "3.10.8"
  },
  "orig_nbformat": 4,
  "vscode": {
   "interpreter": {
    "hash": "c9bd69232ff58173948ed44ab7c1b31993da5e326561103388cba03623f2d771"
   }
  }
 },
 "nbformat": 4,
 "nbformat_minor": 2
}
