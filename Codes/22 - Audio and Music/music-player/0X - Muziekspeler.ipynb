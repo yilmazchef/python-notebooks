{
 "cells": [
  {
   "cell_type": "markdown",
   "metadata": {},
   "source": [
    "# Een muziekspeler maken met Python\n",
    "\n",
    "In dit project zullen we een GUI-gebaseerde mp3-muziekspeler \n",
    "maken met behulp van python-bibliotheken. \n",
    "\n",
    "Het is een project op gemiddeld niveau waarbij\n",
    "veel kennis opdoet over Tkinter-en pygame-bibliotheken.\n",
    "\n",
    "Het doel van dit project is om een GUI te bouwen. Voor dit gaan\n",
    "we Tkinter widgets gebruiken. Basis kennis van Tkinter is genoeg.\n",
    "Maar gaan we ook pygame modules nodig hebben, zoals mixer. \n",
    "Ten laatste, gaan we zeker os libraries nodig hebben. \n"
   ]
  },
  {
   "cell_type": "markdown",
   "metadata": {},
   "source": [
    "## Projectvereisten\n",
    "\n",
    "1. Tkinter - De GUI voor het project maken\n",
    "2. Pygame.mixer - Dit is een pygame module die wordt gebruikt om muziek te laden en af te spelen.\n",
    "3. OS - Om de afspeellijst met nummers op te halen uit de opgegeven mappen.\n",
    "\n",
    "Niet alle bibliotheken zijn vooraf geïnstalleerd met Python, dus u moet de volgende opdracht uitvoeren om \n",
    "de vereiste libraries te installeren. \n",
    "\n",
    "we hebben echt geen globaal installatie nodig, dus het beste oplossing is om een virtueel-omgeving aan te maken.\n",
    "\n"
   ]
  },
  {
   "cell_type": "markdown",
   "metadata": {},
   "source": [
    "## Project bestandsstructuur\n",
    "\n",
    "Hier zijn de stappen die u moet uitvoeren om het Python-muziekspeler te bouwen:\n",
    "\n",
    "1. Alle bibliotheken importeren\n",
    "2. Initialiseren van de nodige bibliotheken (Tkinter, PyGame enz.)\n",
    "3. Het definiëren van de afspeel-, stop-, pauze-, hervat- en laadfuncties. \n",
    "4. De variabelen LabelFrames en StringVar maken\n",
    "5. Alle objecten in alle drie de labelframes plaatsen\n",
    "6. Het uiteindelijke label maken dat de status van het nummer weergeeft.\n",
    "\n",
    "Laten we dieper ingaan: "
   ]
  },
  {
   "cell_type": "markdown",
   "metadata": {},
   "source": [
    "1. Alle bibliotheken importeren"
   ]
  },
  {
   "cell_type": "code",
   "execution_count": null,
   "metadata": {},
   "outputs": [],
   "source": [
    "# importeert van alle benodigde modules van Tkinter\n",
    "from tkinter import *\n",
    "from tkinter import filedialog\n",
    "import pygame.mixer as mixer\n",
    "import os\n",
    "\n"
   ]
  },
  {
   "cell_type": "markdown",
   "metadata": {},
   "source": [
    "2. Initialiseren van de nodige bibliotheken (Tkinter, PyGame enz.)"
   ]
  },
  {
   "cell_type": "code",
   "execution_count": null,
   "metadata": {},
   "outputs": [],
   "source": [
    "# initialiseren van de mixer \n",
    "mixer.init()\n",
    "\n",
    "# init van Tkinter-master GUI\n",
    "root = Tk()\n",
    "# zet een size voor het root GUI \n",
    "root.geometry('700x220')\n",
    "root.title('Intec Music Player')\n",
    "# maak het grootste niet veranderbaar \n",
    "root.resizable(0,0)\n",
    "\n",
    "# finalisering van de GUI\n",
    "root.update()\n",
    "root.mainloop()\n",
    "\n"
   ]
  },
  {
   "cell_type": "markdown",
   "metadata": {},
   "source": [
    "# functies voor de muziekspeler te beheren\n",
    "\n",
    "**Code uitleg:** \n",
    "\n",
    "- We zullen de mixer-module van pygame moeten initialiseren door de .init()-methode erop te gebruiken.\n",
    "- Vervolgens moeten we ons GUI-root voor de muziekspeler initialiseren.\n",
    "\n",
    "**Volgende features:**\n",
    "- play_song\n",
    "- stop_song\n",
    "- pauze_song\n",
    "- resume_song\n",
    "- load_playlist\n",
    "- exit_app\n"
   ]
  },
  {
   "cell_type": "code",
   "execution_count": null,
   "metadata": {},
   "outputs": [],
   "source": [
    "# Het afspelen\n",
    "def play_song(song_name: StringVar, songs_list: Listbox, status: StringVar):\n",
    "    # zet de actief song name\n",
    "    song_name.set(songs_list.get(ACTIVE))\n",
    "    # laad een muziek bij naam\n",
    "    mixer.music.load(songs_list.get(ACTIVE))\n",
    "    # speel de muziek\n",
    "    mixer.music.play()\n",
    "    status.set(\"Song playing V\")\n",
    "\n",
    "\n",
    "# Het stopzetten\n",
    "def stop_song(status: StringVar):\n",
    "    # stop \n",
    "    mixer.music.stop()\n",
    "    # verwijst het status\n",
    "    status.set(\"Song STOPPED X\")\n",
    "\n",
    "\n",
    "# Het pauze-zetten\n",
    "def pauze_song(status: StringVar):\n",
    "    # zet een pauze voor het muziek-spelen\n",
    "    mixer.music.pauze()\n",
    "    status.set(\"Song PAUSED || \")\n",
    "\n",
    "\n",
    "# Verder spelen\n",
    "def resume_song(status:StringVar):\n",
    "    # speel het muziek verder.. \n",
    "    mixer.music.unpause()\n",
    "    status.set(\"Song RESUMED >> \")\n",
    "\n",
    "\n",
    "# laden de speellijst\n",
    "def load_playlist(listbox_widget):\n",
    "    # navigeer in het map van de aangevraagde directory info\n",
    "    # os.chdir() wordt gebruikt om de huidige werkmap te wijzigen in het opgegeven pad.\n",
    "    os.chdir( filedialog.askdirectory(title = \"Choose a song directory ->\") )\n",
    "    # map alle tracks van de directory\n",
    "    # os.listdir() wordt gebruikt om alle bestanden in de huidige werkmap in de vorm van een lijst weer te geven.\n",
    "    tracks = os.listdir()\n",
    "    # in een for-lus voeg alle tracks een voor een naar de lijstbox toe..\n",
    "    for track in tracks:\n",
    "        # de functie .insert() wordt gebruikt om nieuwe elementen in te voegen in de listbox-widget\n",
    "        if track.endswith(\".mp3\"):\n",
    "            # als het bestand een mp3 is.\n",
    "            listbox_widget.insert(END, track)\n",
    "\n"
   ]
  },
  {
   "cell_type": "markdown",
   "metadata": {},
   "source": [
    "## De variabelen LabelFrames en StringVar maken\n",
    "\n",
    "- Een LabelFrame is een container in Python Tkinter GUI's die fungeert als een container voor verschillende componenten.\n",
    "- De klasse StringVar wordt gebruikt om tekst in labels, invoer-widgets en Option.Menu's te manipuleren en te bewerken.\n",
    "\n",
    "tijd om het muziekspeler te testen !!"
   ]
  },
  {
   "cell_type": "code",
   "execution_count": null,
   "metadata": {},
   "outputs": [],
   "source": [
    "song_frame = LabelFrame(root, text = 'Current Song', bg='LightBlue', width=400, height=80)\n",
    "song_frame.place(x=0, y=0)\n",
    "\n",
    "button_frame = LabelFrame(root, text = 'Control Buttons', bg='Turquoise', width=400, height=120)\n",
    "button_frame.place(x=0, y=80)\n",
    "\n",
    "listbox_frame = LabelFrame(root, text='Playlist', bg='RoyalBlue')\n",
    "listbox_frame.place(x=400, y=0, height=200, width=300)\n",
    "\n",
    "# Alle StringVar variabelen\n",
    "current_song = StringVar(root, value='<Not selected>')\n",
    "\n",
    "song_status = StringVar(root, value='Not available!')\n"
   ]
  },
  {
   "cell_type": "markdown",
   "metadata": {},
   "source": [
    "## Widgets: LabelFrames\n",
    "\n",
    "Alle widgets in all drie de LabelFrames plaatsen:"
   ]
  },
  {
   "cell_type": "code",
   "execution_count": null,
   "metadata": {},
   "outputs": [],
   "source": [
    "# Playlist ListBox\n",
    "playlist = Listbox(listbox_frame, font=('Helvetica', 11), selectbackground='Gold')\n",
    "\n",
    "scroll_bar = Scrollbar(listbox_frame, orient=VERTICAL)\n",
    "scroll_bar.pack(side=RIGHT, fill=BOTH)\n",
    "\n",
    "playlist.config(yscrollcommand=scroll_bar.set)\n",
    "\n",
    "scroll_bar.config(command=playlist.yview)\n",
    "\n",
    "playlist.pack(fill=BOTH, padx=5, pady=5)\n",
    "\n",
    "# SongFrame Labels\n",
    "Label(song_frame, text='CURRENTLY PLAYING:', bg='LightBlue', font=('Times', 10, 'bold')).place(x=5, y=20)\n",
    "\n",
    "song_lbl = Label(song_frame, textvariable=current_song, bg='Goldenrod', font=(\"Times\", 12), width=25)\n",
    "song_lbl.place(x=150, y=20)\n",
    "\n",
    "# Buttons in the main screen\n",
    "pause_btn = Button(button_frame, text='Pause', bg='Aqua', font=(\"Georgia\", 13), width=7,\n",
    "                    command=lambda: pause_song(song_status))\n",
    "pause_btn.place(x=15, y=10)\n",
    "\n",
    "stop_btn = Button(button_frame, text='Stop', bg='Aqua', font=(\"Georgia\", 13), width=7,\n",
    "                  command=lambda: stop_song(song_status))\n",
    "stop_btn.place(x=105, y=10)\n",
    "\n",
    "play_btn = Button(button_frame, text='Play', bg='Aqua', font=(\"Georgia\", 13), width=7,\n",
    "                  command=lambda: play_song(current_song, playlist, song_status))\n",
    "play_btn.place(x=195, y=10)\n",
    "\n",
    "resume_btn = Button(button_frame, text='Resume', bg='Aqua', font=(\"Georgia\", 13), width=7,\n",
    "                    command=lambda: resume_song(song_status))\n",
    "resume_btn.place(x=285, y=10)\n",
    "\n",
    "load_btn = Button(button_frame, text='Load Directory', bg='Aqua', font=(\"Georgia\", 13), width=35, command=lambda: load(playlist))\n",
    "load_btn.place(x=10, y=55)"
   ]
  },
  {
   "cell_type": "markdown",
   "metadata": {},
   "source": [
    "## Widgets: Status label\n",
    "\n",
    "Het uiteindelijke label maken dat de status van het nummer weergeeft:"
   ]
  },
  {
   "cell_type": "code",
   "execution_count": null,
   "metadata": {},
   "outputs": [],
   "source": [
    "# Label onderaan dat de staat van de muziek weergeeft\n",
    "Label(root, textvariable=song_status, bg='SteelBlue', font=('Times', 9), justify=LEFT).pack(side=BOTTOM, fill=X)"
   ]
  },
  {
   "cell_type": "markdown",
   "metadata": {},
   "source": [
    "De parameter justify van de klasse Label geeft de uitlijning van de tekst op de widget aan."
   ]
  },
  {
   "cell_type": "markdown",
   "metadata": {},
   "source": [
    "## Opdrachten:\n",
    "\n",
    "Codeer verder het remainder part van de muziekspeler.. \n",
    "\n",
    "**Een voorbeeld verbeteringsidee:** Progressbar/buttons om forward en backwards te gaan. \n",
    "\n",
    "Dat is volledig optioneel deze video-tutorial is enkel om te tonen hoe makkelijk met GUI componenten te bouwen. \n",
    "\n",
    "De volgende stap is om met sockets te werken, een kleine client-server app.. Tot volgende .. "
   ]
  }
 ],
 "metadata": {
  "interpreter": {
   "hash": "c8d662a66c78b6981698d78ac7525b3d0b09aa7f09ce7d84c47f67950fa2ccbc"
  },
  "kernelspec": {
   "display_name": "Python 3.10.3 ('pylibs': venv)",
   "language": "python",
   "name": "python3"
  },
  "language_info": {
   "codemirror_mode": {
    "name": "ipython",
    "version": 3
   },
   "file_extension": ".py",
   "mimetype": "text/x-python",
   "name": "python",
   "nbconvert_exporter": "python",
   "pygments_lexer": "ipython3",
   "version": "3.10.3"
  },
  "orig_nbformat": 4
 },
 "nbformat": 4,
 "nbformat_minor": 2
}
