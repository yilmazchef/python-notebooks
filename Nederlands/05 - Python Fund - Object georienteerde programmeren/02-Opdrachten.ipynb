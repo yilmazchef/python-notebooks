{
 "cells": [
  {
   "cell_type": "markdown",
   "metadata": {},
   "source": [
    "# Opdrachten OOP"
   ]
  },
  {
   "cell_type": "markdown",
   "metadata": {},
   "source": [
    "Programma Uitleg:\n",
    "\n",
    "1. Er wordt een klasse met de naam Calculator gemaakt en de methode __init__() wordt gebruikt om de waarden van die klasse te initialiseren.\n",
    "2. Methoden voor het optellen, aftrekken, vermenigvuldigen, delen van twee getallen en het retourneren van hun respectievelijke resultaten zijn gedefinieerd.\n",
    "3. Het menu wordt afgedrukt en de keuze wordt gemaakt door de gebruiker.\n",
    "4. Er wordt een object voor de klasse gemaakt met de twee nummers van de gebruiker die als parameters worden doorgegeven.\n",
    "5. Met behulp van het object wordt de respectieve methode aangeroepen volgens de keuze van de gebruiker.\n",
    "6. Als de keuze 0 is, wordt de lus afgesloten.\n",
    "7. Het eindresultaat wordt afgedrukt."
   ]
  },
  {
   "cell_type": "code",
   "execution_count": 1,
   "metadata": {},
   "outputs": [
    {
     "ename": "TypeError",
     "evalue": "Calculator() takes no arguments",
     "output_type": "error",
     "traceback": [
      "\u001b[1;31m---------------------------------------------------------------------------\u001b[0m",
      "\u001b[1;31mTypeError\u001b[0m                                 Traceback (most recent call last)",
      "\u001b[1;32mc:\\Users\\Administrator\\Documents\\Lesmaterialen\\Python\\Notitieboeken\\Nederlands\\05 - Python Fund - Object georienteerde programmeren\\02-Opdrachten.ipynb Cell 3'\u001b[0m in \u001b[0;36m<module>\u001b[1;34m\u001b[0m\n\u001b[0;32m      <a href='vscode-notebook-cell:/c%3A/Users/Administrator/Documents/Lesmaterialen/Python/Notitieboeken/Nederlands/05%20-%20Python%20Fund%20-%20Object%20georienteerde%20programmeren/02-Opdrachten.ipynb#ch0000002?line=3'>4</a>\u001b[0m a\u001b[39m=\u001b[39m\u001b[39mint\u001b[39m(\u001b[39minput\u001b[39m(\u001b[39m\"\u001b[39m\u001b[39mEnter first number: \u001b[39m\u001b[39m\"\u001b[39m))\n\u001b[0;32m      <a href='vscode-notebook-cell:/c%3A/Users/Administrator/Documents/Lesmaterialen/Python/Notitieboeken/Nederlands/05%20-%20Python%20Fund%20-%20Object%20georienteerde%20programmeren/02-Opdrachten.ipynb#ch0000002?line=4'>5</a>\u001b[0m b\u001b[39m=\u001b[39m\u001b[39mint\u001b[39m(\u001b[39minput\u001b[39m(\u001b[39m\"\u001b[39m\u001b[39mEnter second number: \u001b[39m\u001b[39m\"\u001b[39m))\n\u001b[1;32m----> <a href='vscode-notebook-cell:/c%3A/Users/Administrator/Documents/Lesmaterialen/Python/Notitieboeken/Nederlands/05%20-%20Python%20Fund%20-%20Object%20georienteerde%20programmeren/02-Opdrachten.ipynb#ch0000002?line=6'>7</a>\u001b[0m obj\u001b[39m=\u001b[39mCalculator(a,b)\n\u001b[0;32m      <a href='vscode-notebook-cell:/c%3A/Users/Administrator/Documents/Lesmaterialen/Python/Notitieboeken/Nederlands/05%20-%20Python%20Fund%20-%20Object%20georienteerde%20programmeren/02-Opdrachten.ipynb#ch0000002?line=8'>9</a>\u001b[0m choice\u001b[39m=\u001b[39m\u001b[39m1\u001b[39m\n\u001b[0;32m     <a href='vscode-notebook-cell:/c%3A/Users/Administrator/Documents/Lesmaterialen/Python/Notitieboeken/Nederlands/05%20-%20Python%20Fund%20-%20Object%20georienteerde%20programmeren/02-Opdrachten.ipynb#ch0000002?line=10'>11</a>\u001b[0m \u001b[39mwhile\u001b[39;00m choice\u001b[39m!=\u001b[39m\u001b[39m0\u001b[39m:\n",
      "\u001b[1;31mTypeError\u001b[0m: Calculator() takes no arguments"
     ]
    }
   ],
   "source": [
    "class Calculator():\n",
    "    pass\n",
    "\n",
    "a=int(input(\"Enter first number: \"))\n",
    "b=int(input(\"Enter second number: \"))\n",
    "\n",
    "obj=Calculator(a,b)\n",
    "\n",
    "choice=1\n",
    "\n",
    "while choice!=0:\n",
    "    print(\"0. Exit\")\n",
    "    print(\"1. Add\")\n",
    "    print(\"2. Subtraction\")\n",
    "    print(\"3. Multiplication\")\n",
    "    print(\"4. Division\")\n",
    "\n",
    "    choice=int(input(\"Enter choice: \"))\n",
    "    if choice==1:\n",
    "        print(\"Result: \", obj.add())\n",
    "    elif choice==2:\n",
    "        print(\"Result: \", obj.sub())\n",
    "    elif choice==3:\n",
    "        print(\"Result: \", obj.mul())\n",
    "    elif choice==4:\n",
    "        print(\"Result: \", round(obj.div(),2))\n",
    "    elif choice==0:\n",
    "        print(\"Exiting!\")\n",
    "    else:\n",
    "        print(\"Invalid choice!!\")\n",
    " \n",
    " \n",
    "print()"
   ]
  },
  {
   "cell_type": "markdown",
   "metadata": {},
   "source": [
    "Runtime scenarios om te testen\n",
    "\n",
    "```\n",
    " \n",
    "Case 1:\n",
    "Enter first number: 2\n",
    "Enter second number: 4\n",
    "0. Exit\n",
    "1. Add\n",
    "2. Subtraction\n",
    "3. Multiplication\n",
    "4. Division\n",
    "Enter choice: 1\n",
    "Result:  6\n",
    "0. Exit\n",
    "1. Add\n",
    "2. Subtraction\n",
    "3. Multiplication\n",
    "4. Division\n",
    "Enter choice: 3\n",
    "Result:  8\n",
    "0. Exit\n",
    "1. Add\n",
    "2. Subtraction\n",
    "3. Multiplication\n",
    "4. Division\n",
    "Enter choice: 0\n",
    "Exiting!\n",
    " \n",
    "Case 2:\n",
    "Enter first number: 150\n",
    "Enter second number: 50\n",
    "0. Exit\n",
    "1. Add\n",
    "2. Subtraction\n",
    "3. Multiplication\n",
    "4. Division\n",
    "Enter choice: 2\n",
    "Result:  100\n",
    "0. Exit\n",
    "1. Add\n",
    "2. Subtraction\n",
    "3. Multiplication\n",
    "4. Division\n",
    "Enter choice: 4\n",
    "Result:  3.0\n",
    "0. Exit\n",
    "1. Add\n",
    "2. Subtraction\n",
    "3. Multiplication\n",
    "4. Division\n",
    "Enter choice: 0\n",
    "Exiting!\n",
    "\n",
    "```"
   ]
  }
 ],
 "metadata": {
  "interpreter": {
   "hash": "4e0b39fdc4f2df2992ef135d097972ec225e019845a073717c5b1bc8df292c8a"
  },
  "kernelspec": {
   "display_name": "Python 3.10.2 64-bit",
   "language": "python",
   "name": "python3"
  },
  "language_info": {
   "codemirror_mode": {
    "name": "ipython",
    "version": 3
   },
   "file_extension": ".py",
   "mimetype": "text/x-python",
   "name": "python",
   "nbconvert_exporter": "python",
   "pygments_lexer": "ipython3",
   "version": "3.10.2"
  },
  "orig_nbformat": 4
 },
 "nbformat": 4,
 "nbformat_minor": 2
}
