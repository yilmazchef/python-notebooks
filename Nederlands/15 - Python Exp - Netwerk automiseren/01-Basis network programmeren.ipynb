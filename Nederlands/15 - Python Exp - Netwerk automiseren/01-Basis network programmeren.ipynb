{
 "cells": [
  {
   "cell_type": "markdown",
   "metadata": {
    "collapsed": true,
    "pycharm": {
     "name": "#%% md\n"
    }
   },
   "source": [
    "<center>\n",
    "    <img src='https://intecbrussel.be/img/logo3.png' width='400px' height='auto'/>\n",
    "    <br/>\n",
    "    <em>Python les-materialen</em>\n",
    "</center>"
   ]
  },
  {
   "cell_type": "markdown",
   "source": [
    "# Network Programming: Features, Internet Modules & Networking Terminologies"
   ],
   "metadata": {
    "collapsed": false
   }
  },
  {
   "cell_type": "markdown",
   "source": [
    "In this article, we will learn about the essence of network programming using Python. For learning Python network programming, one must know about the following topics:\n",
    "\n",
    "- Data encoding\n",
    "- High-level client modules\n",
    "- HTTP and web programming\n",
    "- Programming using sockets\n",
    "- Basic networking terms\n",
    "\n",
    "There are two levels of network services in Python. These are:\n",
    "\n",
    "- High-level access\n",
    "- Low-level access\n",
    "\n",
    "In the low-level access, we can use and access the socket support for the operating systems by using Python libraries. Programmers can also implement connection-less and connection-oriented protocols for performing network programming.\n",
    "\n",
    "Programmers can access the application-level network protocols by using high-level access services. The standard library of Python has full support for protocols, encoding, and networking concepts."
   ],
   "metadata": {
    "collapsed": false,
    "pycharm": {
     "name": "#%% md\n"
    }
   }
  },
  {
   "cell_type": "markdown",
   "source": [
    "\n",
    "## Socket\n",
    "\n",
    "A ***socket*** is defined as an end-point in the flow of communication between any two programs or channels. The sockets are created by using a set of requests in programming, also called socket API (Application Programming Interface).\n",
    "\n",
    "These sockets use various protocols for determining a connection for port-to-port communication. The main uses of protocols are:\n",
    "\n",
    "IP addressing\n",
    "E-Mail\n",
    "FTP (File transfer protocol)\n",
    "Domain Name servers\n",
    "\n",
    "\n",
    "**Domain**: It is a family of protocols that are used as the mechanism for transportation.\n",
    "\n",
    "**Type**: It is the type of communication between two endpoints.\n",
    "\n",
    "**Protocol**: It is used to identify a variant.\n",
    "\n",
    "**Port**: It is a medium through which the server listens to the clients.\n",
    "\n",
    "### A program for socket\n",
    "\n",
    "Python has a socket method that sets up different sockets virtually. The syntax for the same is as follows:"
   ],
   "metadata": {
    "collapsed": false
   }
  },
  {
   "cell_type": "markdown",
   "source": [
    "```python\n",
    "s= socket.socket (socketFamily, type_of_the_socket, protocol=value)\n",
    "```"
   ],
   "metadata": {
    "collapsed": false
   }
  },
  {
   "cell_type": "markdown",
   "source": [
    "\n",
    "Explanation:\n",
    "\n",
    "**socketFamily**: It is either AF_UNIX or AF_INET.\n",
    "\n",
    "**type_of_the_socket**: It is either SOCK_STREAM or SOCK_DGRAM.\n",
    "\n",
    "**Protocol**: It is usually left out and defaulting to 0.\n",
    "\n",
    "Methods to manage the connections:\n",
    "\n",
    "- listen(): This method is used to establish and start TCP listeners.\n",
    "- bind(): This method is used to bind-address to the socket.\n",
    "- connect(): It is used to make a connection with the TCP server.\n",
    "- accept(): It is used to make a TCP client connection.\n",
    "- recv(): This method is used to receive messages.\n",
    "- close(): It is used to close a socket.\n",
    "- sendto(): This method is used to send UDP messages.\n",
    "- Send(): This method is used to send messages."
   ],
   "metadata": {
    "collapsed": false
   }
  },
  {
   "cell_type": "markdown",
   "source": [
    "\n",
    "## Networking Terminologies\n",
    "\n",
    "**Let us quickly discuss the basic terms of networking:**\n",
    "\n",
    "**Internet protocol:**Internet protocol is a set of rules and procedures to govern the flow of data. It has two significant protocols:\n",
    "\n",
    "### User Datagram Protocol (UDP)\n",
    "\n",
    "**The User Datagram Protocol is a connectionless protocol. Some properties of UDP are:**\n",
    "\n",
    "-   **Unreliable**: Whenever a User Datagram Protocol message is sent, we don’t have a way to know whether it has reached its destination or not. In the User Datagram protocol, there is no way of acknowledgment.\n",
    "-   **Not ordered**: We cannot predict the order of messages in which they arrive.\n",
    "\n",
    "### Transmission control protocol (TCP)\n",
    "\n",
    "TCP uses the concept of a handshake. In simple words, it is a way to ensure that the connection has been established between hosts, and now the data transfer can be started. TCP protocol requires us to build a network in the first place. Some properties of Transmission Control Protocol are:\n",
    "\n",
    "-   **Reliable**: Transmission Control Protocol manages the acknowledgment and timeout of the message. It makes several attempts to deliver the messages. The server also requests the lost parts again to get the lost messages.\n",
    "-   **Heavy-weight**: Transmission Control Protocol has three packets to set up a connection for the socket. These packets are:\n",
    "\n",
    "-   SYN\n",
    "-   SYN+ACK\n",
    "-   ACK"
   ],
   "metadata": {
    "collapsed": false
   }
  },
  {
   "cell_type": "markdown",
   "source": [
    "\n",
    "## Server and client application example\n",
    "\n",
    "### A Simple Server\n",
    "To write Internet servers, we use the socket function available in socket module to create a socket object. A socket object is then used to call other functions to setup a socket server.\n",
    "\n",
    "Now call bind(hostname, port) function to specify a port for your service on the given host.\n",
    "\n",
    "Next, call the accept method of the returned object. This method waits until a client connects to the port you specified, and then returns a connection object that represents the connection to that client."
   ],
   "metadata": {
    "collapsed": false
   }
  },
  {
   "cell_type": "code",
   "execution_count": null,
   "outputs": [],
   "source": [
    "#!/usr/bin/python           # This is server.py file\n",
    "\n",
    "import socket  # Import socket module\n",
    "\n",
    "s = socket.socket()  # Create a socket object\n",
    "host = socket.gethostname()  # Get local machine name\n",
    "port = 12345  # Reserve a port for your service.\n",
    "s.bind((host, port))  # Bind to the port\n",
    "\n",
    "s.listen(5)  # Now wait for client connection.\n",
    "while True:\n",
    "    c, addr = s.accept()  # Establish connection with client.\n",
    "    print\n",
    "    'Got connection from', addr\n",
    "    c.send('Thank you for connecting')\n",
    "    c.close()  # Close the connection"
   ],
   "metadata": {
    "collapsed": false,
    "pycharm": {
     "name": "#%%\n"
    }
   }
  },
  {
   "cell_type": "markdown",
   "source": [
    "### A Simple Client\n",
    "Let us write a very simple client program which opens a connection to a given port 12345 and given host. This is very simple to create a socket client using Python's socket module function.\n",
    "\n",
    "The socket.connect(host_name, port ) opens a TCP connection to hostname on the port. Once you have a socket open, you can read from it like any IO object. When done, remember to close it, as you would close a file.\n",
    "\n",
    "The following code is a very simple client that connects to a given host and port, reads any available data from the socket, and then exits."
   ],
   "metadata": {
    "collapsed": false
   }
  },
  {
   "cell_type": "code",
   "execution_count": null,
   "outputs": [],
   "source": [
    "#!/usr/bin/python           # This is client.py file\n",
    "\n",
    "import socket  # Import socket module\n",
    "\n",
    "s = socket.socket()  # Create a socket object\n",
    "host = socket.gethostname()  # Get local machine name\n",
    "port = 12345  # Reserve a port for your service.\n",
    "\n",
    "s.connect((host, port))\n",
    "print\n",
    "s.recv(1024)\n",
    "s.close()  # Close the socket when done"
   ],
   "metadata": {
    "collapsed": false,
    "pycharm": {
     "name": "#%%\n"
    }
   }
  },
  {
   "cell_type": "markdown",
   "source": [
    "Now run this server.py in background and then run above client.py to see the result."
   ],
   "metadata": {
    "collapsed": false
   }
  },
  {
   "cell_type": "markdown",
   "source": [
    "# Following would start a server in background.\n",
    "$ python server.py\n",
    "\n",
    "# Once server is started run client as follows:\n",
    "$ python client.py"
   ],
   "metadata": {
    "collapsed": false,
    "pycharm": {
     "name": "#%% md\n"
    }
   }
  },
  {
   "cell_type": "markdown",
   "source": [
    "This would produce following result:\n",
    "\n",
    ">> Got connection from ('127.0.0.1', 48437)\n",
    ">> Thank you for connecting"
   ],
   "metadata": {
    "collapsed": false
   }
  },
  {
   "cell_type": "markdown",
   "source": [
    "\n",
    "## Python Internet Modules\n",
    "\n",
    "<table>\n",
    "  <tbody>\n",
    "    <tr>\n",
    "      <td>\n",
    "        <b>Protocol Name\n",
    "        </b>\n",
    "      </td>\n",
    "      <td>\n",
    "        <b>The Function of the protocol\n",
    "        </b>\n",
    "      </td>\n",
    "      <td>\n",
    "        <b>Port No.\n",
    "        </b>\n",
    "      </td>\n",
    "      <td>\n",
    "        <b>Python Module associated\n",
    "        </b>\n",
    "      </td>\n",
    "    </tr>\n",
    "    <tr>\n",
    "      <td>\n",
    "        <span style=\"font-weight: 400;\">Gopher\n",
    "        </span>\n",
    "      </td>\n",
    "      <td>\n",
    "        <span style=\"font-weight: 400;\">Transfer of documents\n",
    "        </span>\n",
    "      </td>\n",
    "      <td>\n",
    "        <span style=\"font-weight: 400;\">70\n",
    "        </span>\n",
    "      </td>\n",
    "      <td>\n",
    "        <span style=\"font-weight: 400;\">Gopherlib, urllib\n",
    "        </span>\n",
    "      </td>\n",
    "    </tr>\n",
    "    <tr>\n",
    "      <td>\n",
    "        <span style=\"font-weight: 400;\">Telnet\n",
    "        </span>\n",
    "      </td>\n",
    "      <td>\n",
    "        <span style=\"font-weight: 400;\">Used for Command line\n",
    "        </span>\n",
    "      </td>\n",
    "      <td>\n",
    "        <span style=\"font-weight: 400;\">23\n",
    "        </span>\n",
    "      </td>\n",
    "      <td>\n",
    "        <span style=\"font-weight: 400;\">telnetlib\n",
    "        </span>\n",
    "      </td>\n",
    "    </tr>\n",
    "    <tr>\n",
    "      <td>\n",
    "        <span style=\"font-weight: 400;\">IMAP4\n",
    "        </span>\n",
    "      </td>\n",
    "      <td>\n",
    "        <span style=\"font-weight: 400;\">Used for fetching emails\n",
    "        </span>\n",
    "      </td>\n",
    "      <td>\n",
    "        <span style=\"font-weight: 400;\">143\n",
    "        </span>\n",
    "      </td>\n",
    "      <td>\n",
    "        <span style=\"font-weight: 400;\">impalib\n",
    "        </span>\n",
    "      </td>\n",
    "    </tr>\n",
    "    <tr>\n",
    "      <td>\n",
    "        <span style=\"font-weight: 400;\">POP3\n",
    "        </span>\n",
    "      </td>\n",
    "      <td>\n",
    "        <span style=\"font-weight: 400;\">Used for fetching emails\n",
    "        </span>\n",
    "      </td>\n",
    "      <td>\n",
    "        <span style=\"font-weight: 400;\">110\n",
    "        </span>\n",
    "      </td>\n",
    "      <td>\n",
    "        <span style=\"font-weight: 400;\">poplib\n",
    "        </span>\n",
    "      </td>\n",
    "    </tr>\n",
    "    <tr>\n",
    "      <td>\n",
    "        <span style=\"font-weight: 400;\">SMTP\n",
    "        </span>\n",
    "      </td>\n",
    "      <td>\n",
    "        <span style=\"font-weight: 400;\">Used for sending emails\n",
    "        </span>\n",
    "      </td>\n",
    "      <td>\n",
    "        <span style=\"font-weight: 400;\">25\n",
    "        </span>\n",
    "      </td>\n",
    "      <td>\n",
    "        <span style=\"font-weight: 400;\">smtlib\n",
    "        </span>\n",
    "      </td>\n",
    "    </tr>\n",
    "    <tr>\n",
    "      <td>\n",
    "        <span style=\"font-weight: 400;\">FTP\n",
    "        </span>\n",
    "      </td>\n",
    "      <td>\n",
    "        <span style=\"font-weight: 400;\">Used for file transfers\n",
    "        </span>\n",
    "      </td>\n",
    "      <td>\n",
    "        <span style=\"font-weight: 400;\">20\n",
    "        </span>\n",
    "      </td>\n",
    "      <td>\n",
    "        <span style=\"font-weight: 400;\">Ftblib, urllib\n",
    "        </span>\n",
    "      </td>\n",
    "    </tr>\n",
    "    <tr>\n",
    "      <td>\n",
    "        <span style=\"font-weight: 400;\">MNTP\n",
    "        </span>\n",
    "      </td>\n",
    "      <td>\n",
    "        <span style=\"font-weight: 400;\">Usenet news\n",
    "        </span>\n",
    "      </td>\n",
    "      <td>\n",
    "        <span style=\"font-weight: 400;\">119\n",
    "        </span>\n",
    "      </td>\n",
    "      <td>\n",
    "        <span style=\"font-weight: 400;\">mntplib\n",
    "        </span>\n",
    "      </td>\n",
    "    </tr>\n",
    "    <tr>\n",
    "      <td>\n",
    "        <span style=\"font-weight: 400;\">HTTP\n",
    "        </span>\n",
    "      </td>\n",
    "      <td>\n",
    "        <span style=\"font-weight: 400;\">Used for web pages\n",
    "        </span>\n",
    "      </td>\n",
    "      <td>\n",
    "        <span style=\"font-weight: 400;\">80\n",
    "        </span>\n",
    "      </td>\n",
    "      <td>\n",
    "        <span style=\"font-weight: 400;\">Httplib, urllib\n",
    "        </span>\n",
    "      </td>\n",
    "    </tr>\n",
    "  </tbody>\n",
    "</table>\n"
   ],
   "metadata": {
    "collapsed": false
   }
  },
  {
   "cell_type": "markdown",
   "source": [
    "\n",
    "## Wrapping up\n",
    "\n",
    "These are the fundamental properties of Python as a networking language. Thus, Python is a general-purpose programming language. It is object-oriented and interactive. It uses English keywords frequently, which makes it easy to understand.\n",
    "\n",
    "### How is Python utilized in networking?\n",
    "Learning the usage of Python in networking is necessary for all the upcoming network engineers to build an excellent career in this field. The main use of Python is to build different scripts that can automate specific complex network configurations. Complete support to the network protocols is provided by the standard library of Python. Python is much more useful than other languages in networking because of the code simplicity. Task automation for all the complex tasks is made easy with the help of python programming. This is how Python is utilized in networking.\n",
    "\n",
    "### What is meant by Python Network Programming?\n",
    "The process of writing programs that could be used to communicate across the network with all the other programs is called Network Programming. In Python Network Programming, Python is used as the programming language for handling all the computer networking requirements. For instance, if you wish to create and run any local web server or directly download some files in your system from a URL, you can make use of Python Network Programming.\n",
    "Using Python, the entire network programming tasks become easy and simple. There are plenty of Python libraries to simplify the tasks for the programmers and software developers. For getting into python network programming, you need to be clear with the basics of writing codes in the python language. Once you have sound knowledge about the language, you can build a great career in this field.\n",
    "\n",
    "### How is Python connected to the internet?\n",
    "The python module named urllib is useful for connecting and opening URLs from the internet. Every URL action can be performed with the help of this library. You can even retrieve different forms of data from the internet with the help of Python by using the urllib library.Import urllib in the program\n",
    "\n"
   ],
   "metadata": {
    "collapsed": false
   }
  }
 ],
 "metadata": {
  "kernelspec": {
   "display_name": "Python 3",
   "language": "python",
   "name": "python3"
  },
  "language_info": {
   "codemirror_mode": {
    "name": "ipython",
    "version": 2
   },
   "file_extension": ".py",
   "mimetype": "text/x-python",
   "name": "python",
   "nbconvert_exporter": "python",
   "pygments_lexer": "ipython2",
   "version": "2.7.6"
  }
 },
 "nbformat": 4,
 "nbformat_minor": 0
}