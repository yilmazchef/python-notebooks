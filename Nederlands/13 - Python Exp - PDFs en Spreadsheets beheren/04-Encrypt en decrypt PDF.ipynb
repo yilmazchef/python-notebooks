{
 "cells": [
  {
   "cell_type": "markdown",
   "metadata": {
    "collapsed": false,
    "pycharm": {
     "name": "#%% md\n"
    }
   },
   "source": [
    "<center>\n",
    "    <img src='https://intecbrussel.be/img/logo3.png' width='400px' height='auto'/>\n",
    "    <br/>\n",
    "    <em>Python les-materialen</em>\n",
    "</center>"
   ]
  },
  {
   "cell_type": "markdown",
   "metadata": {
    "collapsed": false
   },
   "source": [
    "# Encrypt en decrypt het pdf-bestand"
   ]
  },
  {
   "cell_type": "code",
   "execution_count": 1,
   "metadata": {
    "scrolled": true
   },
   "outputs": [
    {
     "name": "stdout",
     "output_type": "stream",
     "text": [
      "Requirement already satisfied: PyPDF2 in c:\\users\\administrator\\appdata\\local\\programs\\python\\python310\\lib\\site-packages (1.26.0)\n",
      "Note: you may need to restart the kernel to use updated packages.\n"
     ]
    }
   ],
   "source": [
    "pip install PyPDF2"
   ]
  },
  {
   "cell_type": "markdown",
   "metadata": {
    "pycharm": {
     "name": "#%% md\n"
    }
   },
   "source": [
    "## Encrypt"
   ]
  },
  {
   "cell_type": "code",
   "execution_count": null,
   "metadata": {},
   "outputs": [],
   "source": [
    "from PyPDF2 import PdfFileWriter, PdfFileReader"
   ]
  },
  {
   "cell_type": "markdown",
   "metadata": {
    "collapsed": false,
    "pycharm": {
     "name": "#%% md\n"
    }
   },
   "source": [
    "1. read the pdf file and counts the total number of pages."
   ]
  },
  {
   "cell_type": "code",
   "execution_count": 3,
   "metadata": {
    "collapsed": false,
    "pycharm": {
     "name": "#%%\n"
    }
   },
   "outputs": [
    {
     "name": "stdout",
     "output_type": "stream",
     "text": [
      "Encryption finished- file is saved to the drive!\n"
     ]
    }
   ],
   "source": [
    "\n",
    "file = PdfFileReader(\"raw_document.pdf\") # You may specify the Name of pdf here.\n",
    "total_page = file.numPages # Count the number of pages in the pdf file\n",
    "\n",
    "out = PdfFileWriter() # Write the file to a new file using object \"out\"\n",
    "for page_i in range(total_page): # go through every page of pdf and add to new file.\n",
    "    page_data = file.getPage(page_i) # The data of the page\n",
    "    out.addPage(page_data) # Add it to the new file\n",
    "\n",
    "# Write your password to encrypt the pdf\n",
    "password = input(\"Please enter password to encrypt the pdf: \")\n",
    "\n",
    "out.encrypt(password) # It will encrypt the pdf with given password.\n",
    "\n",
    "# Encrypted pdf will be saved with file name \"encrypted_document.pdf\"\n",
    "with open(\"encrypted_document.pdf\", \"wb\") as f:\n",
    "    out.write(f) # Ceation of encrypted file.\n",
    "print(\"Encryption finished- file is saved to the drive!\")"
   ]
  },
  {
   "cell_type": "markdown",
   "metadata": {
    "pycharm": {
     "name": "#%% md\n"
    }
   },
   "source": [
    "## Decrypt het pdf-bestand"
   ]
  },
  {
   "cell_type": "markdown",
   "metadata": {
    "collapsed": false,
    "pycharm": {
     "name": "#%% md\n"
    }
   },
   "source": [
    ">> U hebt exact dezelfde pdf nodig die wordt gebruikt voor de codering van het bovenstaande bestand"
   ]
  },
  {
   "cell_type": "code",
   "execution_count": null,
   "metadata": {},
   "outputs": [
    {
     "ename": "",
     "evalue": "",
     "output_type": "error",
     "traceback": [
      "\u001b[1;31mFailed to start the Kernel. \n",
      "AttributeError: 'SelectIOLoop' object has no attribute 'asyncio_loop'. \n",
      "View Jupyter <a href='command:jupyter.viewOutput'>log</a> for further details."
     ]
    }
   ],
   "source": [
    "from PyPDF2 import PdfFileWriter, PdfFileReader\n",
    "  \n",
    "out = PdfFileWriter()  \n",
    "file = PdfFileReader(\"encrypted_document.pdf\") # Read the encrypted file.\n",
    "password = input(\"Please enter password of the encrypted pdf: \")\n",
    "\n",
    "if file.isEncrypted: # Check the pdf whether encrypted or not.    \n",
    "    file.decrypt(password) # If encrypted, decrypt it with the same password\n",
    "    \n",
    "    for page_i in range(file.numPages): # Create new file after decrypt\n",
    "        page_data = file.getPage(page_i) # The data of the page\n",
    "        out.addPage(page_data) # Add it to the new file\n",
    "      \n",
    "    with open(\"decrypted_document.pdf\", \"wb\") as f: # Open the \"Decrypted_file.pdf\"\n",
    "        out.write(f) # Ceation of Decrypted file.\n",
    "  \n",
    "    # Print success message when Done\n",
    "    print(\"Decryption finished- file is saved to the drive!\")\n",
    "    \n",
    "else:\n",
    "    print(\"Either file was not encrypted or was decrypted.\") # If file is decrypted or not encrypted"
   ]
  }
 ],
 "metadata": {
  "kernelspec": {
   "display_name": "Python 3",
   "language": "python",
   "name": "python3"
  },
  "language_info": {
   "codemirror_mode": {
    "name": "ipython",
    "version": 3
   },
   "file_extension": ".py",
   "mimetype": "text/x-python",
   "name": "python",
   "nbconvert_exporter": "python",
   "pygments_lexer": "ipython3",
   "version": "3.10.3"
  },
  "toc": {
   "base_numbering": 1,
   "nav_menu": {},
   "number_sections": true,
   "sideBar": true,
   "skip_h1_title": false,
   "title_cell": "Table of Contents",
   "title_sidebar": "Contents",
   "toc_cell": false,
   "toc_position": {},
   "toc_section_display": true,
   "toc_window_display": false
  }
 },
 "nbformat": 4,
 "nbformat_minor": 4
}
