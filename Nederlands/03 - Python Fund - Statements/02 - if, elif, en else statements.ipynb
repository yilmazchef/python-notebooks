{
 "cells": [
  {
   "cell_type": "markdown",
   "metadata": {},
   "source": [
    "<center>\n",
    "    <img src='https://intecbrussel.be/img/logo3.png' width='400px' height='auto'/>\n",
    "    <br/>\n",
    "    <em>Python les-materialen</em>\n",
    "</center>"
   ]
  },
  {
   "cell_type": "markdown",
   "metadata": {},
   "source": [
    "# if, elif, else Verklaringen\n",
    "\n",
    "<code>if</code>-statements in Python stellen ons in staat om de computer te vertellen alternatieve acties uit te voeren op basis van een bepaalde reeks (een of meerdere) resultaten.\n",
    "\n",
    "Verbaal kunnen we ons voorstellen dat we tegen de computer zeggen:\n",
    "\n",
    "\"Hé, als dit geval zich voordoet, voer dan een actie/instructie uit\"\n",
    "\n",
    "We kunnen het idee dan verder uitbreiden met <code>elif</code> en <code>else</code> statements, waarmee we de computer kunnen vertellen:\n",
    "\n",
    "\"Hé, als dit geval zich voordoet, voer dan een actie uit. Anders, als een ander geval zich voordoet, voer dan een andere actie uit. Anders, als *geen* van de bovenstaande gevallen is gebeurd, voer dan deze actie uit.\"\n",
    "\n",
    "Laten we eens kijken naar de syntaxisindeling voor <code>if</code>-statements om hier een beter idee van te krijgen:\n",
    "\n",
    "    if case1:\n",
    "        perform action1\n",
    "    elif case2:\n",
    "        perform action2\n",
    "    else: \n",
    "        perform action3"
   ]
  },
  {
   "cell_type": "markdown",
   "metadata": {},
   "source": [
    "## Eerste voorbeeld\n",
    "\n",
    "Laten we een snel voorbeeld hiervan bekijken:"
   ]
  },
  {
   "cell_type": "code",
   "execution_count": 1,
   "metadata": {},
   "outputs": [
    {
     "name": "stdout",
     "output_type": "stream",
     "text": [
      "It was true!\n"
     ]
    }
   ],
   "source": [
    "if True:\n",
    "    print('It was true!')"
   ]
  },
  {
   "cell_type": "markdown",
   "metadata": {},
   "source": [
    "Laten we nog andere logica toevoegen:"
   ]
  },
  {
   "cell_type": "code",
   "execution_count": 2,
   "metadata": {},
   "outputs": [
    {
     "name": "stdout",
     "output_type": "stream",
     "text": [
      "I will be printed in any case where x is not true\n"
     ]
    }
   ],
   "source": [
    "x = False\n",
    "\n",
    "if x:\n",
    "    print('x was True!')\n",
    "else:\n",
    "    print('I will be printed in any case where x is not true')"
   ]
  },
  {
   "cell_type": "markdown",
   "metadata": {},
   "source": [
    "### Meerdere vestigingen (branches)\n",
    "\n",
    "Laten we een vollediger beeld krijgen van hoe ver <code>if</code>, <code>elif</code> en <code>else</code> ons kunnen brengen!\n",
    "\n",
    "We schrijven dit uit in een geneste structuur. Let op hoe de <code>if</code>, <code>elif</code> en <code>else</code> op één lijn liggen in de code. Dit kan je helpen te zien wat <code>if</code> is gerelateerd aan wat <code>elif</code> of <code>else</code>-statements.\n",
    "\n",
    "We zullen een vergelijking-syntaxis voor Python opnieuw introduceren."
   ]
  },
  {
   "cell_type": "code",
   "execution_count": 3,
   "metadata": {},
   "outputs": [
    {
     "name": "stdout",
     "output_type": "stream",
     "text": [
      "Welcome to the bank!\n"
     ]
    }
   ],
   "source": [
    "loc = 'Bank'\n",
    "\n",
    "if loc == 'Auto Shop':\n",
    "    print('Welcome to the Auto Shop!')\n",
    "elif loc == 'Bank':\n",
    "    print('Welcome to the bank!')\n",
    "else:\n",
    "    print('Where are you?')"
   ]
  },
  {
   "cell_type": "markdown",
   "metadata": {},
   "source": [
    "Merk op hoe de geneste <code>if</code>-instructies elk worden gecontroleerd totdat een True-boolean ervoor zorgt dat de geneste code eronder wordt uitgevoerd. \n",
    "Houd er ook rekening mee dat u zoveel <code>elif</code>-statements kunt invoeren als u wilt voordat u afsluit met een <code>else</code>.\n",
    "\n",
    "Laten we nog twee eenvoudige voorbeelden maken voor de instructies <code>if</code>, <code>elif</code> en <code>else</code>:"
   ]
  },
  {
   "cell_type": "code",
   "execution_count": 4,
   "metadata": {},
   "outputs": [
    {
     "name": "stdout",
     "output_type": "stream",
     "text": [
      "Welcome Sammy!\n"
     ]
    }
   ],
   "source": [
    "person = 'Sammy'\n",
    "\n",
    "if person == 'Sammy':\n",
    "    print('Welcome Sammy!')\n",
    "else:\n",
    "    print(\"Welcome, what's your name?\")"
   ]
  },
  {
   "cell_type": "code",
   "execution_count": 5,
   "metadata": {},
   "outputs": [
    {
     "name": "stdout",
     "output_type": "stream",
     "text": [
      "Welcome George!\n"
     ]
    }
   ],
   "source": [
    "person = 'George'\n",
    "\n",
    "if person == 'Sammy':\n",
    "    print('Welcome Sammy!')\n",
    "elif person =='George':\n",
    "    print('Welcome George!')\n",
    "else:\n",
    "    print(\"Welcome, what's your name?\")"
   ]
  },
  {
   "cell_type": "markdown",
   "metadata": {},
   "source": [
    "## Inspringing (Indentation)\n",
    "\n",
    "Het is belangrijk om goed te begrijpen hoe inspringen in Python werkt om de structuur en volgorde van uw code te behouden. We zullen dit onderwerp opnieuw bespreken wanneer we beginnen met het bouwen van functies!"
   ]
  }
 ],
 "metadata": {
  "kernelspec": {
   "display_name": "Python 3",
   "language": "python",
   "name": "python3"
  },
  "language_info": {
   "codemirror_mode": {
    "name": "ipython",
    "version": 3
   },
   "file_extension": ".py",
   "mimetype": "text/x-python",
   "name": "python",
   "nbconvert_exporter": "python",
   "pygments_lexer": "ipython3",
   "version": "3.6.6"
  }
 },
 "nbformat": 4,
 "nbformat_minor": 1
}
