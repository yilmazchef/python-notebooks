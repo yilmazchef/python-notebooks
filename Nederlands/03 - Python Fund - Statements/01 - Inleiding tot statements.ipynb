{
 "cells": [
  {
   "cell_type": "markdown",
   "metadata": {},
   "source": [
    "<center>\n",
    "    <img src='https://intecbrussel.be/img/logo3.png' width='400px' height='auto'/>\n",
    "    <br/>\n",
    "    <em>Python les-materialen</em>\n",
    "</center>"
   ]
  },
  {
   "cell_type": "markdown",
   "metadata": {
    "slideshow": {
     "slide_type": "slide"
    }
   },
   "source": [
    "# Inleiding tot statements\n",
    "\n",
    "In deze lezing zullen we een kort overzicht geven van Python-statements. Deze lezing zal de nadruk leggen op verschillen tussen Python en andere talen zoals C++ of Java.\n",
    "\n",
    "Er zijn twee redenen waarom we deze benadering gebruiken om de context van Python-statements te leren:\n",
    "\n",
    "     1.) Als je uit een andere taal komt, zal dit je begrip van Python snel versnellen.\n",
    "     2.) Door uitspraken te leren, kunt u in de toekomst gemakkelijker andere talen lezen."
   ]
  },
  {
   "cell_type": "markdown",
   "metadata": {
    "slideshow": {
     "slide_type": "slide"
    }
   },
   "source": [
    "## Python versus andere programmeertalen\n",
    "\n",
    "Laten we een eenvoudige verklaring maken die zegt:\n",
    "\"Als a groter is dan b, wijs 2 toe aan a en 4 aan b\"\n",
    "\n",
    "Bekijk deze twee if-statements eens (we zullen binnenkort leren over het uitbouwen van if-statements).\n",
    "\n",
    "**Versie 1 (Andere talen)**\n",
    "\n",
    "    if (a>b){\n",
    "        a = 2;\n",
    "        b = 4;\n",
    "    }\n",
    "                        \n",
    "**Versie 2 (Python)**   \n",
    "\n",
    "    if a>b:\n",
    "        a = 2\n",
    "        b = 4"
   ]
  },
  {
   "cell_type": "markdown",
   "metadata": {},
   "source": [
    "Je zult merken dat Python minder rommelig (cluttered) en veel leesbaarder is dan de eerste versie. Hoe regelt Python dit?\n",
    "\n",
    "Laten we de belangrijkste verschillen doornemen:\n",
    "\n",
    "Python verwijdert () en {} door twee hoofdfactoren op te nemen: een *dubbele punt* en *spatie*. De verklaring wordt afgesloten met een dubbele punt en er wordt spaties gebruikt (inspringing) om te beschrijven wat er gebeurt in het geval van de verklaring.\n",
    "\n",
    "Een ander groot verschil is het ontbreken (lack) van puntkomma's in Python. Puntkomma's worden in veel andere talen gebruikt om het einde van een instructie aan te duiden, maar in Python is het einde van een regel hetzelfde als het einde van een instructie.\n",
    "\n",
    "Laten we tot slot, om dit korte overzicht van verschillen te beëindigen, de inspringing-syntaxis (indentation) in Python versus andere talen eens nader bekijken:\n",
    "\n",
    "## Inspringing (Indentation)\n",
    "\n",
    "Hier is wat pseudo-code om het gebruik van spatie en inspringing in Python aan te geven:\n",
    "\n",
    "**Andere talen**\n",
    "\n",
    "    if (x)\n",
    "        if(y)\n",
    "            code-statement;\n",
    "    else\n",
    "        another-code-statement;\n",
    "        \n",
    "**Python**\n",
    "    \n",
    "    if x:\n",
    "        if y:\n",
    "            code-statement\n",
    "    else:\n",
    "        another-code-statement"
   ]
  },
  {
   "cell_type": "markdown",
   "metadata": {},
   "source": [
    "Merk op hoe Python zo sterk wordt aangedreven door code-inspringing (code-indentation) en spatie. Dit betekent dat leesbaarheid van de code een kernonderdeel is van het ontwerp van de Python-taal.\n",
    "\n",
    "Laten we nu dieper duiken door dit soort uitspraken in Python te coderen!"
   ]
  },
  {
   "cell_type": "markdown",
   "metadata": {
    "collapsed": true
   },
   "source": [
    "## Tijd om te coderen!"
   ]
  }
 ],
 "metadata": {
  "kernelspec": {
   "display_name": "Python 3",
   "language": "python",
   "name": "python3"
  },
  "language_info": {
   "codemirror_mode": {
    "name": "ipython",
    "version": 3
   },
   "file_extension": ".py",
   "mimetype": "text/x-python",
   "name": "python",
   "nbconvert_exporter": "python",
   "pygments_lexer": "ipython3",
   "version": "3.6.6"
  }
 },
 "nbformat": 4,
 "nbformat_minor": 1
}
