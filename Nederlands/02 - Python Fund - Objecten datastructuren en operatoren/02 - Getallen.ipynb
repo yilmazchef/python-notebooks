{
 "cells": [
  {
   "cell_type": "markdown",
   "metadata": {},
   "source": [
    "<center>\n",
    "    <img src='https://intecbrussel.be/img/logo3.png' width='400px' height='auto'/>\n",
    "    <br/>\n",
    "    <em>Python les-materialen</em>\n",
    "</center>"
   ]
  },
  {
   "cell_type": "markdown",
   "metadata": {},
   "source": [
    "# Getallen en meer in Python!\n",
    "\n",
    "In deze lezing leren we over getallen in Python en hoe we ze kunnen gebruiken.\n",
    "\n",
    "We leren over de volgende onderwerpen:\n",
    "\n",
    "     1.) Soorten getallen in Python\n",
    "     2.) Basis rekenen\n",
    "     3.) Verschillen tussen klassieke indeling en vloerindeling\n",
    "     4.) Objecttoewijzing (EN: assignments) in Python"
   ]
  },
  {
   "cell_type": "markdown",
   "metadata": {},
   "source": [
    "## Soorten nummers\n",
    "\n",
    "Python heeft verschillende \"types\" getallen (numerieke letterlijke waarden). We zullen ons vooral concentreren op gehele getallen en getallen met drijvende komma.\n",
    "\n",
    "Gehele getallen zijn slechts gehele getallen, positief of negatief. Bijvoorbeeld: 2 en -2 zijn voorbeelden van gehele getallen.\n",
    "\n",
    "Drijvende-kommagetallen in Python zijn opmerkelijk omdat ze een decimaalteken bevatten of een exponentiële (e) gebruiken om het getal te definiëren. 2.0 en -2.1 zijn bijvoorbeeld voorbeelden van getallen met drijvende komma. 4E2 (4 keer 10 tot de macht 2) is ook een voorbeeld van een getal met drijvende komma in Python.\n",
    "\n",
    "Gedurende deze cursus zullen we werken met gehele getallen of eenvoudige float-nummertypes.\n",
    "\n",
    "Hier is een tabel met de twee hoofdtypen die we het grootste deel van onze tijd zullen besteden aan het werken met enkele voorbeelden:"
   ]
  },
  {
   "cell_type": "markdown",
   "metadata": {},
   "source": [
    "<table>\n",
    "<tr>\n",
    "    <th>Voorbeelden</th> \n",
    "    <th>Nummer-\"Type\"</th>\n",
    "</tr>\n",
    "\n",
    "<tr>\n",
    "    <td>1,2,-5,1000</td>\n",
    "    <td>Integers</td> \n",
    "</tr>\n",
    "\n",
    "<tr>\n",
    "    <td>1.2,-0.5,2e2,3E2</td> \n",
    "    <td>Floating-point nummers</td> \n",
    "</tr>\n",
    " </table>"
   ]
  },
  {
   "cell_type": "markdown",
   "metadata": {},
   "source": [
    " \n",
    " \n",
    "Laten we nu beginnen met wat basisrekenkunde."
   ]
  },
  {
   "cell_type": "markdown",
   "metadata": {},
   "source": [
    "### Basis rekenen"
   ]
  },
  {
   "cell_type": "code",
   "execution_count": 1,
   "metadata": {},
   "outputs": [
    {
     "data": {
      "text/plain": [
       "3"
      ]
     },
     "execution_count": 1,
     "metadata": {},
     "output_type": "execute_result"
    }
   ],
   "source": [
    "# Sum\n",
    "2+1"
   ]
  },
  {
   "cell_type": "code",
   "execution_count": 2,
   "metadata": {
    "scrolled": true
   },
   "outputs": [
    {
     "data": {
      "text/plain": [
       "1"
      ]
     },
     "execution_count": 2,
     "metadata": {},
     "output_type": "execute_result"
    }
   ],
   "source": [
    "# Aftrekken\n",
    "2-1"
   ]
  },
  {
   "cell_type": "code",
   "execution_count": 3,
   "metadata": {},
   "outputs": [
    {
     "data": {
      "text/plain": [
       "4"
      ]
     },
     "execution_count": 3,
     "metadata": {},
     "output_type": "execute_result"
    }
   ],
   "source": [
    "# Vermenigvuldiging\n",
    "2*2"
   ]
  },
  {
   "cell_type": "code",
   "execution_count": 4,
   "metadata": {},
   "outputs": [
    {
     "data": {
      "text/plain": [
       "1.5"
      ]
     },
     "execution_count": 4,
     "metadata": {},
     "output_type": "execute_result"
    }
   ],
   "source": [
    "# Divisie\n",
    "3/2"
   ]
  },
  {
   "cell_type": "code",
   "execution_count": 1,
   "metadata": {},
   "outputs": [
    {
     "data": {
      "text/plain": [
       "1"
      ]
     },
     "execution_count": 1,
     "metadata": {},
     "output_type": "execute_result"
    }
   ],
   "source": [
    "# Verdiepingsverdeling (floor division)\n",
    "7//4"
   ]
  },
  {
   "cell_type": "markdown",
   "metadata": {},
   "source": [
    "**Wauw! Wat is er zojuist gebeurd? De laatste keer dat ik keek, is 7 gedeeld door 4 gelijk aan 1,75 niet 1!**\n",
    "\n",
    "De reden dat we dit resultaat krijgen, is omdat we de divisie \"*verdiepings (floor division)*\" gebruiken. De //-operator (twee schuine strepen naar voren) kapt het decimaalteken af zonder afronding en retourneert een geheel getal."
   ]
  },
  {
   "cell_type": "markdown",
   "metadata": {},
   "source": [
    "**Dus wat als we gewoon de rest willen na de deling?**"
   ]
  },
  {
   "cell_type": "code",
   "execution_count": 2,
   "metadata": {},
   "outputs": [
    {
     "data": {
      "text/plain": [
       "3"
      ]
     },
     "execution_count": 2,
     "metadata": {},
     "output_type": "execute_result"
    }
   ],
   "source": [
    "# Modulo\n",
    "7%4"
   ]
  },
  {
   "cell_type": "markdown",
   "metadata": {},
   "source": [
    "4 gaat één keer in 7, met een rest van 3. De %-operator retourneert de rest na deling."
   ]
  },
  {
   "cell_type": "code",
   "execution_count": 3,
   "metadata": {},
   "outputs": [
    {
     "data": {
      "text/plain": [
       "41.0"
      ]
     },
     "execution_count": 3,
     "metadata": {},
     "output_type": "execute_result"
    }
   ],
   "source": [
    "# Complexer Calculations\n",
    "(5*4)+(2*10)+(10/10)"
   ]
  },
  {
   "cell_type": "markdown",
   "metadata": {},
   "source": [
    "### Rekenkunde vervolg"
   ]
  },
  {
   "cell_type": "code",
   "execution_count": 1,
   "metadata": {},
   "outputs": [
    {
     "data": {
      "text/plain": "8"
     },
     "execution_count": 1,
     "metadata": {},
     "output_type": "execute_result"
    }
   ],
   "source": [
    "# Machten\n",
    "2**3"
   ]
  },
  {
   "cell_type": "code",
   "execution_count": 5,
   "metadata": {},
   "outputs": [
    {
     "data": {
      "text/plain": [
       "2.0"
      ]
     },
     "execution_count": 5,
     "metadata": {},
     "output_type": "execute_result"
    }
   ],
   "source": [
    "# Wortels\n",
    "4**0.5"
   ]
  },
  {
   "cell_type": "code",
   "execution_count": 6,
   "metadata": {},
   "outputs": [
    {
     "data": {
      "text/plain": [
       "105"
      ]
     },
     "execution_count": 6,
     "metadata": {},
     "output_type": "execute_result"
    }
   ],
   "source": [
    "# Volgorde en prioriteit van instructies in Python\n",
    "2 + 10 * 10 + 3"
   ]
  },
  {
   "cell_type": "code",
   "execution_count": 7,
   "metadata": {},
   "outputs": [
    {
     "data": {
      "text/plain": [
       "156"
      ]
     },
     "execution_count": 7,
     "metadata": {},
     "output_type": "execute_result"
    }
   ],
   "source": [
    "# Kan haakjes gebruiken om het volgorde te specificeren\n",
    "(2+10) * (10+3)"
   ]
  },
  {
   "cell_type": "markdown",
   "metadata": {},
   "source": [
    "## Variabele Toewijzingen (Assignments)\n",
    "\n",
    "Nu we hebben gezien hoe we getallen in Python als rekenmachine kunnen gebruiken, laten we eens kijken hoe we namen kunnen toewijzen en variabelen kunnen maken.\n",
    "\n",
    "We gebruiken een enkel gelijkteken om labels aan variabelen toe te wijzen. Laten we een paar voorbeelden bekijken van hoe we dit kunnen doen."
   ]
  },
  {
   "cell_type": "code",
   "execution_count": 8,
   "metadata": {
    "collapsed": true
   },
   "outputs": [],
   "source": [
    "# Laten we een object maken met de naam \"a\" en het nummer 5 toewijzen\n",
    "a = 5"
   ]
  },
  {
   "cell_type": "markdown",
   "metadata": {},
   "source": [
    "Als ik nu *a* in mijn Python-script aanroep, zal Python het behandelen als het getal 5."
   ]
  },
  {
   "cell_type": "code",
   "execution_count": 9,
   "metadata": {},
   "outputs": [
    {
     "data": {
      "text/plain": [
       "10"
      ]
     },
     "execution_count": 9,
     "metadata": {},
     "output_type": "execute_result"
    }
   ],
   "source": [
    "# Het toevoegen van de objecten\n",
    "a+a"
   ]
  },
  {
   "cell_type": "markdown",
   "metadata": {},
   "source": [
    "Wat gebeurt er bij herplaatsing? Laat Python het ons overschrijven?"
   ]
  },
  {
   "cell_type": "code",
   "execution_count": 10,
   "metadata": {
    "collapsed": true
   },
   "outputs": [],
   "source": [
    "# Hertoewijzing (Reassignment)\n",
    "a = 10"
   ]
  },
  {
   "cell_type": "code",
   "execution_count": 11,
   "metadata": {},
   "outputs": [
    {
     "data": {
      "text/plain": [
       "10"
      ]
     },
     "execution_count": 11,
     "metadata": {},
     "output_type": "execute_result"
    }
   ],
   "source": [
    "# Controleren\n",
    "a"
   ]
  },
  {
   "cell_type": "markdown",
   "metadata": {},
   "source": [
    "Ja! Met Python kunt u over toegewezen variabelenamen schrijven. We kunnen de variabelen ook zelf gebruiken bij het opnieuw toewijzen. \n",
    "Hier is een voorbeeld van wat ik bedoel:"
   ]
  },
  {
   "cell_type": "code",
   "execution_count": 12,
   "metadata": {},
   "outputs": [
    {
     "data": {
      "text/plain": [
       "10"
      ]
     },
     "execution_count": 12,
     "metadata": {},
     "output_type": "execute_result"
    }
   ],
   "source": [
    "# Controleren\n",
    "a"
   ]
  },
  {
   "cell_type": "code",
   "execution_count": 13,
   "metadata": {
    "collapsed": true
   },
   "outputs": [],
   "source": [
    "# Gebruik a om a opnieuw te definiëren\n",
    "a = a + a"
   ]
  },
  {
   "cell_type": "code",
   "execution_count": 14,
   "metadata": {},
   "outputs": [
    {
     "data": {
      "text/plain": [
       "20"
      ]
     },
     "execution_count": 14,
     "metadata": {},
     "output_type": "execute_result"
    }
   ],
   "source": [
    "# Controleren \n",
    "a"
   ]
  },
  {
   "cell_type": "markdown",
   "metadata": {},
   "source": [
    "De namen die u gebruikt bij het maken van deze labels, moeten aan een paar regels voldoen:\n",
    "\n",
    "     1. Namen mogen niet beginnen met een cijfer.\n",
    "     2. Er mogen geen spaties in de naam staan, gebruik in plaats daarvan _.\n",
    "     3. Kan geen van deze symbolen gebruiken:'\",<>/?|\\()!@#$%^&*~-+\n",
    "     4. Het wordt als best practice (PEP8) beschouwd dat namen in kleine letters zijn.\n",
    "     5. Vermijd het gebruik van de tekens 'l' (kleine letter l), 'O' (hoofdletter o), of 'I' (ı in hoofdletters) als variabelenamen van één teken.\n",
    "     6. Vermijd het gebruik van woorden die een speciale betekenis hebben in Python, zoals \"list\" en \"str\"\n",
    "\n",
    "\n",
    "Het gebruik van variabelenamen kan een zeer handige manier zijn om verschillende variabelen in Python bij te houden. Bijvoorbeeld:"
   ]
  },
  {
   "cell_type": "code",
   "execution_count": 15,
   "metadata": {},
   "outputs": [],
   "source": [
    "# Gebruik objectnamen om beter bij te houden wat er in uw code gebeurt!\n",
    "my_income = 100\n",
    "\n",
    "tax_rate = 0.1\n",
    "\n",
    "my_taxes = my_income*tax_rate"
   ]
  },
  {
   "cell_type": "code",
   "execution_count": 16,
   "metadata": {},
   "outputs": [
    {
     "data": {
      "text/plain": [
       "10.0"
      ]
     },
     "execution_count": 16,
     "metadata": {},
     "output_type": "execute_result"
    }
   ],
   "source": [
    "# Toon mijn belastingen!\n",
    "my_taxes"
   ]
  },
  {
   "cell_type": "markdown",
   "metadata": {},
   "source": [
    "Dus wat hebben we geleerd? We leerden enkele basisprincipes van getallen in Python. We hebben ook geleerd hoe we moeten rekenen en Python als basisrekenmachine kunnen gebruiken. Vervolgens hebben we het afgesloten met het leren over variabele toewijzing in Python.\n"
   ]
  }
 ],
 "metadata": {
  "anaconda-cloud": {},
  "kernelspec": {
   "display_name": "Python 3 (ipykernel)",
   "language": "python",
   "name": "python3"
  },
  "language_info": {
   "codemirror_mode": {
    "name": "ipython",
    "version": 3
   },
   "file_extension": ".py",
   "mimetype": "text/x-python",
   "name": "python",
   "nbconvert_exporter": "python",
   "pygments_lexer": "ipython3",
   "version": "3.10.2"
  }
 },
 "nbformat": 4,
 "nbformat_minor": 1
}